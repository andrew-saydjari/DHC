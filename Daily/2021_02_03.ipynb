{
 "cells": [
  {
   "cell_type": "code",
   "execution_count": 1,
   "id": "contemporary-luther",
   "metadata": {
    "ExecuteTime": {
     "end_time": "2021-02-03T21:54:47.311000-05:00",
     "start_time": "2021-02-04T02:54:23.418Z"
    }
   },
   "outputs": [
    {
     "name": "stderr",
     "output_type": "stream",
     "text": [
      "┌ Info: Precompiling DHC_2DUtils [top-level]\n",
      "└ @ Base loading.jl:1278\n"
     ]
    }
   ],
   "source": [
    "## Preloads\n",
    "using Statistics\n",
    "using FFTW\n",
    "using Plots\n",
    "using BenchmarkTools\n",
    "using Profile\n",
    "using LinearAlgebra\n",
    "using Measures\n",
    "using HDF5\n",
    "using Plots\n",
    "push!(LOAD_PATH, \"/Users/saydjari/Dropbox/GradSchool_AKS/Doug/Projects/DHC/main/\")\n",
    "using DHC_2DUtils\n",
    "using MLDatasets\n",
    "using Images\n",
    "using HDF5\n",
    "theme(:juno)"
   ]
  },
  {
   "cell_type": "code",
   "execution_count": 3,
   "id": "northern-fundamentals",
   "metadata": {
    "ExecuteTime": {
     "end_time": "2021-02-03T21:55:30.179000-05:00",
     "start_time": "2021-02-04T02:55:02.265Z"
    }
   },
   "outputs": [
    {
     "name": "stderr",
     "output_type": "stream",
     "text": [
      "\u001b[32m\u001b[1m   Updating\u001b[22m\u001b[39m registry at `~/.julia/registries/General`\n",
      "######################################################################### 100.0%\n",
      "\u001b[32m\u001b[1m  Resolving\u001b[22m\u001b[39m package versions...\n",
      "\u001b[32m\u001b[1m  Installed\u001b[22m\u001b[39m Gumbo_jll ────────── v0.10.1+1\n",
      "\u001b[32m\u001b[1m  Installed\u001b[22m\u001b[39m Gumbo ────────────── v0.8.0\n",
      "\u001b[32m\u001b[1m  Installed\u001b[22m\u001b[39m Cascadia ─────────── v1.0.1\n",
      "\u001b[32m\u001b[1m  Installed\u001b[22m\u001b[39m DataDepsGenerators ─ v0.5.1\n",
      "\u001b[32m\u001b[1mUpdating\u001b[22m\u001b[39m `~/.julia/environments/v1.5/Project.toml`\n",
      " \u001b[90m [a14fa8ac] \u001b[39m\u001b[92m+ DataDepsGenerators v0.5.1\u001b[39m\n",
      "\u001b[32m\u001b[1mUpdating\u001b[22m\u001b[39m `~/.julia/environments/v1.5/Manifest.toml`\n",
      " \u001b[90m [54eefc05] \u001b[39m\u001b[92m+ Cascadia v1.0.1\u001b[39m\n",
      " \u001b[90m [a14fa8ac] \u001b[39m\u001b[92m+ DataDepsGenerators v0.5.1\u001b[39m\n",
      " \u001b[90m [708ec375] \u001b[39m\u001b[92m+ Gumbo v0.8.0\u001b[39m\n",
      " \u001b[90m [528830af] \u001b[39m\u001b[92m+ Gumbo_jll v0.10.1+1\u001b[39m\n"
     ]
    }
   ],
   "source": [
    "using Pkg\n",
    "Pkg.add(\"DataDepsGenerators\")"
   ]
  },
  {
   "cell_type": "code",
   "execution_count": 4,
   "id": "latest-memory",
   "metadata": {
    "ExecuteTime": {
     "end_time": "2021-02-03T21:55:51.707000-05:00",
     "start_time": "2021-02-04T02:55:46.250Z"
    }
   },
   "outputs": [
    {
     "name": "stderr",
     "output_type": "stream",
     "text": [
      "┌ Info: Precompiling DataDepsGenerators [a14fa8ac-7845-53f2-854f-e9bba4c623ff]\n",
      "└ @ Base loading.jl:1278\n"
     ]
    }
   ],
   "source": [
    "using DataDepsGenerators"
   ]
  },
  {
   "cell_type": "code",
   "execution_count": 7,
   "id": "progressive-invite",
   "metadata": {
    "ExecuteTime": {
     "end_time": "2021-02-03T21:57:00.114000-05:00",
     "start_time": "2021-02-04T02:56:57.414Z"
    }
   },
   "outputs": [
    {
     "name": "stdout",
     "output_type": "stream",
     "text": [
      "register(DataDep(\n",
      "    \"missing\",\n",
      "    \"\"\"\n",
      "\tAuthor: Authors not specified\n",
      "\n",
      "\t\"\"\",\n",
      "\tmissing,\n",
      "))\n"
     ]
    },
    {
     "name": "stderr",
     "output_type": "stream",
     "text": [
      "┌ Warning: DataCite() failed\n",
      "│   exception = DataDepsGenerators.GeneratorError{DataCite}(DataCite(), \"\")\n",
      "└ @ DataDepsGenerators /Users/saydjari/.julia/packages/DataDepsGenerators/6JYi6/src/generate.jl:58\n",
      "┌ Warning: JSONLD_DOI() failed\n",
      "│   exception = DataDepsGenerators.GeneratorError{JSONLD_DOI}(JSONLD_DOI(), \"\")\n",
      "└ @ DataDepsGenerators /Users/saydjari/.julia/packages/DataDepsGenerators/6JYi6/src/generate.jl:58\n",
      "┌ Warning: Figshare() failed\n",
      "│   exception = DataDepsGenerators.GeneratorError{Figshare}(Figshare(), \"\")\n",
      "└ @ DataDepsGenerators /Users/saydjari/.julia/packages/DataDepsGenerators/6JYi6/src/generate.jl:58\n",
      "┌ Warning: CKAN() failed\n",
      "│   exception = ErrorException(\"Unexpected character\\nLine: 0\\nAround: ...The EMNIST Dataset  Au...\\n            ^\\n\")\n",
      "└ @ DataDepsGenerators /Users/saydjari/.julia/packages/DataDepsGenerators/6JYi6/src/generate.jl:58\n",
      "┌ Warning: JSONLD_Web() failed\n",
      "│   exception = DataDepsGenerators.GeneratorError{JSONLD_Web}(JSONLD_Web(), \"No JSON-LD Linked Data Found\")\n",
      "└ @ DataDepsGenerators /Users/saydjari/.julia/packages/DataDepsGenerators/6JYi6/src/generate.jl:58\n",
      "┌ Warning: DataDryad() failed\n",
      "│   exception = BoundsError(Gumbo.HTMLNode[], (1,))\n",
      "└ @ DataDepsGenerators /Users/saydjari/.julia/packages/DataDepsGenerators/6JYi6/src/generate.jl:58\n",
      "┌ Warning: ArcticDataCenter() failed\n",
      "│   exception = BoundsError(Gumbo.HTMLNode[], (1,))\n",
      "└ @ DataDepsGenerators /Users/saydjari/.julia/packages/DataDepsGenerators/6JYi6/src/generate.jl:58\n",
      "┌ Warning: KnowledgeNetworkforBiocomplexity() failed\n",
      "│   exception = BoundsError(Gumbo.HTMLNode[], (1,))\n",
      "└ @ DataDepsGenerators /Users/saydjari/.julia/packages/DataDepsGenerators/6JYi6/src/generate.jl:58\n",
      "┌ Warning: TERN() failed\n",
      "│   exception = BoundsError(Gumbo.HTMLNode[], (1,))\n",
      "└ @ DataDepsGenerators /Users/saydjari/.julia/packages/DataDepsGenerators/6JYi6/src/generate.jl:58\n",
      "┌ Warning: GitHub() failed\n",
      "│   exception = BoundsError(Gumbo.HTMLNode[], (0,))\n",
      "└ @ DataDepsGenerators /Users/saydjari/.julia/packages/DataDepsGenerators/6JYi6/src/generate.jl:58\n",
      "┌ Warning: UCI() failed\n",
      "│   exception = BoundsError(Gumbo.HTMLNode[], (1,))\n",
      "└ @ DataDepsGenerators /Users/saydjari/.julia/packages/DataDepsGenerators/6JYi6/src/generate.jl:58\n"
     ]
    }
   ],
   "source": [
    "println(generate(\"https://www.itl.nist.gov/iaui/vip/cs_links/EMNIST/Readme.txt\")::String)"
   ]
  },
  {
   "cell_type": "code",
   "execution_count": null,
   "id": "confident-frost",
   "metadata": {},
   "outputs": [],
   "source": []
  }
 ],
 "metadata": {
  "kernelspec": {
   "display_name": "Julia 1.5.3",
   "language": "julia",
   "name": "julia-1.5"
  },
  "language_info": {
   "file_extension": ".jl",
   "mimetype": "application/julia",
   "name": "julia",
   "version": "1.5.3"
  }
 },
 "nbformat": 4,
 "nbformat_minor": 5
}
