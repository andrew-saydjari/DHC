{
 "cells": [
  {
   "cell_type": "code",
   "execution_count": 1,
   "id": "lasting-aberdeen",
   "metadata": {
    "ExecuteTime": {
     "end_time": "2021-04-03T17:21:13.329000-04:00",
     "start_time": "2021-04-03T21:19:47.135Z"
    }
   },
   "outputs": [
    {
     "name": "stderr",
     "output_type": "stream",
     "text": [
      "┌ Info: Precompiling DHC_2DUtils [top-level]\n",
      "└ @ Base loading.jl:1278\n",
      "┌ Info: Precompiling Images [916415d5-f1e6-5110-898d-aaa5f9f070e0]\n",
      "└ @ Base loading.jl:1278\n"
     ]
    }
   ],
   "source": [
    "## Preloads\n",
    "using Statistics\n",
    "using FFTW\n",
    "using Distributed\n",
    "using Plots\n",
    "using BenchmarkTools\n",
    "using Profile\n",
    "using LinearAlgebra\n",
    "using Measures\n",
    "using HDF5\n",
    "using Plots\n",
    "push!(LOAD_PATH, \"/Users/saydjari/Dropbox/GradSchool_AKS/Doug/Projects/DHC/main/\")\n",
    "using DHC_2DUtils\n",
    "using MLDatasets\n",
    "using Images\n",
    "using HDF5\n",
    "theme(:dark)"
   ]
  },
  {
   "cell_type": "code",
   "execution_count": 4,
   "id": "rising-memory",
   "metadata": {
    "ExecuteTime": {
     "end_time": "2021-04-03T17:24:59.731000-04:00",
     "start_time": "2021-04-03T21:24:56.417Z"
    }
   },
   "outputs": [
    {
     "data": {
      "text/plain": [
       "7-element Array{Int64,1}:\n",
       " 2\n",
       " 3\n",
       " 4\n",
       " 5\n",
       " 6\n",
       " 7\n",
       " 8"
      ]
     },
     "execution_count": 4,
     "metadata": {},
     "output_type": "execute_result"
    }
   ],
   "source": [
    "addprocs(7)"
   ]
  },
  {
   "cell_type": "code",
   "execution_count": 5,
   "id": "prescription-blame",
   "metadata": {
    "ExecuteTime": {
     "end_time": "2021-04-03T19:46:12.865000-04:00",
     "start_time": "2021-04-03T21:25:18.565Z"
    },
    "code_folding": []
   },
   "outputs": [
    {
     "name": "stderr",
     "output_type": "stream",
     "text": [
      "\u001b[32mProgress: 100%|█████████████████████████████████████████| Time: 2:19:52\u001b[39mm59\u001b[39m\n"
     ]
    }
   ],
   "source": [
    "@everywhere begin\n",
    "    using Statistics\n",
    "    using LinearAlgebra\n",
    "    using Distributed\n",
    "    push!(LOAD_PATH, \"/Users/saydjari/Dropbox/GradSchool_AKS/Doug/Projects/DHC/main/\")\n",
    "    using DHC_2DUtils\n",
    "    using FFTW\n",
    "    using Images\n",
    "    using Interpolations\n",
    "    using DSP\n",
    "    using ProgressMeter\n",
    "    \n",
    "    # filter bank\n",
    "    filter_hash = fink_filter_hash(1,8,nx=256,wd=2)\n",
    "    \n",
    "    # generate an image of a rod with some position, length, position angle,\n",
    "    # and FWHM\n",
    "    function rod_half(xcen, ycen, length, pa, fwhm)\n",
    "        nx = 256\n",
    "        xbox = 1:nx\n",
    "        ybox = 1:nx\n",
    "        xbox = xbox.-nx/2 .+xcen\n",
    "        ybox = ybox.-nx/2 .+ycen\n",
    "\n",
    "        sx  = xbox' .* ones(size(ybox)[1])\n",
    "        sy  = ones(size(xbox)[1])' .* ybox\n",
    "\n",
    "        sig = fwhm/2.355\n",
    "        dtor = pi/180\n",
    "        # -------- define a unit vector in direction of rod at position angle pa\n",
    "        ux = cos(pa*dtor)   # 90 deg is up\n",
    "        uy = sin(pa*dtor)   # 0 deg to the right\n",
    "\n",
    "        # -------- distance parallel and perpendicular to \n",
    "        dpara =  ux.*sx + uy.*sy .- length\n",
    "        dperp = -uy.*sx + ux.*sy\n",
    "\n",
    "        dpara[abs.(dpara).-length .<0] .= 0\n",
    "        dpara = abs.(dpara)\n",
    "        dpara .= min.(abs.(dpara.-length),dpara)\n",
    "\n",
    "        rodimage = exp.(-(dperp.^2+dpara.^2)./(2*sig.^2))\n",
    "\n",
    "        return rodimage\n",
    "    end\n",
    "    \n",
    "    function corner_WST(inputs)\n",
    "        sig, del = inputs\n",
    "        image = max.(rod_half(0,0,20,sig+del/2,6),rod_half(0,0,20,sig-del/2,6))\n",
    "        WST = DHC_compute(image, filter_hash)\n",
    "        power = sum(image.^2)\n",
    "        return WST, [sig, del, power]\n",
    "    end\n",
    "end\n",
    "        \n",
    "rod_DHC_out = @showprogress pmap(corner_WST, Iterators.product(0:1:360,0:1:360))\n",
    "coeff = getindex.(rod_DHC_out, 1);\n",
    "labels = getindex.(rod_DHC_out, 2);\n",
    "\n",
    "coeff_out = hcat(coeff...)\n",
    "labels_out = hcat(labels...)\n",
    "\n",
    "h5write(\"../scratch_AKS/paper_data/corner_rod_S2.h5\", \"main/coeffs\", coeff_out)\n",
    "h5write(\"../scratch_AKS/paper_data/corner_rod_S2.h5\", \"main/labels\", labels_out)"
   ]
  },
  {
   "cell_type": "code",
   "execution_count": 6,
   "id": "alpha-candidate",
   "metadata": {
    "ExecuteTime": {
     "end_time": "2021-04-03T19:47:08.472000-04:00",
     "start_time": "2021-04-03T21:26:19.581Z"
    },
    "code_folding": [
     15,
     57
    ],
    "collapsed": true
   },
   "outputs": [
    {
     "name": "stderr",
     "output_type": "stream",
     "text": [
      "\u001b[32mProgress:   0%|▏                                        |  ETA: 4:31:09\u001b[39mm55\u001b[39mm"
     ]
    },
    {
     "ename": "LoadError",
     "evalue": "InterruptException:",
     "output_type": "error",
     "traceback": [
      "InterruptException:",
      "",
      "Stacktrace:",
      " [1] (::Base.var\"#770#772\")(::Task) at ./asyncmap.jl:178",
      " [2] foreach(::Base.var\"#770#772\", ::Array{Any,1}) at ./abstractarray.jl:2009",
      " [3] maptwice(::Function, ::Channel{Any}, ::Array{Any,1}, ::Base.Iterators.ProductIterator{Tuple{StepRange{Int64,Int64},StepRangeLen{Float64,Base.TwicePrecision{Float64},Base.TwicePrecision{Float64}}}}) at ./asyncmap.jl:178",
      " [4] wrap_n_exec_twice(::Channel{Any}, ::Array{Any,1}, ::Distributed.var\"#206#209\"{WorkerPool}, ::Function, ::Base.Iterators.ProductIterator{Tuple{StepRange{Int64,Int64},StepRangeLen{Float64,Base.TwicePrecision{Float64},Base.TwicePrecision{Float64}}}}) at ./asyncmap.jl:154",
      " [5] async_usemap(::Distributed.var\"#190#192\"{Distributed.var\"#190#191#193\"{WorkerPool,ProgressMeter.var\"#44#47\"{typeof(corner_WST),RemoteChannel{Channel{Bool}}}}}, ::Base.Iterators.ProductIterator{Tuple{StepRange{Int64,Int64},StepRangeLen{Float64,Base.TwicePrecision{Float64},Base.TwicePrecision{Float64}}}}; ntasks::Function, batch_size::Nothing) at ./asyncmap.jl:103",
      " [6] #asyncmap#754 at ./asyncmap.jl:81 [inlined]",
      " [7] pmap(::Function, ::WorkerPool, ::Base.Iterators.ProductIterator{Tuple{StepRange{Int64,Int64},StepRangeLen{Float64,Base.TwicePrecision{Float64},Base.TwicePrecision{Float64}}}}; distributed::Bool, batch_size::Int64, on_error::Nothing, retry_delays::Array{Any,1}, retry_check::Nothing) at /Users/julia/buildbot/worker/package_macos64/build/usr/share/julia/stdlib/v1.5/Distributed/src/pmap.jl:126",
      " [8] pmap(::Function, ::WorkerPool, ::Base.Iterators.ProductIterator{Tuple{StepRange{Int64,Int64},StepRangeLen{Float64,Base.TwicePrecision{Float64},Base.TwicePrecision{Float64}}}}) at /Users/julia/buildbot/worker/package_macos64/build/usr/share/julia/stdlib/v1.5/Distributed/src/pmap.jl:101",
      " [9] pmap(::Function, ::Base.Iterators.ProductIterator{Tuple{StepRange{Int64,Int64},StepRangeLen{Float64,Base.TwicePrecision{Float64},Base.TwicePrecision{Float64}}}}; kwargs::Base.Iterators.Pairs{Union{},Union{},Tuple{},NamedTuple{(),Tuple{}}}) at /Users/julia/buildbot/worker/package_macos64/build/usr/share/julia/stdlib/v1.5/Distributed/src/pmap.jl:156",
      " [10] pmap(::Function, ::Base.Iterators.ProductIterator{Tuple{StepRange{Int64,Int64},StepRangeLen{Float64,Base.TwicePrecision{Float64},Base.TwicePrecision{Float64}}}}) at /Users/julia/buildbot/worker/package_macos64/build/usr/share/julia/stdlib/v1.5/Distributed/src/pmap.jl:156",
      " [11] macro expansion at /Users/saydjari/.julia/packages/ProgressMeter/GhAId/src/ProgressMeter.jl:839 [inlined]",
      " [12] macro expansion at ./task.jl:332 [inlined]",
      " [13] macro expansion at /Users/saydjari/.julia/packages/ProgressMeter/GhAId/src/ProgressMeter.jl:838 [inlined]",
      " [14] macro expansion at ./task.jl:332 [inlined]",
      " [15] progress_map(::Function, ::Vararg{Any,N} where N; mapfun::Function, progress::Progress, channel_bufflen::Int64, kwargs::Base.Iterators.Pairs{Union{},Union{},Tuple{},NamedTuple{(),Tuple{}}}) at /Users/saydjari/.julia/packages/ProgressMeter/GhAId/src/ProgressMeter.jl:831",
      " [16] top-level scope at In[6]:79",
      " [17] include_string(::Function, ::Module, ::String, ::String) at ./loading.jl:1091"
     ]
    },
    {
     "name": "stderr",
     "output_type": "stream",
     "text": [
      "\r",
      "\u001b[32mProgress:   0%|▏                                        |  ETA: 4:42:58\u001b[39m"
     ]
    }
   ],
   "source": [
    "@everywhere begin\n",
    "    using Statistics\n",
    "    using LinearAlgebra\n",
    "    using Distributed\n",
    "    push!(LOAD_PATH, \"/Users/saydjari/Dropbox/GradSchool_AKS/Doug/Projects/DHC/main/\")\n",
    "    using DHC_2DUtils\n",
    "    using FFTW\n",
    "    using Images\n",
    "    using Interpolations\n",
    "    using DSP\n",
    "    using ProgressMeter\n",
    "    \n",
    "    # filter bank\n",
    "    filter_hash = fink_filter_hash(1,8,nx=256,wd=2)\n",
    "    \n",
    "    function circle_interp2(xcen, ycen, length, pa, fwhm, bent; pivot = 0.5)\n",
    "        nx = 256\n",
    "        xbox = 1:nx\n",
    "        ybox = 1:nx\n",
    "        xbox = xbox.-nx/2 .+xcen\n",
    "        ybox = ybox.-nx/2 .+ycen\n",
    "\n",
    "        sx  = xbox' .* ones(size(ybox)[1])\n",
    "        sy  = ones(size(xbox)[1])' .* ybox\n",
    "\n",
    "        sig = fwhm/2.355\n",
    "        dtor = pi/180\n",
    "        ux = -sin(pa*dtor)   # 90 deg is up\n",
    "        uy = cos(pa*dtor)   # 0 deg to the right\n",
    "\n",
    "        start = [xcen-length,ycen]\n",
    "        stop = [xcen+length,ycen]\n",
    "\n",
    "        rotMat = [ux -uy; uy ux]\n",
    "\n",
    "        pos_val = zeros(101,2)\n",
    "        for (x_ind, x) in enumerate(0:0.01:1)\n",
    "            pos_val[x_ind,:] .= rotMat*(getPosOnBentLine(start,stop,x,bent,pivot).-128).+128\n",
    "        end\n",
    "\n",
    "        mind = ones(nx,nx).*nx^3\n",
    "        temp = zeros(nx,nx)\n",
    "\n",
    "        for indx = 1:size(pos_val)[1]\n",
    "            temp .= (sx.-pos_val[indx,1]).^2 .+ (sy.-pos_val[indx,2]).^2\n",
    "            mind .= min.(mind,temp)\n",
    "        end\n",
    "\n",
    "        rodimage = exp.(-(mind)./(2*sig.^2))\n",
    "\n",
    "        return rodimage\n",
    "    end\n",
    "    \n",
    "    function perp(val)\n",
    "        return (-val[2], val[1])\n",
    "    end\n",
    "\n",
    "    function getPosOnBentLine(lineStart, lineEnd, t, bendFactor, pivot)\n",
    "        lineDir = lineEnd - lineStart\n",
    "        lineLength = sqrt(sum(lineDir.^2))\n",
    "        circleRad = lineLength / (bendFactor * 2 * pi);\n",
    "        circleCenter = lineStart .+  (lineEnd .- lineStart)  .* pivot\n",
    "\n",
    "        angle = pi + bendFactor * (t-pivot) * 2 * pi;\n",
    "        posOnCircle = circleCenter .+ [cos(angle), sin(angle)] .* circleRad .+ [circleRad,0];\n",
    "\n",
    "        return posOnCircle\n",
    "    end\n",
    "    \n",
    "    function corner_WST(inputs)\n",
    "        sig, del = inputs\n",
    "        image = circle_interp2(128,128,20,sig,6,del+1e-5)\n",
    "        WST = DHC_compute(image, filter_hash)\n",
    "        power = sum(image.^2)\n",
    "        return WST, [sig, del, power]\n",
    "    end\n",
    "end\n",
    "        \n",
    "rod_DHC_out = @showprogress pmap(corner_WST, Iterators.product(0:1:360,range(0,stop=1,length=361)))\n",
    "coeff = getindex.(rod_DHC_out, 1);\n",
    "labels = getindex.(rod_DHC_out, 2);\n",
    "\n",
    "coeff_out = hcat(coeff...)\n",
    "labels_out = hcat(labels...)\n",
    "\n",
    "h5write(\"../scratch_AKS/paper_data/curve_rod_S2.h5\", \"main/coeffs\", coeff_out)\n",
    "h5write(\"../scratch_AKS/paper_data/curve_rod_S2.h5\", \"main/labels\", labels_out)"
   ]
  },
  {
   "cell_type": "code",
   "execution_count": 7,
   "id": "cooked-posting",
   "metadata": {
    "ExecuteTime": {
     "end_time": "2021-04-03T19:47:32.238000-04:00",
     "start_time": "2021-04-03T21:26:22.068Z"
    },
    "code_folding": [],
    "collapsed": true
   },
   "outputs": [
    {
     "name": "stderr",
     "output_type": "stream",
     "text": [
      "\u001b[32mProgress:   0%|▏                                        |  ETA: 2:31:38\u001b[39mm20\u001b[39mm"
     ]
    },
    {
     "ename": "LoadError",
     "evalue": "InterruptException:",
     "output_type": "error",
     "traceback": [
      "InterruptException:",
      "",
      "Stacktrace:",
      " [1] (::Base.var\"#770#772\")(::Task) at ./asyncmap.jl:178",
      " [2] foreach(::Base.var\"#770#772\", ::Array{Any,1}) at ./abstractarray.jl:2009",
      " [3] maptwice(::Function, ::Channel{Any}, ::Array{Any,1}, ::Base.Iterators.ProductIterator{Tuple{Array{Float64,1},Array{Float64,1}}}) at ./asyncmap.jl:178",
      " [4] wrap_n_exec_twice(::Channel{Any}, ::Array{Any,1}, ::Distributed.var\"#206#209\"{WorkerPool}, ::Function, ::Base.Iterators.ProductIterator{Tuple{Array{Float64,1},Array{Float64,1}}}) at ./asyncmap.jl:154",
      " [5] async_usemap(::Distributed.var\"#190#192\"{Distributed.var\"#190#191#193\"{WorkerPool,ProgressMeter.var\"#44#47\"{typeof(corner_WST),RemoteChannel{Channel{Bool}}}}}, ::Base.Iterators.ProductIterator{Tuple{Array{Float64,1},Array{Float64,1}}}; ntasks::Function, batch_size::Nothing) at ./asyncmap.jl:103",
      " [6] #asyncmap#754 at ./asyncmap.jl:81 [inlined]",
      " [7] pmap(::Function, ::WorkerPool, ::Base.Iterators.ProductIterator{Tuple{Array{Float64,1},Array{Float64,1}}}; distributed::Bool, batch_size::Int64, on_error::Nothing, retry_delays::Array{Any,1}, retry_check::Nothing) at /Users/julia/buildbot/worker/package_macos64/build/usr/share/julia/stdlib/v1.5/Distributed/src/pmap.jl:126",
      " [8] pmap(::Function, ::WorkerPool, ::Base.Iterators.ProductIterator{Tuple{Array{Float64,1},Array{Float64,1}}}) at /Users/julia/buildbot/worker/package_macos64/build/usr/share/julia/stdlib/v1.5/Distributed/src/pmap.jl:101",
      " [9] pmap(::Function, ::Base.Iterators.ProductIterator{Tuple{Array{Float64,1},Array{Float64,1}}}; kwargs::Base.Iterators.Pairs{Union{},Union{},Tuple{},NamedTuple{(),Tuple{}}}) at /Users/julia/buildbot/worker/package_macos64/build/usr/share/julia/stdlib/v1.5/Distributed/src/pmap.jl:156",
      " [10] pmap(::Function, ::Base.Iterators.ProductIterator{Tuple{Array{Float64,1},Array{Float64,1}}}) at /Users/julia/buildbot/worker/package_macos64/build/usr/share/julia/stdlib/v1.5/Distributed/src/pmap.jl:156",
      " [11] macro expansion at /Users/saydjari/.julia/packages/ProgressMeter/GhAId/src/ProgressMeter.jl:839 [inlined]",
      " [12] macro expansion at ./task.jl:332 [inlined]",
      " [13] macro expansion at /Users/saydjari/.julia/packages/ProgressMeter/GhAId/src/ProgressMeter.jl:838 [inlined]",
      " [14] macro expansion at ./task.jl:332 [inlined]",
      " [15] progress_map(::Function, ::Vararg{Any,N} where N; mapfun::Function, progress::Progress, channel_bufflen::Int64, kwargs::Base.Iterators.Pairs{Union{},Union{},Tuple{},NamedTuple{(),Tuple{}}}) at /Users/saydjari/.julia/packages/ProgressMeter/GhAId/src/ProgressMeter.jl:831",
      " [16] top-level scope at In[7]:47",
      " [17] include_string(::Function, ::Module, ::String, ::String) at ./loading.jl:1091"
     ]
    },
    {
     "name": "stderr",
     "output_type": "stream",
     "text": [
      "\r",
      "\u001b[32mProgress:   0%|▏                                        |  ETA: 2:30:39\u001b[39m"
     ]
    }
   ],
   "source": [
    "@everywhere begin\n",
    "    using Statistics\n",
    "    using LinearAlgebra\n",
    "    using Distributed\n",
    "    push!(LOAD_PATH, \"/Users/saydjari/Dropbox/GradSchool_AKS/Doug/Projects/DHC/main/\")\n",
    "    using DHC_2DUtils\n",
    "    using FFTW\n",
    "    using Images\n",
    "    using Interpolations\n",
    "    using DSP\n",
    "    using ProgressMeter\n",
    "    \n",
    "    # filter bank\n",
    "    filter_hash = fink_filter_hash(1,8,nx=256,wd=2)\n",
    "    \n",
    "    function circle_a(xcen, ycen, length, pa, fwhm)\n",
    "        nx = 256\n",
    "        xbox = 1:nx\n",
    "        ybox = 1:nx\n",
    "        xbox = xbox.-nx/2 .+xcen\n",
    "        ybox = ybox.-nx/2 .+ycen\n",
    "\n",
    "        sx  = xbox' .* ones(size(ybox)[1])\n",
    "        sy  = ones(size(xbox)[1])' .* ybox\n",
    "\n",
    "        sig = fwhm/2.355\n",
    "\n",
    "        r = sqrt.(sx.^2 + sy.^2)\n",
    "\n",
    "        r[r.-length.<0] .= 0\n",
    "        r .= min.(abs.(r.-length),r)\n",
    "\n",
    "        rodimage = exp.(-(r.^2)./(2*sig.^2))\n",
    "\n",
    "        return rodimage\n",
    "    end\n",
    "    \n",
    "    function corner_WST(inputs)\n",
    "        i, j = inputs\n",
    "        image = circle_a(0,0,i,0,j)\n",
    "        WST = DHC_compute(image, filter_hash)\n",
    "        power = sum(image.^2)\n",
    "        return WST, [i, j, power]\n",
    "    end\n",
    "end\n",
    "        \n",
    "rod_DHC_out = @showprogress pmap(corner_WST, Iterators.product(2 .^(range(-1,stop=6,length=361)),2 .^(range(-1,stop=6,length=361))))\n",
    "coeff = getindex.(rod_DHC_out, 1);\n",
    "labels = getindex.(rod_DHC_out, 2);\n",
    "\n",
    "coeff_out = hcat(coeff...)\n",
    "labels_out = hcat(labels...)\n",
    "\n",
    "h5write(\"../scratch_AKS/paper_data/disc_data_log_S2.h5\", \"main/coeffs\", coeff_out)\n",
    "h5write(\"../scratch_AKS/paper_data/disc_data_log_S2.h5\", \"main/labels\", labels_out)"
   ]
  },
  {
   "cell_type": "code",
   "execution_count": null,
   "id": "molecular-oxygen",
   "metadata": {},
   "outputs": [],
   "source": []
  }
 ],
 "metadata": {
  "kernelspec": {
   "display_name": "Julia 1.5.3",
   "language": "julia",
   "name": "julia-1.5"
  },
  "language_info": {
   "file_extension": ".jl",
   "mimetype": "application/julia",
   "name": "julia",
   "version": "1.5.3"
  }
 },
 "nbformat": 4,
 "nbformat_minor": 5
}
