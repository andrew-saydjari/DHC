{
 "cells": [
  {
   "cell_type": "code",
   "execution_count": null,
   "id": "iraqi-donor",
   "metadata": {},
   "outputs": [],
   "source": []
  },
  {
   "cell_type": "code",
   "execution_count": 1,
   "id": "aggressive-share",
   "metadata": {
    "ExecuteTime": {
     "end_time": "2021-03-16T21:59:24.584000-04:00",
     "start_time": "2021-03-17T01:58:28.165Z"
    }
   },
   "outputs": [],
   "source": [
    "push!(LOAD_PATH, \"/Users/saydjari/Dropbox/GradSchool_AKS/Doug/Projects/DHC/main\")\n",
    "using DHC_2DUtils\n",
    "using Profile\n",
    "using BenchmarkTools\n",
    "using FFTW\n",
    "using HDF5\n",
    "using Test\n",
    "using SparseArrays\n",
    "using Statistics\n",
    "using Plots\n",
    "using LinearAlgebra\n",
    "using Measures\n",
    "using Plots\n",
    "using MLDatasets\n",
    "using ImageCore\n",
    "using Colors\n",
    "using AbstractFFTs\n",
    "using Interpolations\n",
    "using DSP\n",
    "using StatsBase\n",
    "using Images"
   ]
  },
  {
   "cell_type": "code",
   "execution_count": 2,
   "id": "affected-intelligence",
   "metadata": {
    "ExecuteTime": {
     "end_time": "2021-03-16T21:59:28.295000-04:00",
     "start_time": "2021-03-17T01:58:29.000Z"
    }
   },
   "outputs": [],
   "source": [
    "train_x, train_y = CIFAR10.traindata();\n",
    "test_x, test_y   = CIFAR10.testdata();"
   ]
  },
  {
   "cell_type": "code",
   "execution_count": 3,
   "id": "crude-stanford",
   "metadata": {
    "ExecuteTime": {
     "end_time": "2021-03-16T21:59:28.855000-04:00",
     "start_time": "2021-03-17T01:58:30.590Z"
    }
   },
   "outputs": [
    {
     "data": {
      "text/plain": [
       "color_convert (generic function with 1 method)"
      ]
     },
     "execution_count": 3,
     "metadata": {},
     "output_type": "execute_result"
    }
   ],
   "source": [
    "function color_convert(array, color1, color2)\n",
    "    chan_img = channelview(array)\n",
    "    cv = colorview(color1, StackedView(array[:,:,1],array[:,:,2],array[:,:,3]))\n",
    "    y_im = color2.(cv)\n",
    "    channels = permutedims(channelview(float.(y_im)),(2,3,1))\n",
    "    return channels\n",
    "end"
   ]
  },
  {
   "cell_type": "code",
   "execution_count": 4,
   "id": "returning-withdrawal",
   "metadata": {
    "ExecuteTime": {
     "end_time": "2021-03-16T21:59:33.173000-04:00",
     "start_time": "2021-03-17T01:58:33.027Z"
    }
   },
   "outputs": [
    {
     "data": {
      "text/plain": [
       "cifar_DHC (generic function with 1 method)"
      ]
     },
     "execution_count": 4,
     "metadata": {},
     "output_type": "execute_result"
    }
   ],
   "source": [
    "filter_hash = fink_filter_hash(1, 8, nx=128, pc=1, wd=2)\n",
    "\n",
    "function wind_2d(nx)\n",
    "    dx   = nx/2-1\n",
    "    filter = zeros(Float64, nx, nx)\n",
    "    A = DSP.tukey(nx, 0.3)\n",
    "    itp = extrapolate(interpolate(A,BSpline(Linear())),0)\n",
    "    @inbounds for x = 1:nx\n",
    "        sx = x-dx-1    # define sx,sy so that no fftshift() needed\n",
    "        for y = 1:nx\n",
    "            sy = y-dx-1\n",
    "            r  = sqrt.((sx).^2 + (sy).^2) + nx/2\n",
    "            filter[x,y] = itp(r)\n",
    "        end\n",
    "    end\n",
    "    return filter\n",
    "end\n",
    "\n",
    "function wind_2d_RGB(nx)\n",
    "    dx   = nx/2-1\n",
    "    filter = zeros(Float64, nx, nx)\n",
    "    A = DSP.tukey(nx, 0.3)\n",
    "    itp = extrapolate(interpolate(A,BSpline(Linear())),0)\n",
    "    @inbounds for x = 1:nx\n",
    "        sx = x-dx-1    # define sx,sy so that no fftshift() needed\n",
    "        for y = 1:nx\n",
    "            sy = y-dx-1\n",
    "            r  = sqrt.((sx).^2 + (sy).^2) + nx/2\n",
    "            filter[x,y] = itp(r)\n",
    "        end\n",
    "    end\n",
    "    return reshape(filter,nx,nx,1)\n",
    "end\n",
    "\n",
    "function cifar_pad_RGB(im; θ=0.0)\n",
    "    imbig = convert(Array{Float64,3},imresize(im,(64,64,3)))\n",
    "    datad_w = fweights(wind_2d(64));\n",
    "    mu_imbig = zeros(1,1,3)\n",
    "    for chan = 1:3\n",
    "        mu_imbig[chan] = mean(imbig[:,:,chan],datad_w)\n",
    "    end\n",
    "    imbig .-= mu_imbig\n",
    "    imbig .*= wind_2d_RGB(64)\n",
    "    impad = zeros(Float64,128,128,3)\n",
    "    impad[96:-1:33,33:96,:] = imbig\n",
    "\n",
    "    if θ != 0.0\n",
    "        imrot = imrotate(impad, θ, axes(impad), Cubic(Throw(OnGrid())))\n",
    "        imrot[findall(imrot .!= imrot)] .= 0.0\n",
    "        return imrot .+ mu_imbig\n",
    "    end\n",
    "\n",
    "    return impad.+ mu_imbig\n",
    "end\n",
    "\n",
    "function cifar_DHC(x)\n",
    "    image = cifar_pad_RGB(x[:,:,:], θ=0.0)\n",
    "    WST = DHC_compute_RGB(image, filter_hash)\n",
    "    return WST\n",
    "end"
   ]
  },
  {
   "cell_type": "code",
   "execution_count": 10,
   "id": "czech-breakfast",
   "metadata": {
    "ExecuteTime": {
     "end_time": "2021-03-16T20:27:35.390000-04:00",
     "start_time": "2021-03-17T00:27:35.233Z"
    }
   },
   "outputs": [
    {
     "data": {
      "text/plain": [
       "15258-element Array{Any,1}:\n",
       " 0.24216718117732908\n",
       " 0.22852803745142802\n",
       " 0.2044979588366665\n",
       " 0.005399006409819963\n",
       " 0.005226048073279262\n",
       " 0.0056879394648188366\n",
       " 0.0007695632474127447\n",
       " 0.011633073404047968\n",
       " 0.04847540762629337\n",
       " 0.0838663526338885\n",
       " 0.06506477687209096\n",
       " 0.0006585391185012399\n",
       " 0.008877509566882638\n",
       " ⋮\n",
       " 0.03381773618472951\n",
       " 0.0019071496135401348\n",
       " 0.01000322871212987\n",
       " 0.02363731701077009\n",
       " 0.028242399942008636\n",
       " 0.04614659453399955\n",
       " 0.0026156671561036984\n",
       " 0.013802281528030534\n",
       " 0.031152234447061868\n",
       " 0.04118541951962858\n",
       " 0.05644625521276226\n",
       " 0.07860905328088953"
      ]
     },
     "execution_count": 10,
     "metadata": {},
     "output_type": "execute_result"
    }
   ],
   "source": [
    "cifar_DHC(train_x[:,:,:,10])"
   ]
  },
  {
   "cell_type": "code",
   "execution_count": 5,
   "id": "appropriate-fairy",
   "metadata": {
    "ExecuteTime": {
     "end_time": "2021-03-16T21:59:33.222000-04:00",
     "start_time": "2021-03-17T01:58:36.391Z"
    }
   },
   "outputs": [],
   "source": [
    "using Distributed\n",
    "using ProgressMeter"
   ]
  },
  {
   "cell_type": "code",
   "execution_count": 6,
   "id": "harmful-martial",
   "metadata": {
    "ExecuteTime": {
     "end_time": "2021-03-16T21:59:36.869000-04:00",
     "start_time": "2021-03-17T01:58:41.631Z"
    }
   },
   "outputs": [
    {
     "data": {
      "text/plain": [
       "7-element Array{Int64,1}:\n",
       " 2\n",
       " 3\n",
       " 4\n",
       " 5\n",
       " 6\n",
       " 7\n",
       " 8"
      ]
     },
     "execution_count": 6,
     "metadata": {},
     "output_type": "execute_result"
    }
   ],
   "source": [
    "addprocs(7)"
   ]
  },
  {
   "cell_type": "code",
   "execution_count": 7,
   "id": "computational-resistance",
   "metadata": {
    "ExecuteTime": {
     "end_time": "2021-03-16T21:59:37.723000-04:00",
     "start_time": "2021-03-17T01:58:44.801Z"
    }
   },
   "outputs": [],
   "source": [
    "lst_train = Array{Any}(undef, 0)\n",
    "for i = 1:size(train_x)[4]\n",
    "    push!(lst_train,train_x[:,:,:,i])\n",
    "end\n",
    "\n",
    "lst_test = Array{Any}(undef, 0)\n",
    "for i = 1:size(test_x)[4]\n",
    "    push!(lst_test,test_x[:,:,:,i])\n",
    "end"
   ]
  },
  {
   "cell_type": "code",
   "execution_count": 16,
   "id": "graphic-radiation",
   "metadata": {
    "ExecuteTime": {
     "end_time": "2021-03-16T21:18:01.714000-04:00",
     "start_time": "2021-03-17T00:34:52.352Z"
    }
   },
   "outputs": [
    {
     "name": "stderr",
     "output_type": "stream",
     "text": [
      "\u001b[32mProgress: 100%|█████████████████████████████████████████| Time: 0:40:54\u001b[39mm:55\u001b[39m\n"
     ]
    }
   ],
   "source": [
    "@everywhere begin    \n",
    "    push!(LOAD_PATH, \"/Users/saydjari/Dropbox/GradSchool_AKS/Doug/Projects/DHC/main\")\n",
    "    using DHC_2DUtils\n",
    "    using Profile\n",
    "    using BenchmarkTools\n",
    "    using FFTW\n",
    "    using HDF5\n",
    "    using Test\n",
    "    using SparseArrays\n",
    "    using Statistics\n",
    "    using Plots\n",
    "    using LinearAlgebra\n",
    "    using Measures\n",
    "    using Plots\n",
    "    using MLDatasets\n",
    "    using ImageCore\n",
    "    using Colors\n",
    "    using AbstractFFTs\n",
    "    using Interpolations\n",
    "    using DSP\n",
    "    using StatsBase\n",
    "    using Distributed\n",
    "    using Images\n",
    "    using ProgressMeter\n",
    "    \n",
    "    # filter bank\n",
    "    filter_hash = fink_filter_hash(1, 8, nx=128, pc=1, wd=2)\n",
    "\n",
    "    function wind_2d(nx)\n",
    "        dx   = nx/2-1\n",
    "        filter = zeros(Float64, nx, nx)\n",
    "        A = DSP.tukey(nx, 0.3)\n",
    "        itp = extrapolate(interpolate(A,BSpline(Linear())),0)\n",
    "        @inbounds for x = 1:nx\n",
    "            sx = x-dx-1    # define sx,sy so that no fftshift() needed\n",
    "            for y = 1:nx\n",
    "                sy = y-dx-1\n",
    "                r  = sqrt.((sx).^2 + (sy).^2) + nx/2\n",
    "                filter[x,y] = itp(r)\n",
    "            end\n",
    "        end\n",
    "        return filter\n",
    "    end\n",
    "\n",
    "    function wind_2d_RGB(nx)\n",
    "        dx   = nx/2-1\n",
    "        filter = zeros(Float64, nx, nx)\n",
    "        A = DSP.tukey(nx, 0.3)\n",
    "        itp = extrapolate(interpolate(A,BSpline(Linear())),0)\n",
    "        @inbounds for x = 1:nx\n",
    "            sx = x-dx-1    # define sx,sy so that no fftshift() needed\n",
    "            for y = 1:nx\n",
    "                sy = y-dx-1\n",
    "                r  = sqrt.((sx).^2 + (sy).^2) + nx/2\n",
    "                filter[x,y] = itp(r)\n",
    "            end\n",
    "        end\n",
    "        return reshape(filter,nx,nx,1)\n",
    "    end\n",
    "\n",
    "    function cifar_pad_RGB(im; θ=0.0)\n",
    "        imbig = convert(Array{Float64,3},imresize(im,(64,64,3)))\n",
    "        datad_w = fweights(wind_2d(64));\n",
    "        mu_imbig = zeros(1,1,3)\n",
    "        for chan = 1:3\n",
    "            mu_imbig[chan] = mean(imbig[:,:,chan],datad_w)\n",
    "        end\n",
    "        imbig .-= mu_imbig\n",
    "        imbig .*= wind_2d_RGB(64)\n",
    "        impad = zeros(Float64,128,128,3)\n",
    "        impad[96:-1:33,33:96,:] = imbig\n",
    "\n",
    "        if θ != 0.0\n",
    "            imrot = imrotate(impad, θ, axes(impad), Cubic(Throw(OnGrid())))\n",
    "            imrot[findall(imrot .!= imrot)] .= 0.0\n",
    "            return imrot .+ mu_imbig\n",
    "        end\n",
    "\n",
    "        return impad.+ mu_imbig\n",
    "    end\n",
    "\n",
    "    function cifar_DHC(x)\n",
    "        image = cifar_pad_RGB(x[:,:,:], θ=0.0)\n",
    "        WST = DHC_compute_RGB(image, filter_hash)\n",
    "        return WST\n",
    "    end\n",
    "end\n",
    " \n",
    "cifar_DHC_out = @showprogress pmap(cifar_DHC, lst_train)\n",
    "cifar_DHC_out = hcat(cifar_DHC_out...)\n",
    "\n",
    "h5write(\"../scratch_AKS/data/cifar10_train_RGB.h5\", \"main/train_data\", cifar_DHC_out, deflate=3)"
   ]
  },
  {
   "cell_type": "code",
   "execution_count": 18,
   "id": "surgical-magazine",
   "metadata": {
    "ExecuteTime": {
     "end_time": "2021-03-16T21:56:23.621000-04:00",
     "start_time": "2021-03-17T01:56:23.326Z"
    }
   },
   "outputs": [],
   "source": [
    "h5write(\"../scratch_AKS/data/cifar10_train_RGB.h5\", \"main/train_labels\", train_y, deflate=3)"
   ]
  },
  {
   "cell_type": "code",
   "execution_count": 19,
   "id": "coral-congress",
   "metadata": {
    "ExecuteTime": {
     "end_time": "2021-03-16T21:56:41.780000-04:00",
     "start_time": "2021-03-17T01:56:41.774Z"
    }
   },
   "outputs": [],
   "source": [
    "h5write(\"../scratch_AKS/data/cifar10_train_RGB.h5\", \"main/test_labels\", test_y, deflate=3)"
   ]
  },
  {
   "cell_type": "code",
   "execution_count": 8,
   "id": "advance-landing",
   "metadata": {
    "ExecuteTime": {
     "end_time": "2021-03-16T22:06:57.919000-04:00",
     "start_time": "2021-03-17T01:59:38.460Z"
    }
   },
   "outputs": [
    {
     "name": "stderr",
     "output_type": "stream",
     "text": [
      "\u001b[32mProgress: 100%|█████████████████████████████████████████| Time: 0:06:22\u001b[39m6:56\u001b[39m\n",
      "WARNING: both StatsBase and BenchmarkTools export \"trim\"; uses of it in module Main must be qualified\n"
     ]
    }
   ],
   "source": [
    "@everywhere begin    \n",
    "    push!(LOAD_PATH, \"/Users/saydjari/Dropbox/GradSchool_AKS/Doug/Projects/DHC/main\")\n",
    "    using DHC_2DUtils\n",
    "    using Profile\n",
    "    using BenchmarkTools\n",
    "    using FFTW\n",
    "    using HDF5\n",
    "    using Test\n",
    "    using SparseArrays\n",
    "    using Statistics\n",
    "    using Plots\n",
    "    using LinearAlgebra\n",
    "    using Measures\n",
    "    using Plots\n",
    "    using MLDatasets\n",
    "    using ImageCore\n",
    "    using Colors\n",
    "    using AbstractFFTs\n",
    "    using Interpolations\n",
    "    using DSP\n",
    "    using StatsBase\n",
    "    using Distributed\n",
    "    using Images\n",
    "    using ProgressMeter\n",
    "    \n",
    "    # filter bank\n",
    "    filter_hash = fink_filter_hash(1, 8, nx=128, pc=1, wd=2)\n",
    "\n",
    "    function wind_2d(nx)\n",
    "        dx   = nx/2-1\n",
    "        filter = zeros(Float64, nx, nx)\n",
    "        A = DSP.tukey(nx, 0.3)\n",
    "        itp = extrapolate(interpolate(A,BSpline(Linear())),0)\n",
    "        @inbounds for x = 1:nx\n",
    "            sx = x-dx-1    # define sx,sy so that no fftshift() needed\n",
    "            for y = 1:nx\n",
    "                sy = y-dx-1\n",
    "                r  = sqrt.((sx).^2 + (sy).^2) + nx/2\n",
    "                filter[x,y] = itp(r)\n",
    "            end\n",
    "        end\n",
    "        return filter\n",
    "    end\n",
    "\n",
    "    function wind_2d_RGB(nx)\n",
    "        dx   = nx/2-1\n",
    "        filter = zeros(Float64, nx, nx)\n",
    "        A = DSP.tukey(nx, 0.3)\n",
    "        itp = extrapolate(interpolate(A,BSpline(Linear())),0)\n",
    "        @inbounds for x = 1:nx\n",
    "            sx = x-dx-1    # define sx,sy so that no fftshift() needed\n",
    "            for y = 1:nx\n",
    "                sy = y-dx-1\n",
    "                r  = sqrt.((sx).^2 + (sy).^2) + nx/2\n",
    "                filter[x,y] = itp(r)\n",
    "            end\n",
    "        end\n",
    "        return reshape(filter,nx,nx,1)\n",
    "    end\n",
    "\n",
    "    function cifar_pad_RGB(im; θ=0.0)\n",
    "        imbig = convert(Array{Float64,3},imresize(im,(64,64,3)))\n",
    "        datad_w = fweights(wind_2d(64));\n",
    "        mu_imbig = zeros(1,1,3)\n",
    "        for chan = 1:3\n",
    "            mu_imbig[chan] = mean(imbig[:,:,chan],datad_w)\n",
    "        end\n",
    "        imbig .-= mu_imbig\n",
    "        imbig .*= wind_2d_RGB(64)\n",
    "        impad = zeros(Float64,128,128,3)\n",
    "        impad[96:-1:33,33:96,:] = imbig\n",
    "\n",
    "        if θ != 0.0\n",
    "            imrot = imrotate(impad, θ, axes(impad), Cubic(Throw(OnGrid())))\n",
    "            imrot[findall(imrot .!= imrot)] .= 0.0\n",
    "            return imrot .+ mu_imbig\n",
    "        end\n",
    "\n",
    "        return impad.+ mu_imbig\n",
    "    end\n",
    "\n",
    "    function cifar_DHC(x)\n",
    "        image = cifar_pad_RGB(x[:,:,:], θ=0.0)\n",
    "        WST = DHC_compute_RGB(image, filter_hash)\n",
    "        return WST\n",
    "    end\n",
    "end\n",
    "\n",
    "cifar_DHC_out = @showprogress pmap(cifar_DHC, lst_test)\n",
    "cifar_DHC_out = hcat(cifar_DHC_out...)\n",
    "\n",
    "h5write(\"../scratch_AKS/data/cifar10_train_RGB.h5\", \"main/test_data\", cifar_DHC_out, deflate=3)"
   ]
  },
  {
   "cell_type": "code",
   "execution_count": 34,
   "id": "mechanical-nursery",
   "metadata": {
    "ExecuteTime": {
     "end_time": "2021-03-16T22:37:45.789000-04:00",
     "start_time": "2021-03-17T02:37:45.780Z"
    }
   },
   "outputs": [
    {
     "data": {
      "text/plain": [
       "transformMaker2 (generic function with 2 methods)"
      ]
     },
     "execution_count": 34,
     "metadata": {},
     "output_type": "execute_result"
    }
   ],
   "source": [
    "function transformMaker2(coeff, S1Mat, S2Mat; Nc=1)\n",
    "    NS1 = size(S1Mat)[2]\n",
    "    NS2 = size(S2Mat)[2]\n",
    "    if Nc==1\n",
    "        S0iso = coeff[:,1:2]\n",
    "        S1iso = transpose(S1Mat*transpose(coeff[:,2+1:2+NS1]))\n",
    "        S2iso = transpose(S2Mat*transpose(coeff[:,2+NS1+1:2+NS1+NS2]))\n",
    "    else\n",
    "        S0iso = coeff[:,1:2*Nc]\n",
    "        S1MatChan = blockdiag(collect(Iterators.repeated(S1Mat,Nc))...)\n",
    "        S2MatChan = blockdiag(collect(Iterators.repeated(S2Mat,Nc*Nc))...)\n",
    "        S1iso = transpose(S1MatChan*transpose(coeff[:,2*Nc+1:2*Nc+Nc*NS1]))\n",
    "        S2iso = transpose(S2MatChan*transpose(coeff[:,2*Nc+Nc*NS1+1:end]))\n",
    "    end\n",
    "    return hcat(S0iso,S1iso,S2iso)\n",
    "end"
   ]
  },
  {
   "cell_type": "code",
   "execution_count": 12,
   "id": "italic-tumor",
   "metadata": {
    "ExecuteTime": {
     "end_time": "2021-03-16T22:17:32.055000-04:00",
     "start_time": "2021-03-17T02:17:32.046Z"
    }
   },
   "outputs": [
    {
     "data": {
      "text/plain": [
       "(10000, 15258)"
      ]
     },
     "execution_count": 12,
     "metadata": {},
     "output_type": "execute_result"
    },
    {
     "name": "stderr",
     "output_type": "stream",
     "text": [
      "WARNING: both Images and StatsBase export \"entropy\"; uses of it in module Main must be qualified\n",
      "WARNING: both DSP and AbstractFFTs export \"rfftfreq\"; uses of it in module Main must be qualified\n",
      "WARNING: both LinearAlgebra and Plots export \"rotate!\"; uses of it in module Main must be qualified\n"
     ]
    }
   ],
   "source": [
    "size(cifar_DHC_out')"
   ]
  },
  {
   "cell_type": "code",
   "execution_count": 35,
   "id": "extra-elephant",
   "metadata": {
    "ExecuteTime": {
     "end_time": "2021-03-16T22:38:05.015000-04:00",
     "start_time": "2021-03-17T02:37:52.268Z"
    }
   },
   "outputs": [
    {
     "data": {
      "text/plain": [
       "10000×1923 Array{Float64,2}:\n",
       " 0.455073  0.447771  0.422572  0.00454728  …  0.235451  0.243422   0.0629224\n",
       " 0.585832  0.600157  0.646387  0.00982033     0.33834   0.494112   0.129739\n",
       " 0.491091  0.543293  0.587751  0.00474712     0.355125  0.308975   0.0835853\n",
       " 0.626379  0.608432  0.663941  0.00421128     0.189571  0.234432   0.0455583\n",
       " 0.467555  0.499154  0.388241  0.00332022     0.29489   0.350986   0.0733963\n",
       " 0.532734  0.359601  0.283212  0.0046083   …  0.241347  0.26346    0.0529321\n",
       " 0.439984  0.308048  0.309626  0.00614657     0.241331  0.268009   0.0535944\n",
       " 0.403258  0.42991   0.247556  0.00207121     0.298033  0.317753   0.0640879\n",
       " 0.704432  0.658716  0.606829  0.00157091     0.073418  0.0710014  0.00896428\n",
       " 0.458166  0.450981  0.573334  0.00491028     0.319556  0.417086   0.100434\n",
       " 0.520875  0.584695  0.616177  0.00304151  …  0.114456  0.0977631  0.0165017\n",
       " 0.490225  0.467566  0.47439   0.00618569     0.3021    0.373562   0.0990603\n",
       " 0.483584  0.437728  0.358997  0.00504391     0.229747  0.195123   0.0348937\n",
       " ⋮                                         ⋱  ⋮                    \n",
       " 0.548277  0.571471  0.595361  0.00976352     0.299835  0.370249   0.0850741\n",
       " 0.526675  0.591216  0.351246  0.00329865     0.267059  0.28672    0.0662349\n",
       " 0.448142  0.433413  0.41441   0.016217    …  0.263342  0.276674   0.0561843\n",
       " 0.469244  0.48465   0.546148  0.00520248     0.288113  0.432011   0.109054\n",
       " 0.602383  0.471639  0.382896  0.00301281     0.369884  0.529017   0.141253\n",
       " 0.481663  0.470417  0.496834  0.00850093     0.23472   0.288744   0.0641777\n",
       " 0.52675   0.451058  0.328596  0.00504014     0.28679   0.239839   0.0471396\n",
       " 0.724674  0.737609  0.774718  0.00870087  …  0.212818  0.245631   0.0473916\n",
       " 0.567155  0.460558  0.373814  0.0028054      0.315384  0.400055   0.109275\n",
       " 0.318864  0.28835   0.265439  0.00683275     0.274898  0.276049   0.0622967\n",
       " 0.479043  0.50825   0.410176  0.00748492     0.138819  0.0925545  0.0109586\n",
       " 0.435137  0.429987  0.353084  0.00216635     0.193783  0.156639   0.0301242"
      ]
     },
     "execution_count": 35,
     "metadata": {},
     "output_type": "execute_result"
    }
   ],
   "source": [
    "cifar_DHC_out_iso = transformMaker2(cifar_DHC_out',filter_hash[\"S1_iso_mat\"],filter_hash[\"S2_iso_mat\"],Nc=3)"
   ]
  },
  {
   "cell_type": "code",
   "execution_count": 36,
   "id": "bulgarian-profile",
   "metadata": {
    "ExecuteTime": {
     "end_time": "2021-03-16T22:38:17.651000-04:00",
     "start_time": "2021-03-17T02:38:17.597Z"
    }
   },
   "outputs": [],
   "source": [
    "h5write(\"../scratch_AKS/data/cifar10_RGB.h5\", \"main/test_data_iso\", cifar_DHC_out_iso, deflate=3)"
   ]
  },
  {
   "cell_type": "code",
   "execution_count": 37,
   "id": "stuck-alias",
   "metadata": {
    "ExecuteTime": {
     "end_time": "2021-03-16T22:38:36.489000-04:00",
     "start_time": "2021-03-17T02:38:25.632Z"
    }
   },
   "outputs": [
    {
     "data": {
      "text/plain": [
       "15258×50000 Array{Float64,2}:\n",
       " 0.580269     0.564318    0.46359      …  0.333831     0.657957    0.491289\n",
       " 0.436284     0.5634      0.458437        0.416181     0.687953    0.44982\n",
       " 0.286279     0.56411     0.449199        0.462129     0.728403    0.438073\n",
       " 0.00364376   0.00715925  0.0110784       0.00739665   0.0039513   0.0039323\n",
       " 0.00446846   0.00644805  0.0112745       0.00887945   0.00361248  0.00487962\n",
       " 0.00444399   0.00597261  0.0105201    …  0.0107721    0.00422244  0.00516922\n",
       " 0.00117244   0.00344843  0.000456295     0.000938051  0.00538834  0.00378628\n",
       " 0.0105963    0.0283759   0.0057753       0.011769     0.033561    0.0387692\n",
       " 0.0191871    0.0600018   0.0133893       0.0352777    0.0782995   0.0858004\n",
       " 0.0852615    0.116535    0.0403329       0.0466474    0.128305    0.0881797\n",
       " 0.0424589    0.0296948   0.0967231    …  0.0891882    0.0268126   0.0261332\n",
       " 0.000969586  0.00257553  0.000342689     0.000722373  0.00336388  0.00324193\n",
       " 0.0103257    0.0210314   0.00531722      0.00773104   0.0205482   0.0325619\n",
       " ⋮                                     ⋱                           \n",
       " 0.0143366    0.0225132   0.0475317       0.0294797    0.0368799   0.00815416\n",
       " 0.00229907   0.00279586  0.00176048      0.00204262   0.00353288  0.00123127\n",
       " 0.00839752   0.00911838  0.00848968      0.00756868   0.0115901   0.00386299\n",
       " 0.0133242    0.0161388   0.0247549       0.02783      0.0231748   0.00673457\n",
       " 0.0235302    0.0226512   0.0435548    …  0.0428646    0.0408428   0.0154108\n",
       " 0.0197868    0.0253842   0.0646486       0.0477073    0.0469453   0.0116586\n",
       " 0.00226219   0.00395363  0.0018819       0.00293468   0.00595437  0.00204793\n",
       " 0.00843096   0.0129168   0.00892351      0.0121766    0.0185354   0.00679989\n",
       " 0.0144061    0.0218434   0.0225097       0.034418     0.0388597   0.0125952\n",
       " 0.0292792    0.0277415   0.0558023    …  0.0597782    0.0625486   0.0206419\n",
       " 0.0236344    0.0246469   0.0807604       0.0775855    0.0514237   0.0141793\n",
       " 0.01762      0.0295423   0.102412        0.115864     0.0881403   0.00852824"
      ]
     },
     "execution_count": 37,
     "metadata": {},
     "output_type": "execute_result"
    }
   ],
   "source": [
    "cifar_DHC_out = h5read(\"../scratch_AKS/data/cifar10_RGB.h5\", \"main/train_data\")"
   ]
  },
  {
   "cell_type": "code",
   "execution_count": 38,
   "id": "personal-selling",
   "metadata": {
    "ExecuteTime": {
     "end_time": "2021-03-16T22:39:49.006000-04:00",
     "start_time": "2021-03-17T02:38:47.189Z"
    }
   },
   "outputs": [
    {
     "data": {
      "text/plain": [
       "50000×1923 Array{Float64,2}:\n",
       " 0.580269  0.436284  0.286279  …  0.14994   0.120892   0.01762\n",
       " 0.564318  0.5634    0.56411      0.184861  0.144118   0.0295423\n",
       " 0.46359   0.458437  0.449199     0.33072   0.424569   0.102412\n",
       " 0.441879  0.36146   0.251306     0.130787  0.0815844  0.00899749\n",
       " 0.359007  0.400299  0.452498     0.160675  0.106516   0.0256936\n",
       " 0.569576  0.261594  0.224844  …  0.288434  0.378896   0.087813\n",
       " 0.45265   0.585911  0.340866     0.138268  0.119457   0.0203213\n",
       " 0.530125  0.490289  0.359276     0.20328   0.138219   0.0249112\n",
       " 0.424513  0.598856  0.720087     0.145608  0.113481   0.0193942\n",
       " 0.242167  0.228528  0.204498     0.266761  0.335046   0.0786091\n",
       " 0.327895  0.339138  0.256802  …  0.154478  0.156217   0.0258254\n",
       " 0.560814  0.494198  0.466773     0.29786   0.360036   0.0795406\n",
       " 0.444829  0.496809  0.476855     0.319207  0.402469   0.0933523\n",
       " ⋮                             ⋱  ⋮                    \n",
       " 0.640423  0.585768  0.516971     0.217314  0.229026   0.0488453\n",
       " 0.603112  0.535803  0.559631     0.209599  0.186097   0.0384184\n",
       " 0.622563  0.596903  0.571775  …  0.328377  0.40144    0.0860902\n",
       " 0.592506  0.572881  0.547935     0.339577  0.467749   0.103905\n",
       " 0.409308  0.397667  0.379405     0.290049  0.402828   0.0922662\n",
       " 0.513439  0.611137  0.60878      0.150403  0.141234   0.0205745\n",
       " 0.584529  0.605572  0.613093     0.257833  0.239316   0.0473352\n",
       " 0.578644  0.637368  0.747177  …  0.293796  0.402812   0.100117\n",
       " 0.733758  0.54933   0.233038     0.258766  0.274599   0.0519358\n",
       " 0.333831  0.416181  0.462129     0.336535  0.417091   0.115864\n",
       " 0.657957  0.687953  0.728403     0.316455  0.313499   0.0881403\n",
       " 0.491289  0.44982   0.438073     0.112826  0.0717571  0.00852824"
      ]
     },
     "execution_count": 38,
     "metadata": {},
     "output_type": "execute_result"
    }
   ],
   "source": [
    "cifar_DHC_out_iso = transformMaker2(cifar_DHC_out',filter_hash[\"S1_iso_mat\"],filter_hash[\"S2_iso_mat\"],Nc=3)"
   ]
  },
  {
   "cell_type": "code",
   "execution_count": 39,
   "id": "whole-lodging",
   "metadata": {
    "ExecuteTime": {
     "end_time": "2021-03-16T22:39:55.017000-04:00",
     "start_time": "2021-03-17T02:39:54.732Z"
    }
   },
   "outputs": [],
   "source": [
    "h5write(\"../scratch_AKS/data/cifar10_RGB.h5\", \"main/train_data_iso\", cifar_DHC_out_iso, deflate=3)"
   ]
  },
  {
   "cell_type": "code",
   "execution_count": null,
   "id": "simple-health",
   "metadata": {},
   "outputs": [],
   "source": [
    "train_x_ycbcr = zeros(size(train_x))\n",
    "for i=1:size(train_x)[4]\n",
    "    train_x_ycbcr[:,:,:,i] = color_convert(train_x[:,:,:,i],RGB,YCbCr)\n",
    "end\n",
    "test_x_ycbcr = zeros(size(test_x))\n",
    "for i=1:size(test_x)[4]\n",
    "    test_x_ycbcr[:,:,:,i] = color_convert(test_x[:,:,:,i],RGB,YCbCr)\n",
    "end\n",
    "\n",
    "lst_train = Array{Any}(undef, 0)\n",
    "for i = 1:size(train_x_ycbcr)[4]\n",
    "    push!(lst_train,train_x_ycbcr[:,:,:,i])\n",
    "end\n",
    "\n",
    "lst_test = Array{Any}(undef, 0)\n",
    "for i = 1:size(test_x_ycbcr)[4]\n",
    "    push!(lst_test,test_x_ycbcr[:,:,:,i])\n",
    "end"
   ]
  },
  {
   "cell_type": "code",
   "execution_count": null,
   "id": "authentic-fellowship",
   "metadata": {},
   "outputs": [],
   "source": [
    "h5write(\"../scratch_AKS/data/cifar10_YCbCr.h5\", \"main/test_labels\", test_y, deflate=3)\n",
    "h5write(\"../scratch_AKS/data/cifar10_YCbCr.h5\", \"main/train_labels\", train_y, deflate=3)\n",
    "\n",
    "cifar_DHC_out = @showprogress pmap(cifar_DHC, lst_train)\n",
    "cifar_DHC_out = hcat(cifar_DHC_out...)\n",
    "\n",
    "h5write(\"../scratch_AKS/data/cifar10_YCbCr.h5\", \"main/train_data\", cifar_DHC_out, deflate=3)\n",
    "\n",
    "cifar_DHC_out = @showprogress pmap(cifar_DHC, lst_test)\n",
    "cifar_DHC_out = hcat(cifar_DHC_out...)\n",
    "\n",
    "h5write(\"../scratch_AKS/data/cifar10_YCbCr.h5\", \"main/test_data\", cifar_DHC_out, deflate=3)"
   ]
  }
 ],
 "metadata": {
  "@webio": {
   "lastCommId": null,
   "lastKernelId": null
  },
  "kernelspec": {
   "display_name": "Julia 1.5.3",
   "language": "julia",
   "name": "julia-1.5"
  },
  "language_info": {
   "file_extension": ".jl",
   "mimetype": "application/julia",
   "name": "julia",
   "version": "1.5.3"
  }
 },
 "nbformat": 4,
 "nbformat_minor": 5
}
