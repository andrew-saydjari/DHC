{
 "cells": [
  {
   "cell_type": "code",
   "execution_count": null,
   "id": "executive-genius",
   "metadata": {},
   "outputs": [],
   "source": []
  },
  {
   "cell_type": "code",
   "execution_count": 24,
   "id": "material-forum",
   "metadata": {
    "ExecuteTime": {
     "end_time": "2021-03-16T20:24:44.543000-04:00",
     "start_time": "2021-03-17T00:24:41.093Z"
    }
   },
   "outputs": [
    {
     "name": "stderr",
     "output_type": "stream",
     "text": [
      "WARNING: using StatsBase.trim in module Main conflicts with an existing identifier.\n"
     ]
    }
   ],
   "source": [
    "push!(LOAD_PATH, \"/Users/saydjari/Dropbox/GradSchool_AKS/Doug/Projects/DHC/main\")\n",
    "using DHC_2DUtils\n",
    "using Profile\n",
    "using BenchmarkTools\n",
    "using FFTW\n",
    "using HDF5\n",
    "using Test\n",
    "using SparseArrays\n",
    "using Statistics\n",
    "using Plots\n",
    "using LinearAlgebra\n",
    "using Measures\n",
    "using Plots\n",
    "using MLDatasets\n",
    "using ImageCore\n",
    "using Colors\n",
    "using AbstractFFTs\n",
    "using Interpolations\n",
    "using DSP\n",
    "using StatsBase\n",
    "using Images"
   ]
  },
  {
   "cell_type": "code",
   "execution_count": 5,
   "id": "outstanding-delicious",
   "metadata": {
    "ExecuteTime": {
     "end_time": "2021-03-16T20:17:58.660000-04:00",
     "start_time": "2021-03-17T00:17:55.907Z"
    }
   },
   "outputs": [],
   "source": [
    "train_x, train_y = CIFAR10.traindata();\n",
    "test_x, test_y   = CIFAR10.testdata();"
   ]
  },
  {
   "cell_type": "code",
   "execution_count": 6,
   "id": "established-shoot",
   "metadata": {
    "ExecuteTime": {
     "end_time": "2021-03-16T20:17:58.664000-04:00",
     "start_time": "2021-03-17T00:17:58.031Z"
    }
   },
   "outputs": [
    {
     "data": {
      "text/plain": [
       "color_convert (generic function with 1 method)"
      ]
     },
     "execution_count": 6,
     "metadata": {},
     "output_type": "execute_result"
    }
   ],
   "source": [
    "function color_convert(array, color1, color2)\n",
    "    chan_img = channelview(array)\n",
    "    cv = colorview(color1, StackedView(array[:,:,1],array[:,:,2],array[:,:,3]))\n",
    "    y_im = color2.(cv)\n",
    "    channels = permutedims(channelview(float.(y_im)),(2,3,1))\n",
    "    return channels\n",
    "end"
   ]
  },
  {
   "cell_type": "code",
   "execution_count": 8,
   "id": "personal-sociology",
   "metadata": {
    "ExecuteTime": {
     "end_time": "2021-03-16T20:18:18.923000-04:00",
     "start_time": "2021-03-17T00:18:18.914Z"
    },
    "scrolled": true
   },
   "outputs": [
    {
     "data": {
      "text/plain": [
       "32×32×3 Array{Float32,3}:\n",
       "[:, :, 1] =\n",
       "  68.5746   32.1493   36.5748   38.7416  …  164.513   141.695   145.403\n",
       "  54.6376   16.0      23.6375   36.2322     148.075   126.544   133.376\n",
       "  57.2476   24.6552   42.9774   68.0112     150.554   139.294   142.069\n",
       "  64.7966   43.4909   64.7717   77.7211     146.838   145.396   145.951\n",
       "  83.0578   66.364    84.5582   84.0506     139.924   149.825   159.223\n",
       "  98.6016   92.3632  100.793    86.7765  …  131.101   153.816   174.701\n",
       " 112.978    98.1422  101.651    85.1937     121.941   144.798   175.318\n",
       " 116.521    96.2751   93.0116   77.4497     112.781   132.623   167.256\n",
       " 121.958    97.1099   88.045    80.988      103.356   119.267   154.954\n",
       " 123.862    89.9215   88.3902   93.824       97.7454  105.323   141.057\n",
       " 109.103    82.1311   89.0902   98.6592  …  104.158   106.162   133.592\n",
       " 105.448    79.139    85.435    85.7159     109.223   107.618   131.392\n",
       " 119.348    81.7764   83.4846   87.5555     106.255   103.678   131.084\n",
       "   ⋮                                     ⋱              ⋮       \n",
       " 115.499    99.4957  102.562   101.269   …  117.522   104.585   117.032\n",
       " 109.842    93.9975  103.421   106.767      103.329    96.2442  106.255\n",
       " 111.102    99.1084  109.185   106.413       88.3593   90.095    95.9084\n",
       " 113.678    93.1945   98.977   101.614       95.0341   83.8969   98.1121\n",
       " 124.241    90.5201   98.0202   95.5047     109.564    91.981   104.143\n",
       " 133.688    99.2063   98.3749  100.154   …  108.662    79.4198   96.4503\n",
       " 138.276   100.961   100.951   100.065       77.8121   47.5987   77.9049\n",
       " 131.848   103.22    112.055   102.544       42.0155   27.2514   87.3519\n",
       " 132.292   104.424   102.449    99.6494     109.988   102.608   140.414\n",
       " 133.691    97.3332   93.5432   96.8531     130.989   147.063   177.933\n",
       " 128.034    93.2958   94.0568   94.6219  …   46.6935   75.4933  122.486\n",
       " 126.601    96.7681   84.9034   74.8208      48.7083   67.3611  101.014\n",
       "\n",
       "[:, :, 2] =\n",
       " 128.884  128.593  126.534  123.3    120.501  …   89.8655  103.037   110.811\n",
       " 128.005  128.0    123.591  118.305  114.774      68.6186   85.0124  106.847\n",
       " 125.507  123.004  116.394  110.371  108.9        63.2216   71.704    98.3589\n",
       " 120.654  116.098  111.25   106.254  103.317      65.8624   65.7032   86.2036\n",
       " 115.071  109.339  108.752  105.079  103.026      73.3236   67.6083   79.0388\n",
       " 111.552  105.238  105.826  104.497  103.47   …   77.4247   66.2961   74.0701\n",
       " 109.202  102.894  105.826  106.402  105.084      87.6695   69.5189   71.7313\n",
       " 109.636  103.476  106.847  108.889  106.699      97.9142   76.5463   75.3932\n",
       " 110.959  105.968  107.731  106.847  106.122     101.867    87.2303   86.9556\n",
       " 111.843  107.143  108.027  105.386  105.386     103.619    95.2789   96.4647\n",
       " 112.43   108.17   108.615  106.561  105.381  …  105.37    100.248   102.756\n",
       " 114.044  108.906  110.229  107.588  106.117     104.925   102.877   107.0\n",
       " 113.457  107.879  107.884  105.535  105.826     103.168   103.168   108.17\n",
       "   ⋮                                          ⋱              ⋮       \n",
       " 107.747  102.608  104.804  104.063  103.037  …  101.126    98.1834  103.888\n",
       " 108.038  102.312  104.804  104.36   105.392     100.396    98.0406  103.168\n",
       " 109.789  103.328  104.947  104.069  106.413     102.592   104.069   111.123\n",
       " 109.789  103.767  105.386  104.36   107.571     101.713   103.185   109.356\n",
       " 109.641  103.328  104.947  103.92   103.619     102.746   103.476   109.345\n",
       " 109.641  103.767  105.238  104.211  104.497  …  105.249   106.265   110.811\n",
       " 110.959  105.233  105.238  103.767  105.084     112.15    115.214   115.071\n",
       " 111.694  106.408  106.265  103.328  104.942     118.436   121.505   115.071\n",
       " 112.43   106.704  106.852  104.502  107.291     103.492   106.265   107.742\n",
       " 113.605  108.318  108.027  106.117  110.377      96.3274   98.9463  103.931\n",
       " 113.896  108.17   107.731  106.413  113.309  …  113.753   110.514   108.175\n",
       " 115.219  109.636  109.048  111.398  116.828     119.035   115.208   114.621\n",
       "\n",
       "[:, :, 3] =\n",
       " 126.611  126.243  128.654  132.085  …  151.19   149.976  149.079  144.494\n",
       " 126.754  128.0    132.453  137.049     159.543  157.582  155.746  147.629\n",
       " 129.236  132.964  139.02   144.566     153.547  153.894  154.59   148.179\n",
       " 135.006  139.898  144.423  149.386     150.423  152.219  155.151  150.986\n",
       " 140.48   146.394  146.904  150.408     150.526  152.251  154.426  150.076\n",
       " 142.298  147.476  146.965  149.672  …  150.344  151.169  153.394  148.809\n",
       " 144.341  148.272  146.965  148.947     149.947  150.333  152.454  148.359\n",
       " 145.515  149.008  147.629  148.958     150.122  149.497  151.312  147.348\n",
       " 144.055  147.772  146.24   147.629     150.05   148.854  150.404  146.298\n",
       " 142.666  146.751  145.362  147.037     148.936  149.815  149.926  146.412\n",
       " 142.155  146.169  144.851  146.015  …  148.262  150.775  151.193  146.219\n",
       " 141.062  145.219  143.758  145.433     150.54   152.093  152.011  145.944\n",
       " 141.573  145.801  144.555  146.597     151.061  152.379  152.379  146.169\n",
       "   ⋮                                 ⋱                      ⋮      \n",
       " 142.502  146.658  146.301  148.497  …  152.011  151.05   154.85   155.167\n",
       " 142.869  147.537  146.301  147.619     151.204  150.754  154.043  152.379\n",
       " 143.83   149.447  147.108  147.251     149.151  150.397  147.251  139.877\n",
       " 143.83   149.376  147.037  147.619     148.854  150.54   148.64   142.655\n",
       " 144.269  149.447  147.108  147.69      147.976  148.711  149.008  145.148\n",
       " 144.269  149.376  147.476  148.058  …  146.515  144.983  146.894  144.494\n",
       " 144.055  148.722  147.476  149.376     142.42   139.295  141.287  140.48\n",
       " 143.105  147.701  146.894  149.447     142.787  140.348  141.094  140.48\n",
       " 142.155  146.822  146.383  148.426     145.687  145.269  146.894  143.748\n",
       " 141.134  145.73   145.362  147.333     144.809  144.359  147.669  145.198\n",
       " 141.502  146.169  146.24   146.455  …  141.287  140.695  145.373  144.923\n",
       " 140.041  145.515  146.026  143.983     134.863  137.345  142.534  143.044"
      ]
     },
     "execution_count": 8,
     "metadata": {},
     "output_type": "execute_result"
    }
   ],
   "source": [
    "test_ycc = color_convert(train_x[:,:,:,1],RGB,YCbCr)"
   ]
  },
  {
   "cell_type": "code",
   "execution_count": 15,
   "id": "occasional-rochester",
   "metadata": {
    "ExecuteTime": {
     "end_time": "2021-03-16T20:19:56.274000-04:00",
     "start_time": "2021-03-17T00:19:56.110Z"
    }
   },
   "outputs": [
    {
     "data": {
      "text/plain": [
       "50000"
      ]
     },
     "execution_count": 15,
     "metadata": {},
     "output_type": "execute_result"
    }
   ],
   "source": [
    "size(train_x)[4]"
   ]
  },
  {
   "cell_type": "code",
   "execution_count": 21,
   "id": "disciplinary-airplane",
   "metadata": {
    "ExecuteTime": {
     "end_time": "2021-03-16T20:21:16.465000-04:00",
     "start_time": "2021-03-17T00:21:10.095Z"
    }
   },
   "outputs": [],
   "source": [
    "train_x_ycbcr = zeros(size(train_x))\n",
    "for i=1:size(train_x)[4]\n",
    "    train_x_ycbcr[:,:,:,i] = color_convert(train_x[:,:,:,i],RGB,YCbCr)\n",
    "end\n",
    "test_x_ycbcr = zeros(size(test_x))\n",
    "for i=1:size(test_x)[4]\n",
    "    test_x_ycbcr[:,:,:,i] = color_convert(test_x[:,:,:,i],RGB,YCbCr)\n",
    "end"
   ]
  },
  {
   "cell_type": "code",
   "execution_count": 22,
   "id": "ethical-graduate",
   "metadata": {
    "ExecuteTime": {
     "end_time": "2021-03-16T20:24:06.652000-04:00",
     "start_time": "2021-03-17T00:24:06.557Z"
    }
   },
   "outputs": [
    {
     "data": {
      "text/plain": [
       "cifar_DHC (generic function with 1 method)"
      ]
     },
     "execution_count": 22,
     "metadata": {},
     "output_type": "execute_result"
    }
   ],
   "source": [
    "function wind_2d(nx)\n",
    "    dx   = nx/2-1\n",
    "    filter = zeros(Float64, nx, nx)\n",
    "    A = DSP.tukey(nx, 0.3)\n",
    "    itp = extrapolate(interpolate(A,BSpline(Linear())),0)\n",
    "    @inbounds for x = 1:nx\n",
    "        sx = x-dx-1    # define sx,sy so that no fftshift() needed\n",
    "        for y = 1:nx\n",
    "            sy = y-dx-1\n",
    "            r  = sqrt.((sx).^2 + (sy).^2) + nx/2\n",
    "            filter[x,y] = itp(r)\n",
    "        end\n",
    "    end\n",
    "    return filter\n",
    "end\n",
    "\n",
    "function wind_2d_RGB(nx)\n",
    "    dx   = nx/2-1\n",
    "    filter = zeros(Float64, nx, nx)\n",
    "    A = DSP.tukey(nx, 0.3)\n",
    "    itp = extrapolate(interpolate(A,BSpline(Linear())),0)\n",
    "    @inbounds for x = 1:nx\n",
    "        sx = x-dx-1    # define sx,sy so that no fftshift() needed\n",
    "        for y = 1:nx\n",
    "            sy = y-dx-1\n",
    "            r  = sqrt.((sx).^2 + (sy).^2) + nx/2\n",
    "            filter[x,y] = itp(r)\n",
    "        end\n",
    "    end\n",
    "    return reshape(filter,nx,nx,1)\n",
    "end\n",
    "\n",
    "function cifar_pad_RGB(im; θ=0.0)\n",
    "    imbig = convert(Array{Float64,3},imresize(im,(64,64,3)))\n",
    "    datad_w = fweights(wind_2d(64));\n",
    "    mu_imbig = zeros(1,1,3)\n",
    "    for chan = 1:3\n",
    "        mu_imbig[chan] = mean(imbig[:,:,chan],datad_w)\n",
    "    end\n",
    "    imbig .-= mu_imbig\n",
    "    imbig .*= wind_2d_RGB(64)\n",
    "    impad = zeros(Float64,128,128,3)\n",
    "    impad[96:-1:33,33:96,:] = imbig\n",
    "\n",
    "    if θ != 0.0\n",
    "        imrot = imrotate(impad, θ, axes(impad), Cubic(Throw(OnGrid())))\n",
    "        imrot[findall(imrot .!= imrot)] .= 0.0\n",
    "        return imrot .+ mu_imbig\n",
    "    end\n",
    "\n",
    "    return impad.+ mu_imbig\n",
    "end\n",
    "\n",
    "function cifar_DHC(x)\n",
    "    image = cifar_pad_RGB(x[:,:,:], θ=0.0)\n",
    "    WST = DHC_compute_RGB(image, filter_hash)\n",
    "    return WST\n",
    "end"
   ]
  },
  {
   "cell_type": "code",
   "execution_count": 25,
   "id": "previous-contest",
   "metadata": {
    "ExecuteTime": {
     "end_time": "2021-03-16T20:24:51.578000-04:00",
     "start_time": "2021-03-17T00:24:50.772Z"
    }
   },
   "outputs": [
    {
     "ename": "LoadError",
     "evalue": "UndefVarError: DHC_compute_RGB not defined",
     "output_type": "error",
     "traceback": [
      "UndefVarError: DHC_compute_RGB not defined",
      "",
      "Stacktrace:",
      " [1] cifar_DHC(::Array{Normed{UInt8,8},3}) at ./In[22]:56",
      " [2] top-level scope at In[25]:1",
      " [3] include_string(::Function, ::Module, ::String, ::String) at ./loading.jl:1091"
     ]
    }
   ],
   "source": [
    "cifar_DHC(train_x[:,:,:,10])"
   ]
  },
  {
   "cell_type": "code",
   "execution_count": null,
   "id": "worthy-boutique",
   "metadata": {},
   "outputs": [],
   "source": []
  }
 ],
 "metadata": {
  "@webio": {
   "lastCommId": null,
   "lastKernelId": null
  },
  "kernelspec": {
   "display_name": "Julia 1.5.3",
   "language": "julia",
   "name": "julia-1.5"
  },
  "language_info": {
   "file_extension": ".jl",
   "mimetype": "application/julia",
   "name": "julia",
   "version": "1.5.3"
  }
 },
 "nbformat": 4,
 "nbformat_minor": 5
}
