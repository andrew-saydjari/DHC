{
 "cells": [
  {
   "cell_type": "code",
   "execution_count": null,
   "id": "solid-midwest",
   "metadata": {},
   "outputs": [],
   "source": []
  },
  {
   "cell_type": "code",
   "execution_count": 1,
   "id": "vanilla-shield",
   "metadata": {
    "ExecuteTime": {
     "end_time": "2021-03-16T20:11:52.830000-04:00",
     "start_time": "2021-03-17T00:11:28.885Z"
    }
   },
   "outputs": [],
   "source": [
    "push!(LOAD_PATH, \"/Users/saydjari/Dropbox/GradSchool_AKS/Doug/Projects/DHC/main\")\n",
    "using DHC_2DUtils\n",
    "using Profile\n",
    "using BenchmarkTools\n",
    "using FFTW\n",
    "using HDF5\n",
    "using Test\n",
    "using SparseArrays\n",
    "using Statistics\n",
    "using Plots\n",
    "using LinearAlgebra\n",
    "using Measures\n",
    "using Plots\n",
    "using MLDatasets\n",
    "using ImageCore\n",
    "using Colors\n",
    "using AbstractFFTs"
   ]
  },
  {
   "cell_type": "code",
   "execution_count": 2,
   "id": "plastic-happening",
   "metadata": {
    "ExecuteTime": {
     "end_time": "2021-03-16T20:12:49.750000-04:00",
     "start_time": "2021-03-17T00:12:28.689Z"
    }
   },
   "outputs": [],
   "source": [
    "train_x, train_y = CIFAR10.traindata();\n",
    "test_x, test_y   = CIFAR10.testdata();"
   ]
  },
  {
   "cell_type": "code",
   "execution_count": null,
   "id": "blessed-holmes",
   "metadata": {},
   "outputs": [],
   "source": []
  }
 ],
 "metadata": {
  "kernelspec": {
   "display_name": "Julia 1.5.3",
   "language": "julia",
   "name": "julia-1.5"
  },
  "language_info": {
   "file_extension": ".jl",
   "mimetype": "application/julia",
   "name": "julia",
   "version": "1.5.3"
  }
 },
 "nbformat": 4,
 "nbformat_minor": 5
}
