{
 "cells": [
  {
   "cell_type": "code",
   "execution_count": null,
   "id": "demanding-escape",
   "metadata": {},
   "outputs": [],
   "source": []
  },
  {
   "cell_type": "code",
   "execution_count": 1,
   "id": "round-singles",
   "metadata": {
    "ExecuteTime": {
     "end_time": "2021-04-05T01:54:55.181362Z",
     "start_time": "2021-04-05T01:54:51.465279Z"
    },
    "code_folding": [
     0
    ]
   },
   "outputs": [
    {
     "name": "stderr",
     "output_type": "stream",
     "text": [
      "/opt/miniconda3/envs/IWST/lib/python3.8/_collections_abc.py:666: MatplotlibDeprecationWarning: The global colormaps dictionary is no longer considered public API.\n",
      "  self[key]\n"
     ]
    }
   ],
   "source": [
    "## Import Packages\n",
    "from __future__ import print_function\n",
    "\n",
    "import numpy as np\n",
    "import pandas as pd\n",
    "from itertools import product\n",
    "\n",
    "#Astro Software\n",
    "import astropy.units as units\n",
    "from astropy.coordinates import SkyCoord\n",
    "from astropy.io import fits\n",
    "\n",
    "#Plotting Packages\n",
    "import matplotlib as mpl\n",
    "import matplotlib.cm as cm\n",
    "import matplotlib.pyplot as plt\n",
    "from matplotlib import rcParams\n",
    "\n",
    "import seaborn as sns\n",
    "\n",
    "from PIL import Image\n",
    "\n",
    "from yt.config import ytcfg\n",
    "import yt\n",
    "import yt.units as u\n",
    "\n",
    "#Scattering NN\n",
    "import torch\n",
    "import torch.nn.functional as F\n",
    "from torch import optim\n",
    "from kymatio.torch import Scattering2D\n",
    "device = \"cpu\"\n",
    "\n",
    "#Machine Learning\n",
    "from sklearn.model_selection import train_test_split\n",
    "from sklearn.mixture import GaussianMixture\n",
    "from sklearn.discriminant_analysis import LinearDiscriminantAnalysis as LDA\n",
    "from sklearn.ensemble import RandomForestClassifier\n",
    "from sklearn.metrics import confusion_matrix\n",
    "from sklearn.metrics import accuracy_score\n",
    "from sklearn.metrics import precision_score\n",
    "from sklearn.decomposition import PCA, FastICA\n",
    "\n",
    "import skimage\n",
    "from skimage import filters\n",
    "\n",
    "from scipy.optimize import curve_fit\n",
    "from scipy import linalg\n",
    "from scipy import stats\n",
    "from scipy.signal import general_gaussian\n",
    "\n",
    "#I/O\n",
    "import h5py\n",
    "import pickle\n",
    "import glob\n",
    "import copy\n",
    "import time\n",
    "\n",
    "#Plotting Style\n",
    "%matplotlib inline\n",
    "plt.style.use('dark_background')\n",
    "rcParams['text.usetex'] = False\n",
    "rcParams['axes.titlesize'] = 20\n",
    "rcParams['xtick.labelsize'] = 16\n",
    "rcParams['ytick.labelsize'] = 16\n",
    "rcParams['legend.fontsize'] = 12\n",
    "rcParams['axes.labelsize'] = 20\n",
    "rcParams['font.family'] = 'sans-serif'\n",
    "\n",
    "#Threading\n",
    "torch.set_num_threads=2\n",
    "from multiprocessing import Pool\n",
    "\n",
    "import ntpath\n",
    "def path_leaf(path):\n",
    "    head, tail = ntpath.split(path)\n",
    "    out = os.path.splitext(tail)[0]\n",
    "    return out\n",
    "\n",
    "def hd5_open(file_name,name):\n",
    "    f=h5py.File(file_name,'r', swmr=True)\n",
    "    data = f[name][:]\n",
    "    f.close()\n",
    "    return data\n",
    "\n",
    "from matplotlib.colors import LinearSegmentedColormap\n",
    "cdict1 = {'red':   ((0.0, 0.0, 0.0),\n",
    "                   (0.5, 0.0, 0.0),\n",
    "                   (1.0, 1.0, 1.0)),\n",
    "\n",
    "         'green': ((0.0, 0.0, 0.0),\n",
    "                   (1.0, 0.0, 0.0)),\n",
    "\n",
    "         'blue':  ((0.0, 0.0, 1.0),\n",
    "                   (0.5, 0.0, 0.0),\n",
    "                   (1.0, 0.0, 0.0))\n",
    "        }\n",
    "blue_red1 = LinearSegmentedColormap('BlueRed1', cdict1,N=5000)\n",
    "\n",
    "from sklearn.preprocessing import StandardScaler"
   ]
  },
  {
   "cell_type": "code",
   "execution_count": 2,
   "id": "stone-breathing",
   "metadata": {
    "ExecuteTime": {
     "end_time": "2021-04-05T01:55:24.073596Z",
     "start_time": "2021-04-05T01:55:24.061967Z"
    }
   },
   "outputs": [],
   "source": [
    "mnist_train_y = hd5_open('../scratch_AKS/data/mnist_train_y.h5','main/data')\n",
    "mnist_test_y = hd5_open('../scratch_AKS/data/mnist_test_y.h5','main/data')\n",
    "test_angles = hd5_open('../scratch_AKS/data/angles_listjl.h5','main/test_angles')\n",
    "train_angles = hd5_open('../scratch_AKS/data/angles_listjl.h5','main/train_angles')"
   ]
  },
  {
   "cell_type": "code",
   "execution_count": 3,
   "id": "vanilla-australia",
   "metadata": {
    "ExecuteTime": {
     "end_time": "2021-04-05T01:56:25.175799Z",
     "start_time": "2021-04-05T01:56:25.167192Z"
    },
    "code_folding": [
     0,
     6
    ]
   },
   "outputs": [],
   "source": [
    "def prec_LDA(lda,X_test,y_test):\n",
    "    y_pred = lda.predict(X_test)\n",
    "    cm = confusion_matrix(y_test, y_pred)\n",
    "    prec = precision_score(y_test, y_pred,average='micro')\n",
    "    return prec\n",
    "\n",
    "def DHC_iso(wst,J,L):\n",
    "    (nk, Nd) = np.shape(wst)\n",
    "    S0 = wst[:,0:2]\n",
    "    S1 = wst[:,2:J*L+2]\n",
    "    S2 = np.reshape(wst[:,J*L+3:],(nk,(J*L+1),(J*L+1)))\n",
    "    \n",
    "    S1iso = np.zeros((nk,J))\n",
    "    for j1 in range(J):\n",
    "        for l1 in range(L):\n",
    "            S1iso[:,j1] += S1[:,l1*J+j1]\n",
    "    \n",
    "    S2iso = np.zeros((nk,J,J,L))\n",
    "    for j1 in range(J):\n",
    "        for j2 in range(J):\n",
    "            for l1 in range(L):\n",
    "                for l2 in range(L):\n",
    "                    deltaL = np.mod(l1-l2,L)\n",
    "                    S2iso[:,j1,j2,deltaL] += S2[:,l1*J+j1,l2*J+j2]\n",
    "                    \n",
    "    Sphi1 = np.zeros((nk,J))\n",
    "    for j1 in range(J):\n",
    "        for l1 in range(L):\n",
    "            Sphi1[:,j1] += S2[:,l1*J+j1,L*J]\n",
    "            \n",
    "    Sphi2 = np.zeros((nk,J))\n",
    "    for j1 in range(J):\n",
    "        for l1 in range(L):\n",
    "            Sphi2[:,j1] += S2[:,L*J,l1*J+j1]\n",
    "            \n",
    "    return np.hstack((S0,S1iso,wst[:,J*L+2].reshape(nk,1),S2iso.reshape(nk,J*J*L),Sphi1,Sphi2,S2[:,L*J,L*J].reshape(nk,1)))"
   ]
  },
  {
   "cell_type": "code",
   "execution_count": 4,
   "id": "discrete-skating",
   "metadata": {
    "ExecuteTime": {
     "end_time": "2021-04-05T02:00:49.849059Z",
     "start_time": "2021-04-05T02:00:22.197213Z"
    }
   },
   "outputs": [],
   "source": [
    "mnist_DHC_train_LanRot = hd5_open('../from_cannon/2021_03_28/mnist_DHC_train_ang_LanRotResize.h5','data')\n",
    "mnist_DHC_test_LanRot = hd5_open('../from_cannon/2021_03_28/mnist_DHC_test_ang_LanRotResize.h5','data')"
   ]
  },
  {
   "cell_type": "code",
   "execution_count": null,
   "id": "designed-willow",
   "metadata": {},
   "outputs": [],
   "source": [
    "mnist_DHC_outR = hd5_open('../from_cannon/2021_04_04/mnist_DHC_train_RR_wd2.h5','main/data')\n",
    "mnist_DHC_outR_test = hd5_open('../from_cannon/2021_04_04/mnist_DHC_test_RR_wd2.h5','main/data')"
   ]
  },
  {
   "cell_type": "code",
   "execution_count": null,
   "id": "honest-making",
   "metadata": {},
   "outputs": [],
   "source": [
    "angle_3_train = np.vstack([DHC_iso(mnist_DHC_train_LanRot[1::6,:],6,8),DHC_iso(mnist_DHC_train_LanRot[2::6,:],6,8),DHC_iso(mnist_DHC_train_LanRot[3::6,:],6,8)])\n",
    "angle_3_test = np.hstack([mnist_train_y,mnist_train_y,mnist_train_y])"
   ]
  },
  {
   "cell_type": "code",
   "execution_count": null,
   "id": "native-concentration",
   "metadata": {},
   "outputs": [],
   "source": [
    "N = 10\n",
    "ldaAug = LDA(n_components=N-1)\n",
    "ldaAug.fit(DHC_iso(angle_3_train,6,8), angle_3_test)"
   ]
  },
  {
   "cell_type": "code",
   "execution_count": null,
   "id": "photographic-cardiff",
   "metadata": {},
   "outputs": [],
   "source": [
    "N = 10\n",
    "ldaNR = LDA(n_components=N-1)\n",
    "ldaNR.fit(DHC_iso(mnist_DHC_train_LanRot[1::6,:],6,8), mnist_train_y)"
   ]
  },
  {
   "cell_type": "code",
   "execution_count": null,
   "id": "abroad-retreat",
   "metadata": {},
   "outputs": [],
   "source": [
    "N = 10\n",
    "ldaR = LDA(n_components=N-1)\n",
    "ldaR.fit(DHC_iso(mnist_DHC_outR,6,8), mnist_train_y)"
   ]
  },
  {
   "cell_type": "code",
   "execution_count": null,
   "id": "ideal-biology",
   "metadata": {},
   "outputs": [],
   "source": [
    "prec_LDA(ldaNR,DHC_iso(mnist_DHC_out_test,6,8),mnist_test_y)"
   ]
  },
  {
   "cell_type": "code",
   "execution_count": null,
   "id": "broken-ultimate",
   "metadata": {},
   "outputs": [],
   "source": [
    "prec_LDA(ldaR,DHC_iso(mnist_DHC_outR_test,6,8),mnist_test_y)"
   ]
  },
  {
   "cell_type": "code",
   "execution_count": null,
   "id": "related-desert",
   "metadata": {},
   "outputs": [],
   "source": [
    "prec_LDA(ldaNR,DHC_iso(mnist_DHC_outR_test,6,8),mnist_test_y)"
   ]
  },
  {
   "cell_type": "code",
   "execution_count": null,
   "id": "floating-irish",
   "metadata": {},
   "outputs": [],
   "source": [
    "prec_LDA(ldaAug,DHC_iso(mnist_DHC_out_test,6,8),mnist_test_y)"
   ]
  },
  {
   "cell_type": "code",
   "execution_count": null,
   "id": "sticky-shirt",
   "metadata": {},
   "outputs": [],
   "source": [
    "prec_LDA(ldaAug,DHC_iso(mnist_DHC_outR_test,6,8),mnist_test_y)"
   ]
  },
  {
   "cell_type": "code",
   "execution_count": null,
   "id": "loose-hudson",
   "metadata": {},
   "outputs": [],
   "source": [
    "N = 10\n",
    "ldaAugREG = LDA(n_components=N-1)\n",
    "ldaAugREG.fit(angle_3_train, angle_3_test)"
   ]
  },
  {
   "cell_type": "code",
   "execution_count": null,
   "id": "available-austria",
   "metadata": {},
   "outputs": [],
   "source": [
    "N = 10\n",
    "ldaNRREG = LDA(n_components=N-1)\n",
    "ldaNRREG.fit(mnist_DHC_train_LanRot[1::6,:], mnist_train_y)"
   ]
  },
  {
   "cell_type": "code",
   "execution_count": null,
   "id": "spoken-punishment",
   "metadata": {},
   "outputs": [],
   "source": [
    "N = 10\n",
    "ldaRREG = LDA(n_components=N-1)\n",
    "ldaRREG.fit(mnist_DHC_outR, mnist_train_y)"
   ]
  },
  {
   "cell_type": "code",
   "execution_count": null,
   "id": "attempted-roads",
   "metadata": {},
   "outputs": [],
   "source": [
    "prec_LDA(ldaNRREG,mnist_DHC_out_test,mnist_test_y)"
   ]
  },
  {
   "cell_type": "code",
   "execution_count": null,
   "id": "naked-innocent",
   "metadata": {},
   "outputs": [],
   "source": [
    "prec_LDA(ldaRREG,mnist_DHC_outR_test,mnist_test_y)"
   ]
  },
  {
   "cell_type": "code",
   "execution_count": null,
   "id": "metropolitan-novel",
   "metadata": {},
   "outputs": [],
   "source": [
    "prec_LDA(ldaNRREG,mnist_DHC_outR_test,mnist_test_y)"
   ]
  },
  {
   "cell_type": "code",
   "execution_count": null,
   "id": "dependent-synthetic",
   "metadata": {},
   "outputs": [],
   "source": [
    "prec_LDA(ldaAugREG,mnist_DHC_out_test,mnist_test_y)"
   ]
  },
  {
   "cell_type": "code",
   "execution_count": null,
   "id": "destroyed-potter",
   "metadata": {},
   "outputs": [],
   "source": [
    "prec_LDA(ldaAugREG,mnist_DHC_outR_test,mnist_test_y)"
   ]
  },
  {
   "cell_type": "code",
   "execution_count": null,
   "id": "cellular-motion",
   "metadata": {},
   "outputs": [],
   "source": [
    "test_list = [\n",
    "    '../from_cannon/2021_04_04/mnist_DHC_test_RR_wd2.h5',\n",
    "    '../from_cannon/2021_04_04/mnist_DHC_test_RR_wd2_0.h5',\n",
    "    '../from_cannon/2021_04_04/mnist_DHC_test_RR_wd2_1.h5',\n",
    "    '../from_cannon/2021_04_04/mnist_DHC_test_RR_wd2_2.h5',\n",
    "    '../from_cannon/2021_04_04/mnist_DHC_test_RR_wd2_3.h5',\n",
    "    '../from_cannon/2021_04_04/mnist_DHC_test_RR_wd2_4.h5',\n",
    "    '../from_cannon/2021_04_04/mnist_DHC_test_RR_wd2_5.h5',\n",
    "    '../from_cannon/2021_04_04/mnist_DHC_test_RR_wd2_6.h5'\n",
    "]"
   ]
  },
  {
   "cell_type": "code",
   "execution_count": null,
   "id": "failing-strategy",
   "metadata": {},
   "outputs": [],
   "source": [
    "prec_R_R = []\n",
    "for file in test_list:\n",
    "    mnist_DHC_outR_test = hd5_open(file,'main/data')\n",
    "    prec_R_R.append(prec_LDA(ldaR,DHC_iso(mnist_DHC_outR_test,6,8),mnist_test_y))"
   ]
  },
  {
   "cell_type": "code",
   "execution_count": null,
   "id": "stainless-declaration",
   "metadata": {},
   "outputs": [],
   "source": [
    "np.mean(prec_R_R),np.std(prec_R_R), prec_R_R"
   ]
  },
  {
   "cell_type": "code",
   "execution_count": null,
   "id": "pregnant-comparison",
   "metadata": {},
   "outputs": [],
   "source": [
    "prec_NR_R = []\n",
    "for file in test_list:\n",
    "    mnist_DHC_outR_test = hd5_open(file,'main/data')\n",
    "    prec_NR_R.append(prec_LDA(ldaNR,DHC_iso(mnist_DHC_outR_test,6,8),mnist_test_y))"
   ]
  },
  {
   "cell_type": "code",
   "execution_count": null,
   "id": "macro-tomato",
   "metadata": {},
   "outputs": [],
   "source": [
    "np.mean(prec_NR_R),np.std(prec_NR_R),prec_NR_R"
   ]
  },
  {
   "cell_type": "code",
   "execution_count": null,
   "id": "sacred-brooks",
   "metadata": {},
   "outputs": [],
   "source": [
    "prec_NRAug_R = []\n",
    "for file in test_list:\n",
    "    mnist_DHC_outR_test = hd5_open(file,'main/data')\n",
    "    prec_NRAug_R.append(prec_LDA(ldaAug,DHC_iso(mnist_DHC_outR_test,6,8),mnist_test_y))"
   ]
  },
  {
   "cell_type": "code",
   "execution_count": null,
   "id": "historical-auction",
   "metadata": {},
   "outputs": [],
   "source": [
    "np.mean(prec_NRAug_R),np.std(prec_NRAug_R),prec_NRAug_R"
   ]
  },
  {
   "cell_type": "code",
   "execution_count": null,
   "id": "focused-milton",
   "metadata": {},
   "outputs": [],
   "source": [
    "prec_R_R_REG = []\n",
    "for file in test_list:\n",
    "    mnist_DHC_outR_test = hd5_open(file,'main/data')\n",
    "    prec_R_R_REG.append(prec_LDA(ldaRREG,mnist_DHC_outR_test,mnist_test_y))\n",
    "np.mean(prec_R_R_REG),np.std(prec_R_R_REG),prec_R_R_REG"
   ]
  },
  {
   "cell_type": "code",
   "execution_count": null,
   "id": "speaking-german",
   "metadata": {},
   "outputs": [],
   "source": [
    "prec_NR_R_REG = []\n",
    "for file in test_list:\n",
    "    mnist_DHC_outR_test = hd5_open(file,'main/data')\n",
    "    prec_NR_R_REG.append(prec_LDA(ldaNRREG,mnist_DHC_outR_test,mnist_test_y))\n",
    "np.mean(prec_NR_R_REG),np.std(prec_NR_R_REG),prec_NR_R_REG"
   ]
  },
  {
   "cell_type": "code",
   "execution_count": null,
   "id": "signal-december",
   "metadata": {},
   "outputs": [],
   "source": [
    "prec_AUG_R_REG = []\n",
    "for file in test_list:\n",
    "    mnist_DHC_outR_test = hd5_open(file,'main/data')\n",
    "    prec_AUG_R_REG.append(prec_LDA(ldaAugREG,mnist_DHC_outR_test,mnist_test_y))\n",
    "np.mean(prec_AUG_R_REG),np.std(prec_AUG_R_REG),prec_AUG_R_REG"
   ]
  },
  {
   "cell_type": "markdown",
   "id": "multiple-shift",
   "metadata": {},
   "source": [
    "RWST and WST_log WU"
   ]
  },
  {
   "cell_type": "code",
   "execution_count": null,
   "id": "explicit-farming",
   "metadata": {},
   "outputs": [],
   "source": [
    "with open('../../IWST/FromCannon/2021_04_04/RWST_MHD_rinvar_cumsum.p', 'rb') as input_file:\n",
    "    RWST_MHD_rinvar_cumsum = np.array(pickle.load(input_file))"
   ]
  },
  {
   "cell_type": "code",
   "execution_count": null,
   "id": "double-factory",
   "metadata": {},
   "outputs": [],
   "source": [
    "offset_1 = np.repeat([True, False, False],8)\n",
    "amp_1 = np.repeat([False, True, False],8)\n",
    "angle_1 = np.repeat([False, False, True],8)\n",
    "offset_2 = np.repeat([True, False, False, False, False],8*7/2)\n",
    "amp_2 = np.repeat([False, True, True, True, False],8*7/2)\n",
    "angle_2 = np.repeat([False, False, False, False, True],8*7/2)"
   ]
  },
  {
   "cell_type": "code",
   "execution_count": null,
   "id": "smoking-spending",
   "metadata": {
    "code_folding": [
     2
    ]
   },
   "outputs": [],
   "source": [
    "J = 8\n",
    "L = 8\n",
    "def WST_log_iso(scattering_coefficients):\n",
    "    scattering_coefficients_0 = scattering_coefficients[0]\n",
    "    scattering_coefficients_1 = np.log2(scattering_coefficients[1:L*J+1])\n",
    "    \n",
    "    rep_template = [(J-np.floor_divide(i,L)-1)*L for i in range(0,L*J)]\n",
    "    scattering_coefficients_2 = np.log2(scattering_coefficients[L*J+1:]) - np.repeat(scattering_coefficients_1,rep_template, axis=0)\n",
    "    \n",
    "    scattering_coefficients_1 = scattering_coefficients_1.reshape(J,L)\n",
    "    data1_iso = np.sum(scattering_coefficients_1,axis=1)\n",
    "    \n",
    "    indx_coeff = []\n",
    "    for j in range(0,J):\n",
    "        for the1 in range(0,L):\n",
    "            for k in range(j+1,J):\n",
    "                for the2 in range(0,L):\n",
    "                    indx_coeff.append([j,the1,k,the2])\n",
    "    indx_coeff = np.asarray(indx_coeff)\n",
    "\n",
    "    scat2 = np.zeros((J,J,L))\n",
    "    scat2[:] = np.NaN\n",
    "        \n",
    "    for j1 in range(0,J):\n",
    "        for j2 in range(j1+1,J):\n",
    "            scattering_coefficients_2_temp = scattering_coefficients_2[np.logical_and(indx_coeff[:,0]==j1,indx_coeff[:,2]==j2)].reshape(L,L)\n",
    "            data2_iso_temp = np.array([np.sum([scattering_coefficients_2_temp[l,np.remainder(l+d,8)] for d in range(0,8)],axis=0) for l in range(0,8)])\n",
    "            scat2[j1,j2,:] = data2_iso_temp\n",
    "    \n",
    "    data2 = scat2.flatten()\n",
    "    out2 = [x for x in data2 if not np.isnan(x)]\n",
    "    \n",
    "    return np.append(\n",
    "        np.reshape(\n",
    "            scattering_coefficients_0,\n",
    "            1)\n",
    "        ,np.append(data1_iso,out2,axis=0)\n",
    "        ,axis=0)"
   ]
  },
  {
   "cell_type": "code",
   "execution_count": null,
   "id": "excessive-canal",
   "metadata": {
    "code_folding": [
     0
    ]
   },
   "outputs": [],
   "source": [
    "def LDA_AKS_testman(X_train,y_train,X_test,y_test,n_components,label_list):\n",
    "    lda = LDA(n_components=n_components)\n",
    "    X_train = lda.fit_transform(X_train, y_train)\n",
    "    y_pred = lda.predict(X_test)\n",
    "    X_test = lda.transform(X_test)\n",
    "    cm = confusion_matrix(y_test, y_pred)\n",
    "    prec = precision_score(y_test, y_pred,average='micro')\n",
    "    print(cm)\n",
    "    print('Accuracy' + str(prec))\n",
    "    cmap_normal = (cm.T/cm.sum(axis=1)).T\n",
    "    \n",
    "    fig = plt.figure(figsize=(10,10),dpi=150)\n",
    "\n",
    "    ax = fig.add_subplot(2,2,1)\n",
    "    ax.imshow(cmap_normal,cmap='gray',vmin=0,vmax=1)\n",
    "\n",
    "    ax.set_xticks(np.arange(cm.shape[0]))\n",
    "    ax.set_yticks(np.arange(cm.shape[1]))\n",
    "\n",
    "    ax.set_xticklabels(label_list)\n",
    "    ax.set_yticklabels(label_list)\n",
    "\n",
    "    plt.xlabel('Predicted Label')\n",
    "    plt.ylabel('True Label')\n",
    "\n",
    "    plt.setp(ax.get_xticklabels(), rotation=90, ha=\"right\",va='center',\n",
    "             rotation_mode=\"anchor\")\n",
    "    plt.title('Test-Train Fidelity ({:.0f}\\%)'.format(100*prec))\n",
    "\n",
    "    # Loop over data dimensions and create text annotations.\n",
    "    textcolors=[\"black\", \"white\"]\n",
    "    threshold = 0.5\n",
    "    for i in range(cm.shape[0]):\n",
    "        for j in range(cm.shape[1]):\n",
    "            if cm[i, j] != 0:\n",
    "                text = ax.text(j, i, cm[i, j],\n",
    "                               ha=\"center\", va=\"center\", color=textcolors[int(cmap_normal[i, j] < threshold)])\n",
    "    if n_components == 1:\n",
    "        ax = fig.add_subplot(2,2,2)\n",
    "        #ax.scatter(X_train, y_train, s=2, marker='o', zorder=10,c=y_train, cmap = 'bwr',alpha=0.5)\n",
    "        #ax.scatter(X_test, y_test, s=2, marker='^', zorder=10,c=y_test, cmap = 'bwr',alpha=0.5)\n",
    "        sns.distplot(X_test[y_test==0],ax=ax)\n",
    "        sns.distplot(X_test[y_test==1],ax=ax)\n",
    "        plt.xlabel('$LDA_{}$'.format(0))\n",
    "        plt.ylabel('Probability Density')\n",
    "        plt.title('LDA Projection')\n",
    "        \n",
    "    if n_components == 2:\n",
    "        ax = fig.add_subplot(2,2,2)\n",
    "        #ax.scatter(X_train[:,0], X_train[:,1], s=2, marker='o', zorder=10,c=y_train, cmap = 'bwr',alpha=0.5)\n",
    "        ax.scatter(X_test[:,0], X_test[:,1], s=2, marker='^', zorder=10,c=y_test, cmap = 'bwr',alpha=0.5)\n",
    "        plt.xlabel('$LDA_{}$'.format(i-2))\n",
    "        plt.ylabel('$LDA_{}$'.format(i-1))\n",
    "        plt.title('LDA Projection')\n",
    "    elif n_components > 2:\n",
    "        for i in range(2,5):\n",
    "            ax = fig.add_subplot(2,2,i)\n",
    "            #ax.scatter(X_train[:,i-2], X_train[:,i-1], s=2, marker='o', zorder=10,c=y_train, cmap = 'bwr',alpha=0.5)\n",
    "            ax.scatter(X_test[:,i-2], X_test[:,i-1], s=2, marker='^', zorder=10,c=y_test, cmap = 'bwr',alpha=0.5)\n",
    "            plt.xlabel('$LDA_{}$'.format(i-2))\n",
    "            plt.ylabel('$LDA_{}$'.format(i-1))\n",
    "            plt.title('LDA Projection')\n",
    "\n",
    "    fig.subplots_adjust(wspace=0.6, hspace=0.6)\n",
    "    plt.show()\n",
    "    \n",
    "    return (lda,cm,X_train,X_test,y_train,y_test,y_pred)"
   ]
  },
  {
   "cell_type": "code",
   "execution_count": null,
   "id": "instructional-louis",
   "metadata": {},
   "outputs": [],
   "source": [
    "with open('../../IWST/FromCannon/2020_11_09/WST_MHD_rinvar_cumsum.p', 'rb') as input_file:\n",
    "    WST_MHD_rinvar_cumsum = np.array(pickle.load(input_file))"
   ]
  },
  {
   "cell_type": "code",
   "execution_count": null,
   "id": "alone-bennett",
   "metadata": {},
   "outputs": [],
   "source": [
    "WST_MHD_rinvar_cumsum_log_iso = np.array([WST_log_iso(WST_MHD_rinvar_cumsum[i,:]) for i in range(6912)])"
   ]
  },
  {
   "cell_type": "code",
   "execution_count": null,
   "id": "jewish-england",
   "metadata": {},
   "outputs": [],
   "source": [
    "wph_2dcs_labels = np.transpose(hd5_open(\"../from_cannon/2021_03_30/MHD_2dcs.h5\",\"labels\"))\n",
    "\n",
    "lbl = {\n",
    "    \"Ms\"   : 0,\n",
    "    \"Ma\"   : 1,\n",
    "    \"t\"    : 2,\n",
    "    \"ax\"   : 3,\n",
    "    \"pos\"  : 4,\n",
    "    \"class\": 5\n",
    "}"
   ]
  },
  {
   "cell_type": "code",
   "execution_count": null,
   "id": "hollywood-advancement",
   "metadata": {},
   "outputs": [],
   "source": [
    "#\n",
    "data_in = RWST_MHD_rinvar_cumsum\n",
    "label = wph_2dcs_labels\n",
    "\n",
    "train = [~np.isin(ele[lbl[\"t\"]],[600,900]) for ele in label]\n",
    "test = [np.isin(ele[lbl[\"t\"]],[600,900]) for ele in label]\n",
    "Y = label[:,lbl[\"class\"]]\n",
    "\n",
    "sc = StandardScaler()\n",
    "X_train = sc.fit_transform(np.arcsinh(data[train]/(1e-20)))\n",
    "X_test = sc.transform(np.arcsinh(data[test]/(1e-20)))\n",
    "y_train = Y[train]\n",
    "y_test = Y[test]\n",
    "\n",
    "lda = LDA(n_components=7)\n",
    "X_train = lda.fit_transform(X_train, Y_train)\n",
    "y_predR = lda.predict(X_test)\n",
    "X_testR = lda.transform(X_test)\n",
    "cmR = confusion_matrix(Y_testR, y_predR)\n",
    "precR = precision_score(Y_testR, y_predR,average='micro')\n",
    "cmap_normalR = (cmR.T/cmR.sum(axis=1)).T\n",
    "\n",
    "data_in = RWST_MHD_rinvar_cumsum[:,np.concatenate((offset_1,offset_2))]\n",
    "label = wph_2dcs_labels\n",
    "\n",
    "train = [~np.isin(ele[lbl[\"t\"]],[600,900]) for ele in label]\n",
    "test = [np.isin(ele[lbl[\"t\"]],[600,900]) for ele in label]\n",
    "Y = label[:,lbl[\"class\"]]\n",
    "\n",
    "sc = StandardScaler()\n",
    "X_train = sc.fit_transform(np.arcsinh(data[train]/(1e-20)))\n",
    "X_test = sc.transform(np.arcsinh(data[test]/(1e-20)))\n",
    "y_train = Y[train]\n",
    "y_test = Y[test]\n",
    "\n",
    "lda = LDA(n_components=7)\n",
    "X_train = lda.fit_transform(X_train, Y_train)\n",
    "y_predRR = lda.predict(X_test)\n",
    "X_testRR = lda.transform(X_test)\n",
    "cmRR = confusion_matrix(Y_testRR, y_predRR)\n",
    "precRR = precision_score(Y_testRR, y_predRR,average='micro')\n",
    "cmap_normalRR = (cmRR.T/cmRR.sum(axis=1)).T\n",
    "\n",
    "data_in = WST_MHD_rinvar_cumsum_log_iso\n",
    "label = wph_2dcs_labels\n",
    "\n",
    "train = [~np.isin(ele[lbl[\"t\"]],[600,900]) for ele in label]\n",
    "test = [np.isin(ele[lbl[\"t\"]],[600,900]) for ele in label]\n",
    "Y = label[:,lbl[\"class\"]]\n",
    "\n",
    "sc = StandardScaler()\n",
    "X_train = sc.fit_transform(np.arcsinh(data[train]/(1e-20)))\n",
    "X_test = sc.transform(np.arcsinh(data[test]/(1e-20)))\n",
    "y_train = Y[train]\n",
    "y_test = Y[test]\n",
    "\n",
    "lda = LDA(n_components=7)\n",
    "X_train = lda.fit_transform(X_train, Y_train)\n",
    "y_predW = lda.predict(X_test)\n",
    "X_testW = lda.transform(X_test)\n",
    "cmW = confusion_matrix(Y_testW, y_predW)\n",
    "precW = precision_score(Y_testW, y_predW,average='micro')\n",
    "cmap_normalW = (cmW.T/cmW.sum(axis=1)).T"
   ]
  },
  {
   "cell_type": "code",
   "execution_count": null,
   "id": "functional-design",
   "metadata": {
    "code_folding": [
     0
    ]
   },
   "outputs": [],
   "source": [
    "#\n",
    "mpl.rcParams.update(mpl.rcParamsDefault)\n",
    "rcParams['text.usetex'] = False\n",
    "rcParams['axes.titlesize'] = 24\n",
    "rcParams['xtick.labelsize'] = 18\n",
    "rcParams['ytick.labelsize'] = 18\n",
    "rcParams['legend.fontsize'] = 12\n",
    "rcParams['axes.labelsize'] = 24\n",
    "rcParams['font.family'] = 'sans-serif'\n",
    "plt.style.use('seaborn-white')\n",
    "\n",
    "vmin=-7\n",
    "vmax=np.abs(vmin)\n",
    "marker_size = 10\n",
    "label_list = labels\n",
    "\n",
    "from matplotlib import cm as cmplt\n",
    "norm = mpl.colors.Normalize(vmin=vmin, vmax=vmax)\n",
    "rgba_colors = [cmplt.twilight(norm(i)) for i in [-4,-3,-2,-1,1,2,3,4]]\n",
    "color_order = [\"white\",\"black\"]\n",
    "color_map = \"binary\"\n",
    "\n",
    "fig = plt.figure(figsize=(12,17),dpi=150)\n",
    "\n",
    "colormap='twilight'\n",
    "\n",
    "ax = fig.add_subplot(3,2,1)\n",
    "ax.imshow(cmap_normalR,\n",
    "          interpolation='nearest',\n",
    "          cmap=color_map,\n",
    "          aspect='equal',\n",
    "          vmin=0,vmax=1\n",
    ")\n",
    "\n",
    "ax.set_xticks(np.arange(cmR.shape[0]))\n",
    "ax.set_yticks(np.arange(cmR.shape[1]))\n",
    "\n",
    "ax.set_xticklabels(label_list,size=16)\n",
    "ax.set_yticklabels(label_list,size=16)\n",
    "\n",
    "for ytick, color in zip(ax.get_yticklabels(), rgba_colors):\n",
    "    ytick.set_color(color)\n",
    "\n",
    "#plt.xlabel('Predicted Label')\n",
    "plt.ylabel('True Label')\n",
    "\n",
    "plt.setp(ax.get_xticklabels(), rotation=90, ha=\"right\",va='center',\n",
    "         rotation_mode=\"anchor\")\n",
    "plt.title('Accuracy ({:.0f}%)'.format(100*precR))\n",
    "\n",
    "# Loop over data dimensions and create text annotations.\n",
    "textcolors=color_order\n",
    "threshold = 0.5\n",
    "for i in range(cmR.shape[0]):\n",
    "    for j in range(cmR.shape[1]):\n",
    "        text = ax.text(j, i, cmR[i, j],\n",
    "                       ha=\"center\", va=\"center\",\n",
    "                       size=19,\n",
    "                       color=textcolors[int(cmap_normalR[i, j] < threshold)])\n",
    "for i in range(2,3):\n",
    "    ax = fig.add_subplot(3,2,i)\n",
    "    #ax.scatter(X_train[:,i-2], X_train[:,i-1], s=marker_size/2, marker='o', zorder=10,c=y_train, cmap = colormap, vmin=vmin,vmax=vmax,alpha=1)\n",
    "    sc_ref = ax.scatter(X_testR[Y_testR==y_predR,i-2], X_testR[Y_testR==y_predR,i-1], s=marker_size/2, marker='o', zorder=10,c=Y_testR[Y_testR==y_predR], cmap = colormap, vmin=vmin,vmax=vmax,alpha=1)\n",
    "    ax.scatter(X_testR[Y_testR!=y_predR,i-2], X_testR[Y_testR!=y_predR,i-1], s=marker_size*2, marker='x', zorder=10,c=Y_testR[Y_testR!=y_predR], cmap = colormap, vmin=vmin,vmax=vmax,alpha=1)\n",
    "\n",
    "    plt.xlabel('$LD_{}$'.format(i-2))\n",
    "    plt.ylabel('$LD_{}$'.format(i-1))\n",
    "    plt.title('RWST-LDA Projection')\n",
    "\n",
    "ax = fig.add_subplot(3,2,3)\n",
    "ax.imshow(cmap_normalRR,\n",
    "          interpolation='nearest',\n",
    "          cmap=color_map,\n",
    "          aspect='equal',\n",
    "          vmin=0,vmax=1\n",
    ")\n",
    "\n",
    "ax.set_xticks(np.arange(cmRR.shape[0]))\n",
    "ax.set_yticks(np.arange(cmRR.shape[1]))\n",
    "\n",
    "ax.set_xticklabels(label_list,size=16)\n",
    "ax.set_yticklabels(label_list,size=16)\n",
    "\n",
    "for ytick, color in zip(ax.get_yticklabels(), rgba_colors):\n",
    "    ytick.set_color(color)\n",
    "\n",
    "#plt.xlabel('Predicted Label')\n",
    "plt.ylabel('True Label')\n",
    "\n",
    "plt.setp(ax.get_xticklabels(), rotation=90, ha=\"right\",va='center',\n",
    "         rotation_mode=\"anchor\")\n",
    "plt.title('Accuracy ({:.0f}%)'.format(100*precRR))\n",
    "\n",
    "# Loop over data dimensions and create text annotations.\n",
    "textcolors=color_order\n",
    "threshold = 0.5\n",
    "for i in range(cmRR.shape[0]):\n",
    "    for j in range(cmRR\n",
    "                   .shape[1]):\n",
    "        text = ax.text(j, i, cmRR[i, j],\n",
    "                       ha=\"center\", va=\"center\",\n",
    "                       size=19,\n",
    "                       color=textcolors[int(cmap_normalRR[i, j] < threshold)])\n",
    "for i in range(2,3):\n",
    "    ax = fig.add_subplot(3,2,2+i)\n",
    "    #ax.scatter(X_train_1[:,i-2], X_train_1[:,i-1], s=marker_size/2, marker='o', zorder=10,c=y_train_1, cmap = colormap, vmin=vmin,vmax=vmax,alpha=1)\n",
    "    sc_ref = ax.scatter(X_testRR[Y_testRR==y_predRR,i-2], X_testRR[Y_testRR==y_predRR,i-1], s=marker_size/2, marker='o', zorder=10,c=Y_testRR[Y_testRR==y_predRR], cmap = colormap, vmin=vmin,vmax=vmax,alpha=1)\n",
    "    ax.scatter(X_testRR[Y_testRR!=y_predRR,i-2], X_testRR[Y_testRR!=y_predRR,i-1], s=marker_size*2, marker='x', zorder=10,c=Y_testRR[Y_testRR!=y_predRR], cmap = colormap, vmin=vmin,vmax=vmax,alpha=1)\n",
    "\n",
    "    plt.xlabel('$LD_{}$'.format(i-2))\n",
    "    plt.ylabel('$LD_{}$'.format(i-1))\n",
    "    plt.title('R-RWST-LDA Projection')\n",
    "    \n",
    "#     if i == 2:\n",
    "#         plt.xlim(-12,12)\n",
    "#         plt.ylim(-12,12)\n",
    "#     else:\n",
    "#         plt.xlim(-12,12)\n",
    "#         plt.ylim(-6,6)\n",
    "\n",
    "ax = fig.add_subplot(3,2,5)\n",
    "ax.imshow(cmap_normalW,\n",
    "          interpolation='nearest',\n",
    "          cmap=color_map,\n",
    "          aspect='equal',\n",
    "          vmin=0,vmax=1\n",
    ")\n",
    "\n",
    "ax.set_xticks(np.arange(cmW.shape[0]))\n",
    "ax.set_yticks(np.arange(cmW.shape[1]))\n",
    "\n",
    "ax.set_xticklabels(label_list,size=16)\n",
    "ax.set_yticklabels(label_list,size=16)\n",
    "\n",
    "for ytick, color in zip(ax.get_yticklabels(), rgba_colors):\n",
    "    ytick.set_color(color)\n",
    "\n",
    "plt.xlabel('Predicted Label')\n",
    "plt.ylabel('True Label')\n",
    "\n",
    "plt.setp(ax.get_xticklabels(), rotation=90, ha=\"right\",va='center',\n",
    "         rotation_mode=\"anchor\")\n",
    "plt.title('Accuracy ({:.0f}%)'.format(100*precW))\n",
    "\n",
    "# Loop over data dimensions and create text annotations.\n",
    "textcolors=color_order\n",
    "threshold = 0.5\n",
    "for i in range(cmW.shape[0]):\n",
    "    for j in range(cmW.shape[1]):\n",
    "        text = ax.text(j, i, cmW[i, j],\n",
    "                       ha=\"center\", va=\"center\",\n",
    "                       size=19,\n",
    "                       color=textcolors[int(cmap_normalW[i, j] < threshold)])\n",
    "for i in range(2,3):\n",
    "    ax = fig.add_subplot(3,2,4+i)\n",
    "    #ax.scatter(X_train_2[:,i-2], X_train_2[:,i-1], s=marker_size/2, marker='o', zorder=10,c=y_train_2, cmap = colormap, vmin=vmin,vmax=vmax,alpha=1)\n",
    "    sc_ref = ax.scatter(X_testW[Y_testW==y_predW,i-2], X_testW[Y_testW==y_predW,i-1], s=marker_size/2, marker='o', zorder=10,c=Y_testW[Y_testW==y_predW], cmap = colormap, vmin=vmin,vmax=vmax,alpha=1)\n",
    "    ax.scatter(X_testW[Y_testW!=y_predW,i-2], X_testW[Y_testW!=y_predW,i-1], s=marker_size*2, marker='x', zorder=10,c=Y_testW[Y_testW!=y_predW], cmap = colormap, vmin=vmin,vmax=vmax,alpha=1)\n",
    "\n",
    "    plt.xlabel('$LD_{}$'.format(i-2))\n",
    "    plt.ylabel('$LD_{}$'.format(i-1))\n",
    "    plt.title('WST-LOG-ISO-LDA Projection')\n",
    "    \n",
    "fig.subplots_adjust(wspace=0.35, hspace=0.45)\n",
    "#plt.savefig('../figures/RWSTCompare.png', dpi=150, bbox_inches='tight', pad_inches=0.1)\n",
    "plt.show()"
   ]
  }
 ],
 "metadata": {
  "kernelspec": {
   "display_name": "IWST",
   "language": "python",
   "name": "iwst"
  },
  "language_info": {
   "codemirror_mode": {
    "name": "ipython",
    "version": 3
   },
   "file_extension": ".py",
   "mimetype": "text/x-python",
   "name": "python",
   "nbconvert_exporter": "python",
   "pygments_lexer": "ipython3",
   "version": "3.8.6"
  }
 },
 "nbformat": 4,
 "nbformat_minor": 5
}
