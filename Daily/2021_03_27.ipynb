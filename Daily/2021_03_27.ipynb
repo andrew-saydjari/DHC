{
 "cells": [
  {
   "cell_type": "code",
   "execution_count": null,
   "id": "accepting-reception",
   "metadata": {},
   "outputs": [],
   "source": []
  },
  {
   "cell_type": "code",
   "execution_count": 2,
   "id": "fifteen-delicious",
   "metadata": {
    "ExecuteTime": {
     "end_time": "2021-03-27T19:01:34.704000-04:00",
     "start_time": "2021-03-27T23:01:15.349Z"
    }
   },
   "outputs": [],
   "source": [
    "## Preloads\n",
    "using Statistics\n",
    "using FFTW\n",
    "using Plots\n",
    "using BenchmarkTools\n",
    "using Profile\n",
    "using LinearAlgebra\n",
    "using Measures\n",
    "using HDF5\n",
    "using MLDatasets\n",
    "using Images\n",
    "theme(:juno)\n",
    "using DSP\n",
    "using Interpolations\n",
    "using Distributed\n",
    "using ProgressMeter"
   ]
  },
  {
   "cell_type": "code",
   "execution_count": 3,
   "id": "italic-graham",
   "metadata": {
    "ExecuteTime": {
     "end_time": "2021-03-27T19:01:52.167000-04:00",
     "start_time": "2021-03-27T23:01:48.838Z"
    }
   },
   "outputs": [],
   "source": [
    "# read the MNIST training data, x=image, y=class\n",
    "train_x, train_y = MNIST.traindata();\n",
    "test_x, test_y   = MNIST.testdata();"
   ]
  },
  {
   "cell_type": "code",
   "execution_count": 24,
   "id": "moved-theory",
   "metadata": {
    "ExecuteTime": {
     "end_time": "2021-03-27T19:10:37.380000-04:00",
     "start_time": "2021-03-27T23:10:36.624Z"
    }
   },
   "outputs": [
    {
     "data": {
      "text/plain": [
       "28×28 Array{Float64,2}:\n",
       " 0.0  0.0  0.0  0.0  0.0  0.0        …  0.0       0.0        0.0  0.0  0.0\n",
       " 0.0  0.0  0.0  0.0  0.0  0.0           0.0       0.0        0.0  0.0  0.0\n",
       " 0.0  0.0  0.0  0.0  0.0  0.0           0.0       0.0        0.0  0.0  0.0\n",
       " 0.0  0.0  0.0  0.0  0.0  0.0           0.0       0.0        0.0  0.0  0.0\n",
       " 0.0  0.0  0.0  0.0  0.0  0.0           0.215686  0.533333   0.0  0.0  0.0\n",
       " 0.0  0.0  0.0  0.0  0.0  0.0        …  0.67451   0.992157   0.0  0.0  0.0\n",
       " 0.0  0.0  0.0  0.0  0.0  0.0           0.886275  0.992157   0.0  0.0  0.0\n",
       " 0.0  0.0  0.0  0.0  0.0  0.0           0.992157  0.992157   0.0  0.0  0.0\n",
       " 0.0  0.0  0.0  0.0  0.0  0.0           0.992157  0.831373   0.0  0.0  0.0\n",
       " 0.0  0.0  0.0  0.0  0.0  0.0           0.992157  0.529412   0.0  0.0  0.0\n",
       " 0.0  0.0  0.0  0.0  0.0  0.0        …  0.992157  0.517647   0.0  0.0  0.0\n",
       " 0.0  0.0  0.0  0.0  0.0  0.0           0.956863  0.0627451  0.0  0.0  0.0\n",
       " 0.0  0.0  0.0  0.0  0.0  0.0117647     0.521569  0.0        0.0  0.0  0.0\n",
       " ⋮                        ⋮          ⋱                       ⋮         \n",
       " 0.0  0.0  0.0  0.0  0.0  0.494118      0.0       0.0        0.0  0.0  0.0\n",
       " 0.0  0.0  0.0  0.0  0.0  0.533333      0.0       0.0        0.0  0.0  0.0\n",
       " 0.0  0.0  0.0  0.0  0.0  0.686275      0.0       0.0        0.0  0.0  0.0\n",
       " 0.0  0.0  0.0  0.0  0.0  0.101961      0.0       0.0        0.0  0.0  0.0\n",
       " 0.0  0.0  0.0  0.0  0.0  0.65098    …  0.0       0.0        0.0  0.0  0.0\n",
       " 0.0  0.0  0.0  0.0  0.0  1.0           0.0       0.0        0.0  0.0  0.0\n",
       " 0.0  0.0  0.0  0.0  0.0  0.968627      0.0       0.0        0.0  0.0  0.0\n",
       " 0.0  0.0  0.0  0.0  0.0  0.498039      0.0       0.0        0.0  0.0  0.0\n",
       " 0.0  0.0  0.0  0.0  0.0  0.0           0.0       0.0        0.0  0.0  0.0\n",
       " 0.0  0.0  0.0  0.0  0.0  0.0        …  0.0       0.0        0.0  0.0  0.0\n",
       " 0.0  0.0  0.0  0.0  0.0  0.0           0.0       0.0        0.0  0.0  0.0\n",
       " 0.0  0.0  0.0  0.0  0.0  0.0           0.0       0.0        0.0  0.0  0.0"
      ]
     },
     "execution_count": 24,
     "metadata": {},
     "output_type": "execute_result"
    }
   ],
   "source": [
    "test_img = convert(Array{Float64,2},train_x[:,:,1])"
   ]
  },
  {
   "cell_type": "code",
   "execution_count": 48,
   "id": "natural-prefix",
   "metadata": {
    "ExecuteTime": {
     "end_time": "2021-03-27T19:14:17.273000-04:00",
     "start_time": "2021-03-27T23:14:17.271Z"
    }
   },
   "outputs": [
    {
     "data": {
      "text/plain": [
       "91.34955786236063"
      ]
     },
     "execution_count": 48,
     "metadata": {},
     "output_type": "execute_result"
    }
   ],
   "source": [
    "sum(test_img.^2)"
   ]
  },
  {
   "cell_type": "code",
   "execution_count": 25,
   "id": "innocent-selection",
   "metadata": {
    "ExecuteTime": {
     "end_time": "2021-03-27T19:10:41.800000-04:00",
     "start_time": "2021-03-27T23:10:41.648Z"
    }
   },
   "outputs": [
    {
     "data": {
      "text/plain": [
       "64×64 Array{Float64,2}:\n",
       " 0.0  0.0  0.0  0.0  0.0  0.0  0.0  0.0  0.0  …  0.0  0.0  0.0  0.0  0.0  0.0\n",
       " 0.0  0.0  0.0  0.0  0.0  0.0  0.0  0.0  0.0     0.0  0.0  0.0  0.0  0.0  0.0\n",
       " 0.0  0.0  0.0  0.0  0.0  0.0  0.0  0.0  0.0     0.0  0.0  0.0  0.0  0.0  0.0\n",
       " 0.0  0.0  0.0  0.0  0.0  0.0  0.0  0.0  0.0     0.0  0.0  0.0  0.0  0.0  0.0\n",
       " 0.0  0.0  0.0  0.0  0.0  0.0  0.0  0.0  0.0     0.0  0.0  0.0  0.0  0.0  0.0\n",
       " 0.0  0.0  0.0  0.0  0.0  0.0  0.0  0.0  0.0  …  0.0  0.0  0.0  0.0  0.0  0.0\n",
       " 0.0  0.0  0.0  0.0  0.0  0.0  0.0  0.0  0.0     0.0  0.0  0.0  0.0  0.0  0.0\n",
       " 0.0  0.0  0.0  0.0  0.0  0.0  0.0  0.0  0.0     0.0  0.0  0.0  0.0  0.0  0.0\n",
       " 0.0  0.0  0.0  0.0  0.0  0.0  0.0  0.0  0.0     0.0  0.0  0.0  0.0  0.0  0.0\n",
       " 0.0  0.0  0.0  0.0  0.0  0.0  0.0  0.0  0.0     0.0  0.0  0.0  0.0  0.0  0.0\n",
       " 0.0  0.0  0.0  0.0  0.0  0.0  0.0  0.0  0.0  …  0.0  0.0  0.0  0.0  0.0  0.0\n",
       " 0.0  0.0  0.0  0.0  0.0  0.0  0.0  0.0  0.0     0.0  0.0  0.0  0.0  0.0  0.0\n",
       " 0.0  0.0  0.0  0.0  0.0  0.0  0.0  0.0  0.0     0.0  0.0  0.0  0.0  0.0  0.0\n",
       " ⋮                        ⋮                   ⋱            ⋮              \n",
       " 0.0  0.0  0.0  0.0  0.0  0.0  0.0  0.0  0.0     0.0  0.0  0.0  0.0  0.0  0.0\n",
       " 0.0  0.0  0.0  0.0  0.0  0.0  0.0  0.0  0.0     0.0  0.0  0.0  0.0  0.0  0.0\n",
       " 0.0  0.0  0.0  0.0  0.0  0.0  0.0  0.0  0.0     0.0  0.0  0.0  0.0  0.0  0.0\n",
       " 0.0  0.0  0.0  0.0  0.0  0.0  0.0  0.0  0.0  …  0.0  0.0  0.0  0.0  0.0  0.0\n",
       " 0.0  0.0  0.0  0.0  0.0  0.0  0.0  0.0  0.0     0.0  0.0  0.0  0.0  0.0  0.0\n",
       " 0.0  0.0  0.0  0.0  0.0  0.0  0.0  0.0  0.0     0.0  0.0  0.0  0.0  0.0  0.0\n",
       " 0.0  0.0  0.0  0.0  0.0  0.0  0.0  0.0  0.0     0.0  0.0  0.0  0.0  0.0  0.0\n",
       " 0.0  0.0  0.0  0.0  0.0  0.0  0.0  0.0  0.0     0.0  0.0  0.0  0.0  0.0  0.0\n",
       " 0.0  0.0  0.0  0.0  0.0  0.0  0.0  0.0  0.0  …  0.0  0.0  0.0  0.0  0.0  0.0\n",
       " 0.0  0.0  0.0  0.0  0.0  0.0  0.0  0.0  0.0     0.0  0.0  0.0  0.0  0.0  0.0\n",
       " 0.0  0.0  0.0  0.0  0.0  0.0  0.0  0.0  0.0     0.0  0.0  0.0  0.0  0.0  0.0\n",
       " 0.0  0.0  0.0  0.0  0.0  0.0  0.0  0.0  0.0     0.0  0.0  0.0  0.0  0.0  0.0"
      ]
     },
     "execution_count": 25,
     "metadata": {},
     "output_type": "execute_result"
    }
   ],
   "source": [
    "temp1 = imresize(test_img,(64,64))"
   ]
  },
  {
   "cell_type": "code",
   "execution_count": 51,
   "id": "general-california",
   "metadata": {
    "ExecuteTime": {
     "end_time": "2021-03-27T19:14:27.120000-04:00",
     "start_time": "2021-03-27T23:14:27.118Z"
    }
   },
   "outputs": [
    {
     "data": {
      "text/plain": [
       "4.675298512034936"
      ]
     },
     "execution_count": 51,
     "metadata": {},
     "output_type": "execute_result"
    }
   ],
   "source": [
    "sum(temp1.^2)/sum(test_img.^2)"
   ]
  },
  {
   "cell_type": "code",
   "execution_count": 54,
   "id": "amended-romance",
   "metadata": {
    "ExecuteTime": {
     "end_time": "2021-03-27T19:15:34.758000-04:00",
     "start_time": "2021-03-27T23:15:34.756Z"
    }
   },
   "outputs": [],
   "source": [
    "temp2 = imrotate(test_img,0.3,Cubic(Throw(OnGrid())))\n",
    "temp2[isnan.(temp2)] .=0;"
   ]
  },
  {
   "cell_type": "code",
   "execution_count": 55,
   "id": "weighted-fraction",
   "metadata": {
    "ExecuteTime": {
     "end_time": "2021-03-27T19:15:35.290000-04:00",
     "start_time": "2021-03-27T23:15:35.287Z"
    }
   },
   "outputs": [
    {
     "data": {
      "text/plain": [
       "0.820745614985517"
      ]
     },
     "execution_count": 55,
     "metadata": {},
     "output_type": "execute_result"
    }
   ],
   "source": [
    "sum(temp2.^2)/sum(test_img.^2)"
   ]
  },
  {
   "cell_type": "code",
   "execution_count": 56,
   "id": "distant-thirty",
   "metadata": {
    "ExecuteTime": {
     "end_time": "2021-03-27T19:15:35.748000-04:00",
     "start_time": "2021-03-27T23:15:35.746Z"
    }
   },
   "outputs": [],
   "source": [
    "temp3 = imrotate(test_img,0.3)\n",
    "temp3[isnan.(temp3)] .=0;"
   ]
  },
  {
   "cell_type": "code",
   "execution_count": 57,
   "id": "representative-syndicate",
   "metadata": {
    "ExecuteTime": {
     "end_time": "2021-03-27T19:15:36.125000-04:00",
     "start_time": "2021-03-27T23:15:36.122Z"
    }
   },
   "outputs": [
    {
     "data": {
      "text/plain": [
       "0.8941295666456184"
      ]
     },
     "execution_count": 57,
     "metadata": {},
     "output_type": "execute_result"
    }
   ],
   "source": [
    "sum(temp3.^2)/sum(test_img.^2)"
   ]
  },
  {
   "cell_type": "code",
   "execution_count": 59,
   "id": "ordinary-jamaica",
   "metadata": {
    "ExecuteTime": {
     "end_time": "2021-03-27T19:19:34.784000-04:00",
     "start_time": "2021-03-27T23:19:34.766Z"
    }
   },
   "outputs": [
    {
     "ename": "LoadError",
     "evalue": "MethodError: no method matching imresize(::Array{Float64,2}, ::Linear)\nClosest candidates are:\n  imresize(::AbstractArray; ratio) at /Users/saydjari/.julia/packages/ImageTransformations/cCs2K/src/resizing.jl:231\n  imresize(::AbstractArray, !Matched::T, !Matched::T...) where T<:Union{Integer, AbstractUnitRange} at /Users/saydjari/.julia/packages/ImageTransformations/cCs2K/src/resizing.jl:230\n  imresize(::AbstractArray{T,N}, !Matched::Tuple{Vararg{Int64,N}}) where {T, N} at /Users/saydjari/.julia/packages/ImageTransformations/cCs2K/src/resizing.jl:280\n  ...",
     "output_type": "error",
     "traceback": [
      "MethodError: no method matching imresize(::Array{Float64,2}, ::Linear)\nClosest candidates are:\n  imresize(::AbstractArray; ratio) at /Users/saydjari/.julia/packages/ImageTransformations/cCs2K/src/resizing.jl:231\n  imresize(::AbstractArray, !Matched::T, !Matched::T...) where T<:Union{Integer, AbstractUnitRange} at /Users/saydjari/.julia/packages/ImageTransformations/cCs2K/src/resizing.jl:230\n  imresize(::AbstractArray{T,N}, !Matched::Tuple{Vararg{Int64,N}}) where {T, N} at /Users/saydjari/.julia/packages/ImageTransformations/cCs2K/src/resizing.jl:280\n  ...",
      "",
      "Stacktrace:",
      " [1] top-level scope at In[59]:1",
      " [2] include_string(::Function, ::Module, ::String, ::String) at ./loading.jl:1091"
     ]
    }
   ],
   "source": [
    "temp4 = imresize(test_img,Linear())"
   ]
  },
  {
   "cell_type": "code",
   "execution_count": 60,
   "id": "parallel-gibraltar",
   "metadata": {
    "ExecuteTime": {
     "end_time": "2021-03-27T19:31:15.732000-04:00",
     "start_time": "2021-03-27T23:31:15.477Z"
    }
   },
   "outputs": [
    {
     "data": {
      "text/plain": [
       "Interpolations.Degree"
      ]
     },
     "execution_count": 60,
     "metadata": {},
     "output_type": "execute_result"
    }
   ],
   "source": [
    "Interpolations.AbstractInterpolation"
   ]
  },
  {
   "cell_type": "code",
   "execution_count": 65,
   "id": "choice-surgery",
   "metadata": {
    "ExecuteTime": {
     "end_time": "2021-03-27T19:32:05.412000-04:00",
     "start_time": "2021-03-27T23:32:05.405Z"
    }
   },
   "outputs": [
    {
     "ename": "LoadError",
     "evalue": "MethodError: no method matching Cubic()\nClosest candidates are:\n  Cubic(!Matched::BC) where BC<:Interpolations.BoundaryCondition at /Users/saydjari/.julia/packages/Interpolations/qHlUr/src/b-splines/cubic.jl:2",
     "output_type": "error",
     "traceback": [
      "MethodError: no method matching Cubic()\nClosest candidates are:\n  Cubic(!Matched::BC) where BC<:Interpolations.BoundaryCondition at /Users/saydjari/.julia/packages/Interpolations/qHlUr/src/b-splines/cubic.jl:2",
      "",
      "Stacktrace:",
      " [1] top-level scope at In[65]:1",
      " [2] include_string(::Function, ::Module, ::String, ::String) at ./loading.jl:1091"
     ]
    }
   ],
   "source": [
    "Cubic()"
   ]
  },
  {
   "cell_type": "code",
   "execution_count": 66,
   "id": "chemical-values",
   "metadata": {
    "ExecuteTime": {
     "end_time": "2021-03-27T19:33:41.144000-04:00",
     "start_time": "2021-03-27T23:33:39.688Z"
    }
   },
   "outputs": [
    {
     "data": {
      "text/plain": [
       "28×28 Interpolations.LanczosInterpolation{Float64,2,Lanczos4OpenCV,OffsetArrays.OffsetArray{Float64,2,Array{Float64,2}},Tuple{Base.OneTo{Int64},Base.OneTo{Int64}}}:\n",
       " 0.0  0.0  0.0  0.0  0.0  0.0        …  0.0       0.0        0.0  0.0  0.0\n",
       " 0.0  0.0  0.0  0.0  0.0  0.0           0.0       0.0        0.0  0.0  0.0\n",
       " 0.0  0.0  0.0  0.0  0.0  0.0           0.0       0.0        0.0  0.0  0.0\n",
       " 0.0  0.0  0.0  0.0  0.0  0.0           0.0       0.0        0.0  0.0  0.0\n",
       " 0.0  0.0  0.0  0.0  0.0  0.0           0.215686  0.533333   0.0  0.0  0.0\n",
       " 0.0  0.0  0.0  0.0  0.0  0.0        …  0.67451   0.992157   0.0  0.0  0.0\n",
       " 0.0  0.0  0.0  0.0  0.0  0.0           0.886275  0.992157   0.0  0.0  0.0\n",
       " 0.0  0.0  0.0  0.0  0.0  0.0           0.992157  0.992157   0.0  0.0  0.0\n",
       " 0.0  0.0  0.0  0.0  0.0  0.0           0.992157  0.831373   0.0  0.0  0.0\n",
       " 0.0  0.0  0.0  0.0  0.0  0.0           0.992157  0.529412   0.0  0.0  0.0\n",
       " 0.0  0.0  0.0  0.0  0.0  0.0        …  0.992157  0.517647   0.0  0.0  0.0\n",
       " 0.0  0.0  0.0  0.0  0.0  0.0           0.956863  0.0627451  0.0  0.0  0.0\n",
       " 0.0  0.0  0.0  0.0  0.0  0.0117647     0.521569  0.0        0.0  0.0  0.0\n",
       " ⋮                        ⋮          ⋱                       ⋮         \n",
       " 0.0  0.0  0.0  0.0  0.0  0.494118      0.0       0.0        0.0  0.0  0.0\n",
       " 0.0  0.0  0.0  0.0  0.0  0.533333      0.0       0.0        0.0  0.0  0.0\n",
       " 0.0  0.0  0.0  0.0  0.0  0.686275      0.0       0.0        0.0  0.0  0.0\n",
       " 0.0  0.0  0.0  0.0  0.0  0.101961      0.0       0.0        0.0  0.0  0.0\n",
       " 0.0  0.0  0.0  0.0  0.0  0.65098    …  0.0       0.0        0.0  0.0  0.0\n",
       " 0.0  0.0  0.0  0.0  0.0  1.0           0.0       0.0        0.0  0.0  0.0\n",
       " 0.0  0.0  0.0  0.0  0.0  0.968627      0.0       0.0        0.0  0.0  0.0\n",
       " 0.0  0.0  0.0  0.0  0.0  0.498039      0.0       0.0        0.0  0.0  0.0\n",
       " 0.0  0.0  0.0  0.0  0.0  0.0           0.0       0.0        0.0  0.0  0.0\n",
       " 0.0  0.0  0.0  0.0  0.0  0.0        …  0.0       0.0        0.0  0.0  0.0\n",
       " 0.0  0.0  0.0  0.0  0.0  0.0           0.0       0.0        0.0  0.0  0.0\n",
       " 0.0  0.0  0.0  0.0  0.0  0.0           0.0       0.0        0.0  0.0  0.0"
      ]
     },
     "execution_count": 66,
     "metadata": {},
     "output_type": "execute_result"
    }
   ],
   "source": [
    "interpolate(test_img, Lanczos4OpenCV())"
   ]
  },
  {
   "cell_type": "code",
   "execution_count": null,
   "id": "legislative-domestic",
   "metadata": {},
   "outputs": [],
   "source": []
  }
 ],
 "metadata": {
  "kernelspec": {
   "display_name": "Julia 1.5.3",
   "language": "julia",
   "name": "julia-1.5"
  },
  "language_info": {
   "file_extension": ".jl",
   "mimetype": "application/julia",
   "name": "julia",
   "version": "1.5.3"
  }
 },
 "nbformat": 4,
 "nbformat_minor": 5
}
