{
 "cells": [
  {
   "cell_type": "code",
   "execution_count": null,
   "id": "distinguished-bonus",
   "metadata": {},
   "outputs": [],
   "source": []
  },
  {
   "cell_type": "code",
   "execution_count": 1,
   "id": "nasty-atmosphere",
   "metadata": {
    "ExecuteTime": {
     "end_time": "2021-03-08T06:14:18.007842Z",
     "start_time": "2021-03-08T06:14:14.118078Z"
    },
    "code_folding": [
     0
    ]
   },
   "outputs": [
    {
     "name": "stderr",
     "output_type": "stream",
     "text": [
      "/opt/miniconda3/envs/IWST/lib/python3.8/_collections_abc.py:666: MatplotlibDeprecationWarning: The global colormaps dictionary is no longer considered public API.\n",
      "  self[key]\n"
     ]
    }
   ],
   "source": [
    "## Import Packages\n",
    "from __future__ import print_function\n",
    "\n",
    "import numpy as np\n",
    "import pandas as pd\n",
    "from itertools import product\n",
    "\n",
    "#Astro Software\n",
    "import astropy.units as units\n",
    "from astropy.coordinates import SkyCoord\n",
    "from astropy.io import fits\n",
    "\n",
    "#Plotting Packages\n",
    "import matplotlib as mpl\n",
    "import matplotlib.cm as cm\n",
    "import matplotlib.pyplot as plt\n",
    "from matplotlib import rcParams\n",
    "\n",
    "import seaborn as sns\n",
    "\n",
    "from PIL import Image\n",
    "\n",
    "from yt.config import ytcfg\n",
    "import yt\n",
    "import yt.units as u\n",
    "\n",
    "#Scattering NN\n",
    "import torch\n",
    "import torch.nn.functional as F\n",
    "from torch import optim\n",
    "from kymatio.torch import Scattering2D\n",
    "device = \"cpu\"\n",
    "\n",
    "#Machine Learning\n",
    "from sklearn.model_selection import train_test_split\n",
    "from sklearn.mixture import GaussianMixture\n",
    "from sklearn.discriminant_analysis import LinearDiscriminantAnalysis as LDA\n",
    "from sklearn.ensemble import RandomForestClassifier\n",
    "from sklearn.metrics import confusion_matrix\n",
    "from sklearn.metrics import accuracy_score\n",
    "from sklearn.metrics import precision_score\n",
    "from sklearn.decomposition import PCA, FastICA\n",
    "\n",
    "import skimage\n",
    "from skimage import filters\n",
    "\n",
    "from scipy.optimize import curve_fit\n",
    "from scipy import linalg\n",
    "from scipy import stats\n",
    "from scipy.signal import general_gaussian\n",
    "\n",
    "#I/O\n",
    "import h5py\n",
    "import pickle\n",
    "import glob\n",
    "import copy\n",
    "import time\n",
    "\n",
    "#Plotting Style\n",
    "%matplotlib inline\n",
    "plt.style.use('dark_background')\n",
    "rcParams['text.usetex'] = False\n",
    "rcParams['axes.titlesize'] = 20\n",
    "rcParams['xtick.labelsize'] = 16\n",
    "rcParams['ytick.labelsize'] = 16\n",
    "rcParams['legend.fontsize'] = 12\n",
    "rcParams['axes.labelsize'] = 20\n",
    "rcParams['font.family'] = 'sans-serif'\n",
    "\n",
    "#Threading\n",
    "torch.set_num_threads=2\n",
    "from multiprocessing import Pool\n",
    "\n",
    "import ntpath\n",
    "def path_leaf(path):\n",
    "    head, tail = ntpath.split(path)\n",
    "    out = os.path.splitext(tail)[0]\n",
    "    return out\n",
    "\n",
    "def hd5_open(file_name,name):\n",
    "    f=h5py.File(file_name,'r', swmr=True)\n",
    "    data = f[name][:]\n",
    "    f.close()\n",
    "    return data\n",
    "\n",
    "from matplotlib.colors import LinearSegmentedColormap\n",
    "cdict1 = {'red':   ((0.0, 0.0, 0.0),\n",
    "                   (0.5, 0.0, 0.0),\n",
    "                   (1.0, 1.0, 1.0)),\n",
    "\n",
    "         'green': ((0.0, 0.0, 0.0),\n",
    "                   (1.0, 0.0, 0.0)),\n",
    "\n",
    "         'blue':  ((0.0, 0.0, 1.0),\n",
    "                   (0.5, 0.0, 0.0),\n",
    "                   (1.0, 0.0, 0.0))\n",
    "        }\n",
    "blue_red1 = LinearSegmentedColormap('BlueRed1', cdict1,N=5000)\n",
    "\n",
    "from sklearn.preprocessing import StandardScaler"
   ]
  },
  {
   "cell_type": "code",
   "execution_count": 3,
   "id": "civic-passport",
   "metadata": {
    "ExecuteTime": {
     "end_time": "2021-03-08T06:21:21.498124Z",
     "start_time": "2021-03-08T06:21:08.902070Z"
    }
   },
   "outputs": [],
   "source": [
    "mnist_train_y = hd5_open('../scratch_AKS/data/mnist_train_y.h5','main/data')\n",
    "mnist_test_y = hd5_open('../scratch_AKS/data/mnist_test_y.h5','main/data')\n",
    "\n",
    "mnist_DHC_out = hd5_open('../scratch_AKS/data/mnist_DHC_out.h5','main/data')\n",
    "mnist_DHC_out_test = hd5_open('../scratch_AKS/data/mnist_DHC_out_test.h5','main/data')\n",
    "\n",
    "mnist_DHC_out_rot7pi = hd5_open('../scratch_AKS/data/mnist_DHC_out_rot7pi_8.h5','main/data')\n",
    "mnist_DHC_out_rot7pi_test = hd5_open('../scratch_AKS/data/mnist_DHC_out_rot7pi_8_test.h5','main/data')\n",
    "\n",
    "mnist_DHC_out_rotpi_3 = hd5_open('../scratch_AKS/data/mnist_DHC_out_rotpi_3.h5','main/data')\n",
    "mnist_DHC_out_rotpi_3_test = hd5_open('../scratch_AKS/data/mnist_DHC_out_rotpi_3_test.h5','main/data')\n",
    "\n",
    "mnist_DHC_out_rot2pi_3 = hd5_open('../scratch_AKS/data/mnist_DHC_out_rot2pi_3.h5','main/data')\n",
    "mnist_DHC_out_rot2pi_3_test = hd5_open('../scratch_AKS/data/mnist_DHC_out_rot2pi_3_test.h5','main/data')\n",
    "\n",
    "mnist_DHC_out_stack = np.vstack((mnist_DHC_out, mnist_DHC_out_rotpi_3,mnist_DHC_out_rot2pi_3))\n",
    "mnist_DHC_out_stack_test = np.vstack((mnist_DHC_out_test, mnist_DHC_out_rotpi_3_test,mnist_DHC_out_rot2pi_3_test))\n",
    "\n",
    "mnist_DHC_out_stack_train_y = np.hstack((mnist_train_y,mnist_train_y,mnist_train_y))\n",
    "mnist_DHC_out_stack_test_y = np.hstack((mnist_test_y,mnist_test_y,mnist_test_y))"
   ]
  },
  {
   "cell_type": "code",
   "execution_count": 2,
   "id": "married-macintosh",
   "metadata": {
    "ExecuteTime": {
     "end_time": "2021-03-08T06:21:08.276873Z",
     "start_time": "2021-03-08T06:21:08.269218Z"
    },
    "code_folding": [
     6
    ]
   },
   "outputs": [],
   "source": [
    "def prec_LDA(lda,X_test,y_test):\n",
    "    y_pred = lda.predict(X_test)\n",
    "    cm = confusion_matrix(y_test, y_pred)\n",
    "    prec = precision_score(y_test, y_pred,average='micro')\n",
    "    return prec\n",
    "\n",
    "def DHC_iso(wst,J,L):\n",
    "    (nk, Nd) = np.shape(wst)\n",
    "    S0 = wst[:,0:2]\n",
    "    S1 = wst[:,2:J*L+2]\n",
    "    S2 = np.reshape(wst[:,J*L+3:],(nk,(J*L+1),(J*L+1)))\n",
    "    \n",
    "    S1iso = np.zeros((nk,J))\n",
    "    for j1 in range(J):\n",
    "        for l1 in range(L):\n",
    "            S1iso[:,j1] += S1[:,l1*J+j1]\n",
    "    \n",
    "    S2iso = np.zeros((nk,J,J,L))\n",
    "    for j1 in range(J):\n",
    "        for j2 in range(J):\n",
    "            for l1 in range(L):\n",
    "                for l2 in range(L):\n",
    "                    deltaL = np.mod(l1-l2,L)\n",
    "                    S2iso[:,j1,j2,deltaL] += S2[:,l1*J+j1,l2*J+j2]\n",
    "                    \n",
    "    Sphi1 = np.zeros((nk,J))\n",
    "    for j1 in range(J):\n",
    "        for l1 in range(L):\n",
    "            Sphi1[:,j1] += S2[:,l1*J+j1,L*J]\n",
    "            \n",
    "    Sphi2 = np.zeros((nk,J))\n",
    "    for j1 in range(J):\n",
    "        for l1 in range(L):\n",
    "            Sphi2[:,j1] += S2[:,L*J,l1*J+j1]\n",
    "            \n",
    "    return np.hstack((S0,S1iso,wst[:,J*L+2].reshape(nk,1),S2iso.reshape(nk,J*J*L),Sphi1,Sphi2,S2[:,L*J,L*J].reshape(nk,1)))"
   ]
  },
  {
   "cell_type": "code",
   "execution_count": 15,
   "id": "buried-kazakhstan",
   "metadata": {
    "ExecuteTime": {
     "end_time": "2021-03-08T06:48:12.174966Z",
     "start_time": "2021-03-08T06:47:49.833576Z"
    }
   },
   "outputs": [
    {
     "data": {
      "text/plain": [
       "LinearDiscriminantAnalysis(n_components=9)"
      ]
     },
     "execution_count": 15,
     "metadata": {},
     "output_type": "execute_result"
    }
   ],
   "source": [
    "N = 10\n",
    "ldaAug = LDA(n_components=N-1)\n",
    "ldaAug.fit(DHC_iso(mnist_DHC_out_stack,6,8), mnist_DHC_out_stack_train_y)"
   ]
  },
  {
   "cell_type": "code",
   "execution_count": 16,
   "id": "formal-jonathan",
   "metadata": {
    "ExecuteTime": {
     "end_time": "2021-03-08T06:48:21.284039Z",
     "start_time": "2021-03-08T06:48:12.177207Z"
    }
   },
   "outputs": [
    {
     "data": {
      "text/plain": [
       "LinearDiscriminantAnalysis(n_components=9)"
      ]
     },
     "execution_count": 16,
     "metadata": {},
     "output_type": "execute_result"
    }
   ],
   "source": [
    "N = 10\n",
    "ldaNR = LDA(n_components=N-1)\n",
    "ldaNR.fit(DHC_iso(mnist_DHC_out,6,8), mnist_train_y)"
   ]
  },
  {
   "cell_type": "code",
   "execution_count": 6,
   "id": "forbidden-survey",
   "metadata": {
    "ExecuteTime": {
     "end_time": "2021-03-08T06:35:51.691523Z",
     "start_time": "2021-03-08T06:35:50.325908Z"
    }
   },
   "outputs": [],
   "source": [
    "mnist_DHC_outR = hd5_open('../from_cannon/2021_03_08/mnist_DHC_train_RR_wd2.h5','main/data')\n",
    "mnist_DHC_outR_test = hd5_open('../from_cannon/2021_03_08/mnist_DHC_test_RR_wd2.h5','main/data')"
   ]
  },
  {
   "cell_type": "code",
   "execution_count": 17,
   "id": "nasty-slide",
   "metadata": {
    "ExecuteTime": {
     "end_time": "2021-03-08T06:48:30.238029Z",
     "start_time": "2021-03-08T06:48:21.286814Z"
    }
   },
   "outputs": [
    {
     "data": {
      "text/plain": [
       "LinearDiscriminantAnalysis(n_components=9)"
      ]
     },
     "execution_count": 17,
     "metadata": {},
     "output_type": "execute_result"
    }
   ],
   "source": [
    "N = 10\n",
    "ldaR = LDA(n_components=N-1)\n",
    "ldaR.fit(DHC_iso(mnist_DHC_outR,6,8), mnist_train_y)"
   ]
  },
  {
   "cell_type": "code",
   "execution_count": 18,
   "id": "relative-villa",
   "metadata": {
    "ExecuteTime": {
     "end_time": "2021-03-08T06:48:30.666874Z",
     "start_time": "2021-03-08T06:48:30.241472Z"
    }
   },
   "outputs": [
    {
     "data": {
      "text/plain": [
       "0.935"
      ]
     },
     "execution_count": 18,
     "metadata": {},
     "output_type": "execute_result"
    }
   ],
   "source": [
    "prec_LDA(ldaNR,DHC_iso(mnist_DHC_out_test,6,8),mnist_test_y)"
   ]
  },
  {
   "cell_type": "code",
   "execution_count": 19,
   "id": "adjacent-plain",
   "metadata": {
    "ExecuteTime": {
     "end_time": "2021-03-08T06:48:31.042126Z",
     "start_time": "2021-03-08T06:48:30.669238Z"
    }
   },
   "outputs": [
    {
     "data": {
      "text/plain": [
       "0.9213"
      ]
     },
     "execution_count": 19,
     "metadata": {},
     "output_type": "execute_result"
    }
   ],
   "source": [
    "prec_LDA(ldaR,DHC_iso(mnist_DHC_outR_test,6,8),mnist_test_y)"
   ]
  },
  {
   "cell_type": "code",
   "execution_count": 20,
   "id": "available-hydrogen",
   "metadata": {
    "ExecuteTime": {
     "end_time": "2021-03-08T06:48:31.425533Z",
     "start_time": "2021-03-08T06:48:31.044958Z"
    }
   },
   "outputs": [
    {
     "data": {
      "text/plain": [
       "0.873"
      ]
     },
     "execution_count": 20,
     "metadata": {},
     "output_type": "execute_result"
    }
   ],
   "source": [
    "prec_LDA(ldaNR,DHC_iso(mnist_DHC_outR_test,6,8),mnist_test_y)"
   ]
  },
  {
   "cell_type": "code",
   "execution_count": 21,
   "id": "particular-defensive",
   "metadata": {
    "ExecuteTime": {
     "end_time": "2021-03-08T06:48:31.805006Z",
     "start_time": "2021-03-08T06:48:31.427846Z"
    }
   },
   "outputs": [
    {
     "data": {
      "text/plain": [
       "0.9195"
      ]
     },
     "execution_count": 21,
     "metadata": {},
     "output_type": "execute_result"
    }
   ],
   "source": [
    "prec_LDA(ldaAug,DHC_iso(mnist_DHC_out_test,6,8),mnist_test_y)"
   ]
  },
  {
   "cell_type": "code",
   "execution_count": 22,
   "id": "sapphire-pulse",
   "metadata": {
    "ExecuteTime": {
     "end_time": "2021-03-08T06:48:32.177254Z",
     "start_time": "2021-03-08T06:48:31.809554Z"
    }
   },
   "outputs": [
    {
     "data": {
      "text/plain": [
       "0.9207"
      ]
     },
     "execution_count": 22,
     "metadata": {},
     "output_type": "execute_result"
    }
   ],
   "source": [
    "prec_LDA(ldaAug,DHC_iso(mnist_DHC_outR_test,6,8),mnist_test_y)"
   ]
  },
  {
   "cell_type": "markdown",
   "id": "increasing-swimming",
   "metadata": {},
   "source": [
    "Well, now we must do REG"
   ]
  },
  {
   "cell_type": "code",
   "execution_count": 23,
   "id": "capable-reward",
   "metadata": {
    "ExecuteTime": {
     "end_time": "2021-03-08T06:52:18.574386Z",
     "start_time": "2021-03-08T06:49:34.975933Z"
    }
   },
   "outputs": [
    {
     "data": {
      "text/plain": [
       "LinearDiscriminantAnalysis(n_components=9)"
      ]
     },
     "execution_count": 23,
     "metadata": {},
     "output_type": "execute_result"
    }
   ],
   "source": [
    "N = 10\n",
    "ldaAugREG = LDA(n_components=N-1)\n",
    "ldaAugREG.fit(mnist_DHC_out_stack, mnist_DHC_out_stack_train_y)"
   ]
  },
  {
   "cell_type": "code",
   "execution_count": 24,
   "id": "harmful-newsletter",
   "metadata": {
    "ExecuteTime": {
     "end_time": "2021-03-08T06:53:08.436666Z",
     "start_time": "2021-03-08T06:52:18.582430Z"
    }
   },
   "outputs": [
    {
     "data": {
      "text/plain": [
       "LinearDiscriminantAnalysis(n_components=9)"
      ]
     },
     "execution_count": 24,
     "metadata": {},
     "output_type": "execute_result"
    }
   ],
   "source": [
    "N = 10\n",
    "ldaNRREG = LDA(n_components=N-1)\n",
    "ldaNRREG.fit(mnist_DHC_out, mnist_train_y)"
   ]
  },
  {
   "cell_type": "code",
   "execution_count": 25,
   "id": "parallel-database",
   "metadata": {
    "ExecuteTime": {
     "end_time": "2021-03-08T06:53:58.598224Z",
     "start_time": "2021-03-08T06:53:08.441325Z"
    }
   },
   "outputs": [
    {
     "data": {
      "text/plain": [
       "LinearDiscriminantAnalysis(n_components=9)"
      ]
     },
     "execution_count": 25,
     "metadata": {},
     "output_type": "execute_result"
    }
   ],
   "source": [
    "N = 10\n",
    "ldaRREG = LDA(n_components=N-1)\n",
    "ldaRREG.fit(mnist_DHC_outR, mnist_train_y)"
   ]
  },
  {
   "cell_type": "code",
   "execution_count": 26,
   "id": "animated-dubai",
   "metadata": {
    "ExecuteTime": {
     "end_time": "2021-03-08T06:54:31.740522Z",
     "start_time": "2021-03-08T06:54:31.647345Z"
    }
   },
   "outputs": [
    {
     "data": {
      "text/plain": [
       "0.9623"
      ]
     },
     "execution_count": 26,
     "metadata": {},
     "output_type": "execute_result"
    }
   ],
   "source": [
    "prec_LDA(ldaNRREG,mnist_DHC_out_test,mnist_test_y)"
   ]
  },
  {
   "cell_type": "code",
   "execution_count": 27,
   "id": "crucial-replica",
   "metadata": {
    "ExecuteTime": {
     "end_time": "2021-03-08T06:54:32.657402Z",
     "start_time": "2021-03-08T06:54:32.213327Z"
    }
   },
   "outputs": [
    {
     "data": {
      "text/plain": [
       "0.922"
      ]
     },
     "execution_count": 27,
     "metadata": {},
     "output_type": "execute_result"
    }
   ],
   "source": [
    "prec_LDA(ldaRREG,mnist_DHC_outR_test,mnist_test_y)"
   ]
  },
  {
   "cell_type": "code",
   "execution_count": 28,
   "id": "military-weekend",
   "metadata": {
    "ExecuteTime": {
     "end_time": "2021-03-08T06:54:32.976657Z",
     "start_time": "2021-03-08T06:54:32.908722Z"
    }
   },
   "outputs": [
    {
     "data": {
      "text/plain": [
       "0.4972"
      ]
     },
     "execution_count": 28,
     "metadata": {},
     "output_type": "execute_result"
    }
   ],
   "source": [
    "prec_LDA(ldaNRREG,mnist_DHC_outR_test,mnist_test_y)"
   ]
  },
  {
   "cell_type": "code",
   "execution_count": 29,
   "id": "bored-cooler",
   "metadata": {
    "ExecuteTime": {
     "end_time": "2021-03-08T06:54:33.547115Z",
     "start_time": "2021-03-08T06:54:33.470972Z"
    }
   },
   "outputs": [
    {
     "data": {
      "text/plain": [
       "0.9415"
      ]
     },
     "execution_count": 29,
     "metadata": {},
     "output_type": "execute_result"
    }
   ],
   "source": [
    "prec_LDA(ldaAugREG,mnist_DHC_out_test,mnist_test_y)"
   ]
  },
  {
   "cell_type": "code",
   "execution_count": 30,
   "id": "failing-breeding",
   "metadata": {
    "ExecuteTime": {
     "end_time": "2021-03-08T06:54:34.396125Z",
     "start_time": "2021-03-08T06:54:34.328520Z"
    }
   },
   "outputs": [
    {
     "data": {
      "text/plain": [
       "0.8851"
      ]
     },
     "execution_count": 30,
     "metadata": {},
     "output_type": "execute_result"
    }
   ],
   "source": [
    "prec_LDA(ldaAugREG,mnist_DHC_outR_test,mnist_test_y)"
   ]
  },
  {
   "cell_type": "markdown",
   "id": "respective-kingdom",
   "metadata": {},
   "source": [
    "Now we do loops to obtain error bars"
   ]
  },
  {
   "cell_type": "code",
   "execution_count": 38,
   "id": "turkish-workshop",
   "metadata": {
    "ExecuteTime": {
     "end_time": "2021-03-09T04:16:23.515110Z",
     "start_time": "2021-03-09T04:16:23.512017Z"
    }
   },
   "outputs": [],
   "source": [
    "test_list = [\n",
    "    '../from_cannon/2021_03_08/mnist_DHC_test_RR_wd2.h5',\n",
    "    '../from_cannon/2021_03_08/mnist_DHC_test_RR_wd2_0.h5',\n",
    "    '../from_cannon/2021_03_08/mnist_DHC_test_RR_wd2_1.h5',\n",
    "    '../from_cannon/2021_03_08/mnist_DHC_test_RR_wd2_2.h5',\n",
    "    '../from_cannon/2021_03_08/mnist_DHC_test_RR_wd2_3.h5',\n",
    "    '../from_cannon/2021_03_08/mnist_DHC_test_RR_wd2_4.h5',\n",
    "    '../from_cannon/2021_03_08/mnist_DHC_test_RR_wd2_5.h5',\n",
    "    '../from_cannon/2021_03_08/mnist_DHC_test_RR_wd2_6.h5'\n",
    "]"
   ]
  },
  {
   "cell_type": "code",
   "execution_count": 39,
   "id": "macro-measure",
   "metadata": {
    "ExecuteTime": {
     "end_time": "2021-03-09T04:16:28.744023Z",
     "start_time": "2021-03-09T04:16:24.426066Z"
    }
   },
   "outputs": [],
   "source": [
    "prec_R_R = []\n",
    "for file in test_list:\n",
    "    mnist_DHC_outR_test = hd5_open(file,'main/data')\n",
    "    prec_R_R.append(prec_LDA(ldaR,DHC_iso(mnist_DHC_outR_test,6,8),mnist_test_y))"
   ]
  },
  {
   "cell_type": "code",
   "execution_count": 40,
   "id": "different-politics",
   "metadata": {
    "ExecuteTime": {
     "end_time": "2021-03-09T04:16:28.751776Z",
     "start_time": "2021-03-09T04:16:28.746821Z"
    }
   },
   "outputs": [
    {
     "data": {
      "text/plain": [
       "(0.921025, 0.0004630064794362928)"
      ]
     },
     "execution_count": 40,
     "metadata": {},
     "output_type": "execute_result"
    }
   ],
   "source": [
    "np.mean(prec_R_R),np.std(prec_R_R)"
   ]
  },
  {
   "cell_type": "code",
   "execution_count": 41,
   "id": "sharing-finding",
   "metadata": {
    "ExecuteTime": {
     "end_time": "2021-03-09T04:16:28.759234Z",
     "start_time": "2021-03-09T04:16:28.754899Z"
    }
   },
   "outputs": [
    {
     "data": {
      "text/plain": [
       "[0.9213, 0.9206, 0.9201, 0.9215, 0.9216, 0.9209, 0.921, 0.9212]"
      ]
     },
     "execution_count": 41,
     "metadata": {},
     "output_type": "execute_result"
    }
   ],
   "source": [
    "prec_R_R"
   ]
  },
  {
   "cell_type": "code",
   "execution_count": 46,
   "id": "separate-beginning",
   "metadata": {
    "ExecuteTime": {
     "end_time": "2021-03-09T04:19:07.646534Z",
     "start_time": "2021-03-09T04:19:03.900343Z"
    }
   },
   "outputs": [],
   "source": [
    "prec_NR_R = []\n",
    "for file in test_list:\n",
    "    mnist_DHC_outR_test = hd5_open(file,'main/data')\n",
    "    prec_NR_R.append(prec_LDA(ldaNR,DHC_iso(mnist_DHC_outR_test,6,8),mnist_test_y))"
   ]
  },
  {
   "cell_type": "code",
   "execution_count": 47,
   "id": "beginning-contrary",
   "metadata": {
    "ExecuteTime": {
     "end_time": "2021-03-09T04:19:11.743286Z",
     "start_time": "2021-03-09T04:19:11.739576Z"
    }
   },
   "outputs": [
    {
     "data": {
      "text/plain": [
       "(0.8766375,\n",
       " 0.0023743091100360265,\n",
       " [0.873, 0.8734, 0.8782, 0.8806, 0.8769, 0.8773, 0.8757, 0.878])"
      ]
     },
     "execution_count": 47,
     "metadata": {},
     "output_type": "execute_result"
    }
   ],
   "source": [
    "np.mean(prec_NR_R),np.std(prec_NR_R),prec_NR_R"
   ]
  },
  {
   "cell_type": "code",
   "execution_count": 48,
   "id": "incoming-theme",
   "metadata": {
    "ExecuteTime": {
     "end_time": "2021-03-09T04:21:23.787759Z",
     "start_time": "2021-03-09T04:21:20.037704Z"
    }
   },
   "outputs": [],
   "source": [
    "prec_NRAug_R = []\n",
    "for file in test_list:\n",
    "    mnist_DHC_outR_test = hd5_open(file,'main/data')\n",
    "    prec_NRAug_R.append(prec_LDA(ldaAug,DHC_iso(mnist_DHC_outR_test,6,8),mnist_test_y))"
   ]
  },
  {
   "cell_type": "code",
   "execution_count": 49,
   "id": "dried-pathology",
   "metadata": {
    "ExecuteTime": {
     "end_time": "2021-03-09T04:21:27.035019Z",
     "start_time": "2021-03-09T04:21:27.031336Z"
    }
   },
   "outputs": [
    {
     "data": {
      "text/plain": [
       "(0.921175,\n",
       " 0.0008073877630977533,\n",
       " [0.9207, 0.9209, 0.9207, 0.9225, 0.9226, 0.9207, 0.9204, 0.9209])"
      ]
     },
     "execution_count": 49,
     "metadata": {},
     "output_type": "execute_result"
    }
   ],
   "source": [
    "np.mean(prec_NRAug_R),np.std(prec_NRAug_R),prec_NRAug_R"
   ]
  },
  {
   "cell_type": "code",
   "execution_count": 51,
   "id": "sorted-level",
   "metadata": {
    "ExecuteTime": {
     "end_time": "2021-03-09T04:24:38.136230Z",
     "start_time": "2021-03-09T04:24:36.974584Z"
    }
   },
   "outputs": [
    {
     "data": {
      "text/plain": [
       "(0.9232875,\n",
       " 0.0009649319924222641,\n",
       " [0.922, 0.9225, 0.923, 0.9238, 0.9244, 0.9234, 0.9223, 0.9249])"
      ]
     },
     "execution_count": 51,
     "metadata": {},
     "output_type": "execute_result"
    }
   ],
   "source": [
    "prec_R_R_REG = []\n",
    "for file in test_list:\n",
    "    mnist_DHC_outR_test = hd5_open(file,'main/data')\n",
    "    prec_R_R_REG.append(prec_LDA(ldaRREG,mnist_DHC_outR_test,mnist_test_y))\n",
    "np.mean(prec_R_R_REG),np.std(prec_R_R_REG),prec_R_R_REG"
   ]
  },
  {
   "cell_type": "code",
   "execution_count": 52,
   "id": "raising-logan",
   "metadata": {
    "ExecuteTime": {
     "end_time": "2021-03-09T04:24:51.045383Z",
     "start_time": "2021-03-09T04:24:50.048652Z"
    }
   },
   "outputs": [
    {
     "data": {
      "text/plain": [
       "(0.5018875,\n",
       " 0.005049118116067407,\n",
       " [0.4972, 0.4956, 0.5048, 0.499, 0.5068, 0.4962, 0.5073, 0.5082])"
      ]
     },
     "execution_count": 52,
     "metadata": {},
     "output_type": "execute_result"
    }
   ],
   "source": [
    "prec_NR_R_REG = []\n",
    "for file in test_list:\n",
    "    mnist_DHC_outR_test = hd5_open(file,'main/data')\n",
    "    prec_NR_R_REG.append(prec_LDA(ldaNRREG,mnist_DHC_outR_test,mnist_test_y))\n",
    "np.mean(prec_NR_R_REG),np.std(prec_NR_R_REG),prec_NR_R_REG"
   ]
  },
  {
   "cell_type": "code",
   "execution_count": 53,
   "id": "impossible-darkness",
   "metadata": {
    "ExecuteTime": {
     "end_time": "2021-03-09T04:25:29.487604Z",
     "start_time": "2021-03-09T04:25:28.193386Z"
    }
   },
   "outputs": [
    {
     "data": {
      "text/plain": [
       "(0.884325,\n",
       " 0.0016551057368035316,\n",
       " [0.8851, 0.8823, 0.8827, 0.8845, 0.883, 0.886, 0.8874, 0.8836])"
      ]
     },
     "execution_count": 53,
     "metadata": {},
     "output_type": "execute_result"
    }
   ],
   "source": [
    "prec_AUG_R_REG = []\n",
    "for file in test_list:\n",
    "    mnist_DHC_outR_test = hd5_open(file,'main/data')\n",
    "    prec_AUG_R_REG.append(prec_LDA(ldaAugREG,mnist_DHC_outR_test,mnist_test_y))\n",
    "np.mean(prec_AUG_R_REG),np.std(prec_AUG_R_REG),prec_AUG_R_REG"
   ]
  },
  {
   "cell_type": "code",
   "execution_count": null,
   "id": "democratic-webmaster",
   "metadata": {},
   "outputs": [],
   "source": []
  }
 ],
 "metadata": {
  "kernelspec": {
   "display_name": "IWST",
   "language": "python",
   "name": "iwst"
  },
  "language_info": {
   "codemirror_mode": {
    "name": "ipython",
    "version": 3
   },
   "file_extension": ".py",
   "mimetype": "text/x-python",
   "name": "python",
   "nbconvert_exporter": "python",
   "pygments_lexer": "ipython3",
   "version": "3.8.6"
  }
 },
 "nbformat": 4,
 "nbformat_minor": 5
}
