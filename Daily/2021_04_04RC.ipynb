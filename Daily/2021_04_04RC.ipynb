{
 "cells": [
  {
   "cell_type": "code",
   "execution_count": null,
   "id": "aggregate-material",
   "metadata": {},
   "outputs": [],
   "source": []
  },
  {
   "cell_type": "code",
   "execution_count": 1,
   "id": "educated-fighter",
   "metadata": {
    "ExecuteTime": {
     "end_time": "2021-04-05T02:17:29.403136Z",
     "start_time": "2021-04-05T02:17:22.947894Z"
    },
    "code_folding": [
     0
    ]
   },
   "outputs": [
    {
     "name": "stderr",
     "output_type": "stream",
     "text": [
      "/opt/miniconda3/envs/IWST/lib/python3.8/_collections_abc.py:666: MatplotlibDeprecationWarning: The global colormaps dictionary is no longer considered public API.\n",
      "  self[key]\n"
     ]
    }
   ],
   "source": [
    "## Import Packages\n",
    "from __future__ import print_function\n",
    "\n",
    "import numpy as np\n",
    "import pandas as pd\n",
    "from itertools import product\n",
    "\n",
    "#Astro Software\n",
    "import astropy.units as units\n",
    "from astropy.coordinates import SkyCoord\n",
    "from astropy.io import fits\n",
    "\n",
    "#Plotting Packages\n",
    "import matplotlib as mpl\n",
    "import matplotlib.cm as cmplt\n",
    "import matplotlib.pyplot as plt\n",
    "from matplotlib import rcParams\n",
    "from matplotlib.colors import LogNorm\n",
    "from matplotlib.colors import ListedColormap\n",
    "\n",
    "from PIL import Image, ImageDraw\n",
    "\n",
    "from yt.config import ytcfg\n",
    "import yt\n",
    "import yt.units as u\n",
    "\n",
    "#Scattering NN\n",
    "import torch\n",
    "import torch.nn.functional as F\n",
    "from torch import optim\n",
    "from kymatio.torch import Scattering2D\n",
    "device = \"cpu\"\n",
    "\n",
    "#Machine Learning\n",
    "from sklearn.model_selection import train_test_split\n",
    "from sklearn.mixture import GaussianMixture\n",
    "from sklearn.discriminant_analysis import LinearDiscriminantAnalysis as LDA\n",
    "from sklearn.discriminant_analysis import QuadraticDiscriminantAnalysis as QDA\n",
    "from sklearn.ensemble import RandomForestClassifier\n",
    "from sklearn.metrics import confusion_matrix\n",
    "from sklearn.metrics import accuracy_score\n",
    "from sklearn.metrics import precision_score\n",
    "from sklearn.decomposition import PCA, FastICA\n",
    "from sklearn.preprocessing import StandardScaler\n",
    "from sklearn.metrics import mean_squared_error\n",
    "\n",
    "import skimage\n",
    "from skimage import filters as skfilters\n",
    "from skimage.filters import window\n",
    "\n",
    "import cv2\n",
    "\n",
    "from scipy.optimize import curve_fit\n",
    "from scipy import linalg\n",
    "from scipy import stats\n",
    "from scipy.signal import general_gaussian\n",
    "from scipy.ndimage import map_coordinates\n",
    "\n",
    "\n",
    "#I/O\n",
    "import h5py\n",
    "import pickle\n",
    "import glob\n",
    "import copy\n",
    "import time\n",
    "import os\n",
    "import scipy.io as sio\n",
    "\n",
    "#Plotting Style\n",
    "%matplotlib inline\n",
    "plt.style.use('dark_background')\n",
    "rcParams['text.usetex'] = True\n",
    "rcParams['axes.titlesize'] = 20\n",
    "rcParams['xtick.labelsize'] = 16\n",
    "rcParams['ytick.labelsize'] = 16\n",
    "rcParams['legend.fontsize'] = 12\n",
    "rcParams['axes.labelsize'] = 20\n",
    "rcParams['font.family'] = 'sans-serif'\n",
    "\n",
    "#Threading\n",
    "torch.set_num_threads=32\n",
    "\n",
    "import ntpath\n",
    "def path_leaf(path):\n",
    "    head, tail = ntpath.split(path)\n",
    "    out = os.path.splitext(tail)[0]\n",
    "    return out\n",
    "\n",
    "def hd5_open(file_name,name):\n",
    "    f=h5py.File(file_name,'r', swmr=True)\n",
    "    data = f[name][:]\n",
    "    f.close()\n",
    "    return data\n",
    "\n",
    "from matplotlib.colors import LinearSegmentedColormap\n",
    "cdict1 = {'red':   ((0.0, 0.0, 0.0),\n",
    "                   (0.5, 0.0, 0.0),\n",
    "                   (1.0, 1.0, 1.0)),\n",
    "\n",
    "         'green': ((0.0, 0.0, 0.0),\n",
    "                   (1.0, 0.0, 0.0)),\n",
    "\n",
    "         'blue':  ((0.0, 0.0, 1.0),\n",
    "                   (0.5, 0.0, 0.0),\n",
    "                   (1.0, 0.0, 0.0))\n",
    "        }\n",
    "blue_red1 = LinearSegmentedColormap('BlueRed1', cdict1,N=5000)"
   ]
  },
  {
   "cell_type": "code",
   "execution_count": null,
   "id": "necessary-spank",
   "metadata": {},
   "outputs": [],
   "source": [
    "# PreCalc the WST Network\n",
    "J = 8\n",
    "L = 8\n",
    "m = 2\n",
    "scattering = Scattering2D(J=J, shape=(256,256), L=L, max_order=m)"
   ]
  },
  {
   "cell_type": "code",
   "execution_count": null,
   "id": "located-fountain",
   "metadata": {},
   "outputs": [],
   "source": [
    "def WST_torch(src_img,scattering):\n",
    "    src_img = src_img.astype(np.float32)\n",
    "    src_img_tensor = torch.from_numpy(src_img).to(device).contiguous()\n",
    "    return scattering(src_img_tensor).numpy()"
   ]
  },
  {
   "cell_type": "code",
   "execution_count": null,
   "id": "acute-solid",
   "metadata": {},
   "outputs": [],
   "source": [
    "def placement(src_img,loc,roll):\n",
    "    if loc == 0:\n",
    "        out_img = src_img\n",
    "    if loc == 1:\n",
    "        out_img = np.zeros((256,256))\n",
    "        out_img[64:192,64:192] = skimage.transform.resize(src_img,(2**7,2**7),order=3)\n",
    "    if loc == 2:\n",
    "        out_img = np.zeros((256,256))\n",
    "        out_img[96:160,96:160] = skimage.transform.resize(src_img,(2**6,2**6),order=3)\n",
    "    \n",
    "    rollx = np.roll(out_img,roll*32,axis=0)\n",
    "    rolly = np.roll(rollx,roll*32,axis=1)\n",
    "    return rolly"
   ]
  },
  {
   "cell_type": "code",
   "execution_count": null,
   "id": "wrapped-genesis",
   "metadata": {},
   "outputs": [],
   "source": [
    "def MHD_process_dmock(file_name,cum_sum,axis,slice_ind,dist_scale,sig,AR,roll,rot):\n",
    "    print(file_name,cum_sum,axis,slice_ind,dist_scale,sig,AR,roll,rot)\n",
    "\n",
    "    with fits.open(file_name) as hdul:\n",
    "        src_img = hdul[0].data\n",
    "\n",
    "    if cum_sum == 0:\n",
    "        if axis == 0:\n",
    "            slc_img = src_img[slice_ind*8,:,:]\n",
    "        if axis == 1:\n",
    "            slc_img = src_img[:,slice_ind*8,:]\n",
    "        if axis == 2:\n",
    "            slc_img = src_img[:,:,slice_ind*8]\n",
    "    if cum_sum == 1:\n",
    "        if axis == 0:\n",
    "            slc_img = np.cumsum(src_img,axis=0)[slice_ind*8,:,:]\n",
    "        if axis == 1:\n",
    "            slc_img = np.cumsum(src_img,axis=1)[:,slice_ind*8,:]\n",
    "        if axis == 2:\n",
    "            slc_img = np.cumsum(src_img,axis=2)[:,:,slice_ind*8]\n",
    "    \n",
    "\n",
    "    apod_img = apodize(slc_img)\n",
    "    out_img = placement(slc_img,dist_scale,roll)\n",
    "    #WST_img = sine_MHD_psf(out_img,sig,AR)\n",
    "    if rot != 0:\n",
    "        WST_img = rotate_image(out_img,rot)\n",
    "    else:\n",
    "        WST_img = out_img\n",
    "        \n",
    "    sc = StandardScaler()\n",
    "    inputData = sc.fit_transform(WST_img)\n",
    "\n",
    "    return WST_torch(inputData,scattering).flatten()"
   ]
  },
  {
   "cell_type": "code",
   "execution_count": null,
   "id": "compound-seeking",
   "metadata": {
    "code_folding": [
     1
    ]
   },
   "outputs": [],
   "source": [
    "from torch.multiprocessing import Pool\n",
    "if __name__ == '__main__':\n",
    "    pool = Pool(30)\n",
    "    WST_MHD_rinvar_cumsum = pool.starmap(MHD_process_dmock,\n",
    "                                           product(file_list,\n",
    "                                                   iter([1]),\n",
    "                                                   range(0,3),\n",
    "                                                   range(0,32),\n",
    "                                                   iter([0]),\n",
    "                                                   iter([0]),\n",
    "                                                   iter([1]),\n",
    "                                                   iter([0]),\n",
    "                                                   iter([0])\n",
    "                                                  ))\n",
    "    pool.close()\n",
    "    pool.join()\n",
    "\n",
    "with open('WST_MHD_rinvar_cumsum_apod.p', 'wb') as output_file:\n",
    "    pickle.dump(WST_MHD_rinvar_cumsum, output_file)"
   ]
  },
  {
   "cell_type": "code",
   "execution_count": null,
   "id": "innocent-egypt",
   "metadata": {
    "code_folding": [
     4
    ]
   },
   "outputs": [],
   "source": [
    "J = 8\n",
    "L = 8\n",
    "m = 2\n",
    "\n",
    "def RWST_from_WST_nof(scattering_coefficients,L,J,m):\n",
    "    scattering_coefficients_0 = scattering_coefficients[0]\n",
    "    scattering_coefficients_1 = np.log2(scattering_coefficients[1:L*J+1])\n",
    "    \n",
    "    rep_template = [(J-np.floor_divide(i,L)-1)*L for i in range(0,L*J)]\n",
    "    scattering_coefficients_2 = np.log2(scattering_coefficients[L*J+1:]) - np.repeat(scattering_coefficients_1,rep_template, axis=0)\n",
    "    \n",
    "    def func(x, a, b, c):\n",
    "        return b * np.cos(2*np.pi/L*(x-c)) + a\n",
    "\n",
    "    def func_2(X, a, b, c, d, e):\n",
    "        x,y = X\n",
    "        return a + b * np.cos(2*np.pi/L*(x-y)) + c * np.cos(2*np.pi/L*(x-e)) + d * np.cos(2*np.pi/L*(y-e)) \n",
    "    \n",
    "    order_1_fits = np.zeros([3,J])\n",
    "    xdata = np.linspace(1,L,L)\n",
    "    for j in range(0,J):\n",
    "        ydata = scattering_coefficients_1[j*L:(j+1)*L]\n",
    "        popt, pcov = curve_fit(func, xdata, ydata, bounds=([-np.inf, -np.inf, 0],[np.inf, np.inf, L-1]),max_nfev=2000)\n",
    "        order_1_fits[:,j] = popt\n",
    "                \n",
    "    indx_coeff = []\n",
    "    for j in range(0,J):\n",
    "        for the1 in range(0,L):\n",
    "            for k in range(j+1,J):\n",
    "                for the2 in range(0,L):\n",
    "                    indx_coeff.append([j,the1,k,the2])\n",
    "    indx_coeff = np.asarray(indx_coeff)\n",
    "    \n",
    "    order_2_fits = np.empty([5,J,J])\n",
    "    order_2_fits[:] = np.NaN\n",
    "\n",
    "    for j1 in range(0,J):\n",
    "        for j2 in range(j1+1,J):\n",
    "            x_data =[indx_coeff[np.logical_and(indx_coeff[:,0]==j1,indx_coeff[:,2]==j2)][:,1],indx_coeff[np.logical_and(indx_coeff[:,0]==j1,indx_coeff[:,2]==j2)][:,3]]\n",
    "            y_data = scattering_coefficients_2[np.logical_and(indx_coeff[:,0]==j1,indx_coeff[:,2]==j2)]\n",
    "            popt, pcov = curve_fit(func_2, \n",
    "                                   x_data, \n",
    "                                   y_data,\n",
    "                                   bounds=([-np.inf, -np.inf, -np.inf, -np.inf, 0],[np.inf, np.inf, np.inf, np.inf, L-1]),\n",
    "                                   max_nfev=2000)\n",
    "            order_2_fits[:,j1,j2] = popt\n",
    "    out1 = order_1_fits.flatten()\n",
    "    out2 = [x for x in order_2_fits.flatten() if not np.isnan(x)]\n",
    "    return np.concatenate((out1,out2))"
   ]
  },
  {
   "cell_type": "code",
   "execution_count": null,
   "id": "searching-bonus",
   "metadata": {},
   "outputs": [],
   "source": [
    "def RWST_from_WST_MHD_rinvar_cumsum(i):\n",
    "    return RWST_from_WST_nof(WST_MHD_rinvar_cumsum[i,:],8,8,2)"
   ]
  },
  {
   "cell_type": "code",
   "execution_count": null,
   "id": "complimentary-turtle",
   "metadata": {},
   "outputs": [],
   "source": [
    "WST_MHD_rinvar_cumsum = np.array(WST_MHD_rinvar_cumsum)"
   ]
  },
  {
   "cell_type": "code",
   "execution_count": null,
   "id": "numerical-default",
   "metadata": {},
   "outputs": [],
   "source": [
    "if __name__ == '__main__':\n",
    "    pool = Pool(30)\n",
    "    RWST_MHD_rinvar_cumsum = pool.map(RWST_from_WST_MHD_rinvar_cumsum,range(0,13824))\n",
    "    pool.close()\n",
    "    pool.join()\n",
    "    \n",
    "with open('RWST_MHD_rinvar_cumsum_apod.p', 'wb') as output_file:\n",
    "    pickle.dump(RWST_MHD_rinvar_cumsum, output_file)"
   ]
  },
  {
   "cell_type": "markdown",
   "id": "closed-canada",
   "metadata": {},
   "source": [
    "Simpler Code"
   ]
  },
  {
   "cell_type": "code",
   "execution_count": null,
   "id": "computational-chassis",
   "metadata": {},
   "outputs": [],
   "source": [
    "test_data = hd5_open(\"MHD_2dcs.h5\",\"data\")\n",
    "\n",
    "image_list = []\n",
    "for i in range(6912):\n",
    "    image_list.append(test_data[:,:,i])"
   ]
  },
  {
   "cell_type": "code",
   "execution_count": null,
   "id": "narrative-adventure",
   "metadata": {},
   "outputs": [],
   "source": [
    "def MHD_process_dmock(src_img):\n",
    "    apod_img = apodize(src_img)\n",
    "        \n",
    "    sc = StandardScaler()\n",
    "    inputData = sc.fit_transform(apod_img)\n",
    "\n",
    "    return WST_torch(inputData,scattering).flatten()"
   ]
  },
  {
   "cell_type": "code",
   "execution_count": null,
   "id": "valuable-location",
   "metadata": {},
   "outputs": [],
   "source": [
    "from torch.multiprocessing import Pool\n",
    "if __name__ == '__main__':\n",
    "    pool = Pool(30)\n",
    "    WST_MHD_rinvar_cumsum = pool.map(MHD_process_dmock,image_list)\n",
    "    pool.close()\n",
    "    pool.join()\n",
    "\n",
    "with open('WST_MHD_rinvar_cumsum_apod.p', 'wb') as output_file:\n",
    "    pickle.dump(WST_MHD_rinvar_cumsum, output_file)"
   ]
  },
  {
   "cell_type": "code",
   "execution_count": null,
   "id": "innocent-hurricane",
   "metadata": {
    "code_folding": [
     4
    ]
   },
   "outputs": [],
   "source": [
    "J = 8\n",
    "L = 8\n",
    "m = 2\n",
    "\n",
    "def RWST_from_WST_nof(scattering_coefficients,L,J,m):\n",
    "    scattering_coefficients_0 = scattering_coefficients[0]\n",
    "    scattering_coefficients_1 = np.log2(scattering_coefficients[1:L*J+1])\n",
    "    \n",
    "    rep_template = [(J-np.floor_divide(i,L)-1)*L for i in range(0,L*J)]\n",
    "    scattering_coefficients_2 = np.log2(scattering_coefficients[L*J+1:]) - np.repeat(scattering_coefficients_1,rep_template, axis=0)\n",
    "    \n",
    "    def func(x, a, b, c):\n",
    "        return b * np.cos(2*np.pi/L*(x-c)) + a\n",
    "\n",
    "    def func_2(X, a, b, c, d, e):\n",
    "        x,y = X\n",
    "        return a + b * np.cos(2*np.pi/L*(x-y)) + c * np.cos(2*np.pi/L*(x-e)) + d * np.cos(2*np.pi/L*(y-e)) \n",
    "    \n",
    "    order_1_fits = np.zeros([3,J])\n",
    "    xdata = np.linspace(1,L,L)\n",
    "    for j in range(0,J):\n",
    "        ydata = scattering_coefficients_1[j*L:(j+1)*L]\n",
    "        popt, pcov = curve_fit(func, xdata, ydata, bounds=([-np.inf, -np.inf, 0],[np.inf, np.inf, L-1]),max_nfev=2000)\n",
    "        order_1_fits[:,j] = popt\n",
    "                \n",
    "    indx_coeff = []\n",
    "    for j in range(0,J):\n",
    "        for the1 in range(0,L):\n",
    "            for k in range(j+1,J):\n",
    "                for the2 in range(0,L):\n",
    "                    indx_coeff.append([j,the1,k,the2])\n",
    "    indx_coeff = np.asarray(indx_coeff)\n",
    "    \n",
    "    order_2_fits = np.empty([5,J,J])\n",
    "    order_2_fits[:] = np.NaN\n",
    "\n",
    "    for j1 in range(0,J):\n",
    "        for j2 in range(j1+1,J):\n",
    "            x_data =[indx_coeff[np.logical_and(indx_coeff[:,0]==j1,indx_coeff[:,2]==j2)][:,1],indx_coeff[np.logical_and(indx_coeff[:,0]==j1,indx_coeff[:,2]==j2)][:,3]]\n",
    "            y_data = scattering_coefficients_2[np.logical_and(indx_coeff[:,0]==j1,indx_coeff[:,2]==j2)]\n",
    "            popt, pcov = curve_fit(func_2, \n",
    "                                   x_data, \n",
    "                                   y_data,\n",
    "                                   bounds=([-np.inf, -np.inf, -np.inf, -np.inf, 0],[np.inf, np.inf, np.inf, np.inf, L-1]),\n",
    "                                   max_nfev=2000)\n",
    "            order_2_fits[:,j1,j2] = popt\n",
    "    out1 = order_1_fits.flatten()\n",
    "    out2 = [x for x in order_2_fits.flatten() if not np.isnan(x)]\n",
    "    return np.concatenate((out1,out2))"
   ]
  },
  {
   "cell_type": "code",
   "execution_count": null,
   "id": "harmful-jonathan",
   "metadata": {},
   "outputs": [],
   "source": [
    "def RWST_from_WST_MHD_rinvar_cumsum(i):\n",
    "    return RWST_from_WST_nof(WST_MHD_rinvar_cumsum[i,:],8,8,2)\n",
    "\n",
    "WST_MHD_rinvar_cumsum = np.array(WST_MHD_rinvar_cumsum)"
   ]
  },
  {
   "cell_type": "code",
   "execution_count": null,
   "id": "periodic-empty",
   "metadata": {},
   "outputs": [],
   "source": [
    "if __name__ == '__main__':\n",
    "    pool = Pool(30)\n",
    "    RWST_MHD_rinvar_cumsum = pool.map(RWST_from_WST_MHD_rinvar_cumsum,range(0,6912))\n",
    "    pool.close()\n",
    "    pool.join()\n",
    "    \n",
    "with open('RWST_MHD_rinvar_cumsum_apod.p', 'wb') as output_file:\n",
    "    pickle.dump(RWST_MHD_rinvar_cumsum, output_file)"
   ]
  },
  {
   "cell_type": "markdown",
   "id": "concerned-zealand",
   "metadata": {},
   "source": [
    "And No Apod for Clarity"
   ]
  },
  {
   "cell_type": "code",
   "execution_count": null,
   "id": "contemporary-timothy",
   "metadata": {},
   "outputs": [],
   "source": [
    "def MHD_process_dmock(src_img):\n",
    "\n",
    "    sc = StandardScaler()\n",
    "    inputData = sc.fit_transform(src_img)\n",
    "\n",
    "    return WST_torch(inputData,scattering).flatten()"
   ]
  },
  {
   "cell_type": "code",
   "execution_count": null,
   "id": "soviet-remains",
   "metadata": {},
   "outputs": [],
   "source": [
    "from torch.multiprocessing import Pool\n",
    "if __name__ == '__main__':\n",
    "    pool = Pool(30)\n",
    "    WST_MHD_rinvar_cumsum = pool.map(MHD_process_dmock,image_list)\n",
    "    pool.close()\n",
    "    pool.join()\n",
    "\n",
    "with open('WST_MHD_rinvar_cumsum_noapod.p', 'wb') as output_file:\n",
    "    pickle.dump(WST_MHD_rinvar_cumsum, output_file)"
   ]
  },
  {
   "cell_type": "code",
   "execution_count": null,
   "id": "higher-french",
   "metadata": {},
   "outputs": [],
   "source": [
    "WST_MHD_rinvar_cumsum = np.array(WST_MHD_rinvar_cumsum)"
   ]
  },
  {
   "cell_type": "code",
   "execution_count": null,
   "id": "similar-brand",
   "metadata": {},
   "outputs": [],
   "source": [
    "if __name__ == '__main__':\n",
    "    pool = Pool(30)\n",
    "    RWST_MHD_rinvar_cumsum = pool.map(RWST_from_WST_MHD_rinvar_cumsum,range(0,6912))\n",
    "    pool.close()\n",
    "    pool.join()\n",
    "    \n",
    "with open('RWST_MHD_rinvar_cumsum_npapod.p', 'wb') as output_file:\n",
    "    pickle.dump(RWST_MHD_rinvar_cumsum, output_file)"
   ]
  }
 ],
 "metadata": {
  "kernelspec": {
   "display_name": "IWST",
   "language": "python",
   "name": "iwst"
  },
  "language_info": {
   "codemirror_mode": {
    "name": "ipython",
    "version": 3
   },
   "file_extension": ".py",
   "mimetype": "text/x-python",
   "name": "python",
   "nbconvert_exporter": "python",
   "pygments_lexer": "ipython3",
   "version": "3.8.6"
  }
 },
 "nbformat": 4,
 "nbformat_minor": 5
}
