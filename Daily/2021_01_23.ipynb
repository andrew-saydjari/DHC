{
 "cells": [
  {
   "cell_type": "code",
   "execution_count": null,
   "id": "bottom-range",
   "metadata": {},
   "outputs": [],
   "source": []
  },
  {
   "cell_type": "code",
   "execution_count": 3,
   "id": "interested-missouri",
   "metadata": {
    "ExecuteTime": {
     "end_time": "2021-01-23T19:02:42.965000-05:00",
     "start_time": "2021-01-24T00:02:42.952Z"
    }
   },
   "outputs": [],
   "source": [
    "using Distributed\n",
    "using Statistics\n",
    "using BenchmarkTools\n",
    "using LinearAlgebra\n",
    "using Distributed\n",
    "using ProgressMeter\n",
    "using FFTW\n",
    "using MLDatasets\n",
    "using Images\n",
    "using Interpolations\n",
    "using HDF5\n",
    "using IterTools\n",
    "push!(LOAD_PATH, \"/Users/saydjari/Dropbox/GradSchool_AKS/Doug/Projects/DHC/main/\")\n",
    "using DHC_2DUtils"
   ]
  },
  {
   "cell_type": "code",
   "execution_count": 4,
   "id": "robust-offering",
   "metadata": {
    "ExecuteTime": {
     "end_time": "2021-01-23T19:02:45.754000-05:00",
     "start_time": "2021-01-24T00:02:45.743Z"
    }
   },
   "outputs": [],
   "source": [
    "M = 2*360\n",
    "angle_array = []\n",
    "for i = 0:2π/M:2π\n",
    "    append!(angle_array,i)\n",
    "end"
   ]
  },
  {
   "cell_type": "code",
   "execution_count": 5,
   "id": "discrete-zoning",
   "metadata": {
    "ExecuteTime": {
     "end_time": "2021-01-23T19:02:51.062000-05:00",
     "start_time": "2021-01-24T00:02:49.087Z"
    }
   },
   "outputs": [],
   "source": [
    "addprocs(7);"
   ]
  },
  {
   "cell_type": "code",
   "execution_count": 6,
   "id": "secondary-willow",
   "metadata": {
    "ExecuteTime": {
     "end_time": "2021-01-23T19:03:05.450000-05:00",
     "start_time": "2021-01-24T00:03:01.663Z"
    },
    "collapsed": true
   },
   "outputs": [
    {
     "data": {
      "text/plain": [
       "Dict{Any,Any} with 9 entries:\n",
       "  \"theta_value\" => [0.0, 0.392699, 0.785398, 1.1781, 1.5708, 1.9635, 2.35619, 2…\n",
       "  \"pc\"          => 1\n",
       "  \"filt_index\"  => Array{CartesianIndex{2},1}[[CartesianIndex(2, 3), CartesianI…\n",
       "  \"filt_value\"  => [[0.150094, 0.150094, 0.794909, 0.68921, 0.374019, 0.374019,…\n",
       "  \"npix\"        => 16\n",
       "  \"psi_index\"   => Int32[1 3 … 13 15; 2 4 … 14 16]\n",
       "  \"phi_index\"   => 17\n",
       "  \"wd\"          => 2\n",
       "  \"j_value\"     => [1.0, 2.0]"
      ]
     },
     "execution_count": 6,
     "metadata": {},
     "output_type": "execute_result"
    }
   ],
   "source": [
    "L = 8\n",
    "rand_mat = rand(16,16)\n",
    "filter_hash = fink_filter_hash(1,L,nx=16,wd=2)"
   ]
  },
  {
   "cell_type": "code",
   "execution_count": 8,
   "id": "protected-piece",
   "metadata": {
    "ExecuteTime": {
     "end_time": "2021-01-23T19:05:12.227000-05:00",
     "start_time": "2021-01-24T00:04:58.096Z"
    }
   },
   "outputs": [
    {
     "name": "stderr",
     "output_type": "stream",
     "text": [
      "\u001b[32mProgress: 100%|█████████████████████████████████████████| Time: 0:00:12\u001b[39m\n"
     ]
    }
   ],
   "source": [
    "@everywhere begin\n",
    "    using Statistics\n",
    "    using BenchmarkTools\n",
    "    using LinearAlgebra\n",
    "    using Distributed\n",
    "    using ProgressMeter\n",
    "    push!(LOAD_PATH, \"/Users/saydjari/Dropbox/GradSchool_AKS/Doug/Projects/DHC/main/\")\n",
    "    using DHC_2DUtils\n",
    "    using FFTW\n",
    "    using MLDatasets\n",
    "    using Images\n",
    "    using Interpolations\n",
    "    \n",
    "    train_x, train_y = MNIST.traindata()\n",
    "    test_x, test_y   = MNIST.testdata()\n",
    "    \n",
    "    # filter bank\n",
    "    filter_hash = fink_filter_hash(1,8,nx=128,wd=3)\n",
    "    \n",
    "    lst = Array{Any}(undef, 0)\n",
    "    for i = 1:60000\n",
    "        push!(lst,train_x[:,:,i])\n",
    "    end\n",
    "    \n",
    "    img_prep = lst[3];\n",
    "\n",
    "    function mnist_pad(θ)\n",
    "        impad = zeros(Float64,64,64)\n",
    "        impad[46:-1:19,19:46] = img_prep'\n",
    "        imbig = imresize(impad,(128,128))\n",
    "        if θ != 0.0\n",
    "            imrot = imrotate(imbig, θ, axes(imbig), Cubic(Throw(OnGrid())))\n",
    "            imrot[findall(imrot .!= imrot)] .= 0.0\n",
    "            return imrot\n",
    "        end\n",
    "        return imbig\n",
    "    end\n",
    "    \n",
    "    function mnist_DHC(θ)\n",
    "        image    = mnist_pad(θ)\n",
    "        WST = DHC_compute(image, filter_hash, filter_hash)\n",
    "        return WST\n",
    "    end\n",
    "end\n",
    "\n",
    "mnist_DHC_out = @showprogress pmap(mnist_DHC, angle_array)\n",
    "mnist_DHC_out = hcat(mnist_DHC_out...)\n",
    "\n",
    "h5write(\"../scratch_AKS/mnist_DHC_angles_1_1_wd3.h5\", \"main/data\", mnist_DHC_out)"
   ]
  },
  {
   "cell_type": "code",
   "execution_count": 9,
   "id": "fitted-memorial",
   "metadata": {
    "ExecuteTime": {
     "end_time": "2021-01-23T19:05:20.021000-05:00",
     "start_time": "2021-01-24T00:05:07.402Z"
    }
   },
   "outputs": [
    {
     "name": "stderr",
     "output_type": "stream",
     "text": [
      "\u001b[32mProgress: 100%|█████████████████████████████████████████| Time: 0:00:05\u001b[39m\n"
     ]
    }
   ],
   "source": [
    "@everywhere begin\n",
    "    using Statistics\n",
    "    using BenchmarkTools\n",
    "    using LinearAlgebra\n",
    "    using Distributed\n",
    "    using ProgressMeter\n",
    "    push!(LOAD_PATH, \"/Users/saydjari/Dropbox/GradSchool_AKS/Doug/Projects/DHC/main/\")\n",
    "    using DHC_2DUtils\n",
    "    using FFTW\n",
    "    using MLDatasets\n",
    "    using Images\n",
    "    using Interpolations\n",
    "    \n",
    "    train_x, train_y = MNIST.traindata()\n",
    "    test_x, test_y   = MNIST.testdata()\n",
    "    \n",
    "    # filter bank\n",
    "    filter_hash = fink_filter_hash(1,8,nx=128,wd=1)\n",
    "    \n",
    "    lst = Array{Any}(undef, 0)\n",
    "    for i = 1:60000\n",
    "        push!(lst,train_x[:,:,i])\n",
    "    end\n",
    "    \n",
    "    img_prep = lst[3];\n",
    "\n",
    "    function mnist_pad(θ)\n",
    "        impad = zeros(Float64,64,64)\n",
    "        impad[46:-1:19,19:46] = img_prep'\n",
    "        imbig = imresize(impad,(128,128))\n",
    "        if θ != 0.0\n",
    "            imrot = imrotate(imbig, θ, axes(imbig), Cubic(Throw(OnGrid())))\n",
    "            imrot[findall(imrot .!= imrot)] .= 0.0\n",
    "            return imrot\n",
    "        end\n",
    "        return imbig\n",
    "    end\n",
    "    \n",
    "    function mnist_DHC(θ)\n",
    "        image    = mnist_pad(θ)\n",
    "        WST = DHC_compute(image, filter_hash, filter_hash)\n",
    "        return WST\n",
    "    end\n",
    "end\n",
    "\n",
    "mnist_DHC_out = @showprogress pmap(mnist_DHC, angle_array)\n",
    "mnist_DHC_out = hcat(mnist_DHC_out...)\n",
    "\n",
    "h5write(\"../scratch_AKS/mnist_DHC_angles_1_1_wd1.h5\", \"main/data\", mnist_DHC_out)"
   ]
  },
  {
   "cell_type": "code",
   "execution_count": 11,
   "id": "laden-belief",
   "metadata": {
    "ExecuteTime": {
     "end_time": "2021-01-23T19:07:50.068000-05:00",
     "start_time": "2021-01-24T00:07:41.852Z"
    }
   },
   "outputs": [
    {
     "name": "stderr",
     "output_type": "stream",
     "text": [
      "\u001b[32mProgress: 100%|█████████████████████████████████████████| Time: 0:00:06\u001b[39m\n"
     ]
    }
   ],
   "source": [
    "@everywhere begin\n",
    "    using Statistics\n",
    "    using BenchmarkTools\n",
    "    using LinearAlgebra\n",
    "    using Distributed\n",
    "    using ProgressMeter\n",
    "    push!(LOAD_PATH, \"/Users/saydjari/Dropbox/GradSchool_AKS/Doug/Projects/DHC/main/\")\n",
    "    using DHC_2DUtils\n",
    "    using FFTW\n",
    "    using MLDatasets\n",
    "    using Images\n",
    "    using Interpolations\n",
    "    \n",
    "    train_x, train_y = MNIST.traindata()\n",
    "    test_x, test_y   = MNIST.testdata()\n",
    "    \n",
    "    # filter bank\n",
    "    filter_hash = fink_filter_hash(1,8,nx=128,wd=1)\n",
    "    filter_hash2 = fink_filter_hash(1,8,nx=128,wd=1,shift=true)\n",
    "    \n",
    "    lst = Array{Any}(undef, 0)\n",
    "    for i = 1:60000\n",
    "        push!(lst,train_x[:,:,i])\n",
    "    end\n",
    "    \n",
    "    img_prep = lst[3];\n",
    "\n",
    "    function mnist_pad(θ)\n",
    "        impad = zeros(Float64,64,64)\n",
    "        impad[46:-1:19,19:46] = img_prep'\n",
    "        imbig = imresize(impad,(128,128))\n",
    "        if θ != 0.0\n",
    "            imrot = imrotate(imbig, θ, axes(imbig), Cubic(Throw(OnGrid())))\n",
    "            imrot[findall(imrot .!= imrot)] .= 0.0\n",
    "            return imrot\n",
    "        end\n",
    "        return imbig\n",
    "    end\n",
    "    \n",
    "    function mnist_DHC(θ)\n",
    "        image    = mnist_pad(θ)\n",
    "        WST = DHC_compute(image, filter_hash, filter_hash2)\n",
    "        return WST\n",
    "    end\n",
    "end\n",
    "\n",
    "mnist_DHC_out = @showprogress pmap(mnist_DHC, angle_array)\n",
    "mnist_DHC_out = hcat(mnist_DHC_out...)\n",
    "\n",
    "h5write(\"../scratch_AKS/mnist_DHC_angles_1_1_wd1_shift.h5\", \"main/data\", mnist_DHC_out)"
   ]
  },
  {
   "cell_type": "code",
   "execution_count": 12,
   "id": "still-october",
   "metadata": {
    "ExecuteTime": {
     "end_time": "2021-01-23T19:08:40.532000-05:00",
     "start_time": "2021-01-24T00:08:29.357Z"
    }
   },
   "outputs": [
    {
     "name": "stderr",
     "output_type": "stream",
     "text": [
      "\u001b[32mProgress: 100%|█████████████████████████████████████████| Time: 0:00:09\u001b[39m\n"
     ]
    }
   ],
   "source": [
    "@everywhere begin\n",
    "    using Statistics\n",
    "    using BenchmarkTools\n",
    "    using LinearAlgebra\n",
    "    using Distributed\n",
    "    using ProgressMeter\n",
    "    push!(LOAD_PATH, \"/Users/saydjari/Dropbox/GradSchool_AKS/Doug/Projects/DHC/main/\")\n",
    "    using DHC_2DUtils\n",
    "    using FFTW\n",
    "    using MLDatasets\n",
    "    using Images\n",
    "    using Interpolations\n",
    "    \n",
    "    train_x, train_y = MNIST.traindata()\n",
    "    test_x, test_y   = MNIST.testdata()\n",
    "    \n",
    "    # filter bank\n",
    "    filter_hash = fink_filter_hash(1,8,nx=128,wd=3)\n",
    "    filter_hash2 = fink_filter_hash(1,8,nx=128,wd=3,shift=true)\n",
    "    \n",
    "    lst = Array{Any}(undef, 0)\n",
    "    for i = 1:60000\n",
    "        push!(lst,train_x[:,:,i])\n",
    "    end\n",
    "    \n",
    "    img_prep = lst[3];\n",
    "\n",
    "    function mnist_pad(θ)\n",
    "        impad = zeros(Float64,64,64)\n",
    "        impad[46:-1:19,19:46] = img_prep'\n",
    "        imbig = imresize(impad,(128,128))\n",
    "        if θ != 0.0\n",
    "            imrot = imrotate(imbig, θ, axes(imbig), Cubic(Throw(OnGrid())))\n",
    "            imrot[findall(imrot .!= imrot)] .= 0.0\n",
    "            return imrot\n",
    "        end\n",
    "        return imbig\n",
    "    end\n",
    "    \n",
    "    function mnist_DHC(θ)\n",
    "        image    = mnist_pad(θ)\n",
    "        WST = DHC_compute(image, filter_hash, filter_hash2)\n",
    "        return WST\n",
    "    end\n",
    "end\n",
    "\n",
    "mnist_DHC_out = @showprogress pmap(mnist_DHC, angle_array)\n",
    "mnist_DHC_out = hcat(mnist_DHC_out...)\n",
    "\n",
    "h5write(\"../scratch_AKS/mnist_DHC_angles_1_1_wd3_shift.h5\", \"main/data\", mnist_DHC_out)"
   ]
  },
  {
   "cell_type": "code",
   "execution_count": 13,
   "id": "horizontal-quebec",
   "metadata": {
    "ExecuteTime": {
     "end_time": "2021-01-23T19:10:19-05:00",
     "start_time": "2021-01-24T00:10:09.404Z"
    }
   },
   "outputs": [
    {
     "name": "stderr",
     "output_type": "stream",
     "text": [
      "\u001b[32mProgress: 100%|█████████████████████████████████████████| Time: 0:00:07\u001b[39m\n"
     ]
    }
   ],
   "source": [
    "@everywhere begin\n",
    "    using Statistics\n",
    "    using BenchmarkTools\n",
    "    using LinearAlgebra\n",
    "    using Distributed\n",
    "    using ProgressMeter\n",
    "    push!(LOAD_PATH, \"/Users/saydjari/Dropbox/GradSchool_AKS/Doug/Projects/DHC/main/\")\n",
    "    using DHC_2DUtils\n",
    "    using FFTW\n",
    "    using MLDatasets\n",
    "    using Images\n",
    "    using Interpolations\n",
    "    \n",
    "    train_x, train_y = MNIST.traindata()\n",
    "    test_x, test_y   = MNIST.testdata()\n",
    "    \n",
    "    # filter bank\n",
    "    filter_hash = fink_filter_hash(1,8,nx=128,wd=2)\n",
    "    filter_hash2 = fink_filter_hash(1,8,nx=128,wd=2,shift=true)\n",
    "    \n",
    "    lst = Array{Any}(undef, 0)\n",
    "    for i = 1:60000\n",
    "        push!(lst,train_x[:,:,i])\n",
    "    end\n",
    "    \n",
    "    img_prep = lst[3];\n",
    "\n",
    "    function mnist_pad(θ)\n",
    "        impad = zeros(Float64,64,64)\n",
    "        impad[46:-1:19,19:46] = img_prep'\n",
    "        imbig = imresize(impad,(128,128))\n",
    "        if θ != 0.0\n",
    "            imrot = imrotate(imbig, θ, axes(imbig), Cubic(Throw(OnGrid())))\n",
    "            imrot[findall(imrot .!= imrot)] .= 0.0\n",
    "            return imrot\n",
    "        end\n",
    "        return imbig\n",
    "    end\n",
    "    \n",
    "    function mnist_DHC(θ)\n",
    "        image    = mnist_pad(θ)\n",
    "        WST = DHC_compute(image, filter_hash, filter_hash2)\n",
    "        return WST\n",
    "    end\n",
    "end\n",
    "\n",
    "mnist_DHC_out = @showprogress pmap(mnist_DHC, angle_array)\n",
    "mnist_DHC_out = hcat(mnist_DHC_out...)\n",
    "\n",
    "h5write(\"../scratch_AKS/mnist_DHC_angles_1_1_wd2_shift.h5\", \"main/data\", mnist_DHC_out)"
   ]
  },
  {
   "cell_type": "code",
   "execution_count": null,
   "id": "earlier-indian",
   "metadata": {},
   "outputs": [],
   "source": []
  }
 ],
 "metadata": {
  "kernelspec": {
   "display_name": "Julia 1.5.3",
   "language": "julia",
   "name": "julia-1.5"
  },
  "language_info": {
   "file_extension": ".jl",
   "mimetype": "application/julia",
   "name": "julia",
   "version": "1.5.3"
  }
 },
 "nbformat": 4,
 "nbformat_minor": 5
}
