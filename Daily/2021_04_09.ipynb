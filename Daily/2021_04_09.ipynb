{
 "cells": [
  {
   "cell_type": "code",
   "execution_count": null,
   "id": "great-flooring",
   "metadata": {},
   "outputs": [],
   "source": []
  },
  {
   "cell_type": "code",
   "execution_count": 2,
   "id": "naked-rings",
   "metadata": {
    "ExecuteTime": {
     "end_time": "2021-04-13T22:36:27.128726Z",
     "start_time": "2021-04-13T22:36:21.312051Z"
    },
    "code_folding": [
     0
    ]
   },
   "outputs": [
    {
     "name": "stderr",
     "output_type": "stream",
     "text": [
      "/opt/miniconda3/envs/IWST/lib/python3.8/_collections_abc.py:666: MatplotlibDeprecationWarning: The global colormaps dictionary is no longer considered public API.\n",
      "  self[key]\n"
     ]
    }
   ],
   "source": [
    "## Import Packages\n",
    "from __future__ import print_function\n",
    "\n",
    "import numpy as np\n",
    "import pandas as pd\n",
    "from itertools import product\n",
    "\n",
    "#Astro Software\n",
    "import astropy.units as units\n",
    "from astropy.coordinates import SkyCoord\n",
    "from astropy.io import fits\n",
    "\n",
    "#Plotting Packages\n",
    "import matplotlib as mpl\n",
    "import matplotlib.cm as cm\n",
    "import matplotlib.pyplot as plt\n",
    "from matplotlib import rcParams\n",
    "\n",
    "import seaborn as sns\n",
    "\n",
    "from PIL import Image\n",
    "\n",
    "from yt.config import ytcfg\n",
    "import yt\n",
    "import yt.units as u\n",
    "\n",
    "#Scattering NN\n",
    "import torch\n",
    "import torch.nn.functional as F\n",
    "from torch import optim\n",
    "from kymatio.torch import Scattering2D\n",
    "device = \"cpu\"\n",
    "\n",
    "#Machine Learning\n",
    "from sklearn.model_selection import train_test_split\n",
    "from sklearn.mixture import GaussianMixture\n",
    "from sklearn.discriminant_analysis import LinearDiscriminantAnalysis as LDA\n",
    "from sklearn.ensemble import RandomForestClassifier\n",
    "from sklearn.metrics import confusion_matrix\n",
    "from sklearn.metrics import accuracy_score\n",
    "from sklearn.metrics import precision_score\n",
    "from sklearn.decomposition import PCA, FastICA\n",
    "\n",
    "import skimage\n",
    "from skimage import filters\n",
    "\n",
    "from scipy.optimize import curve_fit\n",
    "from scipy import linalg\n",
    "from scipy import stats\n",
    "from scipy.signal import general_gaussian\n",
    "\n",
    "#I/O\n",
    "import h5py\n",
    "import pickle\n",
    "import glob\n",
    "import copy\n",
    "import time\n",
    "\n",
    "#Plotting Style\n",
    "%matplotlib inline\n",
    "#plt.style.use('dark_background')\n",
    "rcParams['text.usetex'] = False\n",
    "rcParams['axes.titlesize'] = 20\n",
    "rcParams['xtick.labelsize'] = 16\n",
    "rcParams['ytick.labelsize'] = 16\n",
    "rcParams['legend.fontsize'] = 12\n",
    "rcParams['axes.labelsize'] = 20\n",
    "rcParams['font.family'] = 'sans-serif'\n",
    "\n",
    "#Threading\n",
    "torch.set_num_threads=2\n",
    "from multiprocessing import Pool\n",
    "\n",
    "import ntpath\n",
    "def path_leaf(path):\n",
    "    head, tail = ntpath.split(path)\n",
    "    out = os.path.splitext(tail)[0]\n",
    "    return out\n",
    "\n",
    "def hd5_open(file_name,name):\n",
    "    f=h5py.File(file_name,'r', swmr=True)\n",
    "    data = f[name][:]\n",
    "    f.close()\n",
    "    return data\n",
    "\n",
    "from matplotlib.colors import LinearSegmentedColormap\n",
    "cdict1 = {'red':   ((0.0, 0.0, 0.0),\n",
    "                   (0.5, 0.0, 0.0),\n",
    "                   (1.0, 1.0, 1.0)),\n",
    "\n",
    "         'green': ((0.0, 0.0, 0.0),\n",
    "                   (1.0, 0.0, 0.0)),\n",
    "\n",
    "         'blue':  ((0.0, 0.0, 1.0),\n",
    "                   (0.5, 0.0, 0.0),\n",
    "                   (1.0, 0.0, 0.0))\n",
    "        }\n",
    "blue_red1 = LinearSegmentedColormap('BlueRed1', cdict1,N=5000)\n",
    "\n",
    "from sklearn.preprocessing import StandardScaler"
   ]
  },
  {
   "cell_type": "code",
   "execution_count": 2,
   "id": "amino-edinburgh",
   "metadata": {
    "ExecuteTime": {
     "end_time": "2021-04-09T19:16:33.570008Z",
     "start_time": "2021-04-09T19:16:33.522280Z"
    }
   },
   "outputs": [],
   "source": [
    "filter_bank2D = hd5_open('../scratch_AKS/data/filter_bank_paper_export.h5','main/data')\n",
    "filter_bank2D_J_L = hd5_open('../scratch_AKS/data/filter_bank_paper_export.h5','main/J_L')\n",
    "filter_bank2D_psi_index = hd5_open('../scratch_AKS/data/filter_bank_paper_export.h5','main/psi_index')\n",
    "filter_bank2D_phi_index = hd5_open('../scratch_AKS/data/filter_bank_paper_export.h5','main/phi_index')"
   ]
  },
  {
   "cell_type": "code",
   "execution_count": 3,
   "id": "metallic-excitement",
   "metadata": {
    "ExecuteTime": {
     "end_time": "2021-04-09T19:21:28.105524Z",
     "start_time": "2021-04-09T19:21:27.834331Z"
    }
   },
   "outputs": [],
   "source": [
    "hf = h5py.File(\"/Users/saydjari/Dropbox/GradSchool_AKS/Doug/ZenodoRepos/EqWS/filter_bank.h5\", \"w\")\n",
    "hf.create_dataset(\"data\", data=filter_bank2D, chunks=True, compression=\"gzip\", compression_opts=9)\n",
    "hf.create_dataset(\"J_L\", data=filter_bank2D_J_L, chunks=True, compression=\"gzip\", compression_opts=9)\n",
    "hf.create_dataset(\"psi_index\", data=filter_bank2D_psi_index, chunks=True, compression=\"gzip\", compression_opts=9)\n",
    "hf.create_dataset(\"phi_index\", data=filter_bank2D_phi_index, chunks=True, compression=\"gzip\", compression_opts=9)\n",
    "hf.close()"
   ]
  },
  {
   "cell_type": "code",
   "execution_count": 4,
   "id": "north-belgium",
   "metadata": {
    "ExecuteTime": {
     "end_time": "2021-04-09T19:27:18.902642Z",
     "start_time": "2021-04-09T19:27:18.703296Z"
    }
   },
   "outputs": [],
   "source": [
    "rod_corner = hd5_open('../scratch_AKS/paper_data/corner_rod.h5','main/coeffs')\n",
    "rod_corner_lab = hd5_open('../scratch_AKS/paper_data/corner_rod.h5','main/labels')\n",
    "rod_ex_images = hd5_open('../scratch_AKS/paper_data/images.h5','main/data')\n",
    "\n",
    "rod_curve = hd5_open('../scratch_AKS/paper_data/curve_rod_40.h5','main/coeffs')\n",
    "rod_curve_lab = hd5_open('../scratch_AKS/paper_data/curve_rod_40.h5','main/labels')\n",
    "rod_ex_curves = hd5_open('../scratch_AKS/paper_data/curves.h5','main/data')\n",
    "\n",
    "disc_data = hd5_open('../scratch_AKS/paper_data/disc_data_log.h5','main/coeffs')\n",
    "disc_data_lab = hd5_open('../scratch_AKS/paper_data/disc_data_log.h5','main/labels')\n",
    "disc_ex_images = hd5_open('../scratch_AKS/paper_data/discs.h5','main/data')"
   ]
  },
  {
   "cell_type": "code",
   "execution_count": 5,
   "id": "wound-receiver",
   "metadata": {
    "ExecuteTime": {
     "end_time": "2021-04-09T19:28:33.589068Z",
     "start_time": "2021-04-09T19:28:32.236088Z"
    }
   },
   "outputs": [],
   "source": [
    "hf = h5py.File(\"/Users/saydjari/Dropbox/GradSchool_AKS/Doug/ZenodoRepos/EqWS/rod_space.h5\", \"w\")\n",
    "hf.create_dataset(\"coeffs\", data=rod_corner, chunks=True, compression=\"gzip\", compression_opts=9)\n",
    "hf.create_dataset(\"labels\", data=rod_corner_lab, chunks=True, compression=\"gzip\", compression_opts=9)\n",
    "hf.create_dataset(\"examples\", data=rod_ex_images, chunks=True, compression=\"gzip\", compression_opts=9)\n",
    "hf.close()"
   ]
  },
  {
   "cell_type": "code",
   "execution_count": 6,
   "id": "growing-default",
   "metadata": {
    "ExecuteTime": {
     "end_time": "2021-04-09T19:29:59.745087Z",
     "start_time": "2021-04-09T19:29:58.205721Z"
    }
   },
   "outputs": [],
   "source": [
    "hf = h5py.File(\"/Users/saydjari/Dropbox/GradSchool_AKS/Doug/ZenodoRepos/EqWS/curve_space.h5\", \"w\")\n",
    "hf.create_dataset(\"coeffs\", data=rod_curve, chunks=True, compression=\"gzip\", compression_opts=9)\n",
    "hf.create_dataset(\"labels\", data=rod_curve_lab, chunks=True, compression=\"gzip\", compression_opts=9)\n",
    "hf.create_dataset(\"examples\", data=rod_ex_curves, chunks=True, compression=\"gzip\", compression_opts=9)\n",
    "hf.close()"
   ]
  },
  {
   "cell_type": "code",
   "execution_count": 7,
   "id": "marked-genetics",
   "metadata": {
    "ExecuteTime": {
     "end_time": "2021-04-09T19:30:21.779705Z",
     "start_time": "2021-04-09T19:30:19.447307Z"
    }
   },
   "outputs": [],
   "source": [
    "hf = h5py.File(\"/Users/saydjari/Dropbox/GradSchool_AKS/Doug/ZenodoRepos/EqWS/disc_space.h5\", \"w\")\n",
    "hf.create_dataset(\"coeffs\", data=disc_data, chunks=True, compression=\"gzip\", compression_opts=9)\n",
    "hf.create_dataset(\"labels\", data=disc_data_lab, chunks=True, compression=\"gzip\", compression_opts=9)\n",
    "hf.create_dataset(\"examples\", data=disc_ex_images, chunks=True, compression=\"gzip\", compression_opts=9)\n",
    "hf.close()"
   ]
  },
  {
   "cell_type": "code",
   "execution_count": 8,
   "id": "phantom-burner",
   "metadata": {
    "ExecuteTime": {
     "end_time": "2021-04-09T19:32:27.972218Z",
     "start_time": "2021-04-09T19:32:04.154427Z"
    }
   },
   "outputs": [],
   "source": [
    "mnist_DHC_out_angles = hd5_open('../from_cannon/2021_01_20/mnist_DHC_test_angles.h5','main/data')"
   ]
  },
  {
   "cell_type": "code",
   "execution_count": 9,
   "id": "conditional-skill",
   "metadata": {
    "ExecuteTime": {
     "end_time": "2021-04-09T19:44:22.992668Z",
     "start_time": "2021-04-09T19:33:40.487794Z"
    }
   },
   "outputs": [],
   "source": [
    "hf = h5py.File(\"/Users/saydjari/Dropbox/GradSchool_AKS/Doug/ZenodoRepos/EqWS/mnist_eqws_test_angles.h5\", \"w\")\n",
    "hf.create_dataset(\"coeffs\", data=mnist_DHC_out_angles, chunks=True, compression=\"gzip\", compression_opts=9)\n",
    "hf.close()"
   ]
  },
  {
   "cell_type": "code",
   "execution_count": 10,
   "id": "recovered-linux",
   "metadata": {
    "ExecuteTime": {
     "end_time": "2021-04-09T19:46:15.172394Z",
     "start_time": "2021-04-09T19:44:29.773686Z"
    }
   },
   "outputs": [],
   "source": [
    "mnist_DHC_out_angles = hd5_open(\"/Users/saydjari/Dropbox/GradSchool_AKS/Doug/ZenodoRepos/EqWS/mnist_eqws_test_angles.h5\",'coeffs')"
   ]
  },
  {
   "cell_type": "code",
   "execution_count": 11,
   "id": "regulated-college",
   "metadata": {
    "ExecuteTime": {
     "end_time": "2021-04-09T19:46:29.754223Z",
     "start_time": "2021-04-09T19:46:24.122553Z"
    }
   },
   "outputs": [],
   "source": [
    "mnist_DHC_out_rotpi_3 = hd5_open('../scratch_AKS/data/mnist_DHC_out_rotpi_3.h5','main/data')\n",
    "mnist_DHC_out_rotpi_3_test = hd5_open('../scratch_AKS/data/mnist_DHC_out_rotpi_3_test.h5','main/data')\n",
    "\n",
    "mnist_DHC_out_rot2pi_3 = hd5_open('../scratch_AKS/data/mnist_DHC_out_rot2pi_3.h5','main/data')\n",
    "mnist_DHC_out_rot2pi_3_test = hd5_open('../scratch_AKS/data/mnist_DHC_out_rot2pi_3_test.h5','main/data')\n",
    "\n",
    "mnist_DHC_out_rot3pi_3 = hd5_open('../scratch_AKS/data/mnist_DHC_out_rot3pi_3.h5','main/data')\n",
    "mnist_DHC_out_rot3pi_3_test = hd5_open('../scratch_AKS/data/mnist_DHC_out_rot3pi_3_test.h5','main/data')"
   ]
  },
  {
   "cell_type": "code",
   "execution_count": 12,
   "id": "educational-edwards",
   "metadata": {
    "ExecuteTime": {
     "end_time": "2021-04-09T19:47:21.363432Z",
     "start_time": "2021-04-09T19:46:36.100755Z"
    }
   },
   "outputs": [],
   "source": [
    "hf = h5py.File(\"/Users/saydjari/Dropbox/GradSchool_AKS/Doug/ZenodoRepos/EqWS/mnist_eqws_rotpi_3.h5\", \"w\")\n",
    "hf.create_dataset(\"train\", data=mnist_DHC_out_rotpi_3, chunks=True, compression=\"gzip\", compression_opts=9)\n",
    "hf.create_dataset(\"test\", data=mnist_DHC_out_rotpi_3_test, chunks=True, compression=\"gzip\", compression_opts=9)\n",
    "hf.close()"
   ]
  },
  {
   "cell_type": "code",
   "execution_count": 13,
   "id": "waiting-ordinary",
   "metadata": {
    "ExecuteTime": {
     "end_time": "2021-04-09T19:48:05.410742Z",
     "start_time": "2021-04-09T19:47:21.365288Z"
    }
   },
   "outputs": [],
   "source": [
    "hf = h5py.File(\"/Users/saydjari/Dropbox/GradSchool_AKS/Doug/ZenodoRepos/EqWS/mnist_eqws_rot2pi_3.h5\", \"w\")\n",
    "hf.create_dataset(\"train\", data=mnist_DHC_out_rot2pi_3, chunks=True, compression=\"gzip\", compression_opts=9)\n",
    "hf.create_dataset(\"test\", data=mnist_DHC_out_rot2pi_3_test, chunks=True, compression=\"gzip\", compression_opts=9)\n",
    "hf.close()"
   ]
  },
  {
   "cell_type": "code",
   "execution_count": 14,
   "id": "medical-bronze",
   "metadata": {
    "ExecuteTime": {
     "end_time": "2021-04-09T19:48:46.563271Z",
     "start_time": "2021-04-09T19:48:05.414073Z"
    }
   },
   "outputs": [],
   "source": [
    "hf = h5py.File(\"/Users/saydjari/Dropbox/GradSchool_AKS/Doug/ZenodoRepos/EqWS/mnist_eqws_rot3pi_3.h5\", \"w\")\n",
    "hf.create_dataset(\"train\", data=mnist_DHC_out_rot3pi_3, chunks=True, compression=\"gzip\", compression_opts=9)\n",
    "hf.create_dataset(\"test\", data=mnist_DHC_out_rot3pi_3_test, chunks=True, compression=\"gzip\", compression_opts=9)\n",
    "hf.close()"
   ]
  },
  {
   "cell_type": "code",
   "execution_count": 3,
   "id": "peripheral-heater",
   "metadata": {
    "ExecuteTime": {
     "end_time": "2021-04-13T22:36:51.398788Z",
     "start_time": "2021-04-13T22:36:27.130486Z"
    }
   },
   "outputs": [],
   "source": [
    "mnist_DHC_train_LanRot = hd5_open('../from_cannon/2021_03_28/mnist_DHC_train_ang_LanRotResize.h5','data')\n",
    "mnist_DHC_test_LanRot = hd5_open('../from_cannon/2021_03_28/mnist_DHC_test_ang_LanRotResize.h5','data')"
   ]
  },
  {
   "cell_type": "code",
   "execution_count": 4,
   "id": "unlikely-notice",
   "metadata": {
    "ExecuteTime": {
     "end_time": "2021-04-13T22:50:51.902031Z",
     "start_time": "2021-04-13T22:37:21.119471Z"
    }
   },
   "outputs": [],
   "source": [
    "hf = h5py.File(\"/Users/saydjari/Dropbox/GradSchool_AKS/Doug/ZenodoRepos/EqWS/mnist_eqws_Lanczos.h5\", \"w\")\n",
    "hf.create_dataset(\"train\", data=mnist_DHC_train_LanRot, chunks=True, compression=\"gzip\", compression_opts=9)\n",
    "hf.create_dataset(\"test\", data=mnist_DHC_test_LanRot, chunks=True, compression=\"gzip\", compression_opts=9)\n",
    "hf.close()"
   ]
  },
  {
   "cell_type": "code",
   "execution_count": 15,
   "id": "french-hungarian",
   "metadata": {
    "ExecuteTime": {
     "end_time": "2021-04-09T19:48:46.584787Z",
     "start_time": "2021-04-09T19:48:46.566136Z"
    }
   },
   "outputs": [],
   "source": [
    "mnist_train_y = hd5_open('../scratch_AKS/data/mnist_train_y.h5','main/data')\n",
    "mnist_test_y = hd5_open('../scratch_AKS/data/mnist_test_y.h5','main/data')"
   ]
  },
  {
   "cell_type": "code",
   "execution_count": 17,
   "id": "transsexual-spanish",
   "metadata": {
    "ExecuteTime": {
     "end_time": "2021-04-09T19:49:52.727569Z",
     "start_time": "2021-04-09T19:49:52.500938Z"
    }
   },
   "outputs": [],
   "source": [
    "hf = h5py.File(\"/Users/saydjari/Dropbox/GradSchool_AKS/Doug/ZenodoRepos/EqWS/mnist_labels.h5\", \"w\")\n",
    "hf.create_dataset(\"train\", data=mnist_train_y, chunks=True, compression=\"gzip\", compression_opts=9)\n",
    "hf.create_dataset(\"test\", data=mnist_test_y, chunks=True, compression=\"gzip\", compression_opts=9)\n",
    "hf.close()"
   ]
  },
  {
   "cell_type": "code",
   "execution_count": 18,
   "id": "single-norway",
   "metadata": {
    "ExecuteTime": {
     "end_time": "2021-04-09T19:49:56.499197Z",
     "start_time": "2021-04-09T19:49:56.486301Z"
    }
   },
   "outputs": [],
   "source": [
    "prec_mnist_angles = hd5_open('../scratch_AKS/data/prec_mnist_angles_3.h5','data')\n",
    "prec_mnist_angles_noiso = hd5_open('../scratch_AKS/data/prec_mnist_angles_noiso_3.h5','data')\n",
    "prec_mnist_angles_LanRotResize = hd5_open('../scratch_AKS/data/prec_mnist_angles_3_lanczosRotResize.h5','data')"
   ]
  },
  {
   "cell_type": "code",
   "execution_count": 19,
   "id": "sapphire-scott",
   "metadata": {
    "ExecuteTime": {
     "end_time": "2021-04-09T19:49:58.895001Z",
     "start_time": "2021-04-09T19:49:58.885203Z"
    }
   },
   "outputs": [],
   "source": [
    "hf = h5py.File(\"/Users/saydjari/Dropbox/GradSchool_AKS/Doug/ZenodoRepos/EqWS/mnist_eqws_fluct.h5\", \"w\")\n",
    "hf.create_dataset(\"ISO\", data=prec_mnist_angles, chunks=True, compression=\"gzip\", compression_opts=9)\n",
    "hf.create_dataset(\"REG\", data=prec_mnist_angles_noiso, chunks=True, compression=\"gzip\", compression_opts=9)\n",
    "hf.create_dataset(\"ISO_Lanczos\", data=prec_mnist_angles_LanRotResize, chunks=True, compression=\"gzip\", compression_opts=9)\n",
    "hf.close()"
   ]
  },
  {
   "cell_type": "code",
   "execution_count": 20,
   "id": "oriental-connectivity",
   "metadata": {
    "ExecuteTime": {
     "end_time": "2021-04-09T19:50:01.173577Z",
     "start_time": "2021-04-09T19:50:01.164151Z"
    }
   },
   "outputs": [],
   "source": [
    "test_angles = hd5_open('../scratch_AKS/data/angles_listjl.h5','main/test_angles')\n",
    "train_angles = hd5_open('../scratch_AKS/data/angles_listjl.h5','main/train_angles')"
   ]
  },
  {
   "cell_type": "code",
   "execution_count": 21,
   "id": "rapid-civilization",
   "metadata": {
    "ExecuteTime": {
     "end_time": "2021-04-09T19:50:01.663785Z",
     "start_time": "2021-04-09T19:50:01.657144Z"
    }
   },
   "outputs": [],
   "source": [
    "hf = h5py.File(\"/Users/saydjari/Dropbox/GradSchool_AKS/Doug/ZenodoRepos/EqWS/angles_listjl.h5\", \"w\")\n",
    "hf.create_dataset(\"train_angles\", data=train_angles, chunks=True, compression=\"gzip\", compression_opts=9)\n",
    "hf.create_dataset(\"test_angles\", data=test_angles, chunks=True, compression=\"gzip\", compression_opts=9)\n",
    "hf.close()"
   ]
  },
  {
   "cell_type": "markdown",
   "id": "framed-local",
   "metadata": {},
   "source": [
    "Need to makes sure we release the files used to recreate the below"
   ]
  },
  {
   "cell_type": "code",
   "execution_count": 22,
   "id": "insured-planet",
   "metadata": {
    "ExecuteTime": {
     "end_time": "2021-04-09T19:50:06.127236Z",
     "start_time": "2021-04-09T19:50:04.541453Z"
    }
   },
   "outputs": [],
   "source": [
    "std_class = hd5_open('../from_cannon/2021_03_09/equiv_workup_L3.h5','std_class')\n",
    "std_class_both = hd5_open('../from_cannon/2021_03_09/equiv_workup_L3.h5','std_class_both')\n",
    "std_class_ref = hd5_open('../from_cannon/2021_03_09/equiv_workup_L3.h5','std_class_ref')\n",
    "equiv_std = hd5_open('../from_cannon/2021_03_09/equiv_workup_L3.h5','equiv_std_full')\n",
    "\n",
    "hf = h5py.File(\"/Users/saydjari/Dropbox/GradSchool_AKS/Doug/ZenodoRepos/EqWS/equiv_workup_L3.h5\", \"w\")\n",
    "hf.create_dataset(\"std_class\", data=std_class, chunks=True, compression=\"gzip\", compression_opts=9)\n",
    "hf.create_dataset(\"std_class_both\", data=std_class_both, chunks=True, compression=\"gzip\", compression_opts=9)\n",
    "hf.create_dataset(\"std_class_ref\", data=std_class_ref, chunks=True, compression=\"gzip\", compression_opts=9)\n",
    "hf.create_dataset(\"equiv_std\", data=equiv_std, chunks=True, compression=\"gzip\", compression_opts=9)\n",
    "hf.close()"
   ]
  },
  {
   "cell_type": "code",
   "execution_count": 23,
   "id": "falling-african",
   "metadata": {
    "ExecuteTime": {
     "end_time": "2021-04-09T19:50:07.756235Z",
     "start_time": "2021-04-09T19:50:06.129256Z"
    }
   },
   "outputs": [],
   "source": [
    "std_class = hd5_open('../from_cannon/2021_03_09/equiv_workup_L4.h5','std_class')\n",
    "std_class_both = hd5_open('../from_cannon/2021_03_09/equiv_workup_L4.h5','std_class_both')\n",
    "std_class_ref = hd5_open('../from_cannon/2021_03_09/equiv_workup_L4.h5','std_class_ref')\n",
    "equiv_std = hd5_open('../from_cannon/2021_03_09/equiv_workup_L4.h5','equiv_std_full')\n",
    "\n",
    "hf = h5py.File(\"/Users/saydjari/Dropbox/GradSchool_AKS/Doug/ZenodoRepos/EqWS/equiv_workup_L4.h5\", \"w\")\n",
    "hf.create_dataset(\"std_class\", data=std_class, chunks=True, compression=\"gzip\", compression_opts=9)\n",
    "hf.create_dataset(\"std_class_both\", data=std_class_both, chunks=True, compression=\"gzip\", compression_opts=9)\n",
    "hf.create_dataset(\"std_class_ref\", data=std_class_ref, chunks=True, compression=\"gzip\", compression_opts=9)\n",
    "hf.create_dataset(\"equiv_std\", data=equiv_std, chunks=True, compression=\"gzip\", compression_opts=9)\n",
    "hf.close()"
   ]
  },
  {
   "cell_type": "code",
   "execution_count": 24,
   "id": "judicial-bangkok",
   "metadata": {
    "ExecuteTime": {
     "end_time": "2021-04-09T19:50:09.382456Z",
     "start_time": "2021-04-09T19:50:07.758137Z"
    }
   },
   "outputs": [],
   "source": [
    "std_class = hd5_open('../from_cannon/2021_03_09/equiv_workup_L5.h5','std_class')\n",
    "std_class_both = hd5_open('../from_cannon/2021_03_09/equiv_workup_L5.h5','std_class_both')\n",
    "std_class_ref = hd5_open('../from_cannon/2021_03_09/equiv_workup_L5.h5','std_class_ref')\n",
    "equiv_std = hd5_open('../from_cannon/2021_03_09/equiv_workup_L5.h5','equiv_std_full')\n",
    "\n",
    "hf = h5py.File(\"/Users/saydjari/Dropbox/GradSchool_AKS/Doug/ZenodoRepos/EqWS/equiv_workup_L5.h5\", \"w\")\n",
    "hf.create_dataset(\"std_class\", data=std_class, chunks=True, compression=\"gzip\", compression_opts=9)\n",
    "hf.create_dataset(\"std_class_both\", data=std_class_both, chunks=True, compression=\"gzip\", compression_opts=9)\n",
    "hf.create_dataset(\"std_class_ref\", data=std_class_ref, chunks=True, compression=\"gzip\", compression_opts=9)\n",
    "hf.create_dataset(\"equiv_std\", data=equiv_std, chunks=True, compression=\"gzip\", compression_opts=9)\n",
    "hf.close()"
   ]
  },
  {
   "cell_type": "code",
   "execution_count": 25,
   "id": "fourth-legend",
   "metadata": {
    "ExecuteTime": {
     "end_time": "2021-04-09T19:50:11.020647Z",
     "start_time": "2021-04-09T19:50:09.384093Z"
    }
   },
   "outputs": [],
   "source": [
    "std_class = hd5_open('../from_cannon/2021_03_09/equiv_workup_L6.h5','std_class')\n",
    "std_class_both = hd5_open('../from_cannon/2021_03_09/equiv_workup_L6.h5','std_class_both')\n",
    "std_class_ref = hd5_open('../from_cannon/2021_03_09/equiv_workup_L6.h5','std_class_ref')\n",
    "equiv_std = hd5_open('../from_cannon/2021_03_09/equiv_workup_L6.h5','equiv_std_full')\n",
    "\n",
    "hf = h5py.File(\"/Users/saydjari/Dropbox/GradSchool_AKS/Doug/ZenodoRepos/EqWS/equiv_workup_L6.h5\", \"w\")\n",
    "hf.create_dataset(\"std_class\", data=std_class, chunks=True, compression=\"gzip\", compression_opts=9)\n",
    "hf.create_dataset(\"std_class_both\", data=std_class_both, chunks=True, compression=\"gzip\", compression_opts=9)\n",
    "hf.create_dataset(\"std_class_ref\", data=std_class_ref, chunks=True, compression=\"gzip\", compression_opts=9)\n",
    "hf.create_dataset(\"equiv_std\", data=equiv_std, chunks=True, compression=\"gzip\", compression_opts=9)\n",
    "hf.close()"
   ]
  },
  {
   "cell_type": "code",
   "execution_count": 26,
   "id": "false-joseph",
   "metadata": {
    "ExecuteTime": {
     "end_time": "2021-04-09T19:50:12.711228Z",
     "start_time": "2021-04-09T19:50:11.022721Z"
    }
   },
   "outputs": [],
   "source": [
    "std_class = hd5_open('../from_cannon/2021_03_09/equiv_workup_L7.h5','std_class')\n",
    "std_class_both = hd5_open('../from_cannon/2021_03_09/equiv_workup_L7.h5','std_class_both')\n",
    "std_class_ref = hd5_open('../from_cannon/2021_03_09/equiv_workup_L7.h5','std_class_ref')\n",
    "equiv_std = hd5_open('../from_cannon/2021_03_09/equiv_workup_L7.h5','equiv_std_full')\n",
    "\n",
    "hf = h5py.File(\"/Users/saydjari/Dropbox/GradSchool_AKS/Doug/ZenodoRepos/EqWS/equiv_workup_L7.h5\", \"w\")\n",
    "hf.create_dataset(\"std_class\", data=std_class, chunks=True, compression=\"gzip\", compression_opts=9)\n",
    "hf.create_dataset(\"std_class_both\", data=std_class_both, chunks=True, compression=\"gzip\", compression_opts=9)\n",
    "hf.create_dataset(\"std_class_ref\", data=std_class_ref, chunks=True, compression=\"gzip\", compression_opts=9)\n",
    "hf.create_dataset(\"equiv_std\", data=equiv_std, chunks=True, compression=\"gzip\", compression_opts=9)\n",
    "hf.close()"
   ]
  },
  {
   "cell_type": "code",
   "execution_count": 27,
   "id": "geological-islam",
   "metadata": {
    "ExecuteTime": {
     "end_time": "2021-04-09T19:50:14.328751Z",
     "start_time": "2021-04-09T19:50:12.713318Z"
    }
   },
   "outputs": [],
   "source": [
    "std_class = hd5_open('../from_cannon/2021_03_09/equiv_workup_L8.h5','std_class')\n",
    "std_class_both = hd5_open('../from_cannon/2021_03_09/equiv_workup_L8.h5','std_class_both')\n",
    "std_class_ref = hd5_open('../from_cannon/2021_03_09/equiv_workup_L8.h5','std_class_ref')\n",
    "equiv_std = hd5_open('../from_cannon/2021_03_09/equiv_workup_L8.h5','equiv_std_full')\n",
    "\n",
    "hf = h5py.File(\"/Users/saydjari/Dropbox/GradSchool_AKS/Doug/ZenodoRepos/EqWS/equiv_workup_L8.h5\", \"w\")\n",
    "hf.create_dataset(\"std_class\", data=std_class, chunks=True, compression=\"gzip\", compression_opts=9)\n",
    "hf.create_dataset(\"std_class_both\", data=std_class_both, chunks=True, compression=\"gzip\", compression_opts=9)\n",
    "hf.create_dataset(\"std_class_ref\", data=std_class_ref, chunks=True, compression=\"gzip\", compression_opts=9)\n",
    "hf.create_dataset(\"equiv_std\", data=equiv_std, chunks=True, compression=\"gzip\", compression_opts=9)\n",
    "hf.close()"
   ]
  },
  {
   "cell_type": "code",
   "execution_count": 28,
   "id": "systematic-laundry",
   "metadata": {
    "ExecuteTime": {
     "end_time": "2021-04-09T19:50:59.111477Z",
     "start_time": "2021-04-09T19:50:59.090347Z"
    }
   },
   "outputs": [],
   "source": [
    "ext_y = hd5_open('../from_cannon/2021_03_09/equivFit.h5','ext_y')\n",
    "real_y = hd5_open('../from_cannon/2021_03_09/equivFit.h5','real_y')\n",
    "y_interp = hd5_open('../from_cannon/2021_03_09/equivFit.h5','y_interp')\n",
    "x_interp = hd5_open('../from_cannon/2021_03_09/equivFit.h5','x_interp')\n",
    "x_for_compare = hd5_open('../from_cannon/2021_03_09/equivFit.h5','x_for_compare')\n",
    "shifted_coeff = hd5_open('../from_cannon/2021_03_09/equivFit.h5','shifted_coeff')"
   ]
  },
  {
   "cell_type": "code",
   "execution_count": 29,
   "id": "entitled-melbourne",
   "metadata": {
    "ExecuteTime": {
     "end_time": "2021-04-09T19:52:06.403000Z",
     "start_time": "2021-04-09T19:52:06.237795Z"
    }
   },
   "outputs": [],
   "source": [
    "hf = h5py.File(\"/Users/saydjari/Dropbox/GradSchool_AKS/Doug/ZenodoRepos/EqWS/equivFit.h5\", \"w\")\n",
    "hf.create_dataset(\"ext_y\", data=ext_y, chunks=True, compression=\"gzip\", compression_opts=9)\n",
    "hf.create_dataset(\"real_y\", data=real_y, chunks=True, compression=\"gzip\", compression_opts=9)\n",
    "hf.create_dataset(\"y_interp\", data=y_interp, chunks=True, compression=\"gzip\", compression_opts=9)\n",
    "hf.create_dataset(\"x_interp\", data=x_interp, chunks=True, compression=\"gzip\", compression_opts=9)\n",
    "hf.create_dataset(\"x_for_compare\", data=x_for_compare, chunks=True, compression=\"gzip\", compression_opts=9)\n",
    "hf.create_dataset(\"shifted_coeff\", data=shifted_coeff, chunks=True, compression=\"gzip\", compression_opts=9)\n",
    "hf.close()"
   ]
  },
  {
   "cell_type": "code",
   "execution_count": 30,
   "id": "sacred-ownership",
   "metadata": {
    "ExecuteTime": {
     "end_time": "2021-04-09T19:53:02.608594Z",
     "start_time": "2021-04-09T19:53:02.553357Z"
    }
   },
   "outputs": [],
   "source": [
    "drop_test = np.zeros((10,3,309))\n",
    "for i in range(10):\n",
    "    for j in range(3):\n",
    "        if j==0:\n",
    "            drop_test[i,j,:] = hd5_open('../../DHC/from_cannon/2021_03_17/drop_test_{}.h5'.format(i),'drop_indx')\n",
    "        if j==1:\n",
    "            drop_test[i,j,:] = hd5_open('../../DHC/from_cannon/2021_03_17/drop_test_{}.h5'.format(i),'prec_max')\n",
    "        if j==2:\n",
    "            drop_test[i,j,:] = hd5_open('../../DHC/from_cannon/2021_03_17/drop_test_{}.h5'.format(i),'train_prec')"
   ]
  },
  {
   "cell_type": "code",
   "execution_count": 32,
   "id": "fixed-johns",
   "metadata": {
    "ExecuteTime": {
     "end_time": "2021-04-09T19:53:44.386287Z",
     "start_time": "2021-04-09T19:53:44.373223Z"
    }
   },
   "outputs": [],
   "source": [
    "hf = h5py.File(\"/Users/saydjari/Dropbox/GradSchool_AKS/Doug/ZenodoRepos/EqWS/drop_test.h5\", \"w\")\n",
    "hf.create_dataset(\"data\", data=drop_test, chunks=True, compression=\"gzip\", compression_opts=9)\n",
    "hf.close()"
   ]
  },
  {
   "cell_type": "code",
   "execution_count": 33,
   "id": "vertical-greenhouse",
   "metadata": {
    "ExecuteTime": {
     "end_time": "2021-04-09T19:57:26.802273Z",
     "start_time": "2021-04-09T19:57:25.820414Z"
    }
   },
   "outputs": [],
   "source": [
    "mnist_DHC_out_sizetrain = hd5_open('../scratch_AKS/data/mnist_DHC_out_rot7pi_8.h5','main/data')\n",
    "mnist_DHC_out_sizetest = hd5_open('../scratch_AKS/data/mnist_DHC_out_rot7pi_8_test.h5','main/data')"
   ]
  },
  {
   "cell_type": "code",
   "execution_count": 34,
   "id": "applicable-soviet",
   "metadata": {
    "ExecuteTime": {
     "end_time": "2021-04-09T19:58:29.262668Z",
     "start_time": "2021-04-09T19:57:49.887596Z"
    }
   },
   "outputs": [],
   "source": [
    "hf = h5py.File(\"/Users/saydjari/Dropbox/GradSchool_AKS/Doug/ZenodoRepos/EqWS/mnist_eqws_rot7pi_8.h5\", \"w\")\n",
    "hf.create_dataset(\"train\", data=mnist_DHC_out_sizetrain, chunks=True, compression=\"gzip\", compression_opts=9)\n",
    "hf.create_dataset(\"test\", data=mnist_DHC_out_sizetest, chunks=True, compression=\"gzip\", compression_opts=9)\n",
    "hf.close()"
   ]
  },
  {
   "cell_type": "code",
   "execution_count": 4,
   "id": "imperial-treaty",
   "metadata": {
    "ExecuteTime": {
     "end_time": "2021-04-13T00:16:50.848657Z",
     "start_time": "2021-04-13T00:16:50.624988Z"
    }
   },
   "outputs": [],
   "source": [
    "import scipy.io as sio\n",
    "matfilters = sio.loadmat('/Users/saydjari/Dropbox/GradSchool_AKS/Doug/PythonRepos/phaseharmonics-master/matlab/filters/bumpsteerableg1_fft2d_N256_J8_L8.mat')"
   ]
  },
  {
   "cell_type": "code",
   "execution_count": 5,
   "id": "hawaiian-creativity",
   "metadata": {
    "ExecuteTime": {
     "end_time": "2021-04-13T00:16:52.320254Z",
     "start_time": "2021-04-13T00:16:52.093871Z"
    }
   },
   "outputs": [],
   "source": [
    "fftphi = matfilters['filt_fftphi'].astype(np.complex_)\n",
    "hatphi = np.stack((np.real(fftphi), np.imag(fftphi)), axis=-1)\n",
    "\n",
    "fftpsi = matfilters['filt_fftpsi'].astype(np.complex_)\n",
    "hatpsi = np.stack((np.real(fftpsi), np.imag(fftpsi)), axis=-1)"
   ]
  },
  {
   "cell_type": "code",
   "execution_count": 6,
   "id": "confused-component",
   "metadata": {
    "ExecuteTime": {
     "end_time": "2021-04-13T00:17:08.738269Z",
     "start_time": "2021-04-13T00:17:07.423922Z"
    }
   },
   "outputs": [],
   "source": [
    "hf = h5py.File(\"/Users/saydjari/Dropbox/GradSchool_AKS/Doug/ZenodoRepos/EqWS/bumpsteerable.h5\", \"w\")\n",
    "hf.create_dataset(\"hatphi\", data=hatphi, chunks=True, compression=\"gzip\", compression_opts=9)\n",
    "hf.create_dataset(\"hatpsi\", data=hatpsi, chunks=True, compression=\"gzip\", compression_opts=9)\n",
    "hf.close()"
   ]
  },
  {
   "cell_type": "code",
   "execution_count": 41,
   "id": "incident-special",
   "metadata": {
    "ExecuteTime": {
     "end_time": "2021-04-09T20:04:54.333329Z",
     "start_time": "2021-04-09T20:04:54.202024Z"
    }
   },
   "outputs": [],
   "source": [
    "with open('../../IWST/FromCannon/2020_10_29/res_morlet_cfree_scat7_acom.p', 'rb') as input_file:\n",
    "    res = pickle.load(input_file)\n",
    "    \n",
    "with open(\"/Users/saydjari/Dropbox/GradSchool_AKS/Doug/ZenodoRepos/EqWS/res_morlet_cfree_scat7_acom.h5\", 'wb') as output_file:\n",
    "    pickle.dump(res, output_file)"
   ]
  },
  {
   "cell_type": "code",
   "execution_count": 42,
   "id": "clear-responsibility",
   "metadata": {
    "ExecuteTime": {
     "end_time": "2021-04-09T20:05:00.486892Z",
     "start_time": "2021-04-09T20:04:58.059163Z"
    }
   },
   "outputs": [],
   "source": [
    "mnist_DHC_out = hd5_open('../scratch_AKS/data/mnist_DHC_out.h5','main/data')\n",
    "mnist_DHC_out_test = hd5_open('../scratch_AKS/data/mnist_DHC_out_test.h5','main/data')"
   ]
  },
  {
   "cell_type": "code",
   "execution_count": 43,
   "id": "apart-natural",
   "metadata": {
    "ExecuteTime": {
     "end_time": "2021-04-09T20:05:59.592028Z",
     "start_time": "2021-04-09T20:05:19.582165Z"
    }
   },
   "outputs": [],
   "source": [
    "hf = h5py.File(\"/Users/saydjari/Dropbox/GradSchool_AKS/Doug/ZenodoRepos/EqWS/mnist_eqws.h5\", \"w\")\n",
    "hf.create_dataset(\"train\", data=mnist_DHC_out, chunks=True, compression=\"gzip\", compression_opts=9)\n",
    "hf.create_dataset(\"test\", data=mnist_DHC_out_test, chunks=True, compression=\"gzip\", compression_opts=9)\n",
    "hf.close()"
   ]
  },
  {
   "cell_type": "code",
   "execution_count": 20,
   "id": "least-interstate",
   "metadata": {
    "ExecuteTime": {
     "end_time": "2021-04-13T04:55:39.677004Z",
     "start_time": "2021-04-13T04:55:38.344982Z"
    }
   },
   "outputs": [],
   "source": [
    "with open('../../IWST/FromCannon/2020_11_09/RWST_MHD_rinvar_cumsum.p', 'rb') as input_file:\n",
    "    RWST_MHD_rinvar_cumsum = np.array(pickle.load(input_file))\n",
    "with open('../../IWST/FromCannon/2020_11_09/WST_MHD_rinvar_cumsum.p', 'rb') as input_file:\n",
    "    WST_MHD_rinvar_cumsum = np.array(pickle.load(input_file))"
   ]
  },
  {
   "cell_type": "code",
   "execution_count": 22,
   "id": "naval-sapphire",
   "metadata": {
    "ExecuteTime": {
     "end_time": "2021-04-13T04:55:54.358989Z",
     "start_time": "2021-04-13T04:55:54.341026Z"
    }
   },
   "outputs": [],
   "source": [
    "dhc_mhd = hd5_open(\"../../MHDSearch/from_cannon/2021_04_06/MHD_DHC_c1_L8_wd2_omegaF_apodF_S2T_S2rF_S2fF.h5\",\"data\")"
   ]
  },
  {
   "cell_type": "code",
   "execution_count": 23,
   "id": "incorporate-enterprise",
   "metadata": {
    "ExecuteTime": {
     "end_time": "2021-04-13T04:56:16.234339Z",
     "start_time": "2021-04-13T04:56:10.883301Z"
    }
   },
   "outputs": [],
   "source": [
    "hf = h5py.File(\"/Users/saydjari/Dropbox/GradSchool_AKS/Doug/ZenodoRepos/EqWS/MHD_WST_cumsum.h5\", \"w\")\n",
    "hf.create_dataset(\"RWST\", data=RWST_MHD_rinvar_cumsum, chunks=True, compression=\"gzip\", compression_opts=9)\n",
    "hf.create_dataset(\"WST\", data=WST_MHD_rinvar_cumsum, chunks=True, compression=\"gzip\", compression_opts=9)\n",
    "hf.create_dataset(\"EqWS\", data=dhc_mhd, chunks=True, compression=\"gzip\", compression_opts=9)\n",
    "hf.close()"
   ]
  },
  {
   "cell_type": "code",
   "execution_count": 13,
   "id": "rubber-shore",
   "metadata": {
    "ExecuteTime": {
     "end_time": "2021-04-13T03:31:18.988051Z",
     "start_time": "2021-04-13T03:31:18.965456Z"
    }
   },
   "outputs": [],
   "source": [
    "rod_L8_wd1_N1 = hd5_open('../scratch_AKS/paper_data/rod_stable_L8_wd1_N1.h5','data')\n",
    "rod_L8_wd2_N1 = hd5_open('../scratch_AKS/paper_data/rod_stable_L8_wd2_N1.h5','data')\n",
    "rod_L8_wd4_N1 = hd5_open('../scratch_AKS/paper_data/rod_stable_L8_wd4_N1.h5','data')\n",
    "\n",
    "rod_L8_wd2_N4 = hd5_open('../scratch_AKS/paper_data/rod_stable_L8_wd2_N4.h5','data')\n",
    "rod_L8_wd2_N16 = hd5_open('../scratch_AKS/paper_data/rod_stable_L8_wd2_N16.h5','data')\n",
    "\n",
    "rod_angles = hd5_open('../scratch_AKS/paper_data/rod_stable_L8_wd2_N1.h5','angles')"
   ]
  },
  {
   "cell_type": "code",
   "execution_count": 14,
   "id": "sacred-coupon",
   "metadata": {
    "ExecuteTime": {
     "end_time": "2021-04-13T03:31:19.684207Z",
     "start_time": "2021-04-13T03:31:19.654525Z"
    }
   },
   "outputs": [],
   "source": [
    "hf = h5py.File(\"/Users/saydjari/Dropbox/GradSchool_AKS/Doug/ZenodoRepos/EqWS/rod_stability.h5\", \"w\")\n",
    "hf.create_dataset(\"wd1_N1\", data=rod_L8_wd1_N1, chunks=True, compression=\"gzip\", compression_opts=9)\n",
    "hf.create_dataset(\"wd2_N1\", data=rod_L8_wd2_N1, chunks=True, compression=\"gzip\", compression_opts=9)\n",
    "hf.create_dataset(\"wd4_N1\", data=rod_L8_wd4_N1, chunks=True, compression=\"gzip\", compression_opts=9)\n",
    "\n",
    "hf.create_dataset(\"wd2_N4\", data=rod_L8_wd2_N4, chunks=True, compression=\"gzip\", compression_opts=9)\n",
    "hf.create_dataset(\"wd2_N16\", data=rod_L8_wd2_N16, chunks=True, compression=\"gzip\", compression_opts=9)\n",
    "\n",
    "hf.create_dataset(\"angles\", data=rod_angles, chunks=True, compression=\"gzip\", compression_opts=9)\n",
    "hf.close()"
   ]
  },
  {
   "cell_type": "code",
   "execution_count": 15,
   "id": "unexpected-prayer",
   "metadata": {
    "ExecuteTime": {
     "end_time": "2021-04-13T03:46:12.865638Z",
     "start_time": "2021-04-13T03:45:29.324638Z"
    }
   },
   "outputs": [],
   "source": [
    "mnist_DHC_out_train_L4s = hd5_open('../from_cannon/2021_03_09/mnist_DHC_train_eq_L4_s.h5','main/data')\n",
    "mnist_DHC_out_test_L4s = hd5_open('../from_cannon/2021_03_09/mnist_DHC_test_eq_L4_s.h5','main/data')\n",
    "\n",
    "mnist_DHC_out_train_L4s_angles = hd5_open('../from_cannon/2021_03_09/mnist_DHC_train_eq_L4_s.h5','main/angles')\n",
    "mnist_DHC_out_test_L4s_angles = hd5_open('../from_cannon/2021_03_09/mnist_DHC_test_eq_L4_s.h5','main/angles')"
   ]
  },
  {
   "cell_type": "code",
   "execution_count": 19,
   "id": "united-survival",
   "metadata": {
    "ExecuteTime": {
     "end_time": "2021-04-13T03:50:45.702900Z",
     "start_time": "2021-04-13T03:46:52.461845Z"
    }
   },
   "outputs": [],
   "source": [
    "hf = h5py.File(\"/Users/saydjari/Dropbox/GradSchool_AKS/Doug/ZenodoRepos/EqWS/mnist_eqws_L4s.h5\", \"w\")\n",
    "hf.create_dataset(\"train\", data=mnist_DHC_out_train_L4s, chunks=True, compression=\"gzip\", compression_opts=9)\n",
    "hf.create_dataset(\"test\", data=mnist_DHC_out_test_L4s, chunks=True, compression=\"gzip\", compression_opts=9)\n",
    "\n",
    "hf.create_dataset(\"train_angles\", data=mnist_DHC_out_train_L4s_angles, chunks=True, compression=\"gzip\", compression_opts=9)\n",
    "hf.create_dataset(\"test_angles\", data=mnist_DHC_out_test_L4s_angles, chunks=True, compression=\"gzip\", compression_opts=9)\n",
    "hf.close()"
   ]
  },
  {
   "cell_type": "code",
   "execution_count": 24,
   "id": "major-vulnerability",
   "metadata": {
    "ExecuteTime": {
     "end_time": "2021-04-13T07:08:54.358897Z",
     "start_time": "2021-04-13T07:08:44.336002Z"
    }
   },
   "outputs": [],
   "source": [
    "rod_corner = hd5_open('/Users/saydjari/Dropbox/GradSchool_AKS/Doug/Projects/DHC/from_cannon/2021_04_03/corner_rod_S2.h5','main/coeffs')\n",
    "rod_curve = hd5_open('/Users/saydjari/Dropbox/GradSchool_AKS/Doug/Projects/DHC/from_cannon/2021_04_03/curve_rod_S2.h5','main/coeffs')\n",
    "disc_data = hd5_open('/Users/saydjari/Dropbox/GradSchool_AKS/Doug/Projects/DHC/from_cannon/2021_04_03/disc_data_log_S2.h5','main/coeffs')"
   ]
  },
  {
   "cell_type": "code",
   "execution_count": 25,
   "id": "qualified-prague",
   "metadata": {
    "ExecuteTime": {
     "end_time": "2021-04-13T07:13:49.723756Z",
     "start_time": "2021-04-13T07:10:07.280984Z"
    }
   },
   "outputs": [],
   "source": [
    "hf = h5py.File(\"/Users/saydjari/Dropbox/GradSchool_AKS/Doug/ZenodoRepos/EqWS/rod_spaceS2.h5\", \"w\")\n",
    "hf.create_dataset(\"coeffs\", data=rod_corner, chunks=True, compression=\"gzip\", compression_opts=9)\n",
    "hf.close()\n",
    "\n",
    "hf = h5py.File(\"/Users/saydjari/Dropbox/GradSchool_AKS/Doug/ZenodoRepos/EqWS/curve_spaceS2.h5\", \"w\")\n",
    "hf.create_dataset(\"coeffs\", data=rod_curve, chunks=True, compression=\"gzip\", compression_opts=9)\n",
    "hf.close()\n",
    "\n",
    "hf = h5py.File(\"/Users/saydjari/Dropbox/GradSchool_AKS/Doug/ZenodoRepos/EqWS/disc_spaceS2.h5\", \"w\")\n",
    "hf.create_dataset(\"coeffs\", data=disc_data, chunks=True, compression=\"gzip\", compression_opts=9)\n",
    "hf.close()"
   ]
  },
  {
   "cell_type": "code",
   "execution_count": null,
   "id": "chief-photographer",
   "metadata": {},
   "outputs": [],
   "source": []
  }
 ],
 "metadata": {
  "kernelspec": {
   "display_name": "IWST",
   "language": "python",
   "name": "iwst"
  },
  "language_info": {
   "codemirror_mode": {
    "name": "ipython",
    "version": 3
   },
   "file_extension": ".py",
   "mimetype": "text/x-python",
   "name": "python",
   "nbconvert_exporter": "python",
   "pygments_lexer": "ipython3",
   "version": "3.8.6"
  }
 },
 "nbformat": 4,
 "nbformat_minor": 5
}
