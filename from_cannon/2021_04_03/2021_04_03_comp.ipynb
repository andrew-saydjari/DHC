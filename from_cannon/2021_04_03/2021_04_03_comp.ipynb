{
 "cells": [
  {
   "cell_type": "code",
   "execution_count": 4,
   "metadata": {
    "ExecuteTime": {
     "end_time": "2021-04-03T17:21:13.329000-04:00",
     "start_time": "2021-04-03T21:19:47.135Z"
    }
   },
   "outputs": [],
   "source": [
    "## Preloads\n",
    "using Statistics\n",
    "using FFTW\n",
    "using Distributed\n",
    "using Plots\n",
    "using BenchmarkTools\n",
    "using Profile\n",
    "using LinearAlgebra\n",
    "using Measures\n",
    "using HDF5\n",
    "using Plots\n",
    "push!(LOAD_PATH,pwd())\n",
    "using DHC_2DUtils\n",
    "using MLDatasets\n",
    "using Images\n",
    "using HDF5\n",
    "theme(:dark)"
   ]
  },
  {
   "cell_type": "code",
   "execution_count": 2,
   "metadata": {
    "ExecuteTime": {
     "end_time": "2021-04-03T17:24:59.731000-04:00",
     "start_time": "2021-04-03T21:24:56.417Z"
    }
   },
   "outputs": [
    {
     "data": {
      "text/plain": [
       "11-element Array{Int64,1}:\n",
       "  2\n",
       "  3\n",
       "  4\n",
       "  5\n",
       "  6\n",
       "  7\n",
       "  8\n",
       "  9\n",
       " 10\n",
       " 11\n",
       " 12"
      ]
     },
     "execution_count": 2,
     "metadata": {},
     "output_type": "execute_result"
    }
   ],
   "source": [
    "addprocs(11)"
   ]
  },
  {
   "cell_type": "code",
   "execution_count": 5,
   "metadata": {
    "ExecuteTime": {
     "start_time": "2021-04-03T21:25:18.565Z"
    },
    "code_folding": []
   },
   "outputs": [
    {
     "name": "stderr",
     "output_type": "stream",
     "text": [
      "\u001b[32mProgress:   0%|                                         |  ETA: 3:46:31\u001b[39m"
     ]
    },
    {
     "ename": "InterruptException",
     "evalue": "InterruptException:",
     "output_type": "error",
     "traceback": [
      "InterruptException:",
      "",
      "Stacktrace:",
      " [1] (::Base.var\"#732#734\")(::Task) at ./asyncmap.jl:178",
      " [2] foreach(::Base.var\"#732#734\", ::Array{Any,1}) at ./abstractarray.jl:1920",
      " [3] maptwice(::Function, ::Channel{Any}, ::Array{Any,1}, ::Base.Iterators.ProductIterator{Tuple{StepRange{Int64,Int64},StepRange{Int64,Int64}}}) at ./asyncmap.jl:178",
      " [4] wrap_n_exec_twice(::Channel{Any}, ::Array{Any,1}, ::Distributed.var\"#208#211\"{WorkerPool}, ::Function, ::Base.Iterators.ProductIterator{Tuple{StepRange{Int64,Int64},StepRange{Int64,Int64}}}) at ./asyncmap.jl:154",
      " [5] #async_usemap#717(::Function, ::Nothing, ::typeof(Base.async_usemap), ::Distributed.var\"#192#194\"{Distributed.var\"#192#193#195\"{WorkerPool,ProgressMeter.var\"#46#49\"{typeof(corner_WST),RemoteChannel{Channel{Bool}}}}}, ::Base.Iterators.ProductIterator{Tuple{StepRange{Int64,Int64},StepRange{Int64,Int64}}}) at ./asyncmap.jl:103",
      " [6] (::Base.var\"#kw##async_usemap\")(::NamedTuple{(:ntasks, :batch_size),Tuple{Distributed.var\"#208#211\"{WorkerPool},Nothing}}, ::typeof(Base.async_usemap), ::Function, ::Base.Iterators.ProductIterator{Tuple{StepRange{Int64,Int64},StepRange{Int64,Int64}}}) at ./none:0",
      " [7] #asyncmap#716 at ./asyncmap.jl:81 [inlined]",
      " [8] #asyncmap at ./none:0 [inlined]",
      " [9] #pmap#207(::Bool, ::Int64, ::Nothing, ::Array{Any,1}, ::Nothing, ::typeof(pmap), ::Function, ::WorkerPool, ::Base.Iterators.ProductIterator{Tuple{StepRange{Int64,Int64},StepRange{Int64,Int64}}}) at /scratch/pkrastev/lmod_build/julia-1.3.1/usr/share/julia/stdlib/v1.3/Distributed/src/pmap.jl:126",
      " [10] pmap(::Function, ::WorkerPool, ::Base.Iterators.ProductIterator{Tuple{StepRange{Int64,Int64},StepRange{Int64,Int64}}}) at /scratch/pkrastev/lmod_build/julia-1.3.1/usr/share/julia/stdlib/v1.3/Distributed/src/pmap.jl:101",
      " [11] #pmap#217(::Base.Iterators.Pairs{Union{},Union{},Tuple{},NamedTuple{(),Tuple{}}}, ::typeof(pmap), ::Function, ::Base.Iterators.ProductIterator{Tuple{StepRange{Int64,Int64},StepRange{Int64,Int64}}}) at /scratch/pkrastev/lmod_build/julia-1.3.1/usr/share/julia/stdlib/v1.3/Distributed/src/pmap.jl:156",
      " [12] pmap(::Function, ::Base.Iterators.ProductIterator{Tuple{StepRange{Int64,Int64},StepRange{Int64,Int64}}}) at /scratch/pkrastev/lmod_build/julia-1.3.1/usr/share/julia/stdlib/v1.3/Distributed/src/pmap.jl:156",
      " [13] macro expansion at /n/home12/saydjari/.julia/packages/ProgressMeter/poEzd/src/ProgressMeter.jl:831 [inlined]",
      " [14] macro expansion at ./task.jl:318 [inlined]",
      " [15] macro expansion at /n/home12/saydjari/.julia/packages/ProgressMeter/poEzd/src/ProgressMeter.jl:830 [inlined]",
      " [16] macro expansion at ./task.jl:318 [inlined]",
      " [17] #progress_map#43(::Function, ::Progress, ::Int64, ::Base.Iterators.Pairs{Union{},Union{},Tuple{},NamedTuple{(),Tuple{}}}, ::typeof(progress_map), ::Function, ::Vararg{Any,N} where N) at /n/home12/saydjari/.julia/packages/ProgressMeter/poEzd/src/ProgressMeter.jl:823",
      " [18] (::ProgressMeter.var\"#kw##progress_map\")(::NamedTuple{(:progress, :mapfun),Tuple{Progress,typeof(pmap)}}, ::typeof(progress_map), ::Function, ::Vararg{Any,N} where N) at ./none:0",
      " [19] top-level scope at In[5]:55"
     ]
    },
    {
     "name": "stderr",
     "output_type": "stream",
     "text": [
      "\u001b[32mProgress:   0%|                                         |  ETA: 3:45:40\u001b[39m"
     ]
    }
   ],
   "source": [
    "@everywhere begin\n",
    "    using Statistics\n",
    "    using LinearAlgebra\n",
    "    using Distributed\n",
    "    push!(LOAD_PATH, pwd())\n",
    "    using DHC_2DUtils\n",
    "    using FFTW\n",
    "    using Images\n",
    "    using Interpolations\n",
    "    using DSP\n",
    "    using ProgressMeter\n",
    "    \n",
    "    # filter bank\n",
    "    filter_hash = fink_filter_hash(1,8,nx=256,wd=2)\n",
    "    \n",
    "    # generate an image of a rod with some position, length, position angle,\n",
    "    # and FWHM\n",
    "    function rod_half(xcen, ycen, length, pa, fwhm)\n",
    "        nx = 256\n",
    "        xbox = 1:nx\n",
    "        ybox = 1:nx\n",
    "        xbox = xbox.-nx/2 .+xcen\n",
    "        ybox = ybox.-nx/2 .+ycen\n",
    "\n",
    "        sx  = xbox' .* ones(size(ybox)[1])\n",
    "        sy  = ones(size(xbox)[1])' .* ybox\n",
    "\n",
    "        sig = fwhm/2.355\n",
    "        dtor = pi/180\n",
    "        # -------- define a unit vector in direction of rod at position angle pa\n",
    "        ux = cos(pa*dtor)   # 90 deg is up\n",
    "        uy = sin(pa*dtor)   # 0 deg to the right\n",
    "\n",
    "        # -------- distance parallel and perpendicular to \n",
    "        dpara =  ux.*sx + uy.*sy .- length\n",
    "        dperp = -uy.*sx + ux.*sy\n",
    "\n",
    "        dpara[abs.(dpara).-length .<0] .= 0\n",
    "        dpara = abs.(dpara)\n",
    "        dpara .= min.(abs.(dpara.-length),dpara)\n",
    "\n",
    "        rodimage = exp.(-(dperp.^2+dpara.^2)./(2*sig.^2))\n",
    "\n",
    "        return rodimage\n",
    "    end\n",
    "    \n",
    "    function corner_WST(inputs)\n",
    "        sig, del = inputs\n",
    "        image = max.(rod_half(0,0,20,sig+del/2,6),rod_half(0,0,20,sig-del/2,6))\n",
    "        WST = DHC_compute(image, filter_hash)\n",
    "        power = sum(image.^2)\n",
    "        return WST, [sig, del, power]\n",
    "    end\n",
    "end\n",
    "        \n",
    "rod_DHC_out = @showprogress pmap(corner_WST, Iterators.product(0:1:360,0:1:360))\n",
    "coeff = getindex.(rod_DHC_out, 1);\n",
    "labels = getindex.(rod_DHC_out, 2);\n",
    "\n",
    "coeff_out = hcat(coeff...)\n",
    "labels_out = hcat(labels...)\n",
    "\n",
    "h5write(\"corner_rod_S2.h5\", \"main/coeffs\", coeff_out)\n",
    "h5write(\"corner_rod_S2.h5\", \"main/labels\", labels_out)"
   ]
  },
  {
   "cell_type": "code",
   "execution_count": 7,
   "metadata": {
    "ExecuteTime": {
     "start_time": "2021-04-03T21:26:19.581Z"
    },
    "code_folding": [
     15,
     57
    ]
   },
   "outputs": [
    {
     "name": "stderr",
     "output_type": "stream",
     "text": [
      "\u001b[32mProgress: 100%|█████████████████████████████████████████| Time: 0:55:05\u001b[39m\n"
     ]
    }
   ],
   "source": [
    "@everywhere begin\n",
    "    using Statistics\n",
    "    using LinearAlgebra\n",
    "    using Distributed\n",
    "    push!(LOAD_PATH, pwd())\n",
    "    using DHC_2DUtils\n",
    "    using FFTW\n",
    "    using Images\n",
    "    using Interpolations\n",
    "    using DSP\n",
    "    using ProgressMeter\n",
    "    \n",
    "    # filter bank\n",
    "    filter_hash = fink_filter_hash(1,8,nx=256,wd=2)\n",
    "    \n",
    "    function circle_interp2(xcen, ycen, length, pa, fwhm, bent; pivot = 0.5)\n",
    "        nx = 256\n",
    "        xbox = 1:nx\n",
    "        ybox = 1:nx\n",
    "        xbox = xbox.-nx/2 .+xcen\n",
    "        ybox = ybox.-nx/2 .+ycen\n",
    "\n",
    "        sx  = xbox' .* ones(size(ybox)[1])\n",
    "        sy  = ones(size(xbox)[1])' .* ybox\n",
    "\n",
    "        sig = fwhm/2.355\n",
    "        dtor = pi/180\n",
    "        ux = -sin(pa*dtor)   # 90 deg is up\n",
    "        uy = cos(pa*dtor)   # 0 deg to the right\n",
    "\n",
    "        start = [xcen-length,ycen]\n",
    "        stop = [xcen+length,ycen]\n",
    "\n",
    "        rotMat = [ux -uy; uy ux]\n",
    "\n",
    "        pos_val = zeros(101,2)\n",
    "        for (x_ind, x) in enumerate(0:0.01:1)\n",
    "            pos_val[x_ind,:] .= rotMat*(getPosOnBentLine(start,stop,x,bent,pivot).-128).+128\n",
    "        end\n",
    "\n",
    "        mind = ones(nx,nx).*nx^3\n",
    "        temp = zeros(nx,nx)\n",
    "\n",
    "        for indx = 1:size(pos_val)[1]\n",
    "            temp .= (sx.-pos_val[indx,1]).^2 .+ (sy.-pos_val[indx,2]).^2\n",
    "            mind .= min.(mind,temp)\n",
    "        end\n",
    "\n",
    "        rodimage = exp.(-(mind)./(2*sig.^2))\n",
    "\n",
    "        return rodimage\n",
    "    end\n",
    "    \n",
    "    function perp(val)\n",
    "        return (-val[2], val[1])\n",
    "    end\n",
    "\n",
    "    function getPosOnBentLine(lineStart, lineEnd, t, bendFactor, pivot)\n",
    "        lineDir = lineEnd - lineStart\n",
    "        lineLength = sqrt(sum(lineDir.^2))\n",
    "        circleRad = lineLength / (bendFactor * 2 * pi);\n",
    "        circleCenter = lineStart .+  (lineEnd .- lineStart)  .* pivot\n",
    "\n",
    "        angle = pi + bendFactor * (t-pivot) * 2 * pi;\n",
    "        posOnCircle = circleCenter .+ [cos(angle), sin(angle)] .* circleRad .+ [circleRad,0];\n",
    "\n",
    "        return posOnCircle\n",
    "    end\n",
    "    \n",
    "    function corner_WST(inputs)\n",
    "        sig, del = inputs\n",
    "        image = circle_interp2(128,128,20,sig,6,del+1e-5)\n",
    "        WST = DHC_compute(image, filter_hash)\n",
    "        power = sum(image.^2)\n",
    "        return WST, [sig, del, power]\n",
    "    end\n",
    "end\n",
    "        \n",
    "rod_DHC_out = @showprogress pmap(corner_WST, Iterators.product(0:1:360,range(0,stop=1,length=361)))\n",
    "coeff = getindex.(rod_DHC_out, 1);\n",
    "labels = getindex.(rod_DHC_out, 2);\n",
    "\n",
    "coeff_out = hcat(coeff...)\n",
    "labels_out = hcat(labels...)\n",
    "\n",
    "h5write(\"curve_rod_S2.h5\", \"main/coeffs\", coeff_out)\n",
    "h5write(\"curve_rod_S2.h5\", \"main/labels\", labels_out)"
   ]
  },
  {
   "cell_type": "code",
   "execution_count": 6,
   "metadata": {
    "ExecuteTime": {
     "start_time": "2021-04-03T21:26:22.068Z"
    },
    "code_folding": []
   },
   "outputs": [
    {
     "name": "stderr",
     "output_type": "stream",
     "text": [
      "\u001b[32mProgress: 100%|█████████████████████████████████████████| Time: 0:49:08\u001b[39m\n"
     ]
    }
   ],
   "source": [
    "@everywhere begin\n",
    "    using Statistics\n",
    "    using LinearAlgebra\n",
    "    using Distributed\n",
    "    push!(LOAD_PATH, pwd())\n",
    "    using DHC_2DUtils\n",
    "    using FFTW\n",
    "    using Images\n",
    "    using Interpolations\n",
    "    using DSP\n",
    "    using ProgressMeter\n",
    "    \n",
    "    # filter bank\n",
    "    filter_hash = fink_filter_hash(1,8,nx=256,wd=2)\n",
    "    \n",
    "    function circle_a(xcen, ycen, length, pa, fwhm)\n",
    "        nx = 256\n",
    "        xbox = 1:nx\n",
    "        ybox = 1:nx\n",
    "        xbox = xbox.-nx/2 .+xcen\n",
    "        ybox = ybox.-nx/2 .+ycen\n",
    "\n",
    "        sx  = xbox' .* ones(size(ybox)[1])\n",
    "        sy  = ones(size(xbox)[1])' .* ybox\n",
    "\n",
    "        sig = fwhm/2.355\n",
    "\n",
    "        r = sqrt.(sx.^2 + sy.^2)\n",
    "\n",
    "        r[r.-length.<0] .= 0\n",
    "        r .= min.(abs.(r.-length),r)\n",
    "\n",
    "        rodimage = exp.(-(r.^2)./(2*sig.^2))\n",
    "\n",
    "        return rodimage\n",
    "    end\n",
    "    \n",
    "    function corner_WST(inputs)\n",
    "        i, j = inputs\n",
    "        image = circle_a(0,0,i,0,j)\n",
    "        WST = DHC_compute(image, filter_hash)\n",
    "        power = sum(image.^2)\n",
    "        return WST, [i, j, power]\n",
    "    end\n",
    "end\n",
    "        \n",
    "rod_DHC_out = @showprogress pmap(corner_WST, Iterators.product(2 .^(range(-1,stop=6,length=361)),2 .^(range(-1,stop=6,length=361))))\n",
    "coeff = getindex.(rod_DHC_out, 1);\n",
    "labels = getindex.(rod_DHC_out, 2);\n",
    "\n",
    "coeff_out = hcat(coeff...)\n",
    "labels_out = hcat(labels...)\n",
    "\n",
    "h5write(\"disc_data_log_S2.h5\", \"main/coeffs\", coeff_out)\n",
    "h5write(\"disc_data_log_S2.h5\", \"main/labels\", labels_out)"
   ]
  },
  {
   "cell_type": "code",
   "execution_count": null,
   "metadata": {},
   "outputs": [],
   "source": []
  }
 ],
 "metadata": {
  "kernelspec": {
   "display_name": "Julia 1.3.1",
   "language": "julia",
   "name": "julia-1.3"
  },
  "language_info": {
   "file_extension": ".jl",
   "mimetype": "application/julia",
   "name": "julia",
   "version": "1.3.1"
  }
 },
 "nbformat": 4,
 "nbformat_minor": 5
}
