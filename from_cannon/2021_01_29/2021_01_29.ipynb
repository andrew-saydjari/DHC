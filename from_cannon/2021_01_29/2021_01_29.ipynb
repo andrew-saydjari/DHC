{
 "cells": [
  {
   "cell_type": "code",
   "execution_count": 1,
   "metadata": {},
   "outputs": [
    {
     "name": "stderr",
     "output_type": "stream",
     "text": [
      "WARNING: importing deprecated binding HDF5.HDF5Group into _hdf5_implementation.\n",
      "WARNING: importing deprecated binding HDF5.HDF5Dataset into _hdf5_implementation.\n",
      "WARNING: HDF5.HDF5Group is deprecated, use HDF5.Group instead.\n",
      "  likely near /n/home12/saydjari/.julia/packages/Plots/uCh2y/src/backends/hdf5.jl:162\n",
      "WARNING: HDF5.HDF5Dataset is deprecated, use HDF5.Dataset instead.\n",
      "  likely near /n/home12/saydjari/.julia/packages/Plots/uCh2y/src/backends/hdf5.jl:162\n",
      "WARNING: HDF5.HDF5Group is deprecated, use HDF5.Group instead.\n",
      "  likely near /n/home12/saydjari/.julia/packages/Plots/uCh2y/src/backends/hdf5.jl:166\n",
      "WARNING: HDF5.HDF5Dataset is deprecated, use HDF5.Dataset instead.\n",
      "  likely near /n/home12/saydjari/.julia/packages/Plots/uCh2y/src/backends/hdf5.jl:166\n",
      "WARNING: HDF5.HDF5Dataset is deprecated, use HDF5.Dataset instead.\n",
      "  likely near /n/home12/saydjari/.julia/packages/Plots/uCh2y/src/backends/hdf5.jl:176\n",
      "WARNING: HDF5.HDF5Dataset is deprecated, use HDF5.Dataset instead.\n",
      "  likely near /n/home12/saydjari/.julia/packages/Plots/uCh2y/src/backends/hdf5.jl:179\n",
      "WARNING: HDF5.HDF5Group is deprecated, use HDF5.Group instead.\n",
      "  likely near /n/home12/saydjari/.julia/packages/Plots/uCh2y/src/backends/hdf5.jl:181\n",
      "WARNING: HDF5.HDF5Group is deprecated, use HDF5.Group instead.\n",
      "  likely near /n/home12/saydjari/.julia/packages/Plots/uCh2y/src/backends/hdf5.jl:184\n",
      "WARNING: HDF5.HDF5Group is deprecated, use HDF5.Group instead.\n",
      "  likely near /n/home12/saydjari/.julia/packages/Plots/uCh2y/src/backends/hdf5.jl:186\n",
      "WARNING: HDF5.HDF5Group is deprecated, use HDF5.Group instead.\n",
      "  likely near /n/home12/saydjari/.julia/packages/Plots/uCh2y/src/backends/hdf5.jl:189\n",
      "WARNING: HDF5.HDF5Group is deprecated, use HDF5.Group instead.\n",
      "  likely near /n/home12/saydjari/.julia/packages/Plots/uCh2y/src/backends/hdf5.jl:203\n",
      "WARNING: HDF5.HDF5Group is deprecated, use HDF5.Group instead.\n",
      "  likely near /n/home12/saydjari/.julia/packages/Plots/uCh2y/src/backends/hdf5.jl:207\n",
      "WARNING: HDF5.HDF5Group is deprecated, use HDF5.Group instead.\n",
      "  likely near /n/home12/saydjari/.julia/packages/Plots/uCh2y/src/backends/hdf5.jl:211\n",
      "WARNING: HDF5.HDF5Group is deprecated, use HDF5.Group instead.\n",
      "  likely near /n/home12/saydjari/.julia/packages/Plots/uCh2y/src/backends/hdf5.jl:215\n",
      "WARNING: HDF5.HDF5Group is deprecated, use HDF5.Group instead.\n",
      "  likely near /n/home12/saydjari/.julia/packages/Plots/uCh2y/src/backends/hdf5.jl:220\n",
      "WARNING: HDF5.HDF5Group is deprecated, use HDF5.Group instead.\n",
      "  likely near /n/home12/saydjari/.julia/packages/Plots/uCh2y/src/backends/hdf5.jl:224\n",
      "WARNING: HDF5.HDF5Group is deprecated, use HDF5.Group instead.\n",
      "  likely near /n/home12/saydjari/.julia/packages/Plots/uCh2y/src/backends/hdf5.jl:229\n",
      "WARNING: HDF5.HDF5Group is deprecated, use HDF5.Group instead.\n",
      "  likely near /n/home12/saydjari/.julia/packages/Plots/uCh2y/src/backends/hdf5.jl:233\n",
      "WARNING: HDF5.HDF5Group is deprecated, use HDF5.Group instead.\n",
      "  likely near /n/home12/saydjari/.julia/packages/Plots/uCh2y/src/backends/hdf5.jl:237\n",
      "WARNING: HDF5.HDF5Group is deprecated, use HDF5.Group instead.\n",
      "  likely near /n/home12/saydjari/.julia/packages/Plots/uCh2y/src/backends/hdf5.jl:247\n",
      "WARNING: HDF5.HDF5Group is deprecated, use HDF5.Group instead.\n",
      "  likely near /n/home12/saydjari/.julia/packages/Plots/uCh2y/src/backends/hdf5.jl:263\n",
      "WARNING: HDF5.HDF5Group is deprecated, use HDF5.Group instead.\n",
      "  likely near /n/home12/saydjari/.julia/packages/Plots/uCh2y/src/backends/hdf5.jl:273\n",
      "WARNING: HDF5.HDF5Group is deprecated, use HDF5.Group instead.\n",
      "  likely near /n/home12/saydjari/.julia/packages/Plots/uCh2y/src/backends/hdf5.jl:286\n",
      "WARNING: HDF5.HDF5Group is deprecated, use HDF5.Group instead.\n",
      "  likely near /n/home12/saydjari/.julia/packages/Plots/uCh2y/src/backends/hdf5.jl:302\n",
      "WARNING: HDF5.HDF5Group is deprecated, use HDF5.Group instead.\n",
      "  likely near /n/home12/saydjari/.julia/packages/Plots/uCh2y/src/backends/hdf5.jl:307\n",
      "WARNING: HDF5.HDF5Group is deprecated, use HDF5.Group instead.\n",
      "  likely near /n/home12/saydjari/.julia/packages/Plots/uCh2y/src/backends/hdf5.jl:311\n",
      "WARNING: HDF5.HDF5Group is deprecated, use HDF5.Group instead.\n",
      "  likely near /n/home12/saydjari/.julia/packages/Plots/uCh2y/src/backends/hdf5.jl:315\n",
      "WARNING: HDF5.HDF5Group is deprecated, use HDF5.Group instead.\n",
      "  likely near /n/home12/saydjari/.julia/packages/Plots/uCh2y/src/backends/hdf5.jl:317\n",
      "WARNING: HDF5.HDF5Group is deprecated, use HDF5.Group instead.\n",
      "  likely near /n/home12/saydjari/.julia/packages/Plots/uCh2y/src/backends/hdf5.jl:326\n",
      "WARNING: HDF5.HDF5Group is deprecated, use HDF5.Group instead.\n",
      "  likely near /n/home12/saydjari/.julia/packages/Plots/uCh2y/src/backends/hdf5.jl:331\n",
      "WARNING: HDF5.HDF5Group is deprecated, use HDF5.Group instead.\n",
      "  likely near /n/home12/saydjari/.julia/packages/Plots/uCh2y/src/backends/hdf5.jl:338\n",
      "WARNING: HDF5.HDF5Group is deprecated, use HDF5.Group instead.\n",
      "  likely near /n/home12/saydjari/.julia/packages/Plots/uCh2y/src/backends/hdf5.jl:346\n",
      "WARNING: HDF5.HDF5Group is deprecated, use HDF5.Group instead.\n",
      "  likely near /n/home12/saydjari/.julia/packages/Plots/uCh2y/src/backends/hdf5.jl:355\n",
      "WARNING: HDF5.HDF5Group is deprecated, use HDF5.Group instead.\n",
      "  likely near /n/home12/saydjari/.julia/packages/Plots/uCh2y/src/backends/hdf5.jl:368\n",
      "WARNING: HDF5.HDF5Dataset is deprecated, use HDF5.Dataset instead.\n",
      "  likely near /n/home12/saydjari/.julia/packages/Plots/uCh2y/src/backends/hdf5.jl:394\n",
      "WARNING: HDF5.HDF5Dataset is deprecated, use HDF5.Dataset instead.\n",
      "  likely near /n/home12/saydjari/.julia/packages/Plots/uCh2y/src/backends/hdf5.jl:396\n",
      "WARNING: HDF5.HDF5Dataset is deprecated, use HDF5.Dataset instead.\n",
      "  likely near /n/home12/saydjari/.julia/packages/Plots/uCh2y/src/backends/hdf5.jl:405\n",
      "WARNING: HDF5.HDF5Dataset is deprecated, use HDF5.Dataset instead.\n",
      "  likely near /n/home12/saydjari/.julia/packages/Plots/uCh2y/src/backends/hdf5.jl:406\n",
      "WARNING: HDF5.HDF5Dataset is deprecated, use HDF5.Dataset instead.\n",
      "  likely near /n/home12/saydjari/.julia/packages/Plots/uCh2y/src/backends/hdf5.jl:407\n",
      "WARNING: HDF5.HDF5Dataset is deprecated, use HDF5.Dataset instead.\n",
      "  likely near /n/home12/saydjari/.julia/packages/Plots/uCh2y/src/backends/hdf5.jl:408\n",
      "WARNING: HDF5.HDF5Dataset is deprecated, use HDF5.Dataset instead.\n",
      "  likely near /n/home12/saydjari/.julia/packages/Plots/uCh2y/src/backends/hdf5.jl:412\n",
      "WARNING: HDF5.HDF5Dataset is deprecated, use HDF5.Dataset instead.\n",
      "  likely near /n/home12/saydjari/.julia/packages/Plots/uCh2y/src/backends/hdf5.jl:418\n",
      "WARNING: HDF5.HDF5Group is deprecated, use HDF5.Group instead.\n",
      "  likely near /n/home12/saydjari/.julia/packages/Plots/uCh2y/src/backends/hdf5.jl:425\n",
      "WARNING: HDF5.HDF5Group is deprecated, use HDF5.Group instead.\n",
      "  likely near /n/home12/saydjari/.julia/packages/Plots/uCh2y/src/backends/hdf5.jl:432\n",
      "WARNING: HDF5.HDF5Group is deprecated, use HDF5.Group instead.\n",
      "  likely near /n/home12/saydjari/.julia/packages/Plots/uCh2y/src/backends/hdf5.jl:441\n",
      "WARNING: HDF5.HDF5Group is deprecated, use HDF5.Group instead.\n",
      "  likely near /n/home12/saydjari/.julia/packages/Plots/uCh2y/src/backends/hdf5.jl:462\n",
      "WARNING: HDF5.HDF5Group is deprecated, use HDF5.Group instead.\n",
      "  likely near /n/home12/saydjari/.julia/packages/Plots/uCh2y/src/backends/hdf5.jl:464\n",
      "WARNING: HDF5.HDF5Group is deprecated, use HDF5.Group instead.\n",
      "  likely near /n/home12/saydjari/.julia/packages/Plots/uCh2y/src/backends/hdf5.jl:482\n",
      "WARNING: HDF5.HDF5Group is deprecated, use HDF5.Group instead.\n",
      "  likely near /n/home12/saydjari/.julia/packages/Plots/uCh2y/src/backends/hdf5.jl:484\n",
      "WARNING: HDF5.HDF5Group is deprecated, use HDF5.Group instead.\n",
      "  likely near /n/home12/saydjari/.julia/packages/Plots/uCh2y/src/backends/hdf5.jl:497\n",
      "WARNING: HDF5.HDF5Group is deprecated, use HDF5.Group instead.\n",
      "  likely near /n/home12/saydjari/.julia/packages/Plots/uCh2y/src/backends/hdf5.jl:503\n",
      "WARNING: HDF5.HDF5Group is deprecated, use HDF5.Group instead.\n",
      "  likely near /n/home12/saydjari/.julia/packages/Plots/uCh2y/src/backends/hdf5.jl:507\n",
      "WARNING: HDF5.HDF5Group is deprecated, use HDF5.Group instead.\n",
      "  likely near /n/home12/saydjari/.julia/packages/Plots/uCh2y/src/backends/hdf5.jl:517\n",
      "WARNING: HDF5.HDF5Group is deprecated, use HDF5.Group instead.\n",
      "  likely near /n/home12/saydjari/.julia/packages/Plots/uCh2y/src/backends/hdf5.jl:536\n",
      "┌ Info: Precompiling DHC_2DUtils [top-level]\n",
      "└ @ Base loading.jl:1273\n"
     ]
    }
   ],
   "source": [
    "## Preloads\n",
    "using Statistics\n",
    "using FFTW\n",
    "using Plots\n",
    "using BenchmarkTools\n",
    "using Profile\n",
    "using LinearAlgebra\n",
    "using Measures\n",
    "using HDF5\n",
    "push!(LOAD_PATH, pwd())\n",
    "using DHC_2DUtils\n",
    "using MLDatasets\n",
    "using Images\n",
    "theme(:juno)\n",
    "using DSP\n",
    "using Interpolations\n",
    "using Distributed\n",
    "using ProgressMeter"
   ]
  },
  {
   "cell_type": "code",
   "execution_count": 2,
   "metadata": {},
   "outputs": [
    {
     "data": {
      "text/plain": [
       "1-element Array{Int64,1}:\n",
       " 1"
      ]
     },
     "execution_count": 2,
     "metadata": {},
     "output_type": "execute_result"
    }
   ],
   "source": [
    "workers()"
   ]
  },
  {
   "cell_type": "code",
   "execution_count": 3,
   "metadata": {},
   "outputs": [
    {
     "data": {
      "text/plain": [
       "30-element Array{Int64,1}:\n",
       "  2\n",
       "  3\n",
       "  4\n",
       "  5\n",
       "  6\n",
       "  7\n",
       "  8\n",
       "  9\n",
       " 10\n",
       " 11\n",
       " 12\n",
       " 13\n",
       " 14\n",
       "  ⋮\n",
       " 20\n",
       " 21\n",
       " 22\n",
       " 23\n",
       " 24\n",
       " 25\n",
       " 26\n",
       " 27\n",
       " 28\n",
       " 29\n",
       " 30\n",
       " 31"
      ]
     },
     "execution_count": 3,
     "metadata": {},
     "output_type": "execute_result"
    }
   ],
   "source": [
    "addprocs(30)"
   ]
  },
  {
   "cell_type": "code",
   "execution_count": 4,
   "metadata": {},
   "outputs": [],
   "source": [
    "M = 100\n",
    "angle_array = []\n",
    "for i = 2π/M:2π/M:2π\n",
    "    append!(angle_array,i)\n",
    "end"
   ]
  },
  {
   "cell_type": "code",
   "execution_count": 5,
   "metadata": {},
   "outputs": [],
   "source": [
    "train_x, train_y = MNIST.traindata()\n",
    "test_x, test_y   = MNIST.testdata()\n",
    "\n",
    "lst_train = Array{Any}(undef, 0)\n",
    "for i = 1:60000\n",
    "    push!(lst_train,train_x[:,:,i])\n",
    "end\n",
    "\n",
    "\n",
    "lst_test = Array{Any}(undef, 0)\n",
    "for i = 1:10000\n",
    "    push!(lst_test,test_x[:,:,i])\n",
    "end"
   ]
  },
  {
   "cell_type": "code",
   "execution_count": 6,
   "metadata": {},
   "outputs": [],
   "source": [
    "M = 100\n",
    "train_angles = [2π/M,π/3,2π/3,3π/3,4π/3,5π/3];"
   ]
  },
  {
   "cell_type": "code",
   "execution_count": null,
   "metadata": {},
   "outputs": [
    {
     "name": "stderr",
     "output_type": "stream",
     "text": [
      "\u001b[32mProgress:  21%|████████▋                                |  ETA: 14:44:19\u001b[39m"
     ]
    }
   ],
   "source": [
    "@everywhere begin\n",
    "    using Statistics\n",
    "    using BenchmarkTools\n",
    "    using LinearAlgebra\n",
    "    using Distributed\n",
    "    using ProgressMeter\n",
    "    push!(LOAD_PATH, pwd())\n",
    "    using DHC_2DUtils\n",
    "    using FFTW\n",
    "    using MLDatasets\n",
    "    using Images\n",
    "    using Interpolations\n",
    "    \n",
    "    # filter bank\n",
    "    filter_hash = fink_filter_hash(2,16,nx=128,wd=2)\n",
    "    \n",
    "    function mnist_pad(im; θ=0.0)\n",
    "        impad = zeros(Float64,64,64)\n",
    "        impad[46:-1:19,19:46] = im'\n",
    "        imbig = imresize(impad,(128,128))\n",
    "        if θ != 0.0\n",
    "            imrot = imrotate(imbig, θ, axes(imbig), Cubic(Throw(OnGrid())))\n",
    "            imrot[findall(imrot .!= imrot)] .= 0.0\n",
    "            return imrot\n",
    "        end\n",
    "        return imbig\n",
    "    end\n",
    "    \n",
    "    function mnist_DHC(params)\n",
    "        θ, x = params\n",
    "        image    = mnist_pad(x[:,:], θ=θ)\n",
    "        WST = DHC_compute(image, filter_hash, filter_hash)\n",
    "        return WST\n",
    "    end\n",
    "    \n",
    "end\n",
    " \n",
    "mnist_DHC_out = @showprogress pmap(mnist_DHC, Iterators.product(angle_array,lst_test))\n",
    "mnist_DHC_out = hcat(mnist_DHC_out...)\n",
    "\n",
    "h5write(\"mnist_DHC_test_ang_1_1_wd2_c2.h5\", \"main/data\", mnist_DHC_out)"
   ]
  },
  {
   "cell_type": "code",
   "execution_count": 13,
   "metadata": {},
   "outputs": [
    {
     "name": "stderr",
     "output_type": "stream",
     "text": [
      "\u001b[32mProgress: 100%|█████████████████████████████████████████| Time: 1:09:12\u001b[39m\n"
     ]
    }
   ],
   "source": [
    "@everywhere begin\n",
    "    using Statistics\n",
    "    using BenchmarkTools\n",
    "    using LinearAlgebra\n",
    "    using Distributed\n",
    "    using ProgressMeter\n",
    "    push!(LOAD_PATH, pwd())\n",
    "    using DHC_2DUtils\n",
    "    using FFTW\n",
    "    using MLDatasets\n",
    "    using Images\n",
    "    using Interpolations\n",
    "    \n",
    "    # filter bank\n",
    "    filter_hash = fink_filter_hash(2,8,nx=128,wd=2)\n",
    "    \n",
    "    function mnist_pad(im; θ=0.0)\n",
    "        impad = zeros(Float64,64,64)\n",
    "        impad[46:-1:19,19:46] = im'\n",
    "        imbig = imresize(impad,(128,128))\n",
    "        if θ != 0.0\n",
    "            imrot = imrotate(imbig, θ, axes(imbig), Cubic(Throw(OnGrid())))\n",
    "            imrot[findall(imrot .!= imrot)] .= 0.0\n",
    "            return imrot\n",
    "        end\n",
    "        return imbig\n",
    "    end\n",
    "    \n",
    "    function mnist_DHC(params)\n",
    "        θ, x = params\n",
    "        image    = mnist_pad(x[:,:], θ=θ)\n",
    "        WST = DHC_compute(image, filter_hash, filter_hash)\n",
    "        return WST\n",
    "    end\n",
    "    \n",
    "end\n",
    " \n",
    "mnist_DHC_out = @showprogress pmap(mnist_DHC, Iterators.product(train_angles,lst_train))\n",
    "mnist_DHC_out = hcat(mnist_DHC_out...)\n",
    "\n",
    "h5write(\"mnist_DHC_train_ang_1_1_wd2_c2.h5\", \"main/data\", mnist_DHC_out)"
   ]
  }
 ],
 "metadata": {
  "kernelspec": {
   "display_name": "Julia 1.3.1",
   "language": "julia",
   "name": "julia-1.3"
  },
  "language_info": {
   "file_extension": ".jl",
   "mimetype": "application/julia",
   "name": "julia",
   "version": "1.3.1"
  }
 },
 "nbformat": 4,
 "nbformat_minor": 2
}
