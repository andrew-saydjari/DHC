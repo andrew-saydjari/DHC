{
 "cells": [
  {
   "cell_type": "code",
   "execution_count": 1,
   "metadata": {},
   "outputs": [],
   "source": [
    "push!(LOAD_PATH, \"/n/holystore01/LABS/finkbeiner_lab/Lab/saydjari/Working/2021_03_09/\")\n",
    "import DHC_2DUtils\n",
    "using SparseArrays\n",
    "using HDF5"
   ]
  },
  {
   "cell_type": "code",
   "execution_count": 2,
   "metadata": {
    "code_folding": [
     0,
     38
    ]
   },
   "outputs": [
    {
     "data": {
      "text/plain": [
       "transformMaker (generic function with 1 method)"
      ]
     },
     "execution_count": 2,
     "metadata": {},
     "output_type": "execute_result"
    }
   ],
   "source": [
    "function S1_equiv_matrix(fhash,l_shift)\n",
    "        # fhash is the filter hash output by fink_filter_hash\n",
    "        # The output matrix converts an S1 coeff vector to S1iso by\n",
    "        #   summing over l\n",
    "        # Matrix is stored in sparse CSC format using SparseArrays.\n",
    "        # DPF 2021-Feb-18\n",
    "\n",
    "        # Does hash contain Omega filter?\n",
    "        Omega   = haskey(fhash, \"Omega_index\")\n",
    "        if Omega Ω_ind = fhash[\"Omega_index\"] end\n",
    "\n",
    "        # unpack fhash\n",
    "        Nl      = length(fhash[\"theta_value\"])\n",
    "        Nj      = length(fhash[\"j_value\"])\n",
    "        Nf      = length(fhash[\"filt_value\"])\n",
    "        ψ_ind   = fhash[\"psi_index\"]\n",
    "        ϕ_ind   = fhash[\"phi_index\"]\n",
    "\n",
    "        # number of iso coefficients\n",
    "        Niso    = Omega ? Nj+2 : Nj+1\n",
    "        Mat     = zeros(Int32, Nf, Nf)\n",
    "\n",
    "        # first J elements of iso\n",
    "        for j = 1:Nj\n",
    "            for l = 1:Nl\n",
    "                λ = ψ_ind[j,l]\n",
    "                λ1 = ψ_ind[j,mod1(l+l_shift,Nl)]\n",
    "                Mat[λ1, λ] = 1\n",
    "            end\n",
    "        end\n",
    "\n",
    "        # Next elements are ϕ, Ω\n",
    "        Mat[ϕ_ind, ϕ_ind] = 1\n",
    "        if Omega Mat[Ω_ind, Ω_ind] = 1 end\n",
    "\n",
    "        return sparse(Mat)\n",
    "    end\n",
    "\n",
    "function S2_equiv_matrix(fhash,l_shift)\n",
    "    # fhash is the filter hash output by fink_filter_hash\n",
    "    # The output matrix converts an S2 coeff vector to S2iso by\n",
    "    #   summing over l1,l2 and fixed Δl.\n",
    "    # Matrix is stored in sparse CSC format using SparseArrays.\n",
    "    # DPF 2021-Feb-18\n",
    "\n",
    "    # Does hash contain Omega filter?\n",
    "    Omega   = haskey(fhash, \"Omega_index\")\n",
    "    if Omega Ω_ind = fhash[\"Omega_index\"] end\n",
    "\n",
    "    # unpack fhash\n",
    "    Nl      = length(fhash[\"theta_value\"])\n",
    "    Nj      = length(fhash[\"j_value\"])\n",
    "    Nf      = length(fhash[\"filt_value\"])\n",
    "    ψ_ind   = fhash[\"psi_index\"]\n",
    "    ϕ_ind   = fhash[\"phi_index\"]\n",
    "\n",
    "    # number of iso coefficients\n",
    "    Niso    = Omega ? Nj*Nj*Nl+4*Nj+4 : Nj*Nj*Nl+2*Nj+1\n",
    "    Mat     = zeros(Int32, Nf*Nf, Nf*Nf)\n",
    "\n",
    "    # first J*J*L elements of iso\n",
    "    for j1 = 1:Nj\n",
    "        for j2 = 1:Nj\n",
    "            for l1 = 1:Nl\n",
    "                for l2 = 1:Nl\n",
    "                    λ1     = ψ_ind[j1,l1]\n",
    "                    λ2     = ψ_ind[j2,l2]\n",
    "                    λ1_new     = ψ_ind[j1,mod1(l1+l_shift,Nl)]\n",
    "                    λ2_new     = ψ_ind[j2,mod1(l2+l_shift,Nl)]\n",
    "\n",
    "                    Icoeff = λ1+Nf*(λ2-1)\n",
    "                    Icoeff_new = λ1_new+Nf*(λ2_new-1)\n",
    "                    Mat[Icoeff_new, Icoeff] = 1\n",
    "                end\n",
    "            end\n",
    "        end\n",
    "    end\n",
    "\n",
    "    # Next J elements are λϕ, then J elements ϕλ\n",
    "    for j = 1:Nj\n",
    "        for l = 1:Nl\n",
    "            λ      = ψ_ind[j,l]\n",
    "            Icoeff = λ+Nf*(ϕ_ind-1)  # λϕ\n",
    "\n",
    "            λ_new      = ψ_ind[j,mod1(l+l_shift,Nl)]\n",
    "            Icoeff_new = λ_new+Nf*(ϕ_ind-1)  # λϕ\n",
    "\n",
    "            Mat[Icoeff_new, Icoeff] = 1\n",
    "\n",
    "            Icoeff = ϕ_ind+Nf*(λ-1)  # ϕλ\n",
    "            Icoeff_new = ϕ_ind+Nf*(λ_new-1)  # ϕλ\n",
    "            Mat[Icoeff_new, Icoeff] = 1\n",
    "        end\n",
    "    end\n",
    "\n",
    "    # Next 1 element is ϕϕ\n",
    "    Icoeff = ϕ_ind+Nf*(ϕ_ind-1)\n",
    "    Mat[Icoeff, Icoeff] = 1\n",
    "\n",
    "    # If the Omega filter exists, add more terms\n",
    "    if Omega\n",
    "        # Next J elements are λΩ, then J elements Ωλ\n",
    "        for j = 1:Nj\n",
    "            for l = 1:Nl\n",
    "                λ      = ψ_ind[j,l]\n",
    "                λ_new      = ψ_ind[j,mod1(l+l_shift,Nl)]\n",
    "                Icoeff = λ+Nf*(Ω_ind-1)  # λΩ\n",
    "                Icoeff_new = λ_new+Nf*(Ω_ind-1)  # λΩ\n",
    "                Mat[Icoeff_new, Icoeff] = 1\n",
    "\n",
    "                Iiso   = I0+Nj+j\n",
    "                Icoeff = Ω_ind+Nf*(λ-1)  # Ωλ\n",
    "                Icoeff_new = Ω_ind+Nf*(λ_new-1)  # Ωλ\n",
    "                Mat[Icoeff_new, Icoeff] = 1\n",
    "            end\n",
    "        end\n",
    "        # Next 3 elements are ϕΩ, Ωϕ, ΩΩ\n",
    "        Mat[ϕ_ind+Nf*(Ω_ind-1), ϕ_ind+Nf*(Ω_ind-1)] = 1\n",
    "        Mat[Ω_ind+Nf*(ϕ_ind-1), Ω_ind+Nf*(ϕ_ind-1)] = 1\n",
    "        Mat[Ω_ind+Nf*(Ω_ind-1), Ω_ind+Nf*(Ω_ind-1)] = 1\n",
    "    end\n",
    "\n",
    "    return sparse(Mat)\n",
    "end\n",
    "\n",
    "function transformMaker(coeff, S1Mat, S2Mat)\n",
    "    NS1 = size(S1Mat)[2]\n",
    "    NS2 = size(S2Mat)[2]\n",
    "    S1iso = transpose(S1Mat*transpose(coeff[:,2+1:2+NS1]))\n",
    "    S2iso = transpose(S2Mat*transpose(coeff[:,2+NS1+1:2+NS1+NS2]))\n",
    "    return hcat(coeff[:,1:2],S1iso,S2iso)\n",
    "end"
   ]
  },
  {
   "cell_type": "code",
   "execution_count": 3,
   "metadata": {},
   "outputs": [],
   "source": [
    "L=7\n",
    "mnist_DHC_out_test = h5read(\"mnist_DHC_test_eq_L7_s.h5\",\"main/data\")\n",
    "filter_hash = DHC_2DUtils.fink_filter_hash(1, L, nx=128, pc=1, wd=2)\n",
    "sizeTarget = size(transpose(mnist_DHC_out_test))\n",
    "shifted_coeff = zeros(L,sizeTarget[1],sizeTarget[2])\n",
    "for i=1:L\n",
    "    S1mat = S1_equiv_matrix(filter_hash,i)\n",
    "    S2mat = S2_equiv_matrix(filter_hash,i)\n",
    "    shifted_coeff[i,:,:] = transformMaker(transpose(mnist_DHC_out_test),S1mat,S2mat)\n",
    "end"
   ]
  },
  {
   "cell_type": "code",
   "execution_count": 4,
   "metadata": {},
   "outputs": [],
   "source": [
    "h5write(\"mnist_DHC_test_eq_L7_s1.h5\", \"main/data\", shifted_coeff)"
   ]
  },
  {
   "cell_type": "code",
   "execution_count": 5,
   "metadata": {},
   "outputs": [],
   "source": [
    "L=8\n",
    "mnist_DHC_out_test = h5read(\"mnist_DHC_test_eq_L8_s.h5\",\"main/data\")\n",
    "filter_hash = DHC_2DUtils.fink_filter_hash(1, L, nx=128, pc=1, wd=2)\n",
    "sizeTarget = size(transpose(mnist_DHC_out_test))\n",
    "shifted_coeff = zeros(L,sizeTarget[1],sizeTarget[2])\n",
    "for i=1:L\n",
    "    S1mat = S1_equiv_matrix(filter_hash,i)\n",
    "    S2mat = S2_equiv_matrix(filter_hash,i)\n",
    "    shifted_coeff[i,:,:] = transformMaker(transpose(mnist_DHC_out_test),S1mat,S2mat)\n",
    "end"
   ]
  },
  {
   "cell_type": "code",
   "execution_count": 6,
   "metadata": {},
   "outputs": [],
   "source": [
    "h5write(\"mnist_DHC_test_eq_L8_s1.h5\", \"main/data\", shifted_coeff)"
   ]
  },
  {
   "cell_type": "code",
   "execution_count": 7,
   "metadata": {},
   "outputs": [],
   "source": [
    "L=9\n",
    "mnist_DHC_out_test = h5read(\"mnist_DHC_test_eq_L9_s.h5\",\"main/data\")\n",
    "filter_hash = DHC_2DUtils.fink_filter_hash(1, L, nx=128, pc=1, wd=2)\n",
    "sizeTarget = size(transpose(mnist_DHC_out_test))\n",
    "shifted_coeff = zeros(L,sizeTarget[1],sizeTarget[2])\n",
    "for i=1:L\n",
    "    S1mat = S1_equiv_matrix(filter_hash,i)\n",
    "    S2mat = S2_equiv_matrix(filter_hash,i)\n",
    "    shifted_coeff[i,:,:] = transformMaker(transpose(mnist_DHC_out_test),S1mat,S2mat)\n",
    "end"
   ]
  },
  {
   "cell_type": "code",
   "execution_count": 8,
   "metadata": {},
   "outputs": [],
   "source": [
    "h5write(\"mnist_DHC_test_eq_L9_s1.h5\", \"main/data\", shifted_coeff)"
   ]
  },
  {
   "cell_type": "code",
   "execution_count": 9,
   "metadata": {},
   "outputs": [
    {
     "ename": "OutOfMemoryError",
     "evalue": "OutOfMemoryError()",
     "output_type": "error",
     "traceback": [
      "OutOfMemoryError()",
      "",
      "Stacktrace:",
      " [1] Array at ./boot.jl:408 [inlined]",
      " [2] Array at ./boot.jl:415 [inlined]",
      " [3] zeros at ./array.jl:461 [inlined]",
      " [4] zeros at ./array.jl:458 [inlined]",
      " [5] zeros(::Int64, ::Int64, ::Int64) at ./array.jl:456",
      " [6] top-level scope at In[9]:5"
     ]
    }
   ],
   "source": [
    "L=10\n",
    "mnist_DHC_out_test = h5read(\"mnist_DHC_test_eq_L10_s.h5\",\"main/data\")\n",
    "filter_hash = DHC_2DUtils.fink_filter_hash(1, L, nx=128, pc=1, wd=2)\n",
    "sizeTarget = size(transpose(mnist_DHC_out_test))\n",
    "shifted_coeff = zeros(L,sizeTarget[1],sizeTarget[2])\n",
    "for i=1:L\n",
    "    S1mat = S1_equiv_matrix(filter_hash,i)\n",
    "    S2mat = S2_equiv_matrix(filter_hash,i)\n",
    "    shifted_coeff[i,:,:] = transformMaker(transpose(mnist_DHC_out_test),S1mat,S2mat)\n",
    "end"
   ]
  },
  {
   "cell_type": "code",
   "execution_count": null,
   "metadata": {},
   "outputs": [],
   "source": [
    "h5write(\"mnist_DHC_test_eq_L10_s1.h5\", \"main/data\", shifted_coeff)"
   ]
  },
  {
   "cell_type": "code",
   "execution_count": null,
   "metadata": {},
   "outputs": [],
   "source": [
    "L=12\n",
    "mnist_DHC_out_test = h5read(\"mnist_DHC_test_eq_L12_s.h5\",\"main/data\")\n",
    "filter_hash = DHC_2DUtils.fink_filter_hash(1, L, nx=128, pc=1, wd=2)\n",
    "sizeTarget = size(transpose(mnist_DHC_out_test))\n",
    "shifted_coeff = zeros(L,sizeTarget[1],sizeTarget[2])\n",
    "for i=1:L\n",
    "    S1mat = S1_equiv_matrix(filter_hash,i)\n",
    "    S2mat = S2_equiv_matrix(filter_hash,i)\n",
    "    shifted_coeff[i,:,:] = transformMaker(transpose(mnist_DHC_out_test),S1mat,S2mat)\n",
    "end"
   ]
  },
  {
   "cell_type": "code",
   "execution_count": null,
   "metadata": {},
   "outputs": [],
   "source": [
    "h5write(\"mnist_DHC_test_eq_L12_s1.h5\", \"main/data\", shifted_coeff)"
   ]
  },
  {
   "cell_type": "code",
   "execution_count": null,
   "metadata": {},
   "outputs": [],
   "source": [
    "L=16\n",
    "mnist_DHC_out_test = h5read(\"mnist_DHC_test_eq_L16_s.h5\",\"main/data\")\n",
    "filter_hash = DHC_2DUtils.fink_filter_hash(1, L, nx=128, pc=1, wd=2)\n",
    "sizeTarget = size(transpose(mnist_DHC_out_test))\n",
    "shifted_coeff = zeros(L,sizeTarget[1],sizeTarget[2])\n",
    "for i=1:L\n",
    "    S1mat = S1_equiv_matrix(filter_hash,i)\n",
    "    S2mat = S2_equiv_matrix(filter_hash,i)\n",
    "    shifted_coeff[i,:,:] = transformMaker(transpose(mnist_DHC_out_test),S1mat,S2mat)\n",
    "end"
   ]
  },
  {
   "cell_type": "code",
   "execution_count": null,
   "metadata": {},
   "outputs": [],
   "source": [
    "h5write(\"mnist_DHC_test_eq_L16_s1.h5\", \"main/data\", shifted_coeff)"
   ]
  },
  {
   "cell_type": "code",
   "execution_count": null,
   "metadata": {},
   "outputs": [],
   "source": []
  },
  {
   "cell_type": "code",
   "execution_count": null,
   "metadata": {},
   "outputs": [],
   "source": []
  }
 ],
 "metadata": {
  "kernelspec": {
   "display_name": "Julia 1.5.3",
   "language": "julia",
   "name": "julia-1.5"
  },
  "language_info": {
   "file_extension": ".jl",
   "mimetype": "application/julia",
   "name": "julia",
   "version": "1.5.3"
  }
 },
 "nbformat": 4,
 "nbformat_minor": 2
}
