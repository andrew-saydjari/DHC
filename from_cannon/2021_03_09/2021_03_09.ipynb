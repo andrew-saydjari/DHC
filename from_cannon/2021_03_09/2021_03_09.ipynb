{
 "cells": [
  {
   "cell_type": "code",
   "execution_count": 1,
   "metadata": {},
   "outputs": [
    {
     "name": "stderr",
     "output_type": "stream",
     "text": [
      "WARNING: importing deprecated binding HDF5.HDF5Group into _hdf5_implementation.\n",
      "WARNING: importing deprecated binding HDF5.HDF5Dataset into _hdf5_implementation.\n",
      "WARNING: HDF5.HDF5Group is deprecated, use HDF5.Group instead.\n",
      "  likely near /n/home12/saydjari/.julia/packages/Plots/uCh2y/src/backends/hdf5.jl:162\n",
      "WARNING: HDF5.HDF5Dataset is deprecated, use HDF5.Dataset instead.\n",
      "  likely near /n/home12/saydjari/.julia/packages/Plots/uCh2y/src/backends/hdf5.jl:162\n",
      "WARNING: HDF5.HDF5Group is deprecated, use HDF5.Group instead.\n",
      "  likely near /n/home12/saydjari/.julia/packages/Plots/uCh2y/src/backends/hdf5.jl:166\n",
      "WARNING: HDF5.HDF5Dataset is deprecated, use HDF5.Dataset instead.\n",
      "  likely near /n/home12/saydjari/.julia/packages/Plots/uCh2y/src/backends/hdf5.jl:166\n",
      "WARNING: HDF5.HDF5Dataset is deprecated, use HDF5.Dataset instead.\n",
      "  likely near /n/home12/saydjari/.julia/packages/Plots/uCh2y/src/backends/hdf5.jl:176\n",
      "WARNING: HDF5.HDF5Dataset is deprecated, use HDF5.Dataset instead.\n",
      "  likely near /n/home12/saydjari/.julia/packages/Plots/uCh2y/src/backends/hdf5.jl:179\n",
      "WARNING: HDF5.HDF5Group is deprecated, use HDF5.Group instead.\n",
      "  likely near /n/home12/saydjari/.julia/packages/Plots/uCh2y/src/backends/hdf5.jl:181\n",
      "WARNING: HDF5.HDF5Group is deprecated, use HDF5.Group instead.\n",
      "  likely near /n/home12/saydjari/.julia/packages/Plots/uCh2y/src/backends/hdf5.jl:184\n",
      "WARNING: HDF5.HDF5Group is deprecated, use HDF5.Group instead.\n",
      "  likely near /n/home12/saydjari/.julia/packages/Plots/uCh2y/src/backends/hdf5.jl:186\n",
      "WARNING: HDF5.HDF5Group is deprecated, use HDF5.Group instead.\n",
      "  likely near /n/home12/saydjari/.julia/packages/Plots/uCh2y/src/backends/hdf5.jl:189\n",
      "WARNING: HDF5.HDF5Group is deprecated, use HDF5.Group instead.\n",
      "  likely near /n/home12/saydjari/.julia/packages/Plots/uCh2y/src/backends/hdf5.jl:203\n",
      "WARNING: HDF5.HDF5Group is deprecated, use HDF5.Group instead.\n",
      "  likely near /n/home12/saydjari/.julia/packages/Plots/uCh2y/src/backends/hdf5.jl:207\n",
      "WARNING: HDF5.HDF5Group is deprecated, use HDF5.Group instead.\n",
      "  likely near /n/home12/saydjari/.julia/packages/Plots/uCh2y/src/backends/hdf5.jl:211\n",
      "WARNING: HDF5.HDF5Group is deprecated, use HDF5.Group instead.\n",
      "  likely near /n/home12/saydjari/.julia/packages/Plots/uCh2y/src/backends/hdf5.jl:215\n",
      "WARNING: HDF5.HDF5Group is deprecated, use HDF5.Group instead.\n",
      "  likely near /n/home12/saydjari/.julia/packages/Plots/uCh2y/src/backends/hdf5.jl:220\n",
      "WARNING: HDF5.HDF5Group is deprecated, use HDF5.Group instead.\n",
      "  likely near /n/home12/saydjari/.julia/packages/Plots/uCh2y/src/backends/hdf5.jl:224\n",
      "WARNING: HDF5.HDF5Group is deprecated, use HDF5.Group instead.\n",
      "  likely near /n/home12/saydjari/.julia/packages/Plots/uCh2y/src/backends/hdf5.jl:229\n",
      "WARNING: HDF5.HDF5Group is deprecated, use HDF5.Group instead.\n",
      "  likely near /n/home12/saydjari/.julia/packages/Plots/uCh2y/src/backends/hdf5.jl:233\n",
      "WARNING: HDF5.HDF5Group is deprecated, use HDF5.Group instead.\n",
      "  likely near /n/home12/saydjari/.julia/packages/Plots/uCh2y/src/backends/hdf5.jl:237\n",
      "WARNING: HDF5.HDF5Group is deprecated, use HDF5.Group instead.\n",
      "  likely near /n/home12/saydjari/.julia/packages/Plots/uCh2y/src/backends/hdf5.jl:247\n",
      "WARNING: HDF5.HDF5Group is deprecated, use HDF5.Group instead.\n",
      "  likely near /n/home12/saydjari/.julia/packages/Plots/uCh2y/src/backends/hdf5.jl:263\n",
      "WARNING: HDF5.HDF5Group is deprecated, use HDF5.Group instead.\n",
      "  likely near /n/home12/saydjari/.julia/packages/Plots/uCh2y/src/backends/hdf5.jl:273\n",
      "WARNING: HDF5.HDF5Group is deprecated, use HDF5.Group instead.\n",
      "  likely near /n/home12/saydjari/.julia/packages/Plots/uCh2y/src/backends/hdf5.jl:286\n",
      "WARNING: HDF5.HDF5Group is deprecated, use HDF5.Group instead.\n",
      "  likely near /n/home12/saydjari/.julia/packages/Plots/uCh2y/src/backends/hdf5.jl:302\n",
      "WARNING: HDF5.HDF5Group is deprecated, use HDF5.Group instead.\n",
      "  likely near /n/home12/saydjari/.julia/packages/Plots/uCh2y/src/backends/hdf5.jl:307\n",
      "WARNING: HDF5.HDF5Group is deprecated, use HDF5.Group instead.\n",
      "  likely near /n/home12/saydjari/.julia/packages/Plots/uCh2y/src/backends/hdf5.jl:311\n",
      "WARNING: HDF5.HDF5Group is deprecated, use HDF5.Group instead.\n",
      "  likely near /n/home12/saydjari/.julia/packages/Plots/uCh2y/src/backends/hdf5.jl:315\n",
      "WARNING: HDF5.HDF5Group is deprecated, use HDF5.Group instead.\n",
      "  likely near /n/home12/saydjari/.julia/packages/Plots/uCh2y/src/backends/hdf5.jl:317\n",
      "WARNING: HDF5.HDF5Group is deprecated, use HDF5.Group instead.\n",
      "  likely near /n/home12/saydjari/.julia/packages/Plots/uCh2y/src/backends/hdf5.jl:326\n",
      "WARNING: HDF5.HDF5Group is deprecated, use HDF5.Group instead.\n",
      "  likely near /n/home12/saydjari/.julia/packages/Plots/uCh2y/src/backends/hdf5.jl:331\n",
      "WARNING: HDF5.HDF5Group is deprecated, use HDF5.Group instead.\n",
      "  likely near /n/home12/saydjari/.julia/packages/Plots/uCh2y/src/backends/hdf5.jl:338\n",
      "WARNING: HDF5.HDF5Group is deprecated, use HDF5.Group instead.\n",
      "  likely near /n/home12/saydjari/.julia/packages/Plots/uCh2y/src/backends/hdf5.jl:346\n",
      "WARNING: HDF5.HDF5Group is deprecated, use HDF5.Group instead.\n",
      "  likely near /n/home12/saydjari/.julia/packages/Plots/uCh2y/src/backends/hdf5.jl:355\n",
      "WARNING: HDF5.HDF5Group is deprecated, use HDF5.Group instead.\n",
      "  likely near /n/home12/saydjari/.julia/packages/Plots/uCh2y/src/backends/hdf5.jl:368\n",
      "WARNING: HDF5.HDF5Dataset is deprecated, use HDF5.Dataset instead.\n",
      "  likely near /n/home12/saydjari/.julia/packages/Plots/uCh2y/src/backends/hdf5.jl:394\n",
      "WARNING: HDF5.HDF5Dataset is deprecated, use HDF5.Dataset instead.\n",
      "  likely near /n/home12/saydjari/.julia/packages/Plots/uCh2y/src/backends/hdf5.jl:396\n",
      "WARNING: HDF5.HDF5Dataset is deprecated, use HDF5.Dataset instead.\n",
      "  likely near /n/home12/saydjari/.julia/packages/Plots/uCh2y/src/backends/hdf5.jl:405\n",
      "WARNING: HDF5.HDF5Dataset is deprecated, use HDF5.Dataset instead.\n",
      "  likely near /n/home12/saydjari/.julia/packages/Plots/uCh2y/src/backends/hdf5.jl:406\n",
      "WARNING: HDF5.HDF5Dataset is deprecated, use HDF5.Dataset instead.\n",
      "  likely near /n/home12/saydjari/.julia/packages/Plots/uCh2y/src/backends/hdf5.jl:407\n",
      "WARNING: HDF5.HDF5Dataset is deprecated, use HDF5.Dataset instead.\n",
      "  likely near /n/home12/saydjari/.julia/packages/Plots/uCh2y/src/backends/hdf5.jl:408\n",
      "WARNING: HDF5.HDF5Dataset is deprecated, use HDF5.Dataset instead.\n",
      "  likely near /n/home12/saydjari/.julia/packages/Plots/uCh2y/src/backends/hdf5.jl:412\n",
      "WARNING: HDF5.HDF5Dataset is deprecated, use HDF5.Dataset instead.\n",
      "  likely near /n/home12/saydjari/.julia/packages/Plots/uCh2y/src/backends/hdf5.jl:418\n",
      "WARNING: HDF5.HDF5Group is deprecated, use HDF5.Group instead.\n",
      "  likely near /n/home12/saydjari/.julia/packages/Plots/uCh2y/src/backends/hdf5.jl:425\n",
      "WARNING: HDF5.HDF5Group is deprecated, use HDF5.Group instead.\n",
      "  likely near /n/home12/saydjari/.julia/packages/Plots/uCh2y/src/backends/hdf5.jl:432\n",
      "WARNING: HDF5.HDF5Group is deprecated, use HDF5.Group instead.\n",
      "  likely near /n/home12/saydjari/.julia/packages/Plots/uCh2y/src/backends/hdf5.jl:441\n",
      "WARNING: HDF5.HDF5Group is deprecated, use HDF5.Group instead.\n",
      "  likely near /n/home12/saydjari/.julia/packages/Plots/uCh2y/src/backends/hdf5.jl:462\n",
      "WARNING: HDF5.HDF5Group is deprecated, use HDF5.Group instead.\n",
      "  likely near /n/home12/saydjari/.julia/packages/Plots/uCh2y/src/backends/hdf5.jl:464\n",
      "WARNING: HDF5.HDF5Group is deprecated, use HDF5.Group instead.\n",
      "  likely near /n/home12/saydjari/.julia/packages/Plots/uCh2y/src/backends/hdf5.jl:482\n",
      "WARNING: HDF5.HDF5Group is deprecated, use HDF5.Group instead.\n",
      "  likely near /n/home12/saydjari/.julia/packages/Plots/uCh2y/src/backends/hdf5.jl:484\n",
      "WARNING: HDF5.HDF5Group is deprecated, use HDF5.Group instead.\n",
      "  likely near /n/home12/saydjari/.julia/packages/Plots/uCh2y/src/backends/hdf5.jl:497\n",
      "WARNING: HDF5.HDF5Group is deprecated, use HDF5.Group instead.\n",
      "  likely near /n/home12/saydjari/.julia/packages/Plots/uCh2y/src/backends/hdf5.jl:503\n",
      "WARNING: HDF5.HDF5Group is deprecated, use HDF5.Group instead.\n",
      "  likely near /n/home12/saydjari/.julia/packages/Plots/uCh2y/src/backends/hdf5.jl:507\n",
      "WARNING: HDF5.HDF5Group is deprecated, use HDF5.Group instead.\n",
      "  likely near /n/home12/saydjari/.julia/packages/Plots/uCh2y/src/backends/hdf5.jl:517\n",
      "WARNING: HDF5.HDF5Group is deprecated, use HDF5.Group instead.\n",
      "  likely near /n/home12/saydjari/.julia/packages/Plots/uCh2y/src/backends/hdf5.jl:536\n",
      "┌ Info: Precompiling DHC_2DUtils [top-level]\n",
      "└ @ Base loading.jl:1273\n"
     ]
    }
   ],
   "source": [
    "## Preloads\n",
    "using Statistics\n",
    "using FFTW\n",
    "using Plots\n",
    "using BenchmarkTools\n",
    "using Profile\n",
    "using LinearAlgebra\n",
    "using Measures\n",
    "using HDF5\n",
    "push!(LOAD_PATH, pwd())\n",
    "using DHC_2DUtils\n",
    "using MLDatasets\n",
    "using Images\n",
    "theme(:juno)\n",
    "using DSP\n",
    "using Interpolations\n",
    "using Distributed\n",
    "using ProgressMeter"
   ]
  },
  {
   "cell_type": "code",
   "execution_count": 4,
   "metadata": {},
   "outputs": [
    {
     "data": {
      "text/plain": [
       "0.06544984694978735:0.06544984694978735:3.141592653589793"
      ]
     },
     "execution_count": 4,
     "metadata": {},
     "output_type": "execute_result"
    }
   ],
   "source": [
    "train_angles = range(π/48,stop=π,length=48)"
   ]
  },
  {
   "cell_type": "code",
   "execution_count": 5,
   "metadata": {},
   "outputs": [
    {
     "data": {
      "text/plain": [
       "0.007853981633974483:0.007853981633974483:3.141592653589793"
      ]
     },
     "execution_count": 5,
     "metadata": {},
     "output_type": "execute_result"
    }
   ],
   "source": [
    "test_angles = range(π/400,stop=π,length=400)"
   ]
  },
  {
   "cell_type": "code",
   "execution_count": 6,
   "metadata": {},
   "outputs": [
    {
     "data": {
      "text/plain": [
       "1-element Array{Int64,1}:\n",
       " 1"
      ]
     },
     "execution_count": 6,
     "metadata": {},
     "output_type": "execute_result"
    }
   ],
   "source": [
    "workers()"
   ]
  },
  {
   "cell_type": "code",
   "execution_count": 7,
   "metadata": {},
   "outputs": [
    {
     "data": {
      "text/plain": [
       "30-element Array{Int64,1}:\n",
       "  2\n",
       "  3\n",
       "  4\n",
       "  5\n",
       "  6\n",
       "  7\n",
       "  8\n",
       "  9\n",
       " 10\n",
       " 11\n",
       " 12\n",
       " 13\n",
       " 14\n",
       "  ⋮\n",
       " 20\n",
       " 21\n",
       " 22\n",
       " 23\n",
       " 24\n",
       " 25\n",
       " 26\n",
       " 27\n",
       " 28\n",
       " 29\n",
       " 30\n",
       " 31"
      ]
     },
     "execution_count": 7,
     "metadata": {},
     "output_type": "execute_result"
    }
   ],
   "source": [
    "addprocs(30)"
   ]
  },
  {
   "cell_type": "code",
   "execution_count": 11,
   "metadata": {},
   "outputs": [],
   "source": [
    "h5write(\"test_angles.h5\", \"main/data\", collect(test_angles))\n",
    "h5write(\"train_angles.h5\", \"main/data\", collect(train_angles))"
   ]
  },
  {
   "cell_type": "code",
   "execution_count": 13,
   "metadata": {},
   "outputs": [],
   "source": [
    "train_x, train_y = MNIST.traindata()\n",
    "test_x, test_y   = MNIST.testdata()\n",
    "\n",
    "lst_train = Array{Any}(undef, 0)\n",
    "for i = 1:60000\n",
    "    push!(lst_train,train_x[:,:,i])\n",
    "end\n",
    "\n",
    "\n",
    "lst_test = Array{Any}(undef, 0)\n",
    "for i = 1:10000\n",
    "    push!(lst_test,test_x[:,:,i])\n",
    "end"
   ]
  },
  {
   "cell_type": "code",
   "execution_count": 15,
   "metadata": {},
   "outputs": [
    {
     "name": "stderr",
     "output_type": "stream",
     "text": [
      "\u001b[32mProgress: 100%|█████████████████████████████████████████| Time: 4:35:06\u001b[39m\n"
     ]
    },
    {
     "ename": "OutOfMemoryError",
     "evalue": "OutOfMemoryError()",
     "output_type": "error",
     "traceback": [
      "OutOfMemoryError()",
      "",
      "Stacktrace:",
      " [1] Array at ./boot.jl:406 [inlined]",
      " [2] Array at ./boot.jl:414 [inlined]",
      " [3] similar at ./abstractarray.jl:672 [inlined]",
      " [4] similar at ./abstractarray.jl:671 [inlined]",
      " [5] _array_for(::Type{Float64}, ::Base.Iterators.ProductIterator{Tuple{UnitRange{Int64},UnitRange{Int64}}}, ::Base.HasShape{2}) at ./array.jl:614",
      " [6] collect(::Base.Generator{Base.Iterators.ProductIterator{Tuple{UnitRange{Int64},UnitRange{Int64}}},Base.var\"#73#74\"{Any,NTuple{2880000,Array{Any,1}}}}) at ./array.jl:627",
      " [7] hcat(::Array{Any,1}, ::Array{Any,1}, ::Array{Any,1}, ::Vararg{Array{Any,1},N} where N) at ./array.jl:1542",
      " [8] top-level scope at In[15]:39"
     ]
    }
   ],
   "source": [
    "@everywhere begin\n",
    "    using Statistics\n",
    "    using BenchmarkTools\n",
    "    using LinearAlgebra\n",
    "    using Distributed\n",
    "    using ProgressMeter\n",
    "    push!(LOAD_PATH, pwd())\n",
    "    using DHC_2DUtils\n",
    "    using FFTW\n",
    "    using MLDatasets\n",
    "    using Images\n",
    "    using Interpolations\n",
    "    \n",
    "    # filter bank\n",
    "    filter_hash = fink_filter_hash(1,8,nx=128,wd=2)\n",
    "    \n",
    "    function mnist_pad(im; θ=0.0)\n",
    "        impad = zeros(Float64,64,64)\n",
    "        impad[46:-1:19,19:46] = im'\n",
    "        imbig = imresize(impad,(128,128))\n",
    "        if θ != 0.0\n",
    "            imrot = imrotate(imbig, θ, axes(imbig), Cubic(Throw(OnGrid())))\n",
    "            imrot[findall(imrot .!= imrot)] .= 0.0\n",
    "            return imrot\n",
    "        end\n",
    "        return imbig\n",
    "    end\n",
    "    \n",
    "    function mnist_DHC(params)\n",
    "        θ, x = params\n",
    "        image    = mnist_pad(x[:,:], θ=θ)\n",
    "        WST = DHC_compute(image, filter_hash, filter_hash)\n",
    "        return WST\n",
    "    end\n",
    "    \n",
    "end\n",
    " \n",
    "mnist_DHC_out = @showprogress pmap(mnist_DHC, Iterators.product(train_angles,lst_train))\n",
    "mnist_DHC_out = hcat(mnist_DHC_out...)\n",
    "\n",
    "h5write(\"mnist_DHC_train_eq_L8.h5\", \"main/data\", mnist_DHC_out)\n",
    "h5write(\"mnist_DHC_train_eq_L8.h5\", \"main/angles\", collect(train_angles))"
   ]
  },
  {
   "cell_type": "code",
   "execution_count": 16,
   "metadata": {},
   "outputs": [
    {
     "name": "stderr",
     "output_type": "stream",
     "text": [
      "\u001b[32mProgress:   0%|▏                                        |  ETA: 4 days, 17:09:43\u001b[39mWorker 17 terminated.\n",
      "\u001b[32mProgress:   0%|▏                                        |  ETA: 4 days, 16:48:57\u001b[39m"
     ]
    },
    {
     "ename": "ProcessExitedException",
     "evalue": "ProcessExitedException(17)",
     "output_type": "error",
     "traceback": [
      "ProcessExitedException(17)",
      "",
      "Stacktrace:",
      " [1] (::Base.var\"#732#734\")(::Task) at ./asyncmap.jl:178",
      " [2] foreach(::Base.var\"#732#734\", ::Array{Any,1}) at ./abstractarray.jl:1920",
      " [3] maptwice(::Function, ::Channel{Any}, ::Array{Any,1}, ::Base.Iterators.ProductIterator{Tuple{StepRangeLen{Float64,Base.TwicePrecision{Float64},Base.TwicePrecision{Float64}},Array{Any,1}}}) at ./asyncmap.jl:178",
      " [4] wrap_n_exec_twice(::Channel{Any}, ::Array{Any,1}, ::Distributed.var\"#208#211\"{WorkerPool}, ::Function, ::Base.Iterators.ProductIterator{Tuple{StepRangeLen{Float64,Base.TwicePrecision{Float64},Base.TwicePrecision{Float64}},Array{Any,1}}}) at ./asyncmap.jl:154",
      " [5] #async_usemap#717(::Function, ::Nothing, ::typeof(Base.async_usemap), ::Distributed.var\"#192#194\"{Distributed.var\"#192#193#195\"{WorkerPool,ProgressMeter.var\"#46#49\"{typeof(mnist_DHC),RemoteChannel{Channel{Bool}}}}}, ::Base.Iterators.ProductIterator{Tuple{StepRangeLen{Float64,Base.TwicePrecision{Float64},Base.TwicePrecision{Float64}},Array{Any,1}}}) at ./asyncmap.jl:103",
      " [6] (::Base.var\"#kw##async_usemap\")(::NamedTuple{(:ntasks, :batch_size),Tuple{Distributed.var\"#208#211\"{WorkerPool},Nothing}}, ::typeof(Base.async_usemap), ::Function, ::Base.Iterators.ProductIterator{Tuple{StepRangeLen{Float64,Base.TwicePrecision{Float64},Base.TwicePrecision{Float64}},Array{Any,1}}}) at ./none:0",
      " [7] #asyncmap#716 at ./asyncmap.jl:81 [inlined]",
      " [8] #asyncmap at ./none:0 [inlined]",
      " [9] #pmap#207(::Bool, ::Int64, ::Nothing, ::Array{Any,1}, ::Nothing, ::typeof(pmap), ::Function, ::WorkerPool, ::Base.Iterators.ProductIterator{Tuple{StepRangeLen{Float64,Base.TwicePrecision{Float64},Base.TwicePrecision{Float64}},Array{Any,1}}}) at /scratch/pkrastev/lmod_build/julia-1.3.1/usr/share/julia/stdlib/v1.3/Distributed/src/pmap.jl:126",
      " [10] pmap(::Function, ::WorkerPool, ::Base.Iterators.ProductIterator{Tuple{StepRangeLen{Float64,Base.TwicePrecision{Float64},Base.TwicePrecision{Float64}},Array{Any,1}}}) at /scratch/pkrastev/lmod_build/julia-1.3.1/usr/share/julia/stdlib/v1.3/Distributed/src/pmap.jl:101",
      " [11] #pmap#217(::Base.Iterators.Pairs{Union{},Union{},Tuple{},NamedTuple{(),Tuple{}}}, ::typeof(pmap), ::Function, ::Base.Iterators.ProductIterator{Tuple{StepRangeLen{Float64,Base.TwicePrecision{Float64},Base.TwicePrecision{Float64}},Array{Any,1}}}) at /scratch/pkrastev/lmod_build/julia-1.3.1/usr/share/julia/stdlib/v1.3/Distributed/src/pmap.jl:156",
      " [12] pmap(::Function, ::Base.Iterators.ProductIterator{Tuple{StepRangeLen{Float64,Base.TwicePrecision{Float64},Base.TwicePrecision{Float64}},Array{Any,1}}}) at /scratch/pkrastev/lmod_build/julia-1.3.1/usr/share/julia/stdlib/v1.3/Distributed/src/pmap.jl:156",
      " [13] macro expansion at /n/home12/saydjari/.julia/packages/ProgressMeter/poEzd/src/ProgressMeter.jl:831 [inlined]",
      " [14] macro expansion at ./task.jl:318 [inlined]",
      " [15] macro expansion at /n/home12/saydjari/.julia/packages/ProgressMeter/poEzd/src/ProgressMeter.jl:830 [inlined]",
      " [16] macro expansion at ./task.jl:318 [inlined]",
      " [17] #progress_map#43(::Function, ::Progress, ::Int64, ::Base.Iterators.Pairs{Union{},Union{},Tuple{},NamedTuple{(),Tuple{}}}, ::typeof(progress_map), ::Function, ::Vararg{Any,N} where N) at /n/home12/saydjari/.julia/packages/ProgressMeter/poEzd/src/ProgressMeter.jl:823",
      " [18] (::ProgressMeter.var\"#kw##progress_map\")(::NamedTuple{(:progress, :mapfun),Tuple{Progress,typeof(pmap)}}, ::typeof(progress_map), ::Function, ::Vararg{Any,N} where N) at ./none:0",
      " [19] top-level scope at In[16]:37"
     ]
    }
   ],
   "source": [
    "@everywhere begin\n",
    "    using Statistics\n",
    "    using BenchmarkTools\n",
    "    using LinearAlgebra\n",
    "    using Distributed\n",
    "    using ProgressMeter\n",
    "    push!(LOAD_PATH, pwd())\n",
    "    using DHC_2DUtils\n",
    "    using FFTW\n",
    "    using MLDatasets\n",
    "    using Images\n",
    "    using Interpolations\n",
    "    \n",
    "    # filter bank\n",
    "    filter_hash = fink_filter_hash(1,8,nx=128,wd=2)\n",
    "    \n",
    "    function mnist_pad(im; θ=0.0)\n",
    "        impad = zeros(Float64,64,64)\n",
    "        impad[46:-1:19,19:46] = im'\n",
    "        imbig = imresize(impad,(128,128))\n",
    "        if θ != 0.0\n",
    "            imrot = imrotate(imbig, θ, axes(imbig), Cubic(Throw(OnGrid())))\n",
    "            imrot[findall(imrot .!= imrot)] .= 0.0\n",
    "            return imrot\n",
    "        end\n",
    "        return imbig\n",
    "    end\n",
    "    \n",
    "    function mnist_DHC(params)\n",
    "        θ, x = params\n",
    "        image    = mnist_pad(x[:,:], θ=θ)\n",
    "        WST = DHC_compute(image, filter_hash, filter_hash)\n",
    "        return WST\n",
    "    end\n",
    "    \n",
    "end\n",
    " \n",
    "mnist_DHC_out = @showprogress pmap(mnist_DHC, Iterators.product(test_angles,lst_test))\n",
    "mnist_DHC_out = hcat(mnist_DHC_out...)\n",
    "\n",
    "h5write(\"mnist_DHC_test_eq_L8.h5\", \"main/data\", mnist_DHC_out)\n",
    "h5write(\"mnist_DHC_test_eq_L8.h5\", \"main/angles\", collect(test_angles))"
   ]
  },
  {
   "cell_type": "code",
   "execution_count": null,
   "metadata": {},
   "outputs": [],
   "source": []
  }
 ],
 "metadata": {
  "kernelspec": {
   "display_name": "Julia 1.3.1",
   "language": "julia",
   "name": "julia-1.3"
  },
  "language_info": {
   "file_extension": ".jl",
   "mimetype": "application/julia",
   "name": "julia",
   "version": "1.3.1"
  }
 },
 "nbformat": 4,
 "nbformat_minor": 2
}
