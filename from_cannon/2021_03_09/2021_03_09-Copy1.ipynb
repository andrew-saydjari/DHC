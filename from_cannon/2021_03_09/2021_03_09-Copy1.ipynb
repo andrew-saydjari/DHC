{
 "cells": [
  {
   "cell_type": "code",
   "execution_count": 1,
   "metadata": {},
   "outputs": [
    {
     "name": "stderr",
     "output_type": "stream",
     "text": [
      "WARNING: importing deprecated binding HDF5.HDF5Group into _hdf5_implementation.\n",
      "WARNING: importing deprecated binding HDF5.HDF5Dataset into _hdf5_implementation.\n",
      "WARNING: HDF5.HDF5Group is deprecated, use HDF5.Group instead.\n",
      "  likely near /n/home12/saydjari/.julia/packages/Plots/uCh2y/src/backends/hdf5.jl:162\n",
      "WARNING: HDF5.HDF5Dataset is deprecated, use HDF5.Dataset instead.\n",
      "  likely near /n/home12/saydjari/.julia/packages/Plots/uCh2y/src/backends/hdf5.jl:162\n",
      "WARNING: HDF5.HDF5Group is deprecated, use HDF5.Group instead.\n",
      "  likely near /n/home12/saydjari/.julia/packages/Plots/uCh2y/src/backends/hdf5.jl:166\n",
      "WARNING: HDF5.HDF5Dataset is deprecated, use HDF5.Dataset instead.\n",
      "  likely near /n/home12/saydjari/.julia/packages/Plots/uCh2y/src/backends/hdf5.jl:166\n",
      "WARNING: HDF5.HDF5Dataset is deprecated, use HDF5.Dataset instead.\n",
      "  likely near /n/home12/saydjari/.julia/packages/Plots/uCh2y/src/backends/hdf5.jl:176\n",
      "WARNING: HDF5.HDF5Dataset is deprecated, use HDF5.Dataset instead.\n",
      "  likely near /n/home12/saydjari/.julia/packages/Plots/uCh2y/src/backends/hdf5.jl:179\n",
      "WARNING: HDF5.HDF5Group is deprecated, use HDF5.Group instead.\n",
      "  likely near /n/home12/saydjari/.julia/packages/Plots/uCh2y/src/backends/hdf5.jl:181\n",
      "WARNING: HDF5.HDF5Group is deprecated, use HDF5.Group instead.\n",
      "  likely near /n/home12/saydjari/.julia/packages/Plots/uCh2y/src/backends/hdf5.jl:184\n",
      "WARNING: HDF5.HDF5Group is deprecated, use HDF5.Group instead.\n",
      "  likely near /n/home12/saydjari/.julia/packages/Plots/uCh2y/src/backends/hdf5.jl:186\n",
      "WARNING: HDF5.HDF5Group is deprecated, use HDF5.Group instead.\n",
      "  likely near /n/home12/saydjari/.julia/packages/Plots/uCh2y/src/backends/hdf5.jl:189\n",
      "WARNING: HDF5.HDF5Group is deprecated, use HDF5.Group instead.\n",
      "  likely near /n/home12/saydjari/.julia/packages/Plots/uCh2y/src/backends/hdf5.jl:203\n",
      "WARNING: HDF5.HDF5Group is deprecated, use HDF5.Group instead.\n",
      "  likely near /n/home12/saydjari/.julia/packages/Plots/uCh2y/src/backends/hdf5.jl:207\n",
      "WARNING: HDF5.HDF5Group is deprecated, use HDF5.Group instead.\n",
      "  likely near /n/home12/saydjari/.julia/packages/Plots/uCh2y/src/backends/hdf5.jl:211\n",
      "WARNING: HDF5.HDF5Group is deprecated, use HDF5.Group instead.\n",
      "  likely near /n/home12/saydjari/.julia/packages/Plots/uCh2y/src/backends/hdf5.jl:215\n",
      "WARNING: HDF5.HDF5Group is deprecated, use HDF5.Group instead.\n",
      "  likely near /n/home12/saydjari/.julia/packages/Plots/uCh2y/src/backends/hdf5.jl:220\n",
      "WARNING: HDF5.HDF5Group is deprecated, use HDF5.Group instead.\n",
      "  likely near /n/home12/saydjari/.julia/packages/Plots/uCh2y/src/backends/hdf5.jl:224\n",
      "WARNING: HDF5.HDF5Group is deprecated, use HDF5.Group instead.\n",
      "  likely near /n/home12/saydjari/.julia/packages/Plots/uCh2y/src/backends/hdf5.jl:229\n",
      "WARNING: HDF5.HDF5Group is deprecated, use HDF5.Group instead.\n",
      "  likely near /n/home12/saydjari/.julia/packages/Plots/uCh2y/src/backends/hdf5.jl:233\n",
      "WARNING: HDF5.HDF5Group is deprecated, use HDF5.Group instead.\n",
      "  likely near /n/home12/saydjari/.julia/packages/Plots/uCh2y/src/backends/hdf5.jl:237\n",
      "WARNING: HDF5.HDF5Group is deprecated, use HDF5.Group instead.\n",
      "  likely near /n/home12/saydjari/.julia/packages/Plots/uCh2y/src/backends/hdf5.jl:247\n",
      "WARNING: HDF5.HDF5Group is deprecated, use HDF5.Group instead.\n",
      "  likely near /n/home12/saydjari/.julia/packages/Plots/uCh2y/src/backends/hdf5.jl:263\n",
      "WARNING: HDF5.HDF5Group is deprecated, use HDF5.Group instead.\n",
      "  likely near /n/home12/saydjari/.julia/packages/Plots/uCh2y/src/backends/hdf5.jl:273\n",
      "WARNING: HDF5.HDF5Group is deprecated, use HDF5.Group instead.\n",
      "  likely near /n/home12/saydjari/.julia/packages/Plots/uCh2y/src/backends/hdf5.jl:286\n",
      "WARNING: HDF5.HDF5Group is deprecated, use HDF5.Group instead.\n",
      "  likely near /n/home12/saydjari/.julia/packages/Plots/uCh2y/src/backends/hdf5.jl:302\n",
      "WARNING: HDF5.HDF5Group is deprecated, use HDF5.Group instead.\n",
      "  likely near /n/home12/saydjari/.julia/packages/Plots/uCh2y/src/backends/hdf5.jl:307\n",
      "WARNING: HDF5.HDF5Group is deprecated, use HDF5.Group instead.\n",
      "  likely near /n/home12/saydjari/.julia/packages/Plots/uCh2y/src/backends/hdf5.jl:311\n",
      "WARNING: HDF5.HDF5Group is deprecated, use HDF5.Group instead.\n",
      "  likely near /n/home12/saydjari/.julia/packages/Plots/uCh2y/src/backends/hdf5.jl:315\n",
      "WARNING: HDF5.HDF5Group is deprecated, use HDF5.Group instead.\n",
      "  likely near /n/home12/saydjari/.julia/packages/Plots/uCh2y/src/backends/hdf5.jl:317\n",
      "WARNING: HDF5.HDF5Group is deprecated, use HDF5.Group instead.\n",
      "  likely near /n/home12/saydjari/.julia/packages/Plots/uCh2y/src/backends/hdf5.jl:326\n",
      "WARNING: HDF5.HDF5Group is deprecated, use HDF5.Group instead.\n",
      "  likely near /n/home12/saydjari/.julia/packages/Plots/uCh2y/src/backends/hdf5.jl:331\n",
      "WARNING: HDF5.HDF5Group is deprecated, use HDF5.Group instead.\n",
      "  likely near /n/home12/saydjari/.julia/packages/Plots/uCh2y/src/backends/hdf5.jl:338\n",
      "WARNING: HDF5.HDF5Group is deprecated, use HDF5.Group instead.\n",
      "  likely near /n/home12/saydjari/.julia/packages/Plots/uCh2y/src/backends/hdf5.jl:346\n",
      "WARNING: HDF5.HDF5Group is deprecated, use HDF5.Group instead.\n",
      "  likely near /n/home12/saydjari/.julia/packages/Plots/uCh2y/src/backends/hdf5.jl:355\n",
      "WARNING: HDF5.HDF5Group is deprecated, use HDF5.Group instead.\n",
      "  likely near /n/home12/saydjari/.julia/packages/Plots/uCh2y/src/backends/hdf5.jl:368\n",
      "WARNING: HDF5.HDF5Dataset is deprecated, use HDF5.Dataset instead.\n",
      "  likely near /n/home12/saydjari/.julia/packages/Plots/uCh2y/src/backends/hdf5.jl:394\n",
      "WARNING: HDF5.HDF5Dataset is deprecated, use HDF5.Dataset instead.\n",
      "  likely near /n/home12/saydjari/.julia/packages/Plots/uCh2y/src/backends/hdf5.jl:396\n",
      "WARNING: HDF5.HDF5Dataset is deprecated, use HDF5.Dataset instead.\n",
      "  likely near /n/home12/saydjari/.julia/packages/Plots/uCh2y/src/backends/hdf5.jl:405\n",
      "WARNING: HDF5.HDF5Dataset is deprecated, use HDF5.Dataset instead.\n",
      "  likely near /n/home12/saydjari/.julia/packages/Plots/uCh2y/src/backends/hdf5.jl:406\n",
      "WARNING: HDF5.HDF5Dataset is deprecated, use HDF5.Dataset instead.\n",
      "  likely near /n/home12/saydjari/.julia/packages/Plots/uCh2y/src/backends/hdf5.jl:407\n",
      "WARNING: HDF5.HDF5Dataset is deprecated, use HDF5.Dataset instead.\n",
      "  likely near /n/home12/saydjari/.julia/packages/Plots/uCh2y/src/backends/hdf5.jl:408\n",
      "WARNING: HDF5.HDF5Dataset is deprecated, use HDF5.Dataset instead.\n",
      "  likely near /n/home12/saydjari/.julia/packages/Plots/uCh2y/src/backends/hdf5.jl:412\n",
      "WARNING: HDF5.HDF5Dataset is deprecated, use HDF5.Dataset instead.\n",
      "  likely near /n/home12/saydjari/.julia/packages/Plots/uCh2y/src/backends/hdf5.jl:418\n",
      "WARNING: HDF5.HDF5Group is deprecated, use HDF5.Group instead.\n",
      "  likely near /n/home12/saydjari/.julia/packages/Plots/uCh2y/src/backends/hdf5.jl:425\n",
      "WARNING: HDF5.HDF5Group is deprecated, use HDF5.Group instead.\n",
      "  likely near /n/home12/saydjari/.julia/packages/Plots/uCh2y/src/backends/hdf5.jl:432\n",
      "WARNING: HDF5.HDF5Group is deprecated, use HDF5.Group instead.\n",
      "  likely near /n/home12/saydjari/.julia/packages/Plots/uCh2y/src/backends/hdf5.jl:441\n",
      "WARNING: HDF5.HDF5Group is deprecated, use HDF5.Group instead.\n",
      "  likely near /n/home12/saydjari/.julia/packages/Plots/uCh2y/src/backends/hdf5.jl:462\n",
      "WARNING: HDF5.HDF5Group is deprecated, use HDF5.Group instead.\n",
      "  likely near /n/home12/saydjari/.julia/packages/Plots/uCh2y/src/backends/hdf5.jl:464\n",
      "WARNING: HDF5.HDF5Group is deprecated, use HDF5.Group instead.\n",
      "  likely near /n/home12/saydjari/.julia/packages/Plots/uCh2y/src/backends/hdf5.jl:482\n",
      "WARNING: HDF5.HDF5Group is deprecated, use HDF5.Group instead.\n",
      "  likely near /n/home12/saydjari/.julia/packages/Plots/uCh2y/src/backends/hdf5.jl:484\n",
      "WARNING: HDF5.HDF5Group is deprecated, use HDF5.Group instead.\n",
      "  likely near /n/home12/saydjari/.julia/packages/Plots/uCh2y/src/backends/hdf5.jl:497\n",
      "WARNING: HDF5.HDF5Group is deprecated, use HDF5.Group instead.\n",
      "  likely near /n/home12/saydjari/.julia/packages/Plots/uCh2y/src/backends/hdf5.jl:503\n",
      "WARNING: HDF5.HDF5Group is deprecated, use HDF5.Group instead.\n",
      "  likely near /n/home12/saydjari/.julia/packages/Plots/uCh2y/src/backends/hdf5.jl:507\n",
      "WARNING: HDF5.HDF5Group is deprecated, use HDF5.Group instead.\n",
      "  likely near /n/home12/saydjari/.julia/packages/Plots/uCh2y/src/backends/hdf5.jl:517\n",
      "WARNING: HDF5.HDF5Group is deprecated, use HDF5.Group instead.\n",
      "  likely near /n/home12/saydjari/.julia/packages/Plots/uCh2y/src/backends/hdf5.jl:536\n"
     ]
    }
   ],
   "source": [
    "## Preloads\n",
    "using Statistics\n",
    "using FFTW\n",
    "using Plots\n",
    "using BenchmarkTools\n",
    "using Profile\n",
    "using LinearAlgebra\n",
    "using Measures\n",
    "using HDF5\n",
    "push!(LOAD_PATH, pwd())\n",
    "using DHC_2DUtils\n",
    "using MLDatasets\n",
    "using Images\n",
    "theme(:juno)\n",
    "using DSP\n",
    "using Interpolations\n",
    "using Distributed\n",
    "using ProgressMeter"
   ]
  },
  {
   "cell_type": "code",
   "execution_count": 2,
   "metadata": {},
   "outputs": [
    {
     "data": {
      "text/plain": [
       "0.06544984694978735:0.06544984694978735:3.141592653589793"
      ]
     },
     "execution_count": 2,
     "metadata": {},
     "output_type": "execute_result"
    }
   ],
   "source": [
    "train_angles =range(π/48,stop=π,length=48)"
   ]
  },
  {
   "cell_type": "code",
   "execution_count": 3,
   "metadata": {},
   "outputs": [
    {
     "data": {
      "text/plain": [
       "0.007853981633974483:0.007853981633974483:3.141592653589793"
      ]
     },
     "execution_count": 3,
     "metadata": {},
     "output_type": "execute_result"
    }
   ],
   "source": [
    "test_angles = range(π/400,stop=π,length=400)"
   ]
  },
  {
   "cell_type": "code",
   "execution_count": 4,
   "metadata": {},
   "outputs": [
    {
     "data": {
      "text/plain": [
       "1-element Array{Int64,1}:\n",
       " 1"
      ]
     },
     "execution_count": 4,
     "metadata": {},
     "output_type": "execute_result"
    }
   ],
   "source": [
    "workers()"
   ]
  },
  {
   "cell_type": "code",
   "execution_count": 5,
   "metadata": {},
   "outputs": [
    {
     "data": {
      "text/plain": [
       "30-element Array{Int64,1}:\n",
       "  2\n",
       "  3\n",
       "  4\n",
       "  5\n",
       "  6\n",
       "  7\n",
       "  8\n",
       "  9\n",
       " 10\n",
       " 11\n",
       " 12\n",
       " 13\n",
       " 14\n",
       "  ⋮\n",
       " 20\n",
       " 21\n",
       " 22\n",
       " 23\n",
       " 24\n",
       " 25\n",
       " 26\n",
       " 27\n",
       " 28\n",
       " 29\n",
       " 30\n",
       " 31"
      ]
     },
     "execution_count": 5,
     "metadata": {},
     "output_type": "execute_result"
    }
   ],
   "source": [
    "addprocs(30)"
   ]
  },
  {
   "cell_type": "code",
   "execution_count": 6,
   "metadata": {},
   "outputs": [],
   "source": [
    "train_x, train_y = MNIST.traindata()\n",
    "test_x, test_y   = MNIST.testdata()\n",
    "\n",
    "lst_train = Array{Any}(undef, 0)\n",
    "for i = 1:60000\n",
    "    push!(lst_train,train_x[:,:,i])\n",
    "end\n",
    "\n",
    "\n",
    "lst_test = Array{Any}(undef, 0)\n",
    "for i = 1:10000\n",
    "    push!(lst_test,test_x[:,:,i])\n",
    "end"
   ]
  },
  {
   "cell_type": "code",
   "execution_count": 7,
   "metadata": {},
   "outputs": [
    {
     "name": "stderr",
     "output_type": "stream",
     "text": [
      "\u001b[32mProgress: 100%|█████████████████████████████████████████| Time: 2:31:27\u001b[39m\n"
     ]
    }
   ],
   "source": [
    "@everywhere begin\n",
    "    using Statistics\n",
    "    using BenchmarkTools\n",
    "    using LinearAlgebra\n",
    "    using Distributed\n",
    "    using ProgressMeter\n",
    "    push!(LOAD_PATH, pwd())\n",
    "    using DHC_2DUtils\n",
    "    using FFTW\n",
    "    using MLDatasets\n",
    "    using Images\n",
    "    using Interpolations\n",
    "    \n",
    "    # filter bank\n",
    "    filter_hash = fink_filter_hash(1,6,nx=128,wd=2)\n",
    "    \n",
    "    function mnist_pad(im; θ=0.0)\n",
    "        impad = zeros(Float64,64,64)\n",
    "        impad[46:-1:19,19:46] = im'\n",
    "        imbig = imresize(impad,(128,128))\n",
    "        if θ != 0.0\n",
    "            imrot = imrotate(imbig, θ, axes(imbig), Cubic(Throw(OnGrid())))\n",
    "            imrot[findall(imrot .!= imrot)] .= 0.0\n",
    "            return imrot\n",
    "        end\n",
    "        return imbig\n",
    "    end\n",
    "    \n",
    "    function mnist_DHC(params)\n",
    "        θ, x = params\n",
    "        image    = mnist_pad(x[:,:], θ=θ)\n",
    "        WST = DHC_compute(image, filter_hash, filter_hash)\n",
    "        return WST\n",
    "    end\n",
    "    \n",
    "end\n",
    " \n",
    "mnist_DHC_out = @showprogress pmap(mnist_DHC, Iterators.product(train_angles,lst_train))\n",
    "mnist_DHC_out = hcat(mnist_DHC_out...)\n",
    "\n",
    "h5write(\"mnist_DHC_train_eq_L6.h5\", \"main/data\", mnist_DHC_out)\n",
    "h5write(\"mnist_DHC_train_eq_L6.h5\", \"main/angles\", collect(train_angles))"
   ]
  },
  {
   "cell_type": "code",
   "execution_count": 7,
   "metadata": {},
   "outputs": [
    {
     "name": "stderr",
     "output_type": "stream",
     "text": [
      "\u001b[32mProgress: 100%|█████████████████████████████████████████| Time: 4:08:28\u001b[39m\n"
     ]
    }
   ],
   "source": [
    "@everywhere begin\n",
    "    using Statistics\n",
    "    using BenchmarkTools\n",
    "    using LinearAlgebra\n",
    "    using Distributed\n",
    "    using ProgressMeter\n",
    "    push!(LOAD_PATH, pwd())\n",
    "    using DHC_2DUtils\n",
    "    using FFTW\n",
    "    using MLDatasets\n",
    "    using Images\n",
    "    using Interpolations\n",
    "    \n",
    "    # filter bank\n",
    "    filter_hash = fink_filter_hash(1,6,nx=128,wd=2)\n",
    "    \n",
    "    function mnist_pad(im; θ=0.0)\n",
    "        impad = zeros(Float64,64,64)\n",
    "        impad[46:-1:19,19:46] = im'\n",
    "        imbig = imresize(impad,(128,128))\n",
    "        if θ != 0.0\n",
    "            imrot = imrotate(imbig, θ, axes(imbig), Cubic(Throw(OnGrid())))\n",
    "            imrot[findall(imrot .!= imrot)] .= 0.0\n",
    "            return imrot\n",
    "        end\n",
    "        return imbig\n",
    "    end\n",
    "    \n",
    "    function mnist_DHC(params)\n",
    "        θ, x = params\n",
    "        image    = mnist_pad(x[:,:], θ=θ)\n",
    "        WST = DHC_compute(image, filter_hash, filter_hash)\n",
    "        return WST\n",
    "    end\n",
    "    \n",
    "end\n",
    " \n",
    "mnist_DHC_out = @showprogress pmap(mnist_DHC, Iterators.product(test_angles,lst_test))\n",
    "mnist_DHC_out = hcat(mnist_DHC_out...)\n",
    "\n",
    "h5write(\"mnist_DHC_test_eq_L6.h5\", \"main/data\", mnist_DHC_out)\n",
    "h5write(\"mnist_DHC_test_eq_L6.h5\", \"main/angles\", collect(test_angles))"
   ]
  },
  {
   "cell_type": "code",
   "execution_count": 8,
   "metadata": {},
   "outputs": [
    {
     "name": "stderr",
     "output_type": "stream",
     "text": [
      "Worker 30 terminated.\n",
      "Worker 9 terminated.\n",
      "Worker 11 terminated.\n",
      "Worker 16 terminated.\n",
      "Worker 28 terminated.\n",
      "Worker 26 terminated.\n",
      "Worker 4 terminated.\n",
      "Worker 7 terminated.\n",
      "Worker 5 terminated.\n",
      "Worker 31 terminated.\n",
      "Worker 18 terminated.\n",
      "\u001b[32mProgress: 100%|█████████████████████████████████████████| Time: 1:49:01\u001b[39m\n"
     ]
    }
   ],
   "source": [
    "@everywhere begin\n",
    "    using Statistics\n",
    "    using BenchmarkTools\n",
    "    using LinearAlgebra\n",
    "    using Distributed\n",
    "    using ProgressMeter\n",
    "    push!(LOAD_PATH, pwd())\n",
    "    using DHC_2DUtils\n",
    "    using FFTW\n",
    "    using MLDatasets\n",
    "    using Images\n",
    "    using Interpolations\n",
    "    \n",
    "    # filter bank\n",
    "    filter_hash = fink_filter_hash(1,4,nx=128,wd=2)\n",
    "    \n",
    "    function mnist_pad(im; θ=0.0)\n",
    "        impad = zeros(Float64,64,64)\n",
    "        impad[46:-1:19,19:46] = im'\n",
    "        imbig = imresize(impad,(128,128))\n",
    "        if θ != 0.0\n",
    "            imrot = imrotate(imbig, θ, axes(imbig), Cubic(Throw(OnGrid())))\n",
    "            imrot[findall(imrot .!= imrot)] .= 0.0\n",
    "            return imrot\n",
    "        end\n",
    "        return imbig\n",
    "    end\n",
    "    \n",
    "    function mnist_DHC(params)\n",
    "        θ, x = params\n",
    "        image    = mnist_pad(x[:,:], θ=θ)\n",
    "        WST = DHC_compute(image, filter_hash, filter_hash)\n",
    "        return WST\n",
    "    end\n",
    "    \n",
    "end\n",
    " \n",
    "mnist_DHC_out = @showprogress pmap(mnist_DHC, Iterators.product(train_angles,lst_train))\n",
    "mnist_DHC_out = hcat(mnist_DHC_out...)\n",
    "\n",
    "h5write(\"mnist_DHC_train_eq_L4.h5\", \"main/data\", mnist_DHC_out)\n",
    "h5write(\"mnist_DHC_train_eq_L4.h5\", \"main/angles\", collect(train_angles))"
   ]
  },
  {
   "cell_type": "code",
   "execution_count": 9,
   "metadata": {},
   "outputs": [
    {
     "name": "stderr",
     "output_type": "stream",
     "text": [
      "\u001b[32mProgress:   0%|                                         |  ETA: 3:55:05\u001b[39m"
     ]
    },
    {
     "ename": "RemoteException",
     "evalue": "InterruptException:\nhandle_deserialize(::Distributed.ClusterSerializer{Sockets.TCPSocket}, ::Int32) at /scratch/pkrastev/lmod_build/julia-1.3.1/usr/share/julia/stdlib/v1.3/Serialization/src/Serialization.jl:851\ndeserialize_fillarray!(::Array{Any,1}, ::Distributed.ClusterSerializer{Sockets.TCPSocket}) at /scratch/pkrastev/lmod_build/julia-1.3.1/usr/share/julia/stdlib/v1.3/Serialization/src/Serialization.jl:1094\ndeserialize_array(::Distributed.ClusterSerializer{Sockets.TCPSocket}) at /scratch/pkrastev/lmod_build/julia-1.3.1/usr/share/julia/stdlib/v1.3/Serialization/src/Serialization.jl:1086\nhandle_deserialize(::Distributed.ClusterSerializer{Sockets.TCPSocket}, ::Int32) at /scratch/pkrastev/lmod_build/julia-1.3.1/usr/share/julia/stdlib/v1.3/Serialization/src/Serialization.jl:773\ndeserialize at /scratch/pkrastev/lmod_build/julia-1.3.1/usr/share/julia/stdlib/v1.3/Serialization/src/Serialization.jl:722 [inlined]\ndeserialize_msg(::Distributed.ClusterSerializer{Sockets.TCPSocket}) at /scratch/pkrastev/lmod_build/julia-1.3.1/usr/share/julia/stdlib/v1.3/Distributed/src/messages.jl:99\n#invokelatest#1 at ./essentials.jl:709 [inlined]\ninvokelatest at ./essentials.jl:708 [inlined]\nmessage_handler_loop(::Sockets.TCPSocket, ::Sockets.TCPSocket, ::Bool) at /scratch/pkrastev/lmod_build/julia-1.3.1/usr/share/julia/stdlib/v1.3/Distributed/src/process_messages.jl:185\nprocess_tcp_streams(::Sockets.TCPSocket, ::Sockets.TCPSocket, ::Bool) at /scratch/pkrastev/lmod_build/julia-1.3.1/usr/share/julia/stdlib/v1.3/Distributed/src/process_messages.jl:142\n(::Distributed.var\"#101#102\"{Sockets.TCPSocket,Sockets.TCPSocket,Bool})() at ./task.jl:333",
     "output_type": "error",
     "traceback": [
      "InterruptException:\nhandle_deserialize(::Distributed.ClusterSerializer{Sockets.TCPSocket}, ::Int32) at /scratch/pkrastev/lmod_build/julia-1.3.1/usr/share/julia/stdlib/v1.3/Serialization/src/Serialization.jl:851\ndeserialize_fillarray!(::Array{Any,1}, ::Distributed.ClusterSerializer{Sockets.TCPSocket}) at /scratch/pkrastev/lmod_build/julia-1.3.1/usr/share/julia/stdlib/v1.3/Serialization/src/Serialization.jl:1094\ndeserialize_array(::Distributed.ClusterSerializer{Sockets.TCPSocket}) at /scratch/pkrastev/lmod_build/julia-1.3.1/usr/share/julia/stdlib/v1.3/Serialization/src/Serialization.jl:1086\nhandle_deserialize(::Distributed.ClusterSerializer{Sockets.TCPSocket}, ::Int32) at /scratch/pkrastev/lmod_build/julia-1.3.1/usr/share/julia/stdlib/v1.3/Serialization/src/Serialization.jl:773\ndeserialize at /scratch/pkrastev/lmod_build/julia-1.3.1/usr/share/julia/stdlib/v1.3/Serialization/src/Serialization.jl:722 [inlined]\ndeserialize_msg(::Distributed.ClusterSerializer{Sockets.TCPSocket}) at /scratch/pkrastev/lmod_build/julia-1.3.1/usr/share/julia/stdlib/v1.3/Distributed/src/messages.jl:99\n#invokelatest#1 at ./essentials.jl:709 [inlined]\ninvokelatest at ./essentials.jl:708 [inlined]\nmessage_handler_loop(::Sockets.TCPSocket, ::Sockets.TCPSocket, ::Bool) at /scratch/pkrastev/lmod_build/julia-1.3.1/usr/share/julia/stdlib/v1.3/Distributed/src/process_messages.jl:185\nprocess_tcp_streams(::Sockets.TCPSocket, ::Sockets.TCPSocket, ::Bool) at /scratch/pkrastev/lmod_build/julia-1.3.1/usr/share/julia/stdlib/v1.3/Distributed/src/process_messages.jl:142\n(::Distributed.var\"#101#102\"{Sockets.TCPSocket,Sockets.TCPSocket,Bool})() at ./task.jl:333",
      "",
      "Stacktrace:",
      " [1] (::Base.var\"#732#734\")(::Task) at ./asyncmap.jl:178",
      " [2] foreach(::Base.var\"#732#734\", ::Array{Any,1}) at ./abstractarray.jl:1920",
      " [3] maptwice(::Function, ::Channel{Any}, ::Array{Any,1}, ::Base.Iterators.ProductIterator{Tuple{StepRangeLen{Float64,Base.TwicePrecision{Float64},Base.TwicePrecision{Float64}},Array{Any,1}}}) at ./asyncmap.jl:178",
      " [4] wrap_n_exec_twice(::Channel{Any}, ::Array{Any,1}, ::Distributed.var\"#208#211\"{WorkerPool}, ::Function, ::Base.Iterators.ProductIterator{Tuple{StepRangeLen{Float64,Base.TwicePrecision{Float64},Base.TwicePrecision{Float64}},Array{Any,1}}}) at ./asyncmap.jl:154",
      " [5] #async_usemap#717(::Function, ::Nothing, ::typeof(Base.async_usemap), ::Distributed.var\"#192#194\"{Distributed.var\"#192#193#195\"{WorkerPool,ProgressMeter.var\"#46#49\"{typeof(mnist_DHC),RemoteChannel{Channel{Bool}}}}}, ::Base.Iterators.ProductIterator{Tuple{StepRangeLen{Float64,Base.TwicePrecision{Float64},Base.TwicePrecision{Float64}},Array{Any,1}}}) at ./asyncmap.jl:103",
      " [6] (::Base.var\"#kw##async_usemap\")(::NamedTuple{(:ntasks, :batch_size),Tuple{Distributed.var\"#208#211\"{WorkerPool},Nothing}}, ::typeof(Base.async_usemap), ::Function, ::Base.Iterators.ProductIterator{Tuple{StepRangeLen{Float64,Base.TwicePrecision{Float64},Base.TwicePrecision{Float64}},Array{Any,1}}}) at ./none:0",
      " [7] #asyncmap#716 at ./asyncmap.jl:81 [inlined]",
      " [8] #asyncmap at ./none:0 [inlined]",
      " [9] #pmap#207(::Bool, ::Int64, ::Nothing, ::Array{Any,1}, ::Nothing, ::typeof(pmap), ::Function, ::WorkerPool, ::Base.Iterators.ProductIterator{Tuple{StepRangeLen{Float64,Base.TwicePrecision{Float64},Base.TwicePrecision{Float64}},Array{Any,1}}}) at /scratch/pkrastev/lmod_build/julia-1.3.1/usr/share/julia/stdlib/v1.3/Distributed/src/pmap.jl:126",
      " [10] pmap(::Function, ::WorkerPool, ::Base.Iterators.ProductIterator{Tuple{StepRangeLen{Float64,Base.TwicePrecision{Float64},Base.TwicePrecision{Float64}},Array{Any,1}}}) at /scratch/pkrastev/lmod_build/julia-1.3.1/usr/share/julia/stdlib/v1.3/Distributed/src/pmap.jl:101",
      " [11] #pmap#217(::Base.Iterators.Pairs{Union{},Union{},Tuple{},NamedTuple{(),Tuple{}}}, ::typeof(pmap), ::Function, ::Base.Iterators.ProductIterator{Tuple{StepRangeLen{Float64,Base.TwicePrecision{Float64},Base.TwicePrecision{Float64}},Array{Any,1}}}) at /scratch/pkrastev/lmod_build/julia-1.3.1/usr/share/julia/stdlib/v1.3/Distributed/src/pmap.jl:156",
      " [12] pmap(::Function, ::Base.Iterators.ProductIterator{Tuple{StepRangeLen{Float64,Base.TwicePrecision{Float64},Base.TwicePrecision{Float64}},Array{Any,1}}}) at /scratch/pkrastev/lmod_build/julia-1.3.1/usr/share/julia/stdlib/v1.3/Distributed/src/pmap.jl:156",
      " [13] macro expansion at /n/home12/saydjari/.julia/packages/ProgressMeter/poEzd/src/ProgressMeter.jl:831 [inlined]",
      " [14] macro expansion at ./task.jl:318 [inlined]",
      " [15] macro expansion at /n/home12/saydjari/.julia/packages/ProgressMeter/poEzd/src/ProgressMeter.jl:830 [inlined]",
      " [16] macro expansion at ./task.jl:318 [inlined]",
      " [17] #progress_map#43(::Function, ::Progress, ::Int64, ::Base.Iterators.Pairs{Union{},Union{},Tuple{},NamedTuple{(),Tuple{}}}, ::typeof(progress_map), ::Function, ::Vararg{Any,N} where N) at /n/home12/saydjari/.julia/packages/ProgressMeter/poEzd/src/ProgressMeter.jl:823",
      " [18] (::ProgressMeter.var\"#kw##progress_map\")(::NamedTuple{(:progress, :mapfun),Tuple{Progress,typeof(pmap)}}, ::typeof(progress_map), ::Function, ::Vararg{Any,N} where N) at ./none:0",
      " [19] top-level scope at In[9]:37"
     ]
    }
   ],
   "source": [
    "@everywhere begin\n",
    "    using Statistics\n",
    "    using BenchmarkTools\n",
    "    using LinearAlgebra\n",
    "    using Distributed\n",
    "    using ProgressMeter\n",
    "    push!(LOAD_PATH, pwd())\n",
    "    using DHC_2DUtils\n",
    "    using FFTW\n",
    "    using MLDatasets\n",
    "    using Images\n",
    "    using Interpolations\n",
    "    \n",
    "    # filter bank\n",
    "    filter_hash = fink_filter_hash(1,4,nx=128,wd=2)\n",
    "    \n",
    "    function mnist_pad(im; θ=0.0)\n",
    "        impad = zeros(Float64,64,64)\n",
    "        impad[46:-1:19,19:46] = im'\n",
    "        imbig = imresize(impad,(128,128))\n",
    "        if θ != 0.0\n",
    "            imrot = imrotate(imbig, θ, axes(imbig), Cubic(Throw(OnGrid())))\n",
    "            imrot[findall(imrot .!= imrot)] .= 0.0\n",
    "            return imrot\n",
    "        end\n",
    "        return imbig\n",
    "    end\n",
    "    \n",
    "    function mnist_DHC(params)\n",
    "        θ, x = params\n",
    "        image    = mnist_pad(x[:,:], θ=θ)\n",
    "        WST = DHC_compute(image, filter_hash, filter_hash)\n",
    "        return WST\n",
    "    end\n",
    "    \n",
    "end\n",
    " \n",
    "mnist_DHC_out = @showprogress pmap(mnist_DHC, Iterators.product(test_angles,lst_test))\n",
    "mnist_DHC_out = hcat(mnist_DHC_out...)\n",
    "\n",
    "h5write(\"mnist_DHC_test_eq_L4.h5\", \"main/data\", mnist_DHC_out)\n",
    "h5write(\"mnist_DHC_test_eq_L4.h5\", \"main/angles\", collect(test_angles))"
   ]
  },
  {
   "cell_type": "code",
   "execution_count": 26,
   "metadata": {},
   "outputs": [
    {
     "data": {
      "text/plain": [
       "1.5707963267948966:1.5707963267948966:3.141592653589793"
      ]
     },
     "execution_count": 26,
     "metadata": {},
     "output_type": "execute_result"
    }
   ],
   "source": [
    "test_angles = range(π/2,stop=π,length=2)"
   ]
  },
  {
   "cell_type": "code",
   "execution_count": 36,
   "metadata": {},
   "outputs": [
    {
     "data": {
      "text/plain": [
       "2000"
      ]
     },
     "execution_count": 36,
     "metadata": {},
     "output_type": "execute_result"
    }
   ],
   "source": [
    "iter_prod0 = Iterators.product(test_angles,lst_test)\n",
    "n_batch = 10\n",
    "batch_size = length(iter_prod0)÷n_batch"
   ]
  },
  {
   "cell_type": "code",
   "execution_count": 38,
   "metadata": {},
   "outputs": [
    {
     "name": "stderr",
     "output_type": "stream",
     "text": [
      "\u001b[32mProgress: 100%|█████████████████████████████████████████| Time: 0:00:02\u001b[39m\n",
      "\u001b[32mProgress: 100%|█████████████████████████████████████████| Time: 0:00:02\u001b[39m\n",
      "\u001b[32mProgress: 100%|█████████████████████████████████████████| Time: 0:00:02\u001b[39m\n",
      "\u001b[32mProgress: 100%|█████████████████████████████████████████| Time: 0:00:02\u001b[39m\n",
      "\u001b[32mProgress: 100%|█████████████████████████████████████████| Time: 0:00:02\u001b[39m\n",
      "\u001b[32mProgress: 100%|█████████████████████████████████████████| Time: 0:00:02\u001b[39m\n",
      "\u001b[32mProgress: 100%|█████████████████████████████████████████| Time: 0:00:02\u001b[39m\n",
      "\u001b[32mProgress: 100%|█████████████████████████████████████████| Time: 0:00:02\u001b[39m\n",
      "\u001b[32mProgress: 100%|█████████████████████████████████████████| Time: 0:00:02\u001b[39m\n",
      "\u001b[32mProgress: 100%|█████████████████████████████████████████| Time: 0:00:02\u001b[39m\n",
      "\u001b[32mProgress: 100%|█████████████████████████████████████████| Time: 0:00:29\u001b[39m\n"
     ]
    },
    {
     "data": {
      "text/plain": [
       "464×20000 Array{Float64,2}:\n",
       " 0.0176681    0.0176681    …  0.0457864    0.0180999   0.0180999 \n",
       " 0.0113856    0.0113856       0.0363635    0.0108857   0.0108857 \n",
       " 0.00245271   0.00171096      0.000651025  0.00345358  0.00445926\n",
       " 0.0437785    0.0366561       0.00689771   0.0360503   0.0491932 \n",
       " 0.0798014    0.0823397       0.0226704    0.0577736   0.103824  \n",
       " 0.0573299    0.0615093    …  0.0411166    0.020275    0.0489461 \n",
       " 0.0264434    0.0492241       0.0968289    0.0444225   0.061056  \n",
       " 0.00263151   0.00153217      0.000876667  0.00409793  0.00381491\n",
       " 0.0553846    0.0250503       0.00899767   0.0427346   0.0425088 \n",
       " 0.108537     0.0536045       0.0314142    0.076301    0.0852957 \n",
       " 0.0713657    0.0474736    …  0.0430769    0.0309674   0.0382534 \n",
       " 0.0407415    0.0349258       0.0983894    0.0448401   0.0606381 \n",
       " 0.00171097   0.00245272      0.00123329   0.00445927  0.00345358\n",
       " ⋮                         ⋱                                     \n",
       " 0.036084     0.0302766       0.0825219    0.0369774   0.0513826 \n",
       " 0.000673611  0.000938485     0.000530338  0.0017989   0.00125571\n",
       " 0.0146732    0.0176424       0.00773094   0.0220407   0.0144622 \n",
       " 0.0416403    0.0417338    …  0.0265047    0.0526727   0.0270312 \n",
       " 0.0454549    0.0392639       0.0334245    0.0363731   0.0158909 \n",
       " 0.0432249    0.0219691       0.0773457    0.0521009   0.0369984 \n",
       " 0.000555352  0.00113439      0.000452122  0.00146759  0.001478  \n",
       " 0.00994335   0.0240225       0.00663647   0.0187624   0.0167502 \n",
       " 0.0270629    0.0586043    …  0.0217277    0.0414914   0.035086  \n",
       " 0.0339707    0.0514781       0.0321034    0.0293104   0.021633  \n",
       " 0.0302768    0.0360842       0.075757     0.0513827   0.0369775 \n",
       " 0.0941222    0.0941222       0.21428      0.11283     0.11283   "
      ]
     },
     "execution_count": 38,
     "metadata": {},
     "output_type": "execute_result"
    }
   ],
   "source": [
    "fid = h5open(\"mnist_DHC_test_eq_L4t.h5\",\"w\")\n",
    "dset = create_dataset(fid, \"main/data\", datatype(Float64), dataspace(464,length(iter_prod0)), chunk=(464,batch_size),deflate=3)\n",
    "close(fid)\n",
    "@showprogress for i=1:n_batch\n",
    "    subset = Iterators.take(iter_prod0,batch_size)\n",
    "    mnist_DHC_out = @showprogress pmap(mnist_DHC,subset)\n",
    "    mnist_DHC_out = hcat(mnist_DHC_out...)\n",
    "    \n",
    "    fid = h5open(\"mnist_DHC_test_eq_L4t.h5\",\"r+\")\n",
    "    data = open_dataset(fid, \"main/data\")\n",
    "    data[:,(1:batch_size).+(i-1)*batch_size] = mnist_DHC_out\n",
    "    close(fid)\n",
    "    iter_prod = Iterators.drop(iter_prod0,batch_size)\n",
    "end\n",
    "\n",
    "A = h5read(\"mnist_DHC_test_eq_L4t.h5\", \"main/data\")"
   ]
  },
  {
   "cell_type": "markdown",
   "metadata": {},
   "source": [
    "Ok, so the new flow is to call a wrapper that does the above"
   ]
  },
  {
   "cell_type": "code",
   "execution_count": 56,
   "metadata": {},
   "outputs": [
    {
     "data": {
      "text/plain": [
       "0.007853981633974483:0.007853981633974483:3.141592653589793"
      ]
     },
     "execution_count": 56,
     "metadata": {},
     "output_type": "execute_result"
    }
   ],
   "source": [
    "test_angles = range(π/400,stop=π,length=400)"
   ]
  },
  {
   "cell_type": "code",
   "execution_count": 7,
   "metadata": {},
   "outputs": [
    {
     "data": {
      "text/plain": [
       "paraWrapper (generic function with 1 method)"
      ]
     },
     "execution_count": 7,
     "metadata": {},
     "output_type": "execute_result"
    }
   ],
   "source": [
    "function paraWrapper(filename,dataname,coeffdim,iter_prod,batch_size,n_batch)\n",
    "    fid = h5open(filename,\"w\")\n",
    "    dset = create_dataset(fid, dataname, datatype(Float64), dataspace(coeffdim,length(iter_prod)), chunk=(coeffdim,batch_size),deflate=3)\n",
    "    close(fid)\n",
    "    @showprogress for i=1:n_batch\n",
    "        subset = Iterators.take(iter_prod,batch_size)\n",
    "        DHC_out = pmap(mnist_DHC,subset)\n",
    "        DHC_out = hcat(DHC_out...)\n",
    "\n",
    "        fid = h5open(filename,\"r+\")\n",
    "        data = open_dataset(fid, dataname)\n",
    "        data[:,(1:batch_size).+(i-1)*batch_size] = DHC_out\n",
    "        close(fid)\n",
    "        iter_prod = Iterators.drop(iter_prod,batch_size)\n",
    "    end\n",
    "end"
   ]
  },
  {
   "cell_type": "code",
   "execution_count": 9,
   "metadata": {},
   "outputs": [
    {
     "data": {
      "text/plain": [
       "80000"
      ]
     },
     "execution_count": 9,
     "metadata": {},
     "output_type": "execute_result"
    }
   ],
   "source": [
    "iter_prod = Iterators.product(test_angles,lst_test)\n",
    "n_batch = 50\n",
    "batch_size = length(iter_prod)÷n_batch\n",
    "\n",
    "@everywhere begin\n",
    "    using Statistics\n",
    "    using BenchmarkTools\n",
    "    using LinearAlgebra\n",
    "    using Distributed\n",
    "    using ProgressMeter\n",
    "    push!(LOAD_PATH, pwd())\n",
    "    using DHC_2DUtils\n",
    "    using FFTW\n",
    "    using MLDatasets\n",
    "    using Images\n",
    "    using Interpolations\n",
    "    \n",
    "    # filter bank\n",
    "    filter_hash = fink_filter_hash(1,4,nx=128,wd=2)\n",
    "    \n",
    "    function mnist_pad(im; θ=0.0)\n",
    "        impad = zeros(Float64,64,64)\n",
    "        impad[46:-1:19,19:46] = im'\n",
    "        imbig = imresize(impad,(128,128))\n",
    "        if θ != 0.0\n",
    "            imrot = imrotate(imbig, θ, axes(imbig), Cubic(Throw(OnGrid())))\n",
    "            imrot[findall(imrot .!= imrot)] .= 0.0\n",
    "            return imrot\n",
    "        end\n",
    "        return imbig\n",
    "    end\n",
    "    \n",
    "    function mnist_DHC(params)\n",
    "        θ, x = params\n",
    "        image    = mnist_pad(x[:,:], θ=θ)\n",
    "        WST = DHC_compute(image, filter_hash, filter_hash)\n",
    "        return WST\n",
    "    end\n",
    "    \n",
    "end\n",
    "\n",
    "coeffdim = size(mnist_DHC(collect(Iterators.take(iter_prod,1))[1]))[1]\n",
    "batch_size"
   ]
  },
  {
   "cell_type": "code",
   "execution_count": null,
   "metadata": {},
   "outputs": [
    {
     "name": "stderr",
     "output_type": "stream",
     "text": [
      "\u001b[32mProgress:  36%|██████████████▊                          |  ETA: 0:59:06\u001b[39m"
     ]
    }
   ],
   "source": [
    "paraWrapper(\"mnist_DHC_test_eq_L4.h5\", \"main/data\",coeffdim,iter_prod,batch_size,n_batch)\n",
    "\n",
    "h5write(\"mnist_DHC_test_eq_L4.h5\", \"main/angles\", collect(test_angles))"
   ]
  },
  {
   "cell_type": "code",
   "execution_count": null,
   "metadata": {},
   "outputs": [],
   "source": [
    "iter_prod = Iterators.product(test_angles,lst_test)\n",
    "n_batch = 100\n",
    "batch_size = length(iter_prod)÷n_batch\n",
    "\n",
    "@everywhere begin\n",
    "    using Statistics\n",
    "    using BenchmarkTools\n",
    "    using LinearAlgebra\n",
    "    using Distributed\n",
    "    using ProgressMeter\n",
    "    push!(LOAD_PATH, pwd())\n",
    "    using DHC_2DUtils\n",
    "    using FFTW\n",
    "    using MLDatasets\n",
    "    using Images\n",
    "    using Interpolations\n",
    "    \n",
    "    # filter bank\n",
    "    filter_hash = fink_filter_hash(1,8,nx=128,wd=2)\n",
    "    \n",
    "    function mnist_pad(im; θ=0.0)\n",
    "        impad = zeros(Float64,64,64)\n",
    "        impad[46:-1:19,19:46] = im'\n",
    "        imbig = imresize(impad,(128,128))\n",
    "        if θ != 0.0\n",
    "            imrot = imrotate(imbig, θ, axes(imbig), Cubic(Throw(OnGrid())))\n",
    "            imrot[findall(imrot .!= imrot)] .= 0.0\n",
    "            return imrot\n",
    "        end\n",
    "        return imbig\n",
    "    end\n",
    "    \n",
    "    function mnist_DHC(params)\n",
    "        θ, x = params\n",
    "        image    = mnist_pad(x[:,:], θ=θ)\n",
    "        WST = DHC_compute(image, filter_hash, filter_hash)\n",
    "        return WST\n",
    "    end\n",
    "    \n",
    "end\n",
    "\n",
    "coeffdim = size(mnist_DHC(collect(Iterators.take(iter_prod,1))[1]))[1]\n",
    "batch_size"
   ]
  },
  {
   "cell_type": "code",
   "execution_count": null,
   "metadata": {},
   "outputs": [],
   "source": [
    "paraWrapper(\"mnist_DHC_test_eq_L8.h5\", \"main/data\",coeffdim,iter_prod,batch_size,n_batch)\n",
    "\n",
    "h5write(\"mnist_DHC_test_eq_L8.h5\", \"main/angles\", collect(test_angles))"
   ]
  },
  {
   "cell_type": "code",
   "execution_count": null,
   "metadata": {},
   "outputs": [],
   "source": [
    "iter_prod = Iterators.product(train_angles,lst_train)\n",
    "n_batch = 100\n",
    "batch_size = length(iter_prod)÷n_batch\n",
    "\n",
    "@everywhere begin\n",
    "    using Statistics\n",
    "    using BenchmarkTools\n",
    "    using LinearAlgebra\n",
    "    using Distributed\n",
    "    using ProgressMeter\n",
    "    push!(LOAD_PATH, pwd())\n",
    "    using DHC_2DUtils\n",
    "    using FFTW\n",
    "    using MLDatasets\n",
    "    using Images\n",
    "    using Interpolations\n",
    "    \n",
    "    # filter bank\n",
    "    filter_hash = fink_filter_hash(1,8,nx=128,wd=2)\n",
    "    \n",
    "    function mnist_pad(im; θ=0.0)\n",
    "        impad = zeros(Float64,64,64)\n",
    "        impad[46:-1:19,19:46] = im'\n",
    "        imbig = imresize(impad,(128,128))\n",
    "        if θ != 0.0\n",
    "            imrot = imrotate(imbig, θ, axes(imbig), Cubic(Throw(OnGrid())))\n",
    "            imrot[findall(imrot .!= imrot)] .= 0.0\n",
    "            return imrot\n",
    "        end\n",
    "        return imbig\n",
    "    end\n",
    "    \n",
    "    function mnist_DHC(params)\n",
    "        θ, x = params\n",
    "        image    = mnist_pad(x[:,:], θ=θ)\n",
    "        WST = DHC_compute(image, filter_hash, filter_hash)\n",
    "        return WST\n",
    "    end\n",
    "    \n",
    "end\n",
    "\n",
    "coeffdim = size(mnist_DHC(collect(Iterators.take(iter_prod,1))[1]))[1]\n",
    "batch_size"
   ]
  },
  {
   "cell_type": "code",
   "execution_count": null,
   "metadata": {},
   "outputs": [],
   "source": [
    "paraWrapper(\"mnist_DHC_train_eq_L8.h5\", \"main/data\",coeffdim,iter_prod,batch_size,n_batch)\n",
    "\n",
    "h5write(\"mnist_DHC_train_eq_L8.h5\", \"main/angles\", collect(train_angles))"
   ]
  },
  {
   "cell_type": "code",
   "execution_count": null,
   "metadata": {},
   "outputs": [],
   "source": [
    "iter_prod = Iterators.product(test_angles,lst_test)\n",
    "n_batch = 100\n",
    "batch_size = length(iter_prod)÷n_batch\n",
    "\n",
    "@everywhere begin\n",
    "    using Statistics\n",
    "    using BenchmarkTools\n",
    "    using LinearAlgebra\n",
    "    using Distributed\n",
    "    using ProgressMeter\n",
    "    push!(LOAD_PATH, pwd())\n",
    "    using DHC_2DUtils\n",
    "    using FFTW\n",
    "    using MLDatasets\n",
    "    using Images\n",
    "    using Interpolations\n",
    "    \n",
    "    # filter bank\n",
    "    filter_hash = fink_filter_hash(1,10,nx=128,wd=2)\n",
    "    \n",
    "    function mnist_pad(im; θ=0.0)\n",
    "        impad = zeros(Float64,64,64)\n",
    "        impad[46:-1:19,19:46] = im'\n",
    "        imbig = imresize(impad,(128,128))\n",
    "        if θ != 0.0\n",
    "            imrot = imrotate(imbig, θ, axes(imbig), Cubic(Throw(OnGrid())))\n",
    "            imrot[findall(imrot .!= imrot)] .= 0.0\n",
    "            return imrot\n",
    "        end\n",
    "        return imbig\n",
    "    end\n",
    "    \n",
    "    function mnist_DHC(params)\n",
    "        θ, x = params\n",
    "        image    = mnist_pad(x[:,:], θ=θ)\n",
    "        WST = DHC_compute(image, filter_hash, filter_hash)\n",
    "        return WST\n",
    "    end\n",
    "    \n",
    "end\n",
    "\n",
    "coeffdim = size(mnist_DHC(collect(Iterators.take(iter_prod,1))[1]))[1]\n",
    "batch_size"
   ]
  },
  {
   "cell_type": "code",
   "execution_count": null,
   "metadata": {},
   "outputs": [],
   "source": [
    "paraWrapper(\"mnist_DHC_test_eq_L10.h5\", \"main/data\",coeffdim,iter_prod,batch_size,n_batch)\n",
    "\n",
    "h5write(\"mnist_DHC_test_eq_L10.h5\", \"main/angles\", collect(test_angles))"
   ]
  },
  {
   "cell_type": "code",
   "execution_count": null,
   "metadata": {},
   "outputs": [],
   "source": [
    "iter_prod = Iterators.product(train_angles,lst_train)\n",
    "n_batch = 100\n",
    "batch_size = length(iter_prod)÷n_batch\n",
    "\n",
    "@everywhere begin\n",
    "    using Statistics\n",
    "    using BenchmarkTools\n",
    "    using LinearAlgebra\n",
    "    using Distributed\n",
    "    using ProgressMeter\n",
    "    push!(LOAD_PATH, pwd())\n",
    "    using DHC_2DUtils\n",
    "    using FFTW\n",
    "    using MLDatasets\n",
    "    using Images\n",
    "    using Interpolations\n",
    "    \n",
    "    # filter bank\n",
    "    filter_hash = fink_filter_hash(1,10,nx=128,wd=2)\n",
    "    \n",
    "    function mnist_pad(im; θ=0.0)\n",
    "        impad = zeros(Float64,64,64)\n",
    "        impad[46:-1:19,19:46] = im'\n",
    "        imbig = imresize(impad,(128,128))\n",
    "        if θ != 0.0\n",
    "            imrot = imrotate(imbig, θ, axes(imbig), Cubic(Throw(OnGrid())))\n",
    "            imrot[findall(imrot .!= imrot)] .= 0.0\n",
    "            return imrot\n",
    "        end\n",
    "        return imbig\n",
    "    end\n",
    "    \n",
    "    function mnist_DHC(params)\n",
    "        θ, x = params\n",
    "        image    = mnist_pad(x[:,:], θ=θ)\n",
    "        WST = DHC_compute(image, filter_hash, filter_hash)\n",
    "        return WST\n",
    "    end\n",
    "    \n",
    "end\n",
    "\n",
    "coeffdim = size(mnist_DHC(collect(Iterators.take(iter_prod,1))[1]))[1]\n",
    "batch_size"
   ]
  },
  {
   "cell_type": "code",
   "execution_count": null,
   "metadata": {},
   "outputs": [],
   "source": [
    "paraWrapper(\"mnist_DHC_train_eq_L10.h5\", \"main/data\",coeffdim,iter_prod,batch_size,n_batch)\n",
    "\n",
    "h5write(\"mnist_DHC_train_eq_L10.h5\", \"main/angles\", collect(train_angles))"
   ]
  },
  {
   "cell_type": "code",
   "execution_count": null,
   "metadata": {},
   "outputs": [],
   "source": [
    "iter_prod = Iterators.product(test_angles,lst_test)\n",
    "n_batch = 100\n",
    "batch_size = length(iter_prod)÷n_batch\n",
    "\n",
    "@everywhere begin\n",
    "    using Statistics\n",
    "    using BenchmarkTools\n",
    "    using LinearAlgebra\n",
    "    using Distributed\n",
    "    using ProgressMeter\n",
    "    push!(LOAD_PATH, pwd())\n",
    "    using DHC_2DUtils\n",
    "    using FFTW\n",
    "    using MLDatasets\n",
    "    using Images\n",
    "    using Interpolations\n",
    "    \n",
    "    # filter bank\n",
    "    filter_hash = fink_filter_hash(1,12,nx=128,wd=2)\n",
    "    \n",
    "    function mnist_pad(im; θ=0.0)\n",
    "        impad = zeros(Float64,64,64)\n",
    "        impad[46:-1:19,19:46] = im'\n",
    "        imbig = imresize(impad,(128,128))\n",
    "        if θ != 0.0\n",
    "            imrot = imrotate(imbig, θ, axes(imbig), Cubic(Throw(OnGrid())))\n",
    "            imrot[findall(imrot .!= imrot)] .= 0.0\n",
    "            return imrot\n",
    "        end\n",
    "        return imbig\n",
    "    end\n",
    "    \n",
    "    function mnist_DHC(params)\n",
    "        θ, x = params\n",
    "        image    = mnist_pad(x[:,:], θ=θ)\n",
    "        WST = DHC_compute(image, filter_hash, filter_hash)\n",
    "        return WST\n",
    "    end\n",
    "    \n",
    "end\n",
    "\n",
    "coeffdim = size(mnist_DHC(collect(Iterators.take(iter_prod,1))[1]))[1]\n",
    "batch_size"
   ]
  },
  {
   "cell_type": "code",
   "execution_count": null,
   "metadata": {},
   "outputs": [],
   "source": [
    "paraWrapper(\"mnist_DHC_test_eq_L12.h5\", \"main/data\",coeffdim,iter_prod,batch_size,n_batch)\n",
    "\n",
    "h5write(\"mnist_DHC_test_eq_L12.h5\", \"main/angles\", collect(test_angles))"
   ]
  },
  {
   "cell_type": "code",
   "execution_count": null,
   "metadata": {},
   "outputs": [],
   "source": [
    "iter_prod = Iterators.product(train_angles,lst_train)\n",
    "n_batch = 100\n",
    "batch_size = length(iter_prod)÷n_batch\n",
    "\n",
    "@everywhere begin\n",
    "    using Statistics\n",
    "    using BenchmarkTools\n",
    "    using LinearAlgebra\n",
    "    using Distributed\n",
    "    using ProgressMeter\n",
    "    push!(LOAD_PATH, pwd())\n",
    "    using DHC_2DUtils\n",
    "    using FFTW\n",
    "    using MLDatasets\n",
    "    using Images\n",
    "    using Interpolations\n",
    "    \n",
    "    # filter bank\n",
    "    filter_hash = fink_filter_hash(1,12,nx=128,wd=2)\n",
    "    \n",
    "    function mnist_pad(im; θ=0.0)\n",
    "        impad = zeros(Float64,64,64)\n",
    "        impad[46:-1:19,19:46] = im'\n",
    "        imbig = imresize(impad,(128,128))\n",
    "        if θ != 0.0\n",
    "            imrot = imrotate(imbig, θ, axes(imbig), Cubic(Throw(OnGrid())))\n",
    "            imrot[findall(imrot .!= imrot)] .= 0.0\n",
    "            return imrot\n",
    "        end\n",
    "        return imbig\n",
    "    end\n",
    "    \n",
    "    function mnist_DHC(params)\n",
    "        θ, x = params\n",
    "        image    = mnist_pad(x[:,:], θ=θ)\n",
    "        WST = DHC_compute(image, filter_hash, filter_hash)\n",
    "        return WST\n",
    "    end\n",
    "    \n",
    "end\n",
    "\n",
    "coeffdim = size(mnist_DHC(collect(Iterators.take(iter_prod,1))[1]))[1]\n",
    "batch_size"
   ]
  },
  {
   "cell_type": "code",
   "execution_count": null,
   "metadata": {},
   "outputs": [],
   "source": [
    "paraWrapper(\"mnist_DHC_train_eq_L12.h5\", \"main/data\",coeffdim,iter_prod,batch_size,n_batch)\n",
    "\n",
    "h5write(\"mnist_DHC_train_eq_L12.h5\", \"main/angles\", collect(train_angles))"
   ]
  },
  {
   "cell_type": "code",
   "execution_count": null,
   "metadata": {},
   "outputs": [],
   "source": []
  }
 ],
 "metadata": {
  "kernelspec": {
   "display_name": "Julia 1.3.1",
   "language": "julia",
   "name": "julia-1.3"
  },
  "language_info": {
   "file_extension": ".jl",
   "mimetype": "application/julia",
   "name": "julia",
   "version": "1.3.1"
  }
 },
 "nbformat": 4,
 "nbformat_minor": 2
}
