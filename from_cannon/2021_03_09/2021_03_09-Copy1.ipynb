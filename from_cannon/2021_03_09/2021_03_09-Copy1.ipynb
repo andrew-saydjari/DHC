{
 "cells": [
  {
   "cell_type": "code",
   "execution_count": 1,
   "metadata": {},
   "outputs": [
    {
     "name": "stderr",
     "output_type": "stream",
     "text": [
      "WARNING: importing deprecated binding HDF5.HDF5Group into _hdf5_implementation.\n",
      "WARNING: importing deprecated binding HDF5.HDF5Dataset into _hdf5_implementation.\n",
      "WARNING: HDF5.HDF5Group is deprecated, use HDF5.Group instead.\n",
      "  likely near /n/home12/saydjari/.julia/packages/Plots/uCh2y/src/backends/hdf5.jl:162\n",
      "WARNING: HDF5.HDF5Dataset is deprecated, use HDF5.Dataset instead.\n",
      "  likely near /n/home12/saydjari/.julia/packages/Plots/uCh2y/src/backends/hdf5.jl:162\n",
      "WARNING: HDF5.HDF5Group is deprecated, use HDF5.Group instead.\n",
      "  likely near /n/home12/saydjari/.julia/packages/Plots/uCh2y/src/backends/hdf5.jl:166\n",
      "WARNING: HDF5.HDF5Dataset is deprecated, use HDF5.Dataset instead.\n",
      "  likely near /n/home12/saydjari/.julia/packages/Plots/uCh2y/src/backends/hdf5.jl:166\n",
      "WARNING: HDF5.HDF5Dataset is deprecated, use HDF5.Dataset instead.\n",
      "  likely near /n/home12/saydjari/.julia/packages/Plots/uCh2y/src/backends/hdf5.jl:176\n",
      "WARNING: HDF5.HDF5Dataset is deprecated, use HDF5.Dataset instead.\n",
      "  likely near /n/home12/saydjari/.julia/packages/Plots/uCh2y/src/backends/hdf5.jl:179\n",
      "WARNING: HDF5.HDF5Group is deprecated, use HDF5.Group instead.\n",
      "  likely near /n/home12/saydjari/.julia/packages/Plots/uCh2y/src/backends/hdf5.jl:181\n",
      "WARNING: HDF5.HDF5Group is deprecated, use HDF5.Group instead.\n",
      "  likely near /n/home12/saydjari/.julia/packages/Plots/uCh2y/src/backends/hdf5.jl:184\n",
      "WARNING: HDF5.HDF5Group is deprecated, use HDF5.Group instead.\n",
      "  likely near /n/home12/saydjari/.julia/packages/Plots/uCh2y/src/backends/hdf5.jl:186\n",
      "WARNING: HDF5.HDF5Group is deprecated, use HDF5.Group instead.\n",
      "  likely near /n/home12/saydjari/.julia/packages/Plots/uCh2y/src/backends/hdf5.jl:189\n",
      "WARNING: HDF5.HDF5Group is deprecated, use HDF5.Group instead.\n",
      "  likely near /n/home12/saydjari/.julia/packages/Plots/uCh2y/src/backends/hdf5.jl:203\n",
      "WARNING: HDF5.HDF5Group is deprecated, use HDF5.Group instead.\n",
      "  likely near /n/home12/saydjari/.julia/packages/Plots/uCh2y/src/backends/hdf5.jl:207\n",
      "WARNING: HDF5.HDF5Group is deprecated, use HDF5.Group instead.\n",
      "  likely near /n/home12/saydjari/.julia/packages/Plots/uCh2y/src/backends/hdf5.jl:211\n",
      "WARNING: HDF5.HDF5Group is deprecated, use HDF5.Group instead.\n",
      "  likely near /n/home12/saydjari/.julia/packages/Plots/uCh2y/src/backends/hdf5.jl:215\n",
      "WARNING: HDF5.HDF5Group is deprecated, use HDF5.Group instead.\n",
      "  likely near /n/home12/saydjari/.julia/packages/Plots/uCh2y/src/backends/hdf5.jl:220\n",
      "WARNING: HDF5.HDF5Group is deprecated, use HDF5.Group instead.\n",
      "  likely near /n/home12/saydjari/.julia/packages/Plots/uCh2y/src/backends/hdf5.jl:224\n",
      "WARNING: HDF5.HDF5Group is deprecated, use HDF5.Group instead.\n",
      "  likely near /n/home12/saydjari/.julia/packages/Plots/uCh2y/src/backends/hdf5.jl:229\n",
      "WARNING: HDF5.HDF5Group is deprecated, use HDF5.Group instead.\n",
      "  likely near /n/home12/saydjari/.julia/packages/Plots/uCh2y/src/backends/hdf5.jl:233\n",
      "WARNING: HDF5.HDF5Group is deprecated, use HDF5.Group instead.\n",
      "  likely near /n/home12/saydjari/.julia/packages/Plots/uCh2y/src/backends/hdf5.jl:237\n",
      "WARNING: HDF5.HDF5Group is deprecated, use HDF5.Group instead.\n",
      "  likely near /n/home12/saydjari/.julia/packages/Plots/uCh2y/src/backends/hdf5.jl:247\n",
      "WARNING: HDF5.HDF5Group is deprecated, use HDF5.Group instead.\n",
      "  likely near /n/home12/saydjari/.julia/packages/Plots/uCh2y/src/backends/hdf5.jl:263\n",
      "WARNING: HDF5.HDF5Group is deprecated, use HDF5.Group instead.\n",
      "  likely near /n/home12/saydjari/.julia/packages/Plots/uCh2y/src/backends/hdf5.jl:273\n",
      "WARNING: HDF5.HDF5Group is deprecated, use HDF5.Group instead.\n",
      "  likely near /n/home12/saydjari/.julia/packages/Plots/uCh2y/src/backends/hdf5.jl:286\n",
      "WARNING: HDF5.HDF5Group is deprecated, use HDF5.Group instead.\n",
      "  likely near /n/home12/saydjari/.julia/packages/Plots/uCh2y/src/backends/hdf5.jl:302\n",
      "WARNING: HDF5.HDF5Group is deprecated, use HDF5.Group instead.\n",
      "  likely near /n/home12/saydjari/.julia/packages/Plots/uCh2y/src/backends/hdf5.jl:307\n",
      "WARNING: HDF5.HDF5Group is deprecated, use HDF5.Group instead.\n",
      "  likely near /n/home12/saydjari/.julia/packages/Plots/uCh2y/src/backends/hdf5.jl:311\n",
      "WARNING: HDF5.HDF5Group is deprecated, use HDF5.Group instead.\n",
      "  likely near /n/home12/saydjari/.julia/packages/Plots/uCh2y/src/backends/hdf5.jl:315\n",
      "WARNING: HDF5.HDF5Group is deprecated, use HDF5.Group instead.\n",
      "  likely near /n/home12/saydjari/.julia/packages/Plots/uCh2y/src/backends/hdf5.jl:317\n",
      "WARNING: HDF5.HDF5Group is deprecated, use HDF5.Group instead.\n",
      "  likely near /n/home12/saydjari/.julia/packages/Plots/uCh2y/src/backends/hdf5.jl:326\n",
      "WARNING: HDF5.HDF5Group is deprecated, use HDF5.Group instead.\n",
      "  likely near /n/home12/saydjari/.julia/packages/Plots/uCh2y/src/backends/hdf5.jl:331\n",
      "WARNING: HDF5.HDF5Group is deprecated, use HDF5.Group instead.\n",
      "  likely near /n/home12/saydjari/.julia/packages/Plots/uCh2y/src/backends/hdf5.jl:338\n",
      "WARNING: HDF5.HDF5Group is deprecated, use HDF5.Group instead.\n",
      "  likely near /n/home12/saydjari/.julia/packages/Plots/uCh2y/src/backends/hdf5.jl:346\n",
      "WARNING: HDF5.HDF5Group is deprecated, use HDF5.Group instead.\n",
      "  likely near /n/home12/saydjari/.julia/packages/Plots/uCh2y/src/backends/hdf5.jl:355\n",
      "WARNING: HDF5.HDF5Group is deprecated, use HDF5.Group instead.\n",
      "  likely near /n/home12/saydjari/.julia/packages/Plots/uCh2y/src/backends/hdf5.jl:368\n",
      "WARNING: HDF5.HDF5Dataset is deprecated, use HDF5.Dataset instead.\n",
      "  likely near /n/home12/saydjari/.julia/packages/Plots/uCh2y/src/backends/hdf5.jl:394\n",
      "WARNING: HDF5.HDF5Dataset is deprecated, use HDF5.Dataset instead.\n",
      "  likely near /n/home12/saydjari/.julia/packages/Plots/uCh2y/src/backends/hdf5.jl:396\n",
      "WARNING: HDF5.HDF5Dataset is deprecated, use HDF5.Dataset instead.\n",
      "  likely near /n/home12/saydjari/.julia/packages/Plots/uCh2y/src/backends/hdf5.jl:405\n",
      "WARNING: HDF5.HDF5Dataset is deprecated, use HDF5.Dataset instead.\n",
      "  likely near /n/home12/saydjari/.julia/packages/Plots/uCh2y/src/backends/hdf5.jl:406\n",
      "WARNING: HDF5.HDF5Dataset is deprecated, use HDF5.Dataset instead.\n",
      "  likely near /n/home12/saydjari/.julia/packages/Plots/uCh2y/src/backends/hdf5.jl:407\n",
      "WARNING: HDF5.HDF5Dataset is deprecated, use HDF5.Dataset instead.\n",
      "  likely near /n/home12/saydjari/.julia/packages/Plots/uCh2y/src/backends/hdf5.jl:408\n",
      "WARNING: HDF5.HDF5Dataset is deprecated, use HDF5.Dataset instead.\n",
      "  likely near /n/home12/saydjari/.julia/packages/Plots/uCh2y/src/backends/hdf5.jl:412\n",
      "WARNING: HDF5.HDF5Dataset is deprecated, use HDF5.Dataset instead.\n",
      "  likely near /n/home12/saydjari/.julia/packages/Plots/uCh2y/src/backends/hdf5.jl:418\n",
      "WARNING: HDF5.HDF5Group is deprecated, use HDF5.Group instead.\n",
      "  likely near /n/home12/saydjari/.julia/packages/Plots/uCh2y/src/backends/hdf5.jl:425\n",
      "WARNING: HDF5.HDF5Group is deprecated, use HDF5.Group instead.\n",
      "  likely near /n/home12/saydjari/.julia/packages/Plots/uCh2y/src/backends/hdf5.jl:432\n",
      "WARNING: HDF5.HDF5Group is deprecated, use HDF5.Group instead.\n",
      "  likely near /n/home12/saydjari/.julia/packages/Plots/uCh2y/src/backends/hdf5.jl:441\n",
      "WARNING: HDF5.HDF5Group is deprecated, use HDF5.Group instead.\n",
      "  likely near /n/home12/saydjari/.julia/packages/Plots/uCh2y/src/backends/hdf5.jl:462\n",
      "WARNING: HDF5.HDF5Group is deprecated, use HDF5.Group instead.\n",
      "  likely near /n/home12/saydjari/.julia/packages/Plots/uCh2y/src/backends/hdf5.jl:464\n",
      "WARNING: HDF5.HDF5Group is deprecated, use HDF5.Group instead.\n",
      "  likely near /n/home12/saydjari/.julia/packages/Plots/uCh2y/src/backends/hdf5.jl:482\n",
      "WARNING: HDF5.HDF5Group is deprecated, use HDF5.Group instead.\n",
      "  likely near /n/home12/saydjari/.julia/packages/Plots/uCh2y/src/backends/hdf5.jl:484\n",
      "WARNING: HDF5.HDF5Group is deprecated, use HDF5.Group instead.\n",
      "  likely near /n/home12/saydjari/.julia/packages/Plots/uCh2y/src/backends/hdf5.jl:497\n",
      "WARNING: HDF5.HDF5Group is deprecated, use HDF5.Group instead.\n",
      "  likely near /n/home12/saydjari/.julia/packages/Plots/uCh2y/src/backends/hdf5.jl:503\n",
      "WARNING: HDF5.HDF5Group is deprecated, use HDF5.Group instead.\n",
      "  likely near /n/home12/saydjari/.julia/packages/Plots/uCh2y/src/backends/hdf5.jl:507\n",
      "WARNING: HDF5.HDF5Group is deprecated, use HDF5.Group instead.\n",
      "  likely near /n/home12/saydjari/.julia/packages/Plots/uCh2y/src/backends/hdf5.jl:517\n",
      "WARNING: HDF5.HDF5Group is deprecated, use HDF5.Group instead.\n",
      "  likely near /n/home12/saydjari/.julia/packages/Plots/uCh2y/src/backends/hdf5.jl:536\n"
     ]
    }
   ],
   "source": [
    "## Preloads\n",
    "using Statistics\n",
    "using FFTW\n",
    "using Plots\n",
    "using BenchmarkTools\n",
    "using Profile\n",
    "using LinearAlgebra\n",
    "using Measures\n",
    "using HDF5\n",
    "push!(LOAD_PATH, pwd())\n",
    "using DHC_2DUtils\n",
    "using MLDatasets\n",
    "using Images\n",
    "theme(:juno)\n",
    "using DSP\n",
    "using Interpolations\n",
    "using Distributed\n",
    "using ProgressMeter"
   ]
  },
  {
   "cell_type": "code",
   "execution_count": 2,
   "metadata": {},
   "outputs": [
    {
     "data": {
      "text/plain": [
       "0.06544984694978735:0.06544984694978735:3.141592653589793"
      ]
     },
     "execution_count": 2,
     "metadata": {},
     "output_type": "execute_result"
    }
   ],
   "source": [
    "train_angles =range(π/48,stop=π,length=48)"
   ]
  },
  {
   "cell_type": "code",
   "execution_count": 3,
   "metadata": {},
   "outputs": [
    {
     "data": {
      "text/plain": [
       "0.007853981633974483:0.007853981633974483:3.141592653589793"
      ]
     },
     "execution_count": 3,
     "metadata": {},
     "output_type": "execute_result"
    }
   ],
   "source": [
    "test_angles = range(π/400,stop=π,length=400)"
   ]
  },
  {
   "cell_type": "code",
   "execution_count": 4,
   "metadata": {},
   "outputs": [
    {
     "data": {
      "text/plain": [
       "1-element Array{Int64,1}:\n",
       " 1"
      ]
     },
     "execution_count": 4,
     "metadata": {},
     "output_type": "execute_result"
    }
   ],
   "source": [
    "workers()"
   ]
  },
  {
   "cell_type": "code",
   "execution_count": 5,
   "metadata": {},
   "outputs": [
    {
     "data": {
      "text/plain": [
       "30-element Array{Int64,1}:\n",
       "  2\n",
       "  3\n",
       "  4\n",
       "  5\n",
       "  6\n",
       "  7\n",
       "  8\n",
       "  9\n",
       " 10\n",
       " 11\n",
       " 12\n",
       " 13\n",
       " 14\n",
       "  ⋮\n",
       " 20\n",
       " 21\n",
       " 22\n",
       " 23\n",
       " 24\n",
       " 25\n",
       " 26\n",
       " 27\n",
       " 28\n",
       " 29\n",
       " 30\n",
       " 31"
      ]
     },
     "execution_count": 5,
     "metadata": {},
     "output_type": "execute_result"
    }
   ],
   "source": [
    "addprocs(30)"
   ]
  },
  {
   "cell_type": "code",
   "execution_count": 6,
   "metadata": {},
   "outputs": [],
   "source": [
    "train_x, train_y = MNIST.traindata()\n",
    "test_x, test_y   = MNIST.testdata()\n",
    "\n",
    "lst_train = Array{Any}(undef, 0)\n",
    "for i = 1:60000\n",
    "    push!(lst_train,train_x[:,:,i])\n",
    "end\n",
    "\n",
    "\n",
    "lst_test = Array{Any}(undef, 0)\n",
    "for i = 1:10000\n",
    "    push!(lst_test,test_x[:,:,i])\n",
    "end"
   ]
  },
  {
   "cell_type": "code",
   "execution_count": 7,
   "metadata": {},
   "outputs": [
    {
     "name": "stderr",
     "output_type": "stream",
     "text": [
      "\u001b[32mProgress: 100%|█████████████████████████████████████████| Time: 2:31:27\u001b[39m\n"
     ]
    }
   ],
   "source": [
    "@everywhere begin\n",
    "    using Statistics\n",
    "    using BenchmarkTools\n",
    "    using LinearAlgebra\n",
    "    using Distributed\n",
    "    using ProgressMeter\n",
    "    push!(LOAD_PATH, pwd())\n",
    "    using DHC_2DUtils\n",
    "    using FFTW\n",
    "    using MLDatasets\n",
    "    using Images\n",
    "    using Interpolations\n",
    "    \n",
    "    # filter bank\n",
    "    filter_hash = fink_filter_hash(1,6,nx=128,wd=2)\n",
    "    \n",
    "    function mnist_pad(im; θ=0.0)\n",
    "        impad = zeros(Float64,64,64)\n",
    "        impad[46:-1:19,19:46] = im'\n",
    "        imbig = imresize(impad,(128,128))\n",
    "        if θ != 0.0\n",
    "            imrot = imrotate(imbig, θ, axes(imbig), Cubic(Throw(OnGrid())))\n",
    "            imrot[findall(imrot .!= imrot)] .= 0.0\n",
    "            return imrot\n",
    "        end\n",
    "        return imbig\n",
    "    end\n",
    "    \n",
    "    function mnist_DHC(params)\n",
    "        θ, x = params\n",
    "        image    = mnist_pad(x[:,:], θ=θ)\n",
    "        WST = DHC_compute(image, filter_hash, filter_hash)\n",
    "        return WST\n",
    "    end\n",
    "    \n",
    "end\n",
    " \n",
    "mnist_DHC_out = @showprogress pmap(mnist_DHC, Iterators.product(train_angles,lst_train))\n",
    "mnist_DHC_out = hcat(mnist_DHC_out...)\n",
    "\n",
    "h5write(\"mnist_DHC_train_eq_L6.h5\", \"main/data\", mnist_DHC_out)\n",
    "h5write(\"mnist_DHC_train_eq_L6.h5\", \"main/angles\", collect(train_angles))"
   ]
  },
  {
   "cell_type": "code",
   "execution_count": 7,
   "metadata": {},
   "outputs": [
    {
     "name": "stderr",
     "output_type": "stream",
     "text": [
      "\u001b[32mProgress: 100%|█████████████████████████████████████████| Time: 4:08:28\u001b[39m\n"
     ]
    }
   ],
   "source": [
    "@everywhere begin\n",
    "    using Statistics\n",
    "    using BenchmarkTools\n",
    "    using LinearAlgebra\n",
    "    using Distributed\n",
    "    using ProgressMeter\n",
    "    push!(LOAD_PATH, pwd())\n",
    "    using DHC_2DUtils\n",
    "    using FFTW\n",
    "    using MLDatasets\n",
    "    using Images\n",
    "    using Interpolations\n",
    "    \n",
    "    # filter bank\n",
    "    filter_hash = fink_filter_hash(1,6,nx=128,wd=2)\n",
    "    \n",
    "    function mnist_pad(im; θ=0.0)\n",
    "        impad = zeros(Float64,64,64)\n",
    "        impad[46:-1:19,19:46] = im'\n",
    "        imbig = imresize(impad,(128,128))\n",
    "        if θ != 0.0\n",
    "            imrot = imrotate(imbig, θ, axes(imbig), Cubic(Throw(OnGrid())))\n",
    "            imrot[findall(imrot .!= imrot)] .= 0.0\n",
    "            return imrot\n",
    "        end\n",
    "        return imbig\n",
    "    end\n",
    "    \n",
    "    function mnist_DHC(params)\n",
    "        θ, x = params\n",
    "        image    = mnist_pad(x[:,:], θ=θ)\n",
    "        WST = DHC_compute(image, filter_hash, filter_hash)\n",
    "        return WST\n",
    "    end\n",
    "    \n",
    "end\n",
    " \n",
    "mnist_DHC_out = @showprogress pmap(mnist_DHC, Iterators.product(test_angles,lst_test))\n",
    "mnist_DHC_out = hcat(mnist_DHC_out...)\n",
    "\n",
    "h5write(\"mnist_DHC_test_eq_L6.h5\", \"main/data\", mnist_DHC_out)\n",
    "h5write(\"mnist_DHC_test_eq_L6.h5\", \"main/angles\", collect(test_angles))"
   ]
  },
  {
   "cell_type": "code",
   "execution_count": null,
   "metadata": {},
   "outputs": [
    {
     "name": "stderr",
     "output_type": "stream",
     "text": [
      "Worker 30 terminated.\n",
      "Worker 9 terminated.\n",
      "Worker 11 terminated.\n",
      "Worker 16 terminated.\n",
      "Worker 28 terminated.\n",
      "Worker 26 terminated.\n",
      "Worker 4 terminated.\n",
      "Worker 7 terminated.\n",
      "Worker 5 terminated.\n",
      "Worker 31 terminated.\n",
      "Worker 18 terminated.\n",
      "\u001b[32mProgress:  90%|████████████████████████████████████▊    |  ETA: 0:11:02\u001b[39m"
     ]
    }
   ],
   "source": [
    "@everywhere begin\n",
    "    using Statistics\n",
    "    using BenchmarkTools\n",
    "    using LinearAlgebra\n",
    "    using Distributed\n",
    "    using ProgressMeter\n",
    "    push!(LOAD_PATH, pwd())\n",
    "    using DHC_2DUtils\n",
    "    using FFTW\n",
    "    using MLDatasets\n",
    "    using Images\n",
    "    using Interpolations\n",
    "    \n",
    "    # filter bank\n",
    "    filter_hash = fink_filter_hash(1,4,nx=128,wd=2)\n",
    "    \n",
    "    function mnist_pad(im; θ=0.0)\n",
    "        impad = zeros(Float64,64,64)\n",
    "        impad[46:-1:19,19:46] = im'\n",
    "        imbig = imresize(impad,(128,128))\n",
    "        if θ != 0.0\n",
    "            imrot = imrotate(imbig, θ, axes(imbig), Cubic(Throw(OnGrid())))\n",
    "            imrot[findall(imrot .!= imrot)] .= 0.0\n",
    "            return imrot\n",
    "        end\n",
    "        return imbig\n",
    "    end\n",
    "    \n",
    "    function mnist_DHC(params)\n",
    "        θ, x = params\n",
    "        image    = mnist_pad(x[:,:], θ=θ)\n",
    "        WST = DHC_compute(image, filter_hash, filter_hash)\n",
    "        return WST\n",
    "    end\n",
    "    \n",
    "end\n",
    " \n",
    "mnist_DHC_out = @showprogress pmap(mnist_DHC, Iterators.product(train_angles,lst_train))\n",
    "mnist_DHC_out = hcat(mnist_DHC_out...)\n",
    "\n",
    "h5write(\"mnist_DHC_train_eq_L4.h5\", \"main/data\", mnist_DHC_out)\n",
    "h5write(\"mnist_DHC_train_eq_L4.h5\", \"main/angles\", collect(train_angles))"
   ]
  },
  {
   "cell_type": "code",
   "execution_count": null,
   "metadata": {},
   "outputs": [],
   "source": [
    "@everywhere begin\n",
    "    using Statistics\n",
    "    using BenchmarkTools\n",
    "    using LinearAlgebra\n",
    "    using Distributed\n",
    "    using ProgressMeter\n",
    "    push!(LOAD_PATH, pwd())\n",
    "    using DHC_2DUtils\n",
    "    using FFTW\n",
    "    using MLDatasets\n",
    "    using Images\n",
    "    using Interpolations\n",
    "    \n",
    "    # filter bank\n",
    "    filter_hash = fink_filter_hash(1,4,nx=128,wd=2)\n",
    "    \n",
    "    function mnist_pad(im; θ=0.0)\n",
    "        impad = zeros(Float64,64,64)\n",
    "        impad[46:-1:19,19:46] = im'\n",
    "        imbig = imresize(impad,(128,128))\n",
    "        if θ != 0.0\n",
    "            imrot = imrotate(imbig, θ, axes(imbig), Cubic(Throw(OnGrid())))\n",
    "            imrot[findall(imrot .!= imrot)] .= 0.0\n",
    "            return imrot\n",
    "        end\n",
    "        return imbig\n",
    "    end\n",
    "    \n",
    "    function mnist_DHC(params)\n",
    "        θ, x = params\n",
    "        image    = mnist_pad(x[:,:], θ=θ)\n",
    "        WST = DHC_compute(image, filter_hash, filter_hash)\n",
    "        return WST\n",
    "    end\n",
    "    \n",
    "end\n",
    " \n",
    "mnist_DHC_out = @showprogress pmap(mnist_DHC, Iterators.product(test_angles,lst_test))\n",
    "mnist_DHC_out = hcat(mnist_DHC_out...)\n",
    "\n",
    "h5write(\"mnist_DHC_test_eq_L4.h5\", \"main/data\", mnist_DHC_out)\n",
    "h5write(\"mnist_DHC_test_eq_L4.h5\", \"main/angles\", collect(test_angles))"
   ]
  },
  {
   "cell_type": "code",
   "execution_count": null,
   "metadata": {},
   "outputs": [],
   "source": [
    "test_angles = range(π/2,stop=π,length=2)"
   ]
  },
  {
   "cell_type": "code",
   "execution_count": null,
   "metadata": {},
   "outputs": [],
   "source": [
    "iter_prod = Iterators.product(test_angles,lst_test)\n",
    "n_batch = 10\n",
    "batch_size = length(iter_prod)÷n_batch"
   ]
  },
  {
   "cell_type": "code",
   "execution_count": null,
   "metadata": {},
   "outputs": [],
   "source": [
    "fid = h5open(\"mnist_DHC_test_eq_L4t.h5\",\"w\")\n",
    "dset = create_dataset(fid, \"main/data\", datatype(Float64), dataspace(2,400), chunk=(2,40),suhffle=(),deflate=3)\n",
    "close(fid)\n",
    "for i=1:n_batch\n",
    "    subset = Iterators.take(iter_prod,batch_size)\n",
    "    mnist_DHC_out = @showprogress pmap(mnist_DHC,subset)\n",
    "    mnist_DHC_out = hcat(mnist_DHC_out...)\n",
    "    \n",
    "    fid = h5open(\"mnist_DHC_test_eq_L4t.h5\",\"r+\")\n",
    "    data = open_dataset(fid, \"main/data\")\n",
    "    data[:,(1:batch_size).+(i-1)*batch_size] = temp\n",
    "    close(fid)\n",
    "    iter_prod = Iterators.drop(iter_prod,batch_size)\n",
    "end\n",
    "\n",
    "A = h5read(\"mnist_DHC_test_eq_L4t.h5\", \"main/data\")"
   ]
  },
  {
   "cell_type": "code",
   "execution_count": null,
   "metadata": {},
   "outputs": [],
   "source": []
  }
 ],
 "metadata": {
  "kernelspec": {
   "display_name": "Julia 1.3.1",
   "language": "julia",
   "name": "julia-1.3"
  },
  "language_info": {
   "file_extension": ".jl",
   "mimetype": "application/julia",
   "name": "julia",
   "version": "1.3.1"
  }
 },
 "nbformat": 4,
 "nbformat_minor": 2
}
