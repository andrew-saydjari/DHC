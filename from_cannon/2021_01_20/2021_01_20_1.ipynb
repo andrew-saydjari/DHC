{
 "cells": [
  {
   "cell_type": "code",
   "execution_count": 1,
   "metadata": {},
   "outputs": [],
   "source": [
    "using Distributed"
   ]
  },
  {
   "cell_type": "code",
   "execution_count": 2,
   "metadata": {},
   "outputs": [],
   "source": [
    "M = 100\n",
    "angle_array = []\n",
    "for i = 2π/M:2π/M:2π\n",
    "    append!(angle_array,i)\n",
    "end"
   ]
  },
  {
   "cell_type": "code",
   "execution_count": 3,
   "metadata": {},
   "outputs": [
    {
     "data": {
      "text/plain": [
       "31-element Array{Int64,1}:\n",
       "  2\n",
       "  3\n",
       "  4\n",
       "  5\n",
       "  6\n",
       "  7\n",
       "  8\n",
       "  9\n",
       " 10\n",
       " 11\n",
       " 12\n",
       " 13\n",
       " 14\n",
       "  ⋮\n",
       " 21\n",
       " 22\n",
       " 23\n",
       " 24\n",
       " 25\n",
       " 26\n",
       " 27\n",
       " 28\n",
       " 29\n",
       " 30\n",
       " 31\n",
       " 32"
      ]
     },
     "execution_count": 3,
     "metadata": {},
     "output_type": "execute_result"
    }
   ],
   "source": [
    "addprocs(31)"
   ]
  },
  {
   "cell_type": "code",
   "execution_count": 8,
   "metadata": {},
   "outputs": [],
   "source": [
    "using Pkg\n",
    "Pkg.instantiate()"
   ]
  },
  {
   "cell_type": "code",
   "execution_count": 7,
   "metadata": {},
   "outputs": [],
   "source": [
    "using Statistics\n",
    "using BenchmarkTools\n",
    "using LinearAlgebra\n",
    "using Distributed\n",
    "using ProgressMeter\n",
    "push!(LOAD_PATH, pwd())\n",
    "using DHC_2DUtils\n",
    "using FFTW\n",
    "using MLDatasets\n",
    "using Images\n",
    "using Interpolations"
   ]
  },
  {
   "cell_type": "code",
   "execution_count": 9,
   "metadata": {},
   "outputs": [],
   "source": [
    "L = 8\n",
    "rand_mat = rand(16,16)\n",
    "filter_hash = fink_filter_hash(1,L,nx=16,wd=2)\n",
    "temp = DHC_compute(rand_mat,filter_hash);"
   ]
  },
  {
   "cell_type": "code",
   "execution_count": 15,
   "metadata": {},
   "outputs": [],
   "source": [
    "using HDF5"
   ]
  },
  {
   "cell_type": "code",
   "execution_count": 10,
   "metadata": {},
   "outputs": [
    {
     "name": "stdout",
     "output_type": "stream",
     "text": [
      "\u001b[32m\u001b[1m Resolving\u001b[22m\u001b[39m package versions...\n",
      "\u001b[32m\u001b[1m  Updating\u001b[22m\u001b[39m `~/.julia/environments/v1.3/Project.toml`\n",
      " \u001b[90m [c8e1da08]\u001b[39m\u001b[92m + IterTools v1.3.0\u001b[39m\n",
      "\u001b[32m\u001b[1m  Updating\u001b[22m\u001b[39m `~/.julia/environments/v1.3/Manifest.toml`\n",
      "\u001b[90m [no changes]\u001b[39m\n"
     ]
    }
   ],
   "source": [
    "using Pkg\n",
    "Pkg.add(\"IterTools\")"
   ]
  },
  {
   "cell_type": "code",
   "execution_count": 11,
   "metadata": {},
   "outputs": [],
   "source": [
    "using IterTools"
   ]
  },
  {
   "cell_type": "code",
   "execution_count": 13,
   "metadata": {},
   "outputs": [],
   "source": [
    "train_x, train_y = MNIST.traindata()\n",
    "test_x, test_y   = MNIST.testdata()\n",
    "\n",
    "lst_test = Array{Any}(undef, 0)\n",
    "for i = 1:10000\n",
    "    push!(lst_test,test_x[:,:,i])\n",
    "end"
   ]
  },
  {
   "cell_type": "code",
   "execution_count": 14,
   "metadata": {},
   "outputs": [
    {
     "name": "stderr",
     "output_type": "stream",
     "text": [
      "┌ Warning: `product(xss...)` is deprecated, use `Iterators.product(xss...)` instead.\n",
      "│   caller = top-level scope at In[14]:37\n",
      "└ @ Core In[14]:37\n",
      "┌ Warning: `product(xss...)` is deprecated, use `Iterators.product(xss...)` instead.\n",
      "│   caller = top-level scope at In[14]:37\n",
      "└ @ Core In[14]:37\n",
      "\u001b[32mProgress: 100%|█████████████████████████████████████████| Time: 3:57:19\u001b[39m\n"
     ]
    },
    {
     "ename": "UndefVarError",
     "evalue": "UndefVarError: h5write not defined",
     "output_type": "error",
     "traceback": [
      "UndefVarError: h5write not defined",
      "",
      "Stacktrace:",
      " [1] top-level scope at In[14]:39"
     ]
    }
   ],
   "source": [
    "@everywhere begin\n",
    "    using Statistics\n",
    "    using BenchmarkTools\n",
    "    using LinearAlgebra\n",
    "    using Distributed\n",
    "    using ProgressMeter\n",
    "    push!(LOAD_PATH, pwd())\n",
    "    using DHC_2DUtils\n",
    "    using FFTW\n",
    "    using MLDatasets\n",
    "    using Images\n",
    "    using Interpolations\n",
    "    \n",
    "    # filter bank\n",
    "    filter_hash = fink_filter_hash(1,8,nx=256,wd=2)\n",
    "    \n",
    "    function mnist_pad(im; θ=0.0)\n",
    "        impad = zeros(Float64,128,128)\n",
    "        impad[78:-1:51,51:78] = im'\n",
    "        imbig = imresize(impad,(256,256))\n",
    "        if θ != 0.0\n",
    "            imrot = imrotate(imbig, θ, axes(imbig), Cubic(Throw(OnGrid())))\n",
    "            imrot[findall(imrot .!= imrot)] .= 0.0\n",
    "            return imrot\n",
    "        end\n",
    "        return imbig\n",
    "    end\n",
    "    \n",
    "    function mnist_DHC(params)\n",
    "        θ, x = params\n",
    "        image    = mnist_pad(x[:,:], θ=θ)\n",
    "        WST = DHC_compute(image, filter_hash)\n",
    "        return WST\n",
    "    end\n",
    "    \n",
    "end\n",
    " \n",
    "mnist_DHC_out = @showprogress pmap(mnist_DHC, product(angle_array,lst_test))\n",
    "\n",
    "h5write(\"mnist_DHC_test_angles.h5\", \"main/data\", mnist_DHC_out)"
   ]
  },
  {
   "cell_type": "code",
   "execution_count": null,
   "metadata": {},
   "outputs": [],
   "source": [
    "temp = hcat(mnist_DHC_out...);"
   ]
  },
  {
   "cell_type": "code",
   "execution_count": null,
   "metadata": {},
   "outputs": [],
   "source": [
    "size(temp)"
   ]
  },
  {
   "cell_type": "code",
   "execution_count": null,
   "metadata": {},
   "outputs": [],
   "source": [
    "1+1"
   ]
  },
  {
   "cell_type": "code",
   "execution_count": 23,
   "metadata": {},
   "outputs": [
    {
     "ename": "MethodError",
     "evalue": "MethodError: no method matching datatype(::Array{Array{Any,1},2})\nClosest candidates are:\n  datatype(!Matched::HDF5.Attribute) at /n/home12/saydjari/.julia/packages/HDF5/d0V7K/src/HDF5.jl:1017\n  datatype(!Matched::HDF5.Dataset) at /n/home12/saydjari/.julia/packages/HDF5/d0V7K/src/HDF5.jl:1015\n  datatype(!Matched::Union{Bool, Float32, Float64, Int16, Int32, Int64, Int8, UInt16, UInt32, UInt64, UInt8, HDF5.Reference}) at /n/home12/saydjari/.julia/packages/HDF5/d0V7K/src/HDF5.jl:1020\n  ...",
     "output_type": "error",
     "traceback": [
      "MethodError: no method matching datatype(::Array{Array{Any,1},2})\nClosest candidates are:\n  datatype(!Matched::HDF5.Attribute) at /n/home12/saydjari/.julia/packages/HDF5/d0V7K/src/HDF5.jl:1017\n  datatype(!Matched::HDF5.Dataset) at /n/home12/saydjari/.julia/packages/HDF5/d0V7K/src/HDF5.jl:1015\n  datatype(!Matched::Union{Bool, Float32, Float64, Int16, Int32, Int64, Int8, UInt16, UInt32, UInt64, UInt8, HDF5.Reference}) at /n/home12/saydjari/.julia/packages/HDF5/d0V7K/src/HDF5.jl:1020\n  ...",
      "",
      "Stacktrace:",
      " [1] #create_dataset#57(::Base.Iterators.Pairs{Union{},Union{},Tuple{},NamedTuple{(),Tuple{}}}, ::typeof(create_dataset), ::HDF5.File, ::String, ::Array{Array{Any,1},2}) at /n/home12/saydjari/.julia/packages/HDF5/d0V7K/src/HDF5.jl:1576",
      " [2] create_dataset(::HDF5.File, ::String, ::Array{Array{Any,1},2}) at /n/home12/saydjari/.julia/packages/HDF5/d0V7K/src/HDF5.jl:1576",
      " [3] #write_dataset#59(::Base.Iterators.Pairs{Union{},Union{},Tuple{},NamedTuple{(),Tuple{}}}, ::typeof(write_dataset), ::HDF5.File, ::String, ::Array{Array{Any,1},2}) at /n/home12/saydjari/.julia/packages/HDF5/d0V7K/src/HDF5.jl:1598",
      " [4] write_dataset(::HDF5.File, ::String, ::Array{Array{Any,1},2}) at /n/home12/saydjari/.julia/packages/HDF5/d0V7K/src/HDF5.jl:1598",
      " [5] #write#61(::Base.Iterators.Pairs{Union{},Union{},Tuple{},NamedTuple{(),Tuple{}}}, ::typeof(write), ::HDF5.File, ::String, ::Array{Array{Any,1},2}) at /n/home12/saydjari/.julia/packages/HDF5/d0V7K/src/HDF5.jl:1643",
      " [6] write(::HDF5.File, ::String, ::Array{Array{Any,1},2}) at /n/home12/saydjari/.julia/packages/HDF5/d0V7K/src/HDF5.jl:1643",
      " [7] #h5write#11(::Base.Iterators.Pairs{Union{},Union{},Tuple{},NamedTuple{(),Tuple{}}}, ::typeof(h5write), ::String, ::String, ::Array{Array{Any,1},2}) at /n/home12/saydjari/.julia/packages/HDF5/d0V7K/src/HDF5.jl:530",
      " [8] h5write(::String, ::String, ::Array{Array{Any,1},2}) at /n/home12/saydjari/.julia/packages/HDF5/d0V7K/src/HDF5.jl:528",
      " [9] top-level scope at In[23]:1"
     ]
    }
   ],
   "source": [
    "h5write(\"mnist_DHC_test_angles.h5\", \"main/data\", temp)"
   ]
  },
  {
   "cell_type": "code",
   "execution_count": null,
   "metadata": {},
   "outputs": [],
   "source": [
    "M = 100\n",
    "angle_array2 = []\n",
    "for i = 2π/M-π/M:2π/M:2π\n",
    "    append!(angle_array2,i)\n",
    "end"
   ]
  },
  {
   "cell_type": "code",
   "execution_count": null,
   "metadata": {},
   "outputs": [],
   "source": [
    "@everywhere begin\n",
    "    using Statistics\n",
    "    using BenchmarkTools\n",
    "    using LinearAlgebra\n",
    "    using Distributed\n",
    "    using ProgressMeter\n",
    "    push!(LOAD_PATH, pwd())\n",
    "    using DHC_2DUtils\n",
    "    using FFTW\n",
    "    using MLDatasets\n",
    "    using Images\n",
    "    using Interpolations\n",
    "    \n",
    "    # filter bank\n",
    "    filter_hash = fink_filter_hash(1,8,nx=256,wd=2)\n",
    "    \n",
    "    function mnist_pad(im; θ=0.0)\n",
    "        impad = zeros(Float64,128,128)\n",
    "        impad[78:-1:51,51:78] = im'\n",
    "        imbig = imresize(impad,(256,256))\n",
    "        if θ != 0.0\n",
    "            imrot = imrotate(imbig, θ, axes(imbig), Cubic(Throw(OnGrid())))\n",
    "            imrot[findall(imrot .!= imrot)] .= 0.0\n",
    "            return imrot\n",
    "        end\n",
    "        return imbig\n",
    "    end\n",
    "    \n",
    "    function mnist_DHC(params)\n",
    "        θ, x = params\n",
    "        image    = mnist_pad(x[:,:], θ=θ)\n",
    "        WST = DHC_compute(image, filter_hash)\n",
    "        return WST\n",
    "    end\n",
    "    \n",
    "end\n",
    "\n",
    "mnist_DHC_out = @showprogress pmap(mnist_DHC, product(angle_array2,lst_test))\n",
    "mnist_DHC_out = hcat(mnist_DHC_out...)\n",
    "\n",
    "h5write(\"mnist_DHC_test_angles2.h5\", \"main/data\", mnist_DHC_out)"
   ]
  }
 ],
 "metadata": {
  "kernelspec": {
   "display_name": "Julia 1.3.1",
   "language": "julia",
   "name": "julia-1.3"
  },
  "language_info": {
   "file_extension": ".jl",
   "mimetype": "application/julia",
   "name": "julia",
   "version": "1.3.1"
  }
 },
 "nbformat": 4,
 "nbformat_minor": 2
}
