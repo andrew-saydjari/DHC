{
 "cells": [
  {
   "cell_type": "code",
   "execution_count": 1,
   "metadata": {},
   "outputs": [],
   "source": [
    "using Distributed"
   ]
  },
  {
   "cell_type": "code",
   "execution_count": 2,
   "metadata": {},
   "outputs": [],
   "source": [
    "M = 100\n",
    "angle_array = []\n",
    "for i = 2π/M:2π/M:2π\n",
    "    append!(angle_array,i)\n",
    "end"
   ]
  },
  {
   "cell_type": "code",
   "execution_count": 3,
   "metadata": {},
   "outputs": [
    {
     "data": {
      "text/plain": [
       "31-element Array{Int64,1}:\n",
       "  2\n",
       "  3\n",
       "  4\n",
       "  5\n",
       "  6\n",
       "  7\n",
       "  8\n",
       "  9\n",
       " 10\n",
       " 11\n",
       " 12\n",
       " 13\n",
       " 14\n",
       "  ⋮\n",
       " 21\n",
       " 22\n",
       " 23\n",
       " 24\n",
       " 25\n",
       " 26\n",
       " 27\n",
       " 28\n",
       " 29\n",
       " 30\n",
       " 31\n",
       " 32"
      ]
     },
     "execution_count": 3,
     "metadata": {},
     "output_type": "execute_result"
    }
   ],
   "source": [
    "addprocs(31)"
   ]
  },
  {
   "cell_type": "code",
   "execution_count": 8,
   "metadata": {},
   "outputs": [],
   "source": [
    "using Pkg\n",
    "Pkg.instantiate()"
   ]
  },
  {
   "cell_type": "code",
   "execution_count": 5,
   "metadata": {},
   "outputs": [],
   "source": [
    "using Statistics\n",
    "using BenchmarkTools\n",
    "using LinearAlgebra\n",
    "using Distributed\n",
    "using ProgressMeter\n",
    "push!(LOAD_PATH, pwd())\n",
    "using DHC_2DUtils\n",
    "using FFTW\n",
    "using MLDatasets\n",
    "using Images\n",
    "using Interpolations\n",
    "using HDF5\n",
    "using IterTools"
   ]
  },
  {
   "cell_type": "code",
   "execution_count": 7,
   "metadata": {},
   "outputs": [],
   "source": [
    "L = 8\n",
    "rand_mat = rand(16,16)\n",
    "filter_hash = fink_filter_hash(1,L,nx=16,wd=2)\n",
    "temp = DHC_compute(rand_mat,filter_hash);"
   ]
  },
  {
   "cell_type": "code",
   "execution_count": 8,
   "metadata": {},
   "outputs": [],
   "source": [
    "train_x, train_y = MNIST.traindata()\n",
    "test_x, test_y   = MNIST.testdata()\n",
    "\n",
    "lst_train = Array{Any}(undef, 0)\n",
    "for i = 1:60000\n",
    "    push!(lst_train,train_x[:,:,i])\n",
    "end\n",
    "\n",
    "\n",
    "lst_test = Array{Any}(undef, 0)\n",
    "for i = 1:10000\n",
    "    push!(lst_test,test_x[:,:,i])\n",
    "end"
   ]
  },
  {
   "cell_type": "code",
   "execution_count": 10,
   "metadata": {},
   "outputs": [
    {
     "name": "stderr",
     "output_type": "stream",
     "text": [
      "\u001b[32mProgress: 100%|█████████████████████████████████████████| Time: 0:20:29\u001b[39m\n"
     ]
    }
   ],
   "source": [
    "@everywhere begin\n",
    "    using Statistics\n",
    "    using BenchmarkTools\n",
    "    using LinearAlgebra\n",
    "    using Distributed\n",
    "    using ProgressMeter\n",
    "    push!(LOAD_PATH, pwd())\n",
    "    using DHC_2DUtils\n",
    "    using FFTW\n",
    "    using MLDatasets\n",
    "    using Images\n",
    "    using Interpolations\n",
    "    \n",
    "    # filter bank\n",
    "    filter_hash = fink_filter_hash(1,8,nx=64,wd=2)\n",
    "    \n",
    "    function mnist_pad(im; θ=0.0)\n",
    "        impad = zeros(Float64,32,32)\n",
    "        impad[30:-1:3,3:30] = im'\n",
    "        imbig = imresize(impad,(64,64))\n",
    "        if θ != 0.0\n",
    "            imrot = imrotate(imbig, θ, axes(imbig), Cubic(Throw(OnGrid())))\n",
    "            imrot[findall(imrot .!= imrot)] .= 0.0\n",
    "            return imrot\n",
    "        end\n",
    "        return imbig\n",
    "    end\n",
    "    \n",
    "    function mnist_DHC(params)\n",
    "        θ, x = params\n",
    "        image    = mnist_pad(x[:,:], θ=θ)\n",
    "        WST = DHC_compute(image, filter_hash)\n",
    "        return WST\n",
    "    end\n",
    "    \n",
    "end\n",
    " \n",
    "mnist_DHC_out = @showprogress pmap(mnist_DHC, Iterators.product(angle_array,lst_test))\n",
    "mnist_DHC_out = hcat(mnist_DHC_out...)\n",
    "\n",
    "h5write(\"mnist_DHC_test_ang_0_1.h5\", \"main/data\", mnist_DHC_out)"
   ]
  },
  {
   "cell_type": "code",
   "execution_count": 11,
   "metadata": {},
   "outputs": [],
   "source": [
    "M = 100\n",
    "train_angles = [2π/M,π/3,2π/3,3π/3,4π/3,5π/3];"
   ]
  },
  {
   "cell_type": "code",
   "execution_count": 12,
   "metadata": {},
   "outputs": [
    {
     "name": "stderr",
     "output_type": "stream",
     "text": [
      "\u001b[32mProgress: 100%|█████████████████████████████████████████| Time: 0:05:33\u001b[39m\n"
     ]
    }
   ],
   "source": [
    "@everywhere begin\n",
    "    using Statistics\n",
    "    using BenchmarkTools\n",
    "    using LinearAlgebra\n",
    "    using Distributed\n",
    "    using ProgressMeter\n",
    "    push!(LOAD_PATH, pwd())\n",
    "    using DHC_2DUtils\n",
    "    using FFTW\n",
    "    using MLDatasets\n",
    "    using Images\n",
    "    using Interpolations\n",
    "    \n",
    "    # filter bank\n",
    "    filter_hash = fink_filter_hash(1,8,nx=64,wd=2)\n",
    "    \n",
    "    function mnist_pad(im; θ=0.0)\n",
    "        impad = zeros(Float64,32,32)\n",
    "        impad[30:-1:3,3:30] = im'\n",
    "        imbig = imresize(impad,(64,64))\n",
    "        if θ != 0.0\n",
    "            imrot = imrotate(imbig, θ, axes(imbig), Cubic(Throw(OnGrid())))\n",
    "            imrot[findall(imrot .!= imrot)] .= 0.0\n",
    "            return imrot\n",
    "        end\n",
    "        return imbig\n",
    "    end\n",
    "    \n",
    "    function mnist_DHC(params)\n",
    "        θ, x = params\n",
    "        image    = mnist_pad(x[:,:], θ=θ)\n",
    "        WST = DHC_compute(image, filter_hash)\n",
    "        return WST\n",
    "    end\n",
    "    \n",
    "end\n",
    " \n",
    "mnist_DHC_out = @showprogress pmap(mnist_DHC, Iterators.product(train_angles,lst_train))\n",
    "mnist_DHC_out = hcat(mnist_DHC_out...)\n",
    "\n",
    "h5write(\"mnist_DHC_train_ang_0_1.h5\", \"main/data\", mnist_DHC_out)"
   ]
  },
  {
   "cell_type": "code",
   "execution_count": 13,
   "metadata": {},
   "outputs": [
    {
     "name": "stderr",
     "output_type": "stream",
     "text": [
      "\u001b[32mProgress: 100%|█████████████████████████████████████████| Time: 0:02:13\u001b[39m\n"
     ]
    }
   ],
   "source": [
    "@everywhere begin\n",
    "    using Statistics\n",
    "    using BenchmarkTools\n",
    "    using LinearAlgebra\n",
    "    using Distributed\n",
    "    using ProgressMeter\n",
    "    push!(LOAD_PATH, pwd())\n",
    "    using DHC_2DUtils\n",
    "    using FFTW\n",
    "    using MLDatasets\n",
    "    using Images\n",
    "    using Interpolations\n",
    "    \n",
    "    # filter bank\n",
    "    filter_hash = fink_filter_hash(1,8,nx=32,wd=2)\n",
    "    \n",
    "    function mnist_pad(im; θ=0.0)\n",
    "        impad = zeros(Float64,32,32)\n",
    "        impad[30:-1:3,3:30] = im'\n",
    "        imbig = imresize(impad,(32,32))\n",
    "        if θ != 0.0\n",
    "            imrot = imrotate(imbig, θ, axes(imbig), Cubic(Throw(OnGrid())))\n",
    "            imrot[findall(imrot .!= imrot)] .= 0.0\n",
    "            return imrot\n",
    "        end\n",
    "        return imbig\n",
    "    end\n",
    "    \n",
    "    function mnist_DHC(params)\n",
    "        θ, x = params\n",
    "        image    = mnist_pad(x[:,:], θ=θ)\n",
    "        WST = DHC_compute(image, filter_hash)\n",
    "        return WST\n",
    "    end\n",
    "    \n",
    "end\n",
    " \n",
    "mnist_DHC_out = @showprogress pmap(mnist_DHC, Iterators.product(train_angles,lst_train))\n",
    "mnist_DHC_out = hcat(mnist_DHC_out...)\n",
    "\n",
    "h5write(\"mnist_DHC_train_ang_0_0.h5\", \"main/data\", mnist_DHC_out)"
   ]
  }
 ],
 "metadata": {
  "kernelspec": {
   "display_name": "Julia 1.3.1",
   "language": "julia",
   "name": "julia-1.3"
  },
  "language_info": {
   "file_extension": ".jl",
   "mimetype": "application/julia",
   "name": "julia",
   "version": "1.3.1"
  }
 },
 "nbformat": 4,
 "nbformat_minor": 2
}