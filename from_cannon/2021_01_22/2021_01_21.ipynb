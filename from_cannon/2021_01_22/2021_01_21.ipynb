{
 "cells": [
  {
   "cell_type": "code",
   "execution_count": 1,
   "metadata": {},
   "outputs": [],
   "source": [
    "using Distributed"
   ]
  },
  {
   "cell_type": "code",
   "execution_count": 2,
   "metadata": {},
   "outputs": [],
   "source": [
    "M = 100\n",
    "angle_array = []\n",
    "for i = 2π/M:2π/M:2π\n",
    "    append!(angle_array,i)\n",
    "end"
   ]
  },
  {
   "cell_type": "code",
   "execution_count": 3,
   "metadata": {},
   "outputs": [],
   "source": [
    "addprocs(30);"
   ]
  },
  {
   "cell_type": "code",
   "execution_count": 6,
   "metadata": {},
   "outputs": [],
   "source": [
    "using Statistics\n",
    "using BenchmarkTools\n",
    "using LinearAlgebra\n",
    "using Distributed\n",
    "using ProgressMeter\n",
    "using FFTW\n",
    "using MLDatasets\n",
    "using Images\n",
    "using Interpolations\n",
    "using HDF5\n",
    "using IterTools\n",
    "push!(LOAD_PATH, pwd())\n",
    "using DHC_2DUtils"
   ]
  },
  {
   "cell_type": "code",
   "execution_count": 7,
   "metadata": {},
   "outputs": [],
   "source": [
    "L = 8\n",
    "rand_mat = rand(16,16)\n",
    "filter_hash = fink_filter_hash(1,L,nx=16,wd=2)\n",
    "temp = DHC_compute(rand_mat,filter_hash);"
   ]
  },
  {
   "cell_type": "code",
   "execution_count": 8,
   "metadata": {},
   "outputs": [],
   "source": [
    "train_x, train_y = MNIST.traindata()\n",
    "test_x, test_y   = MNIST.testdata()\n",
    "\n",
    "lst_train = Array{Any}(undef, 0)\n",
    "for i = 1:60000\n",
    "    push!(lst_train,train_x[:,:,i])\n",
    "end\n",
    "\n",
    "\n",
    "lst_test = Array{Any}(undef, 0)\n",
    "for i = 1:10000\n",
    "    push!(lst_test,test_x[:,:,i])\n",
    "end"
   ]
  },
  {
   "cell_type": "code",
   "execution_count": 9,
   "metadata": {},
   "outputs": [],
   "source": [
    "M = 100\n",
    "train_angles = [2π/M,π/3,2π/3,3π/3,4π/3,5π/3];"
   ]
  },
  {
   "cell_type": "code",
   "execution_count": 10,
   "metadata": {},
   "outputs": [
    {
     "name": "stderr",
     "output_type": "stream",
     "text": [
      "\u001b[32mProgress: 100%|█████████████████████████████████████████| Time: 1:09:31\u001b[39m\n"
     ]
    }
   ],
   "source": [
    "@everywhere begin\n",
    "    using Statistics\n",
    "    using BenchmarkTools\n",
    "    using LinearAlgebra\n",
    "    using Distributed\n",
    "    using ProgressMeter\n",
    "    push!(LOAD_PATH, pwd())\n",
    "    using DHC_2DUtils\n",
    "    using FFTW\n",
    "    using MLDatasets\n",
    "    using Images\n",
    "    using Interpolations\n",
    "    \n",
    "    # filter bank\n",
    "    filter_hash = fink_filter_hash(1,8,nx=256,wd=2)\n",
    "    \n",
    "    function mnist_pad(im; θ=0.0)\n",
    "        impad = zeros(Float64,64,64)\n",
    "        impad[46:-1:19,19:46] = im'\n",
    "        imbig = imresize(impad,(256,256))\n",
    "        if θ != 0.0\n",
    "            imrot = imrotate(imbig, θ, axes(imbig), Cubic(Throw(OnGrid())))\n",
    "            imrot[findall(imrot .!= imrot)] .= 0.0\n",
    "            return imrot\n",
    "        end\n",
    "        return imbig\n",
    "    end\n",
    "    \n",
    "    function mnist_DHC(params)\n",
    "        θ, x = params\n",
    "        image    = mnist_pad(x[:,:], θ=θ)\n",
    "        WST = DHC_compute(image, filter_hash)\n",
    "        return WST\n",
    "    end\n",
    "    \n",
    "end\n",
    " \n",
    "mnist_DHC_out = @showprogress pmap(mnist_DHC, Iterators.product(train_angles,lst_train))\n",
    "mnist_DHC_out = hcat(mnist_DHC_out...)\n",
    "\n",
    "h5write(\"mnist_DHC_train_ang_1_2.h5\", \"main/data\", mnist_DHC_out)"
   ]
  },
  {
   "cell_type": "code",
   "execution_count": 11,
   "metadata": {},
   "outputs": [
    {
     "name": "stderr",
     "output_type": "stream",
     "text": [
      "\u001b[32mProgress: 100%|█████████████████████████████████████████| Time: 2:03:36\u001b[39m\n"
     ]
    }
   ],
   "source": [
    "@everywhere begin\n",
    "    using Statistics\n",
    "    using BenchmarkTools\n",
    "    using LinearAlgebra\n",
    "    using Distributed\n",
    "    using ProgressMeter\n",
    "    push!(LOAD_PATH, pwd())\n",
    "    using DHC_2DUtils\n",
    "    using FFTW\n",
    "    using MLDatasets\n",
    "    using Images\n",
    "    using Interpolations\n",
    "    \n",
    "    # filter bank\n",
    "    filter_hash = fink_filter_hash(1,8,nx=256,wd=2)\n",
    "    \n",
    "    function mnist_pad(im; θ=0.0)\n",
    "        impad = zeros(Float64,256,256)\n",
    "        impad[142:-1:115,115:142] = im'\n",
    "        imbig = imresize(impad,(256,256))\n",
    "        if θ != 0.0\n",
    "            imrot = imrotate(imbig, θ, axes(imbig), Cubic(Throw(OnGrid())))\n",
    "            imrot[findall(imrot .!= imrot)] .= 0.0\n",
    "            return imrot\n",
    "        end\n",
    "        return imbig\n",
    "    end\n",
    "    \n",
    "    function mnist_DHC(params)\n",
    "        θ, x = params\n",
    "        image    = mnist_pad(x[:,:], θ=θ)\n",
    "        WST = DHC_compute(image, filter_hash)\n",
    "        return WST\n",
    "    end\n",
    "    \n",
    "end\n",
    " \n",
    "mnist_DHC_out = @showprogress pmap(mnist_DHC, Iterators.product(train_angles,lst_train))\n",
    "mnist_DHC_out = hcat(mnist_DHC_out...)\n",
    "\n",
    "h5write(\"mnist_DHC_train_ang_3_0.h5\", \"main/data\", mnist_DHC_out)"
   ]
  },
  {
   "cell_type": "code",
   "execution_count": 12,
   "metadata": {},
   "outputs": [
    {
     "name": "stderr",
     "output_type": "stream",
     "text": [
      "\u001b[32mProgress:  40%|████████████████▋                        |  ETA: 3:35:18\u001b[39m"
     ]
    },
    {
     "ename": "RemoteException",
     "evalue": "InterruptException:\nhandle_deserialize(::Distributed.ClusterSerializer{Sockets.TCPSocket}, ::Int32) at /scratch/pkrastev/lmod_build/julia-1.3.1/usr/share/julia/stdlib/v1.3/Serialization/src/Serialization.jl:851\ndeserialize_fillarray!(::Array{Any,1}, ::Distributed.ClusterSerializer{Sockets.TCPSocket}) at /scratch/pkrastev/lmod_build/julia-1.3.1/usr/share/julia/stdlib/v1.3/Serialization/src/Serialization.jl:1094\ndeserialize_array(::Distributed.ClusterSerializer{Sockets.TCPSocket}) at /scratch/pkrastev/lmod_build/julia-1.3.1/usr/share/julia/stdlib/v1.3/Serialization/src/Serialization.jl:1086\nhandle_deserialize(::Distributed.ClusterSerializer{Sockets.TCPSocket}, ::Int32) at /scratch/pkrastev/lmod_build/julia-1.3.1/usr/share/julia/stdlib/v1.3/Serialization/src/Serialization.jl:773\ndeserialize at /scratch/pkrastev/lmod_build/julia-1.3.1/usr/share/julia/stdlib/v1.3/Serialization/src/Serialization.jl:722 [inlined]\ndeserialize_msg(::Distributed.ClusterSerializer{Sockets.TCPSocket}) at /scratch/pkrastev/lmod_build/julia-1.3.1/usr/share/julia/stdlib/v1.3/Distributed/src/messages.jl:99\n#invokelatest#1 at ./essentials.jl:709 [inlined]\ninvokelatest at ./essentials.jl:708 [inlined]\nmessage_handler_loop(::Sockets.TCPSocket, ::Sockets.TCPSocket, ::Bool) at /scratch/pkrastev/lmod_build/julia-1.3.1/usr/share/julia/stdlib/v1.3/Distributed/src/process_messages.jl:185\nprocess_tcp_streams(::Sockets.TCPSocket, ::Sockets.TCPSocket, ::Bool) at /scratch/pkrastev/lmod_build/julia-1.3.1/usr/share/julia/stdlib/v1.3/Distributed/src/process_messages.jl:142\n(::Distributed.var\"#101#102\"{Sockets.TCPSocket,Sockets.TCPSocket,Bool})() at ./task.jl:333",
     "output_type": "error",
     "traceback": [
      "InterruptException:\nhandle_deserialize(::Distributed.ClusterSerializer{Sockets.TCPSocket}, ::Int32) at /scratch/pkrastev/lmod_build/julia-1.3.1/usr/share/julia/stdlib/v1.3/Serialization/src/Serialization.jl:851\ndeserialize_fillarray!(::Array{Any,1}, ::Distributed.ClusterSerializer{Sockets.TCPSocket}) at /scratch/pkrastev/lmod_build/julia-1.3.1/usr/share/julia/stdlib/v1.3/Serialization/src/Serialization.jl:1094\ndeserialize_array(::Distributed.ClusterSerializer{Sockets.TCPSocket}) at /scratch/pkrastev/lmod_build/julia-1.3.1/usr/share/julia/stdlib/v1.3/Serialization/src/Serialization.jl:1086\nhandle_deserialize(::Distributed.ClusterSerializer{Sockets.TCPSocket}, ::Int32) at /scratch/pkrastev/lmod_build/julia-1.3.1/usr/share/julia/stdlib/v1.3/Serialization/src/Serialization.jl:773\ndeserialize at /scratch/pkrastev/lmod_build/julia-1.3.1/usr/share/julia/stdlib/v1.3/Serialization/src/Serialization.jl:722 [inlined]\ndeserialize_msg(::Distributed.ClusterSerializer{Sockets.TCPSocket}) at /scratch/pkrastev/lmod_build/julia-1.3.1/usr/share/julia/stdlib/v1.3/Distributed/src/messages.jl:99\n#invokelatest#1 at ./essentials.jl:709 [inlined]\ninvokelatest at ./essentials.jl:708 [inlined]\nmessage_handler_loop(::Sockets.TCPSocket, ::Sockets.TCPSocket, ::Bool) at /scratch/pkrastev/lmod_build/julia-1.3.1/usr/share/julia/stdlib/v1.3/Distributed/src/process_messages.jl:185\nprocess_tcp_streams(::Sockets.TCPSocket, ::Sockets.TCPSocket, ::Bool) at /scratch/pkrastev/lmod_build/julia-1.3.1/usr/share/julia/stdlib/v1.3/Distributed/src/process_messages.jl:142\n(::Distributed.var\"#101#102\"{Sockets.TCPSocket,Sockets.TCPSocket,Bool})() at ./task.jl:333",
      "",
      "Stacktrace:",
      " [1] (::Base.var\"#732#734\")(::Task) at ./asyncmap.jl:178",
      " [2] foreach(::Base.var\"#732#734\", ::Array{Any,1}) at ./abstractarray.jl:1920",
      " [3] maptwice(::Function, ::Channel{Any}, ::Array{Any,1}, ::Base.Iterators.ProductIterator{Tuple{Array{Any,1},Array{Any,1}}}) at ./asyncmap.jl:178",
      " [4] wrap_n_exec_twice(::Channel{Any}, ::Array{Any,1}, ::Distributed.var\"#208#211\"{WorkerPool}, ::Function, ::Base.Iterators.ProductIterator{Tuple{Array{Any,1},Array{Any,1}}}) at ./asyncmap.jl:154",
      " [5] #async_usemap#717(::Function, ::Nothing, ::typeof(Base.async_usemap), ::Distributed.var\"#192#194\"{Distributed.var\"#192#193#195\"{WorkerPool,ProgressMeter.var\"#46#49\"{typeof(mnist_DHC),RemoteChannel{Channel{Bool}}}}}, ::Base.Iterators.ProductIterator{Tuple{Array{Any,1},Array{Any,1}}}) at ./asyncmap.jl:103",
      " [6] (::Base.var\"#kw##async_usemap\")(::NamedTuple{(:ntasks, :batch_size),Tuple{Distributed.var\"#208#211\"{WorkerPool},Nothing}}, ::typeof(Base.async_usemap), ::Function, ::Base.Iterators.ProductIterator{Tuple{Array{Any,1},Array{Any,1}}}) at ./none:0",
      " [7] #asyncmap#716 at ./asyncmap.jl:81 [inlined]",
      " [8] #asyncmap at ./none:0 [inlined]",
      " [9] #pmap#207(::Bool, ::Int64, ::Nothing, ::Array{Any,1}, ::Nothing, ::typeof(pmap), ::Function, ::WorkerPool, ::Base.Iterators.ProductIterator{Tuple{Array{Any,1},Array{Any,1}}}) at /scratch/pkrastev/lmod_build/julia-1.3.1/usr/share/julia/stdlib/v1.3/Distributed/src/pmap.jl:126",
      " [10] pmap(::Function, ::WorkerPool, ::Base.Iterators.ProductIterator{Tuple{Array{Any,1},Array{Any,1}}}) at /scratch/pkrastev/lmod_build/julia-1.3.1/usr/share/julia/stdlib/v1.3/Distributed/src/pmap.jl:101",
      " [11] #pmap#217(::Base.Iterators.Pairs{Union{},Union{},Tuple{},NamedTuple{(),Tuple{}}}, ::typeof(pmap), ::Function, ::Base.Iterators.ProductIterator{Tuple{Array{Any,1},Array{Any,1}}}) at /scratch/pkrastev/lmod_build/julia-1.3.1/usr/share/julia/stdlib/v1.3/Distributed/src/pmap.jl:156",
      " [12] pmap(::Function, ::Base.Iterators.ProductIterator{Tuple{Array{Any,1},Array{Any,1}}}) at /scratch/pkrastev/lmod_build/julia-1.3.1/usr/share/julia/stdlib/v1.3/Distributed/src/pmap.jl:156",
      " [13] macro expansion at /n/home12/saydjari/.julia/packages/ProgressMeter/poEzd/src/ProgressMeter.jl:831 [inlined]",
      " [14] macro expansion at ./task.jl:318 [inlined]",
      " [15] macro expansion at /n/home12/saydjari/.julia/packages/ProgressMeter/poEzd/src/ProgressMeter.jl:830 [inlined]",
      " [16] macro expansion at ./task.jl:318 [inlined]",
      " [17] #progress_map#43(::Function, ::Progress, ::Int64, ::Base.Iterators.Pairs{Union{},Union{},Tuple{},NamedTuple{(),Tuple{}}}, ::typeof(progress_map), ::Function, ::Vararg{Any,N} where N) at /n/home12/saydjari/.julia/packages/ProgressMeter/poEzd/src/ProgressMeter.jl:823",
      " [18] (::ProgressMeter.var\"#kw##progress_map\")(::NamedTuple{(:progress, :mapfun),Tuple{Progress,typeof(pmap)}}, ::typeof(progress_map), ::Function, ::Vararg{Any,N} where N) at ./none:0",
      " [19] top-level scope at In[12]:37"
     ]
    }
   ],
   "source": [
    "@everywhere begin\n",
    "    using Statistics\n",
    "    using BenchmarkTools\n",
    "    using LinearAlgebra\n",
    "    using Distributed\n",
    "    using ProgressMeter\n",
    "    push!(LOAD_PATH, pwd())\n",
    "    using DHC_2DUtils\n",
    "    using FFTW\n",
    "    using MLDatasets\n",
    "    using Images\n",
    "    using Interpolations\n",
    "    \n",
    "    # filter bank\n",
    "    filter_hash = fink_filter_hash(1,8,nx=256,wd=2)\n",
    "    \n",
    "    function mnist_pad(im; θ=0.0)\n",
    "        impad = zeros(Float64,32,32)\n",
    "        impad[30:-1:3,3:30] = im'\n",
    "        imbig = imresize(impad,(256,256))\n",
    "        if θ != 0.0\n",
    "            imrot = imrotate(imbig, θ, axes(imbig), Cubic(Throw(OnGrid())))\n",
    "            imrot[findall(imrot .!= imrot)] .= 0.0\n",
    "            return imrot\n",
    "        end\n",
    "        return imbig\n",
    "    end\n",
    "    \n",
    "    function mnist_DHC(params)\n",
    "        θ, x = params\n",
    "        image    = mnist_pad(x[:,:], θ=θ)\n",
    "        WST = DHC_compute(image, filter_hash)\n",
    "        return WST\n",
    "    end\n",
    "    \n",
    "end\n",
    " \n",
    "mnist_DHC_out = @showprogress pmap(mnist_DHC, Iterators.product(angle_array,lst_test))\n",
    "mnist_DHC_out = hcat(mnist_DHC_out...)\n",
    "\n",
    "h5write(\"mnist_DHC_test_ang_0_3.h5\", \"main/data\", mnist_DHC_out)"
   ]
  },
  {
   "cell_type": "code",
   "execution_count": 13,
   "metadata": {},
   "outputs": [
    {
     "name": "stderr",
     "output_type": "stream",
     "text": [
      "\u001b[32mProgress: 100%|█████████████████████████████████████████| Time: 0:43:16\u001b[39m\n",
      "HDF5-DIAG: Error detected in HDF5 (1.12.0) thread 0:\n",
      "  #000: H5F.c line 705 in H5Fcreate(): unable to create file\n",
      "    major: File accessibility\n",
      "    minor: Unable to open file\n",
      "  #001: H5VLcallback.c line 3393 in H5VL_file_create(): file create failed\n",
      "    major: Virtual Object Layer\n",
      "    minor: Unable to create file\n",
      "  #002: H5VLcallback.c line 3358 in H5VL__file_create(): file create failed\n",
      "    major: Virtual Object Layer\n",
      "    minor: Unable to create file\n",
      "  #003: H5VLnative_file.c line 65 in H5VL__native_file_create(): unable to create file\n",
      "    major: File accessibility\n",
      "    minor: Unable to open file\n",
      "  #004: H5Fint.c line 1568 in H5F_open(): unable to open file: name = '../scratch_AKS/mnist_DHC_train_ang_1_1_wd3.h5', tent_flags = 13\n",
      "    major: File accessibility\n",
      "    minor: Unable to open file\n",
      "  #005: H5FD.c line 741 in H5FD_open(): open failed\n",
      "    major: Virtual File Layer\n",
      "    minor: Unable to initialize object\n",
      "  #006: H5FDsec2.c line 346 in H5FD_sec2_open(): unable to open file: name = '../scratch_AKS/mnist_DHC_train_ang_1_1_wd3.h5', errno = 2, error message = 'No such file or directory', flags = 13, o_flags = 242\n",
      "    major: File accessibility\n",
      "    minor: Unable to open file\n"
     ]
    },
    {
     "ename": "ErrorException",
     "evalue": "Error creating file ../scratch_AKS/mnist_DHC_train_ang_1_1_wd3.h5",
     "output_type": "error",
     "traceback": [
      "Error creating file ../scratch_AKS/mnist_DHC_train_ang_1_1_wd3.h5",
      "",
      "Stacktrace:",
      " [1] error(::String, ::String) at ./error.jl:42",
      " [2] h5f_create at /n/home12/saydjari/.julia/packages/HDF5/d0V7K/src/api.jl:260 [inlined]",
      " [3] #h5open#9(::Bool, ::Base.Iterators.Pairs{Union{},Union{},Tuple{},NamedTuple{(),Tuple{}}}, ::typeof(h5open), ::String, ::String) at /n/home12/saydjari/.julia/packages/HDF5/d0V7K/src/HDF5.jl:472",
      " [4] h5open at /n/home12/saydjari/.julia/packages/HDF5/d0V7K/src/HDF5.jl:446 [inlined]",
      " [5] #h5write#11(::Base.Iterators.Pairs{Union{},Union{},Tuple{},NamedTuple{(),Tuple{}}}, ::typeof(h5write), ::String, ::String, ::Array{Float64,2}) at /n/home12/saydjari/.julia/packages/HDF5/d0V7K/src/HDF5.jl:528",
      " [6] h5write(::String, ::String, ::Array{Float64,2}) at /n/home12/saydjari/.julia/packages/HDF5/d0V7K/src/HDF5.jl:528",
      " [7] top-level scope at In[13]:40"
     ]
    }
   ],
   "source": [
    "@everywhere begin\n",
    "    using Statistics\n",
    "    using BenchmarkTools\n",
    "    using LinearAlgebra\n",
    "    using Distributed\n",
    "    using ProgressMeter\n",
    "    push!(LOAD_PATH, pwd())\n",
    "    using DHC_2DUtils\n",
    "    using FFTW\n",
    "    using MLDatasets\n",
    "    using Images\n",
    "    using Interpolations\n",
    "    \n",
    "    # filter bank\n",
    "    filter_hash = fink_filter_hash(1,8,nx=128,wd=3)\n",
    "    \n",
    "    function mnist_pad(im; θ=0.0)\n",
    "        impad = zeros(Float64,64,64)\n",
    "        impad[46:-1:19,19:46] = im'\n",
    "        imbig = imresize(impad,(128,128))\n",
    "        if θ != 0.0\n",
    "            imrot = imrotate(imbig, θ, axes(imbig), Cubic(Throw(OnGrid())))\n",
    "            imrot[findall(imrot .!= imrot)] .= 0.0\n",
    "            return imrot\n",
    "        end\n",
    "        return imbig\n",
    "    end\n",
    "    \n",
    "    function mnist_DHC(params)\n",
    "        θ, x = params\n",
    "        image    = mnist_pad(x[:,:], θ=θ)\n",
    "        WST = DHC_compute(image, filter_hash)\n",
    "        return WST\n",
    "    end\n",
    "    \n",
    "end\n",
    " \n",
    "mnist_DHC_out = @showprogress pmap(mnist_DHC, Iterators.product(train_angles,lst_train))\n",
    "mnist_DHC_out = hcat(mnist_DHC_out...)\n",
    "\n",
    "h5write(\"../scratch_AKS/mnist_DHC_train_ang_1_1_wd3.h5\", \"main/data\", mnist_DHC_out)"
   ]
  },
  {
   "cell_type": "code",
   "execution_count": 14,
   "metadata": {},
   "outputs": [],
   "source": [
    "h5write(\"mnist_DHC_train_ang_1_1_wd3.h5\", \"main/data\", mnist_DHC_out)"
   ]
  },
  {
   "cell_type": "code",
   "execution_count": 15,
   "metadata": {},
   "outputs": [
    {
     "name": "stderr",
     "output_type": "stream",
     "text": [
      "\u001b[32mProgress: 100%|█████████████████████████████████████████| Time: 0:38:32\u001b[39m\n"
     ]
    }
   ],
   "source": [
    "@everywhere begin\n",
    "    using Statistics\n",
    "    using BenchmarkTools\n",
    "    using LinearAlgebra\n",
    "    using Distributed\n",
    "    using ProgressMeter\n",
    "    push!(LOAD_PATH, pwd())\n",
    "    using DHC_2DUtils\n",
    "    using FFTW\n",
    "    using MLDatasets\n",
    "    using Images\n",
    "    using Interpolations\n",
    "    \n",
    "    # filter bank\n",
    "    filter_hash = fink_filter_hash(1,8,nx=128,wd=1)\n",
    "    \n",
    "    function mnist_pad(im; θ=0.0)\n",
    "        impad = zeros(Float64,64,64)\n",
    "        impad[46:-1:19,19:46] = im'\n",
    "        imbig = imresize(impad,(128,128))\n",
    "        if θ != 0.0\n",
    "            imrot = imrotate(imbig, θ, axes(imbig), Cubic(Throw(OnGrid())))\n",
    "            imrot[findall(imrot .!= imrot)] .= 0.0\n",
    "            return imrot\n",
    "        end\n",
    "        return imbig\n",
    "    end\n",
    "    \n",
    "    function mnist_DHC(params)\n",
    "        θ, x = params\n",
    "        image    = mnist_pad(x[:,:], θ=θ)\n",
    "        WST = DHC_compute(image, filter_hash)\n",
    "        return WST\n",
    "    end\n",
    "    \n",
    "end\n",
    " \n",
    "mnist_DHC_out = @showprogress pmap(mnist_DHC, Iterators.product(train_angles,lst_train))\n",
    "mnist_DHC_out = hcat(mnist_DHC_out...)\n",
    "\n",
    "h5write(\"mnist_DHC_train_ang_1_1_wd1.h5\", \"main/data\", mnist_DHC_out)"
   ]
  },
  {
   "cell_type": "code",
   "execution_count": null,
   "metadata": {},
   "outputs": [],
   "source": []
  }
 ],
 "metadata": {
  "kernelspec": {
   "display_name": "Julia 1.3.1",
   "language": "julia",
   "name": "julia-1.3"
  },
  "language_info": {
   "file_extension": ".jl",
   "mimetype": "application/julia",
   "name": "julia",
   "version": "1.3.1"
  }
 },
 "nbformat": 4,
 "nbformat_minor": 2
}
