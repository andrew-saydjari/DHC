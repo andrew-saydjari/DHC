{
 "cells": [
  {
   "cell_type": "code",
   "execution_count": 1,
   "metadata": {
    "scrolled": true
   },
   "outputs": [],
   "source": [
    "push!(LOAD_PATH, \"/home/cfpark/Projects/WST3D/DHC/main/\")\n",
    "import DHC_2DUtils\n",
    "import Plots\n",
    "import CUDA\n",
    "import TimerOutputs\n",
    "import Statistics\n",
    "import Profile\n",
    "import BenchmarkTools"
   ]
  },
  {
   "cell_type": "code",
   "execution_count": 2,
   "metadata": {},
   "outputs": [
    {
     "name": "stdout",
     "output_type": "stream",
     "text": [
      "  117.276 ms (327011 allocations: 35.59 MiB)\n"
     ]
    }
   ],
   "source": [
    "hash_gpu=DHC_2DUtils.fink_filter_hash_gpu(1,8)\n",
    "image=randn(256,256)\n",
    "@BenchmarkTools.btime res_gpu=DHC_2DUtils.DHC_compute_gpu(image,hash_gpu,doS2=true,doS12=true, doS20=true);"
   ]
  },
  {
   "cell_type": "code",
   "execution_count": 3,
   "metadata": {},
   "outputs": [
    {
     "name": "stdout",
     "output_type": "stream",
     "text": [
      "  184.977 ms (651210 allocations: 310.79 MiB)\n"
     ]
    }
   ],
   "source": [
    "hash=DHC_2DUtils.fink_filter_hash(1,8)\n",
    "image=randn(256,256)\n",
    "@BenchmarkTools.btime res=DHC_2DUtils.DHC_compute(image,hash,doS2=true,doS12=true, doS20=true,FFTthreads=8);"
   ]
  },
  {
   "cell_type": "code",
   "execution_count": null,
   "metadata": {},
   "outputs": [],
   "source": []
  },
  {
   "cell_type": "code",
   "execution_count": 6,
   "metadata": {
    "scrolled": true
   },
   "outputs": [
    {
     "ename": "LoadError",
     "evalue": "UndefVarError: res_gpu not defined",
     "output_type": "error",
     "traceback": [
      "UndefVarError: res_gpu not defined",
      "",
      "Stacktrace:",
      " [1] top-level scope",
      "   @ In[6]:1",
      " [2] eval",
      "   @ ./boot.jl:360 [inlined]",
      " [3] include_string(mapexpr::typeof(REPL.softscope), mod::Module, code::String, filename::String)",
      "   @ Base ./loading.jl:1090"
     ]
    }
   ],
   "source": [
    "Plots.plot((res_gpu.-res))\n",
    "Plots.plot!(ylim=(-1e-11,1e-11),ylabel=\"difference\",xlabel=\"coeff #\")"
   ]
  },
  {
   "cell_type": "code",
   "execution_count": 5,
   "metadata": {
    "scrolled": true
   },
   "outputs": [
    {
     "data": {
      "text/plain": [
       "Dict{Any, Any} with 20 entries:\n",
       "  \"filt_index\"     => Vector{CartesianIndex{3}}[[CartesianIndex(13, 31, 34), Ca…\n",
       "  \"2d_J_L\"         => Int32[0 0; 1 0; … ; 5 7; 6 0]\n",
       "  \"S2_iso_mat\"     => …\n",
       "  \"2d_psi_index\"   => Int32[1 7 … 37 43; 2 8 … 38 44; … ; 5 11 … 41 47; 6 12 … …\n",
       "  \"2d_phi_index\"   => 49\n",
       "  \"psi_index\"      => Int32[1 37 … 217 253; 7 43 … 223 259; … ; 31 67 … 247 283…\n",
       "  \"cz\"             => 1\n",
       "  \"2d_pc\"          => 1\n",
       "  \"k_value\"        => [1.0, 2.0, 3.0, 4.0, 5.0, 6.0]\n",
       "  \"npix\"           => 256\n",
       "  \"S1_iso_mat\"     => …\n",
       "  \"theta_value\"    => [0.0, 0.392699, 0.785398, 1.1781, 1.5708, 1.9635, 2.35619…\n",
       "  \"nz\"             => 256\n",
       "  \"2d_filt_index\"  => Vector{CartesianIndex{2}}[[CartesianIndex(13, 31), Cartes…\n",
       "  \"2d_filt_value\"  => [[0.00151097, 0.00151097, 0.000831601, 0.0119073, 0.01802…\n",
       "  \"J_L_K\"          => Int32[1 37 … 217 253; 7 43 … 223 259; … ; 31 67 … 247 283…\n",
       "  \"2d_wd\"          => [1.0, 1.0, 1.0, 1.0, 1.0, 2.0]\n",
       "  \"2d_fs_center_r\" => [64.0, 32.0, 16.0, 8.0, 4.0, 2.0]\n",
       "  \"filt_value\"     => [[7.44447e-5, 7.44447e-5, 4.09726e-5, 0.000586667, 0.0008…\n",
       "  \"j_value\"        => [1.0, 2.0, 3.0, 4.0, 5.0, 6.0]"
      ]
     },
     "execution_count": 5,
     "metadata": {},
     "output_type": "execute_result"
    }
   ],
   "source": [
    "hash=DHC_2DUtils.fink_filter_bank_3dizer(hash,1)"
   ]
  },
  {
   "cell_type": "code",
   "execution_count": null,
   "metadata": {},
   "outputs": [],
   "source": []
  },
  {
   "cell_type": "code",
   "execution_count": 160,
   "metadata": {},
   "outputs": [],
   "source": [
    "import BenchmarkTools\n",
    "import DHC_2DUtils\n",
    "filt,info=DHC_2DUtils.fink_filter_bank(1,8);\n",
    "inds,vals=DHC_2DUtils.fink_filter_list(filt);\n",
    "mms,vals2=DHC_2DUtils.fink_filter_box(filt);\n",
    "dat=randn(Float32,256,256)\n",
    "res=zeros(Float32,256,256)\n",
    "function mmtest1(dat,filt)\n",
    "    res=dat.*filt\n",
    "    return res\n",
    "end\n",
    "\n",
    "function mmtest2(dat,inds,vals,res)\n",
    "    @inbounds @simd for ind in inds\n",
    "        res[ind]=dat[ind]*vals[ind]\n",
    "    end\n",
    "    return res\n",
    "end;\n",
    "\n",
    "function mmtest3(dat,mm,vals2,res)\n",
    "    res[mm[1,1]:mm[1,2],mm[2,1]:mm[2,2]].=dat[mm[1,1]:mm[1,2],mm[2,1]:mm[2,2]].*vals2\n",
    "    return res\n",
    "end;"
   ]
  },
  {
   "cell_type": "code",
   "execution_count": 161,
   "metadata": {},
   "outputs": [],
   "source": [
    "test=12;"
   ]
  },
  {
   "cell_type": "code",
   "execution_count": 162,
   "metadata": {},
   "outputs": [
    {
     "name": "stdout",
     "output_type": "stream",
     "text": [
      "  101.034 μs (7 allocations: 1.00 MiB)\n"
     ]
    }
   ],
   "source": [
    "@BenchmarkTools.btime mmtest1(dat,filt[:,:,test]);"
   ]
  },
  {
   "cell_type": "code",
   "execution_count": 163,
   "metadata": {},
   "outputs": [
    {
     "name": "stdout",
     "output_type": "stream",
     "text": [
      "  213.096 ns (0 allocations: 0 bytes)\n"
     ]
    }
   ],
   "source": [
    "@BenchmarkTools.btime mmtest2(dat,inds[test],vals[test],res);"
   ]
  },
  {
   "cell_type": "code",
   "execution_count": 164,
   "metadata": {},
   "outputs": [
    {
     "name": "stdout",
     "output_type": "stream",
     "text": [
      "  479.831 ns (5 allocations: 336 bytes)\n"
     ]
    }
   ],
   "source": [
    "@BenchmarkTools.btime mmtest3(dat,mms[:,:,test],vals2[test],res);"
   ]
  },
  {
   "cell_type": "code",
   "execution_count": null,
   "metadata": {},
   "outputs": [],
   "source": []
  },
  {
   "cell_type": "code",
   "execution_count": null,
   "metadata": {},
   "outputs": [],
   "source": []
  }
 ],
 "metadata": {
  "kernelspec": {
   "display_name": "Julia 1.6.0-rc1",
   "language": "julia",
   "name": "julia-1.6"
  },
  "language_info": {
   "file_extension": ".jl",
   "mimetype": "application/julia",
   "name": "julia",
   "version": "1.6.0"
  }
 },
 "nbformat": 4,
 "nbformat_minor": 4
}
