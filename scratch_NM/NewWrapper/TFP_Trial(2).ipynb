{
 "cells": [
  {
   "cell_type": "code",
   "execution_count": 2,
   "metadata": {
    "cell_id": "00000-cf2a2bcb-b424-4f19-87a2-189f5e24c2f9",
    "deepnote_cell_type": "code",
    "deepnote_to_be_reexecuted": false,
    "execution_millis": 2456,
    "execution_start": 1621115429677,
    "id": "ZWskvkkeEIUe",
    "source_hash": "27dc5779"
   },
   "outputs": [
    {
     "name": "stdout",
     "output_type": "stream",
     "text": [
      "Collecting tensorflow\n",
      "  Downloading tensorflow-2.5.0-cp37-cp37m-manylinux2010_x86_64.whl (454.3 MB)\n",
      "\u001b[K     |████████████████████████████████| 454.3 MB 4.0 kB/s eta 0:00:01    |██▏                             | 30.4 MB 5.3 MB/s eta 0:01:20     |██▎                             | 33.0 MB 3.8 MB/s eta 0:01:51     |██▍                             | 33.6 MB 3.8 MB/s eta 0:01:51     |███▊                            | 52.6 MB 5.8 MB/s eta 0:01:10     |███████▉                        | 110.6 MB 7.5 MB/s eta 0:00:47     |████████▍                       | 118.9 MB 6.5 MB/s eta 0:00:52     |█████████                       | 127.1 MB 3.7 MB/s eta 0:01:28     |███████████▊                    | 166.2 MB 7.4 MB/s eta 0:00:39     |████████████                    | 169.3 MB 5.5 MB/s eta 0:00:52     |██████████████▌                 | 206.2 MB 3.3 MB/s eta 0:01:16     |██████████████▋                 | 207.4 MB 3.3 MB/s eta 0:01:15     |██████████████▊                 | 209.0 MB 3.3 MB/s eta 0:01:15     |█████████████████               | 240.1 MB 6.1 MB/s eta 0:00:36     |█████████████████               | 240.6 MB 6.1 MB/s eta 0:00:36     |██████████████████▋             | 263.9 MB 310 kB/s eta 0:10:14     |████████████████████            | 282.9 MB 5.4 MB/s eta 0:00:32     |████████████████████▏           | 286.4 MB 5.4 MB/s eta 0:00:31     |██████████████████████▏         | 314.0 MB 3.7 MB/s eta 0:00:39     |██████████████████████▉         | 324.1 MB 6.3 MB/s eta 0:00:21     |████████████████████████        | 339.6 MB 7.0 MB/s eta 0:00:17     |█████████████████████████       | 355.2 MB 6.7 MB/s eta 0:00:15     |█████████████████████████▎      | 358.8 MB 8.0 MB/s eta 0:00:13     |██████████████████████████      | 369.6 MB 3.5 MB/s eta 0:00:25     |███████████████████████████▋    | 392.1 MB 3.6 MB/s eta 0:00:18     |█████████████████████████████▌  | 419.1 MB 8.1 MB/s eta 0:00:05     |█████████████████████████████▊  | 422.1 MB 8.1 MB/s eta 0:00:04     |██████████████████████████████▍ | 430.7 MB 4.0 MB/s eta 0:00:06     |███████████████████████████████▉| 451.7 MB 2.4 MB/s eta 0:00:02\n",
      "\u001b[?25hCollecting grpcio~=1.34.0\n",
      "  Downloading grpcio-1.34.1-cp37-cp37m-manylinux2014_x86_64.whl (4.0 MB)\n",
      "\u001b[K     |████████████████████████████████| 4.0 MB 4.7 MB/s eta 0:00:01     |█████████████████████           | 2.6 MB 4.7 MB/s eta 0:00:01\n",
      "\u001b[?25hCollecting keras-nightly~=2.5.0.dev\n",
      "  Downloading keras_nightly-2.5.0.dev2021032900-py2.py3-none-any.whl (1.2 MB)\n",
      "\u001b[K     |████████████████████████████████| 1.2 MB 5.7 MB/s eta 0:00:01\n",
      "\u001b[?25hRequirement already satisfied: wheel~=0.35 in /home/nayantara/anaconda2/envs/galprior_env/lib/python3.7/site-packages (from tensorflow) (0.36.2)\n",
      "Collecting keras-preprocessing~=1.1.2\n",
      "  Downloading Keras_Preprocessing-1.1.2-py2.py3-none-any.whl (42 kB)\n",
      "\u001b[K     |████████████████████████████████| 42 kB 139 kB/s  eta 0:00:01\n",
      "\u001b[?25hCollecting tensorboard~=2.5\n",
      "  Downloading tensorboard-2.5.0-py3-none-any.whl (6.0 MB)\n",
      "\u001b[K     |████████████████████████████████| 6.0 MB 293 kB/s eta 0:00:01\n",
      "\u001b[?25hCollecting protobuf>=3.9.2\n",
      "  Downloading protobuf-3.17.0-cp37-cp37m-manylinux_2_5_x86_64.manylinux1_x86_64.whl (1.0 MB)\n",
      "\u001b[K     |████████████████████████████████| 1.0 MB 4.9 MB/s eta 0:00:01     |██████████████████████████▋     | 849 kB 4.9 MB/s eta 0:00:01\n",
      "\u001b[?25hCollecting tensorflow-estimator<2.6.0,>=2.5.0rc0\n",
      "  Downloading tensorflow_estimator-2.5.0-py2.py3-none-any.whl (462 kB)\n",
      "\u001b[K     |████████████████████████████████| 462 kB 6.0 MB/s eta 0:00:01     |███████████▍                    | 163 kB 6.0 MB/s eta 0:00:01\n",
      "\u001b[?25hCollecting flatbuffers~=1.12.0\n",
      "  Downloading flatbuffers-1.12-py2.py3-none-any.whl (15 kB)\n",
      "Requirement already satisfied: six~=1.15.0 in /home/nayantara/anaconda2/envs/galprior_env/lib/python3.7/site-packages (from tensorflow) (1.15.0)\n",
      "Requirement already satisfied: h5py~=3.1.0 in /home/nayantara/anaconda2/envs/galprior_env/lib/python3.7/site-packages (from tensorflow) (3.1.0)\n",
      "Requirement already satisfied: typing-extensions~=3.7.4 in /home/nayantara/anaconda2/envs/galprior_env/lib/python3.7/site-packages (from tensorflow) (3.7.4.3)\n",
      "Collecting opt-einsum~=3.3.0\n",
      "  Downloading opt_einsum-3.3.0-py3-none-any.whl (65 kB)\n",
      "\u001b[K     |████████████████████████████████| 65 kB 192 kB/s eta 0:00:01\n",
      "\u001b[?25hRequirement already satisfied: gast==0.4.0 in /home/nayantara/anaconda2/envs/galprior_env/lib/python3.7/site-packages (from tensorflow) (0.4.0)\n",
      "Collecting astunparse~=1.6.3\n",
      "  Downloading astunparse-1.6.3-py2.py3-none-any.whl (12 kB)\n",
      "Collecting termcolor~=1.1.0\n",
      "  Downloading termcolor-1.1.0.tar.gz (3.9 kB)\n",
      "Requirement already satisfied: absl-py~=0.10 in /home/nayantara/anaconda2/envs/galprior_env/lib/python3.7/site-packages (from tensorflow) (0.12.0)\n",
      "Collecting wrapt~=1.12.1\n",
      "  Downloading wrapt-1.12.1.tar.gz (27 kB)\n",
      "Collecting google-pasta~=0.2\n",
      "  Downloading google_pasta-0.2.0-py3-none-any.whl (57 kB)\n",
      "\u001b[K     |████████████████████████████████| 57 kB 797 kB/s eta 0:00:01\n",
      "\u001b[?25hRequirement already satisfied: numpy~=1.19.2 in /home/nayantara/anaconda2/envs/galprior_env/lib/python3.7/site-packages (from tensorflow) (1.19.2)\n",
      "Collecting werkzeug>=0.11.15\n",
      "  Downloading Werkzeug-2.0.0-py3-none-any.whl (288 kB)\n",
      "\u001b[K     |████████████████████████████████| 288 kB 3.6 MB/s eta 0:00:01\n",
      "\u001b[?25hRequirement already satisfied: setuptools>=41.0.0 in /home/nayantara/anaconda2/envs/galprior_env/lib/python3.7/site-packages (from tensorboard~=2.5->tensorflow) (49.6.0.post20210108)\n",
      "Collecting google-auth-oauthlib<0.5,>=0.4.1\n",
      "  Downloading google_auth_oauthlib-0.4.4-py2.py3-none-any.whl (18 kB)\n",
      "Collecting tensorboard-data-server<0.7.0,>=0.6.0\n",
      "  Downloading tensorboard_data_server-0.6.1-py3-none-manylinux2010_x86_64.whl (4.9 MB)\n",
      "\u001b[K     |████████████████████████████████| 4.9 MB 5.3 MB/s eta 0:00:01\n",
      "\u001b[?25hRequirement already satisfied: requests<3,>=2.21.0 in /home/nayantara/anaconda2/envs/galprior_env/lib/python3.7/site-packages (from tensorboard~=2.5->tensorflow) (2.23.0)\n",
      "Collecting tensorboard-plugin-wit>=1.6.0\n",
      "  Downloading tensorboard_plugin_wit-1.8.0-py3-none-any.whl (781 kB)\n",
      "\u001b[K     |████████████████████████████████| 781 kB 4.9 MB/s eta 0:00:01\n",
      "\u001b[?25hCollecting google-auth<2,>=1.6.3\n",
      "  Downloading google_auth-1.30.0-py2.py3-none-any.whl (146 kB)\n",
      "\u001b[K     |████████████████████████████████| 146 kB 3.4 MB/s eta 0:00:01\n",
      "\u001b[?25hCollecting markdown>=2.6.8\n",
      "  Downloading Markdown-3.3.4-py3-none-any.whl (97 kB)\n",
      "\u001b[K     |████████████████████████████████| 97 kB 1.5 MB/s eta 0:00:01\n",
      "\u001b[?25hRequirement already satisfied: cached-property; python_version < \"3.8\" in /home/nayantara/anaconda2/envs/galprior_env/lib/python3.7/site-packages (from h5py~=3.1.0->tensorflow) (1.5.2)\n",
      "Collecting requests-oauthlib>=0.7.0\n",
      "  Downloading requests_oauthlib-1.3.0-py2.py3-none-any.whl (23 kB)\n",
      "Requirement already satisfied: idna<3,>=2.5 in /home/nayantara/anaconda2/envs/galprior_env/lib/python3.7/site-packages (from requests<3,>=2.21.0->tensorboard~=2.5->tensorflow) (2.9)\n",
      "Requirement already satisfied: urllib3!=1.25.0,!=1.25.1,<1.26,>=1.21.1 in /home/nayantara/anaconda2/envs/galprior_env/lib/python3.7/site-packages (from requests<3,>=2.21.0->tensorboard~=2.5->tensorflow) (1.25.9)\n",
      "Requirement already satisfied: chardet<4,>=3.0.2 in /home/nayantara/anaconda2/envs/galprior_env/lib/python3.7/site-packages (from requests<3,>=2.21.0->tensorboard~=2.5->tensorflow) (3.0.4)\n",
      "Requirement already satisfied: certifi>=2017.4.17 in /home/nayantara/anaconda2/envs/galprior_env/lib/python3.7/site-packages (from requests<3,>=2.21.0->tensorboard~=2.5->tensorflow) (2020.12.5)\n",
      "Collecting rsa<5,>=3.1.4; python_version >= \"3.6\"\n",
      "  Downloading rsa-4.7.2-py3-none-any.whl (34 kB)\n",
      "Collecting pyasn1-modules>=0.2.1\n",
      "  Downloading pyasn1_modules-0.2.8-py2.py3-none-any.whl (155 kB)\n",
      "\u001b[K     |████████████████████████████████| 155 kB 5.1 MB/s eta 0:00:01\n",
      "\u001b[?25hRequirement already satisfied: cachetools<5.0,>=2.0.0 in /home/nayantara/anaconda2/envs/galprior_env/lib/python3.7/site-packages (from google-auth<2,>=1.6.3->tensorboard~=2.5->tensorflow) (4.2.1)\n",
      "Requirement already satisfied: importlib-metadata; python_version < \"3.8\" in /home/nayantara/anaconda2/envs/galprior_env/lib/python3.7/site-packages (from markdown>=2.6.8->tensorboard~=2.5->tensorflow) (3.7.3)\n"
     ]
    },
    {
     "name": "stdout",
     "output_type": "stream",
     "text": [
      "Collecting oauthlib>=3.0.0\n",
      "  Downloading oauthlib-3.1.0-py2.py3-none-any.whl (147 kB)\n",
      "\u001b[K     |████████████████████████████████| 147 kB 5.7 MB/s eta 0:00:01\n",
      "\u001b[?25hCollecting pyasn1>=0.1.3\n",
      "  Downloading pyasn1-0.4.8-py2.py3-none-any.whl (77 kB)\n",
      "\u001b[K     |████████████████████████████████| 77 kB 1.1 MB/s eta 0:00:01\n",
      "\u001b[?25hRequirement already satisfied: zipp>=0.5 in /home/nayantara/anaconda2/envs/galprior_env/lib/python3.7/site-packages (from importlib-metadata; python_version < \"3.8\"->markdown>=2.6.8->tensorboard~=2.5->tensorflow) (3.4.1)\n",
      "Building wheels for collected packages: termcolor, wrapt\n",
      "  Building wheel for termcolor (setup.py) ... \u001b[?25ldone\n",
      "\u001b[?25h  Created wheel for termcolor: filename=termcolor-1.1.0-py3-none-any.whl size=4829 sha256=3ae9a53ddfdf239ba3196b36fb81e9435dc85d8ecd6ce30458c257c2b5d32313\n",
      "  Stored in directory: /home/nayantara/.cache/pip/wheels/3f/e3/ec/8a8336ff196023622fbcb36de0c5a5c218cbb24111d1d4c7f2\n",
      "  Building wheel for wrapt (setup.py) ... \u001b[?25ldone\n",
      "\u001b[?25h  Created wheel for wrapt: filename=wrapt-1.12.1-cp37-cp37m-linux_x86_64.whl size=36401 sha256=c311cead8bc9e5a2e137f5f77a213030e4c0ef55de7fc5e0e74d0cdbf22d0456\n",
      "  Stored in directory: /home/nayantara/.cache/pip/wheels/62/76/4c/aa25851149f3f6d9785f6c869387ad82b3fd37582fa8147ac6\n",
      "Successfully built termcolor wrapt\n",
      "Installing collected packages: grpcio, keras-nightly, keras-preprocessing, werkzeug, oauthlib, requests-oauthlib, pyasn1, rsa, pyasn1-modules, google-auth, google-auth-oauthlib, tensorboard-data-server, protobuf, tensorboard-plugin-wit, markdown, tensorboard, tensorflow-estimator, flatbuffers, opt-einsum, astunparse, termcolor, wrapt, google-pasta, tensorflow\n",
      "  Attempting uninstall: flatbuffers\n",
      "    Found existing installation: flatbuffers 20210203211748\n",
      "    Uninstalling flatbuffers-20210203211748:\n",
      "      Successfully uninstalled flatbuffers-20210203211748\n",
      "  Attempting uninstall: opt-einsum\n",
      "    Found existing installation: opt-einsum 0+untagged.61.gd905544.dirty\n",
      "    Uninstalling opt-einsum-0+untagged.61.gd905544.dirty:\n",
      "      Successfully uninstalled opt-einsum-0+untagged.61.gd905544.dirty\n",
      "Successfully installed astunparse-1.6.3 flatbuffers-1.12 google-auth-1.30.0 google-auth-oauthlib-0.4.4 google-pasta-0.2.0 grpcio-1.34.1 keras-nightly-2.5.0.dev2021032900 keras-preprocessing-1.1.2 markdown-3.3.4 oauthlib-3.1.0 opt-einsum-3.3.0 protobuf-3.17.0 pyasn1-0.4.8 pyasn1-modules-0.2.8 requests-oauthlib-1.3.0 rsa-4.7.2 tensorboard-2.5.0 tensorboard-data-server-0.6.1 tensorboard-plugin-wit-1.8.0 tensorflow-2.5.0 tensorflow-estimator-2.5.0 termcolor-1.1.0 werkzeug-2.0.0 wrapt-1.12.1\n"
     ]
    }
   ],
   "source": [
    "!pip install tensorflow\n",
    "import tensorflow_probability as tfp\n",
    "import tensorflow as tf\n",
    "import numpy as np\n",
    "from tensorflow.keras import Sequential\n",
    "import tensorflow.keras.layers as tfkl\n",
    "import tensorflow.keras as tfk\n",
    "\n",
    "##TTF Example for MAF\n",
    "tfd = tfp.distributions\n",
    "tfb = tfp.bijectors"
   ]
  },
  {
   "cell_type": "code",
   "execution_count": 15,
   "metadata": {
    "cell_id": "00001-ed48d867-f071-4ea6-8f8f-c63647f4e982",
    "deepnote_cell_type": "code",
    "deepnote_to_be_reexecuted": false,
    "execution_millis": 4,
    "execution_start": 1621115434546,
    "source_hash": "a6a5beaf",
    "tags": []
   },
   "outputs": [],
   "source": [
    "def get_maf_model(dims):\n",
    "    # A common choice for a normalizing flow is to use a Gaussian for the base\n",
    "    # distribution.  (However, any continuous distribution would work.) Here, we\n",
    "    # use `tfd.Sample` to create a joint Gaussian distribution with diagonal\n",
    "    # covariance for the base distribution (note that in the Gaussian case,\n",
    "    # `tfd.MultivariateNormalDiag` could also be used.)\n",
    "    made = tfb.AutoregressiveNetwork(params=2, hidden_units=[32, 32], activation='relu')\n",
    "\n",
    "    maf = tfd.TransformedDistribution(distribution=tfd.Sample(tfd.Normal(loc=0., scale=1.), sample_shape=[dims]),  #Distribution to be sampled from\n",
    "        bijector=tfb.MaskedAutoregressiveFlow(made))\n",
    "\n",
    "    x_ = tfkl.Input(shape=(dims,), dtype=tf.float32)\n",
    "    log_prob_ = maf.log_prob(x_)\n",
    "    model = tfk.Model(x_, log_prob_)\n",
    "    model.compile(optimizer=tf.optimizers.Adam(), loss=lambda _, log_prob: -log_prob)\n",
    "    return model, maf"
   ]
  },
  {
   "cell_type": "code",
   "execution_count": null,
   "metadata": {
    "cell_id": "00001-6fa1f2ad-5af7-4a22-9db4-836beee8ea7a",
    "deepnote_cell_type": "code",
    "deepnote_to_be_reexecuted": false,
    "execution_millis": 270,
    "execution_start": 1621057491605,
    "id": "wYFiOPIpFnNk",
    "source_hash": "315c023a"
   },
   "outputs": [],
   "source": [
    "\n",
    "\n",
    "dims = 10\n",
    "\n",
    "# A common choice for a normalizing flow is to use a Gaussian for the base\n",
    "# distribution.  (However, any continuous distribution would work.) Here, we\n",
    "# use `tfd.Sample` to create a joint Gaussian distribution with diagonal\n",
    "# covariance for the base distribution (note that in the Gaussian case,\n",
    "# `tfd.MultivariateNormalDiag` could also be used.)\n",
    "made = tfb.AutoregressiveNetwork(params=2, hidden_units=[10, 10], activation='relu')\n",
    "\n",
    "maf = tfd.TransformedDistribution(distribution=tfd.Sample(tfd.Normal(loc=0., scale=1.), sample_shape=[dims]),  #Distribution to be sampled from\n",
    "    bijector=tfb.MaskedAutoregressiveFlow(made))\n",
    "\n",
    "x_ = tfkl.Input(shape=(dims,), dtype=tf.float32)\n",
    "log_prob_ = maf.log_prob(x_)\n",
    "model = tfk.Model(x_, log_prob_)"
   ]
  },
  {
   "cell_type": "code",
   "execution_count": null,
   "metadata": {
    "cell_id": "00002-16a2a1cf-eeab-42b1-9043-ed4c5a7c25d0",
    "colab": {
     "base_uri": "https://localhost:8080/"
    },
    "deepnote_cell_type": "code",
    "deepnote_to_be_reexecuted": false,
    "execution_millis": 5,
    "execution_start": 1621057521665,
    "id": "K9CPrer2C92_",
    "outputId": "45e7430b-97a7-4aa0-ce4a-5743e2b6596f",
    "source_hash": "b17c8e9a"
   },
   "outputs": [
    {
     "data": {
      "text/plain": [
       "(None,)"
      ]
     },
     "execution_count": 6,
     "metadata": {},
     "output_type": "execute_result"
    }
   ],
   "source": [
    "model.output_shape"
   ]
  },
  {
   "cell_type": "code",
   "execution_count": null,
   "metadata": {
    "cell_id": "00003-c956d32d-a321-4438-b3ce-5b2672fcbbca",
    "colab": {
     "base_uri": "https://localhost:8080/"
    },
    "deepnote_cell_type": "code",
    "deepnote_to_be_reexecuted": false,
    "execution_millis": 114,
    "execution_start": 1621057521950,
    "id": "IRyftylt6aDZ",
    "outputId": "a5019141-10bc-4552-da31-e1a7296a4138",
    "source_hash": "8c3a12e6"
   },
   "outputs": [
    {
     "data": {
      "text/plain": [
       "<tf.Tensor: shape=(), dtype=float32, numpy=-9.189385>"
      ]
     },
     "execution_count": 7,
     "metadata": {},
     "output_type": "execute_result"
    }
   ],
   "source": [
    "x = maf.sample()  # Expensive; uses `tf.while_loop`, no Bijector caching.\n",
    "maf.log_prob(x)   # Almost free; uses Bijector caching.\n",
    "# Cheap; no `tf.while_loop` despite no Bijector caching.\n",
    "maf.log_prob(tf.zeros(dims))"
   ]
  },
  {
   "cell_type": "code",
   "execution_count": null,
   "metadata": {
    "cell_id": "00004-a8315e9d-dd1b-4578-9f13-fda5897b3dd9",
    "colab": {
     "base_uri": "https://localhost:8080/"
    },
    "deepnote_cell_type": "code",
    "id": "tVAcyUrfIvoB",
    "outputId": "72a37904-f10a-4799-a0db-8f1869126f42"
   },
   "outputs": [
    {
     "data": {
      "text/plain": [
       "[TensorShape([10, 10]),\n",
       " TensorShape([10]),\n",
       " TensorShape([10, 10]),\n",
       " TensorShape([10]),\n",
       " TensorShape([10, 20]),\n",
       " TensorShape([20])]"
      ]
     },
     "execution_count": 89,
     "metadata": {
      "tags": []
     },
     "output_type": "execute_result"
    }
   ],
   "source": [
    "[mtv.shape for mtv in maf.trainable_variables]"
   ]
  },
  {
   "cell_type": "markdown",
   "metadata": {
    "cell_id": "00005-3320193c-e2b7-41b0-9f32-3c592eaf6040",
    "deepnote_cell_type": "text-cell-h3",
    "tags": []
   },
   "source": [
    "### MVLognormal"
   ]
  },
  {
   "cell_type": "code",
   "execution_count": null,
   "metadata": {
    "cell_id": "00005-31520394-3459-4546-ae20-5ccbab78d750",
    "deepnote_cell_type": "code",
    "deepnote_to_be_reexecuted": false,
    "execution_millis": 1,
    "execution_start": 1621057528635,
    "id": "oS3X4ox8Fvxd",
    "source_hash": "a7e72510"
   },
   "outputs": [],
   "source": [
    "NSAMP=1000\n",
    "based1 = tfd.Sample(tfd.Normal(loc=0., scale=1.), sample_shape=[dims])\n",
    "data = tf.exp(based1.sample(NSAMP))"
   ]
  },
  {
   "cell_type": "code",
   "execution_count": null,
   "metadata": {
    "cell_id": "00006-eecaaf65-ec67-448a-af11-5329b7328002",
    "colab": {
     "base_uri": "https://localhost:8080/"
    },
    "deepnote_cell_type": "code",
    "deepnote_to_be_reexecuted": false,
    "execution_millis": 73,
    "execution_start": 1621057528832,
    "id": "rSdt0M7xN8qR",
    "outputId": "88f0785d-2c87-42dd-c290-fd31c0f94b31",
    "source_hash": "4c21bd2b"
   },
   "outputs": [
    {
     "data": {
      "text/plain": [
       "44.61646"
      ]
     },
     "execution_count": 9,
     "metadata": {},
     "output_type": "execute_result"
    }
   ],
   "source": [
    "np.mean(-maf.log_prob(data))"
   ]
  },
  {
   "cell_type": "code",
   "execution_count": null,
   "metadata": {
    "cell_id": "00007-4fd11ad9-69e2-4bc5-8652-3e9e64581254",
    "colab": {
     "base_uri": "https://localhost:8080/"
    },
    "deepnote_cell_type": "code",
    "deepnote_to_be_reexecuted": false,
    "execution_millis": 4390,
    "execution_start": 1621057529150,
    "id": "C0vo9YyMJYjn",
    "outputId": "cbda8d25-eaab-4c1c-9533-6c7706fe3cb2",
    "source_hash": "2ddfe767"
   },
   "outputs": [
    {
     "name": "stdout",
     "output_type": "stream",
     "text": [
      "Epoch 1/50\n",
      "36/36 [==============================] - 1s 11ms/step - loss: 46.3035 - val_loss: 36.1101\n",
      "Epoch 2/50\n",
      "36/36 [==============================] - 0s 2ms/step - loss: 38.6574 - val_loss: 33.0207\n",
      "Epoch 3/50\n",
      "36/36 [==============================] - 0s 2ms/step - loss: 37.0219 - val_loss: 30.5366\n",
      "Epoch 4/50\n",
      "36/36 [==============================] - 0s 2ms/step - loss: 33.7481 - val_loss: 28.6359\n",
      "Epoch 5/50\n",
      "36/36 [==============================] - 0s 2ms/step - loss: 30.8650 - val_loss: 27.3270\n",
      "Epoch 6/50\n",
      "36/36 [==============================] - 0s 2ms/step - loss: 29.2900 - val_loss: 26.4179\n",
      "Epoch 7/50\n",
      "36/36 [==============================] - 0s 2ms/step - loss: 27.8952 - val_loss: 25.7670\n",
      "Epoch 8/50\n",
      "36/36 [==============================] - 0s 2ms/step - loss: 30.6761 - val_loss: 25.2997\n",
      "Epoch 9/50\n",
      "36/36 [==============================] - 0s 2ms/step - loss: 26.9486 - val_loss: 24.9265\n",
      "Epoch 10/50\n",
      "36/36 [==============================] - 0s 2ms/step - loss: 26.8526 - val_loss: 24.5983\n",
      "Epoch 11/50\n",
      "36/36 [==============================] - 0s 2ms/step - loss: 26.2642 - val_loss: 24.3585\n",
      "Epoch 12/50\n",
      "36/36 [==============================] - 0s 2ms/step - loss: 26.0311 - val_loss: 24.1105\n",
      "Epoch 13/50\n",
      "36/36 [==============================] - 0s 2ms/step - loss: 25.2922 - val_loss: 23.9316\n",
      "Epoch 14/50\n",
      "36/36 [==============================] - 0s 2ms/step - loss: 26.6820 - val_loss: 23.7676\n",
      "Epoch 15/50\n",
      "36/36 [==============================] - 0s 2ms/step - loss: 24.2794 - val_loss: 23.6255\n",
      "Epoch 16/50\n",
      "36/36 [==============================] - 0s 2ms/step - loss: 24.9199 - val_loss: 23.5065\n",
      "Epoch 17/50\n",
      "36/36 [==============================] - 0s 2ms/step - loss: 25.8632 - val_loss: 23.3851\n",
      "Epoch 18/50\n",
      "36/36 [==============================] - 0s 2ms/step - loss: 24.4696 - val_loss: 23.2781\n",
      "Epoch 19/50\n",
      "36/36 [==============================] - 0s 2ms/step - loss: 23.4055 - val_loss: 23.2043\n",
      "Epoch 20/50\n",
      "36/36 [==============================] - 0s 2ms/step - loss: 25.8333 - val_loss: 23.0728\n",
      "Epoch 21/50\n",
      "36/36 [==============================] - 0s 2ms/step - loss: 25.0621 - val_loss: 23.0555\n",
      "Epoch 22/50\n",
      "36/36 [==============================] - 0s 2ms/step - loss: 23.7164 - val_loss: 22.9273\n",
      "Epoch 23/50\n",
      "36/36 [==============================] - 0s 2ms/step - loss: 23.7296 - val_loss: 22.8837\n",
      "Epoch 24/50\n",
      "36/36 [==============================] - 0s 2ms/step - loss: 23.1943 - val_loss: 22.8538\n",
      "Epoch 25/50\n",
      "36/36 [==============================] - 0s 2ms/step - loss: 22.7990 - val_loss: 22.7257\n",
      "Epoch 26/50\n",
      "36/36 [==============================] - 0s 2ms/step - loss: 23.9438 - val_loss: 22.6876\n",
      "Epoch 27/50\n",
      "36/36 [==============================] - 0s 2ms/step - loss: 22.7343 - val_loss: 22.6647\n",
      "Epoch 28/50\n",
      "36/36 [==============================] - 0s 2ms/step - loss: 23.5360 - val_loss: 22.5763\n",
      "Epoch 29/50\n",
      "36/36 [==============================] - 0s 2ms/step - loss: 23.6674 - val_loss: 22.5462\n",
      "Epoch 30/50\n",
      "36/36 [==============================] - 0s 2ms/step - loss: 23.0465 - val_loss: 22.5103\n",
      "Epoch 31/50\n",
      "36/36 [==============================] - 0s 2ms/step - loss: 22.6908 - val_loss: 22.4672\n",
      "Epoch 32/50\n",
      "36/36 [==============================] - 0s 2ms/step - loss: 22.9316 - val_loss: 22.4008\n",
      "Epoch 33/50\n",
      "36/36 [==============================] - 0s 2ms/step - loss: 22.8273 - val_loss: 22.3834\n",
      "Epoch 34/50\n",
      "36/36 [==============================] - 0s 2ms/step - loss: 22.5715 - val_loss: 22.3540\n",
      "Epoch 35/50\n",
      "36/36 [==============================] - 0s 2ms/step - loss: 22.8390 - val_loss: 22.3354\n",
      "Epoch 36/50\n",
      "36/36 [==============================] - 0s 2ms/step - loss: 22.8829 - val_loss: 22.2966\n",
      "Epoch 37/50\n",
      "36/36 [==============================] - 0s 2ms/step - loss: 22.9085 - val_loss: 22.2706\n",
      "Epoch 38/50\n",
      "36/36 [==============================] - 0s 2ms/step - loss: 22.8045 - val_loss: 22.2324\n",
      "Epoch 39/50\n",
      "36/36 [==============================] - 0s 2ms/step - loss: 22.1782 - val_loss: 22.1664\n",
      "Epoch 40/50\n",
      "36/36 [==============================] - 0s 2ms/step - loss: 22.8685 - val_loss: 22.1673\n",
      "Epoch 41/50\n",
      "36/36 [==============================] - 0s 2ms/step - loss: 22.5593 - val_loss: 22.1391\n",
      "Epoch 42/50\n",
      "36/36 [==============================] - 0s 2ms/step - loss: 22.9724 - val_loss: 22.1201\n",
      "Epoch 43/50\n",
      "36/36 [==============================] - 0s 2ms/step - loss: 21.8742 - val_loss: 22.1027\n",
      "Epoch 44/50\n",
      "36/36 [==============================] - 0s 2ms/step - loss: 22.4559 - val_loss: 22.0503\n",
      "Epoch 45/50\n",
      "36/36 [==============================] - 0s 2ms/step - loss: 23.2544 - val_loss: 22.0311\n",
      "Epoch 46/50\n",
      "36/36 [==============================] - 0s 2ms/step - loss: 22.2268 - val_loss: 21.9968\n",
      "Epoch 47/50\n",
      "36/36 [==============================] - 0s 3ms/step - loss: 22.7397 - val_loss: 22.0239\n",
      "Epoch 48/50\n",
      "36/36 [==============================] - 0s 2ms/step - loss: 23.0491 - val_loss: 21.9917\n",
      "Epoch 49/50\n",
      "36/36 [==============================] - 0s 2ms/step - loss: 22.4008 - val_loss: 21.9458\n",
      "Epoch 50/50\n",
      "36/36 [==============================] - 0s 2ms/step - loss: 22.3163 - val_loss: 21.9285\n"
     ]
    },
    {
     "data": {
      "text/plain": [
       "<tensorflow.python.keras.callbacks.History at 0x7fb29bf89690>"
      ]
     },
     "execution_count": 10,
     "metadata": {},
     "output_type": "execute_result"
    }
   ],
   "source": [
    "#loss = -tf.reduce_mean(maf.log_prob(x_samples))\n",
    "#train_op = tf.train.AdamOptimizer(1e-3).minimize(loss)\n",
    "model.compile(optimizer=tf.optimizers.Adam(),\n",
    "              loss=lambda _, log_prob: -log_prob)\n",
    "\n",
    "batch_size = 25\n",
    "model.fit(x=data,\n",
    "          y=np.zeros((NSAMP, 0), dtype=np.float32), validation_split=0.1,\n",
    "          batch_size=batch_size,\n",
    "          epochs=50,  # Usually `n // batch_size`.\n",
    "          shuffle=True,\n",
    "          verbose=True)\n"
   ]
  },
  {
   "cell_type": "code",
   "execution_count": null,
   "metadata": {
    "cell_id": "00008-c297e9b3-c397-48e5-a20f-778c73faf41e",
    "deepnote_cell_type": "code",
    "deepnote_to_be_reexecuted": false,
    "execution_millis": 5,
    "execution_start": 1621057668582,
    "id": "c1HaQ2yJKbhE",
    "source_hash": "824a02c8"
   },
   "outputs": [
    {
     "name": "stdout",
     "output_type": "stream",
     "text": [
      "WARNING:tensorflow:From /root/venv/lib/python3.7/site-packages/tensorflow_probability/python/distributions/distribution.py:298: MultivariateNormalFullCovariance.__init__ (from tensorflow_probability.python.distributions.mvn_full_covariance) is deprecated and will be removed after 2019-12-01.\n",
      "Instructions for updating:\n",
      "`MultivariateNormalFullCovariance` is deprecated, use `MultivariateNormalTriL(loc=loc, scale_tril=tf.linalg.cholesky(covariance_matrix))` instead.\n"
     ]
    }
   ],
   "source": [
    "dmean = np.mean(data, axis=0)\n",
    "dcov = np.matmul(tf.transpose((data - dmean)), (data - dmean))/(NSAMP-1)\n",
    "mvg = tfd.Sample(tfd.MultivariateNormalFullCovariance(loc=dmean, covariance_matrix=dcov))"
   ]
  },
  {
   "cell_type": "code",
   "execution_count": null,
   "metadata": {
    "cell_id": "00009-630477a9-7a5e-4682-9f99-04d78ddc7b23",
    "deepnote_cell_type": "code",
    "deepnote_to_be_reexecuted": false,
    "execution_millis": 25,
    "execution_start": 1621057692813,
    "id": "GMyhbBifBNnC",
    "source_hash": "e9d8dbe1"
   },
   "outputs": [],
   "source": [
    "qgaussian = mvg.sample(10000)"
   ]
  },
  {
   "cell_type": "code",
   "execution_count": null,
   "metadata": {
    "cell_id": "00010-e094e406-2788-42f6-8b34-40c43b06aaf1",
    "deepnote_cell_type": "code",
    "deepnote_to_be_reexecuted": false,
    "execution_millis": 86,
    "execution_start": 1621057693535,
    "id": "8F0Vx26RP_1y",
    "source_hash": "6a8ab01d"
   },
   "outputs": [],
   "source": [
    "qmaf = maf.sample(10000)"
   ]
  },
  {
   "cell_type": "code",
   "execution_count": null,
   "metadata": {
    "cell_id": "00011-4e8446cf-6878-4478-a1c7-21eb215e5216",
    "colab": {
     "base_uri": "https://localhost:8080/",
     "height": 265
    },
    "deepnote_cell_type": "code",
    "deepnote_to_be_reexecuted": false,
    "execution_millis": 1192,
    "execution_start": 1621057694665,
    "id": "F1wmimSrSyG7",
    "outputId": "fbb5e8f9-fb79-4199-867c-44698696b654",
    "source_hash": "17abdee8"
   },
   "outputs": [
    {
     "data": {
      "image/png": "[encoded data removed]",
      "text/plain": [
       "<Figure size 432x288 with 1 Axes>"
      ]
     },
     "metadata": {
      "image/png": {
       "height": 250,
       "width": 368
      },
      "needs_background": "light"
     },
     "output_type": "display_data"
    }
   ],
   "source": [
    "import matplotlib.pyplot as plt\n",
    "\n",
    "plt.figure()\n",
    "plt.scatter(qgaussian[:, 0], qgaussian[:, 1], label='Gaussian approx')\n",
    "plt.scatter(data[:, 0], data[:, 1], label='true')\n",
    "plt.scatter(qmaf[:, 0], qmaf[:, 1], label='MAF approx')\n",
    "plt.legend()\n",
    "plt.show()"
   ]
  },
  {
   "cell_type": "code",
   "execution_count": null,
   "metadata": {
    "cell_id": "00012-716f2710-5aa6-47f4-bc67-96cbc3858fb0",
    "colab": {
     "base_uri": "https://localhost:8080/",
     "height": 265
    },
    "deepnote_cell_type": "code",
    "deepnote_to_be_reexecuted": false,
    "execution_millis": 715,
    "execution_start": 1621057809710,
    "id": "ziJBhcQbS1F6",
    "outputId": "08fc7365-1b33-424f-dadf-4c5f55357c8f",
    "source_hash": "c7d5ded6"
   },
   "outputs": [
    {
     "data": {
      "image/png": "[encoded data removed]",
      "text/plain": [
       "<Figure size 432x288 with 2 Axes>"
      ]
     },
     "metadata": {
      "image/png": {
       "height": 250,
       "width": 368
      },
      "needs_background": "light"
     },
     "output_type": "display_data"
    }
   ],
   "source": [
    "import matplotlib.pyplot as plt\n",
    "\n",
    "fig, ax = plt.subplots(ncols=2, nrows=1)\n",
    "ax[0].scatter(qgaussian[:, 0], qgaussian[:, 1], label='Gaussian approx')\n",
    "ax[0].scatter(data[:, 0], data[:, 1], label='true')\n",
    "ax[1].scatter(qmaf[:, 0], qmaf[:, 1], label='MAF approx')\n",
    "ax[1].scatter(data[:, 0], data[:, 1], label='true')\n",
    "ax[0].legend()\n",
    "ax[1].legend()\n",
    "plt.show()"
   ]
  },
  {
   "cell_type": "markdown",
   "metadata": {
    "cell_id": "00014-1714ca59-df9a-48e2-8308-d1e52b220430",
    "deepnote_cell_type": "text-cell-h3",
    "tags": []
   },
   "source": [
    "### LogCoeffs"
   ]
  },
  {
   "cell_type": "code",
   "execution_count": null,
   "metadata": {
    "cell_id": "00013-8c47bf84-a256-494c-aa2a-fe2d3203e51b",
    "deepnote_cell_type": "code",
    "deepnote_to_be_reexecuted": false,
    "execution_millis": 7,
    "execution_start": 1621067596462,
    "id": "cgYBs3aeUPmd",
    "source_hash": "587a3c01"
   },
   "outputs": [
    {
     "name": "stdout",
     "output_type": "stream",
     "text": [
      "<KeysViewHDF5 ['_types', 'apdbool', 'codestring', 'dbncoeffs', 'dhc_args', 'filter_hash', 'isobool', 'logbool', 'sampcov', 'sampmean']>\n"
     ]
    }
   ],
   "source": [
    "import h5py\n",
    "tfd = tfp.distributions\n",
    "tfb = tfp.bijectors\n",
    "\n",
    "f = h5py.File('reg_apd_noiso_logcoeff.jld2', 'r')\n",
    "print(f.keys())"
   ]
  },
  {
   "cell_type": "code",
   "execution_count": null,
   "metadata": {
    "cell_id": "00016-8935b9b2-198a-40ae-8f66-c40276bf7d28",
    "deepnote_cell_type": "code",
    "deepnote_to_be_reexecuted": false,
    "execution_millis": 48,
    "execution_start": 1621067596628,
    "source_hash": "bcfd7ee0",
    "tags": []
   },
   "outputs": [],
   "source": [
    "coeffs = f['dbncoeffs']\n",
    "coeffs = np.array(coeffs).T\n",
    "filter_hash = f['filter_hash']"
   ]
  },
  {
   "cell_type": "code",
   "execution_count": null,
   "metadata": {
    "cell_id": "00017-84a4f085-8106-4201-abd1-69e95c6394ed",
    "deepnote_cell_type": "code",
    "deepnote_to_be_reexecuted": false,
    "execution_millis": 1,
    "execution_start": 1621067596676,
    "source_hash": "9fe0784e",
    "tags": []
   },
   "outputs": [],
   "source": [
    "masktriu = np.triu(np.ones((34, 34)))\n",
    "mask = np.zeros(1192)\n",
    "mask[36:] = masktriu.flatten()"
   ]
  },
  {
   "cell_type": "code",
   "execution_count": null,
   "metadata": {
    "cell_id": "00018-a5f8d1d9-a68b-4085-85cc-38b683fbc616",
    "deepnote_cell_type": "code",
    "deepnote_to_be_reexecuted": false,
    "execution_millis": 17,
    "execution_start": 1621067596677,
    "source_hash": "84bdd2e",
    "tags": []
   },
   "outputs": [],
   "source": [
    "coeffs_triu = coeffs[:, np.array(mask, dtype=np.bool)]"
   ]
  },
  {
   "cell_type": "code",
   "execution_count": null,
   "metadata": {
    "cell_id": "00019-3273f159-8aba-4371-84bd-4e1634f5015a",
    "deepnote_cell_type": "code",
    "deepnote_to_be_reexecuted": false,
    "execution_millis": 5,
    "execution_start": 1621067596737,
    "source_hash": "b05c30d5",
    "tags": []
   },
   "outputs": [
    {
     "data": {
      "text/plain": [
       "(10000, 595)"
      ]
     },
     "execution_count": 7,
     "metadata": {},
     "output_type": "execute_result"
    }
   ],
   "source": [
    "coeffs_triu.shape"
   ]
  },
  {
   "cell_type": "code",
   "execution_count": null,
   "metadata": {
    "cell_id": "00021-f21c02fd-93f4-4ff2-b385-9e009849e925",
    "deepnote_cell_type": "code",
    "deepnote_to_be_reexecuted": false,
    "execution_millis": 128447,
    "execution_start": 1621067596739,
    "source_hash": "e66fa521",
    "tags": []
   },
   "outputs": [
    {
     "name": "stdout",
     "output_type": "stream",
     "text": [
      "Epoch 1/100\n",
      "180/180 [==============================] - 3s 11ms/step - loss: 4775.1877 - val_loss: 891.7315\n",
      "Epoch 2/100\n",
      "180/180 [==============================] - 1s 6ms/step - loss: 793.3962 - val_loss: 577.2341\n",
      "Epoch 3/100\n",
      "180/180 [==============================] - 1s 6ms/step - loss: 542.4168 - val_loss: 441.2399\n",
      "Epoch 4/100\n",
      "180/180 [==============================] - 1s 6ms/step - loss: 429.2006 - val_loss: 447.4180\n",
      "Epoch 5/100\n",
      "180/180 [==============================] - 1s 6ms/step - loss: 371.0976 - val_loss: 313.8260\n",
      "Epoch 6/100\n",
      "180/180 [==============================] - 1s 6ms/step - loss: 315.6543 - val_loss: 279.0809\n",
      "Epoch 7/100\n",
      "180/180 [==============================] - 1s 6ms/step - loss: 278.1755 - val_loss: 249.8728\n",
      "Epoch 8/100\n",
      "180/180 [==============================] - 1s 6ms/step - loss: 248.2059 - val_loss: 217.5628\n",
      "Epoch 9/100\n",
      "180/180 [==============================] - 1s 6ms/step - loss: 218.0451 - val_loss: 195.8363\n",
      "Epoch 10/100\n",
      "180/180 [==============================] - 1s 6ms/step - loss: 190.2212 - val_loss: 159.4321\n",
      "Epoch 11/100\n",
      "180/180 [==============================] - 1s 6ms/step - loss: 163.9041 - val_loss: 158.4426\n",
      "Epoch 12/100\n",
      "180/180 [==============================] - 1s 6ms/step - loss: 145.2328 - val_loss: 132.9090\n",
      "Epoch 13/100\n",
      "180/180 [==============================] - 1s 6ms/step - loss: 124.0157 - val_loss: 132.0567\n",
      "Epoch 14/100\n",
      "180/180 [==============================] - 1s 6ms/step - loss: 115.2828 - val_loss: 103.7086\n",
      "Epoch 15/100\n",
      "180/180 [==============================] - 1s 6ms/step - loss: 107.7267 - val_loss: 112.7327\n",
      "Epoch 16/100\n",
      "180/180 [==============================] - 1s 6ms/step - loss: 94.2809 - val_loss: 74.2228\n",
      "Epoch 17/100\n",
      "180/180 [==============================] - 1s 6ms/step - loss: 88.0747 - val_loss: 122.9639\n",
      "Epoch 18/100\n",
      "180/180 [==============================] - 1s 6ms/step - loss: 79.0546 - val_loss: 64.3568\n",
      "Epoch 19/100\n",
      "180/180 [==============================] - 2s 9ms/step - loss: 75.2682 - val_loss: 74.4574\n",
      "Epoch 20/100\n",
      "180/180 [==============================] - 2s 13ms/step - loss: 56.9548 - val_loss: 57.3780\n",
      "Epoch 21/100\n",
      "180/180 [==============================] - 3s 16ms/step - loss: 51.2396 - val_loss: 49.0977\n",
      "Epoch 22/100\n",
      "180/180 [==============================] - 2s 11ms/step - loss: 43.5283 - val_loss: 41.3118\n",
      "Epoch 23/100\n",
      "180/180 [==============================] - 2s 11ms/step - loss: 49.6447 - val_loss: 39.5137\n",
      "Epoch 24/100\n",
      "180/180 [==============================] - 2s 13ms/step - loss: 31.1434 - val_loss: 20.0354\n",
      "Epoch 25/100\n",
      "180/180 [==============================] - 3s 14ms/step - loss: 32.9924 - val_loss: 25.2034\n",
      "Epoch 26/100\n",
      "180/180 [==============================] - 2s 13ms/step - loss: 13.3369 - val_loss: 26.0779\n",
      "Epoch 27/100\n",
      "180/180 [==============================] - 2s 14ms/step - loss: 16.5294 - val_loss: 10.7488\n",
      "Epoch 28/100\n",
      "180/180 [==============================] - 2s 12ms/step - loss: 20.7234 - val_loss: -0.2938\n",
      "Epoch 29/100\n",
      "180/180 [==============================] - 2s 13ms/step - loss: 29.9613 - val_loss: -1.2792\n",
      "Epoch 30/100\n",
      "180/180 [==============================] - 2s 12ms/step - loss: 2.0746 - val_loss: -3.8909\n",
      "Epoch 31/100\n",
      "180/180 [==============================] - 1s 7ms/step - loss: -5.9598 - val_loss: -7.6448\n",
      "Epoch 32/100\n",
      "180/180 [==============================] - 1s 6ms/step - loss: -5.0072 - val_loss: -14.2765\n",
      "Epoch 33/100\n",
      "180/180 [==============================] - 1s 6ms/step - loss: -11.7839 - val_loss: -21.5706\n",
      "Epoch 34/100\n",
      "180/180 [==============================] - 1s 6ms/step - loss: -4.7905 - val_loss: -24.8283\n",
      "Epoch 35/100\n",
      "180/180 [==============================] - 1s 6ms/step - loss: -24.9122 - val_loss: 9.0607\n",
      "Epoch 36/100\n",
      "180/180 [==============================] - 1s 7ms/step - loss: -22.5782 - val_loss: 6.8624\n",
      "Epoch 37/100\n",
      "180/180 [==============================] - 1s 6ms/step - loss: -29.5537 - val_loss: -24.7501\n",
      "Epoch 38/100\n",
      "180/180 [==============================] - 1s 6ms/step - loss: -33.1969 - val_loss: -3.8045\n",
      "Epoch 39/100\n",
      "180/180 [==============================] - 1s 7ms/step - loss: -35.1373 - val_loss: -55.4476\n",
      "Epoch 40/100\n",
      "180/180 [==============================] - 1s 6ms/step - loss: -49.2386 - val_loss: -57.0659\n",
      "Epoch 41/100\n",
      "180/180 [==============================] - 1s 6ms/step - loss: -51.9017 - val_loss: 27.6933\n",
      "Epoch 42/100\n",
      "180/180 [==============================] - 1s 6ms/step - loss: -41.7787 - val_loss: -53.7886\n",
      "Epoch 43/100\n",
      "180/180 [==============================] - 1s 6ms/step - loss: -58.4365 - val_loss: -66.1748\n",
      "Epoch 44/100\n",
      "180/180 [==============================] - 1s 6ms/step - loss: -52.0321 - val_loss: -75.3515\n",
      "Epoch 45/100\n",
      "180/180 [==============================] - 1s 6ms/step - loss: -64.0215 - val_loss: -57.4571\n",
      "Epoch 46/100\n",
      "180/180 [==============================] - 1s 7ms/step - loss: -55.2772 - val_loss: -37.8999\n",
      "Epoch 47/100\n",
      "180/180 [==============================] - 1s 6ms/step - loss: -74.5222 - val_loss: -84.0560\n",
      "Epoch 48/100\n",
      "180/180 [==============================] - 1s 6ms/step - loss: -78.9901 - val_loss: -81.8498\n",
      "Epoch 49/100\n",
      "180/180 [==============================] - 1s 6ms/step - loss: -78.1985 - val_loss: -90.9680\n",
      "Epoch 50/100\n",
      "180/180 [==============================] - 1s 6ms/step - loss: -84.7542 - val_loss: -100.1194\n",
      "Epoch 51/100\n",
      "180/180 [==============================] - 1s 6ms/step - loss: -81.3748 - val_loss: -71.6416\n",
      "Epoch 52/100\n",
      "180/180 [==============================] - 1s 6ms/step - loss: -90.3677 - val_loss: -95.9773\n",
      "Epoch 53/100\n",
      "180/180 [==============================] - 1s 6ms/step - loss: -92.8866 - val_loss: -98.0779\n",
      "Epoch 54/100\n",
      "180/180 [==============================] - 1s 6ms/step - loss: -88.3725 - val_loss: -101.7421\n",
      "Epoch 55/100\n",
      "180/180 [==============================] - 1s 6ms/step - loss: -107.3140 - val_loss: -103.9811\n",
      "Epoch 56/100\n",
      "180/180 [==============================] - 1s 6ms/step - loss: -94.3777 - val_loss: -122.3778\n",
      "Epoch 57/100\n",
      "180/180 [==============================] - 1s 6ms/step - loss: -110.2442 - val_loss: -81.6940\n",
      "Epoch 58/100\n",
      "180/180 [==============================] - 1s 6ms/step - loss: -103.8838 - val_loss: -118.3290\n",
      "Epoch 59/100\n",
      "180/180 [==============================] - 1s 6ms/step - loss: -112.6754 - val_loss: -118.6278\n",
      "Epoch 60/100\n",
      "180/180 [==============================] - 1s 6ms/step - loss: -115.9532 - val_loss: -129.4671\n",
      "Epoch 61/100\n",
      "180/180 [==============================] - 1s 6ms/step - loss: -121.2701 - val_loss: -121.3411\n",
      "Epoch 62/100\n",
      "180/180 [==============================] - 1s 6ms/step - loss: -118.4194 - val_loss: -129.2184\n",
      "Epoch 63/100\n",
      "180/180 [==============================] - 1s 6ms/step - loss: -123.6509 - val_loss: -119.2758\n",
      "Epoch 64/100\n",
      "180/180 [==============================] - 1s 6ms/step - loss: -117.1329 - val_loss: -107.6946\n",
      "Epoch 65/100\n",
      "180/180 [==============================] - 1s 6ms/step - loss: -129.6520 - val_loss: -135.4531\n",
      "Epoch 66/100\n",
      "180/180 [==============================] - 1s 6ms/step - loss: -127.3148 - val_loss: -131.8554\n",
      "Epoch 67/100\n",
      "180/180 [==============================] - 1s 6ms/step - loss: -127.0822 - val_loss: -106.5153\n",
      "Epoch 68/100\n",
      "180/180 [==============================] - 1s 6ms/step - loss: -135.2529 - val_loss: -126.2207\n",
      "Epoch 69/100\n",
      "180/180 [==============================] - 1s 6ms/step - loss: -136.1015 - val_loss: -143.9877\n",
      "Epoch 70/100\n",
      "180/180 [==============================] - 1s 6ms/step - loss: -130.3603 - val_loss: -142.4021\n",
      "Epoch 71/100\n",
      "180/180 [==============================] - 1s 6ms/step - loss: -139.5422 - val_loss: -152.2200\n",
      "Epoch 72/100\n",
      "180/180 [==============================] - 1s 6ms/step - loss: -133.4201 - val_loss: -150.4140\n",
      "Epoch 73/100\n",
      "180/180 [==============================] - 1s 6ms/step - loss: -147.6692 - val_loss: -163.2814\n",
      "Epoch 74/100\n",
      "180/180 [==============================] - 1s 6ms/step - loss: -149.5821 - val_loss: -146.4394\n",
      "Epoch 75/100\n",
      "180/180 [==============================] - 1s 6ms/step - loss: -147.5532 - val_loss: -159.8580\n",
      "Epoch 76/100\n",
      "180/180 [==============================] - 1s 6ms/step - loss: -141.5252 - val_loss: -167.0788\n",
      "Epoch 77/100\n",
      "180/180 [==============================] - 1s 6ms/step - loss: -148.2656 - val_loss: -173.3734\n",
      "Epoch 78/100\n",
      "180/180 [==============================] - 1s 6ms/step - loss: -154.3389 - val_loss: -164.2169\n",
      "Epoch 79/100\n",
      "180/180 [==============================] - 1s 6ms/step - loss: -153.2389 - val_loss: -178.9992\n",
      "Epoch 80/100\n",
      "180/180 [==============================] - 1s 6ms/step - loss: -159.6815 - val_loss: -155.0598\n",
      "Epoch 81/100\n",
      "180/180 [==============================] - 1s 6ms/step - loss: -158.7831 - val_loss: -167.1267\n",
      "Epoch 82/100\n",
      "180/180 [==============================] - 1s 6ms/step - loss: -155.3530 - val_loss: -174.5543\n",
      "Epoch 83/100\n",
      "180/180 [==============================] - 1s 6ms/step - loss: -161.6769 - val_loss: -165.5225\n",
      "Epoch 84/100\n",
      "180/180 [==============================] - 1s 6ms/step - loss: -168.8280 - val_loss: -168.9599\n",
      "Epoch 85/100\n",
      "180/180 [==============================] - 1s 6ms/step - loss: -163.4751 - val_loss: -185.4357\n",
      "Epoch 86/100\n",
      "180/180 [==============================] - 1s 6ms/step - loss: -173.5324 - val_loss: -177.7830\n",
      "Epoch 87/100\n",
      "180/180 [==============================] - 1s 6ms/step - loss: -172.4123 - val_loss: -181.8000\n",
      "Epoch 88/100\n",
      "180/180 [==============================] - 1s 6ms/step - loss: -166.3207 - val_loss: -161.4683\n",
      "Epoch 89/100\n",
      "180/180 [==============================] - 1s 6ms/step - loss: -177.0779 - val_loss: -186.2200\n",
      "Epoch 90/100\n",
      "180/180 [==============================] - 1s 6ms/step - loss: -179.8794 - val_loss: -187.4117\n",
      "Epoch 91/100\n",
      "180/180 [==============================] - 1s 6ms/step - loss: -175.6308 - val_loss: -173.2301\n",
      "Epoch 92/100\n",
      "180/180 [==============================] - 1s 6ms/step - loss: -168.3672 - val_loss: -191.3622\n",
      "Epoch 93/100\n",
      "180/180 [==============================] - 1s 6ms/step - loss: -179.9047 - val_loss: -191.2453\n",
      "Epoch 94/100\n",
      "180/180 [==============================] - 1s 6ms/step - loss: -182.1667 - val_loss: -183.4467\n",
      "Epoch 95/100\n",
      "180/180 [==============================] - 1s 6ms/step - loss: -179.2497 - val_loss: -173.1896\n",
      "Epoch 96/100\n",
      "180/180 [==============================] - 1s 6ms/step - loss: -183.8324 - val_loss: -186.7386\n",
      "Epoch 97/100\n",
      "180/180 [==============================] - 1s 6ms/step - loss: -185.9725 - val_loss: -195.4580\n",
      "Epoch 98/100\n",
      "180/180 [==============================] - 1s 6ms/step - loss: -187.7480 - val_loss: -184.7961\n",
      "Epoch 99/100\n",
      "180/180 [==============================] - 1s 6ms/step - loss: -189.7500 - val_loss: -179.6987\n",
      "Epoch 100/100\n",
      "180/180 [==============================] - 1s 6ms/step - loss: -190.8760 - val_loss: -206.0603\n"
     ]
    },
    {
     "data": {
      "text/plain": [
       "<tensorflow.python.keras.callbacks.History at 0x7f3e6db4a7d0>"
      ]
     },
     "execution_count": 9,
     "metadata": {},
     "output_type": "execute_result"
    }
   ],
   "source": [
    "modcoeffs, mafcoeffs = get_maf_model(595)\n",
    "batch_size = 50\n",
    "NSAMP = coeffs_triu.shape[0]\n",
    "modcoeffs.fit(x=coeffs_triu, y=np.zeros((NSAMP, 0), dtype=np.float32), validation_split=0.1,\n",
    "          batch_size=batch_size, epochs=100,  # Usually `n // batch_size`.\n",
    "          shuffle=True, verbose=True)\n"
   ]
  },
  {
   "cell_type": "code",
   "execution_count": null,
   "metadata": {
    "cell_id": "00023-b4cfb30d-8c6f-4631-a154-40df99ed8045",
    "deepnote_cell_type": "code",
    "deepnote_to_be_reexecuted": false,
    "execution_millis": 11062,
    "execution_start": 1621067931685,
    "source_hash": "7a28dde1",
    "tags": []
   },
   "outputs": [
    {
     "name": "stdout",
     "output_type": "stream",
     "text": [
      "WARNING:tensorflow:From /root/venv/lib/python3.7/site-packages/tensorflow_probability/python/distributions/distribution.py:298: MultivariateNormalFullCovariance.__init__ (from tensorflow_probability.python.distributions.mvn_full_covariance) is deprecated and will be removed after 2019-12-01.\n",
      "Instructions for updating:\n",
      "`MultivariateNormalFullCovariance` is deprecated, use `MultivariateNormalTriL(loc=loc, scale_tril=tf.linalg.cholesky(covariance_matrix))` instead.\n"
     ]
    },
    {
     "data": {
      "image/png": "[encoded data removed]",
      "text/plain": [
       "<Figure size 432x288 with 1 Axes>"
      ]
     },
     "metadata": {
      "image/png": {
       "height": 248,
       "width": 377
      },
      "needs_background": "light"
     },
     "output_type": "display_data"
    },
    {
     "ename": "KernelInterrupted",
     "evalue": "Execution interrupted by the Jupyter kernel.",
     "output_type": "error",
     "traceback": [
      "\u001b[0;31m---------------------------------------------------------------------------\u001b[0m",
      "\u001b[0;31mKernelInterrupted\u001b[0m: Execution interrupted by the Jupyter kernel."
     ]
    }
   ],
   "source": [
    "#bs=100: 327 after 500\n",
    "#50: 169 after 500\n",
    "dmean = np.mean(coeffs_triu, axis=0)\n",
    "dcov = np.matmul(tf.transpose((coeffs_triu - dmean)), (coeffs_triu - dmean))/(NSAMP-1)\n",
    "mvg = tfd.Sample(tfd.MultivariateNormalFullCovariance(loc=dmean, covariance_matrix=dcov))\n",
    "qgaussian = mvg.sample(1000)\n",
    "qmaf = mafcoeffs.sample(1000)\n",
    "import matplotlib.pyplot as plt\n",
    "\n",
    "plt.figure()\n",
    "plt.scatter(qgaussian[:, 0], qgaussian[:, 1], label='Gaussian approx')\n",
    "plt.scatter(coeffs_triu[:1000, 0], coeffs_triu[:1000, 1], label='true')\n",
    "plt.scatter(qmaf[:, 0], qmaf[:, 1], label='MAF approx')\n",
    "plt.legend()\n",
    "plt.show()"
   ]
  },
  {
   "cell_type": "markdown",
   "metadata": {
    "cell_id": "00023-3f42c537-b7c4-4bf6-99bf-95fba9ae30a5",
    "deepnote_cell_type": "text-cell-h3",
    "tags": []
   },
   "source": [
    "### Moons test"
   ]
  },
  {
   "cell_type": "code",
   "execution_count": 5,
   "metadata": {
    "cell_id": "00024-d63d627a-e4d6-40eb-97ed-ed7c1300a6a1",
    "deepnote_cell_type": "code",
    "deepnote_to_be_reexecuted": false,
    "execution_millis": 726,
    "execution_start": 1621115470806,
    "source_hash": "149212d4",
    "tags": []
   },
   "outputs": [
    {
     "data": {
      "text/plain": [
       "(1000, 2)"
      ]
     },
     "execution_count": 5,
     "metadata": {},
     "output_type": "execute_result"
    }
   ],
   "source": [
    "import sklearn.datasets as skds\n",
    "\n",
    "data = skds.make_moons(1000)\n",
    "data[0].shape"
   ]
  },
  {
   "cell_type": "code",
   "execution_count": null,
   "metadata": {
    "cell_id": "00023-871a0eb1-c073-47bd-8597-a3ed8bac32cf",
    "deepnote_cell_type": "code",
    "deepnote_to_be_reexecuted": false,
    "execution_millis": 7515,
    "execution_start": 1621114232847,
    "source_hash": "5a6c5f5",
    "tags": []
   },
   "outputs": [
    {
     "name": "stdout",
     "output_type": "stream",
     "text": [
      "Epoch 1/100\n",
      "18/18 [==============================] - 1s 12ms/step - loss: 2.3439 - val_loss: 2.0547\n",
      "Epoch 2/100\n",
      "18/18 [==============================] - 0s 3ms/step - loss: 2.0388 - val_loss: 2.0574\n",
      "Epoch 3/100\n",
      "18/18 [==============================] - 0s 4ms/step - loss: 1.9804 - val_loss: 1.9658\n",
      "Epoch 4/100\n",
      "18/18 [==============================] - 0s 4ms/step - loss: 1.8954 - val_loss: 1.8664\n",
      "Epoch 5/100\n",
      "18/18 [==============================] - 0s 3ms/step - loss: 1.8152 - val_loss: 1.8248\n",
      "Epoch 6/100\n",
      "18/18 [==============================] - 0s 3ms/step - loss: 1.7408 - val_loss: 1.7971\n",
      "Epoch 7/100\n",
      "18/18 [==============================] - 0s 4ms/step - loss: 1.6434 - val_loss: 1.6452\n",
      "Epoch 8/100\n",
      "18/18 [==============================] - 0s 3ms/step - loss: 1.6454 - val_loss: 1.5962\n",
      "Epoch 9/100\n",
      "18/18 [==============================] - 0s 3ms/step - loss: 1.5679 - val_loss: 1.6632\n",
      "Epoch 10/100\n",
      "18/18 [==============================] - 0s 4ms/step - loss: 1.4738 - val_loss: 1.5533\n",
      "Epoch 11/100\n",
      "18/18 [==============================] - 0s 3ms/step - loss: 1.4830 - val_loss: 1.4872\n",
      "Epoch 12/100\n",
      "18/18 [==============================] - 0s 3ms/step - loss: 1.3891 - val_loss: 1.4958\n",
      "Epoch 13/100\n",
      "18/18 [==============================] - 0s 3ms/step - loss: 1.4866 - val_loss: 1.4952\n",
      "Epoch 14/100\n",
      "18/18 [==============================] - 0s 4ms/step - loss: 1.4757 - val_loss: 1.6038\n",
      "Epoch 15/100\n",
      "18/18 [==============================] - 0s 3ms/step - loss: 1.4100 - val_loss: 1.6378\n",
      "Epoch 16/100\n",
      "18/18 [==============================] - 0s 3ms/step - loss: 1.4315 - val_loss: 1.3831\n",
      "Epoch 17/100\n",
      "18/18 [==============================] - 0s 3ms/step - loss: 1.3374 - val_loss: 1.4343\n",
      "Epoch 18/100\n",
      "18/18 [==============================] - 0s 3ms/step - loss: 1.2946 - val_loss: 1.3337\n",
      "Epoch 19/100\n",
      "18/18 [==============================] - 0s 5ms/step - loss: 1.2689 - val_loss: 1.3689\n",
      "Epoch 20/100\n",
      "18/18 [==============================] - 0s 3ms/step - loss: 1.2966 - val_loss: 1.4498\n",
      "Epoch 21/100\n",
      "18/18 [==============================] - 0s 3ms/step - loss: 1.2195 - val_loss: 1.2542\n",
      "Epoch 22/100\n",
      "18/18 [==============================] - 0s 3ms/step - loss: 1.2445 - val_loss: 1.3239\n",
      "Epoch 23/100\n",
      "18/18 [==============================] - 0s 3ms/step - loss: 1.3022 - val_loss: 1.3001\n",
      "Epoch 24/100\n",
      "18/18 [==============================] - 0s 3ms/step - loss: 1.1269 - val_loss: 1.3045\n",
      "Epoch 25/100\n",
      "18/18 [==============================] - 0s 4ms/step - loss: 1.2176 - val_loss: 1.4509\n",
      "Epoch 26/100\n",
      "18/18 [==============================] - 0s 5ms/step - loss: 1.2341 - val_loss: 1.2694\n",
      "Epoch 27/100\n",
      "18/18 [==============================] - 0s 3ms/step - loss: 1.1136 - val_loss: 1.1613\n",
      "Epoch 28/100\n",
      "18/18 [==============================] - 0s 4ms/step - loss: 1.2074 - val_loss: 1.1742\n",
      "Epoch 29/100\n",
      "18/18 [==============================] - 0s 3ms/step - loss: 1.1099 - val_loss: 1.3677\n",
      "Epoch 30/100\n",
      "18/18 [==============================] - 0s 3ms/step - loss: 1.1779 - val_loss: 1.1300\n",
      "Epoch 31/100\n",
      "18/18 [==============================] - 0s 3ms/step - loss: 1.0893 - val_loss: 1.0756\n",
      "Epoch 32/100\n",
      "18/18 [==============================] - 0s 3ms/step - loss: 0.9940 - val_loss: 1.2370\n",
      "Epoch 33/100\n",
      "18/18 [==============================] - 0s 3ms/step - loss: 0.9171 - val_loss: 1.2757\n",
      "Epoch 34/100\n",
      "18/18 [==============================] - 0s 3ms/step - loss: 1.0824 - val_loss: 1.0706\n",
      "Epoch 35/100\n",
      "18/18 [==============================] - 0s 4ms/step - loss: 1.0046 - val_loss: 0.9727\n",
      "Epoch 36/100\n",
      "18/18 [==============================] - 0s 3ms/step - loss: 0.9894 - val_loss: 1.1756\n",
      "Epoch 37/100\n",
      "18/18 [==============================] - 0s 3ms/step - loss: 1.0825 - val_loss: 1.0141\n",
      "Epoch 38/100\n",
      "18/18 [==============================] - 0s 3ms/step - loss: 0.9353 - val_loss: 0.8677\n",
      "Epoch 39/100\n",
      "18/18 [==============================] - 0s 3ms/step - loss: 0.9491 - val_loss: 1.2900\n",
      "Epoch 40/100\n",
      "18/18 [==============================] - 0s 3ms/step - loss: 1.2115 - val_loss: 1.2593\n",
      "Epoch 41/100\n",
      "18/18 [==============================] - 0s 4ms/step - loss: 1.1485 - val_loss: 1.0762\n",
      "Epoch 42/100\n",
      "18/18 [==============================] - 0s 3ms/step - loss: 1.0529 - val_loss: 0.8523\n",
      "Epoch 43/100\n",
      "18/18 [==============================] - 0s 4ms/step - loss: 0.8678 - val_loss: 0.8431\n",
      "Epoch 44/100\n",
      "18/18 [==============================] - 0s 3ms/step - loss: 0.9364 - val_loss: 0.9491\n",
      "Epoch 45/100\n",
      "18/18 [==============================] - 0s 3ms/step - loss: 0.9808 - val_loss: 0.9467\n",
      "Epoch 46/100\n",
      "18/18 [==============================] - 0s 3ms/step - loss: 0.9073 - val_loss: 0.7900\n",
      "Epoch 47/100\n",
      "18/18 [==============================] - 0s 3ms/step - loss: 0.8475 - val_loss: 0.9803\n",
      "Epoch 48/100\n",
      "18/18 [==============================] - 0s 4ms/step - loss: 0.8762 - val_loss: 0.9515\n",
      "Epoch 49/100\n",
      "18/18 [==============================] - 0s 3ms/step - loss: 1.1010 - val_loss: 0.9641\n",
      "Epoch 50/100\n",
      "18/18 [==============================] - 0s 4ms/step - loss: 0.9831 - val_loss: 0.8475\n",
      "Epoch 51/100\n",
      "18/18 [==============================] - 0s 3ms/step - loss: 0.8862 - val_loss: 0.7562\n",
      "Epoch 52/100\n",
      "18/18 [==============================] - 0s 3ms/step - loss: 0.7818 - val_loss: 0.8136\n",
      "Epoch 53/100\n",
      "18/18 [==============================] - 0s 4ms/step - loss: 0.8924 - val_loss: 0.7821\n",
      "Epoch 54/100\n",
      "18/18 [==============================] - 0s 4ms/step - loss: 0.9818 - val_loss: 0.8334\n",
      "Epoch 55/100\n",
      "18/18 [==============================] - 0s 3ms/step - loss: 0.9308 - val_loss: 0.8649\n",
      "Epoch 56/100\n",
      "18/18 [==============================] - 0s 4ms/step - loss: 0.8749 - val_loss: 0.7141\n",
      "Epoch 57/100\n",
      "18/18 [==============================] - 0s 3ms/step - loss: 0.7380 - val_loss: 0.8459\n",
      "Epoch 58/100\n",
      "18/18 [==============================] - 0s 3ms/step - loss: 0.8500 - val_loss: 0.9840\n",
      "Epoch 59/100\n",
      "18/18 [==============================] - 0s 4ms/step - loss: 0.8741 - val_loss: 0.7782\n",
      "Epoch 60/100\n",
      "18/18 [==============================] - 0s 3ms/step - loss: 0.8206 - val_loss: 0.7135\n",
      "Epoch 61/100\n",
      "18/18 [==============================] - 0s 3ms/step - loss: 0.7179 - val_loss: 0.9155\n",
      "Epoch 62/100\n",
      "18/18 [==============================] - 0s 3ms/step - loss: 0.8823 - val_loss: 0.7127\n",
      "Epoch 63/100\n",
      "18/18 [==============================] - 0s 3ms/step - loss: 0.6967 - val_loss: 0.5500\n",
      "Epoch 64/100\n",
      "18/18 [==============================] - 0s 3ms/step - loss: 0.7620 - val_loss: 0.8071\n",
      "Epoch 65/100\n",
      "18/18 [==============================] - 0s 3ms/step - loss: 0.8126 - val_loss: 0.6630\n",
      "Epoch 66/100\n",
      "18/18 [==============================] - 0s 4ms/step - loss: 0.6075 - val_loss: 0.6475\n",
      "Epoch 67/100\n",
      "18/18 [==============================] - 0s 5ms/step - loss: 0.6092 - val_loss: 0.5196\n",
      "Epoch 68/100\n",
      "18/18 [==============================] - 0s 3ms/step - loss: 0.7620 - val_loss: 0.7666\n",
      "Epoch 69/100\n",
      "18/18 [==============================] - 0s 3ms/step - loss: 0.8218 - val_loss: 0.6888\n",
      "Epoch 70/100\n",
      "18/18 [==============================] - 0s 3ms/step - loss: 0.7094 - val_loss: 0.5971\n",
      "Epoch 71/100\n",
      "18/18 [==============================] - 0s 3ms/step - loss: 0.6870 - val_loss: 0.5167\n",
      "Epoch 72/100\n",
      "18/18 [==============================] - 0s 4ms/step - loss: 0.5909 - val_loss: 1.1714\n",
      "Epoch 73/100\n",
      "18/18 [==============================] - 0s 3ms/step - loss: 1.0000 - val_loss: 0.7484\n",
      "Epoch 74/100\n",
      "18/18 [==============================] - 0s 4ms/step - loss: 0.7321 - val_loss: 0.7034\n",
      "Epoch 75/100\n",
      "18/18 [==============================] - 0s 3ms/step - loss: 0.6750 - val_loss: 1.0666\n",
      "Epoch 76/100\n",
      "18/18 [==============================] - 0s 4ms/step - loss: 0.7291 - val_loss: 1.2087\n",
      "Epoch 77/100\n",
      "18/18 [==============================] - 0s 3ms/step - loss: 1.0144 - val_loss: 0.7581\n",
      "Epoch 78/100\n",
      "18/18 [==============================] - 0s 3ms/step - loss: 0.8224 - val_loss: 0.7471\n",
      "Epoch 79/100\n",
      "18/18 [==============================] - 0s 5ms/step - loss: 0.6792 - val_loss: 0.5116\n",
      "Epoch 80/100\n",
      "18/18 [==============================] - 0s 5ms/step - loss: 0.6065 - val_loss: 0.4408\n",
      "Epoch 81/100\n",
      "18/18 [==============================] - 0s 5ms/step - loss: 0.5385 - val_loss: 0.3427\n",
      "Epoch 82/100\n",
      "18/18 [==============================] - 0s 3ms/step - loss: 0.4745 - val_loss: 0.4348\n",
      "Epoch 83/100\n",
      "18/18 [==============================] - 0s 3ms/step - loss: 0.5757 - val_loss: 0.4231\n",
      "Epoch 84/100\n",
      "18/18 [==============================] - 0s 3ms/step - loss: 0.6686 - val_loss: 0.7508\n",
      "Epoch 85/100\n",
      "18/18 [==============================] - 0s 3ms/step - loss: 0.6899 - val_loss: 0.5402\n",
      "Epoch 86/100\n",
      "18/18 [==============================] - 0s 4ms/step - loss: 0.6010 - val_loss: 0.4855\n",
      "Epoch 87/100\n",
      "18/18 [==============================] - 0s 5ms/step - loss: 0.5277 - val_loss: 1.1595\n",
      "Epoch 88/100\n",
      "18/18 [==============================] - 0s 4ms/step - loss: 1.1825 - val_loss: 0.7129\n",
      "Epoch 89/100\n",
      "18/18 [==============================] - 0s 3ms/step - loss: 0.8260 - val_loss: 0.5899\n",
      "Epoch 90/100\n",
      "18/18 [==============================] - 0s 3ms/step - loss: 0.7009 - val_loss: 0.3861\n",
      "Epoch 91/100\n",
      "18/18 [==============================] - 0s 3ms/step - loss: 0.6028 - val_loss: 0.4074\n",
      "Epoch 92/100\n",
      "18/18 [==============================] - 0s 3ms/step - loss: 0.4668 - val_loss: 0.4608\n",
      "Epoch 93/100\n",
      "18/18 [==============================] - 0s 3ms/step - loss: 0.5253 - val_loss: 0.4376\n",
      "Epoch 94/100\n",
      "18/18 [==============================] - 0s 3ms/step - loss: 0.4853 - val_loss: 0.3358\n",
      "Epoch 95/100\n",
      "18/18 [==============================] - 0s 4ms/step - loss: 0.4593 - val_loss: 1.4994\n",
      "Epoch 96/100\n",
      "18/18 [==============================] - 0s 4ms/step - loss: 2.7684 - val_loss: 1.2659\n",
      "Epoch 97/100\n",
      "18/18 [==============================] - 0s 3ms/step - loss: 1.2484 - val_loss: 0.8756\n",
      "Epoch 98/100\n",
      "18/18 [==============================] - 0s 3ms/step - loss: 0.8812 - val_loss: 1.0336\n",
      "Epoch 99/100\n",
      "18/18 [==============================] - 0s 3ms/step - loss: 0.8697 - val_loss: 0.9475\n",
      "Epoch 100/100\n",
      "18/18 [==============================] - 0s 3ms/step - loss: 0.9475 - val_loss: 0.7472\n"
     ]
    },
    {
     "data": {
      "text/plain": [
       "<tensorflow.python.keras.callbacks.History at 0x7f5d59f99a10>"
      ]
     },
     "execution_count": 14,
     "metadata": {},
     "output_type": "execute_result"
    }
   ],
   "source": [
    "inputdbn = data[0]\n",
    "modcoeffs, mafcoeffs = get_maf_model(2)\n",
    "batch_size = 50\n",
    "NSAMP = inputdbn.shape[0]\n",
    "modcoeffs.fit(x=inputdbn, y=np.zeros((NSAMP, 0), dtype=np.float32), validation_split=0.1,\n",
    "          batch_size=batch_size, epochs=100,  # Usually `n // batch_size`.\n",
    "          shuffle=True, verbose=True)\n"
   ]
  },
  {
   "cell_type": "code",
   "execution_count": null,
   "metadata": {
    "cell_id": "00024-bd9e5637-f645-42c5-a101-6f1aa9a64b86",
    "deepnote_cell_type": "code",
    "deepnote_to_be_reexecuted": false,
    "execution_millis": 1015,
    "execution_start": 1621114261465,
    "source_hash": "4805ebce",
    "tags": []
   },
   "outputs": [
    {
     "name": "stdout",
     "output_type": "stream",
     "text": [
      "WARNING:tensorflow:From /root/venv/lib/python3.7/site-packages/tensorflow_probability/python/distributions/distribution.py:298: MultivariateNormalFullCovariance.__init__ (from tensorflow_probability.python.distributions.mvn_full_covariance) is deprecated and will be removed after 2019-12-01.\n",
      "Instructions for updating:\n",
      "`MultivariateNormalFullCovariance` is deprecated, use `MultivariateNormalTriL(loc=loc, scale_tril=tf.linalg.cholesky(covariance_matrix))` instead.\n"
     ]
    },
    {
     "data": {
      "image/png": "[encoded data removed]",
      "text/plain": [
       "<Figure size 432x288 with 1 Axes>"
      ]
     },
     "metadata": {
      "image/png": {
       "height": 249,
       "width": 380
      },
      "needs_background": "light"
     },
     "output_type": "display_data"
    }
   ],
   "source": [
    "#bs=100: 327 after 500\n",
    "#50: 169 after 500\n",
    "dmean = np.mean(inputdbn, axis=0)\n",
    "dcov = np.matmul(tf.transpose((inputdbn - dmean)), (inputdbn - dmean))/(NSAMP-1)\n",
    "mvg = tfd.Sample(tfd.MultivariateNormalFullCovariance(loc=dmean, covariance_matrix=dcov))\n",
    "qgaussian = mvg.sample(1000)\n",
    "qmaf = mafcoeffs.sample(1000)\n",
    "import matplotlib.pyplot as plt\n",
    "\n",
    "plt.figure()\n",
    "plt.scatter(qgaussian[:, 0], qgaussian[:, 1], label='Gaussian approx')\n",
    "plt.scatter(inputdbn[:1000, 0], inputdbn[:1000, 1], label='true')\n",
    "plt.scatter(qmaf[:, 0], qmaf[:, 1], label='MAF approx')\n",
    "plt.legend()\n",
    "plt.show()"
   ]
  },
  {
   "cell_type": "code",
   "execution_count": null,
   "metadata": {},
   "outputs": [],
   "source": [
    "### "
   ]
  },
  {
   "cell_type": "code",
   "execution_count": 11,
   "metadata": {
    "cell_id": "00027-b1e93ca4-a033-4b5e-8795-a072bfbd8568",
    "deepnote_cell_type": "code",
    "deepnote_to_be_reexecuted": false,
    "execution_millis": 2827,
    "execution_start": 1621115475750,
    "source_hash": "37c92f5c",
    "tags": []
   },
   "outputs": [],
   "source": [
    "dimlist = []\n",
    "rng= np.random.default_rng(seed=4)\n",
    "for n in range(300):\n",
    "    data = skds.make_moons(100000)\n",
    "    scdata = (data[0] + rng.uniform(low=0.0, high=1.0, size=1)[0]) * rng.uniform(low=0.0, high=1.0, size=1)[0]\n",
    "    dimlist.append(scdata)"
   ]
  },
  {
   "cell_type": "code",
   "execution_count": 12,
   "metadata": {
    "cell_id": "00028-d01c977b-3853-45bc-a9ba-fc2380b11fd3",
    "deepnote_cell_type": "code",
    "deepnote_to_be_reexecuted": false,
    "execution_millis": 872,
    "execution_start": 1621115478577,
    "source_hash": "f82f9c33",
    "tags": []
   },
   "outputs": [],
   "source": [
    "inputdbn = np.hstack(dimlist)"
   ]
  },
  {
   "cell_type": "code",
   "execution_count": 16,
   "metadata": {
    "cell_id": "00029-f00c9a3f-f7a8-4f2b-946b-6ea5cb648e6b",
    "deepnote_cell_type": "code",
    "deepnote_to_be_reexecuted": false,
    "execution_millis": 1142955,
    "execution_start": 1621115479463,
    "source_hash": "dd457700",
    "tags": []
   },
   "outputs": [
    {
     "name": "stdout",
     "output_type": "stream",
     "text": [
      "Epoch 1/100\n",
      "1800/1800 [==============================] - 6s 3ms/step - loss: 90.1391 - val_loss: 51.5402\n",
      "Epoch 2/100\n",
      "1800/1800 [==============================] - 5s 3ms/step - loss: 47.9208 - val_loss: 45.9098\n",
      "Epoch 3/100\n",
      "1800/1800 [==============================] - 5s 3ms/step - loss: 45.3695 - val_loss: 44.8656\n",
      "Epoch 4/100\n",
      "1800/1800 [==============================] - 5s 3ms/step - loss: 44.4210 - val_loss: 43.8804\n",
      "Epoch 5/100\n",
      "1800/1800 [==============================] - 6s 3ms/step - loss: 43.9450 - val_loss: 43.3488\n",
      "Epoch 6/100\n",
      "1800/1800 [==============================] - 6s 3ms/step - loss: 43.6354 - val_loss: 43.2971\n",
      "Epoch 7/100\n",
      "1800/1800 [==============================] - 6s 3ms/step - loss: 43.3833 - val_loss: 43.1345\n",
      "Epoch 8/100\n",
      "1800/1800 [==============================] - 6s 3ms/step - loss: 43.1765 - val_loss: 43.0019\n",
      "Epoch 9/100\n",
      "1800/1800 [==============================] - 6s 3ms/step - loss: 43.1311 - val_loss: 43.0440\n",
      "Epoch 10/100\n",
      "1800/1800 [==============================] - 6s 3ms/step - loss: 43.0454 - val_loss: 43.1252\n",
      "Epoch 11/100\n",
      "1800/1800 [==============================] - 6s 3ms/step - loss: 42.9830 - val_loss: 42.8332\n",
      "Epoch 12/100\n",
      "1800/1800 [==============================] - 6s 3ms/step - loss: 42.9599 - val_loss: 43.0474\n",
      "Epoch 13/100\n",
      "1800/1800 [==============================] - 6s 3ms/step - loss: 42.8885 - val_loss: 42.7803\n",
      "Epoch 14/100\n",
      "1800/1800 [==============================] - 6s 3ms/step - loss: 42.8801 - val_loss: 42.8028\n",
      "Epoch 15/100\n",
      "1800/1800 [==============================] - 6s 3ms/step - loss: 42.8384 - val_loss: 42.8940\n",
      "Epoch 16/100\n",
      "1800/1800 [==============================] - 6s 3ms/step - loss: 42.7887 - val_loss: 42.7034\n",
      "Epoch 17/100\n",
      "1800/1800 [==============================] - 6s 3ms/step - loss: 42.7804 - val_loss: 42.6733\n",
      "Epoch 18/100\n",
      "1800/1800 [==============================] - 6s 3ms/step - loss: 42.7615 - val_loss: 42.6252\n",
      "Epoch 19/100\n",
      "1800/1800 [==============================] - 6s 3ms/step - loss: 42.7183 - val_loss: 42.6333\n",
      "Epoch 20/100\n",
      "1800/1800 [==============================] - 6s 3ms/step - loss: 42.6955 - val_loss: 42.4716\n",
      "Epoch 21/100\n",
      "1800/1800 [==============================] - 6s 3ms/step - loss: 42.6948 - val_loss: 42.6766\n",
      "Epoch 22/100\n",
      "1800/1800 [==============================] - 6s 3ms/step - loss: 42.6809 - val_loss: 42.5477\n",
      "Epoch 23/100\n",
      "1800/1800 [==============================] - 6s 3ms/step - loss: 42.6625 - val_loss: 42.5292\n",
      "Epoch 24/100\n",
      "1800/1800 [==============================] - 6s 3ms/step - loss: 42.6460 - val_loss: 42.4926\n",
      "Epoch 25/100\n",
      "1800/1800 [==============================] - 6s 3ms/step - loss: 42.6383 - val_loss: 42.5382\n",
      "Epoch 26/100\n",
      "1800/1800 [==============================] - 6s 3ms/step - loss: 42.6214 - val_loss: 42.4910\n",
      "Epoch 27/100\n",
      "1800/1800 [==============================] - 6s 3ms/step - loss: 42.5919 - val_loss: 42.4109\n",
      "Epoch 28/100\n",
      "1800/1800 [==============================] - 6s 3ms/step - loss: 42.5861 - val_loss: 42.5356\n",
      "Epoch 29/100\n",
      "1800/1800 [==============================] - 6s 3ms/step - loss: 42.5822 - val_loss: 42.4276\n",
      "Epoch 30/100\n",
      "1800/1800 [==============================] - 6s 3ms/step - loss: 42.5624 - val_loss: 42.5933\n",
      "Epoch 31/100\n",
      "1800/1800 [==============================] - 6s 3ms/step - loss: 42.5609 - val_loss: 42.4734\n",
      "Epoch 32/100\n",
      "1800/1800 [==============================] - 6s 3ms/step - loss: 42.5523 - val_loss: 42.3032\n",
      "Epoch 33/100\n",
      "1800/1800 [==============================] - 6s 3ms/step - loss: 42.5391 - val_loss: 42.4958\n",
      "Epoch 34/100\n",
      "1800/1800 [==============================] - 6s 3ms/step - loss: 42.5206 - val_loss: 42.3797\n",
      "Epoch 35/100\n",
      "1800/1800 [==============================] - 6s 3ms/step - loss: 42.5209 - val_loss: 42.4478\n",
      "Epoch 36/100\n",
      "1800/1800 [==============================] - 6s 3ms/step - loss: 42.4952 - val_loss: 42.4782\n",
      "Epoch 37/100\n",
      "1800/1800 [==============================] - 6s 3ms/step - loss: 42.5020 - val_loss: 42.3888\n",
      "Epoch 38/100\n",
      "1800/1800 [==============================] - 6s 3ms/step - loss: 42.4984 - val_loss: 42.3918\n",
      "Epoch 39/100\n",
      "1800/1800 [==============================] - 6s 3ms/step - loss: 42.4822 - val_loss: 42.4432\n",
      "Epoch 40/100\n",
      "1800/1800 [==============================] - 6s 3ms/step - loss: 42.4900 - val_loss: 42.4628\n",
      "Epoch 41/100\n",
      "1800/1800 [==============================] - 6s 3ms/step - loss: 42.4806 - val_loss: 42.4737\n",
      "Epoch 42/100\n",
      "1800/1800 [==============================] - 6s 3ms/step - loss: 42.4675 - val_loss: 42.4189\n",
      "Epoch 43/100\n",
      "1800/1800 [==============================] - 6s 3ms/step - loss: 42.4748 - val_loss: 42.4039\n",
      "Epoch 44/100\n",
      "1800/1800 [==============================] - 6s 3ms/step - loss: 42.4510 - val_loss: 42.4211\n",
      "Epoch 45/100\n",
      "1800/1800 [==============================] - 6s 3ms/step - loss: 42.4491 - val_loss: 42.3218\n",
      "Epoch 46/100\n",
      "1800/1800 [==============================] - 6s 3ms/step - loss: 42.4474 - val_loss: 42.4375\n",
      "Epoch 47/100\n",
      "1800/1800 [==============================] - 6s 3ms/step - loss: 42.4460 - val_loss: 42.3214\n",
      "Epoch 48/100\n",
      "1800/1800 [==============================] - 6s 3ms/step - loss: 42.4292 - val_loss: 42.3428\n",
      "Epoch 49/100\n",
      "1800/1800 [==============================] - 6s 3ms/step - loss: 42.4288 - val_loss: 42.3201\n",
      "Epoch 50/100\n",
      "1800/1800 [==============================] - 6s 3ms/step - loss: 42.4332 - val_loss: 42.2482\n",
      "Epoch 51/100\n",
      "1800/1800 [==============================] - 6s 3ms/step - loss: 42.4268 - val_loss: 42.3064\n",
      "Epoch 52/100\n",
      "1800/1800 [==============================] - 6s 3ms/step - loss: 42.4105 - val_loss: 42.5804\n",
      "Epoch 53/100\n",
      "1800/1800 [==============================] - 6s 3ms/step - loss: 42.4160 - val_loss: 42.3815\n",
      "Epoch 54/100\n",
      "1800/1800 [==============================] - 6s 3ms/step - loss: 42.4147 - val_loss: 42.3800\n",
      "Epoch 55/100\n",
      "1800/1800 [==============================] - 6s 3ms/step - loss: 42.4059 - val_loss: 42.2082\n",
      "Epoch 56/100\n",
      "1800/1800 [==============================] - 6s 3ms/step - loss: 42.4072 - val_loss: 42.4984\n",
      "Epoch 57/100\n",
      "1800/1800 [==============================] - 6s 3ms/step - loss: 42.3929 - val_loss: 42.4935\n",
      "Epoch 58/100\n",
      "1800/1800 [==============================] - 6s 3ms/step - loss: 42.3860 - val_loss: 42.3188\n",
      "Epoch 59/100\n",
      "1800/1800 [==============================] - 6s 3ms/step - loss: 42.3895 - val_loss: 42.3386\n",
      "Epoch 60/100\n",
      "1800/1800 [==============================] - 6s 3ms/step - loss: 42.3901 - val_loss: 42.1576\n",
      "Epoch 61/100\n",
      "1800/1800 [==============================] - 6s 4ms/step - loss: 42.3860 - val_loss: 42.4347\n",
      "Epoch 62/100\n",
      "1800/1800 [==============================] - 6s 3ms/step - loss: 42.3683 - val_loss: 42.1843\n",
      "Epoch 63/100\n",
      "1800/1800 [==============================] - 6s 3ms/step - loss: 42.3804 - val_loss: 42.3560\n",
      "Epoch 64/100\n",
      "1800/1800 [==============================] - 5s 3ms/step - loss: 42.3713 - val_loss: 42.4484\n",
      "Epoch 65/100\n",
      "1800/1800 [==============================] - 5s 3ms/step - loss: 42.3719 - val_loss: 42.2343\n",
      "Epoch 66/100\n",
      "1800/1800 [==============================] - 5s 3ms/step - loss: 42.3661 - val_loss: 42.2947\n",
      "Epoch 67/100\n",
      "1800/1800 [==============================] - 5s 3ms/step - loss: 42.3714 - val_loss: 42.2073\n",
      "Epoch 68/100\n",
      "1800/1800 [==============================] - 5s 3ms/step - loss: 42.3574 - val_loss: 42.2529\n",
      "Epoch 69/100\n",
      "1800/1800 [==============================] - 5s 3ms/step - loss: 42.3595 - val_loss: 42.2561\n",
      "Epoch 70/100\n",
      "1800/1800 [==============================] - 5s 3ms/step - loss: 42.3525 - val_loss: 42.2280\n",
      "Epoch 71/100\n",
      "1800/1800 [==============================] - 5s 3ms/step - loss: 42.3464 - val_loss: 42.3074\n",
      "Epoch 72/100\n",
      "1800/1800 [==============================] - 5s 3ms/step - loss: 42.3553 - val_loss: 42.2353\n",
      "Epoch 73/100\n",
      "1800/1800 [==============================] - 5s 3ms/step - loss: 42.3556 - val_loss: 42.2613\n",
      "Epoch 74/100\n",
      "1800/1800 [==============================] - 5s 3ms/step - loss: 42.3367 - val_loss: 42.2347\n",
      "Epoch 75/100\n",
      "1800/1800 [==============================] - 5s 3ms/step - loss: 42.3495 - val_loss: 42.2878\n",
      "Epoch 76/100\n",
      "1800/1800 [==============================] - 5s 3ms/step - loss: 42.3381 - val_loss: 42.2366\n",
      "Epoch 77/100\n",
      "1800/1800 [==============================] - 5s 3ms/step - loss: 42.3360 - val_loss: 42.3014\n",
      "Epoch 78/100\n"
     ]
    },
    {
     "name": "stdout",
     "output_type": "stream",
     "text": [
      "1800/1800 [==============================] - 5s 3ms/step - loss: 42.3337 - val_loss: 42.2198\n",
      "Epoch 79/100\n",
      "1800/1800 [==============================] - 5s 3ms/step - loss: 42.3408 - val_loss: 42.4608\n",
      "Epoch 80/100\n",
      "1800/1800 [==============================] - 5s 3ms/step - loss: 42.3362 - val_loss: 42.2177\n",
      "Epoch 81/100\n",
      "1800/1800 [==============================] - 5s 3ms/step - loss: 42.3301 - val_loss: 42.3665\n",
      "Epoch 82/100\n",
      "1800/1800 [==============================] - 5s 3ms/step - loss: 42.3189 - val_loss: 42.2010\n",
      "Epoch 83/100\n",
      "1800/1800 [==============================] - 5s 3ms/step - loss: 42.3270 - val_loss: 42.4068\n",
      "Epoch 84/100\n",
      "1800/1800 [==============================] - 5s 3ms/step - loss: 42.3304 - val_loss: 42.3278\n",
      "Epoch 85/100\n",
      "1800/1800 [==============================] - 5s 3ms/step - loss: 42.3275 - val_loss: 42.3949\n",
      "Epoch 86/100\n",
      "1800/1800 [==============================] - 5s 3ms/step - loss: 42.3209 - val_loss: 42.2001\n",
      "Epoch 87/100\n",
      "1800/1800 [==============================] - 5s 3ms/step - loss: 42.3185 - val_loss: 42.2443\n",
      "Epoch 88/100\n",
      "1800/1800 [==============================] - 5s 3ms/step - loss: 42.3114 - val_loss: 42.2121\n",
      "Epoch 89/100\n",
      "1800/1800 [==============================] - 5s 3ms/step - loss: 42.3130 - val_loss: 42.2116\n",
      "Epoch 90/100\n",
      "1800/1800 [==============================] - 5s 3ms/step - loss: 42.3150 - val_loss: 42.1889\n",
      "Epoch 91/100\n",
      "1800/1800 [==============================] - 5s 3ms/step - loss: 42.3100 - val_loss: 42.2465\n",
      "Epoch 92/100\n",
      "1800/1800 [==============================] - 5s 3ms/step - loss: 42.3043 - val_loss: 42.3783\n",
      "Epoch 93/100\n",
      "1800/1800 [==============================] - 5s 3ms/step - loss: 42.3081 - val_loss: 42.2389\n",
      "Epoch 94/100\n",
      "1800/1800 [==============================] - 5s 3ms/step - loss: 42.3100 - val_loss: 42.1828\n",
      "Epoch 95/100\n",
      "1800/1800 [==============================] - 5s 3ms/step - loss: 42.3024 - val_loss: 42.1810\n",
      "Epoch 96/100\n",
      "1800/1800 [==============================] - 5s 3ms/step - loss: 42.3066 - val_loss: 42.2729\n",
      "Epoch 97/100\n",
      "1800/1800 [==============================] - 5s 3ms/step - loss: 42.3037 - val_loss: 42.2885\n",
      "Epoch 98/100\n",
      "1800/1800 [==============================] - 5s 3ms/step - loss: 42.3061 - val_loss: 42.2013\n",
      "Epoch 99/100\n",
      "1800/1800 [==============================] - 5s 3ms/step - loss: 42.2923 - val_loss: 42.2495\n",
      "Epoch 100/100\n",
      "1800/1800 [==============================] - 5s 3ms/step - loss: 42.3051 - val_loss: 42.2084\n"
     ]
    },
    {
     "data": {
      "text/plain": [
       "<tensorflow.python.keras.callbacks.History at 0x7f3b75b22c10>"
      ]
     },
     "execution_count": 16,
     "metadata": {},
     "output_type": "execute_result"
    }
   ],
   "source": [
    "modcoeffs, mafcoeffs = get_maf_model(600)\n",
    "batch_size = 50\n",
    "NSAMP = inputdbn.shape[0]\n",
    "modcoeffs.fit(x=inputdbn, y=np.zeros((NSAMP, 0), dtype=np.float32), validation_split=0.1,\n",
    "          batch_size=batch_size, epochs=100,  # Usually `n // batch_size`.\n",
    "          shuffle=True, verbose=True)\n"
   ]
  },
  {
   "cell_type": "code",
   "execution_count": null,
   "metadata": {
    "cell_id": "00030-a7a02ad4-6118-4ef5-b4fd-6d53738d0493",
    "deepnote_cell_type": "code",
    "deepnote_to_be_reexecuted": false,
    "execution_millis": 7,
    "execution_start": 1621116622425,
    "source_hash": "4805ebce",
    "tags": []
   },
   "outputs": [],
   "source": [
    "#bs=100: 327 after 500\n",
    "#50: 169 after 500\n",
    "dmean = np.mean(inputdbn, axis=0)\n",
    "dcov = np.matmul(tf.transpose((inputdbn - dmean)), (inputdbn - dmean))/(NSAMP-1)\n",
    "mvg = tfd.Sample(tfd.MultivariateNormalFullCovariance(loc=dmean, covariance_matrix=dcov))\n",
    "qgaussian = mvg.sample(1000)\n",
    "qmaf = mafcoeffs.sample(1000)\n",
    "import matplotlib.pyplot as plt\n",
    "\n",
    "plt.figure()\n",
    "plt.scatter(qgaussian[:, 0], qgaussian[:, 1], label='Gaussian approx')\n",
    "plt.scatter(inputdbn[:1000, 0], inputdbn[:1000, 1], label='true')\n",
    "plt.scatter(qmaf[:, 0], qmaf[:, 1], label='MAF approx')\n",
    "plt.legend()\n",
    "plt.show()"
   ]
  },
  {
   "cell_type": "code",
   "execution_count": null,
   "metadata": {
    "cell_id": "00031-5f63e433-5bed-4670-9a08-7df810f1087a",
    "deepnote_cell_type": "code",
    "tags": []
   },
   "outputs": [],
   "source": []
  },
  {
   "cell_type": "markdown",
   "metadata": {
    "created_in_deepnote_cell": true,
    "deepnote_cell_type": "markdown",
    "tags": []
   },
   "source": [
    "<a style='text-decoration:none;line-height:16px;display:flex;color:#5B5B62;padding:10px;justify-content:end;' href='https://deepnote.com?utm_source=created-in-deepnote-cell&projectId=0d83dd8d-0eb0-452c-aca5-caf644e7d9c0' target=\"_blank\">\n",
    "<img alt='Created in deepnote.com' style='display:inline;max-height:16px;margin:0px;margin-right:7.5px;' src='data:image/svg+xml;base64,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' > </img>\n",
    "Created in <span style='font-weight:600;margin-left:4px;'>Deepnote</span></a>"
   ]
  }
 ],
 "metadata": {
  "colab": {
   "collapsed_sections": [],
   "name": "TFP_Trial.ipynb",
   "provenance": []
  },
  "deepnote": {},
  "deepnote_execution_queue": [],
  "deepnote_notebook_id": "98658cb2-7994-47ac-bd1b-20192b5242a0",
  "kernelspec": {
   "display_name": "Python 3",
   "language": "python",
   "name": "python3"
  },
  "language_info": {
   "codemirror_mode": {
    "name": "ipython",
    "version": 3
   },
   "file_extension": ".py",
   "mimetype": "text/x-python",
   "name": "python",
   "nbconvert_exporter": "python",
   "pygments_lexer": "ipython3",
   "version": "3.7.7"
  }
 },
 "nbformat": 4,
 "nbformat_minor": 1
}
