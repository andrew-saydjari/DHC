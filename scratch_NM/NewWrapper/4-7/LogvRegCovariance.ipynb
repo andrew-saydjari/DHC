{
 "cells": [
  {
   "cell_type": "code",
   "execution_count": 1,
   "metadata": {},
   "outputs": [],
   "source": [
    "using Statistics\n",
    "using Plots\n",
    "using BenchmarkTools\n",
    "using Profile\n",
    "using FFTW\n",
    "using Statistics\n",
    "using Optim\n",
    "using Images, FileIO, ImageIO\n",
    "using Printf\n",
    "using Revise\n",
    "using Profile\n",
    "using LinearAlgebra\n",
    "using Random\n",
    "using Distributions\n",
    "using FITSIO\n",
    "using SparseArrays"
   ]
  },
  {
   "cell_type": "code",
   "execution_count": 2,
   "metadata": {},
   "outputs": [],
   "source": [
    "push!(LOAD_PATH, pwd()*\"/../../../main\")\n",
    "using DHC_2DUtils\n",
    "push!(LOAD_PATH, pwd()*\"/../../\")\n",
    "using Deriv_Utils_New\n",
    "using Data_Utils\n",
    "using Visualization\n",
    "using ReconFuncs"
   ]
  },
  {
   "cell_type": "markdown",
   "metadata": {},
   "source": [
    "### Why don't reg im S based images work better?"
   ]
  },
  {
   "cell_type": "code",
   "execution_count": 3,
   "metadata": {},
   "outputs": [
    {
     "name": "stdout",
     "output_type": "stream",
     "text": [
      "True0.2792624951944618\n",
      "3830.952426245689\n",
      "Init269.1009695044303\n",
      "0.0\n",
      "Recon117.71091621771856\n",
      "47.246177184049394\n"
     ]
    }
   ],
   "source": [
    "##Why Don't Reg plots move away?? \n",
    "fname = \"../../StandardizedExp/Nx64/noisy_stdtrue/SFDTargSFDCov/reg_apd_noiso/1000_fullcov_triu\"\n",
    "gttarget = load(fname*\".jld2\")\n",
    "filter_hash = gttarget[\"fhash\"]\n",
    "s_targ_mean, s_targ_invcov = gttarget[\"dict\"][\"s_targ_mean\"], gttarget[\"dict\"][\"s_invcov\"]\n",
    "dhc_args = Dict(:doS2=>false, :doS20=>true, :apodize=>true, :iso=>false)\n",
    "\n",
    "altrue = apodizer(gttarget[\"true_img\"])\n",
    "alinit = apodizer(gttarget[\"init\"])\n",
    "alrecon = apodizer(gttarget[\"recon\"])\n",
    "\n",
    "coeff_mask = gttarget[\"coeff_mask\"]\n",
    "s_true = DHC_compute_wrapper(gttarget[\"true_img\"], filter_hash, norm=false; dhc_args...)[coeff_mask]\n",
    "s_init = DHC_compute_wrapper(gttarget[\"init\"], filter_hash, norm=false; dhc_args...)[coeff_mask]\n",
    "s_recon = DHC_compute_wrapper(gttarget[\"recon\"], filter_hash, norm=false; dhc_args...)[coeff_mask]\n",
    "ltruecheck = ( 0.5 .* (s_true - s_targ_mean)' * s_targ_invcov * (s_true - s_targ_mean))[1]\n",
    "l2true = 0.5*gttarget[\"dict\"][\"lambda\"]*sum((alinit - altrue).^2)\n",
    "println(\"True\", ltruecheck)\n",
    "println(l2true)\n",
    "\n",
    "l1init = ( 0.5 .* (s_init - s_targ_mean)' * s_targ_invcov * (s_init - s_targ_mean))[1]\n",
    "l2init = 0.5*gttarget[\"dict\"][\"lambda\"]*sum((alinit - alinit).^2)\n",
    "println(\"Init\", l1init)\n",
    "println(l2init)\n",
    "\n",
    "l1recon = ( 0.5 .* (s_recon - s_targ_mean)' * s_targ_invcov * (s_recon - s_targ_mean))[1]\n",
    "l2recon = 0.5*gttarget[\"dict\"][\"lambda\"]*sum((alrecon - alinit).^2)\n",
    "println(\"Recon\", l1recon)\n",
    "println(l2recon)\n"
   ]
  },
  {
   "cell_type": "markdown",
   "metadata": {},
   "source": [
    "The true image actually has a worse loss than BOTH the reconstructed image and the initial image, simply because lambda is too high to even let the init get to the true image.\n",
    "**NEED TO CHANGE THE LOSS FUNCTION OR AT LEAST LAMBDA FOR THE REG CASE** <br/>\n",
    "For the regular case with no log coeffs, you can't use the expected chisquare value for l1true. It should instead be 1 since that distribution peaked near 1."
   ]
  },
  {
   "cell_type": "code",
   "execution_count": 4,
   "metadata": {},
   "outputs": [
    {
     "data": {
      "text/plain": [
       "Dict{String,Any} with 5 entries:\n",
       "  \"true_img\"    => [0.00765177 0.00730492 … 0.0226818 0.0233494; 0.00726517 0.0…\n",
       "  \"init\"        => [0.011148 0.000226939 … 0.025887 0.030695; 0.00735475 0.0121…\n",
       "  \"noise model\" => \"White noise, No smoothing. sigma=std(true_img)\"\n",
       "  \"seed\"        => 41\n",
       "  \"std\"         => 0.00917997"
      ]
     },
     "execution_count": 4,
     "metadata": {},
     "output_type": "execute_result"
    }
   ],
   "source": [
    "experiment = load(\"../../StandardizedExp/Nx64/Data_1000.jld2\")"
   ]
  },
  {
   "cell_type": "code",
   "execution_count": 5,
   "metadata": {},
   "outputs": [
    {
     "data": {
      "text/plain": [
       "0.32906514987514457"
      ]
     },
     "execution_count": 5,
     "metadata": {},
     "output_type": "execute_result"
    }
   ],
   "source": [
    "sum((experiment[\"true_img\"] - experiment[\"init\"]).^2) #Close to expected Nx^2(sigma)^2"
   ]
  },
  {
   "cell_type": "code",
   "execution_count": 6,
   "metadata": {},
   "outputs": [
    {
     "data": {
      "text/plain": [
       "0.1784833145663735"
      ]
     },
     "execution_count": 6,
     "metadata": {},
     "output_type": "execute_result"
    }
   ],
   "source": [
    "sum((alinit - altrue).^2) #Close to expected Nx^2(sigma)^2*<A^2>"
   ]
  },
  {
   "cell_type": "code",
   "execution_count": 7,
   "metadata": {},
   "outputs": [
    {
     "data": {
      "text/plain": [
       "0.1737496143069305"
      ]
     },
     "execution_count": 7,
     "metadata": {},
     "output_type": "execute_result"
    }
   ],
   "source": [
    "Nx=64\n",
    "wn_exp = mean(wind_2d(Nx).^2)*Nx*Nx*(0.009)^2"
   ]
  },
  {
   "cell_type": "code",
   "execution_count": 8,
   "metadata": {},
   "outputs": [
    {
     "data": {
      "text/plain": [
       "0.009"
      ]
     },
     "execution_count": 8,
     "metadata": {},
     "output_type": "execute_result"
    }
   ],
   "source": [
    "round(0.009, sigdigits=3)"
   ]
  },
  {
   "cell_type": "markdown",
   "metadata": {},
   "source": [
    "_Given noise model I have an estimate for the without lambda L2true._"
   ]
  },
  {
   "cell_type": "code",
   "execution_count": 9,
   "metadata": {},
   "outputs": [
    {
     "name": "stdout",
     "output_type": "stream",
     "text": [
      "Ideal Lambda should be less than 1543.0305878597642\n"
     ]
    }
   ],
   "source": [
    "\n",
    "chisq = Distributions.Chisq(length(s_targ_mean))\n",
    "println(\"Ideal Lambda should be less than \", (l1init - 1.0)./wn_exp)"
   ]
  },
  {
   "cell_type": "code",
   "execution_count": 10,
   "metadata": {},
   "outputs": [
    {
     "data": {
      "text/plain": [
       "1543.0305878597642"
      ]
     },
     "execution_count": 10,
     "metadata": {},
     "output_type": "execute_result"
    }
   ],
   "source": [
    "lam_prop = minimum([gttarget[\"dict\"][\"lambda\"], (l1init - 1.0)./wn_exp])"
   ]
  },
  {
   "cell_type": "code",
   "execution_count": 11,
   "metadata": {},
   "outputs": [
    {
     "name": "stdout",
     "output_type": "stream",
     "text": [
      "True0.2792624951944618\n",
      "137.70260689925527\n",
      "Init269.1009695044303\n",
      "0.0\n",
      "Recon117.71091621771856\n",
      "1.6982517766850689\n"
     ]
    }
   ],
   "source": [
    "ltruecheck = ( 0.5 .* (s_true - s_targ_mean)' * s_targ_invcov * (s_true - s_targ_mean))[1]\n",
    "l2true = 0.5*lam_prop*sum((alinit - altrue).^2)\n",
    "println(\"True\", ltruecheck)\n",
    "println(l2true)\n",
    "l1init = ( 0.5 .* (s_init - s_targ_mean)' * s_targ_invcov * (s_init - s_targ_mean))[1]\n",
    "l2init = 0.5*lam_prop*sum((alinit - alinit).^2)\n",
    "println(\"Init\", l1init)\n",
    "println(l2init)\n",
    "\n",
    "l1recon = ( 0.5 .* (s_recon - s_targ_mean)' * s_targ_invcov * (s_recon - s_targ_mean))[1]\n",
    "l2recon = 0.5*lam_prop*sum((alrecon - alinit).^2)\n",
    "println(\"Recon\", l1recon)\n",
    "println(l2recon)"
   ]
  },
  {
   "cell_type": "code",
   "execution_count": 12,
   "metadata": {},
   "outputs": [
    {
     "ename": "LoadError",
     "evalue": "UndefVarError: kbins not defined",
     "output_type": "error",
     "traceback": [
      "UndefVarError: kbins not defined",
      "",
      "Stacktrace:",
      " [1] top-level scope at In[12]:1",
      " [2] include_string(::Function, ::Module, ::String, ::String) at ./loading.jl:1091"
     ]
    }
   ],
   "source": [
    "true_ps = calc_1dps(apodizer(gttarget[\"true_img\"]), kbins)\n",
    "recon_ps = calc_1dps(apodizer(gttarget[\"recon\"]), kbins)\n",
    "init_ps = calc_1dps(apodizer(gttarget[\"init\"]), kbins)\n",
    "p = plot(log.(kbins), log.(true_ps), label=\"True\")\n",
    "plot!(log.(kbins), log.(recon_ps), label=\"Recon\")\n",
    "plot!(log.(kbins), log.(init_ps), label=\"Init\")\n",
    "plot!(title=\"FullCov Noiso: P(k) of Image\")\n",
    "xlabel!(\"lnk\")\n",
    "ylabel!(\"lnP(k)\")"
   ]
  },
  {
   "cell_type": "markdown",
   "metadata": {},
   "source": [
    "### Using the \"Correct\" Lambda"
   ]
  },
  {
   "cell_type": "code",
   "execution_count": 13,
   "metadata": {},
   "outputs": [
    {
     "name": "stdout",
     "output_type": "stream",
     "text": [
      "True0.2792624951944618\n",
      "115.48038402999249\n",
      "Init269.1009695044303\n",
      "0.0\n",
      "Recon8.303597614720935\n",
      "19.873282835880374\n"
     ]
    }
   ],
   "source": [
    "##Why Don't Reg plots move away?? \n",
    "fname = \"../../StandardizedExp/Nx64/noisy_stdtrue/SFDTargSFDCov/reg_apd_noiso/LambdaVary/1000_tunedlam_fullcov_triu\"\n",
    "gttarget = load(fname*\".jld2\")\n",
    "filter_hash = gttarget[\"fhash\"]\n",
    "s_targ_mean, s_targ_invcov = gttarget[\"dict\"][\"s_targ_mean\"], gttarget[\"dict\"][\"s_invcov\"]\n",
    "dhc_args = Dict(:doS2=>false, :doS20=>true, :apodize=>true, :iso=>false)\n",
    "\n",
    "altrue = apodizer(gttarget[\"true_img\"])\n",
    "alinit = apodizer(gttarget[\"init\"])\n",
    "alrecon = apodizer(gttarget[\"recon\"])\n",
    "\n",
    "coeff_mask = gttarget[\"coeff_mask\"]\n",
    "s_true = DHC_compute_wrapper(gttarget[\"true_img\"], filter_hash, norm=false; dhc_args...)[coeff_mask]\n",
    "s_init = DHC_compute_wrapper(gttarget[\"init\"], filter_hash, norm=false; dhc_args...)[coeff_mask]\n",
    "s_recon = DHC_compute_wrapper(gttarget[\"recon\"], filter_hash, norm=false; dhc_args...)[coeff_mask]\n",
    "ltruecheck = ( 0.5 .* (s_true - s_targ_mean)' * s_targ_invcov * (s_true - s_targ_mean))[1]\n",
    "l2true = 0.5*gttarget[\"dict\"][\"lambda\"]*sum((alinit - altrue).^2)\n",
    "println(\"True\", ltruecheck)\n",
    "println(l2true)\n",
    "\n",
    "l1init = ( 0.5 .* (s_init - s_targ_mean)' * s_targ_invcov * (s_init - s_targ_mean))[1]\n",
    "l2init = 0.5*gttarget[\"dict\"][\"lambda\"]*sum((alinit - alinit).^2)\n",
    "println(\"Init\", l1init)\n",
    "println(l2init)\n",
    "\n",
    "l1recon = ( 0.5 .* (s_recon - s_targ_mean)' * s_targ_invcov * (s_recon - s_targ_mean))[1]\n",
    "l2recon = 0.5*gttarget[\"dict\"][\"lambda\"]*sum((alrecon - alinit).^2)\n",
    "println(\"Recon\", l1recon)\n",
    "println(l2recon)\n"
   ]
  },
  {
   "cell_type": "code",
   "execution_count": 14,
   "metadata": {},
   "outputs": [
    {
     "ename": "LoadError",
     "evalue": "UndefVarError: kbins not defined",
     "output_type": "error",
     "traceback": [
      "UndefVarError: kbins not defined",
      "",
      "Stacktrace:",
      " [1] top-level scope at In[14]:1",
      " [2] include_string(::Function, ::Module, ::String, ::String) at ./loading.jl:1091"
     ]
    }
   ],
   "source": [
    "true_ps = calc_1dps(apodizer(gttarget[\"true_img\"]), kbins)\n",
    "recon_ps = calc_1dps(apodizer(gttarget[\"recon\"]), kbins)\n",
    "init_ps = calc_1dps(apodizer(gttarget[\"init\"]), kbins)\n",
    "p = plot(log.(kbins), log.(true_ps), label=\"True\")\n",
    "plot!(log.(kbins), log.(recon_ps), label=\"Recon\")\n",
    "plot!(log.(kbins), log.(init_ps), label=\"Init\")\n",
    "plot!(title=\"FullCov Noiso: P(k) of Image\")\n",
    "xlabel!(\"lnk\")\n",
    "ylabel!(\"lnP(k)\")"
   ]
  },
  {
   "cell_type": "markdown",
   "metadata": {},
   "source": [
    "L1true>L1recon, but L1recon is a bit too large"
   ]
  },
  {
   "cell_type": "code",
   "execution_count": 15,
   "metadata": {},
   "outputs": [
    {
     "name": "stdout",
     "output_type": "stream",
     "text": [
      "True0.2792624951944618\n",
      "0.11548038402999249\n",
      "Init269.1009695044303\n",
      "0.0\n",
      "Recon0.08742843539164658\n",
      "0.07810493284902127\n"
     ]
    }
   ],
   "source": [
    "##Why Don't Reg plots move away?? \n",
    "fname = \"../../StandardizedExp/Nx64/noisy_stdtrue/SFDTargSFDCov/reg_apd_noiso/LambdaVary/1000_tunedlam_0-001_fullcov_triu\"\n",
    "gttarget = load(fname*\".jld2\")\n",
    "filter_hash = gttarget[\"fhash\"]\n",
    "s_targ_mean, s_targ_invcov = gttarget[\"dict\"][\"s_targ_mean\"], gttarget[\"dict\"][\"s_invcov\"]\n",
    "dhc_args = Dict(:doS2=>false, :doS20=>true, :apodize=>true, :iso=>false)\n",
    "\n",
    "altrue = apodizer(gttarget[\"true_img\"])\n",
    "alinit = apodizer(gttarget[\"init\"])\n",
    "alrecon = apodizer(gttarget[\"recon\"])\n",
    "\n",
    "coeff_mask = gttarget[\"coeff_mask\"]\n",
    "s_true = DHC_compute_wrapper(gttarget[\"true_img\"], filter_hash, norm=false; dhc_args...)[coeff_mask]\n",
    "s_init = DHC_compute_wrapper(gttarget[\"init\"], filter_hash, norm=false; dhc_args...)[coeff_mask]\n",
    "s_recon = DHC_compute_wrapper(gttarget[\"recon\"], filter_hash, norm=false; dhc_args...)[coeff_mask]\n",
    "ltruecheck = ( 0.5 .* (s_true - s_targ_mean)' * s_targ_invcov * (s_true - s_targ_mean))[1]\n",
    "l2true = 0.5*gttarget[\"dict\"][\"lambda\"]*sum((alinit - altrue).^2)\n",
    "println(\"True\", ltruecheck)\n",
    "println(l2true)\n",
    "\n",
    "l1init = ( 0.5 .* (s_init - s_targ_mean)' * s_targ_invcov * (s_init - s_targ_mean))[1]\n",
    "l2init = 0.5*gttarget[\"dict\"][\"lambda\"]*sum((alinit - alinit).^2)\n",
    "println(\"Init\", l1init)\n",
    "println(l2init)\n",
    "\n",
    "l1recon = ( 0.5 .* (s_recon - s_targ_mean)' * s_targ_invcov * (s_recon - s_targ_mean))[1]\n",
    "l2recon = 0.5*gttarget[\"dict\"][\"lambda\"]*sum((alrecon - alinit).^2)\n",
    "println(\"Recon\", l1recon)\n",
    "println(l2recon)\n"
   ]
  },
  {
   "cell_type": "code",
   "execution_count": 16,
   "metadata": {},
   "outputs": [
    {
     "ename": "LoadError",
     "evalue": "UndefVarError: kbins not defined",
     "output_type": "error",
     "traceback": [
      "UndefVarError: kbins not defined",
      "",
      "Stacktrace:",
      " [1] top-level scope at In[16]:1",
      " [2] include_string(::Function, ::Module, ::String, ::String) at ./loading.jl:1091"
     ]
    }
   ],
   "source": [
    "true_ps = calc_1dps(apodizer(gttarget[\"true_img\"]), kbins)\n",
    "recon_ps = calc_1dps(apodizer(gttarget[\"recon\"]), kbins)\n",
    "init_ps = calc_1dps(apodizer(gttarget[\"init\"]), kbins)\n",
    "p = plot(log.(kbins), log.(true_ps), label=\"True\")\n",
    "plot!(log.(kbins), log.(recon_ps), label=\"Recon\")\n",
    "plot!(log.(kbins), log.(init_ps), label=\"Init\")\n",
    "plot!(title=\"FullCov Noiso: P(k) of Image\")\n",
    "xlabel!(\"lnk\")\n",
    "ylabel!(\"lnP(k)\")"
   ]
  },
  {
   "cell_type": "markdown",
   "metadata": {},
   "source": [
    "But now L1recon<L1true: we want L1true to be only slightly larger. The constraint is so relaxed it just makes an image that's more like the SFD targ mean than the true im."
   ]
  },
  {
   "cell_type": "code",
   "execution_count": 17,
   "metadata": {},
   "outputs": [
    {
     "name": "stdout",
     "output_type": "stream",
     "text": [
      "True0.2792624951944618\n",
      "1.1548038402999252\n",
      "Init269.1009695044303\n",
      "0.0\n",
      "Recon0.16792650399436093\n",
      "0.5863955516203473\n"
     ]
    }
   ],
   "source": [
    "fname = \"../../StandardizedExp/Nx64/noisy_stdtrue/SFDTargSFDCov/reg_apd_noiso/LambdaVary/1000_tunedlam_0-01_fullcov_triu\"\n",
    "gttarget = load(fname*\".jld2\")\n",
    "filter_hash = gttarget[\"fhash\"]\n",
    "s_targ_mean, s_targ_invcov = gttarget[\"dict\"][\"s_targ_mean\"], gttarget[\"dict\"][\"s_invcov\"]\n",
    "dhc_args = Dict(:doS2=>false, :doS20=>true, :apodize=>true, :iso=>false)\n",
    "\n",
    "altrue = apodizer(gttarget[\"true_img\"])\n",
    "alinit = apodizer(gttarget[\"init\"])\n",
    "alrecon = apodizer(gttarget[\"recon\"])\n",
    "\n",
    "coeff_mask = gttarget[\"coeff_mask\"]\n",
    "s_true = DHC_compute_wrapper(gttarget[\"true_img\"], filter_hash, norm=false; dhc_args...)[coeff_mask]\n",
    "s_init = DHC_compute_wrapper(gttarget[\"init\"], filter_hash, norm=false; dhc_args...)[coeff_mask]\n",
    "s_recon = DHC_compute_wrapper(gttarget[\"recon\"], filter_hash, norm=false; dhc_args...)[coeff_mask]\n",
    "ltruecheck = ( 0.5 .* (s_true - s_targ_mean)' * s_targ_invcov * (s_true - s_targ_mean))[1]\n",
    "l2true = 0.5*gttarget[\"dict\"][\"lambda\"]*sum((alinit - altrue).^2)\n",
    "println(\"True\", ltruecheck)\n",
    "println(l2true)\n",
    "\n",
    "l1init = ( 0.5 .* (s_init - s_targ_mean)' * s_targ_invcov * (s_init - s_targ_mean))[1]\n",
    "l2init = 0.5*gttarget[\"dict\"][\"lambda\"]*sum((alinit - alinit).^2)\n",
    "println(\"Init\", l1init)\n",
    "println(l2init)\n",
    "\n",
    "l1recon = ( 0.5 .* (s_recon - s_targ_mean)' * s_targ_invcov * (s_recon - s_targ_mean))[1]\n",
    "l2recon = 0.5*gttarget[\"dict\"][\"lambda\"]*sum((alrecon - alinit).^2)\n",
    "println(\"Recon\", l1recon)\n",
    "println(l2recon)\n"
   ]
  },
  {
   "cell_type": "code",
   "execution_count": 18,
   "metadata": {},
   "outputs": [
    {
     "ename": "LoadError",
     "evalue": "UndefVarError: kbins not defined",
     "output_type": "error",
     "traceback": [
      "UndefVarError: kbins not defined",
      "",
      "Stacktrace:",
      " [1] top-level scope at In[18]:1",
      " [2] include_string(::Function, ::Module, ::String, ::String) at ./loading.jl:1091"
     ]
    }
   ],
   "source": [
    "true_ps = calc_1dps(apodizer(gttarget[\"true_img\"]), kbins)\n",
    "recon_ps = calc_1dps(apodizer(gttarget[\"recon\"]), kbins)\n",
    "init_ps = calc_1dps(apodizer(gttarget[\"init\"]), kbins)\n",
    "p = plot(log.(kbins), log.(true_ps), label=\"True\")\n",
    "plot!(log.(kbins), log.(recon_ps), label=\"Recon\")\n",
    "plot!(log.(kbins), log.(init_ps), label=\"Init\")\n",
    "plot!(title=\"FullCov Noiso: P(k) of Image\")\n",
    "xlabel!(\"lnk\")\n",
    "ylabel!(\"lnP(k)\")"
   ]
  },
  {
   "cell_type": "markdown",
   "metadata": {},
   "source": [
    "#### Diag Cov was way worse"
   ]
  },
  {
   "cell_type": "markdown",
   "metadata": {},
   "source": [
    "### LogCoeff:\n",
    "Does well on the power spectrum but BAD artefacts in some images. The recon Loss1 is closer to the target than the image itself and the image looks more dusty (when no artefacts) but it looks less like the actual true image. Increasing lambda to make Loss1recon<Loss1true doesn't help because you end up depressing the power spectrum."
   ]
  },
  {
   "cell_type": "code",
   "execution_count": 19,
   "metadata": {
    "scrolled": true
   },
   "outputs": [
    {
     "name": "stdout",
     "output_type": "stream",
     "text": [
      "True271.13355388014503\n",
      "0.0008924165728318676\n",
      "Init388.091139523465\n",
      "0.0\n",
      "Recon7.491648845931981\n",
      "0.004156834933837604\n"
     ]
    }
   ],
   "source": [
    "fname = \"../../StandardizedExp/Nx64/noisy_stdtrue/SFDTargSFDCov/reg_apd_noiso/LogCoeff/1000_0-01_full_triu\"\n",
    "gttarget = load(fname*\".jld2\")\n",
    "filter_hash = gttarget[\"fhash\"]\n",
    "s_targ_mean, s_targ_invcov = gttarget[\"dict\"][\"fs_targ_mean\"], gttarget[\"dict\"][\"fs_invcov\"]\n",
    "dhc_args = Dict(:doS2=>false, :doS20=>true, :apodize=>true, :iso=>false)\n",
    "\n",
    "altrue = apodizer(gttarget[\"true_img\"])\n",
    "alinit = apodizer(gttarget[\"init\"])\n",
    "alrecon = apodizer(gttarget[\"recon\"])\n",
    "\n",
    "coeff_mask = gttarget[\"coeff_mask\"]\n",
    "s_true = log.(DHC_compute_wrapper(gttarget[\"true_img\"], filter_hash, norm=false; dhc_args...)[coeff_mask])\n",
    "s_init = log.(DHC_compute_wrapper(gttarget[\"init\"], filter_hash, norm=false; dhc_args...)[coeff_mask])\n",
    "s_recon = log.(DHC_compute_wrapper(gttarget[\"recon\"], filter_hash, norm=false; dhc_args...)[coeff_mask])\n",
    "ltruecheck = ( 0.5 .* (s_true - s_targ_mean)' * s_targ_invcov * (s_true - s_targ_mean))[1]\n",
    "l2true = 0.5*gttarget[\"dict\"][\"lambda\"]*sum((alinit - altrue).^2)\n",
    "println(\"True\", ltruecheck)\n",
    "println(l2true)\n",
    "\n",
    "l1init = ( 0.5 .* (s_init - s_targ_mean)' * s_targ_invcov * (s_init - s_targ_mean))[1]\n",
    "l2init = 0.5*gttarget[\"dict\"][\"lambda\"]*sum((alinit - alinit).^2)\n",
    "println(\"Init\", l1init)\n",
    "println(l2init)\n",
    "\n",
    "l1recon = ( 0.5 .* (s_recon - s_targ_mean)' * s_targ_invcov * (s_recon - s_targ_mean))[1]\n",
    "l2recon = 0.5*gttarget[\"dict\"][\"lambda\"]*sum((alrecon - alinit).^2)\n",
    "println(\"Recon\", l1recon)\n",
    "println(l2recon)\n"
   ]
  },
  {
   "cell_type": "code",
   "execution_count": 20,
   "metadata": {},
   "outputs": [
    {
     "data": {
      "image/svg+xml": [
       "<?xml version=\"1.0\" encoding=\"utf-8\"?>\n",
       "<svg xmlns=\"http://www.w3.org/2000/svg\" xmlns:xlink=\"http://www.w3.org/1999/xlink\" width=\"600\" height=\"400\" viewBox=\"0 0 2400 1600\">\n",
       "<defs>\n",
       "  <clipPath id=\"clip930\">\n",
       "    <rect x=\"0\" y=\"0\" width=\"2400\" height=\"1600\"/>\n",
       "  </clipPath>\n",
       "</defs>\n",
       "<path clip-path=\"url(#clip930)\" d=\"\n",
       "M0 1600 L2400 1600 L2400 0 L0 0  Z\n",
       "  \" fill=\"#ffffff\" fill-rule=\"evenodd\" fill-opacity=\"1\"/>\n",
       "<defs>\n",
       "  <clipPath id=\"clip931\">\n",
       "    <rect x=\"480\" y=\"0\" width=\"1681\" height=\"1600\"/>\n",
       "  </clipPath>\n",
       "</defs>\n",
       "<path clip-path=\"url(#clip930)\" d=\"\n",
       "M207.112 1423.18 L2352.76 1423.18 L2352.76 123.472 L207.112 123.472  Z\n",
       "  \" fill=\"#ffffff\" fill-rule=\"evenodd\" fill-opacity=\"1\"/>\n",
       "<defs>\n",
       "  <clipPath id=\"clip932\">\n",
       "    <rect x=\"207\" y=\"123\" width=\"2147\" height=\"1301\"/>\n",
       "  </clipPath>\n",
       "</defs>\n",
       "<polyline clip-path=\"url(#clip932)\" style=\"stroke:#000000; stroke-width:2; stroke-opacity:0.1; fill:none\" points=\"\n",
       "  267.837,1423.18 267.837,123.472 \n",
       "  \"/>\n",
       "<polyline clip-path=\"url(#clip932)\" style=\"stroke:#000000; stroke-width:2; stroke-opacity:0.1; fill:none\" points=\"\n",
       "  851.896,1423.18 851.896,123.472 \n",
       "  \"/>\n",
       "<polyline clip-path=\"url(#clip932)\" style=\"stroke:#000000; stroke-width:2; stroke-opacity:0.1; fill:none\" points=\"\n",
       "  1435.95,1423.18 1435.95,123.472 \n",
       "  \"/>\n",
       "<polyline clip-path=\"url(#clip932)\" style=\"stroke:#000000; stroke-width:2; stroke-opacity:0.1; fill:none\" points=\"\n",
       "  2020.01,1423.18 2020.01,123.472 \n",
       "  \"/>\n",
       "<polyline clip-path=\"url(#clip930)\" style=\"stroke:#000000; stroke-width:4; stroke-opacity:1; fill:none\" points=\"\n",
       "  207.112,1423.18 2352.76,1423.18 \n",
       "  \"/>\n",
       "<polyline clip-path=\"url(#clip930)\" style=\"stroke:#000000; stroke-width:4; stroke-opacity:1; fill:none\" points=\"\n",
       "  267.837,1423.18 267.837,1407.58 \n",
       "  \"/>\n",
       "<polyline clip-path=\"url(#clip930)\" style=\"stroke:#000000; stroke-width:4; stroke-opacity:1; fill:none\" points=\"\n",
       "  851.896,1423.18 851.896,1407.58 \n",
       "  \"/>\n",
       "<polyline clip-path=\"url(#clip930)\" style=\"stroke:#000000; stroke-width:4; stroke-opacity:1; fill:none\" points=\"\n",
       "  1435.95,1423.18 1435.95,1407.58 \n",
       "  \"/>\n",
       "<polyline clip-path=\"url(#clip930)\" style=\"stroke:#000000; stroke-width:4; stroke-opacity:1; fill:none\" points=\"\n",
       "  2020.01,1423.18 2020.01,1407.58 \n",
       "  \"/>\n",
       "<path clip-path=\"url(#clip930)\" d=\"M 0 0 M267.837 1452.37 Q264.226 1452.37 262.398 1455.94 Q260.592 1459.48 260.592 1466.61 Q260.592 1473.71 262.398 1477.28 Q264.226 1480.82 267.837 1480.82 Q271.472 1480.82 273.277 1477.28 Q275.106 1473.71 275.106 1466.61 Q275.106 1459.48 273.277 1455.94 Q271.472 1452.37 267.837 1452.37 M267.837 1448.67 Q273.648 1448.67 276.703 1453.27 Q279.782 1457.86 279.782 1466.61 Q279.782 1475.33 276.703 1479.94 Q273.648 1484.52 267.837 1484.52 Q262.027 1484.52 258.949 1479.94 Q255.893 1475.33 255.893 1466.61 Q255.893 1457.86 258.949 1453.27 Q262.027 1448.67 267.837 1448.67 Z\" fill=\"#000000\" fill-rule=\"evenodd\" fill-opacity=\"1\" /><path clip-path=\"url(#clip930)\" d=\"M 0 0 M842.278 1479.92 L849.917 1479.92 L849.917 1453.55 L841.607 1455.22 L841.607 1450.96 L849.871 1449.29 L854.546 1449.29 L854.546 1479.92 L862.185 1479.92 L862.185 1483.85 L842.278 1483.85 L842.278 1479.92 Z\" fill=\"#000000\" fill-rule=\"evenodd\" fill-opacity=\"1\" /><path clip-path=\"url(#clip930)\" d=\"M 0 0 M1430.61 1479.92 L1446.93 1479.92 L1446.93 1483.85 L1424.98 1483.85 L1424.98 1479.92 Q1427.64 1477.16 1432.23 1472.53 Q1436.83 1467.88 1438.01 1466.54 Q1440.26 1464.01 1441.14 1462.28 Q1442.04 1460.52 1442.04 1458.83 Q1442.04 1456.07 1440.1 1454.34 Q1438.18 1452.6 1435.07 1452.6 Q1432.88 1452.6 1430.42 1453.37 Q1427.99 1454.13 1425.21 1455.68 L1425.21 1450.96 Q1428.04 1449.82 1430.49 1449.25 Q1432.95 1448.67 1434.98 1448.67 Q1440.35 1448.67 1443.55 1451.35 Q1446.74 1454.04 1446.74 1458.53 Q1446.74 1460.66 1445.93 1462.58 Q1445.14 1464.48 1443.04 1467.07 Q1442.46 1467.74 1439.36 1470.96 Q1436.26 1474.15 1430.61 1479.92 Z\" fill=\"#000000\" fill-rule=\"evenodd\" fill-opacity=\"1\" /><path clip-path=\"url(#clip930)\" d=\"M 0 0 M2024.26 1465.22 Q2027.62 1465.94 2029.49 1468.2 Q2031.39 1470.47 2031.39 1473.81 Q2031.39 1478.92 2027.87 1481.72 Q2024.35 1484.52 2017.87 1484.52 Q2015.7 1484.52 2013.38 1484.08 Q2011.09 1483.67 2008.64 1482.81 L2008.64 1478.3 Q2010.58 1479.43 2012.9 1480.01 Q2015.21 1480.59 2017.73 1480.59 Q2022.13 1480.59 2024.42 1478.85 Q2026.74 1477.12 2026.74 1473.81 Q2026.74 1470.75 2024.58 1469.04 Q2022.46 1467.3 2018.64 1467.3 L2014.61 1467.3 L2014.61 1463.46 L2018.82 1463.46 Q2022.27 1463.46 2024.1 1462.09 Q2025.93 1460.7 2025.93 1458.11 Q2025.93 1455.45 2024.03 1454.04 Q2022.15 1452.6 2018.64 1452.6 Q2016.71 1452.6 2014.52 1453.02 Q2012.32 1453.44 2009.68 1454.31 L2009.68 1450.15 Q2012.34 1449.41 2014.65 1449.04 Q2016.99 1448.67 2019.05 1448.67 Q2024.38 1448.67 2027.48 1451.1 Q2030.58 1453.5 2030.58 1457.63 Q2030.58 1460.5 2028.94 1462.49 Q2027.29 1464.45 2024.26 1465.22 Z\" fill=\"#000000\" fill-rule=\"evenodd\" fill-opacity=\"1\" /><path clip-path=\"url(#clip930)\" d=\"M 0 0 M1240.34 1518.52 L1246.2 1518.52 L1246.2 1568.04 L1240.34 1568.04 L1240.34 1518.52 Z\" fill=\"#000000\" fill-rule=\"evenodd\" fill-opacity=\"1\" /><path clip-path=\"url(#clip930)\" d=\"M 0 0 M1281.97 1546.53 L1281.97 1568.04 L1276.11 1568.04 L1276.11 1546.72 Q1276.11 1541.66 1274.14 1539.14 Q1272.17 1536.63 1268.22 1536.63 Q1263.48 1536.63 1260.74 1539.65 Q1258 1542.68 1258 1547.9 L1258 1568.04 L1252.12 1568.04 L1252.12 1532.4 L1258 1532.4 L1258 1537.93 Q1260.1 1534.72 1262.94 1533.13 Q1265.8 1531.54 1269.53 1531.54 Q1275.67 1531.54 1278.82 1535.36 Q1281.97 1539.14 1281.97 1546.53 Z\" fill=\"#000000\" fill-rule=\"evenodd\" fill-opacity=\"1\" /><path clip-path=\"url(#clip930)\" d=\"M 0 0 M1287.89 1518.52 L1293.78 1518.52 L1293.78 1547.77 L1311.25 1532.4 L1318.73 1532.4 L1299.83 1549.07 L1319.53 1568.04 L1311.89 1568.04 L1293.78 1550.63 L1293.78 1568.04 L1287.89 1568.04 L1287.89 1518.52 Z\" fill=\"#000000\" fill-rule=\"evenodd\" fill-opacity=\"1\" /><polyline clip-path=\"url(#clip932)\" style=\"stroke:#000000; stroke-width:2; stroke-opacity:0.1; fill:none\" points=\"\n",
       "  207.112,1244.49 2352.76,1244.49 \n",
       "  \"/>\n",
       "<polyline clip-path=\"url(#clip932)\" style=\"stroke:#000000; stroke-width:2; stroke-opacity:0.1; fill:none\" points=\"\n",
       "  207.112,1008.37 2352.76,1008.37 \n",
       "  \"/>\n",
       "<polyline clip-path=\"url(#clip932)\" style=\"stroke:#000000; stroke-width:2; stroke-opacity:0.1; fill:none\" points=\"\n",
       "  207.112,772.246 2352.76,772.246 \n",
       "  \"/>\n",
       "<polyline clip-path=\"url(#clip932)\" style=\"stroke:#000000; stroke-width:2; stroke-opacity:0.1; fill:none\" points=\"\n",
       "  207.112,536.123 2352.76,536.123 \n",
       "  \"/>\n",
       "<polyline clip-path=\"url(#clip932)\" style=\"stroke:#000000; stroke-width:2; stroke-opacity:0.1; fill:none\" points=\"\n",
       "  207.112,300 2352.76,300 \n",
       "  \"/>\n",
       "<polyline clip-path=\"url(#clip930)\" style=\"stroke:#000000; stroke-width:4; stroke-opacity:1; fill:none\" points=\"\n",
       "  207.112,1423.18 207.112,123.472 \n",
       "  \"/>\n",
       "<polyline clip-path=\"url(#clip930)\" style=\"stroke:#000000; stroke-width:4; stroke-opacity:1; fill:none\" points=\"\n",
       "  207.112,1244.49 232.859,1244.49 \n",
       "  \"/>\n",
       "<polyline clip-path=\"url(#clip930)\" style=\"stroke:#000000; stroke-width:4; stroke-opacity:1; fill:none\" points=\"\n",
       "  207.112,1008.37 232.859,1008.37 \n",
       "  \"/>\n",
       "<polyline clip-path=\"url(#clip930)\" style=\"stroke:#000000; stroke-width:4; stroke-opacity:1; fill:none\" points=\"\n",
       "  207.112,772.246 232.859,772.246 \n",
       "  \"/>\n",
       "<polyline clip-path=\"url(#clip930)\" style=\"stroke:#000000; stroke-width:4; stroke-opacity:1; fill:none\" points=\"\n",
       "  207.112,536.123 232.859,536.123 \n",
       "  \"/>\n",
       "<polyline clip-path=\"url(#clip930)\" style=\"stroke:#000000; stroke-width:4; stroke-opacity:1; fill:none\" points=\"\n",
       "  207.112,300 232.859,300 \n",
       "  \"/>\n",
       "<path clip-path=\"url(#clip930)\" d=\"M 0 0 M114.26 1244.94 L143.936 1244.94 L143.936 1248.88 L114.26 1248.88 L114.26 1244.94 Z\" fill=\"#000000\" fill-rule=\"evenodd\" fill-opacity=\"1\" /><path clip-path=\"url(#clip930)\" d=\"M 0 0 M159.584 1242.63 Q156.436 1242.63 154.584 1244.78 Q152.755 1246.93 152.755 1250.68 Q152.755 1254.41 154.584 1256.59 Q156.436 1258.74 159.584 1258.74 Q162.732 1258.74 164.561 1256.59 Q166.413 1254.41 166.413 1250.68 Q166.413 1246.93 164.561 1244.78 Q162.732 1242.63 159.584 1242.63 M168.866 1227.98 L168.866 1232.23 Q167.107 1231.4 165.302 1230.96 Q163.519 1230.52 161.76 1230.52 Q157.13 1230.52 154.677 1233.65 Q152.246 1236.77 151.899 1243.09 Q153.265 1241.08 155.325 1240.01 Q157.385 1238.92 159.862 1238.92 Q165.07 1238.92 168.079 1242.1 Q171.112 1245.24 171.112 1250.68 Q171.112 1256.01 167.964 1259.23 Q164.815 1262.44 159.584 1262.44 Q153.589 1262.44 150.417 1257.86 Q147.246 1253.25 147.246 1244.53 Q147.246 1236.33 151.135 1231.47 Q155.024 1226.59 161.575 1226.59 Q163.334 1226.59 165.116 1226.93 Q166.922 1227.28 168.866 1227.98 Z\" fill=\"#000000\" fill-rule=\"evenodd\" fill-opacity=\"1\" /><path clip-path=\"url(#clip930)\" d=\"M 0 0 M115.07 1008.82 L144.746 1008.82 L144.746 1012.76 L115.07 1012.76 L115.07 1008.82 Z\" fill=\"#000000\" fill-rule=\"evenodd\" fill-opacity=\"1\" /><path clip-path=\"url(#clip930)\" d=\"M 0 0 M163.982 1007.01 Q167.339 1007.73 169.214 1010 Q171.112 1012.27 171.112 1015.6 Q171.112 1020.72 167.593 1023.52 Q164.075 1026.32 157.593 1026.32 Q155.417 1026.32 153.103 1025.88 Q150.811 1025.46 148.357 1024.61 L148.357 1020.09 Q150.302 1021.23 152.616 1021.81 Q154.931 1022.38 157.454 1022.38 Q161.852 1022.38 164.144 1020.65 Q166.459 1018.91 166.459 1015.6 Q166.459 1012.55 164.306 1010.83 Q162.177 1009.1 158.357 1009.1 L154.329 1009.1 L154.329 1005.26 L158.542 1005.26 Q161.991 1005.26 163.82 1003.89 Q165.649 1002.5 165.649 999.908 Q165.649 997.246 163.751 995.834 Q161.876 994.399 158.357 994.399 Q156.436 994.399 154.237 994.816 Q152.038 995.232 149.399 996.112 L149.399 991.945 Q152.061 991.204 154.376 990.834 Q156.714 990.464 158.774 990.464 Q164.098 990.464 167.2 992.894 Q170.302 995.302 170.302 999.422 Q170.302 1002.29 168.658 1004.28 Q167.015 1006.25 163.982 1007.01 Z\" fill=\"#000000\" fill-rule=\"evenodd\" fill-opacity=\"1\" /><path clip-path=\"url(#clip930)\" d=\"M 0 0 M159.167 758.044 Q155.556 758.044 153.728 761.609 Q151.922 765.151 151.922 772.281 Q151.922 779.387 153.728 782.952 Q155.556 786.493 159.167 786.493 Q162.802 786.493 164.607 782.952 Q166.436 779.387 166.436 772.281 Q166.436 765.151 164.607 761.609 Q162.802 758.044 159.167 758.044 M159.167 754.341 Q164.977 754.341 168.033 758.947 Q171.112 763.531 171.112 772.281 Q171.112 781.007 168.033 785.614 Q164.977 790.197 159.167 790.197 Q153.357 790.197 150.278 785.614 Q147.223 781.007 147.223 772.281 Q147.223 763.531 150.278 758.947 Q153.357 754.341 159.167 754.341 Z\" fill=\"#000000\" fill-rule=\"evenodd\" fill-opacity=\"1\" /><path clip-path=\"url(#clip930)\" d=\"M 0 0 M163.982 534.769 Q167.339 535.486 169.214 537.755 Q171.112 540.023 171.112 543.357 Q171.112 548.472 167.593 551.273 Q164.075 554.074 157.593 554.074 Q155.417 554.074 153.103 553.634 Q150.811 553.218 148.357 552.361 L148.357 547.847 Q150.302 548.982 152.616 549.56 Q154.931 550.139 157.454 550.139 Q161.852 550.139 164.144 548.403 Q166.459 546.667 166.459 543.357 Q166.459 540.301 164.306 538.588 Q162.177 536.852 158.357 536.852 L154.329 536.852 L154.329 533.009 L158.542 533.009 Q161.991 533.009 163.82 531.644 Q165.649 530.255 165.649 527.662 Q165.649 525 163.751 523.588 Q161.876 522.153 158.357 522.153 Q156.436 522.153 154.237 522.57 Q152.038 522.986 149.399 523.866 L149.399 519.699 Q152.061 518.959 154.376 518.588 Q156.714 518.218 158.774 518.218 Q164.098 518.218 167.2 520.648 Q170.302 523.056 170.302 527.176 Q170.302 530.046 168.658 532.037 Q167.015 534.005 163.982 534.769 Z\" fill=\"#000000\" fill-rule=\"evenodd\" fill-opacity=\"1\" /><path clip-path=\"url(#clip930)\" d=\"M 0 0 M159.584 298.136 Q156.436 298.136 154.584 300.289 Q152.755 302.442 152.755 306.192 Q152.755 309.919 154.584 312.095 Q156.436 314.247 159.584 314.247 Q162.732 314.247 164.561 312.095 Q166.413 309.919 166.413 306.192 Q166.413 302.442 164.561 300.289 Q162.732 298.136 159.584 298.136 M168.866 283.484 L168.866 287.743 Q167.107 286.91 165.302 286.47 Q163.519 286.03 161.76 286.03 Q157.13 286.03 154.677 289.155 Q152.246 292.28 151.899 298.599 Q153.265 296.586 155.325 295.521 Q157.385 294.433 159.862 294.433 Q165.07 294.433 168.079 297.604 Q171.112 300.752 171.112 306.192 Q171.112 311.516 167.964 314.734 Q164.815 317.951 159.584 317.951 Q153.589 317.951 150.417 313.368 Q147.246 308.761 147.246 300.035 Q147.246 291.84 151.135 286.979 Q155.024 282.095 161.575 282.095 Q163.334 282.095 165.116 282.442 Q166.922 282.789 168.866 283.484 Z\" fill=\"#000000\" fill-rule=\"evenodd\" fill-opacity=\"1\" /><path clip-path=\"url(#clip930)\" d=\"M 0 0 M14.479 851.481 L14.479 845.624 L64.0042 845.624 L64.0042 851.481 L14.479 851.481 Z\" fill=\"#000000\" fill-rule=\"evenodd\" fill-opacity=\"1\" /><path clip-path=\"url(#clip930)\" d=\"M 0 0 M42.4881 809.849 L64.0042 809.849 L64.0042 815.706 L42.679 815.706 Q37.6183 815.706 35.1038 817.679 Q32.5894 819.652 32.5894 823.599 Q32.5894 828.342 35.6131 831.079 Q38.6368 833.816 43.8567 833.816 L64.0042 833.816 L64.0042 839.704 L28.3562 839.704 L28.3562 833.816 L33.8944 833.816 Q30.6797 831.715 29.0883 828.883 Q27.4968 826.018 27.4968 822.294 Q27.4968 816.151 31.3163 813 Q35.1038 809.849 42.4881 809.849 Z\" fill=\"#000000\" fill-rule=\"evenodd\" fill-opacity=\"1\" /><path clip-path=\"url(#clip930)\" d=\"M 0 0 M21.7677 797.022 L39.6235 797.022 L39.6235 788.938 Q39.6235 784.45 37.3 781.999 Q34.9765 779.548 30.6797 779.548 Q26.4147 779.548 24.0912 781.999 Q21.7677 784.45 21.7677 788.938 L21.7677 797.022 M16.4842 803.452 L16.4842 788.938 Q16.4842 780.949 20.1126 776.875 Q23.7092 772.769 30.6797 772.769 Q37.7138 772.769 41.3104 776.875 Q44.907 780.949 44.907 788.938 L44.907 797.022 L64.0042 797.022 L64.0042 803.452 L16.4842 803.452 Z\" fill=\"#000000\" fill-rule=\"evenodd\" fill-opacity=\"1\" /><path clip-path=\"url(#clip930)\" d=\"M 0 0 M14.5426 752.558 Q21.8632 756.823 29.0246 758.892 Q36.186 760.961 43.5384 760.961 Q50.8908 760.961 58.1159 758.892 Q65.3091 756.791 72.5979 752.558 L72.5979 757.65 Q65.1182 762.425 57.8931 764.812 Q50.668 767.167 43.5384 767.167 Q36.4406 767.167 29.2474 764.812 Q22.0542 762.457 14.5426 757.65 L14.5426 752.558 Z\" fill=\"#000000\" fill-rule=\"evenodd\" fill-opacity=\"1\" /><path clip-path=\"url(#clip930)\" d=\"M 0 0 M14.479 746.638 L14.479 740.749 L43.7294 740.749 L28.3562 723.276 L28.3562 715.796 L45.0344 734.702 L64.0042 715 L64.0042 722.639 L46.5939 740.749 L64.0042 740.749 L64.0042 746.638 L14.479 746.638 Z\" fill=\"#000000\" fill-rule=\"evenodd\" fill-opacity=\"1\" /><path clip-path=\"url(#clip930)\" d=\"M 0 0 M14.5426 709.78 L14.5426 704.688 Q22.0542 699.913 29.2474 697.558 Q36.4406 695.171 43.5384 695.171 Q50.668 695.171 57.8931 697.558 Q65.1182 699.913 72.5979 704.688 L72.5979 709.78 Q65.3091 705.547 58.1159 703.478 Q50.8908 701.378 43.5384 701.378 Q36.186 701.378 29.0246 703.478 Q21.8632 705.547 14.5426 709.78 Z\" fill=\"#000000\" fill-rule=\"evenodd\" fill-opacity=\"1\" /><path clip-path=\"url(#clip930)\" d=\"M 0 0 M767.555 12.096 L802.312 12.096 L802.312 18.9825 L775.738 18.9825 L775.738 36.8065 L799.719 36.8065 L799.719 43.6931 L775.738 43.6931 L775.738 72.576 L767.555 72.576 L767.555 12.096 Z\" fill=\"#000000\" fill-rule=\"evenodd\" fill-opacity=\"1\" /><path clip-path=\"url(#clip930)\" d=\"M 0 0 M804.824 54.671 L804.824 27.2059 L812.277 27.2059 L812.277 54.3874 Q812.277 60.8284 814.789 64.0691 Q817.3 67.2693 822.323 67.2693 Q828.359 67.2693 831.843 63.421 Q835.367 59.5726 835.367 52.9291 L835.367 27.2059 L842.821 27.2059 L842.821 72.576 L835.367 72.576 L835.367 65.6084 Q832.653 69.7404 829.048 71.7658 Q825.483 73.7508 820.744 73.7508 Q812.925 73.7508 808.874 68.8897 Q804.824 64.0286 804.824 54.671 M823.579 26.1121 L823.579 26.1121 Z\" fill=\"#000000\" fill-rule=\"evenodd\" fill-opacity=\"1\" /><path clip-path=\"url(#clip930)\" d=\"M 0 0 M850.639 9.54393 L858.093 9.54393 L858.093 72.576 L850.639 72.576 L850.639 9.54393 Z\" fill=\"#000000\" fill-rule=\"evenodd\" fill-opacity=\"1\" /><path clip-path=\"url(#clip930)\" d=\"M 0 0 M865.911 9.54393 L873.365 9.54393 L873.365 72.576 L865.911 72.576 L865.911 9.54393 Z\" fill=\"#000000\" fill-rule=\"evenodd\" fill-opacity=\"1\" /><path clip-path=\"url(#clip930)\" d=\"M 0 0 M926.796 16.7545 L926.796 25.383 Q922.664 21.5346 917.965 19.6307 Q913.307 17.7268 908.041 17.7268 Q897.67 17.7268 892.161 24.0867 Q886.652 30.4061 886.652 42.3968 Q886.652 54.3469 892.161 60.7069 Q897.67 67.0263 908.041 67.0263 Q913.307 67.0263 917.965 65.1223 Q922.664 63.2184 926.796 59.3701 L926.796 67.9175 Q922.502 70.8341 917.682 72.2924 Q912.902 73.7508 907.554 73.7508 Q893.822 73.7508 885.923 65.3654 Q878.023 56.9395 878.023 42.3968 Q878.023 27.8135 885.923 19.4281 Q893.822 11.0023 907.554 11.0023 Q912.983 11.0023 917.763 12.4606 Q922.583 13.8784 926.796 16.7545 Z\" fill=\"#000000\" fill-rule=\"evenodd\" fill-opacity=\"1\" /><path clip-path=\"url(#clip930)\" d=\"M 0 0 M952.195 32.4315 Q946.2 32.4315 942.716 37.1306 Q939.233 41.7891 939.233 49.9314 Q939.233 58.0738 942.676 62.7728 Q946.16 67.4314 952.195 67.4314 Q958.15 67.4314 961.634 62.7323 Q965.118 58.0333 965.118 49.9314 Q965.118 41.8701 961.634 37.1711 Q958.15 32.4315 952.195 32.4315 M952.195 26.1121 Q961.918 26.1121 967.467 32.4315 Q973.017 38.7509 973.017 49.9314 Q973.017 61.0714 967.467 67.4314 Q961.918 73.7508 952.195 73.7508 Q942.433 73.7508 936.883 67.4314 Q931.374 61.0714 931.374 49.9314 Q931.374 38.7509 936.883 32.4315 Q942.433 26.1121 952.195 26.1121 Z\" fill=\"#000000\" fill-rule=\"evenodd\" fill-opacity=\"1\" /><path clip-path=\"url(#clip930)\" d=\"M 0 0 M975.488 27.2059 L983.387 27.2059 L997.566 65.2844 L1011.74 27.2059 L1019.64 27.2059 L1002.63 72.576 L992.502 72.576 L975.488 27.2059 Z\" fill=\"#000000\" fill-rule=\"evenodd\" fill-opacity=\"1\" /><path clip-path=\"url(#clip930)\" d=\"M 0 0 M1054.16 12.096 L1065.18 12.096 L1091.99 62.6918 L1091.99 12.096 L1099.93 12.096 L1099.93 72.576 L1088.91 72.576 L1062.1 21.9802 L1062.1 72.576 L1054.16 72.576 L1054.16 12.096 Z\" fill=\"#000000\" fill-rule=\"evenodd\" fill-opacity=\"1\" /><path clip-path=\"url(#clip930)\" d=\"M 0 0 M1125.33 32.4315 Q1119.34 32.4315 1115.85 37.1306 Q1112.37 41.7891 1112.37 49.9314 Q1112.37 58.0738 1115.81 62.7728 Q1119.3 67.4314 1125.33 67.4314 Q1131.29 67.4314 1134.77 62.7323 Q1138.25 58.0333 1138.25 49.9314 Q1138.25 41.8701 1134.77 37.1711 Q1131.29 32.4315 1125.33 32.4315 M1125.33 26.1121 Q1135.05 26.1121 1140.6 32.4315 Q1146.15 38.7509 1146.15 49.9314 Q1146.15 61.0714 1140.6 67.4314 Q1135.05 73.7508 1125.33 73.7508 Q1115.57 73.7508 1110.02 67.4314 Q1104.51 61.0714 1104.51 49.9314 Q1104.51 38.7509 1110.02 32.4315 Q1115.57 26.1121 1125.33 26.1121 Z\" fill=\"#000000\" fill-rule=\"evenodd\" fill-opacity=\"1\" /><path clip-path=\"url(#clip930)\" d=\"M 0 0 M1153.97 27.2059 L1161.42 27.2059 L1161.42 72.576 L1153.97 72.576 L1153.97 27.2059 M1153.97 9.54393 L1161.42 9.54393 L1161.42 18.9825 L1153.97 18.9825 L1153.97 9.54393 Z\" fill=\"#000000\" fill-rule=\"evenodd\" fill-opacity=\"1\" /><path clip-path=\"url(#clip930)\" d=\"M 0 0 M1198.17 28.5427 L1198.17 35.5912 Q1195.01 33.9709 1191.6 33.1607 Q1188.2 32.3505 1184.56 32.3505 Q1179.01 32.3505 1176.21 34.0519 Q1173.46 35.7533 1173.46 39.156 Q1173.46 41.7486 1175.44 43.2475 Q1177.43 44.7058 1183.42 46.0426 L1185.97 46.6097 Q1193.91 48.3111 1197.23 51.4303 Q1200.6 54.509 1200.6 60.0587 Q1200.6 66.3781 1195.57 70.0644 Q1190.59 73.7508 1181.84 73.7508 Q1178.2 73.7508 1174.23 73.0216 Q1170.3 72.3329 1165.92 70.9151 L1165.92 63.2184 Q1170.05 65.3654 1174.06 66.4591 Q1178.07 67.5124 1182 67.5124 Q1187.27 67.5124 1190.11 65.73 Q1192.94 63.9071 1192.94 60.6258 Q1192.94 57.5877 1190.87 55.9673 Q1188.85 54.3469 1181.92 52.8481 L1179.33 52.2405 Q1172.4 50.7821 1169.32 47.7845 Q1166.25 44.7463 1166.25 39.4801 Q1166.25 33.0797 1170.78 29.5959 Q1175.32 26.1121 1183.66 26.1121 Q1187.8 26.1121 1191.44 26.7198 Q1195.09 27.3274 1198.17 28.5427 Z\" fill=\"#000000\" fill-rule=\"evenodd\" fill-opacity=\"1\" /><path clip-path=\"url(#clip930)\" d=\"M 0 0 M1226 32.4315 Q1220 32.4315 1216.52 37.1306 Q1213.03 41.7891 1213.03 49.9314 Q1213.03 58.0738 1216.48 62.7728 Q1219.96 67.4314 1226 67.4314 Q1231.95 67.4314 1235.43 62.7323 Q1238.92 58.0333 1238.92 49.9314 Q1238.92 41.8701 1235.43 37.1711 Q1231.95 32.4315 1226 32.4315 M1226 26.1121 Q1235.72 26.1121 1241.27 32.4315 Q1246.82 38.7509 1246.82 49.9314 Q1246.82 61.0714 1241.27 67.4314 Q1235.72 73.7508 1226 73.7508 Q1216.23 73.7508 1210.68 67.4314 Q1205.17 61.0714 1205.17 49.9314 Q1205.17 38.7509 1210.68 32.4315 Q1216.23 26.1121 1226 26.1121 Z\" fill=\"#000000\" fill-rule=\"evenodd\" fill-opacity=\"1\" /><path clip-path=\"url(#clip930)\" d=\"M 0 0 M1256.54 62.2867 L1265.09 62.2867 L1265.09 72.576 L1256.54 72.576 L1256.54 62.2867 M1256.54 29.6769 L1265.09 29.6769 L1265.09 39.9662 L1256.54 39.9662 L1256.54 29.6769 Z\" fill=\"#000000\" fill-rule=\"evenodd\" fill-opacity=\"1\" /><path clip-path=\"url(#clip930)\" d=\"M 0 0 M1307.78 18.8205 L1307.78 41.5461 L1318.07 41.5461 Q1323.78 41.5461 1326.9 38.5889 Q1330.02 35.6318 1330.02 30.163 Q1330.02 24.7348 1326.9 21.7777 Q1323.78 18.8205 1318.07 18.8205 L1307.78 18.8205 M1299.6 12.096 L1318.07 12.096 Q1328.24 12.096 1333.43 16.714 Q1338.65 21.2916 1338.65 30.163 Q1338.65 39.1155 1333.43 43.6931 Q1328.24 48.2706 1318.07 48.2706 L1307.78 48.2706 L1307.78 72.576 L1299.6 72.576 L1299.6 12.096 Z\" fill=\"#000000\" fill-rule=\"evenodd\" fill-opacity=\"1\" /><path clip-path=\"url(#clip930)\" d=\"M 0 0 M1364.37 9.62495 Q1358.95 18.942 1356.31 28.0566 Q1353.68 37.1711 1353.68 46.5287 Q1353.68 55.8863 1356.31 65.0818 Q1358.99 74.2369 1364.37 83.5134 L1357.89 83.5134 Q1351.82 73.9938 1348.78 64.7983 Q1345.78 55.6027 1345.78 46.5287 Q1345.78 37.4952 1348.78 28.3401 Q1351.78 19.1851 1357.89 9.62495 L1364.37 9.62495 Z\" fill=\"#000000\" fill-rule=\"evenodd\" fill-opacity=\"1\" /><path clip-path=\"url(#clip930)\" d=\"M 0 0 M1371.91 9.54393 L1379.4 9.54393 L1379.4 46.7717 L1401.64 27.2059 L1411.16 27.2059 L1387.1 48.4326 L1412.18 72.576 L1402.45 72.576 L1379.4 50.4176 L1379.4 72.576 L1371.91 72.576 L1371.91 9.54393 Z\" fill=\"#000000\" fill-rule=\"evenodd\" fill-opacity=\"1\" /><path clip-path=\"url(#clip930)\" d=\"M 0 0 M1418.82 9.62495 L1425.3 9.62495 Q1431.38 19.1851 1434.37 28.3401 Q1437.41 37.4952 1437.41 46.5287 Q1437.41 55.6027 1434.37 64.7983 Q1431.38 73.9938 1425.3 83.5134 L1418.82 83.5134 Q1424.21 74.2369 1426.84 65.0818 Q1429.51 55.8863 1429.51 46.5287 Q1429.51 37.1711 1426.84 28.0566 Q1424.21 18.942 1418.82 9.62495 Z\" fill=\"#000000\" fill-rule=\"evenodd\" fill-opacity=\"1\" /><path clip-path=\"url(#clip930)\" d=\"M 0 0 M1489.18 32.4315 Q1483.19 32.4315 1479.7 37.1306 Q1476.22 41.7891 1476.22 49.9314 Q1476.22 58.0738 1479.66 62.7728 Q1483.15 67.4314 1489.18 67.4314 Q1495.14 67.4314 1498.62 62.7323 Q1502.11 58.0333 1502.11 49.9314 Q1502.11 41.8701 1498.62 37.1711 Q1495.14 32.4315 1489.18 32.4315 M1489.18 26.1121 Q1498.91 26.1121 1504.46 32.4315 Q1510 38.7509 1510 49.9314 Q1510 61.0714 1504.46 67.4314 Q1498.91 73.7508 1489.18 73.7508 Q1479.42 73.7508 1473.87 67.4314 Q1468.36 61.0714 1468.36 49.9314 Q1468.36 38.7509 1473.87 32.4315 Q1479.42 26.1121 1489.18 26.1121 Z\" fill=\"#000000\" fill-rule=\"evenodd\" fill-opacity=\"1\" /><path clip-path=\"url(#clip930)\" d=\"M 0 0 M1540.79 9.54393 L1540.79 15.7418 L1533.66 15.7418 Q1529.65 15.7418 1528.07 17.3622 Q1526.53 18.9825 1526.53 23.1955 L1526.53 27.2059 L1538.81 27.2059 L1538.81 32.9987 L1526.53 32.9987 L1526.53 72.576 L1519.04 72.576 L1519.04 32.9987 L1511.91 32.9987 L1511.91 27.2059 L1519.04 27.2059 L1519.04 24.0462 Q1519.04 16.471 1522.56 13.0277 Q1526.09 9.54393 1533.74 9.54393 L1540.79 9.54393 Z\" fill=\"#000000\" fill-rule=\"evenodd\" fill-opacity=\"1\" /><path clip-path=\"url(#clip930)\" d=\"M 0 0 M1575.31 12.096 L1583.49 12.096 L1583.49 72.576 L1575.31 72.576 L1575.31 12.096 Z\" fill=\"#000000\" fill-rule=\"evenodd\" fill-opacity=\"1\" /><path clip-path=\"url(#clip930)\" d=\"M 0 0 M1626.63 35.9153 Q1629.43 30.8922 1633.31 28.5022 Q1637.2 26.1121 1642.47 26.1121 Q1649.56 26.1121 1653.41 31.0947 Q1657.26 36.0368 1657.26 45.1919 L1657.26 72.576 L1649.76 72.576 L1649.76 45.4349 Q1649.76 38.913 1647.45 35.7533 Q1645.14 32.5936 1640.4 32.5936 Q1634.61 32.5936 1631.25 36.4419 Q1627.89 40.2903 1627.89 46.9338 L1627.89 72.576 L1620.39 72.576 L1620.39 45.4349 Q1620.39 38.8725 1618.08 35.7533 Q1615.77 32.5936 1610.95 32.5936 Q1605.24 32.5936 1601.88 36.4824 Q1598.52 40.3308 1598.52 46.9338 L1598.52 72.576 L1591.02 72.576 L1591.02 27.2059 L1598.52 27.2059 L1598.52 34.2544 Q1601.07 30.082 1604.63 28.0971 Q1608.2 26.1121 1613.1 26.1121 Q1618.04 26.1121 1621.49 28.6237 Q1624.97 31.1352 1626.63 35.9153 Z\" fill=\"#000000\" fill-rule=\"evenodd\" fill-opacity=\"1\" /><path clip-path=\"url(#clip930)\" d=\"M 0 0 M1685.69 49.7694 Q1676.66 49.7694 1673.18 51.8354 Q1669.69 53.9013 1669.69 58.8839 Q1669.69 62.8538 1672.28 65.2034 Q1674.92 67.5124 1679.41 67.5124 Q1685.61 67.5124 1689.34 63.1374 Q1693.11 58.7219 1693.11 51.4303 L1693.11 49.7694 L1685.69 49.7694 M1700.56 46.6907 L1700.56 72.576 L1693.11 72.576 L1693.11 65.6895 Q1690.55 69.8214 1686.75 71.8063 Q1682.94 73.7508 1677.43 73.7508 Q1670.46 73.7508 1666.33 69.8619 Q1662.24 65.9325 1662.24 59.3701 Q1662.24 51.7138 1667.34 47.825 Q1672.49 43.9361 1682.65 43.9361 L1693.11 43.9361 L1693.11 43.2069 Q1693.11 38.0623 1689.7 35.2672 Q1686.34 32.4315 1680.22 32.4315 Q1676.34 32.4315 1672.65 33.3632 Q1668.96 34.295 1665.56 36.1584 L1665.56 29.2718 Q1669.65 27.692 1673.5 26.9223 Q1677.35 26.1121 1680.99 26.1121 Q1690.84 26.1121 1695.7 31.2163 Q1700.56 36.3204 1700.56 46.6907 Z\" fill=\"#000000\" fill-rule=\"evenodd\" fill-opacity=\"1\" /><path clip-path=\"url(#clip930)\" d=\"M 0 0 M1738.23 49.3643 Q1738.23 41.2625 1734.87 36.8065 Q1731.55 32.3505 1725.51 32.3505 Q1719.52 32.3505 1716.16 36.8065 Q1712.83 41.2625 1712.83 49.3643 Q1712.83 57.4256 1716.16 61.8816 Q1719.52 66.3376 1725.51 66.3376 Q1731.55 66.3376 1734.87 61.8816 Q1738.23 57.4256 1738.23 49.3643 M1745.69 66.9452 Q1745.69 78.5308 1740.54 84.1616 Q1735.4 89.8329 1724.78 89.8329 Q1720.85 89.8329 1717.37 89.2252 Q1713.89 88.6581 1710.61 87.4428 L1710.61 80.1917 Q1713.89 81.9741 1717.09 82.8248 Q1720.29 83.6755 1723.61 83.6755 Q1730.94 83.6755 1734.59 79.8271 Q1738.23 76.0193 1738.23 68.282 L1738.23 64.5957 Q1735.92 68.6061 1732.32 70.5911 Q1728.71 72.576 1723.69 72.576 Q1715.35 72.576 1710.24 66.2161 Q1705.14 59.8562 1705.14 49.3643 Q1705.14 38.832 1710.24 32.472 Q1715.35 26.1121 1723.69 26.1121 Q1728.71 26.1121 1732.32 28.0971 Q1735.92 30.082 1738.23 34.0924 L1738.23 27.2059 L1745.69 27.2059 L1745.69 66.9452 Z\" fill=\"#000000\" fill-rule=\"evenodd\" fill-opacity=\"1\" /><path clip-path=\"url(#clip930)\" d=\"M 0 0 M1792.31 48.0275 L1792.31 51.6733 L1758.04 51.6733 Q1758.53 59.3701 1762.66 63.421 Q1766.83 67.4314 1774.25 67.4314 Q1778.54 67.4314 1782.55 66.3781 Q1786.6 65.3249 1790.57 63.2184 L1790.57 70.267 Q1786.56 71.9684 1782.35 72.8596 Q1778.13 73.7508 1773.8 73.7508 Q1762.94 73.7508 1756.58 67.4314 Q1750.26 61.1119 1750.26 50.3365 Q1750.26 39.1965 1756.26 32.6746 Q1762.3 26.1121 1772.5 26.1121 Q1781.66 26.1121 1786.97 32.0264 Q1792.31 37.9003 1792.31 48.0275 M1784.86 45.84 Q1784.78 39.7232 1781.42 36.0774 Q1778.09 32.4315 1772.58 32.4315 Q1766.35 32.4315 1762.58 35.9558 Q1758.85 39.4801 1758.28 45.8805 L1784.86 45.84 Z\" fill=\"#000000\" fill-rule=\"evenodd\" fill-opacity=\"1\" /><polyline clip-path=\"url(#clip932)\" style=\"stroke:#009af9; stroke-width:4; stroke-opacity:1; fill:none\" points=\"\n",
       "  267.837,229.053 672.676,620.9 909.491,678.223 1077.51,710.636 1207.84,788.482 1314.33,800.168 1404.36,860.497 1482.35,913.132 1551.15,913.893 1612.68,967.832 \n",
       "  1668.35,976.992 1719.17,1002.55 1765.92,1022.47 1809.2,1042.28 1849.5,1051.95 1887.19,1097.39 1922.6,1098.66 1955.98,1135.7 1987.56,1159.04 2017.52,1169.35 \n",
       "  2046.02,1213.51 2073.19,1212.1 2099.15,1235.46 2124.01,1249.34 2147.85,1259.74 2170.76,1277.13 2192.8,1309.63 2214.04,1327.74 2234.54,1341.18 2254.34,1368.71 \n",
       "  2273.49,1380.62 2292.03,1380.91 \n",
       "  \"/>\n",
       "<polyline clip-path=\"url(#clip932)\" style=\"stroke:#e26f46; stroke-width:4; stroke-opacity:1; fill:none\" points=\"\n",
       "  267.837,160.256 672.676,598.72 909.491,647.071 1077.51,733.997 1207.84,795.385 1314.33,817.527 1404.36,871.892 1482.35,896.683 1551.15,933.233 1612.68,929.394 \n",
       "  1668.35,940.074 1719.17,981.9 1765.92,1014.11 1809.2,1055.99 1849.5,1087.75 1887.19,1103.88 1922.6,1106.73 1955.98,1111.59 1987.56,1112.17 2017.52,1130.84 \n",
       "  2046.02,1156.89 2073.19,1167.57 2099.15,1179.58 2124.01,1200.72 2147.85,1218.19 2170.76,1254.32 2192.8,1270.91 2214.04,1290.17 2234.54,1325.44 2254.34,1350.15 \n",
       "  2273.49,1382.75 2292.03,1386.4 \n",
       "  \"/>\n",
       "<polyline clip-path=\"url(#clip932)\" style=\"stroke:#3da44d; stroke-width:4; stroke-opacity:1; fill:none\" points=\"\n",
       "  267.837,227.716 672.676,620.388 909.491,669.465 1077.51,700.047 1207.84,778.188 1314.33,784.604 1404.36,836.539 1482.35,861.785 1551.15,842.086 1612.68,878.142 \n",
       "  1668.35,900.836 1719.17,893.341 1765.92,906.296 1809.2,903.074 1849.5,900.903 1887.19,899.204 1922.6,905.162 1955.98,914.011 1987.56,897.511 2017.52,897.059 \n",
       "  2046.02,901.347 2073.19,920.159 2099.15,942.516 2124.01,911.515 2147.85,914.882 2170.76,902.605 2192.8,899.053 2214.04,904.847 2234.54,898.843 2254.34,900.412 \n",
       "  2273.49,906.496 2292.03,894.557 \n",
       "  \"/>\n",
       "<path clip-path=\"url(#clip930)\" d=\"\n",
       "M1915.84 408.716 L2281.23 408.716 L2281.23 166.796 L1915.84 166.796  Z\n",
       "  \" fill=\"#ffffff\" fill-rule=\"evenodd\" fill-opacity=\"1\"/>\n",
       "<polyline clip-path=\"url(#clip930)\" style=\"stroke:#000000; stroke-width:4; stroke-opacity:1; fill:none\" points=\"\n",
       "  1915.84,408.716 2281.23,408.716 2281.23,166.796 1915.84,166.796 1915.84,408.716 \n",
       "  \"/>\n",
       "<polyline clip-path=\"url(#clip930)\" style=\"stroke:#009af9; stroke-width:4; stroke-opacity:1; fill:none\" points=\"\n",
       "  1939.68,227.276 2082.72,227.276 \n",
       "  \"/>\n",
       "<path clip-path=\"url(#clip930)\" d=\"M 0 0 M2106.56 209.996 L2135.8 209.996 L2135.8 213.931 L2123.53 213.931 L2123.53 244.556 L2118.83 244.556 L2118.83 213.931 L2106.56 213.931 L2106.56 209.996 Z\" fill=\"#000000\" fill-rule=\"evenodd\" fill-opacity=\"1\" /><path clip-path=\"url(#clip930)\" d=\"M 0 0 M2148.32 222.611 Q2147.6 222.195 2146.75 222.01 Q2145.92 221.801 2144.9 221.801 Q2141.29 221.801 2139.34 224.162 Q2137.42 226.5 2137.42 230.898 L2137.42 244.556 L2133.14 244.556 L2133.14 218.63 L2137.42 218.63 L2137.42 222.658 Q2138.76 220.297 2140.92 219.162 Q2143.07 218.005 2146.15 218.005 Q2146.59 218.005 2147.12 218.074 Q2147.65 218.121 2148.3 218.236 L2148.32 222.611 Z\" fill=\"#000000\" fill-rule=\"evenodd\" fill-opacity=\"1\" /><path clip-path=\"url(#clip930)\" d=\"M 0 0 M2152.35 234.324 L2152.35 218.63 L2156.61 218.63 L2156.61 234.162 Q2156.61 237.843 2158.04 239.695 Q2159.48 241.523 2162.35 241.523 Q2165.8 241.523 2167.79 239.324 Q2169.8 237.125 2169.8 233.329 L2169.8 218.63 L2174.06 218.63 L2174.06 244.556 L2169.8 244.556 L2169.8 240.574 Q2168.25 242.935 2166.19 244.093 Q2164.16 245.227 2161.45 245.227 Q2156.98 245.227 2154.66 242.449 Q2152.35 239.671 2152.35 234.324 M2163.07 218.005 L2163.07 218.005 Z\" fill=\"#000000\" fill-rule=\"evenodd\" fill-opacity=\"1\" /><path clip-path=\"url(#clip930)\" d=\"M 0 0 M2200.71 230.528 L2200.71 232.611 L2181.12 232.611 Q2181.4 237.009 2183.76 239.324 Q2186.15 241.616 2190.38 241.616 Q2192.84 241.616 2195.13 241.014 Q2197.44 240.412 2199.71 239.209 L2199.71 243.236 Q2197.42 244.208 2195.01 244.718 Q2192.6 245.227 2190.13 245.227 Q2183.92 245.227 2180.29 241.616 Q2176.68 238.005 2176.68 231.847 Q2176.68 225.482 2180.1 221.755 Q2183.55 218.005 2189.39 218.005 Q2194.62 218.005 2197.65 221.385 Q2200.71 224.741 2200.71 230.528 M2196.45 229.278 Q2196.4 225.783 2194.48 223.699 Q2192.58 221.616 2189.43 221.616 Q2185.87 221.616 2183.72 223.63 Q2181.59 225.644 2181.26 229.301 L2196.45 229.278 Z\" fill=\"#000000\" fill-rule=\"evenodd\" fill-opacity=\"1\" /><polyline clip-path=\"url(#clip930)\" style=\"stroke:#e26f46; stroke-width:4; stroke-opacity:1; fill:none\" points=\"\n",
       "  1939.68,287.756 2082.72,287.756 \n",
       "  \"/>\n",
       "<path clip-path=\"url(#clip930)\" d=\"M 0 0 M2122.95 288.832 Q2124.46 289.341 2125.87 291.008 Q2127.3 292.675 2128.74 295.591 L2133.48 305.036 L2128.46 305.036 L2124.04 296.17 Q2122.33 292.698 2120.71 291.564 Q2119.11 290.429 2116.33 290.429 L2111.24 290.429 L2111.24 305.036 L2106.56 305.036 L2106.56 270.476 L2117.12 270.476 Q2123.04 270.476 2125.96 272.953 Q2128.88 275.429 2128.88 280.429 Q2128.88 283.693 2127.35 285.846 Q2125.85 287.999 2122.95 288.832 M2111.24 274.318 L2111.24 286.587 L2117.12 286.587 Q2120.5 286.587 2122.21 285.036 Q2123.95 283.462 2123.95 280.429 Q2123.95 277.397 2122.21 275.869 Q2120.5 274.318 2117.12 274.318 L2111.24 274.318 Z\" fill=\"#000000\" fill-rule=\"evenodd\" fill-opacity=\"1\" /><path clip-path=\"url(#clip930)\" d=\"M 0 0 M2158 291.008 L2158 293.091 L2138.42 293.091 Q2138.69 297.489 2141.05 299.804 Q2143.44 302.096 2147.67 302.096 Q2150.13 302.096 2152.42 301.494 Q2154.73 300.892 2157 299.689 L2157 303.716 Q2154.71 304.688 2152.3 305.198 Q2149.9 305.707 2147.42 305.707 Q2141.22 305.707 2137.58 302.096 Q2133.97 298.485 2133.97 292.327 Q2133.97 285.962 2137.4 282.235 Q2140.85 278.485 2146.68 278.485 Q2151.91 278.485 2154.94 281.865 Q2158 285.221 2158 291.008 M2153.74 289.758 Q2153.69 286.263 2151.77 284.179 Q2149.87 282.096 2146.73 282.096 Q2143.16 282.096 2141.01 284.11 Q2138.88 286.124 2138.55 289.781 L2153.74 289.758 Z\" fill=\"#000000\" fill-rule=\"evenodd\" fill-opacity=\"1\" /><path clip-path=\"url(#clip930)\" d=\"M 0 0 M2181.12 280.105 L2181.12 284.087 Q2179.32 283.091 2177.49 282.605 Q2175.68 282.096 2173.83 282.096 Q2169.69 282.096 2167.4 284.735 Q2165.1 287.351 2165.1 292.096 Q2165.1 296.841 2167.4 299.48 Q2169.69 302.096 2173.83 302.096 Q2175.68 302.096 2177.49 301.61 Q2179.32 301.101 2181.12 300.105 L2181.12 304.04 Q2179.34 304.874 2177.42 305.29 Q2175.52 305.707 2173.37 305.707 Q2167.51 305.707 2164.06 302.026 Q2160.61 298.346 2160.61 292.096 Q2160.61 285.753 2164.09 282.119 Q2167.58 278.485 2173.65 278.485 Q2175.61 278.485 2177.49 278.902 Q2179.36 279.295 2181.12 280.105 Z\" fill=\"#000000\" fill-rule=\"evenodd\" fill-opacity=\"1\" /><path clip-path=\"url(#clip930)\" d=\"M 0 0 M2195.64 282.096 Q2192.21 282.096 2190.22 284.781 Q2188.23 287.443 2188.23 292.096 Q2188.23 296.749 2190.2 299.434 Q2192.19 302.096 2195.64 302.096 Q2199.04 302.096 2201.03 299.411 Q2203.02 296.726 2203.02 292.096 Q2203.02 287.49 2201.03 284.804 Q2199.04 282.096 2195.64 282.096 M2195.64 278.485 Q2201.19 278.485 2204.36 282.096 Q2207.54 285.707 2207.54 292.096 Q2207.54 298.462 2204.36 302.096 Q2201.19 305.707 2195.64 305.707 Q2190.06 305.707 2186.89 302.096 Q2183.74 298.462 2183.74 292.096 Q2183.74 285.707 2186.89 282.096 Q2190.06 278.485 2195.64 278.485 Z\" fill=\"#000000\" fill-rule=\"evenodd\" fill-opacity=\"1\" /><path clip-path=\"url(#clip930)\" d=\"M 0 0 M2233.55 289.388 L2233.55 305.036 L2229.29 305.036 L2229.29 289.527 Q2229.29 285.846 2227.86 284.017 Q2226.42 282.189 2223.55 282.189 Q2220.1 282.189 2218.11 284.388 Q2216.12 286.587 2216.12 290.383 L2216.12 305.036 L2211.84 305.036 L2211.84 279.11 L2216.12 279.11 L2216.12 283.138 Q2217.65 280.8 2219.71 279.642 Q2221.79 278.485 2224.5 278.485 Q2228.97 278.485 2231.26 281.263 Q2233.55 284.017 2233.55 289.388 Z\" fill=\"#000000\" fill-rule=\"evenodd\" fill-opacity=\"1\" /><polyline clip-path=\"url(#clip930)\" style=\"stroke:#3da44d; stroke-width:4; stroke-opacity:1; fill:none\" points=\"\n",
       "  1939.68,348.236 2082.72,348.236 \n",
       "  \"/>\n",
       "<path clip-path=\"url(#clip930)\" d=\"M 0 0 M2106.56 330.956 L2111.24 330.956 L2111.24 365.516 L2106.56 365.516 L2106.56 330.956 Z\" fill=\"#000000\" fill-rule=\"evenodd\" fill-opacity=\"1\" /><path clip-path=\"url(#clip930)\" d=\"M 0 0 M2137.26 349.868 L2137.26 365.516 L2133 365.516 L2133 350.007 Q2133 346.326 2131.56 344.497 Q2130.13 342.669 2127.26 342.669 Q2123.81 342.669 2121.82 344.868 Q2119.83 347.067 2119.83 350.863 L2119.83 365.516 L2115.54 365.516 L2115.54 339.59 L2119.83 339.59 L2119.83 343.618 Q2121.35 341.28 2123.42 340.122 Q2125.5 338.965 2128.21 338.965 Q2132.67 338.965 2134.97 341.743 Q2137.26 344.497 2137.26 349.868 Z\" fill=\"#000000\" fill-rule=\"evenodd\" fill-opacity=\"1\" /><path clip-path=\"url(#clip930)\" d=\"M 0 0 M2141.73 339.59 L2145.98 339.59 L2145.98 365.516 L2141.73 365.516 L2141.73 339.59 M2141.73 329.497 L2145.98 329.497 L2145.98 334.891 L2141.73 334.891 L2141.73 329.497 Z\" fill=\"#000000\" fill-rule=\"evenodd\" fill-opacity=\"1\" /><path clip-path=\"url(#clip930)\" d=\"M 0 0 M2154.66 332.229 L2154.66 339.59 L2163.44 339.59 L2163.44 342.9 L2154.66 342.9 L2154.66 356.974 Q2154.66 360.145 2155.52 361.048 Q2156.4 361.951 2159.06 361.951 L2163.44 361.951 L2163.44 365.516 L2159.06 365.516 Q2154.13 365.516 2152.26 363.687 Q2150.38 361.835 2150.38 356.974 L2150.38 342.9 L2147.26 342.9 L2147.26 339.59 L2150.38 339.59 L2150.38 332.229 L2154.66 332.229 Z\" fill=\"#000000\" fill-rule=\"evenodd\" fill-opacity=\"1\" /></svg>\n"
      ]
     },
     "execution_count": 20,
     "metadata": {},
     "output_type": "execute_result"
    }
   ],
   "source": [
    "kbins=convert(Array{Float64}, collect(1:32))\n",
    "true_ps = calc_1dps(apodizer(gttarget[\"true_img\"]), kbins)\n",
    "recon_ps = calc_1dps(apodizer(gttarget[\"recon\"]), kbins)\n",
    "init_ps = calc_1dps(apodizer(gttarget[\"init\"]), kbins)\n",
    "p = plot(log.(kbins), log.(true_ps), label=\"True\")\n",
    "plot!(log.(kbins), log.(recon_ps), label=\"Recon\")\n",
    "plot!(log.(kbins), log.(init_ps), label=\"Init\")\n",
    "plot!(title=\"FullCov Noiso: P(k) of Image\")\n",
    "xlabel!(\"lnk\")\n",
    "ylabel!(\"lnP(k)\")"
   ]
  },
  {
   "cell_type": "markdown",
   "metadata": {},
   "source": [
    "Moving closer to the target than I want to. L1recon < L1true. \n",
    "**Let's increase Lambda to fix this?**"
   ]
  },
  {
   "cell_type": "code",
   "execution_count": 21,
   "metadata": {},
   "outputs": [
    {
     "name": "stdout",
     "output_type": "stream",
     "text": [
      "True271.13355388014503\n",
      "0.08924165728318675\n",
      "Init388.091139523465\n",
      "0.0\n",
      "Recon6.279469031823527\n",
      "0.2999873710540242\n"
     ]
    }
   ],
   "source": [
    "fname = \"../../StandardizedExp/Nx64/noisy_stdtrue/SFDTargSFDCov/reg_apd_noiso/LogCoeff/1000_1-0_full_triu\"\n",
    "gttarget = load(fname*\".jld2\")\n",
    "filter_hash = gttarget[\"fhash\"]\n",
    "s_targ_mean, s_targ_invcov = gttarget[\"dict\"][\"fs_targ_mean\"], gttarget[\"dict\"][\"fs_invcov\"]\n",
    "dhc_args = Dict(:doS2=>false, :doS20=>true, :apodize=>true, :iso=>false)\n",
    "\n",
    "altrue = apodizer(gttarget[\"true_img\"])\n",
    "alinit = apodizer(gttarget[\"init\"])\n",
    "alrecon = apodizer(gttarget[\"recon\"])\n",
    "\n",
    "coeff_mask = gttarget[\"coeff_mask\"]\n",
    "s_true = log.(DHC_compute_wrapper(gttarget[\"true_img\"], filter_hash, norm=false; dhc_args...)[coeff_mask])\n",
    "s_init = log.(DHC_compute_wrapper(gttarget[\"init\"], filter_hash, norm=false; dhc_args...)[coeff_mask])\n",
    "s_recon = log.(DHC_compute_wrapper(gttarget[\"recon\"], filter_hash, norm=false; dhc_args...)[coeff_mask])\n",
    "ltruecheck = ( 0.5 .* (s_true - s_targ_mean)' * s_targ_invcov * (s_true - s_targ_mean))[1]\n",
    "l2true = 0.5*gttarget[\"dict\"][\"lambda\"]*sum((alinit - altrue).^2)\n",
    "println(\"True\", ltruecheck)\n",
    "println(l2true)\n",
    "\n",
    "l1init = ( 0.5 .* (s_init - s_targ_mean)' * s_targ_invcov * (s_init - s_targ_mean))[1]\n",
    "l2init = 0.5*gttarget[\"dict\"][\"lambda\"]*sum((alinit - alinit).^2)\n",
    "println(\"Init\", l1init)\n",
    "println(l2init)\n",
    "\n",
    "l1recon = ( 0.5 .* (s_recon - s_targ_mean)' * s_targ_invcov * (s_recon - s_targ_mean))[1]\n",
    "l2recon = 0.5*gttarget[\"dict\"][\"lambda\"]*sum((alrecon - alinit).^2)\n",
    "println(\"Recon\", l1recon)\n",
    "println(l2recon)\n"
   ]
  },
  {
   "cell_type": "code",
   "execution_count": 22,
   "metadata": {},
   "outputs": [
    {
     "data": {
      "image/svg+xml": [
       "<?xml version=\"1.0\" encoding=\"utf-8\"?>\n",
       "<svg xmlns=\"http://www.w3.org/2000/svg\" xmlns:xlink=\"http://www.w3.org/1999/xlink\" width=\"600\" height=\"400\" viewBox=\"0 0 2400 1600\">\n",
       "<defs>\n",
       "  <clipPath id=\"clip970\">\n",
       "    <rect x=\"0\" y=\"0\" width=\"2400\" height=\"1600\"/>\n",
       "  </clipPath>\n",
       "</defs>\n",
       "<path clip-path=\"url(#clip970)\" d=\"\n",
       "M0 1600 L2400 1600 L2400 0 L0 0  Z\n",
       "  \" fill=\"#ffffff\" fill-rule=\"evenodd\" fill-opacity=\"1\"/>\n",
       "<defs>\n",
       "  <clipPath id=\"clip971\">\n",
       "    <rect x=\"480\" y=\"0\" width=\"1681\" height=\"1600\"/>\n",
       "  </clipPath>\n",
       "</defs>\n",
       "<path clip-path=\"url(#clip970)\" d=\"\n",
       "M207.112 1423.18 L2352.76 1423.18 L2352.76 123.472 L207.112 123.472  Z\n",
       "  \" fill=\"#ffffff\" fill-rule=\"evenodd\" fill-opacity=\"1\"/>\n",
       "<defs>\n",
       "  <clipPath id=\"clip972\">\n",
       "    <rect x=\"207\" y=\"123\" width=\"2147\" height=\"1301\"/>\n",
       "  </clipPath>\n",
       "</defs>\n",
       "<polyline clip-path=\"url(#clip972)\" style=\"stroke:#000000; stroke-width:2; stroke-opacity:0.1; fill:none\" points=\"\n",
       "  267.837,1423.18 267.837,123.472 \n",
       "  \"/>\n",
       "<polyline clip-path=\"url(#clip972)\" style=\"stroke:#000000; stroke-width:2; stroke-opacity:0.1; fill:none\" points=\"\n",
       "  851.896,1423.18 851.896,123.472 \n",
       "  \"/>\n",
       "<polyline clip-path=\"url(#clip972)\" style=\"stroke:#000000; stroke-width:2; stroke-opacity:0.1; fill:none\" points=\"\n",
       "  1435.95,1423.18 1435.95,123.472 \n",
       "  \"/>\n",
       "<polyline clip-path=\"url(#clip972)\" style=\"stroke:#000000; stroke-width:2; stroke-opacity:0.1; fill:none\" points=\"\n",
       "  2020.01,1423.18 2020.01,123.472 \n",
       "  \"/>\n",
       "<polyline clip-path=\"url(#clip970)\" style=\"stroke:#000000; stroke-width:4; stroke-opacity:1; fill:none\" points=\"\n",
       "  207.112,1423.18 2352.76,1423.18 \n",
       "  \"/>\n",
       "<polyline clip-path=\"url(#clip970)\" style=\"stroke:#000000; stroke-width:4; stroke-opacity:1; fill:none\" points=\"\n",
       "  267.837,1423.18 267.837,1407.58 \n",
       "  \"/>\n",
       "<polyline clip-path=\"url(#clip970)\" style=\"stroke:#000000; stroke-width:4; stroke-opacity:1; fill:none\" points=\"\n",
       "  851.896,1423.18 851.896,1407.58 \n",
       "  \"/>\n",
       "<polyline clip-path=\"url(#clip970)\" style=\"stroke:#000000; stroke-width:4; stroke-opacity:1; fill:none\" points=\"\n",
       "  1435.95,1423.18 1435.95,1407.58 \n",
       "  \"/>\n",
       "<polyline clip-path=\"url(#clip970)\" style=\"stroke:#000000; stroke-width:4; stroke-opacity:1; fill:none\" points=\"\n",
       "  2020.01,1423.18 2020.01,1407.58 \n",
       "  \"/>\n",
       "<path clip-path=\"url(#clip970)\" d=\"M 0 0 M267.837 1452.37 Q264.226 1452.37 262.398 1455.94 Q260.592 1459.48 260.592 1466.61 Q260.592 1473.71 262.398 1477.28 Q264.226 1480.82 267.837 1480.82 Q271.472 1480.82 273.277 1477.28 Q275.106 1473.71 275.106 1466.61 Q275.106 1459.48 273.277 1455.94 Q271.472 1452.37 267.837 1452.37 M267.837 1448.67 Q273.648 1448.67 276.703 1453.27 Q279.782 1457.86 279.782 1466.61 Q279.782 1475.33 276.703 1479.94 Q273.648 1484.52 267.837 1484.52 Q262.027 1484.52 258.949 1479.94 Q255.893 1475.33 255.893 1466.61 Q255.893 1457.86 258.949 1453.27 Q262.027 1448.67 267.837 1448.67 Z\" fill=\"#000000\" fill-rule=\"evenodd\" fill-opacity=\"1\" /><path clip-path=\"url(#clip970)\" d=\"M 0 0 M842.278 1479.92 L849.917 1479.92 L849.917 1453.55 L841.607 1455.22 L841.607 1450.96 L849.871 1449.29 L854.546 1449.29 L854.546 1479.92 L862.185 1479.92 L862.185 1483.85 L842.278 1483.85 L842.278 1479.92 Z\" fill=\"#000000\" fill-rule=\"evenodd\" fill-opacity=\"1\" /><path clip-path=\"url(#clip970)\" d=\"M 0 0 M1430.61 1479.92 L1446.93 1479.92 L1446.93 1483.85 L1424.98 1483.85 L1424.98 1479.92 Q1427.64 1477.16 1432.23 1472.53 Q1436.83 1467.88 1438.01 1466.54 Q1440.26 1464.01 1441.14 1462.28 Q1442.04 1460.52 1442.04 1458.83 Q1442.04 1456.07 1440.1 1454.34 Q1438.18 1452.6 1435.07 1452.6 Q1432.88 1452.6 1430.42 1453.37 Q1427.99 1454.13 1425.21 1455.68 L1425.21 1450.96 Q1428.04 1449.82 1430.49 1449.25 Q1432.95 1448.67 1434.98 1448.67 Q1440.35 1448.67 1443.55 1451.35 Q1446.74 1454.04 1446.74 1458.53 Q1446.74 1460.66 1445.93 1462.58 Q1445.14 1464.48 1443.04 1467.07 Q1442.46 1467.74 1439.36 1470.96 Q1436.26 1474.15 1430.61 1479.92 Z\" fill=\"#000000\" fill-rule=\"evenodd\" fill-opacity=\"1\" /><path clip-path=\"url(#clip970)\" d=\"M 0 0 M2024.26 1465.22 Q2027.62 1465.94 2029.49 1468.2 Q2031.39 1470.47 2031.39 1473.81 Q2031.39 1478.92 2027.87 1481.72 Q2024.35 1484.52 2017.87 1484.52 Q2015.7 1484.52 2013.38 1484.08 Q2011.09 1483.67 2008.64 1482.81 L2008.64 1478.3 Q2010.58 1479.43 2012.9 1480.01 Q2015.21 1480.59 2017.73 1480.59 Q2022.13 1480.59 2024.42 1478.85 Q2026.74 1477.12 2026.74 1473.81 Q2026.74 1470.75 2024.58 1469.04 Q2022.46 1467.3 2018.64 1467.3 L2014.61 1467.3 L2014.61 1463.46 L2018.82 1463.46 Q2022.27 1463.46 2024.1 1462.09 Q2025.93 1460.7 2025.93 1458.11 Q2025.93 1455.45 2024.03 1454.04 Q2022.15 1452.6 2018.64 1452.6 Q2016.71 1452.6 2014.52 1453.02 Q2012.32 1453.44 2009.68 1454.31 L2009.68 1450.15 Q2012.34 1449.41 2014.65 1449.04 Q2016.99 1448.67 2019.05 1448.67 Q2024.38 1448.67 2027.48 1451.1 Q2030.58 1453.5 2030.58 1457.63 Q2030.58 1460.5 2028.94 1462.49 Q2027.29 1464.45 2024.26 1465.22 Z\" fill=\"#000000\" fill-rule=\"evenodd\" fill-opacity=\"1\" /><path clip-path=\"url(#clip970)\" d=\"M 0 0 M1240.34 1518.52 L1246.2 1518.52 L1246.2 1568.04 L1240.34 1568.04 L1240.34 1518.52 Z\" fill=\"#000000\" fill-rule=\"evenodd\" fill-opacity=\"1\" /><path clip-path=\"url(#clip970)\" d=\"M 0 0 M1281.97 1546.53 L1281.97 1568.04 L1276.11 1568.04 L1276.11 1546.72 Q1276.11 1541.66 1274.14 1539.14 Q1272.17 1536.63 1268.22 1536.63 Q1263.48 1536.63 1260.74 1539.65 Q1258 1542.68 1258 1547.9 L1258 1568.04 L1252.12 1568.04 L1252.12 1532.4 L1258 1532.4 L1258 1537.93 Q1260.1 1534.72 1262.94 1533.13 Q1265.8 1531.54 1269.53 1531.54 Q1275.67 1531.54 1278.82 1535.36 Q1281.97 1539.14 1281.97 1546.53 Z\" fill=\"#000000\" fill-rule=\"evenodd\" fill-opacity=\"1\" /><path clip-path=\"url(#clip970)\" d=\"M 0 0 M1287.89 1518.52 L1293.78 1518.52 L1293.78 1547.77 L1311.25 1532.4 L1318.73 1532.4 L1299.83 1549.07 L1319.53 1568.04 L1311.89 1568.04 L1293.78 1550.63 L1293.78 1568.04 L1287.89 1568.04 L1287.89 1518.52 Z\" fill=\"#000000\" fill-rule=\"evenodd\" fill-opacity=\"1\" /><polyline clip-path=\"url(#clip972)\" style=\"stroke:#000000; stroke-width:2; stroke-opacity:0.1; fill:none\" points=\"\n",
       "  207.112,1247.87 2352.76,1247.87 \n",
       "  \"/>\n",
       "<polyline clip-path=\"url(#clip972)\" style=\"stroke:#000000; stroke-width:2; stroke-opacity:0.1; fill:none\" points=\"\n",
       "  207.112,1008.11 2352.76,1008.11 \n",
       "  \"/>\n",
       "<polyline clip-path=\"url(#clip972)\" style=\"stroke:#000000; stroke-width:2; stroke-opacity:0.1; fill:none\" points=\"\n",
       "  207.112,768.348 2352.76,768.348 \n",
       "  \"/>\n",
       "<polyline clip-path=\"url(#clip972)\" style=\"stroke:#000000; stroke-width:2; stroke-opacity:0.1; fill:none\" points=\"\n",
       "  207.112,528.586 2352.76,528.586 \n",
       "  \"/>\n",
       "<polyline clip-path=\"url(#clip972)\" style=\"stroke:#000000; stroke-width:2; stroke-opacity:0.1; fill:none\" points=\"\n",
       "  207.112,288.824 2352.76,288.824 \n",
       "  \"/>\n",
       "<polyline clip-path=\"url(#clip970)\" style=\"stroke:#000000; stroke-width:4; stroke-opacity:1; fill:none\" points=\"\n",
       "  207.112,1423.18 207.112,123.472 \n",
       "  \"/>\n",
       "<polyline clip-path=\"url(#clip970)\" style=\"stroke:#000000; stroke-width:4; stroke-opacity:1; fill:none\" points=\"\n",
       "  207.112,1247.87 232.859,1247.87 \n",
       "  \"/>\n",
       "<polyline clip-path=\"url(#clip970)\" style=\"stroke:#000000; stroke-width:4; stroke-opacity:1; fill:none\" points=\"\n",
       "  207.112,1008.11 232.859,1008.11 \n",
       "  \"/>\n",
       "<polyline clip-path=\"url(#clip970)\" style=\"stroke:#000000; stroke-width:4; stroke-opacity:1; fill:none\" points=\"\n",
       "  207.112,768.348 232.859,768.348 \n",
       "  \"/>\n",
       "<polyline clip-path=\"url(#clip970)\" style=\"stroke:#000000; stroke-width:4; stroke-opacity:1; fill:none\" points=\"\n",
       "  207.112,528.586 232.859,528.586 \n",
       "  \"/>\n",
       "<polyline clip-path=\"url(#clip970)\" style=\"stroke:#000000; stroke-width:4; stroke-opacity:1; fill:none\" points=\"\n",
       "  207.112,288.824 232.859,288.824 \n",
       "  \"/>\n",
       "<path clip-path=\"url(#clip970)\" d=\"M 0 0 M114.26 1248.32 L143.936 1248.32 L143.936 1252.26 L114.26 1252.26 L114.26 1248.32 Z\" fill=\"#000000\" fill-rule=\"evenodd\" fill-opacity=\"1\" /><path clip-path=\"url(#clip970)\" d=\"M 0 0 M159.584 1246.01 Q156.436 1246.01 154.584 1248.16 Q152.755 1250.31 152.755 1254.06 Q152.755 1257.79 154.584 1259.97 Q156.436 1262.12 159.584 1262.12 Q162.732 1262.12 164.561 1259.97 Q166.413 1257.79 166.413 1254.06 Q166.413 1250.31 164.561 1248.16 Q162.732 1246.01 159.584 1246.01 M168.866 1231.36 L168.866 1235.61 Q167.107 1234.78 165.302 1234.34 Q163.519 1233.9 161.76 1233.9 Q157.13 1233.9 154.677 1237.03 Q152.246 1240.15 151.899 1246.47 Q153.265 1244.46 155.325 1243.39 Q157.385 1242.3 159.862 1242.3 Q165.07 1242.3 168.079 1245.48 Q171.112 1248.62 171.112 1254.06 Q171.112 1259.39 167.964 1262.61 Q164.815 1265.82 159.584 1265.82 Q153.589 1265.82 150.417 1261.24 Q147.246 1256.63 147.246 1247.91 Q147.246 1239.71 151.135 1234.85 Q155.024 1229.97 161.575 1229.97 Q163.334 1229.97 165.116 1230.31 Q166.922 1230.66 168.866 1231.36 Z\" fill=\"#000000\" fill-rule=\"evenodd\" fill-opacity=\"1\" /><path clip-path=\"url(#clip970)\" d=\"M 0 0 M115.07 1008.56 L144.746 1008.56 L144.746 1012.5 L115.07 1012.5 L115.07 1008.56 Z\" fill=\"#000000\" fill-rule=\"evenodd\" fill-opacity=\"1\" /><path clip-path=\"url(#clip970)\" d=\"M 0 0 M163.982 1006.76 Q167.339 1007.47 169.214 1009.74 Q171.112 1012.01 171.112 1015.34 Q171.112 1020.46 167.593 1023.26 Q164.075 1026.06 157.593 1026.06 Q155.417 1026.06 153.103 1025.62 Q150.811 1025.2 148.357 1024.35 L148.357 1019.83 Q150.302 1020.97 152.616 1021.55 Q154.931 1022.13 157.454 1022.13 Q161.852 1022.13 164.144 1020.39 Q166.459 1018.65 166.459 1015.34 Q166.459 1012.29 164.306 1010.57 Q162.177 1008.84 158.357 1008.84 L154.329 1008.84 L154.329 1005 L158.542 1005 Q161.991 1005 163.82 1003.63 Q165.649 1002.24 165.649 999.649 Q165.649 996.987 163.751 995.575 Q161.876 994.14 158.357 994.14 Q156.436 994.14 154.237 994.557 Q152.038 994.973 149.399 995.853 L149.399 991.686 Q152.061 990.945 154.376 990.575 Q156.714 990.205 158.774 990.205 Q164.098 990.205 167.2 992.635 Q170.302 995.043 170.302 999.163 Q170.302 1002.03 168.658 1004.02 Q167.015 1005.99 163.982 1006.76 Z\" fill=\"#000000\" fill-rule=\"evenodd\" fill-opacity=\"1\" /><path clip-path=\"url(#clip970)\" d=\"M 0 0 M159.167 754.147 Q155.556 754.147 153.728 757.711 Q151.922 761.253 151.922 768.383 Q151.922 775.489 153.728 779.054 Q155.556 782.595 159.167 782.595 Q162.802 782.595 164.607 779.054 Q166.436 775.489 166.436 768.383 Q166.436 761.253 164.607 757.711 Q162.802 754.147 159.167 754.147 M159.167 750.443 Q164.977 750.443 168.033 755.049 Q171.112 759.633 171.112 768.383 Q171.112 777.109 168.033 781.716 Q164.977 786.299 159.167 786.299 Q153.357 786.299 150.278 781.716 Q147.223 777.109 147.223 768.383 Q147.223 759.633 150.278 755.049 Q153.357 750.443 159.167 750.443 Z\" fill=\"#000000\" fill-rule=\"evenodd\" fill-opacity=\"1\" /><path clip-path=\"url(#clip970)\" d=\"M 0 0 M163.982 527.232 Q167.339 527.949 169.214 530.218 Q171.112 532.486 171.112 535.82 Q171.112 540.935 167.593 543.736 Q164.075 546.537 157.593 546.537 Q155.417 546.537 153.103 546.097 Q150.811 545.681 148.357 544.824 L148.357 540.31 Q150.302 541.445 152.616 542.023 Q154.931 542.602 157.454 542.602 Q161.852 542.602 164.144 540.866 Q166.459 539.13 166.459 535.82 Q166.459 532.764 164.306 531.051 Q162.177 529.315 158.357 529.315 L154.329 529.315 L154.329 525.473 L158.542 525.473 Q161.991 525.473 163.82 524.107 Q165.649 522.718 165.649 520.125 Q165.649 517.463 163.751 516.051 Q161.876 514.616 158.357 514.616 Q156.436 514.616 154.237 515.033 Q152.038 515.449 149.399 516.329 L149.399 512.162 Q152.061 511.422 154.376 511.051 Q156.714 510.681 158.774 510.681 Q164.098 510.681 167.2 513.111 Q170.302 515.519 170.302 519.639 Q170.302 522.51 168.658 524.5 Q167.015 526.468 163.982 527.232 Z\" fill=\"#000000\" fill-rule=\"evenodd\" fill-opacity=\"1\" /><path clip-path=\"url(#clip970)\" d=\"M 0 0 M159.584 286.961 Q156.436 286.961 154.584 289.113 Q152.755 291.266 152.755 295.016 Q152.755 298.743 154.584 300.919 Q156.436 303.072 159.584 303.072 Q162.732 303.072 164.561 300.919 Q166.413 298.743 166.413 295.016 Q166.413 291.266 164.561 289.113 Q162.732 286.961 159.584 286.961 M168.866 272.308 L168.866 276.567 Q167.107 275.734 165.302 275.294 Q163.519 274.854 161.76 274.854 Q157.13 274.854 154.677 277.979 Q152.246 281.104 151.899 287.424 Q153.265 285.41 155.325 284.345 Q157.385 283.257 159.862 283.257 Q165.07 283.257 168.079 286.428 Q171.112 289.576 171.112 295.016 Q171.112 300.34 167.964 303.558 Q164.815 306.775 159.584 306.775 Q153.589 306.775 150.417 302.192 Q147.246 297.586 147.246 288.859 Q147.246 280.664 151.135 275.803 Q155.024 270.919 161.575 270.919 Q163.334 270.919 165.116 271.266 Q166.922 271.614 168.866 272.308 Z\" fill=\"#000000\" fill-rule=\"evenodd\" fill-opacity=\"1\" /><path clip-path=\"url(#clip970)\" d=\"M 0 0 M14.479 851.481 L14.479 845.624 L64.0042 845.624 L64.0042 851.481 L14.479 851.481 Z\" fill=\"#000000\" fill-rule=\"evenodd\" fill-opacity=\"1\" /><path clip-path=\"url(#clip970)\" d=\"M 0 0 M42.4881 809.849 L64.0042 809.849 L64.0042 815.706 L42.679 815.706 Q37.6183 815.706 35.1038 817.679 Q32.5894 819.652 32.5894 823.599 Q32.5894 828.342 35.6131 831.079 Q38.6368 833.816 43.8567 833.816 L64.0042 833.816 L64.0042 839.704 L28.3562 839.704 L28.3562 833.816 L33.8944 833.816 Q30.6797 831.715 29.0883 828.883 Q27.4968 826.018 27.4968 822.294 Q27.4968 816.151 31.3163 813 Q35.1038 809.849 42.4881 809.849 Z\" fill=\"#000000\" fill-rule=\"evenodd\" fill-opacity=\"1\" /><path clip-path=\"url(#clip970)\" d=\"M 0 0 M21.7677 797.022 L39.6235 797.022 L39.6235 788.938 Q39.6235 784.45 37.3 781.999 Q34.9765 779.548 30.6797 779.548 Q26.4147 779.548 24.0912 781.999 Q21.7677 784.45 21.7677 788.938 L21.7677 797.022 M16.4842 803.452 L16.4842 788.938 Q16.4842 780.949 20.1126 776.875 Q23.7092 772.769 30.6797 772.769 Q37.7138 772.769 41.3104 776.875 Q44.907 780.949 44.907 788.938 L44.907 797.022 L64.0042 797.022 L64.0042 803.452 L16.4842 803.452 Z\" fill=\"#000000\" fill-rule=\"evenodd\" fill-opacity=\"1\" /><path clip-path=\"url(#clip970)\" d=\"M 0 0 M14.5426 752.558 Q21.8632 756.823 29.0246 758.892 Q36.186 760.961 43.5384 760.961 Q50.8908 760.961 58.1159 758.892 Q65.3091 756.791 72.5979 752.558 L72.5979 757.65 Q65.1182 762.425 57.8931 764.812 Q50.668 767.167 43.5384 767.167 Q36.4406 767.167 29.2474 764.812 Q22.0542 762.457 14.5426 757.65 L14.5426 752.558 Z\" fill=\"#000000\" fill-rule=\"evenodd\" fill-opacity=\"1\" /><path clip-path=\"url(#clip970)\" d=\"M 0 0 M14.479 746.638 L14.479 740.749 L43.7294 740.749 L28.3562 723.276 L28.3562 715.796 L45.0344 734.702 L64.0042 715 L64.0042 722.639 L46.5939 740.749 L64.0042 740.749 L64.0042 746.638 L14.479 746.638 Z\" fill=\"#000000\" fill-rule=\"evenodd\" fill-opacity=\"1\" /><path clip-path=\"url(#clip970)\" d=\"M 0 0 M14.5426 709.78 L14.5426 704.688 Q22.0542 699.913 29.2474 697.558 Q36.4406 695.171 43.5384 695.171 Q50.668 695.171 57.8931 697.558 Q65.1182 699.913 72.5979 704.688 L72.5979 709.78 Q65.3091 705.547 58.1159 703.478 Q50.8908 701.378 43.5384 701.378 Q36.186 701.378 29.0246 703.478 Q21.8632 705.547 14.5426 709.78 Z\" fill=\"#000000\" fill-rule=\"evenodd\" fill-opacity=\"1\" /><path clip-path=\"url(#clip970)\" d=\"M 0 0 M767.555 12.096 L802.312 12.096 L802.312 18.9825 L775.738 18.9825 L775.738 36.8065 L799.719 36.8065 L799.719 43.6931 L775.738 43.6931 L775.738 72.576 L767.555 72.576 L767.555 12.096 Z\" fill=\"#000000\" fill-rule=\"evenodd\" fill-opacity=\"1\" /><path clip-path=\"url(#clip970)\" d=\"M 0 0 M804.824 54.671 L804.824 27.2059 L812.277 27.2059 L812.277 54.3874 Q812.277 60.8284 814.789 64.0691 Q817.3 67.2693 822.323 67.2693 Q828.359 67.2693 831.843 63.421 Q835.367 59.5726 835.367 52.9291 L835.367 27.2059 L842.821 27.2059 L842.821 72.576 L835.367 72.576 L835.367 65.6084 Q832.653 69.7404 829.048 71.7658 Q825.483 73.7508 820.744 73.7508 Q812.925 73.7508 808.874 68.8897 Q804.824 64.0286 804.824 54.671 M823.579 26.1121 L823.579 26.1121 Z\" fill=\"#000000\" fill-rule=\"evenodd\" fill-opacity=\"1\" /><path clip-path=\"url(#clip970)\" d=\"M 0 0 M850.639 9.54393 L858.093 9.54393 L858.093 72.576 L850.639 72.576 L850.639 9.54393 Z\" fill=\"#000000\" fill-rule=\"evenodd\" fill-opacity=\"1\" /><path clip-path=\"url(#clip970)\" d=\"M 0 0 M865.911 9.54393 L873.365 9.54393 L873.365 72.576 L865.911 72.576 L865.911 9.54393 Z\" fill=\"#000000\" fill-rule=\"evenodd\" fill-opacity=\"1\" /><path clip-path=\"url(#clip970)\" d=\"M 0 0 M926.796 16.7545 L926.796 25.383 Q922.664 21.5346 917.965 19.6307 Q913.307 17.7268 908.041 17.7268 Q897.67 17.7268 892.161 24.0867 Q886.652 30.4061 886.652 42.3968 Q886.652 54.3469 892.161 60.7069 Q897.67 67.0263 908.041 67.0263 Q913.307 67.0263 917.965 65.1223 Q922.664 63.2184 926.796 59.3701 L926.796 67.9175 Q922.502 70.8341 917.682 72.2924 Q912.902 73.7508 907.554 73.7508 Q893.822 73.7508 885.923 65.3654 Q878.023 56.9395 878.023 42.3968 Q878.023 27.8135 885.923 19.4281 Q893.822 11.0023 907.554 11.0023 Q912.983 11.0023 917.763 12.4606 Q922.583 13.8784 926.796 16.7545 Z\" fill=\"#000000\" fill-rule=\"evenodd\" fill-opacity=\"1\" /><path clip-path=\"url(#clip970)\" d=\"M 0 0 M952.195 32.4315 Q946.2 32.4315 942.716 37.1306 Q939.233 41.7891 939.233 49.9314 Q939.233 58.0738 942.676 62.7728 Q946.16 67.4314 952.195 67.4314 Q958.15 67.4314 961.634 62.7323 Q965.118 58.0333 965.118 49.9314 Q965.118 41.8701 961.634 37.1711 Q958.15 32.4315 952.195 32.4315 M952.195 26.1121 Q961.918 26.1121 967.467 32.4315 Q973.017 38.7509 973.017 49.9314 Q973.017 61.0714 967.467 67.4314 Q961.918 73.7508 952.195 73.7508 Q942.433 73.7508 936.883 67.4314 Q931.374 61.0714 931.374 49.9314 Q931.374 38.7509 936.883 32.4315 Q942.433 26.1121 952.195 26.1121 Z\" fill=\"#000000\" fill-rule=\"evenodd\" fill-opacity=\"1\" /><path clip-path=\"url(#clip970)\" d=\"M 0 0 M975.488 27.2059 L983.387 27.2059 L997.566 65.2844 L1011.74 27.2059 L1019.64 27.2059 L1002.63 72.576 L992.502 72.576 L975.488 27.2059 Z\" fill=\"#000000\" fill-rule=\"evenodd\" fill-opacity=\"1\" /><path clip-path=\"url(#clip970)\" d=\"M 0 0 M1054.16 12.096 L1065.18 12.096 L1091.99 62.6918 L1091.99 12.096 L1099.93 12.096 L1099.93 72.576 L1088.91 72.576 L1062.1 21.9802 L1062.1 72.576 L1054.16 72.576 L1054.16 12.096 Z\" fill=\"#000000\" fill-rule=\"evenodd\" fill-opacity=\"1\" /><path clip-path=\"url(#clip970)\" d=\"M 0 0 M1125.33 32.4315 Q1119.34 32.4315 1115.85 37.1306 Q1112.37 41.7891 1112.37 49.9314 Q1112.37 58.0738 1115.81 62.7728 Q1119.3 67.4314 1125.33 67.4314 Q1131.29 67.4314 1134.77 62.7323 Q1138.25 58.0333 1138.25 49.9314 Q1138.25 41.8701 1134.77 37.1711 Q1131.29 32.4315 1125.33 32.4315 M1125.33 26.1121 Q1135.05 26.1121 1140.6 32.4315 Q1146.15 38.7509 1146.15 49.9314 Q1146.15 61.0714 1140.6 67.4314 Q1135.05 73.7508 1125.33 73.7508 Q1115.57 73.7508 1110.02 67.4314 Q1104.51 61.0714 1104.51 49.9314 Q1104.51 38.7509 1110.02 32.4315 Q1115.57 26.1121 1125.33 26.1121 Z\" fill=\"#000000\" fill-rule=\"evenodd\" fill-opacity=\"1\" /><path clip-path=\"url(#clip970)\" d=\"M 0 0 M1153.97 27.2059 L1161.42 27.2059 L1161.42 72.576 L1153.97 72.576 L1153.97 27.2059 M1153.97 9.54393 L1161.42 9.54393 L1161.42 18.9825 L1153.97 18.9825 L1153.97 9.54393 Z\" fill=\"#000000\" fill-rule=\"evenodd\" fill-opacity=\"1\" /><path clip-path=\"url(#clip970)\" d=\"M 0 0 M1198.17 28.5427 L1198.17 35.5912 Q1195.01 33.9709 1191.6 33.1607 Q1188.2 32.3505 1184.56 32.3505 Q1179.01 32.3505 1176.21 34.0519 Q1173.46 35.7533 1173.46 39.156 Q1173.46 41.7486 1175.44 43.2475 Q1177.43 44.7058 1183.42 46.0426 L1185.97 46.6097 Q1193.91 48.3111 1197.23 51.4303 Q1200.6 54.509 1200.6 60.0587 Q1200.6 66.3781 1195.57 70.0644 Q1190.59 73.7508 1181.84 73.7508 Q1178.2 73.7508 1174.23 73.0216 Q1170.3 72.3329 1165.92 70.9151 L1165.92 63.2184 Q1170.05 65.3654 1174.06 66.4591 Q1178.07 67.5124 1182 67.5124 Q1187.27 67.5124 1190.11 65.73 Q1192.94 63.9071 1192.94 60.6258 Q1192.94 57.5877 1190.87 55.9673 Q1188.85 54.3469 1181.92 52.8481 L1179.33 52.2405 Q1172.4 50.7821 1169.32 47.7845 Q1166.25 44.7463 1166.25 39.4801 Q1166.25 33.0797 1170.78 29.5959 Q1175.32 26.1121 1183.66 26.1121 Q1187.8 26.1121 1191.44 26.7198 Q1195.09 27.3274 1198.17 28.5427 Z\" fill=\"#000000\" fill-rule=\"evenodd\" fill-opacity=\"1\" /><path clip-path=\"url(#clip970)\" d=\"M 0 0 M1226 32.4315 Q1220 32.4315 1216.52 37.1306 Q1213.03 41.7891 1213.03 49.9314 Q1213.03 58.0738 1216.48 62.7728 Q1219.96 67.4314 1226 67.4314 Q1231.95 67.4314 1235.43 62.7323 Q1238.92 58.0333 1238.92 49.9314 Q1238.92 41.8701 1235.43 37.1711 Q1231.95 32.4315 1226 32.4315 M1226 26.1121 Q1235.72 26.1121 1241.27 32.4315 Q1246.82 38.7509 1246.82 49.9314 Q1246.82 61.0714 1241.27 67.4314 Q1235.72 73.7508 1226 73.7508 Q1216.23 73.7508 1210.68 67.4314 Q1205.17 61.0714 1205.17 49.9314 Q1205.17 38.7509 1210.68 32.4315 Q1216.23 26.1121 1226 26.1121 Z\" fill=\"#000000\" fill-rule=\"evenodd\" fill-opacity=\"1\" /><path clip-path=\"url(#clip970)\" d=\"M 0 0 M1256.54 62.2867 L1265.09 62.2867 L1265.09 72.576 L1256.54 72.576 L1256.54 62.2867 M1256.54 29.6769 L1265.09 29.6769 L1265.09 39.9662 L1256.54 39.9662 L1256.54 29.6769 Z\" fill=\"#000000\" fill-rule=\"evenodd\" fill-opacity=\"1\" /><path clip-path=\"url(#clip970)\" d=\"M 0 0 M1307.78 18.8205 L1307.78 41.5461 L1318.07 41.5461 Q1323.78 41.5461 1326.9 38.5889 Q1330.02 35.6318 1330.02 30.163 Q1330.02 24.7348 1326.9 21.7777 Q1323.78 18.8205 1318.07 18.8205 L1307.78 18.8205 M1299.6 12.096 L1318.07 12.096 Q1328.24 12.096 1333.43 16.714 Q1338.65 21.2916 1338.65 30.163 Q1338.65 39.1155 1333.43 43.6931 Q1328.24 48.2706 1318.07 48.2706 L1307.78 48.2706 L1307.78 72.576 L1299.6 72.576 L1299.6 12.096 Z\" fill=\"#000000\" fill-rule=\"evenodd\" fill-opacity=\"1\" /><path clip-path=\"url(#clip970)\" d=\"M 0 0 M1364.37 9.62495 Q1358.95 18.942 1356.31 28.0566 Q1353.68 37.1711 1353.68 46.5287 Q1353.68 55.8863 1356.31 65.0818 Q1358.99 74.2369 1364.37 83.5134 L1357.89 83.5134 Q1351.82 73.9938 1348.78 64.7983 Q1345.78 55.6027 1345.78 46.5287 Q1345.78 37.4952 1348.78 28.3401 Q1351.78 19.1851 1357.89 9.62495 L1364.37 9.62495 Z\" fill=\"#000000\" fill-rule=\"evenodd\" fill-opacity=\"1\" /><path clip-path=\"url(#clip970)\" d=\"M 0 0 M1371.91 9.54393 L1379.4 9.54393 L1379.4 46.7717 L1401.64 27.2059 L1411.16 27.2059 L1387.1 48.4326 L1412.18 72.576 L1402.45 72.576 L1379.4 50.4176 L1379.4 72.576 L1371.91 72.576 L1371.91 9.54393 Z\" fill=\"#000000\" fill-rule=\"evenodd\" fill-opacity=\"1\" /><path clip-path=\"url(#clip970)\" d=\"M 0 0 M1418.82 9.62495 L1425.3 9.62495 Q1431.38 19.1851 1434.37 28.3401 Q1437.41 37.4952 1437.41 46.5287 Q1437.41 55.6027 1434.37 64.7983 Q1431.38 73.9938 1425.3 83.5134 L1418.82 83.5134 Q1424.21 74.2369 1426.84 65.0818 Q1429.51 55.8863 1429.51 46.5287 Q1429.51 37.1711 1426.84 28.0566 Q1424.21 18.942 1418.82 9.62495 Z\" fill=\"#000000\" fill-rule=\"evenodd\" fill-opacity=\"1\" /><path clip-path=\"url(#clip970)\" d=\"M 0 0 M1489.18 32.4315 Q1483.19 32.4315 1479.7 37.1306 Q1476.22 41.7891 1476.22 49.9314 Q1476.22 58.0738 1479.66 62.7728 Q1483.15 67.4314 1489.18 67.4314 Q1495.14 67.4314 1498.62 62.7323 Q1502.11 58.0333 1502.11 49.9314 Q1502.11 41.8701 1498.62 37.1711 Q1495.14 32.4315 1489.18 32.4315 M1489.18 26.1121 Q1498.91 26.1121 1504.46 32.4315 Q1510 38.7509 1510 49.9314 Q1510 61.0714 1504.46 67.4314 Q1498.91 73.7508 1489.18 73.7508 Q1479.42 73.7508 1473.87 67.4314 Q1468.36 61.0714 1468.36 49.9314 Q1468.36 38.7509 1473.87 32.4315 Q1479.42 26.1121 1489.18 26.1121 Z\" fill=\"#000000\" fill-rule=\"evenodd\" fill-opacity=\"1\" /><path clip-path=\"url(#clip970)\" d=\"M 0 0 M1540.79 9.54393 L1540.79 15.7418 L1533.66 15.7418 Q1529.65 15.7418 1528.07 17.3622 Q1526.53 18.9825 1526.53 23.1955 L1526.53 27.2059 L1538.81 27.2059 L1538.81 32.9987 L1526.53 32.9987 L1526.53 72.576 L1519.04 72.576 L1519.04 32.9987 L1511.91 32.9987 L1511.91 27.2059 L1519.04 27.2059 L1519.04 24.0462 Q1519.04 16.471 1522.56 13.0277 Q1526.09 9.54393 1533.74 9.54393 L1540.79 9.54393 Z\" fill=\"#000000\" fill-rule=\"evenodd\" fill-opacity=\"1\" /><path clip-path=\"url(#clip970)\" d=\"M 0 0 M1575.31 12.096 L1583.49 12.096 L1583.49 72.576 L1575.31 72.576 L1575.31 12.096 Z\" fill=\"#000000\" fill-rule=\"evenodd\" fill-opacity=\"1\" /><path clip-path=\"url(#clip970)\" d=\"M 0 0 M1626.63 35.9153 Q1629.43 30.8922 1633.31 28.5022 Q1637.2 26.1121 1642.47 26.1121 Q1649.56 26.1121 1653.41 31.0947 Q1657.26 36.0368 1657.26 45.1919 L1657.26 72.576 L1649.76 72.576 L1649.76 45.4349 Q1649.76 38.913 1647.45 35.7533 Q1645.14 32.5936 1640.4 32.5936 Q1634.61 32.5936 1631.25 36.4419 Q1627.89 40.2903 1627.89 46.9338 L1627.89 72.576 L1620.39 72.576 L1620.39 45.4349 Q1620.39 38.8725 1618.08 35.7533 Q1615.77 32.5936 1610.95 32.5936 Q1605.24 32.5936 1601.88 36.4824 Q1598.52 40.3308 1598.52 46.9338 L1598.52 72.576 L1591.02 72.576 L1591.02 27.2059 L1598.52 27.2059 L1598.52 34.2544 Q1601.07 30.082 1604.63 28.0971 Q1608.2 26.1121 1613.1 26.1121 Q1618.04 26.1121 1621.49 28.6237 Q1624.97 31.1352 1626.63 35.9153 Z\" fill=\"#000000\" fill-rule=\"evenodd\" fill-opacity=\"1\" /><path clip-path=\"url(#clip970)\" d=\"M 0 0 M1685.69 49.7694 Q1676.66 49.7694 1673.18 51.8354 Q1669.69 53.9013 1669.69 58.8839 Q1669.69 62.8538 1672.28 65.2034 Q1674.92 67.5124 1679.41 67.5124 Q1685.61 67.5124 1689.34 63.1374 Q1693.11 58.7219 1693.11 51.4303 L1693.11 49.7694 L1685.69 49.7694 M1700.56 46.6907 L1700.56 72.576 L1693.11 72.576 L1693.11 65.6895 Q1690.55 69.8214 1686.75 71.8063 Q1682.94 73.7508 1677.43 73.7508 Q1670.46 73.7508 1666.33 69.8619 Q1662.24 65.9325 1662.24 59.3701 Q1662.24 51.7138 1667.34 47.825 Q1672.49 43.9361 1682.65 43.9361 L1693.11 43.9361 L1693.11 43.2069 Q1693.11 38.0623 1689.7 35.2672 Q1686.34 32.4315 1680.22 32.4315 Q1676.34 32.4315 1672.65 33.3632 Q1668.96 34.295 1665.56 36.1584 L1665.56 29.2718 Q1669.65 27.692 1673.5 26.9223 Q1677.35 26.1121 1680.99 26.1121 Q1690.84 26.1121 1695.7 31.2163 Q1700.56 36.3204 1700.56 46.6907 Z\" fill=\"#000000\" fill-rule=\"evenodd\" fill-opacity=\"1\" /><path clip-path=\"url(#clip970)\" d=\"M 0 0 M1738.23 49.3643 Q1738.23 41.2625 1734.87 36.8065 Q1731.55 32.3505 1725.51 32.3505 Q1719.52 32.3505 1716.16 36.8065 Q1712.83 41.2625 1712.83 49.3643 Q1712.83 57.4256 1716.16 61.8816 Q1719.52 66.3376 1725.51 66.3376 Q1731.55 66.3376 1734.87 61.8816 Q1738.23 57.4256 1738.23 49.3643 M1745.69 66.9452 Q1745.69 78.5308 1740.54 84.1616 Q1735.4 89.8329 1724.78 89.8329 Q1720.85 89.8329 1717.37 89.2252 Q1713.89 88.6581 1710.61 87.4428 L1710.61 80.1917 Q1713.89 81.9741 1717.09 82.8248 Q1720.29 83.6755 1723.61 83.6755 Q1730.94 83.6755 1734.59 79.8271 Q1738.23 76.0193 1738.23 68.282 L1738.23 64.5957 Q1735.92 68.6061 1732.32 70.5911 Q1728.71 72.576 1723.69 72.576 Q1715.35 72.576 1710.24 66.2161 Q1705.14 59.8562 1705.14 49.3643 Q1705.14 38.832 1710.24 32.472 Q1715.35 26.1121 1723.69 26.1121 Q1728.71 26.1121 1732.32 28.0971 Q1735.92 30.082 1738.23 34.0924 L1738.23 27.2059 L1745.69 27.2059 L1745.69 66.9452 Z\" fill=\"#000000\" fill-rule=\"evenodd\" fill-opacity=\"1\" /><path clip-path=\"url(#clip970)\" d=\"M 0 0 M1792.31 48.0275 L1792.31 51.6733 L1758.04 51.6733 Q1758.53 59.3701 1762.66 63.421 Q1766.83 67.4314 1774.25 67.4314 Q1778.54 67.4314 1782.55 66.3781 Q1786.6 65.3249 1790.57 63.2184 L1790.57 70.267 Q1786.56 71.9684 1782.35 72.8596 Q1778.13 73.7508 1773.8 73.7508 Q1762.94 73.7508 1756.58 67.4314 Q1750.26 61.1119 1750.26 50.3365 Q1750.26 39.1965 1756.26 32.6746 Q1762.3 26.1121 1772.5 26.1121 Q1781.66 26.1121 1786.97 32.0264 Q1792.31 37.9003 1792.31 48.0275 M1784.86 45.84 Q1784.78 39.7232 1781.42 36.0774 Q1778.09 32.4315 1772.58 32.4315 Q1766.35 32.4315 1762.58 35.9558 Q1758.85 39.4801 1758.28 45.8805 L1784.86 45.84 Z\" fill=\"#000000\" fill-rule=\"evenodd\" fill-opacity=\"1\" /><polyline clip-path=\"url(#clip972)\" style=\"stroke:#009af9; stroke-width:4; stroke-opacity:1; fill:none\" points=\"\n",
       "  267.837,216.783 672.676,614.67 909.491,672.876 1077.51,705.789 1207.84,784.834 1314.33,796.701 1404.36,857.959 1482.35,911.405 1551.15,912.178 1612.68,966.948 \n",
       "  1668.35,976.25 1719.17,1002.2 1765.92,1022.43 1809.2,1042.54 1849.5,1052.36 1887.19,1098.51 1922.6,1099.8 1955.98,1137.4 1987.56,1161.11 2017.52,1171.57 \n",
       "  2046.02,1216.41 2073.19,1214.98 2099.15,1238.7 2124.01,1252.79 2147.85,1263.35 2170.76,1281.01 2192.8,1314.01 2214.04,1332.4 2234.54,1346.05 2254.34,1374 \n",
       "  2273.49,1386.1 2292.03,1386.4 \n",
       "  \"/>\n",
       "<polyline clip-path=\"url(#clip972)\" style=\"stroke:#e26f46; stroke-width:4; stroke-opacity:1; fill:none\" points=\"\n",
       "  267.837,160.256 672.676,608.801 909.491,663.428 1077.51,750.537 1207.84,813.217 1314.33,837.257 1404.36,886.129 1482.35,928.618 1551.15,935.994 1612.68,940.878 \n",
       "  1668.35,961.812 1719.17,990.659 1765.92,1045.56 1809.2,1078.51 1849.5,1110.44 1887.19,1108.42 1922.6,1134.24 1955.98,1120.75 1987.56,1134.39 2017.52,1150.9 \n",
       "  2046.02,1157.88 2073.19,1185.13 2099.15,1204.39 2124.01,1221.51 2147.85,1239.84 2170.76,1279.01 2192.8,1302.4 2214.04,1318.65 2234.54,1342.27 2254.34,1378.11 \n",
       "  2273.49,1383.01 2292.03,1383.29 \n",
       "  \"/>\n",
       "<polyline clip-path=\"url(#clip972)\" style=\"stroke:#3da44d; stroke-width:4; stroke-opacity:1; fill:none\" points=\"\n",
       "  267.837,215.426 672.676,614.149 909.491,663.984 1077.51,695.036 1207.84,774.382 1314.33,780.896 1404.36,833.632 1482.35,859.266 1551.15,839.264 1612.68,875.876 \n",
       "  1668.35,898.92 1719.17,891.309 1765.92,904.464 1809.2,901.192 1849.5,898.988 1887.19,897.263 1922.6,903.312 1955.98,912.298 1987.56,895.543 2017.52,895.084 \n",
       "  2046.02,899.439 2073.19,918.54 2099.15,941.242 2124.01,909.763 2147.85,913.182 2170.76,900.716 2192.8,897.109 2214.04,902.993 2234.54,896.896 2254.34,898.489 \n",
       "  2273.49,904.667 2292.03,892.544 \n",
       "  \"/>\n",
       "<path clip-path=\"url(#clip970)\" d=\"\n",
       "M1915.84 408.716 L2281.23 408.716 L2281.23 166.796 L1915.84 166.796  Z\n",
       "  \" fill=\"#ffffff\" fill-rule=\"evenodd\" fill-opacity=\"1\"/>\n",
       "<polyline clip-path=\"url(#clip970)\" style=\"stroke:#000000; stroke-width:4; stroke-opacity:1; fill:none\" points=\"\n",
       "  1915.84,408.716 2281.23,408.716 2281.23,166.796 1915.84,166.796 1915.84,408.716 \n",
       "  \"/>\n",
       "<polyline clip-path=\"url(#clip970)\" style=\"stroke:#009af9; stroke-width:4; stroke-opacity:1; fill:none\" points=\"\n",
       "  1939.68,227.276 2082.72,227.276 \n",
       "  \"/>\n",
       "<path clip-path=\"url(#clip970)\" d=\"M 0 0 M2106.56 209.996 L2135.8 209.996 L2135.8 213.931 L2123.53 213.931 L2123.53 244.556 L2118.83 244.556 L2118.83 213.931 L2106.56 213.931 L2106.56 209.996 Z\" fill=\"#000000\" fill-rule=\"evenodd\" fill-opacity=\"1\" /><path clip-path=\"url(#clip970)\" d=\"M 0 0 M2148.32 222.611 Q2147.6 222.195 2146.75 222.01 Q2145.92 221.801 2144.9 221.801 Q2141.29 221.801 2139.34 224.162 Q2137.42 226.5 2137.42 230.898 L2137.42 244.556 L2133.14 244.556 L2133.14 218.63 L2137.42 218.63 L2137.42 222.658 Q2138.76 220.297 2140.92 219.162 Q2143.07 218.005 2146.15 218.005 Q2146.59 218.005 2147.12 218.074 Q2147.65 218.121 2148.3 218.236 L2148.32 222.611 Z\" fill=\"#000000\" fill-rule=\"evenodd\" fill-opacity=\"1\" /><path clip-path=\"url(#clip970)\" d=\"M 0 0 M2152.35 234.324 L2152.35 218.63 L2156.61 218.63 L2156.61 234.162 Q2156.61 237.843 2158.04 239.695 Q2159.48 241.523 2162.35 241.523 Q2165.8 241.523 2167.79 239.324 Q2169.8 237.125 2169.8 233.329 L2169.8 218.63 L2174.06 218.63 L2174.06 244.556 L2169.8 244.556 L2169.8 240.574 Q2168.25 242.935 2166.19 244.093 Q2164.16 245.227 2161.45 245.227 Q2156.98 245.227 2154.66 242.449 Q2152.35 239.671 2152.35 234.324 M2163.07 218.005 L2163.07 218.005 Z\" fill=\"#000000\" fill-rule=\"evenodd\" fill-opacity=\"1\" /><path clip-path=\"url(#clip970)\" d=\"M 0 0 M2200.71 230.528 L2200.71 232.611 L2181.12 232.611 Q2181.4 237.009 2183.76 239.324 Q2186.15 241.616 2190.38 241.616 Q2192.84 241.616 2195.13 241.014 Q2197.44 240.412 2199.71 239.209 L2199.71 243.236 Q2197.42 244.208 2195.01 244.718 Q2192.6 245.227 2190.13 245.227 Q2183.92 245.227 2180.29 241.616 Q2176.68 238.005 2176.68 231.847 Q2176.68 225.482 2180.1 221.755 Q2183.55 218.005 2189.39 218.005 Q2194.62 218.005 2197.65 221.385 Q2200.71 224.741 2200.71 230.528 M2196.45 229.278 Q2196.4 225.783 2194.48 223.699 Q2192.58 221.616 2189.43 221.616 Q2185.87 221.616 2183.72 223.63 Q2181.59 225.644 2181.26 229.301 L2196.45 229.278 Z\" fill=\"#000000\" fill-rule=\"evenodd\" fill-opacity=\"1\" /><polyline clip-path=\"url(#clip970)\" style=\"stroke:#e26f46; stroke-width:4; stroke-opacity:1; fill:none\" points=\"\n",
       "  1939.68,287.756 2082.72,287.756 \n",
       "  \"/>\n",
       "<path clip-path=\"url(#clip970)\" d=\"M 0 0 M2122.95 288.832 Q2124.46 289.341 2125.87 291.008 Q2127.3 292.675 2128.74 295.591 L2133.48 305.036 L2128.46 305.036 L2124.04 296.17 Q2122.33 292.698 2120.71 291.564 Q2119.11 290.429 2116.33 290.429 L2111.24 290.429 L2111.24 305.036 L2106.56 305.036 L2106.56 270.476 L2117.12 270.476 Q2123.04 270.476 2125.96 272.953 Q2128.88 275.429 2128.88 280.429 Q2128.88 283.693 2127.35 285.846 Q2125.85 287.999 2122.95 288.832 M2111.24 274.318 L2111.24 286.587 L2117.12 286.587 Q2120.5 286.587 2122.21 285.036 Q2123.95 283.462 2123.95 280.429 Q2123.95 277.397 2122.21 275.869 Q2120.5 274.318 2117.12 274.318 L2111.24 274.318 Z\" fill=\"#000000\" fill-rule=\"evenodd\" fill-opacity=\"1\" /><path clip-path=\"url(#clip970)\" d=\"M 0 0 M2158 291.008 L2158 293.091 L2138.42 293.091 Q2138.69 297.489 2141.05 299.804 Q2143.44 302.096 2147.67 302.096 Q2150.13 302.096 2152.42 301.494 Q2154.73 300.892 2157 299.689 L2157 303.716 Q2154.71 304.688 2152.3 305.198 Q2149.9 305.707 2147.42 305.707 Q2141.22 305.707 2137.58 302.096 Q2133.97 298.485 2133.97 292.327 Q2133.97 285.962 2137.4 282.235 Q2140.85 278.485 2146.68 278.485 Q2151.91 278.485 2154.94 281.865 Q2158 285.221 2158 291.008 M2153.74 289.758 Q2153.69 286.263 2151.77 284.179 Q2149.87 282.096 2146.73 282.096 Q2143.16 282.096 2141.01 284.11 Q2138.88 286.124 2138.55 289.781 L2153.74 289.758 Z\" fill=\"#000000\" fill-rule=\"evenodd\" fill-opacity=\"1\" /><path clip-path=\"url(#clip970)\" d=\"M 0 0 M2181.12 280.105 L2181.12 284.087 Q2179.32 283.091 2177.49 282.605 Q2175.68 282.096 2173.83 282.096 Q2169.69 282.096 2167.4 284.735 Q2165.1 287.351 2165.1 292.096 Q2165.1 296.841 2167.4 299.48 Q2169.69 302.096 2173.83 302.096 Q2175.68 302.096 2177.49 301.61 Q2179.32 301.101 2181.12 300.105 L2181.12 304.04 Q2179.34 304.874 2177.42 305.29 Q2175.52 305.707 2173.37 305.707 Q2167.51 305.707 2164.06 302.026 Q2160.61 298.346 2160.61 292.096 Q2160.61 285.753 2164.09 282.119 Q2167.58 278.485 2173.65 278.485 Q2175.61 278.485 2177.49 278.902 Q2179.36 279.295 2181.12 280.105 Z\" fill=\"#000000\" fill-rule=\"evenodd\" fill-opacity=\"1\" /><path clip-path=\"url(#clip970)\" d=\"M 0 0 M2195.64 282.096 Q2192.21 282.096 2190.22 284.781 Q2188.23 287.443 2188.23 292.096 Q2188.23 296.749 2190.2 299.434 Q2192.19 302.096 2195.64 302.096 Q2199.04 302.096 2201.03 299.411 Q2203.02 296.726 2203.02 292.096 Q2203.02 287.49 2201.03 284.804 Q2199.04 282.096 2195.64 282.096 M2195.64 278.485 Q2201.19 278.485 2204.36 282.096 Q2207.54 285.707 2207.54 292.096 Q2207.54 298.462 2204.36 302.096 Q2201.19 305.707 2195.64 305.707 Q2190.06 305.707 2186.89 302.096 Q2183.74 298.462 2183.74 292.096 Q2183.74 285.707 2186.89 282.096 Q2190.06 278.485 2195.64 278.485 Z\" fill=\"#000000\" fill-rule=\"evenodd\" fill-opacity=\"1\" /><path clip-path=\"url(#clip970)\" d=\"M 0 0 M2233.55 289.388 L2233.55 305.036 L2229.29 305.036 L2229.29 289.527 Q2229.29 285.846 2227.86 284.017 Q2226.42 282.189 2223.55 282.189 Q2220.1 282.189 2218.11 284.388 Q2216.12 286.587 2216.12 290.383 L2216.12 305.036 L2211.84 305.036 L2211.84 279.11 L2216.12 279.11 L2216.12 283.138 Q2217.65 280.8 2219.71 279.642 Q2221.79 278.485 2224.5 278.485 Q2228.97 278.485 2231.26 281.263 Q2233.55 284.017 2233.55 289.388 Z\" fill=\"#000000\" fill-rule=\"evenodd\" fill-opacity=\"1\" /><polyline clip-path=\"url(#clip970)\" style=\"stroke:#3da44d; stroke-width:4; stroke-opacity:1; fill:none\" points=\"\n",
       "  1939.68,348.236 2082.72,348.236 \n",
       "  \"/>\n",
       "<path clip-path=\"url(#clip970)\" d=\"M 0 0 M2106.56 330.956 L2111.24 330.956 L2111.24 365.516 L2106.56 365.516 L2106.56 330.956 Z\" fill=\"#000000\" fill-rule=\"evenodd\" fill-opacity=\"1\" /><path clip-path=\"url(#clip970)\" d=\"M 0 0 M2137.26 349.868 L2137.26 365.516 L2133 365.516 L2133 350.007 Q2133 346.326 2131.56 344.497 Q2130.13 342.669 2127.26 342.669 Q2123.81 342.669 2121.82 344.868 Q2119.83 347.067 2119.83 350.863 L2119.83 365.516 L2115.54 365.516 L2115.54 339.59 L2119.83 339.59 L2119.83 343.618 Q2121.35 341.28 2123.42 340.122 Q2125.5 338.965 2128.21 338.965 Q2132.67 338.965 2134.97 341.743 Q2137.26 344.497 2137.26 349.868 Z\" fill=\"#000000\" fill-rule=\"evenodd\" fill-opacity=\"1\" /><path clip-path=\"url(#clip970)\" d=\"M 0 0 M2141.73 339.59 L2145.98 339.59 L2145.98 365.516 L2141.73 365.516 L2141.73 339.59 M2141.73 329.497 L2145.98 329.497 L2145.98 334.891 L2141.73 334.891 L2141.73 329.497 Z\" fill=\"#000000\" fill-rule=\"evenodd\" fill-opacity=\"1\" /><path clip-path=\"url(#clip970)\" d=\"M 0 0 M2154.66 332.229 L2154.66 339.59 L2163.44 339.59 L2163.44 342.9 L2154.66 342.9 L2154.66 356.974 Q2154.66 360.145 2155.52 361.048 Q2156.4 361.951 2159.06 361.951 L2163.44 361.951 L2163.44 365.516 L2159.06 365.516 Q2154.13 365.516 2152.26 363.687 Q2150.38 361.835 2150.38 356.974 L2150.38 342.9 L2147.26 342.9 L2147.26 339.59 L2150.38 339.59 L2150.38 332.229 L2154.66 332.229 Z\" fill=\"#000000\" fill-rule=\"evenodd\" fill-opacity=\"1\" /></svg>\n"
      ]
     },
     "execution_count": 22,
     "metadata": {},
     "output_type": "execute_result"
    }
   ],
   "source": [
    "kbins= convert(Array{Float64}, collect(1:32))\n",
    "true_ps = calc_1dps(apodizer(gttarget[\"true_img\"]), kbins)\n",
    "recon_ps = calc_1dps(apodizer(gttarget[\"recon\"]), kbins)\n",
    "init_ps = calc_1dps(apodizer(gttarget[\"init\"]), kbins)\n",
    "p = plot(log.(kbins), log.(true_ps), label=\"True\")\n",
    "plot!(log.(kbins), log.(recon_ps), label=\"Recon\")\n",
    "plot!(log.(kbins), log.(init_ps), label=\"Init\")\n",
    "plot!(title=\"FullCov Noiso: P(k) of Image\")\n",
    "xlabel!(\"lnk\")\n",
    "ylabel!(\"lnP(k)\")"
   ]
  },
  {
   "cell_type": "code",
   "execution_count": 23,
   "metadata": {},
   "outputs": [
    {
     "name": "stdout",
     "output_type": "stream",
     "text": [
      "True271.13355388014503\n",
      "0.8924165728318676\n",
      "Init388.091139523465\n",
      "0.0\n",
      "Recon7.196722678076889\n",
      "1.1711584235470576\n"
     ]
    }
   ],
   "source": [
    "fname = \"../../StandardizedExp/Nx64/noisy_stdtrue/SFDTargSFDCov/reg_apd_noiso/LogCoeff/1000_10_full_triu\"\n",
    "gttarget = load(fname*\".jld2\")\n",
    "filter_hash = gttarget[\"fhash\"]\n",
    "s_targ_mean, s_targ_invcov = gttarget[\"dict\"][\"fs_targ_mean\"], gttarget[\"dict\"][\"fs_invcov\"]\n",
    "dhc_args = Dict(:doS2=>false, :doS20=>true, :apodize=>true, :iso=>false)\n",
    "\n",
    "altrue = apodizer(gttarget[\"true_img\"])\n",
    "alinit = apodizer(gttarget[\"init\"])\n",
    "alrecon = apodizer(gttarget[\"recon\"])\n",
    "\n",
    "coeff_mask = gttarget[\"coeff_mask\"]\n",
    "s_true = log.(DHC_compute_wrapper(gttarget[\"true_img\"], filter_hash, norm=false; dhc_args...)[coeff_mask])\n",
    "s_init = log.(DHC_compute_wrapper(gttarget[\"init\"], filter_hash, norm=false; dhc_args...)[coeff_mask])\n",
    "s_recon = log.(DHC_compute_wrapper(gttarget[\"recon\"], filter_hash, norm=false; dhc_args...)[coeff_mask])\n",
    "ltruecheck = ( 0.5 .* (s_true - s_targ_mean)' * s_targ_invcov * (s_true - s_targ_mean))[1]\n",
    "l2true = 0.5*gttarget[\"dict\"][\"lambda\"]*sum((alinit - altrue).^2)\n",
    "println(\"True\", ltruecheck)\n",
    "println(l2true)\n",
    "\n",
    "l1init = ( 0.5 .* (s_init - s_targ_mean)' * s_targ_invcov * (s_init - s_targ_mean))[1]\n",
    "l2init = 0.5*gttarget[\"dict\"][\"lambda\"]*sum((alinit - alinit).^2)\n",
    "println(\"Init\", l1init)\n",
    "println(l2init)\n",
    "\n",
    "l1recon = ( 0.5 .* (s_recon - s_targ_mean)' * s_targ_invcov * (s_recon - s_targ_mean))[1]\n",
    "l2recon = 0.5*gttarget[\"dict\"][\"lambda\"]*sum((alrecon - alinit).^2)\n",
    "println(\"Recon\", l1recon)\n",
    "println(l2recon)\n"
   ]
  },
  {
   "cell_type": "code",
   "execution_count": 24,
   "metadata": {},
   "outputs": [
    {
     "data": {
      "image/svg+xml": [
       "<?xml version=\"1.0\" encoding=\"utf-8\"?>\n",
       "<svg xmlns=\"http://www.w3.org/2000/svg\" xmlns:xlink=\"http://www.w3.org/1999/xlink\" width=\"600\" height=\"400\" viewBox=\"0 0 2400 1600\">\n",
       "<defs>\n",
       "  <clipPath id=\"clip010\">\n",
       "    <rect x=\"0\" y=\"0\" width=\"2400\" height=\"1600\"/>\n",
       "  </clipPath>\n",
       "</defs>\n",
       "<path clip-path=\"url(#clip010)\" d=\"\n",
       "M0 1600 L2400 1600 L2400 0 L0 0  Z\n",
       "  \" fill=\"#ffffff\" fill-rule=\"evenodd\" fill-opacity=\"1\"/>\n",
       "<defs>\n",
       "  <clipPath id=\"clip011\">\n",
       "    <rect x=\"480\" y=\"0\" width=\"1681\" height=\"1600\"/>\n",
       "  </clipPath>\n",
       "</defs>\n",
       "<path clip-path=\"url(#clip010)\" d=\"\n",
       "M207.112 1423.18 L2352.76 1423.18 L2352.76 123.472 L207.112 123.472  Z\n",
       "  \" fill=\"#ffffff\" fill-rule=\"evenodd\" fill-opacity=\"1\"/>\n",
       "<defs>\n",
       "  <clipPath id=\"clip012\">\n",
       "    <rect x=\"207\" y=\"123\" width=\"2147\" height=\"1301\"/>\n",
       "  </clipPath>\n",
       "</defs>\n",
       "<polyline clip-path=\"url(#clip012)\" style=\"stroke:#000000; stroke-width:2; stroke-opacity:0.1; fill:none\" points=\"\n",
       "  267.837,1423.18 267.837,123.472 \n",
       "  \"/>\n",
       "<polyline clip-path=\"url(#clip012)\" style=\"stroke:#000000; stroke-width:2; stroke-opacity:0.1; fill:none\" points=\"\n",
       "  851.896,1423.18 851.896,123.472 \n",
       "  \"/>\n",
       "<polyline clip-path=\"url(#clip012)\" style=\"stroke:#000000; stroke-width:2; stroke-opacity:0.1; fill:none\" points=\"\n",
       "  1435.95,1423.18 1435.95,123.472 \n",
       "  \"/>\n",
       "<polyline clip-path=\"url(#clip012)\" style=\"stroke:#000000; stroke-width:2; stroke-opacity:0.1; fill:none\" points=\"\n",
       "  2020.01,1423.18 2020.01,123.472 \n",
       "  \"/>\n",
       "<polyline clip-path=\"url(#clip010)\" style=\"stroke:#000000; stroke-width:4; stroke-opacity:1; fill:none\" points=\"\n",
       "  207.112,1423.18 2352.76,1423.18 \n",
       "  \"/>\n",
       "<polyline clip-path=\"url(#clip010)\" style=\"stroke:#000000; stroke-width:4; stroke-opacity:1; fill:none\" points=\"\n",
       "  267.837,1423.18 267.837,1407.58 \n",
       "  \"/>\n",
       "<polyline clip-path=\"url(#clip010)\" style=\"stroke:#000000; stroke-width:4; stroke-opacity:1; fill:none\" points=\"\n",
       "  851.896,1423.18 851.896,1407.58 \n",
       "  \"/>\n",
       "<polyline clip-path=\"url(#clip010)\" style=\"stroke:#000000; stroke-width:4; stroke-opacity:1; fill:none\" points=\"\n",
       "  1435.95,1423.18 1435.95,1407.58 \n",
       "  \"/>\n",
       "<polyline clip-path=\"url(#clip010)\" style=\"stroke:#000000; stroke-width:4; stroke-opacity:1; fill:none\" points=\"\n",
       "  2020.01,1423.18 2020.01,1407.58 \n",
       "  \"/>\n",
       "<path clip-path=\"url(#clip010)\" d=\"M 0 0 M267.837 1452.37 Q264.226 1452.37 262.398 1455.94 Q260.592 1459.48 260.592 1466.61 Q260.592 1473.71 262.398 1477.28 Q264.226 1480.82 267.837 1480.82 Q271.472 1480.82 273.277 1477.28 Q275.106 1473.71 275.106 1466.61 Q275.106 1459.48 273.277 1455.94 Q271.472 1452.37 267.837 1452.37 M267.837 1448.67 Q273.648 1448.67 276.703 1453.27 Q279.782 1457.86 279.782 1466.61 Q279.782 1475.33 276.703 1479.94 Q273.648 1484.52 267.837 1484.52 Q262.027 1484.52 258.949 1479.94 Q255.893 1475.33 255.893 1466.61 Q255.893 1457.86 258.949 1453.27 Q262.027 1448.67 267.837 1448.67 Z\" fill=\"#000000\" fill-rule=\"evenodd\" fill-opacity=\"1\" /><path clip-path=\"url(#clip010)\" d=\"M 0 0 M842.278 1479.92 L849.917 1479.92 L849.917 1453.55 L841.607 1455.22 L841.607 1450.96 L849.871 1449.29 L854.546 1449.29 L854.546 1479.92 L862.185 1479.92 L862.185 1483.85 L842.278 1483.85 L842.278 1479.92 Z\" fill=\"#000000\" fill-rule=\"evenodd\" fill-opacity=\"1\" /><path clip-path=\"url(#clip010)\" d=\"M 0 0 M1430.61 1479.92 L1446.93 1479.92 L1446.93 1483.85 L1424.98 1483.85 L1424.98 1479.92 Q1427.64 1477.16 1432.23 1472.53 Q1436.83 1467.88 1438.01 1466.54 Q1440.26 1464.01 1441.14 1462.28 Q1442.04 1460.52 1442.04 1458.83 Q1442.04 1456.07 1440.1 1454.34 Q1438.18 1452.6 1435.07 1452.6 Q1432.88 1452.6 1430.42 1453.37 Q1427.99 1454.13 1425.21 1455.68 L1425.21 1450.96 Q1428.04 1449.82 1430.49 1449.25 Q1432.95 1448.67 1434.98 1448.67 Q1440.35 1448.67 1443.55 1451.35 Q1446.74 1454.04 1446.74 1458.53 Q1446.74 1460.66 1445.93 1462.58 Q1445.14 1464.48 1443.04 1467.07 Q1442.46 1467.74 1439.36 1470.96 Q1436.26 1474.15 1430.61 1479.92 Z\" fill=\"#000000\" fill-rule=\"evenodd\" fill-opacity=\"1\" /><path clip-path=\"url(#clip010)\" d=\"M 0 0 M2024.26 1465.22 Q2027.62 1465.94 2029.49 1468.2 Q2031.39 1470.47 2031.39 1473.81 Q2031.39 1478.92 2027.87 1481.72 Q2024.35 1484.52 2017.87 1484.52 Q2015.7 1484.52 2013.38 1484.08 Q2011.09 1483.67 2008.64 1482.81 L2008.64 1478.3 Q2010.58 1479.43 2012.9 1480.01 Q2015.21 1480.59 2017.73 1480.59 Q2022.13 1480.59 2024.42 1478.85 Q2026.74 1477.12 2026.74 1473.81 Q2026.74 1470.75 2024.58 1469.04 Q2022.46 1467.3 2018.64 1467.3 L2014.61 1467.3 L2014.61 1463.46 L2018.82 1463.46 Q2022.27 1463.46 2024.1 1462.09 Q2025.93 1460.7 2025.93 1458.11 Q2025.93 1455.45 2024.03 1454.04 Q2022.15 1452.6 2018.64 1452.6 Q2016.71 1452.6 2014.52 1453.02 Q2012.32 1453.44 2009.68 1454.31 L2009.68 1450.15 Q2012.34 1449.41 2014.65 1449.04 Q2016.99 1448.67 2019.05 1448.67 Q2024.38 1448.67 2027.48 1451.1 Q2030.58 1453.5 2030.58 1457.63 Q2030.58 1460.5 2028.94 1462.49 Q2027.29 1464.45 2024.26 1465.22 Z\" fill=\"#000000\" fill-rule=\"evenodd\" fill-opacity=\"1\" /><path clip-path=\"url(#clip010)\" d=\"M 0 0 M1240.34 1518.52 L1246.2 1518.52 L1246.2 1568.04 L1240.34 1568.04 L1240.34 1518.52 Z\" fill=\"#000000\" fill-rule=\"evenodd\" fill-opacity=\"1\" /><path clip-path=\"url(#clip010)\" d=\"M 0 0 M1281.97 1546.53 L1281.97 1568.04 L1276.11 1568.04 L1276.11 1546.72 Q1276.11 1541.66 1274.14 1539.14 Q1272.17 1536.63 1268.22 1536.63 Q1263.48 1536.63 1260.74 1539.65 Q1258 1542.68 1258 1547.9 L1258 1568.04 L1252.12 1568.04 L1252.12 1532.4 L1258 1532.4 L1258 1537.93 Q1260.1 1534.72 1262.94 1533.13 Q1265.8 1531.54 1269.53 1531.54 Q1275.67 1531.54 1278.82 1535.36 Q1281.97 1539.14 1281.97 1546.53 Z\" fill=\"#000000\" fill-rule=\"evenodd\" fill-opacity=\"1\" /><path clip-path=\"url(#clip010)\" d=\"M 0 0 M1287.89 1518.52 L1293.78 1518.52 L1293.78 1547.77 L1311.25 1532.4 L1318.73 1532.4 L1299.83 1549.07 L1319.53 1568.04 L1311.89 1568.04 L1293.78 1550.63 L1293.78 1568.04 L1287.89 1568.04 L1287.89 1518.52 Z\" fill=\"#000000\" fill-rule=\"evenodd\" fill-opacity=\"1\" /><polyline clip-path=\"url(#clip012)\" style=\"stroke:#000000; stroke-width:2; stroke-opacity:0.1; fill:none\" points=\"\n",
       "  207.112,1242.46 2352.76,1242.46 \n",
       "  \"/>\n",
       "<polyline clip-path=\"url(#clip012)\" style=\"stroke:#000000; stroke-width:2; stroke-opacity:0.1; fill:none\" points=\"\n",
       "  207.112,993.336 2352.76,993.336 \n",
       "  \"/>\n",
       "<polyline clip-path=\"url(#clip012)\" style=\"stroke:#000000; stroke-width:2; stroke-opacity:0.1; fill:none\" points=\"\n",
       "  207.112,744.21 2352.76,744.21 \n",
       "  \"/>\n",
       "<polyline clip-path=\"url(#clip012)\" style=\"stroke:#000000; stroke-width:2; stroke-opacity:0.1; fill:none\" points=\"\n",
       "  207.112,495.084 2352.76,495.084 \n",
       "  \"/>\n",
       "<polyline clip-path=\"url(#clip012)\" style=\"stroke:#000000; stroke-width:2; stroke-opacity:0.1; fill:none\" points=\"\n",
       "  207.112,245.958 2352.76,245.958 \n",
       "  \"/>\n",
       "<polyline clip-path=\"url(#clip010)\" style=\"stroke:#000000; stroke-width:4; stroke-opacity:1; fill:none\" points=\"\n",
       "  207.112,1423.18 207.112,123.472 \n",
       "  \"/>\n",
       "<polyline clip-path=\"url(#clip010)\" style=\"stroke:#000000; stroke-width:4; stroke-opacity:1; fill:none\" points=\"\n",
       "  207.112,1242.46 232.859,1242.46 \n",
       "  \"/>\n",
       "<polyline clip-path=\"url(#clip010)\" style=\"stroke:#000000; stroke-width:4; stroke-opacity:1; fill:none\" points=\"\n",
       "  207.112,993.336 232.859,993.336 \n",
       "  \"/>\n",
       "<polyline clip-path=\"url(#clip010)\" style=\"stroke:#000000; stroke-width:4; stroke-opacity:1; fill:none\" points=\"\n",
       "  207.112,744.21 232.859,744.21 \n",
       "  \"/>\n",
       "<polyline clip-path=\"url(#clip010)\" style=\"stroke:#000000; stroke-width:4; stroke-opacity:1; fill:none\" points=\"\n",
       "  207.112,495.084 232.859,495.084 \n",
       "  \"/>\n",
       "<polyline clip-path=\"url(#clip010)\" style=\"stroke:#000000; stroke-width:4; stroke-opacity:1; fill:none\" points=\"\n",
       "  207.112,245.958 232.859,245.958 \n",
       "  \"/>\n",
       "<path clip-path=\"url(#clip010)\" d=\"M 0 0 M114.26 1242.91 L143.936 1242.91 L143.936 1246.85 L114.26 1246.85 L114.26 1242.91 Z\" fill=\"#000000\" fill-rule=\"evenodd\" fill-opacity=\"1\" /><path clip-path=\"url(#clip010)\" d=\"M 0 0 M159.584 1240.6 Q156.436 1240.6 154.584 1242.75 Q152.755 1244.9 152.755 1248.65 Q152.755 1252.38 154.584 1254.56 Q156.436 1256.71 159.584 1256.71 Q162.732 1256.71 164.561 1254.56 Q166.413 1252.38 166.413 1248.65 Q166.413 1244.9 164.561 1242.75 Q162.732 1240.6 159.584 1240.6 M168.866 1225.95 L168.866 1230.2 Q167.107 1229.37 165.302 1228.93 Q163.519 1228.49 161.76 1228.49 Q157.13 1228.49 154.677 1231.62 Q152.246 1234.74 151.899 1241.06 Q153.265 1239.05 155.325 1237.98 Q157.385 1236.89 159.862 1236.89 Q165.07 1236.89 168.079 1240.07 Q171.112 1243.21 171.112 1248.65 Q171.112 1253.98 167.964 1257.2 Q164.815 1260.41 159.584 1260.41 Q153.589 1260.41 150.417 1255.83 Q147.246 1251.22 147.246 1242.5 Q147.246 1234.3 151.135 1229.44 Q155.024 1224.56 161.575 1224.56 Q163.334 1224.56 165.116 1224.9 Q166.922 1225.25 168.866 1225.95 Z\" fill=\"#000000\" fill-rule=\"evenodd\" fill-opacity=\"1\" /><path clip-path=\"url(#clip010)\" d=\"M 0 0 M115.07 993.787 L144.746 993.787 L144.746 997.722 L115.07 997.722 L115.07 993.787 Z\" fill=\"#000000\" fill-rule=\"evenodd\" fill-opacity=\"1\" /><path clip-path=\"url(#clip010)\" d=\"M 0 0 M163.982 991.982 Q167.339 992.699 169.214 994.968 Q171.112 997.236 171.112 1000.57 Q171.112 1005.69 167.593 1008.49 Q164.075 1011.29 157.593 1011.29 Q155.417 1011.29 153.103 1010.85 Q150.811 1010.43 148.357 1009.57 L148.357 1005.06 Q150.302 1006.19 152.616 1006.77 Q154.931 1007.35 157.454 1007.35 Q161.852 1007.35 164.144 1005.62 Q166.459 1003.88 166.459 1000.57 Q166.459 997.514 164.306 995.801 Q162.177 994.065 158.357 994.065 L154.329 994.065 L154.329 990.222 L158.542 990.222 Q161.991 990.222 163.82 988.857 Q165.649 987.468 165.649 984.875 Q165.649 982.213 163.751 980.801 Q161.876 979.366 158.357 979.366 Q156.436 979.366 154.237 979.783 Q152.038 980.199 149.399 981.079 L149.399 976.912 Q152.061 976.171 154.376 975.801 Q156.714 975.431 158.774 975.431 Q164.098 975.431 167.2 977.861 Q170.302 980.269 170.302 984.389 Q170.302 987.259 168.658 989.25 Q167.015 991.218 163.982 991.982 Z\" fill=\"#000000\" fill-rule=\"evenodd\" fill-opacity=\"1\" /><path clip-path=\"url(#clip010)\" d=\"M 0 0 M159.167 730.009 Q155.556 730.009 153.728 733.573 Q151.922 737.115 151.922 744.245 Q151.922 751.351 153.728 754.916 Q155.556 758.457 159.167 758.457 Q162.802 758.457 164.607 754.916 Q166.436 751.351 166.436 744.245 Q166.436 737.115 164.607 733.573 Q162.802 730.009 159.167 730.009 M159.167 726.305 Q164.977 726.305 168.033 730.911 Q171.112 735.495 171.112 744.245 Q171.112 752.971 168.033 757.578 Q164.977 762.161 159.167 762.161 Q153.357 762.161 150.278 757.578 Q147.223 752.971 147.223 744.245 Q147.223 735.495 150.278 730.911 Q153.357 726.305 159.167 726.305 Z\" fill=\"#000000\" fill-rule=\"evenodd\" fill-opacity=\"1\" /><path clip-path=\"url(#clip010)\" d=\"M 0 0 M163.982 493.73 Q167.339 494.448 169.214 496.716 Q171.112 498.985 171.112 502.318 Q171.112 507.434 167.593 510.234 Q164.075 513.035 157.593 513.035 Q155.417 513.035 153.103 512.596 Q150.811 512.179 148.357 511.322 L148.357 506.809 Q150.302 507.943 152.616 508.522 Q154.931 509.1 157.454 509.1 Q161.852 509.1 164.144 507.364 Q166.459 505.628 166.459 502.318 Q166.459 499.262 164.306 497.549 Q162.177 495.813 158.357 495.813 L154.329 495.813 L154.329 491.971 L158.542 491.971 Q161.991 491.971 163.82 490.605 Q165.649 489.216 165.649 486.623 Q165.649 483.961 163.751 482.549 Q161.876 481.114 158.357 481.114 Q156.436 481.114 154.237 481.531 Q152.038 481.948 149.399 482.827 L149.399 478.661 Q152.061 477.92 154.376 477.549 Q156.714 477.179 158.774 477.179 Q164.098 477.179 167.2 479.61 Q170.302 482.017 170.302 486.137 Q170.302 489.008 168.658 490.998 Q167.015 492.966 163.982 493.73 Z\" fill=\"#000000\" fill-rule=\"evenodd\" fill-opacity=\"1\" /><path clip-path=\"url(#clip010)\" d=\"M 0 0 M159.584 244.095 Q156.436 244.095 154.584 246.248 Q152.755 248.4 152.755 252.15 Q152.755 255.877 154.584 258.053 Q156.436 260.206 159.584 260.206 Q162.732 260.206 164.561 258.053 Q166.413 255.877 166.413 252.15 Q166.413 248.4 164.561 246.248 Q162.732 244.095 159.584 244.095 M168.866 229.442 L168.866 233.701 Q167.107 232.868 165.302 232.428 Q163.519 231.988 161.76 231.988 Q157.13 231.988 154.677 235.113 Q152.246 238.238 151.899 244.558 Q153.265 242.544 155.325 241.479 Q157.385 240.391 159.862 240.391 Q165.07 240.391 168.079 243.562 Q171.112 246.711 171.112 252.15 Q171.112 257.474 167.964 260.692 Q164.815 263.91 159.584 263.91 Q153.589 263.91 150.417 259.326 Q147.246 254.72 147.246 245.993 Q147.246 237.799 151.135 232.938 Q155.024 228.053 161.575 228.053 Q163.334 228.053 165.116 228.4 Q166.922 228.748 168.866 229.442 Z\" fill=\"#000000\" fill-rule=\"evenodd\" fill-opacity=\"1\" /><path clip-path=\"url(#clip010)\" d=\"M 0 0 M14.479 851.481 L14.479 845.624 L64.0042 845.624 L64.0042 851.481 L14.479 851.481 Z\" fill=\"#000000\" fill-rule=\"evenodd\" fill-opacity=\"1\" /><path clip-path=\"url(#clip010)\" d=\"M 0 0 M42.4881 809.849 L64.0042 809.849 L64.0042 815.706 L42.679 815.706 Q37.6183 815.706 35.1038 817.679 Q32.5894 819.652 32.5894 823.599 Q32.5894 828.342 35.6131 831.079 Q38.6368 833.816 43.8567 833.816 L64.0042 833.816 L64.0042 839.704 L28.3562 839.704 L28.3562 833.816 L33.8944 833.816 Q30.6797 831.715 29.0883 828.883 Q27.4968 826.018 27.4968 822.294 Q27.4968 816.151 31.3163 813 Q35.1038 809.849 42.4881 809.849 Z\" fill=\"#000000\" fill-rule=\"evenodd\" fill-opacity=\"1\" /><path clip-path=\"url(#clip010)\" d=\"M 0 0 M21.7677 797.022 L39.6235 797.022 L39.6235 788.938 Q39.6235 784.45 37.3 781.999 Q34.9765 779.548 30.6797 779.548 Q26.4147 779.548 24.0912 781.999 Q21.7677 784.45 21.7677 788.938 L21.7677 797.022 M16.4842 803.452 L16.4842 788.938 Q16.4842 780.949 20.1126 776.875 Q23.7092 772.769 30.6797 772.769 Q37.7138 772.769 41.3104 776.875 Q44.907 780.949 44.907 788.938 L44.907 797.022 L64.0042 797.022 L64.0042 803.452 L16.4842 803.452 Z\" fill=\"#000000\" fill-rule=\"evenodd\" fill-opacity=\"1\" /><path clip-path=\"url(#clip010)\" d=\"M 0 0 M14.5426 752.558 Q21.8632 756.823 29.0246 758.892 Q36.186 760.961 43.5384 760.961 Q50.8908 760.961 58.1159 758.892 Q65.3091 756.791 72.5979 752.558 L72.5979 757.65 Q65.1182 762.425 57.8931 764.812 Q50.668 767.167 43.5384 767.167 Q36.4406 767.167 29.2474 764.812 Q22.0542 762.457 14.5426 757.65 L14.5426 752.558 Z\" fill=\"#000000\" fill-rule=\"evenodd\" fill-opacity=\"1\" /><path clip-path=\"url(#clip010)\" d=\"M 0 0 M14.479 746.638 L14.479 740.749 L43.7294 740.749 L28.3562 723.276 L28.3562 715.796 L45.0344 734.702 L64.0042 715 L64.0042 722.639 L46.5939 740.749 L64.0042 740.749 L64.0042 746.638 L14.479 746.638 Z\" fill=\"#000000\" fill-rule=\"evenodd\" fill-opacity=\"1\" /><path clip-path=\"url(#clip010)\" d=\"M 0 0 M14.5426 709.78 L14.5426 704.688 Q22.0542 699.913 29.2474 697.558 Q36.4406 695.171 43.5384 695.171 Q50.668 695.171 57.8931 697.558 Q65.1182 699.913 72.5979 704.688 L72.5979 709.78 Q65.3091 705.547 58.1159 703.478 Q50.8908 701.378 43.5384 701.378 Q36.186 701.378 29.0246 703.478 Q21.8632 705.547 14.5426 709.78 Z\" fill=\"#000000\" fill-rule=\"evenodd\" fill-opacity=\"1\" /><path clip-path=\"url(#clip010)\" d=\"M 0 0 M767.555 12.096 L802.312 12.096 L802.312 18.9825 L775.738 18.9825 L775.738 36.8065 L799.719 36.8065 L799.719 43.6931 L775.738 43.6931 L775.738 72.576 L767.555 72.576 L767.555 12.096 Z\" fill=\"#000000\" fill-rule=\"evenodd\" fill-opacity=\"1\" /><path clip-path=\"url(#clip010)\" d=\"M 0 0 M804.824 54.671 L804.824 27.2059 L812.277 27.2059 L812.277 54.3874 Q812.277 60.8284 814.789 64.0691 Q817.3 67.2693 822.323 67.2693 Q828.359 67.2693 831.843 63.421 Q835.367 59.5726 835.367 52.9291 L835.367 27.2059 L842.821 27.2059 L842.821 72.576 L835.367 72.576 L835.367 65.6084 Q832.653 69.7404 829.048 71.7658 Q825.483 73.7508 820.744 73.7508 Q812.925 73.7508 808.874 68.8897 Q804.824 64.0286 804.824 54.671 M823.579 26.1121 L823.579 26.1121 Z\" fill=\"#000000\" fill-rule=\"evenodd\" fill-opacity=\"1\" /><path clip-path=\"url(#clip010)\" d=\"M 0 0 M850.639 9.54393 L858.093 9.54393 L858.093 72.576 L850.639 72.576 L850.639 9.54393 Z\" fill=\"#000000\" fill-rule=\"evenodd\" fill-opacity=\"1\" /><path clip-path=\"url(#clip010)\" d=\"M 0 0 M865.911 9.54393 L873.365 9.54393 L873.365 72.576 L865.911 72.576 L865.911 9.54393 Z\" fill=\"#000000\" fill-rule=\"evenodd\" fill-opacity=\"1\" /><path clip-path=\"url(#clip010)\" d=\"M 0 0 M926.796 16.7545 L926.796 25.383 Q922.664 21.5346 917.965 19.6307 Q913.307 17.7268 908.041 17.7268 Q897.67 17.7268 892.161 24.0867 Q886.652 30.4061 886.652 42.3968 Q886.652 54.3469 892.161 60.7069 Q897.67 67.0263 908.041 67.0263 Q913.307 67.0263 917.965 65.1223 Q922.664 63.2184 926.796 59.3701 L926.796 67.9175 Q922.502 70.8341 917.682 72.2924 Q912.902 73.7508 907.554 73.7508 Q893.822 73.7508 885.923 65.3654 Q878.023 56.9395 878.023 42.3968 Q878.023 27.8135 885.923 19.4281 Q893.822 11.0023 907.554 11.0023 Q912.983 11.0023 917.763 12.4606 Q922.583 13.8784 926.796 16.7545 Z\" fill=\"#000000\" fill-rule=\"evenodd\" fill-opacity=\"1\" /><path clip-path=\"url(#clip010)\" d=\"M 0 0 M952.195 32.4315 Q946.2 32.4315 942.716 37.1306 Q939.233 41.7891 939.233 49.9314 Q939.233 58.0738 942.676 62.7728 Q946.16 67.4314 952.195 67.4314 Q958.15 67.4314 961.634 62.7323 Q965.118 58.0333 965.118 49.9314 Q965.118 41.8701 961.634 37.1711 Q958.15 32.4315 952.195 32.4315 M952.195 26.1121 Q961.918 26.1121 967.467 32.4315 Q973.017 38.7509 973.017 49.9314 Q973.017 61.0714 967.467 67.4314 Q961.918 73.7508 952.195 73.7508 Q942.433 73.7508 936.883 67.4314 Q931.374 61.0714 931.374 49.9314 Q931.374 38.7509 936.883 32.4315 Q942.433 26.1121 952.195 26.1121 Z\" fill=\"#000000\" fill-rule=\"evenodd\" fill-opacity=\"1\" /><path clip-path=\"url(#clip010)\" d=\"M 0 0 M975.488 27.2059 L983.387 27.2059 L997.566 65.2844 L1011.74 27.2059 L1019.64 27.2059 L1002.63 72.576 L992.502 72.576 L975.488 27.2059 Z\" fill=\"#000000\" fill-rule=\"evenodd\" fill-opacity=\"1\" /><path clip-path=\"url(#clip010)\" d=\"M 0 0 M1054.16 12.096 L1065.18 12.096 L1091.99 62.6918 L1091.99 12.096 L1099.93 12.096 L1099.93 72.576 L1088.91 72.576 L1062.1 21.9802 L1062.1 72.576 L1054.16 72.576 L1054.16 12.096 Z\" fill=\"#000000\" fill-rule=\"evenodd\" fill-opacity=\"1\" /><path clip-path=\"url(#clip010)\" d=\"M 0 0 M1125.33 32.4315 Q1119.34 32.4315 1115.85 37.1306 Q1112.37 41.7891 1112.37 49.9314 Q1112.37 58.0738 1115.81 62.7728 Q1119.3 67.4314 1125.33 67.4314 Q1131.29 67.4314 1134.77 62.7323 Q1138.25 58.0333 1138.25 49.9314 Q1138.25 41.8701 1134.77 37.1711 Q1131.29 32.4315 1125.33 32.4315 M1125.33 26.1121 Q1135.05 26.1121 1140.6 32.4315 Q1146.15 38.7509 1146.15 49.9314 Q1146.15 61.0714 1140.6 67.4314 Q1135.05 73.7508 1125.33 73.7508 Q1115.57 73.7508 1110.02 67.4314 Q1104.51 61.0714 1104.51 49.9314 Q1104.51 38.7509 1110.02 32.4315 Q1115.57 26.1121 1125.33 26.1121 Z\" fill=\"#000000\" fill-rule=\"evenodd\" fill-opacity=\"1\" /><path clip-path=\"url(#clip010)\" d=\"M 0 0 M1153.97 27.2059 L1161.42 27.2059 L1161.42 72.576 L1153.97 72.576 L1153.97 27.2059 M1153.97 9.54393 L1161.42 9.54393 L1161.42 18.9825 L1153.97 18.9825 L1153.97 9.54393 Z\" fill=\"#000000\" fill-rule=\"evenodd\" fill-opacity=\"1\" /><path clip-path=\"url(#clip010)\" d=\"M 0 0 M1198.17 28.5427 L1198.17 35.5912 Q1195.01 33.9709 1191.6 33.1607 Q1188.2 32.3505 1184.56 32.3505 Q1179.01 32.3505 1176.21 34.0519 Q1173.46 35.7533 1173.46 39.156 Q1173.46 41.7486 1175.44 43.2475 Q1177.43 44.7058 1183.42 46.0426 L1185.97 46.6097 Q1193.91 48.3111 1197.23 51.4303 Q1200.6 54.509 1200.6 60.0587 Q1200.6 66.3781 1195.57 70.0644 Q1190.59 73.7508 1181.84 73.7508 Q1178.2 73.7508 1174.23 73.0216 Q1170.3 72.3329 1165.92 70.9151 L1165.92 63.2184 Q1170.05 65.3654 1174.06 66.4591 Q1178.07 67.5124 1182 67.5124 Q1187.27 67.5124 1190.11 65.73 Q1192.94 63.9071 1192.94 60.6258 Q1192.94 57.5877 1190.87 55.9673 Q1188.85 54.3469 1181.92 52.8481 L1179.33 52.2405 Q1172.4 50.7821 1169.32 47.7845 Q1166.25 44.7463 1166.25 39.4801 Q1166.25 33.0797 1170.78 29.5959 Q1175.32 26.1121 1183.66 26.1121 Q1187.8 26.1121 1191.44 26.7198 Q1195.09 27.3274 1198.17 28.5427 Z\" fill=\"#000000\" fill-rule=\"evenodd\" fill-opacity=\"1\" /><path clip-path=\"url(#clip010)\" d=\"M 0 0 M1226 32.4315 Q1220 32.4315 1216.52 37.1306 Q1213.03 41.7891 1213.03 49.9314 Q1213.03 58.0738 1216.48 62.7728 Q1219.96 67.4314 1226 67.4314 Q1231.95 67.4314 1235.43 62.7323 Q1238.92 58.0333 1238.92 49.9314 Q1238.92 41.8701 1235.43 37.1711 Q1231.95 32.4315 1226 32.4315 M1226 26.1121 Q1235.72 26.1121 1241.27 32.4315 Q1246.82 38.7509 1246.82 49.9314 Q1246.82 61.0714 1241.27 67.4314 Q1235.72 73.7508 1226 73.7508 Q1216.23 73.7508 1210.68 67.4314 Q1205.17 61.0714 1205.17 49.9314 Q1205.17 38.7509 1210.68 32.4315 Q1216.23 26.1121 1226 26.1121 Z\" fill=\"#000000\" fill-rule=\"evenodd\" fill-opacity=\"1\" /><path clip-path=\"url(#clip010)\" d=\"M 0 0 M1256.54 62.2867 L1265.09 62.2867 L1265.09 72.576 L1256.54 72.576 L1256.54 62.2867 M1256.54 29.6769 L1265.09 29.6769 L1265.09 39.9662 L1256.54 39.9662 L1256.54 29.6769 Z\" fill=\"#000000\" fill-rule=\"evenodd\" fill-opacity=\"1\" /><path clip-path=\"url(#clip010)\" d=\"M 0 0 M1307.78 18.8205 L1307.78 41.5461 L1318.07 41.5461 Q1323.78 41.5461 1326.9 38.5889 Q1330.02 35.6318 1330.02 30.163 Q1330.02 24.7348 1326.9 21.7777 Q1323.78 18.8205 1318.07 18.8205 L1307.78 18.8205 M1299.6 12.096 L1318.07 12.096 Q1328.24 12.096 1333.43 16.714 Q1338.65 21.2916 1338.65 30.163 Q1338.65 39.1155 1333.43 43.6931 Q1328.24 48.2706 1318.07 48.2706 L1307.78 48.2706 L1307.78 72.576 L1299.6 72.576 L1299.6 12.096 Z\" fill=\"#000000\" fill-rule=\"evenodd\" fill-opacity=\"1\" /><path clip-path=\"url(#clip010)\" d=\"M 0 0 M1364.37 9.62495 Q1358.95 18.942 1356.31 28.0566 Q1353.68 37.1711 1353.68 46.5287 Q1353.68 55.8863 1356.31 65.0818 Q1358.99 74.2369 1364.37 83.5134 L1357.89 83.5134 Q1351.82 73.9938 1348.78 64.7983 Q1345.78 55.6027 1345.78 46.5287 Q1345.78 37.4952 1348.78 28.3401 Q1351.78 19.1851 1357.89 9.62495 L1364.37 9.62495 Z\" fill=\"#000000\" fill-rule=\"evenodd\" fill-opacity=\"1\" /><path clip-path=\"url(#clip010)\" d=\"M 0 0 M1371.91 9.54393 L1379.4 9.54393 L1379.4 46.7717 L1401.64 27.2059 L1411.16 27.2059 L1387.1 48.4326 L1412.18 72.576 L1402.45 72.576 L1379.4 50.4176 L1379.4 72.576 L1371.91 72.576 L1371.91 9.54393 Z\" fill=\"#000000\" fill-rule=\"evenodd\" fill-opacity=\"1\" /><path clip-path=\"url(#clip010)\" d=\"M 0 0 M1418.82 9.62495 L1425.3 9.62495 Q1431.38 19.1851 1434.37 28.3401 Q1437.41 37.4952 1437.41 46.5287 Q1437.41 55.6027 1434.37 64.7983 Q1431.38 73.9938 1425.3 83.5134 L1418.82 83.5134 Q1424.21 74.2369 1426.84 65.0818 Q1429.51 55.8863 1429.51 46.5287 Q1429.51 37.1711 1426.84 28.0566 Q1424.21 18.942 1418.82 9.62495 Z\" fill=\"#000000\" fill-rule=\"evenodd\" fill-opacity=\"1\" /><path clip-path=\"url(#clip010)\" d=\"M 0 0 M1489.18 32.4315 Q1483.19 32.4315 1479.7 37.1306 Q1476.22 41.7891 1476.22 49.9314 Q1476.22 58.0738 1479.66 62.7728 Q1483.15 67.4314 1489.18 67.4314 Q1495.14 67.4314 1498.62 62.7323 Q1502.11 58.0333 1502.11 49.9314 Q1502.11 41.8701 1498.62 37.1711 Q1495.14 32.4315 1489.18 32.4315 M1489.18 26.1121 Q1498.91 26.1121 1504.46 32.4315 Q1510 38.7509 1510 49.9314 Q1510 61.0714 1504.46 67.4314 Q1498.91 73.7508 1489.18 73.7508 Q1479.42 73.7508 1473.87 67.4314 Q1468.36 61.0714 1468.36 49.9314 Q1468.36 38.7509 1473.87 32.4315 Q1479.42 26.1121 1489.18 26.1121 Z\" fill=\"#000000\" fill-rule=\"evenodd\" fill-opacity=\"1\" /><path clip-path=\"url(#clip010)\" d=\"M 0 0 M1540.79 9.54393 L1540.79 15.7418 L1533.66 15.7418 Q1529.65 15.7418 1528.07 17.3622 Q1526.53 18.9825 1526.53 23.1955 L1526.53 27.2059 L1538.81 27.2059 L1538.81 32.9987 L1526.53 32.9987 L1526.53 72.576 L1519.04 72.576 L1519.04 32.9987 L1511.91 32.9987 L1511.91 27.2059 L1519.04 27.2059 L1519.04 24.0462 Q1519.04 16.471 1522.56 13.0277 Q1526.09 9.54393 1533.74 9.54393 L1540.79 9.54393 Z\" fill=\"#000000\" fill-rule=\"evenodd\" fill-opacity=\"1\" /><path clip-path=\"url(#clip010)\" d=\"M 0 0 M1575.31 12.096 L1583.49 12.096 L1583.49 72.576 L1575.31 72.576 L1575.31 12.096 Z\" fill=\"#000000\" fill-rule=\"evenodd\" fill-opacity=\"1\" /><path clip-path=\"url(#clip010)\" d=\"M 0 0 M1626.63 35.9153 Q1629.43 30.8922 1633.31 28.5022 Q1637.2 26.1121 1642.47 26.1121 Q1649.56 26.1121 1653.41 31.0947 Q1657.26 36.0368 1657.26 45.1919 L1657.26 72.576 L1649.76 72.576 L1649.76 45.4349 Q1649.76 38.913 1647.45 35.7533 Q1645.14 32.5936 1640.4 32.5936 Q1634.61 32.5936 1631.25 36.4419 Q1627.89 40.2903 1627.89 46.9338 L1627.89 72.576 L1620.39 72.576 L1620.39 45.4349 Q1620.39 38.8725 1618.08 35.7533 Q1615.77 32.5936 1610.95 32.5936 Q1605.24 32.5936 1601.88 36.4824 Q1598.52 40.3308 1598.52 46.9338 L1598.52 72.576 L1591.02 72.576 L1591.02 27.2059 L1598.52 27.2059 L1598.52 34.2544 Q1601.07 30.082 1604.63 28.0971 Q1608.2 26.1121 1613.1 26.1121 Q1618.04 26.1121 1621.49 28.6237 Q1624.97 31.1352 1626.63 35.9153 Z\" fill=\"#000000\" fill-rule=\"evenodd\" fill-opacity=\"1\" /><path clip-path=\"url(#clip010)\" d=\"M 0 0 M1685.69 49.7694 Q1676.66 49.7694 1673.18 51.8354 Q1669.69 53.9013 1669.69 58.8839 Q1669.69 62.8538 1672.28 65.2034 Q1674.92 67.5124 1679.41 67.5124 Q1685.61 67.5124 1689.34 63.1374 Q1693.11 58.7219 1693.11 51.4303 L1693.11 49.7694 L1685.69 49.7694 M1700.56 46.6907 L1700.56 72.576 L1693.11 72.576 L1693.11 65.6895 Q1690.55 69.8214 1686.75 71.8063 Q1682.94 73.7508 1677.43 73.7508 Q1670.46 73.7508 1666.33 69.8619 Q1662.24 65.9325 1662.24 59.3701 Q1662.24 51.7138 1667.34 47.825 Q1672.49 43.9361 1682.65 43.9361 L1693.11 43.9361 L1693.11 43.2069 Q1693.11 38.0623 1689.7 35.2672 Q1686.34 32.4315 1680.22 32.4315 Q1676.34 32.4315 1672.65 33.3632 Q1668.96 34.295 1665.56 36.1584 L1665.56 29.2718 Q1669.65 27.692 1673.5 26.9223 Q1677.35 26.1121 1680.99 26.1121 Q1690.84 26.1121 1695.7 31.2163 Q1700.56 36.3204 1700.56 46.6907 Z\" fill=\"#000000\" fill-rule=\"evenodd\" fill-opacity=\"1\" /><path clip-path=\"url(#clip010)\" d=\"M 0 0 M1738.23 49.3643 Q1738.23 41.2625 1734.87 36.8065 Q1731.55 32.3505 1725.51 32.3505 Q1719.52 32.3505 1716.16 36.8065 Q1712.83 41.2625 1712.83 49.3643 Q1712.83 57.4256 1716.16 61.8816 Q1719.52 66.3376 1725.51 66.3376 Q1731.55 66.3376 1734.87 61.8816 Q1738.23 57.4256 1738.23 49.3643 M1745.69 66.9452 Q1745.69 78.5308 1740.54 84.1616 Q1735.4 89.8329 1724.78 89.8329 Q1720.85 89.8329 1717.37 89.2252 Q1713.89 88.6581 1710.61 87.4428 L1710.61 80.1917 Q1713.89 81.9741 1717.09 82.8248 Q1720.29 83.6755 1723.61 83.6755 Q1730.94 83.6755 1734.59 79.8271 Q1738.23 76.0193 1738.23 68.282 L1738.23 64.5957 Q1735.92 68.6061 1732.32 70.5911 Q1728.71 72.576 1723.69 72.576 Q1715.35 72.576 1710.24 66.2161 Q1705.14 59.8562 1705.14 49.3643 Q1705.14 38.832 1710.24 32.472 Q1715.35 26.1121 1723.69 26.1121 Q1728.71 26.1121 1732.32 28.0971 Q1735.92 30.082 1738.23 34.0924 L1738.23 27.2059 L1745.69 27.2059 L1745.69 66.9452 Z\" fill=\"#000000\" fill-rule=\"evenodd\" fill-opacity=\"1\" /><path clip-path=\"url(#clip010)\" d=\"M 0 0 M1792.31 48.0275 L1792.31 51.6733 L1758.04 51.6733 Q1758.53 59.3701 1762.66 63.421 Q1766.83 67.4314 1774.25 67.4314 Q1778.54 67.4314 1782.55 66.3781 Q1786.6 65.3249 1790.57 63.2184 L1790.57 70.267 Q1786.56 71.9684 1782.35 72.8596 Q1778.13 73.7508 1773.8 73.7508 Q1762.94 73.7508 1756.58 67.4314 Q1750.26 61.1119 1750.26 50.3365 Q1750.26 39.1965 1756.26 32.6746 Q1762.3 26.1121 1772.5 26.1121 Q1781.66 26.1121 1786.97 32.0264 Q1792.31 37.9003 1792.31 48.0275 M1784.86 45.84 Q1784.78 39.7232 1781.42 36.0774 Q1778.09 32.4315 1772.58 32.4315 Q1766.35 32.4315 1762.58 35.9558 Q1758.85 39.4801 1758.28 45.8805 L1784.86 45.84 Z\" fill=\"#000000\" fill-rule=\"evenodd\" fill-opacity=\"1\" /><polyline clip-path=\"url(#clip012)\" style=\"stroke:#009af9; stroke-width:4; stroke-opacity:1; fill:none\" points=\"\n",
       "  267.837,171.104 672.676,584.53 909.491,645.01 1077.51,679.208 1207.84,761.34 1314.33,773.67 1404.36,837.321 1482.35,892.854 1551.15,893.658 1612.68,950.566 \n",
       "  1668.35,960.232 1719.17,987.198 1765.92,1008.21 1809.2,1029.11 1849.5,1039.32 1887.19,1087.26 1922.6,1088.6 1955.98,1127.67 1987.56,1152.31 2017.52,1163.18 \n",
       "  2046.02,1209.77 2073.19,1208.28 2099.15,1232.93 2124.01,1247.57 2147.85,1258.55 2170.76,1276.89 2192.8,1311.18 2214.04,1330.29 2234.54,1344.47 2254.34,1373.52 \n",
       "  2273.49,1386.08 2292.03,1386.4 \n",
       "  \"/>\n",
       "<polyline clip-path=\"url(#clip012)\" style=\"stroke:#e26f46; stroke-width:4; stroke-opacity:1; fill:none\" points=\"\n",
       "  267.837,160.256 672.676,621.952 909.491,691.903 1077.51,785.66 1207.84,848.856 1314.33,847.664 1404.36,940.061 1482.35,955.173 1551.15,969.541 1612.68,976.109 \n",
       "  1668.35,989.72 1719.17,1037.45 1765.92,1066.01 1809.2,1104.1 1849.5,1124.21 1887.19,1147.03 1922.6,1160.82 1955.98,1154.07 1987.56,1177.37 2017.52,1179.5 \n",
       "  2046.02,1213.95 2073.19,1237.85 2099.15,1266.72 2124.01,1273.87 2147.85,1311.03 2170.76,1321.96 2192.8,1345.73 2214.04,1352.37 2234.54,1370.06 2254.34,1381.04 \n",
       "  2273.49,1372.9 2292.03,1373.9 \n",
       "  \"/>\n",
       "<polyline clip-path=\"url(#clip012)\" style=\"stroke:#3da44d; stroke-width:4; stroke-opacity:1; fill:none\" points=\"\n",
       "  267.837,169.694 672.676,583.989 909.491,635.77 1077.51,668.035 1207.84,750.479 1314.33,757.248 1404.36,812.044 1482.35,838.679 1551.15,817.896 1612.68,855.938 \n",
       "  1668.35,879.881 1719.17,871.974 1765.92,885.642 1809.2,882.243 1849.5,879.952 1887.19,878.16 1922.6,884.445 1955.98,893.782 1987.56,876.373 2017.52,875.896 \n",
       "  2046.02,880.421 2073.19,900.268 2099.15,923.857 2124.01,891.148 2147.85,894.7 2170.76,881.747 2192.8,878 2214.04,884.113 2234.54,877.778 2254.34,879.434 \n",
       "  2273.49,885.853 2292.03,873.256 \n",
       "  \"/>\n",
       "<path clip-path=\"url(#clip010)\" d=\"\n",
       "M1915.84 408.716 L2281.23 408.716 L2281.23 166.796 L1915.84 166.796  Z\n",
       "  \" fill=\"#ffffff\" fill-rule=\"evenodd\" fill-opacity=\"1\"/>\n",
       "<polyline clip-path=\"url(#clip010)\" style=\"stroke:#000000; stroke-width:4; stroke-opacity:1; fill:none\" points=\"\n",
       "  1915.84,408.716 2281.23,408.716 2281.23,166.796 1915.84,166.796 1915.84,408.716 \n",
       "  \"/>\n",
       "<polyline clip-path=\"url(#clip010)\" style=\"stroke:#009af9; stroke-width:4; stroke-opacity:1; fill:none\" points=\"\n",
       "  1939.68,227.276 2082.72,227.276 \n",
       "  \"/>\n",
       "<path clip-path=\"url(#clip010)\" d=\"M 0 0 M2106.56 209.996 L2135.8 209.996 L2135.8 213.931 L2123.53 213.931 L2123.53 244.556 L2118.83 244.556 L2118.83 213.931 L2106.56 213.931 L2106.56 209.996 Z\" fill=\"#000000\" fill-rule=\"evenodd\" fill-opacity=\"1\" /><path clip-path=\"url(#clip010)\" d=\"M 0 0 M2148.32 222.611 Q2147.6 222.195 2146.75 222.01 Q2145.92 221.801 2144.9 221.801 Q2141.29 221.801 2139.34 224.162 Q2137.42 226.5 2137.42 230.898 L2137.42 244.556 L2133.14 244.556 L2133.14 218.63 L2137.42 218.63 L2137.42 222.658 Q2138.76 220.297 2140.92 219.162 Q2143.07 218.005 2146.15 218.005 Q2146.59 218.005 2147.12 218.074 Q2147.65 218.121 2148.3 218.236 L2148.32 222.611 Z\" fill=\"#000000\" fill-rule=\"evenodd\" fill-opacity=\"1\" /><path clip-path=\"url(#clip010)\" d=\"M 0 0 M2152.35 234.324 L2152.35 218.63 L2156.61 218.63 L2156.61 234.162 Q2156.61 237.843 2158.04 239.695 Q2159.48 241.523 2162.35 241.523 Q2165.8 241.523 2167.79 239.324 Q2169.8 237.125 2169.8 233.329 L2169.8 218.63 L2174.06 218.63 L2174.06 244.556 L2169.8 244.556 L2169.8 240.574 Q2168.25 242.935 2166.19 244.093 Q2164.16 245.227 2161.45 245.227 Q2156.98 245.227 2154.66 242.449 Q2152.35 239.671 2152.35 234.324 M2163.07 218.005 L2163.07 218.005 Z\" fill=\"#000000\" fill-rule=\"evenodd\" fill-opacity=\"1\" /><path clip-path=\"url(#clip010)\" d=\"M 0 0 M2200.71 230.528 L2200.71 232.611 L2181.12 232.611 Q2181.4 237.009 2183.76 239.324 Q2186.15 241.616 2190.38 241.616 Q2192.84 241.616 2195.13 241.014 Q2197.44 240.412 2199.71 239.209 L2199.71 243.236 Q2197.42 244.208 2195.01 244.718 Q2192.6 245.227 2190.13 245.227 Q2183.92 245.227 2180.29 241.616 Q2176.68 238.005 2176.68 231.847 Q2176.68 225.482 2180.1 221.755 Q2183.55 218.005 2189.39 218.005 Q2194.62 218.005 2197.65 221.385 Q2200.71 224.741 2200.71 230.528 M2196.45 229.278 Q2196.4 225.783 2194.48 223.699 Q2192.58 221.616 2189.43 221.616 Q2185.87 221.616 2183.72 223.63 Q2181.59 225.644 2181.26 229.301 L2196.45 229.278 Z\" fill=\"#000000\" fill-rule=\"evenodd\" fill-opacity=\"1\" /><polyline clip-path=\"url(#clip010)\" style=\"stroke:#e26f46; stroke-width:4; stroke-opacity:1; fill:none\" points=\"\n",
       "  1939.68,287.756 2082.72,287.756 \n",
       "  \"/>\n",
       "<path clip-path=\"url(#clip010)\" d=\"M 0 0 M2122.95 288.832 Q2124.46 289.341 2125.87 291.008 Q2127.3 292.675 2128.74 295.591 L2133.48 305.036 L2128.46 305.036 L2124.04 296.17 Q2122.33 292.698 2120.71 291.564 Q2119.11 290.429 2116.33 290.429 L2111.24 290.429 L2111.24 305.036 L2106.56 305.036 L2106.56 270.476 L2117.12 270.476 Q2123.04 270.476 2125.96 272.953 Q2128.88 275.429 2128.88 280.429 Q2128.88 283.693 2127.35 285.846 Q2125.85 287.999 2122.95 288.832 M2111.24 274.318 L2111.24 286.587 L2117.12 286.587 Q2120.5 286.587 2122.21 285.036 Q2123.95 283.462 2123.95 280.429 Q2123.95 277.397 2122.21 275.869 Q2120.5 274.318 2117.12 274.318 L2111.24 274.318 Z\" fill=\"#000000\" fill-rule=\"evenodd\" fill-opacity=\"1\" /><path clip-path=\"url(#clip010)\" d=\"M 0 0 M2158 291.008 L2158 293.091 L2138.42 293.091 Q2138.69 297.489 2141.05 299.804 Q2143.44 302.096 2147.67 302.096 Q2150.13 302.096 2152.42 301.494 Q2154.73 300.892 2157 299.689 L2157 303.716 Q2154.71 304.688 2152.3 305.198 Q2149.9 305.707 2147.42 305.707 Q2141.22 305.707 2137.58 302.096 Q2133.97 298.485 2133.97 292.327 Q2133.97 285.962 2137.4 282.235 Q2140.85 278.485 2146.68 278.485 Q2151.91 278.485 2154.94 281.865 Q2158 285.221 2158 291.008 M2153.74 289.758 Q2153.69 286.263 2151.77 284.179 Q2149.87 282.096 2146.73 282.096 Q2143.16 282.096 2141.01 284.11 Q2138.88 286.124 2138.55 289.781 L2153.74 289.758 Z\" fill=\"#000000\" fill-rule=\"evenodd\" fill-opacity=\"1\" /><path clip-path=\"url(#clip010)\" d=\"M 0 0 M2181.12 280.105 L2181.12 284.087 Q2179.32 283.091 2177.49 282.605 Q2175.68 282.096 2173.83 282.096 Q2169.69 282.096 2167.4 284.735 Q2165.1 287.351 2165.1 292.096 Q2165.1 296.841 2167.4 299.48 Q2169.69 302.096 2173.83 302.096 Q2175.68 302.096 2177.49 301.61 Q2179.32 301.101 2181.12 300.105 L2181.12 304.04 Q2179.34 304.874 2177.42 305.29 Q2175.52 305.707 2173.37 305.707 Q2167.51 305.707 2164.06 302.026 Q2160.61 298.346 2160.61 292.096 Q2160.61 285.753 2164.09 282.119 Q2167.58 278.485 2173.65 278.485 Q2175.61 278.485 2177.49 278.902 Q2179.36 279.295 2181.12 280.105 Z\" fill=\"#000000\" fill-rule=\"evenodd\" fill-opacity=\"1\" /><path clip-path=\"url(#clip010)\" d=\"M 0 0 M2195.64 282.096 Q2192.21 282.096 2190.22 284.781 Q2188.23 287.443 2188.23 292.096 Q2188.23 296.749 2190.2 299.434 Q2192.19 302.096 2195.64 302.096 Q2199.04 302.096 2201.03 299.411 Q2203.02 296.726 2203.02 292.096 Q2203.02 287.49 2201.03 284.804 Q2199.04 282.096 2195.64 282.096 M2195.64 278.485 Q2201.19 278.485 2204.36 282.096 Q2207.54 285.707 2207.54 292.096 Q2207.54 298.462 2204.36 302.096 Q2201.19 305.707 2195.64 305.707 Q2190.06 305.707 2186.89 302.096 Q2183.74 298.462 2183.74 292.096 Q2183.74 285.707 2186.89 282.096 Q2190.06 278.485 2195.64 278.485 Z\" fill=\"#000000\" fill-rule=\"evenodd\" fill-opacity=\"1\" /><path clip-path=\"url(#clip010)\" d=\"M 0 0 M2233.55 289.388 L2233.55 305.036 L2229.29 305.036 L2229.29 289.527 Q2229.29 285.846 2227.86 284.017 Q2226.42 282.189 2223.55 282.189 Q2220.1 282.189 2218.11 284.388 Q2216.12 286.587 2216.12 290.383 L2216.12 305.036 L2211.84 305.036 L2211.84 279.11 L2216.12 279.11 L2216.12 283.138 Q2217.65 280.8 2219.71 279.642 Q2221.79 278.485 2224.5 278.485 Q2228.97 278.485 2231.26 281.263 Q2233.55 284.017 2233.55 289.388 Z\" fill=\"#000000\" fill-rule=\"evenodd\" fill-opacity=\"1\" /><polyline clip-path=\"url(#clip010)\" style=\"stroke:#3da44d; stroke-width:4; stroke-opacity:1; fill:none\" points=\"\n",
       "  1939.68,348.236 2082.72,348.236 \n",
       "  \"/>\n",
       "<path clip-path=\"url(#clip010)\" d=\"M 0 0 M2106.56 330.956 L2111.24 330.956 L2111.24 365.516 L2106.56 365.516 L2106.56 330.956 Z\" fill=\"#000000\" fill-rule=\"evenodd\" fill-opacity=\"1\" /><path clip-path=\"url(#clip010)\" d=\"M 0 0 M2137.26 349.868 L2137.26 365.516 L2133 365.516 L2133 350.007 Q2133 346.326 2131.56 344.497 Q2130.13 342.669 2127.26 342.669 Q2123.81 342.669 2121.82 344.868 Q2119.83 347.067 2119.83 350.863 L2119.83 365.516 L2115.54 365.516 L2115.54 339.59 L2119.83 339.59 L2119.83 343.618 Q2121.35 341.28 2123.42 340.122 Q2125.5 338.965 2128.21 338.965 Q2132.67 338.965 2134.97 341.743 Q2137.26 344.497 2137.26 349.868 Z\" fill=\"#000000\" fill-rule=\"evenodd\" fill-opacity=\"1\" /><path clip-path=\"url(#clip010)\" d=\"M 0 0 M2141.73 339.59 L2145.98 339.59 L2145.98 365.516 L2141.73 365.516 L2141.73 339.59 M2141.73 329.497 L2145.98 329.497 L2145.98 334.891 L2141.73 334.891 L2141.73 329.497 Z\" fill=\"#000000\" fill-rule=\"evenodd\" fill-opacity=\"1\" /><path clip-path=\"url(#clip010)\" d=\"M 0 0 M2154.66 332.229 L2154.66 339.59 L2163.44 339.59 L2163.44 342.9 L2154.66 342.9 L2154.66 356.974 Q2154.66 360.145 2155.52 361.048 Q2156.4 361.951 2159.06 361.951 L2163.44 361.951 L2163.44 365.516 L2159.06 365.516 Q2154.13 365.516 2152.26 363.687 Q2150.38 361.835 2150.38 356.974 L2150.38 342.9 L2147.26 342.9 L2147.26 339.59 L2150.38 339.59 L2150.38 332.229 L2154.66 332.229 Z\" fill=\"#000000\" fill-rule=\"evenodd\" fill-opacity=\"1\" /></svg>\n"
      ]
     },
     "execution_count": 24,
     "metadata": {},
     "output_type": "execute_result"
    }
   ],
   "source": [
    "kbins= convert(Array{Float64}, collect(1:32))\n",
    "true_ps = calc_1dps(apodizer(gttarget[\"true_img\"]), kbins)\n",
    "recon_ps = calc_1dps(apodizer(gttarget[\"recon\"]), kbins)\n",
    "init_ps = calc_1dps(apodizer(gttarget[\"init\"]), kbins)\n",
    "p = plot(log.(kbins), log.(true_ps), label=\"True\")\n",
    "plot!(log.(kbins), log.(recon_ps), label=\"Recon\")\n",
    "plot!(log.(kbins), log.(init_ps), label=\"Init\")\n",
    "plot!(title=\"FullCov Noiso: P(k) of Image\")\n",
    "xlabel!(\"lnk\")\n",
    "ylabel!(\"lnP(k)\")"
   ]
  },
  {
   "cell_type": "code",
   "execution_count": 25,
   "metadata": {},
   "outputs": [
    {
     "ename": "LoadError",
     "evalue": "ArgumentError: No file exists at given path: ../../StandardizedExp/Nx64/noisy_stdtrue/SFDTargSFDCov/reg_apd_noiso/LogCoeff/100_0-01_full_triu.jld2",
     "output_type": "error",
     "traceback": [
      "ArgumentError: No file exists at given path: ../../StandardizedExp/Nx64/noisy_stdtrue/SFDTargSFDCov/reg_apd_noiso/LogCoeff/100_0-01_full_triu.jld2",
      "",
      "Stacktrace:",
      " [1] load(::FileIO.Formatted; options::Base.Iterators.Pairs{Union{},Union{},Tuple{},NamedTuple{(),Tuple{}}}) at /home/nayantara/.julia/packages/FileIO/TyKdX/src/loadsave.jl:192",
      " [2] load at /home/nayantara/.julia/packages/FileIO/TyKdX/src/loadsave.jl:187 [inlined]",
      " [3] #load#16 at /home/nayantara/.julia/packages/FileIO/TyKdX/src/loadsave.jl:136 [inlined]",
      " [4] load(::String) at /home/nayantara/.julia/packages/FileIO/TyKdX/src/loadsave.jl:136",
      " [5] top-level scope at In[25]:2",
      " [6] include_string(::Function, ::Module, ::String, ::String) at ./loading.jl:1091"
     ]
    }
   ],
   "source": [
    "fname = \"../../StandardizedExp/Nx64/noisy_stdtrue/SFDTargSFDCov/reg_apd_noiso/LogCoeff/100_0-01_full_triu\"\n",
    "gttarget = load(fname*\".jld2\")\n",
    "filter_hash = gttarget[\"fhash\"]\n",
    "dhc_args = Dict(:doS2=>false, :doS20=>true, :apodize=>true, :iso=>false)\n",
    "\n",
    "altrue = apodizer(gttarget[\"true_img\"])\n",
    "alinit = apodizer(gttarget[\"init\"])\n",
    "alrecon = apodizer(gttarget[\"recon\"])\n",
    "\n",
    "coeff_mask = gttarget[\"coeff_mask\"]\n",
    "s_true = log.(DHC_compute_wrapper(gttarget[\"true_img\"], filter_hash, norm=false; dhc_args...))\n",
    "s_init = log.(DHC_compute_wrapper(gttarget[\"init\"], filter_hash, norm=false; dhc_args...))\n",
    "s_recon = log.(DHC_compute_wrapper(gttarget[\"recon\"], filter_hash, norm=false; dhc_args...))\n",
    "s_smooth = log.(DHC_compute_wrapper(imfilter(gttarget[\"init\"], Kernel.gaussian(0.8)), filter_hash, norm=false; dhc_args...))\n",
    "function J_hashindices(J_values, fhash)\n",
    "    jindlist = []\n",
    "    for jval in J_values\n",
    "        push!(jindlist, findall(fhash[\"J_L\"][:, 1].==jval))\n",
    "    end\n",
    "    return vcat(jindlist'...)\n",
    "end\n",
    "\n",
    "function J_S1indices(J_values, fhash)\n",
    "    #Assumes this is applied to an object of length 2+Nf+Nf^2 or 2+Nf\n",
    "    return J_hashindices(J_values, fhash) .+ 2\n",
    "end\n"
   ]
  },
  {
   "cell_type": "code",
   "execution_count": 26,
   "metadata": {},
   "outputs": [
    {
     "ename": "LoadError",
     "evalue": "UndefVarError: J_hashindices not defined",
     "output_type": "error",
     "traceback": [
      "UndefVarError: J_hashindices not defined",
      "",
      "Stacktrace:",
      " [1] top-level scope at In[26]:1",
      " [2] include_string(::Function, ::Module, ::String, ::String) at ./loading.jl:1091"
     ]
    }
   ],
   "source": [
    "Jfiltidx = J_hashindices([0, 1, 2, 3], filter_hash)\n",
    "JS1ind = J_S1indices([0, 1, 2, 3], filter_hash)"
   ]
  },
  {
   "cell_type": "code",
   "execution_count": 27,
   "metadata": {},
   "outputs": [
    {
     "ename": "LoadError",
     "evalue": "UndefVarError: JS1ind not defined",
     "output_type": "error",
     "traceback": [
      "UndefVarError: JS1ind not defined",
      "",
      "Stacktrace:",
      " [1] top-level scope at In[27]:1",
      " [2] include_string(::Function, ::Module, ::String, ::String) at ./loading.jl:1091"
     ]
    }
   ],
   "source": [
    "struesel = s_true[JS1ind]\n",
    "sinitsel = s_init[JS1ind]\n",
    "sreconsel = s_recon[JS1ind]\n",
    "ssmoothsel = s_smooth[JS1ind]"
   ]
  },
  {
   "cell_type": "code",
   "execution_count": 28,
   "metadata": {},
   "outputs": [
    {
     "name": "stdout",
     "output_type": "stream",
     "text": [
      "10000 slices\n"
     ]
    },
    {
     "data": {
      "text/plain": [
       "10000×1192 Array{Float64,2}:\n",
       " 0.0361376  9.04943e-6   0.000514045  0.00113941   …  0.0313476   0.000457062\n",
       " 0.289418   0.00257863   0.0574735    0.274282        1.69589     0.0211946\n",
       " 0.0506923  5.60371e-5   0.00152274   0.00294826      0.0743567   0.00169278\n",
       " 0.0341559  2.58829e-5   0.000478117  0.00128632      0.0303609   0.000482999\n",
       " 0.170677   0.000401088  0.0147206    0.0210937       0.790839    0.0137406\n",
       " 0.120943   0.000501101  0.00548136   0.0124099    …  0.336582    0.00456656\n",
       " 0.063558   8.47624e-5   0.00169041   0.00435979      0.0845048   0.0010539\n",
       " 0.192367   0.00153715   0.0379013    0.11789         1.07505     0.019009\n",
       " 0.0707273  9.83063e-5   0.00226754   0.01116         0.128587    0.00240479\n",
       " 0.125574   0.000264443  0.00531572   0.0112585       0.296421    0.00336588\n",
       " 0.0656378  0.000475194  0.00244057   0.0096468    …  0.139068    0.0030072\n",
       " 0.0421977  0.000125084  0.000934353  0.00418621      0.0541982   0.000994211\n",
       " 0.0386173  3.68446e-5   0.000589672  0.00215856      0.0424352   0.000760151\n",
       " ⋮                                                 ⋱  ⋮           \n",
       " 0.0913825  0.000980937  0.0111643    0.0485092       0.28949     0.00559815\n",
       " 0.079774   0.000227928  0.00833776   0.021321        0.185414    0.00335206\n",
       " 0.0782127  0.000728682  0.00922805   0.0144899    …  0.314639    0.0105011\n",
       " 0.110949   0.000846549  0.00626459   0.0169582       0.307039    0.00446349\n",
       " 0.043681   1.6254e-5    0.000836349  0.00161293      0.043122    0.000631514\n",
       " 0.0103436  2.38657e-6   9.69515e-5   0.000116568     0.00646926  0.000239955\n",
       " 0.0218275  9.74122e-6   0.000222402  0.000378203     0.0176873   0.000420582\n",
       " 0.108256   0.000496186  0.00185441   0.00613624   …  0.228215    0.002638\n",
       " 0.187854   0.0017452    0.0275017    0.0731511       1.17202     0.026056\n",
       " 0.0574965  0.000614392  0.0042137    0.00889574      0.149496    0.00433381\n",
       " 0.0564482  0.000115995  0.00095738   0.00299393      0.0698125   0.000906042\n",
       " 0.0158288  8.42487e-6   0.00014189   0.000246146     0.010448    0.000266806"
      ]
     },
     "execution_count": 28,
     "metadata": {},
     "output_type": "execute_result"
    }
   ],
   "source": [
    "sfdall = readsfd_fromsrc(\"../../data/dust10000.fits\", 64, logbool=false)\n",
    "dbn = get_dbn_coeffs(sfdall, filter_hash, dhc_args, coeff_mask=nothing)"
   ]
  },
  {
   "cell_type": "code",
   "execution_count": 29,
   "metadata": {},
   "outputs": [
    {
     "data": {
      "text/plain": [
       "10000×1192 Array{Float64,2}:\n",
       " -3.32042  -11.6128   -7.5732   -6.77724  …  -7.56084  -3.46262    -7.69069\n",
       " -1.23988   -5.9605   -2.85643  -1.2936      -3.01588   0.528205   -3.85401\n",
       " -2.98198   -9.7895   -6.48725  -5.82654     -5.85918  -2.59888    -6.38139\n",
       " -3.37682  -10.5619   -7.64565  -6.65597     -6.86559  -3.4946     -7.6355\n",
       " -1.76798   -7.82133  -4.21851  -3.85878     -4.24888  -0.234661   -4.2874\n",
       " -2.11243   -7.5987   -5.2064   -4.38926  …  -4.68458  -1.08891    -5.389\n",
       " -2.7558    -9.37566  -6.38278  -5.43533     -6.06498  -2.47095    -6.85526\n",
       " -1.64835   -6.47782  -3.27277  -2.138       -3.1035    0.0723635  -3.96284\n",
       " -2.64892   -9.22742  -6.08906  -4.49542     -5.73363  -2.05115    -6.03029\n",
       " -2.07486   -8.23788  -5.23709  -4.48663     -5.22627  -1.21597    -5.69407\n",
       " -2.7236    -7.65179  -6.01552  -4.64113  …  -4.57937  -1.97279    -5.80675\n",
       " -3.16539   -8.98653  -6.97566  -5.47596     -6.49233  -2.91511    -6.91356\n",
       " -3.25405  -10.2088   -7.43594  -6.13831     -7.29636  -3.15978    -7.18199\n",
       "  ⋮                                       ⋱             ⋮          \n",
       " -2.3927    -6.927    -4.49503  -3.026       -4.33225  -1.23963    -5.18532\n",
       " -2.52856   -8.38648  -4.78696  -3.84806     -4.51468  -1.68517    -5.69818\n",
       " -2.54832   -7.22427  -4.68551  -4.2343   …  -4.37022  -1.15633    -4.55628\n",
       " -2.19869   -7.07434  -5.07284  -4.077       -4.10515  -1.18078    -5.41182\n",
       " -3.13084  -11.0272   -7.08646  -6.4297      -7.14648  -3.14372    -7.36739\n",
       " -4.57139  -12.9457   -9.2413   -9.05704     -9.00862  -5.04069    -8.33506\n",
       " -3.82459  -11.5391   -8.41102  -7.88008     -7.31714  -4.03491    -7.77387\n",
       " -2.22325   -7.60856  -6.29019  -5.09354  …  -5.3251   -1.47747    -5.93774\n",
       " -1.67209   -6.35089  -3.59351  -2.61523     -2.99394   0.158731   -3.64751\n",
       " -2.85603   -7.39488  -5.46941  -4.72218     -4.14475  -1.90048    -5.44131\n",
       " -2.87443   -9.06196  -6.95131  -5.81117     -7.00146  -2.66194    -7.00642\n",
       " -4.14593  -11.6843   -8.86046  -8.30959     -8.13449  -4.56134    -8.22899"
      ]
     },
     "execution_count": 29,
     "metadata": {},
     "output_type": "execute_result"
    }
   ],
   "source": [
    "logdbn = log.(dbn)"
   ]
  },
  {
   "cell_type": "code",
   "execution_count": 30,
   "metadata": {},
   "outputs": [
    {
     "ename": "LoadError",
     "evalue": "UndefVarError: JS1ind not defined",
     "output_type": "error",
     "traceback": [
      "UndefVarError: JS1ind not defined",
      "",
      "Stacktrace:",
      " [1] top-level scope at In[30]:2",
      " [2] include_string(::Function, ::Module, ::String, ::String) at ./loading.jl:1091"
     ]
    }
   ],
   "source": [
    "dbnmean = mean(logdbn, dims=1)[:]\n",
    "meansel = dbnmean[JS1ind]"
   ]
  },
  {
   "cell_type": "code",
   "execution_count": 31,
   "metadata": {},
   "outputs": [
    {
     "ename": "LoadError",
     "evalue": "UndefVarError: sinitsel not defined",
     "output_type": "error",
     "traceback": [
      "UndefVarError: sinitsel not defined",
      "",
      "Stacktrace:",
      " [1] top-level scope at In[31]:1",
      " [2] include_string(::Function, ::Module, ::String, ::String) at ./loading.jl:1091"
     ]
    }
   ],
   "source": [
    "p = plot(heatmap((sinitsel .- struesel)./abs.(struesel), title=\"Frac Res: Init-True\"),\n",
    "heatmap((sreconsel .- struesel)./abs.(struesel), title=\"Frac Res: Recon-True\"),\n",
    "heatmap((meansel .- struesel)./abs.(struesel), title=\"Frac Res: SFDTargMean-True\"),\n",
    "heatmap((sreconsel .- meansel)./abs.(struesel), title=\"Frac Res: Recon-SFDTargMean /True\"))"
   ]
  },
  {
   "cell_type": "markdown",
   "metadata": {},
   "source": [
    "**Z scores**"
   ]
  },
  {
   "cell_type": "code",
   "execution_count": 32,
   "metadata": {},
   "outputs": [
    {
     "data": {
      "text/plain": [
       "1×1192 Array{Float64,2}:\n",
       " 0.949927  2.30556  2.07413  2.19625  …  2.00988  2.03672  1.8015  1.85022"
      ]
     },
     "execution_count": 32,
     "metadata": {},
     "output_type": "execute_result"
    }
   ],
   "source": [
    "siglog = std(logdbn, dims=1)"
   ]
  },
  {
   "cell_type": "code",
   "execution_count": 33,
   "metadata": {},
   "outputs": [
    {
     "ename": "LoadError",
     "evalue": "UndefVarError: JS1ind not defined",
     "output_type": "error",
     "traceback": [
      "UndefVarError: JS1ind not defined",
      "",
      "Stacktrace:",
      " [1] top-level scope at In[33]:7",
      " [2] include_string(::Function, ::Module, ::String, ::String) at ./loading.jl:1091"
     ]
    }
   ],
   "source": [
    "using StatsBase\n",
    "function distribution_percentiles(dbn, idx, perc)\n",
    "    idxperc = zeros(size(idx))\n",
    "    idxperc .= (x-> percentile(dbn[:, x], perc)).(idx)\n",
    "    return idxperc\n",
    "end\n",
    "sfdmed = distribution_percentiles(logdbn, JS1ind, 50)"
   ]
  },
  {
   "cell_type": "code",
   "execution_count": 34,
   "metadata": {},
   "outputs": [
    {
     "ename": "LoadError",
     "evalue": "UndefVarError: JS1ind not defined",
     "output_type": "error",
     "traceback": [
      "UndefVarError: JS1ind not defined",
      "",
      "Stacktrace:",
      " [1] top-level scope at In[34]:1",
      " [2] include_string(::Function, ::Module, ::String, ::String) at ./loading.jl:1091"
     ]
    }
   ],
   "source": [
    "sigsel = (siglog[:])[JS1ind]"
   ]
  },
  {
   "cell_type": "code",
   "execution_count": 35,
   "metadata": {},
   "outputs": [
    {
     "ename": "LoadError",
     "evalue": "UndefVarError: sinitsel not defined",
     "output_type": "error",
     "traceback": [
      "UndefVarError: sinitsel not defined",
      "",
      "Stacktrace:",
      " [1] top-level scope at In[35]:1",
      " [2] include_string(::Function, ::Module, ::String, ::String) at ./loading.jl:1091"
     ]
    }
   ],
   "source": [
    "p = plot(heatmap((sinitsel .- struesel)./sigsel, title=\"Z Score: Init-True\"),\n",
    "heatmap((ssmoothsel .- struesel)./sigsel, title=\"Z Score: SmoothInit-True\"),\n",
    "heatmap((sreconsel .- struesel)./sigsel, title=\"Z Score: Recon-True\"),\n",
    "heatmap((meansel .- struesel)./sigsel, title=\"Z Score: SFDTargMean-True\"),\n",
    "heatmap((sreconsel .- meansel)./sigsel, title=\"Z Score: Recon-SFDTargMean\"),\n",
    "heatmap((sreconsel .- meansel)./sigsel, title=\"Z Score: Recon-SFDTargMean\"), size=(900, 600))"
   ]
  },
  {
   "cell_type": "code",
   "execution_count": 36,
   "metadata": {},
   "outputs": [
    {
     "ename": "LoadError",
     "evalue": "UndefVarError: sinitsel not defined",
     "output_type": "error",
     "traceback": [
      "UndefVarError: sinitsel not defined",
      "",
      "Stacktrace:",
      " [1] top-level scope at In[36]:3",
      " [2] include_string(::Function, ::Module, ::String, ::String) at ./loading.jl:1091"
     ]
    }
   ],
   "source": [
    "clims=(-1.0, 1.0)\n",
    "cg = cgrad([:blue, :white, :red])\n",
    "p = plot(heatmap((sinitsel .- struesel)./sigsel, title=\"Z Score: Init-True\", clims=clims, c=cg),\n",
    "heatmap((ssmoothsel .- struesel)./sigsel, title=\"Z Score: SmoothInit-True\", clims=clims, c=cg),\n",
    "heatmap((sreconsel .- struesel)./sigsel, title=\"Z Score: Recon-True\", clims=clims, c=cg),\n",
    "heatmap((meansel .- struesel)./sigsel, title=\"Z Score: SFDTargMean-True\", clims=clims, c=cg),\n",
    "heatmap((sreconsel .- meansel)./sigsel, title=\"Z Score: Recon-SFDTargMean\", clims=clims, c=cg),\n",
    "heatmap((sfdmed .- struesel)./sigsel, title=\"Z Score: SFDTargMedian - True\", clims=clims, c=cg), size=(900, 600))"
   ]
  },
  {
   "cell_type": "code",
   "execution_count": 37,
   "metadata": {},
   "outputs": [
    {
     "ename": "LoadError",
     "evalue": "UndefVarError: struesel not defined",
     "output_type": "error",
     "traceback": [
      "UndefVarError: struesel not defined",
      "",
      "Stacktrace:",
      " [1] top-level scope at In[37]:3",
      " [2] include_string(::Function, ::Module, ::String, ::String) at ./loading.jl:1091"
     ]
    }
   ],
   "source": [
    "clims=(-9.0, -4.0)\n",
    "cg = cgrad([:blue, :white, :red])\n",
    "p = plot(heatmap(struesel, title=\"True\", clims=clims, c=cg),\n",
    "heatmap(sinitsel, title=\"Init\", clims=clims, c=cg),\n",
    "heatmap(ssmoothsel, title=\"SmoothInit\", clims=clims, c=cg),\n",
    "heatmap(sreconsel, title=\"Recon\", clims=clims, c=cg),\n",
    "heatmap(meansel, title=\"SFDTargMean\", clims=clims, c=cg),\n",
    "heatmap(sfdmed, title=\"SFDTargMedian\", clims=clims, c=cg), size=(900, 600))"
   ]
  },
  {
   "cell_type": "markdown",
   "metadata": {},
   "source": [
    "### Example of an image where log coeffs do NOT work well"
   ]
  },
  {
   "cell_type": "code",
   "execution_count": 38,
   "metadata": {},
   "outputs": [
    {
     "name": "stdout",
     "output_type": "stream",
     "text": [
      "True303.96004607560695\n",
      "0.000663804345057021\n",
      "Init396.16639104998467\n",
      "0.0\n",
      "Recon7.349865540909647\n",
      "0.001610416378724573\n"
     ]
    }
   ],
   "source": [
    "##Case where this prescription does NOT work well\n",
    "fname = \"../../StandardizedExp/Nx64/noisy_stdtrue/SFDTargSFDCov/reg_apd_noiso/LogCoeff/100_0-01_full_triu(1)\"\n",
    "gttarget = load(fname*\".jld2\")\n",
    "filter_hash = gttarget[\"fhash\"]\n",
    "s_targ_mean, s_targ_invcov = gttarget[\"dict\"][\"fs_targ_mean\"], gttarget[\"dict\"][\"fs_invcov\"]\n",
    "dhc_args = Dict(:doS2=>false, :doS20=>true, :apodize=>true, :iso=>false)\n",
    "\n",
    "altrue = apodizer(gttarget[\"true_img\"])\n",
    "alinit = apodizer(gttarget[\"init\"])\n",
    "alrecon = apodizer(gttarget[\"recon\"])\n",
    "\n",
    "coeff_mask = gttarget[\"coeff_mask\"]\n",
    "s_true = log.(DHC_compute_wrapper(gttarget[\"true_img\"], filter_hash, norm=false; dhc_args...)[coeff_mask])\n",
    "s_init = log.(DHC_compute_wrapper(gttarget[\"init\"], filter_hash, norm=false; dhc_args...)[coeff_mask])\n",
    "s_recon = log.(DHC_compute_wrapper(gttarget[\"recon\"], filter_hash, norm=false; dhc_args...)[coeff_mask])\n",
    "s_smooth = log.(DHC_compute_wrapper(imfilter(gttarget[\"init\"], Kernel.gaussian(0.8)), filter_hash, norm=false; dhc_args...)[coeff_mask])\n",
    "ltruecheck = ( 0.5 .* (s_true - s_targ_mean)' * s_targ_invcov * (s_true - s_targ_mean))[1]\n",
    "l2true = 0.5*gttarget[\"dict\"][\"lambda\"]*sum((alinit - altrue).^2)\n",
    "println(\"True\", ltruecheck)\n",
    "println(l2true)\n",
    "\n",
    "l1init = ( 0.5 .* (s_init - s_targ_mean)' * s_targ_invcov * (s_init - s_targ_mean))[1]\n",
    "l2init = 0.5*gttarget[\"dict\"][\"lambda\"]*sum((alinit - alinit).^2)\n",
    "println(\"Init\", l1init)\n",
    "println(l2init)\n",
    "\n",
    "l1recon = ( 0.5 .* (s_recon - s_targ_mean)' * s_targ_invcov * (s_recon - s_targ_mean))[1]\n",
    "l2recon = 0.5*gttarget[\"dict\"][\"lambda\"]*sum((alrecon - alinit).^2)\n",
    "println(\"Recon\", l1recon)\n",
    "println(l2recon)\n"
   ]
  },
  {
   "cell_type": "code",
   "execution_count": 39,
   "metadata": {},
   "outputs": [
    {
     "data": {
      "image/svg+xml": [
       "<?xml version=\"1.0\" encoding=\"utf-8\"?>\n",
       "<svg xmlns=\"http://www.w3.org/2000/svg\" xmlns:xlink=\"http://www.w3.org/1999/xlink\" width=\"600\" height=\"400\" viewBox=\"0 0 2400 1600\">\n",
       "<defs>\n",
       "  <clipPath id=\"clip630\">\n",
       "    <rect x=\"0\" y=\"0\" width=\"2400\" height=\"1600\"/>\n",
       "  </clipPath>\n",
       "</defs>\n",
       "<path clip-path=\"url(#clip630)\" d=\"\n",
       "M0 1600 L2400 1600 L2400 0 L0 0  Z\n",
       "  \" fill=\"#ffffff\" fill-rule=\"evenodd\" fill-opacity=\"1\"/>\n",
       "<defs>\n",
       "  <clipPath id=\"clip631\">\n",
       "    <rect x=\"480\" y=\"0\" width=\"1681\" height=\"1600\"/>\n",
       "  </clipPath>\n",
       "</defs>\n",
       "<path clip-path=\"url(#clip630)\" d=\"\n",
       "M207.112 1423.18 L2352.76 1423.18 L2352.76 123.472 L207.112 123.472  Z\n",
       "  \" fill=\"#ffffff\" fill-rule=\"evenodd\" fill-opacity=\"1\"/>\n",
       "<defs>\n",
       "  <clipPath id=\"clip632\">\n",
       "    <rect x=\"207\" y=\"123\" width=\"2147\" height=\"1301\"/>\n",
       "  </clipPath>\n",
       "</defs>\n",
       "<polyline clip-path=\"url(#clip632)\" style=\"stroke:#000000; stroke-width:2; stroke-opacity:0.1; fill:none\" points=\"\n",
       "  267.837,1423.18 267.837,123.472 \n",
       "  \"/>\n",
       "<polyline clip-path=\"url(#clip632)\" style=\"stroke:#000000; stroke-width:2; stroke-opacity:0.1; fill:none\" points=\"\n",
       "  851.896,1423.18 851.896,123.472 \n",
       "  \"/>\n",
       "<polyline clip-path=\"url(#clip632)\" style=\"stroke:#000000; stroke-width:2; stroke-opacity:0.1; fill:none\" points=\"\n",
       "  1435.95,1423.18 1435.95,123.472 \n",
       "  \"/>\n",
       "<polyline clip-path=\"url(#clip632)\" style=\"stroke:#000000; stroke-width:2; stroke-opacity:0.1; fill:none\" points=\"\n",
       "  2020.01,1423.18 2020.01,123.472 \n",
       "  \"/>\n",
       "<polyline clip-path=\"url(#clip630)\" style=\"stroke:#000000; stroke-width:4; stroke-opacity:1; fill:none\" points=\"\n",
       "  207.112,1423.18 2352.76,1423.18 \n",
       "  \"/>\n",
       "<polyline clip-path=\"url(#clip630)\" style=\"stroke:#000000; stroke-width:4; stroke-opacity:1; fill:none\" points=\"\n",
       "  267.837,1423.18 267.837,1407.58 \n",
       "  \"/>\n",
       "<polyline clip-path=\"url(#clip630)\" style=\"stroke:#000000; stroke-width:4; stroke-opacity:1; fill:none\" points=\"\n",
       "  851.896,1423.18 851.896,1407.58 \n",
       "  \"/>\n",
       "<polyline clip-path=\"url(#clip630)\" style=\"stroke:#000000; stroke-width:4; stroke-opacity:1; fill:none\" points=\"\n",
       "  1435.95,1423.18 1435.95,1407.58 \n",
       "  \"/>\n",
       "<polyline clip-path=\"url(#clip630)\" style=\"stroke:#000000; stroke-width:4; stroke-opacity:1; fill:none\" points=\"\n",
       "  2020.01,1423.18 2020.01,1407.58 \n",
       "  \"/>\n",
       "<path clip-path=\"url(#clip630)\" d=\"M 0 0 M267.837 1452.37 Q264.226 1452.37 262.398 1455.94 Q260.592 1459.48 260.592 1466.61 Q260.592 1473.71 262.398 1477.28 Q264.226 1480.82 267.837 1480.82 Q271.472 1480.82 273.277 1477.28 Q275.106 1473.71 275.106 1466.61 Q275.106 1459.48 273.277 1455.94 Q271.472 1452.37 267.837 1452.37 M267.837 1448.67 Q273.648 1448.67 276.703 1453.27 Q279.782 1457.86 279.782 1466.61 Q279.782 1475.33 276.703 1479.94 Q273.648 1484.52 267.837 1484.52 Q262.027 1484.52 258.949 1479.94 Q255.893 1475.33 255.893 1466.61 Q255.893 1457.86 258.949 1453.27 Q262.027 1448.67 267.837 1448.67 Z\" fill=\"#000000\" fill-rule=\"evenodd\" fill-opacity=\"1\" /><path clip-path=\"url(#clip630)\" d=\"M 0 0 M842.278 1479.92 L849.917 1479.92 L849.917 1453.55 L841.607 1455.22 L841.607 1450.96 L849.871 1449.29 L854.546 1449.29 L854.546 1479.92 L862.185 1479.92 L862.185 1483.85 L842.278 1483.85 L842.278 1479.92 Z\" fill=\"#000000\" fill-rule=\"evenodd\" fill-opacity=\"1\" /><path clip-path=\"url(#clip630)\" d=\"M 0 0 M1430.61 1479.92 L1446.93 1479.92 L1446.93 1483.85 L1424.98 1483.85 L1424.98 1479.92 Q1427.64 1477.16 1432.23 1472.53 Q1436.83 1467.88 1438.01 1466.54 Q1440.26 1464.01 1441.14 1462.28 Q1442.04 1460.52 1442.04 1458.83 Q1442.04 1456.07 1440.1 1454.34 Q1438.18 1452.6 1435.07 1452.6 Q1432.88 1452.6 1430.42 1453.37 Q1427.99 1454.13 1425.21 1455.68 L1425.21 1450.96 Q1428.04 1449.82 1430.49 1449.25 Q1432.95 1448.67 1434.98 1448.67 Q1440.35 1448.67 1443.55 1451.35 Q1446.74 1454.04 1446.74 1458.53 Q1446.74 1460.66 1445.93 1462.58 Q1445.14 1464.48 1443.04 1467.07 Q1442.46 1467.74 1439.36 1470.96 Q1436.26 1474.15 1430.61 1479.92 Z\" fill=\"#000000\" fill-rule=\"evenodd\" fill-opacity=\"1\" /><path clip-path=\"url(#clip630)\" d=\"M 0 0 M2024.26 1465.22 Q2027.62 1465.94 2029.49 1468.2 Q2031.39 1470.47 2031.39 1473.81 Q2031.39 1478.92 2027.87 1481.72 Q2024.35 1484.52 2017.87 1484.52 Q2015.7 1484.52 2013.38 1484.08 Q2011.09 1483.67 2008.64 1482.81 L2008.64 1478.3 Q2010.58 1479.43 2012.9 1480.01 Q2015.21 1480.59 2017.73 1480.59 Q2022.13 1480.59 2024.42 1478.85 Q2026.74 1477.12 2026.74 1473.81 Q2026.74 1470.75 2024.58 1469.04 Q2022.46 1467.3 2018.64 1467.3 L2014.61 1467.3 L2014.61 1463.46 L2018.82 1463.46 Q2022.27 1463.46 2024.1 1462.09 Q2025.93 1460.7 2025.93 1458.11 Q2025.93 1455.45 2024.03 1454.04 Q2022.15 1452.6 2018.64 1452.6 Q2016.71 1452.6 2014.52 1453.02 Q2012.32 1453.44 2009.68 1454.31 L2009.68 1450.15 Q2012.34 1449.41 2014.65 1449.04 Q2016.99 1448.67 2019.05 1448.67 Q2024.38 1448.67 2027.48 1451.1 Q2030.58 1453.5 2030.58 1457.63 Q2030.58 1460.5 2028.94 1462.49 Q2027.29 1464.45 2024.26 1465.22 Z\" fill=\"#000000\" fill-rule=\"evenodd\" fill-opacity=\"1\" /><path clip-path=\"url(#clip630)\" d=\"M 0 0 M1240.34 1518.52 L1246.2 1518.52 L1246.2 1568.04 L1240.34 1568.04 L1240.34 1518.52 Z\" fill=\"#000000\" fill-rule=\"evenodd\" fill-opacity=\"1\" /><path clip-path=\"url(#clip630)\" d=\"M 0 0 M1281.97 1546.53 L1281.97 1568.04 L1276.11 1568.04 L1276.11 1546.72 Q1276.11 1541.66 1274.14 1539.14 Q1272.17 1536.63 1268.22 1536.63 Q1263.48 1536.63 1260.74 1539.65 Q1258 1542.68 1258 1547.9 L1258 1568.04 L1252.12 1568.04 L1252.12 1532.4 L1258 1532.4 L1258 1537.93 Q1260.1 1534.72 1262.94 1533.13 Q1265.8 1531.54 1269.53 1531.54 Q1275.67 1531.54 1278.82 1535.36 Q1281.97 1539.14 1281.97 1546.53 Z\" fill=\"#000000\" fill-rule=\"evenodd\" fill-opacity=\"1\" /><path clip-path=\"url(#clip630)\" d=\"M 0 0 M1287.89 1518.52 L1293.78 1518.52 L1293.78 1547.77 L1311.25 1532.4 L1318.73 1532.4 L1299.83 1549.07 L1319.53 1568.04 L1311.89 1568.04 L1293.78 1550.63 L1293.78 1568.04 L1287.89 1568.04 L1287.89 1518.52 Z\" fill=\"#000000\" fill-rule=\"evenodd\" fill-opacity=\"1\" /><polyline clip-path=\"url(#clip632)\" style=\"stroke:#000000; stroke-width:2; stroke-opacity:0.1; fill:none\" points=\"\n",
       "  207.112,1245.82 2352.76,1245.82 \n",
       "  \"/>\n",
       "<polyline clip-path=\"url(#clip632)\" style=\"stroke:#000000; stroke-width:2; stroke-opacity:0.1; fill:none\" points=\"\n",
       "  207.112,1019.85 2352.76,1019.85 \n",
       "  \"/>\n",
       "<polyline clip-path=\"url(#clip632)\" style=\"stroke:#000000; stroke-width:2; stroke-opacity:0.1; fill:none\" points=\"\n",
       "  207.112,793.882 2352.76,793.882 \n",
       "  \"/>\n",
       "<polyline clip-path=\"url(#clip632)\" style=\"stroke:#000000; stroke-width:2; stroke-opacity:0.1; fill:none\" points=\"\n",
       "  207.112,567.915 2352.76,567.915 \n",
       "  \"/>\n",
       "<polyline clip-path=\"url(#clip632)\" style=\"stroke:#000000; stroke-width:2; stroke-opacity:0.1; fill:none\" points=\"\n",
       "  207.112,341.948 2352.76,341.948 \n",
       "  \"/>\n",
       "<polyline clip-path=\"url(#clip630)\" style=\"stroke:#000000; stroke-width:4; stroke-opacity:1; fill:none\" points=\"\n",
       "  207.112,1423.18 207.112,123.472 \n",
       "  \"/>\n",
       "<polyline clip-path=\"url(#clip630)\" style=\"stroke:#000000; stroke-width:4; stroke-opacity:1; fill:none\" points=\"\n",
       "  207.112,1245.82 232.859,1245.82 \n",
       "  \"/>\n",
       "<polyline clip-path=\"url(#clip630)\" style=\"stroke:#000000; stroke-width:4; stroke-opacity:1; fill:none\" points=\"\n",
       "  207.112,1019.85 232.859,1019.85 \n",
       "  \"/>\n",
       "<polyline clip-path=\"url(#clip630)\" style=\"stroke:#000000; stroke-width:4; stroke-opacity:1; fill:none\" points=\"\n",
       "  207.112,793.882 232.859,793.882 \n",
       "  \"/>\n",
       "<polyline clip-path=\"url(#clip630)\" style=\"stroke:#000000; stroke-width:4; stroke-opacity:1; fill:none\" points=\"\n",
       "  207.112,567.915 232.859,567.915 \n",
       "  \"/>\n",
       "<polyline clip-path=\"url(#clip630)\" style=\"stroke:#000000; stroke-width:4; stroke-opacity:1; fill:none\" points=\"\n",
       "  207.112,341.948 232.859,341.948 \n",
       "  \"/>\n",
       "<path clip-path=\"url(#clip630)\" d=\"M 0 0 M114.26 1246.27 L143.936 1246.27 L143.936 1250.2 L114.26 1250.2 L114.26 1246.27 Z\" fill=\"#000000\" fill-rule=\"evenodd\" fill-opacity=\"1\" /><path clip-path=\"url(#clip630)\" d=\"M 0 0 M159.584 1243.95 Q156.436 1243.95 154.584 1246.11 Q152.755 1248.26 152.755 1252.01 Q152.755 1255.73 154.584 1257.91 Q156.436 1260.06 159.584 1260.06 Q162.732 1260.06 164.561 1257.91 Q166.413 1255.73 166.413 1252.01 Q166.413 1248.26 164.561 1246.11 Q162.732 1243.95 159.584 1243.95 M168.866 1229.3 L168.866 1233.56 Q167.107 1232.73 165.302 1232.29 Q163.519 1231.85 161.76 1231.85 Q157.13 1231.85 154.677 1234.97 Q152.246 1238.1 151.899 1244.42 Q153.265 1242.4 155.325 1241.34 Q157.385 1240.25 159.862 1240.25 Q165.07 1240.25 168.079 1243.42 Q171.112 1246.57 171.112 1252.01 Q171.112 1257.33 167.964 1260.55 Q164.815 1263.77 159.584 1263.77 Q153.589 1263.77 150.417 1259.18 Q147.246 1254.58 147.246 1245.85 Q147.246 1237.66 151.135 1232.8 Q155.024 1227.91 161.575 1227.91 Q163.334 1227.91 165.116 1228.26 Q166.922 1228.61 168.866 1229.3 Z\" fill=\"#000000\" fill-rule=\"evenodd\" fill-opacity=\"1\" /><path clip-path=\"url(#clip630)\" d=\"M 0 0 M115.07 1020.3 L144.746 1020.3 L144.746 1024.24 L115.07 1024.24 L115.07 1020.3 Z\" fill=\"#000000\" fill-rule=\"evenodd\" fill-opacity=\"1\" /><path clip-path=\"url(#clip630)\" d=\"M 0 0 M163.982 1018.49 Q167.339 1019.21 169.214 1021.48 Q171.112 1023.75 171.112 1027.08 Q171.112 1032.2 167.593 1035 Q164.075 1037.8 157.593 1037.8 Q155.417 1037.8 153.103 1037.36 Q150.811 1036.94 148.357 1036.09 L148.357 1031.57 Q150.302 1032.71 152.616 1033.29 Q154.931 1033.87 157.454 1033.87 Q161.852 1033.87 164.144 1032.13 Q166.459 1030.39 166.459 1027.08 Q166.459 1024.03 164.306 1022.31 Q162.177 1020.58 158.357 1020.58 L154.329 1020.58 L154.329 1016.74 L158.542 1016.74 Q161.991 1016.74 163.82 1015.37 Q165.649 1013.98 165.649 1011.39 Q165.649 1008.73 163.751 1007.31 Q161.876 1005.88 158.357 1005.88 Q156.436 1005.88 154.237 1006.3 Q152.038 1006.71 149.399 1007.59 L149.399 1003.43 Q152.061 1002.68 154.376 1002.31 Q156.714 1001.94 158.774 1001.94 Q164.098 1001.94 167.2 1004.37 Q170.302 1006.78 170.302 1010.9 Q170.302 1013.77 168.658 1015.76 Q167.015 1017.73 163.982 1018.49 Z\" fill=\"#000000\" fill-rule=\"evenodd\" fill-opacity=\"1\" /><path clip-path=\"url(#clip630)\" d=\"M 0 0 M159.167 779.681 Q155.556 779.681 153.728 783.246 Q151.922 786.787 151.922 793.917 Q151.922 801.023 153.728 804.588 Q155.556 808.13 159.167 808.13 Q162.802 808.13 164.607 804.588 Q166.436 801.023 166.436 793.917 Q166.436 786.787 164.607 783.246 Q162.802 779.681 159.167 779.681 M159.167 775.977 Q164.977 775.977 168.033 780.584 Q171.112 785.167 171.112 793.917 Q171.112 802.644 168.033 807.25 Q164.977 811.833 159.167 811.833 Q153.357 811.833 150.278 807.25 Q147.223 802.644 147.223 793.917 Q147.223 785.167 150.278 780.584 Q153.357 775.977 159.167 775.977 Z\" fill=\"#000000\" fill-rule=\"evenodd\" fill-opacity=\"1\" /><path clip-path=\"url(#clip630)\" d=\"M 0 0 M163.982 566.561 Q167.339 567.279 169.214 569.547 Q171.112 571.816 171.112 575.149 Q171.112 580.265 167.593 583.066 Q164.075 585.867 157.593 585.867 Q155.417 585.867 153.103 585.427 Q150.811 585.01 148.357 584.154 L148.357 579.64 Q150.302 580.774 152.616 581.353 Q154.931 581.931 157.454 581.931 Q161.852 581.931 164.144 580.195 Q166.459 578.459 166.459 575.149 Q166.459 572.094 164.306 570.381 Q162.177 568.644 158.357 568.644 L154.329 568.644 L154.329 564.802 L158.542 564.802 Q161.991 564.802 163.82 563.436 Q165.649 562.047 165.649 559.455 Q165.649 556.793 163.751 555.381 Q161.876 553.945 158.357 553.945 Q156.436 553.945 154.237 554.362 Q152.038 554.779 149.399 555.658 L149.399 551.492 Q152.061 550.751 154.376 550.381 Q156.714 550.01 158.774 550.01 Q164.098 550.01 167.2 552.441 Q170.302 554.848 170.302 558.969 Q170.302 561.839 168.658 563.83 Q167.015 565.797 163.982 566.561 Z\" fill=\"#000000\" fill-rule=\"evenodd\" fill-opacity=\"1\" /><path clip-path=\"url(#clip630)\" d=\"M 0 0 M159.584 340.085 Q156.436 340.085 154.584 342.238 Q152.755 344.391 152.755 348.141 Q152.755 351.867 154.584 354.043 Q156.436 356.196 159.584 356.196 Q162.732 356.196 164.561 354.043 Q166.413 351.867 166.413 348.141 Q166.413 344.391 164.561 342.238 Q162.732 340.085 159.584 340.085 M168.866 325.432 L168.866 329.692 Q167.107 328.858 165.302 328.418 Q163.519 327.979 161.76 327.979 Q157.13 327.979 154.677 331.104 Q152.246 334.229 151.899 340.548 Q153.265 338.534 155.325 337.469 Q157.385 336.381 159.862 336.381 Q165.07 336.381 168.079 339.553 Q171.112 342.701 171.112 348.141 Q171.112 353.465 167.964 356.682 Q164.815 359.9 159.584 359.9 Q153.589 359.9 150.417 355.316 Q147.246 350.71 147.246 341.983 Q147.246 333.789 151.135 328.928 Q155.024 324.043 161.575 324.043 Q163.334 324.043 165.116 324.391 Q166.922 324.738 168.866 325.432 Z\" fill=\"#000000\" fill-rule=\"evenodd\" fill-opacity=\"1\" /><path clip-path=\"url(#clip630)\" d=\"M 0 0 M14.479 851.481 L14.479 845.624 L64.0042 845.624 L64.0042 851.481 L14.479 851.481 Z\" fill=\"#000000\" fill-rule=\"evenodd\" fill-opacity=\"1\" /><path clip-path=\"url(#clip630)\" d=\"M 0 0 M42.4881 809.849 L64.0042 809.849 L64.0042 815.706 L42.679 815.706 Q37.6183 815.706 35.1038 817.679 Q32.5894 819.652 32.5894 823.599 Q32.5894 828.342 35.6131 831.079 Q38.6368 833.816 43.8567 833.816 L64.0042 833.816 L64.0042 839.704 L28.3562 839.704 L28.3562 833.816 L33.8944 833.816 Q30.6797 831.715 29.0883 828.883 Q27.4968 826.018 27.4968 822.294 Q27.4968 816.151 31.3163 813 Q35.1038 809.849 42.4881 809.849 Z\" fill=\"#000000\" fill-rule=\"evenodd\" fill-opacity=\"1\" /><path clip-path=\"url(#clip630)\" d=\"M 0 0 M21.7677 797.022 L39.6235 797.022 L39.6235 788.938 Q39.6235 784.45 37.3 781.999 Q34.9765 779.548 30.6797 779.548 Q26.4147 779.548 24.0912 781.999 Q21.7677 784.45 21.7677 788.938 L21.7677 797.022 M16.4842 803.452 L16.4842 788.938 Q16.4842 780.949 20.1126 776.875 Q23.7092 772.769 30.6797 772.769 Q37.7138 772.769 41.3104 776.875 Q44.907 780.949 44.907 788.938 L44.907 797.022 L64.0042 797.022 L64.0042 803.452 L16.4842 803.452 Z\" fill=\"#000000\" fill-rule=\"evenodd\" fill-opacity=\"1\" /><path clip-path=\"url(#clip630)\" d=\"M 0 0 M14.5426 752.558 Q21.8632 756.823 29.0246 758.892 Q36.186 760.961 43.5384 760.961 Q50.8908 760.961 58.1159 758.892 Q65.3091 756.791 72.5979 752.558 L72.5979 757.65 Q65.1182 762.425 57.8931 764.812 Q50.668 767.167 43.5384 767.167 Q36.4406 767.167 29.2474 764.812 Q22.0542 762.457 14.5426 757.65 L14.5426 752.558 Z\" fill=\"#000000\" fill-rule=\"evenodd\" fill-opacity=\"1\" /><path clip-path=\"url(#clip630)\" d=\"M 0 0 M14.479 746.638 L14.479 740.749 L43.7294 740.749 L28.3562 723.276 L28.3562 715.796 L45.0344 734.702 L64.0042 715 L64.0042 722.639 L46.5939 740.749 L64.0042 740.749 L64.0042 746.638 L14.479 746.638 Z\" fill=\"#000000\" fill-rule=\"evenodd\" fill-opacity=\"1\" /><path clip-path=\"url(#clip630)\" d=\"M 0 0 M14.5426 709.78 L14.5426 704.688 Q22.0542 699.913 29.2474 697.558 Q36.4406 695.171 43.5384 695.171 Q50.668 695.171 57.8931 697.558 Q65.1182 699.913 72.5979 704.688 L72.5979 709.78 Q65.3091 705.547 58.1159 703.478 Q50.8908 701.378 43.5384 701.378 Q36.186 701.378 29.0246 703.478 Q21.8632 705.547 14.5426 709.78 Z\" fill=\"#000000\" fill-rule=\"evenodd\" fill-opacity=\"1\" /><path clip-path=\"url(#clip630)\" d=\"M 0 0 M767.555 12.096 L802.312 12.096 L802.312 18.9825 L775.738 18.9825 L775.738 36.8065 L799.719 36.8065 L799.719 43.6931 L775.738 43.6931 L775.738 72.576 L767.555 72.576 L767.555 12.096 Z\" fill=\"#000000\" fill-rule=\"evenodd\" fill-opacity=\"1\" /><path clip-path=\"url(#clip630)\" d=\"M 0 0 M804.824 54.671 L804.824 27.2059 L812.277 27.2059 L812.277 54.3874 Q812.277 60.8284 814.789 64.0691 Q817.3 67.2693 822.323 67.2693 Q828.359 67.2693 831.843 63.421 Q835.367 59.5726 835.367 52.9291 L835.367 27.2059 L842.821 27.2059 L842.821 72.576 L835.367 72.576 L835.367 65.6084 Q832.653 69.7404 829.048 71.7658 Q825.483 73.7508 820.744 73.7508 Q812.925 73.7508 808.874 68.8897 Q804.824 64.0286 804.824 54.671 M823.579 26.1121 L823.579 26.1121 Z\" fill=\"#000000\" fill-rule=\"evenodd\" fill-opacity=\"1\" /><path clip-path=\"url(#clip630)\" d=\"M 0 0 M850.639 9.54393 L858.093 9.54393 L858.093 72.576 L850.639 72.576 L850.639 9.54393 Z\" fill=\"#000000\" fill-rule=\"evenodd\" fill-opacity=\"1\" /><path clip-path=\"url(#clip630)\" d=\"M 0 0 M865.911 9.54393 L873.365 9.54393 L873.365 72.576 L865.911 72.576 L865.911 9.54393 Z\" fill=\"#000000\" fill-rule=\"evenodd\" fill-opacity=\"1\" /><path clip-path=\"url(#clip630)\" d=\"M 0 0 M926.796 16.7545 L926.796 25.383 Q922.664 21.5346 917.965 19.6307 Q913.307 17.7268 908.041 17.7268 Q897.67 17.7268 892.161 24.0867 Q886.652 30.4061 886.652 42.3968 Q886.652 54.3469 892.161 60.7069 Q897.67 67.0263 908.041 67.0263 Q913.307 67.0263 917.965 65.1223 Q922.664 63.2184 926.796 59.3701 L926.796 67.9175 Q922.502 70.8341 917.682 72.2924 Q912.902 73.7508 907.554 73.7508 Q893.822 73.7508 885.923 65.3654 Q878.023 56.9395 878.023 42.3968 Q878.023 27.8135 885.923 19.4281 Q893.822 11.0023 907.554 11.0023 Q912.983 11.0023 917.763 12.4606 Q922.583 13.8784 926.796 16.7545 Z\" fill=\"#000000\" fill-rule=\"evenodd\" fill-opacity=\"1\" /><path clip-path=\"url(#clip630)\" d=\"M 0 0 M952.195 32.4315 Q946.2 32.4315 942.716 37.1306 Q939.233 41.7891 939.233 49.9314 Q939.233 58.0738 942.676 62.7728 Q946.16 67.4314 952.195 67.4314 Q958.15 67.4314 961.634 62.7323 Q965.118 58.0333 965.118 49.9314 Q965.118 41.8701 961.634 37.1711 Q958.15 32.4315 952.195 32.4315 M952.195 26.1121 Q961.918 26.1121 967.467 32.4315 Q973.017 38.7509 973.017 49.9314 Q973.017 61.0714 967.467 67.4314 Q961.918 73.7508 952.195 73.7508 Q942.433 73.7508 936.883 67.4314 Q931.374 61.0714 931.374 49.9314 Q931.374 38.7509 936.883 32.4315 Q942.433 26.1121 952.195 26.1121 Z\" fill=\"#000000\" fill-rule=\"evenodd\" fill-opacity=\"1\" /><path clip-path=\"url(#clip630)\" d=\"M 0 0 M975.488 27.2059 L983.387 27.2059 L997.566 65.2844 L1011.74 27.2059 L1019.64 27.2059 L1002.63 72.576 L992.502 72.576 L975.488 27.2059 Z\" fill=\"#000000\" fill-rule=\"evenodd\" fill-opacity=\"1\" /><path clip-path=\"url(#clip630)\" d=\"M 0 0 M1054.16 12.096 L1065.18 12.096 L1091.99 62.6918 L1091.99 12.096 L1099.93 12.096 L1099.93 72.576 L1088.91 72.576 L1062.1 21.9802 L1062.1 72.576 L1054.16 72.576 L1054.16 12.096 Z\" fill=\"#000000\" fill-rule=\"evenodd\" fill-opacity=\"1\" /><path clip-path=\"url(#clip630)\" d=\"M 0 0 M1125.33 32.4315 Q1119.34 32.4315 1115.85 37.1306 Q1112.37 41.7891 1112.37 49.9314 Q1112.37 58.0738 1115.81 62.7728 Q1119.3 67.4314 1125.33 67.4314 Q1131.29 67.4314 1134.77 62.7323 Q1138.25 58.0333 1138.25 49.9314 Q1138.25 41.8701 1134.77 37.1711 Q1131.29 32.4315 1125.33 32.4315 M1125.33 26.1121 Q1135.05 26.1121 1140.6 32.4315 Q1146.15 38.7509 1146.15 49.9314 Q1146.15 61.0714 1140.6 67.4314 Q1135.05 73.7508 1125.33 73.7508 Q1115.57 73.7508 1110.02 67.4314 Q1104.51 61.0714 1104.51 49.9314 Q1104.51 38.7509 1110.02 32.4315 Q1115.57 26.1121 1125.33 26.1121 Z\" fill=\"#000000\" fill-rule=\"evenodd\" fill-opacity=\"1\" /><path clip-path=\"url(#clip630)\" d=\"M 0 0 M1153.97 27.2059 L1161.42 27.2059 L1161.42 72.576 L1153.97 72.576 L1153.97 27.2059 M1153.97 9.54393 L1161.42 9.54393 L1161.42 18.9825 L1153.97 18.9825 L1153.97 9.54393 Z\" fill=\"#000000\" fill-rule=\"evenodd\" fill-opacity=\"1\" /><path clip-path=\"url(#clip630)\" d=\"M 0 0 M1198.17 28.5427 L1198.17 35.5912 Q1195.01 33.9709 1191.6 33.1607 Q1188.2 32.3505 1184.56 32.3505 Q1179.01 32.3505 1176.21 34.0519 Q1173.46 35.7533 1173.46 39.156 Q1173.46 41.7486 1175.44 43.2475 Q1177.43 44.7058 1183.42 46.0426 L1185.97 46.6097 Q1193.91 48.3111 1197.23 51.4303 Q1200.6 54.509 1200.6 60.0587 Q1200.6 66.3781 1195.57 70.0644 Q1190.59 73.7508 1181.84 73.7508 Q1178.2 73.7508 1174.23 73.0216 Q1170.3 72.3329 1165.92 70.9151 L1165.92 63.2184 Q1170.05 65.3654 1174.06 66.4591 Q1178.07 67.5124 1182 67.5124 Q1187.27 67.5124 1190.11 65.73 Q1192.94 63.9071 1192.94 60.6258 Q1192.94 57.5877 1190.87 55.9673 Q1188.85 54.3469 1181.92 52.8481 L1179.33 52.2405 Q1172.4 50.7821 1169.32 47.7845 Q1166.25 44.7463 1166.25 39.4801 Q1166.25 33.0797 1170.78 29.5959 Q1175.32 26.1121 1183.66 26.1121 Q1187.8 26.1121 1191.44 26.7198 Q1195.09 27.3274 1198.17 28.5427 Z\" fill=\"#000000\" fill-rule=\"evenodd\" fill-opacity=\"1\" /><path clip-path=\"url(#clip630)\" d=\"M 0 0 M1226 32.4315 Q1220 32.4315 1216.52 37.1306 Q1213.03 41.7891 1213.03 49.9314 Q1213.03 58.0738 1216.48 62.7728 Q1219.96 67.4314 1226 67.4314 Q1231.95 67.4314 1235.43 62.7323 Q1238.92 58.0333 1238.92 49.9314 Q1238.92 41.8701 1235.43 37.1711 Q1231.95 32.4315 1226 32.4315 M1226 26.1121 Q1235.72 26.1121 1241.27 32.4315 Q1246.82 38.7509 1246.82 49.9314 Q1246.82 61.0714 1241.27 67.4314 Q1235.72 73.7508 1226 73.7508 Q1216.23 73.7508 1210.68 67.4314 Q1205.17 61.0714 1205.17 49.9314 Q1205.17 38.7509 1210.68 32.4315 Q1216.23 26.1121 1226 26.1121 Z\" fill=\"#000000\" fill-rule=\"evenodd\" fill-opacity=\"1\" /><path clip-path=\"url(#clip630)\" d=\"M 0 0 M1256.54 62.2867 L1265.09 62.2867 L1265.09 72.576 L1256.54 72.576 L1256.54 62.2867 M1256.54 29.6769 L1265.09 29.6769 L1265.09 39.9662 L1256.54 39.9662 L1256.54 29.6769 Z\" fill=\"#000000\" fill-rule=\"evenodd\" fill-opacity=\"1\" /><path clip-path=\"url(#clip630)\" d=\"M 0 0 M1307.78 18.8205 L1307.78 41.5461 L1318.07 41.5461 Q1323.78 41.5461 1326.9 38.5889 Q1330.02 35.6318 1330.02 30.163 Q1330.02 24.7348 1326.9 21.7777 Q1323.78 18.8205 1318.07 18.8205 L1307.78 18.8205 M1299.6 12.096 L1318.07 12.096 Q1328.24 12.096 1333.43 16.714 Q1338.65 21.2916 1338.65 30.163 Q1338.65 39.1155 1333.43 43.6931 Q1328.24 48.2706 1318.07 48.2706 L1307.78 48.2706 L1307.78 72.576 L1299.6 72.576 L1299.6 12.096 Z\" fill=\"#000000\" fill-rule=\"evenodd\" fill-opacity=\"1\" /><path clip-path=\"url(#clip630)\" d=\"M 0 0 M1364.37 9.62495 Q1358.95 18.942 1356.31 28.0566 Q1353.68 37.1711 1353.68 46.5287 Q1353.68 55.8863 1356.31 65.0818 Q1358.99 74.2369 1364.37 83.5134 L1357.89 83.5134 Q1351.82 73.9938 1348.78 64.7983 Q1345.78 55.6027 1345.78 46.5287 Q1345.78 37.4952 1348.78 28.3401 Q1351.78 19.1851 1357.89 9.62495 L1364.37 9.62495 Z\" fill=\"#000000\" fill-rule=\"evenodd\" fill-opacity=\"1\" /><path clip-path=\"url(#clip630)\" d=\"M 0 0 M1371.91 9.54393 L1379.4 9.54393 L1379.4 46.7717 L1401.64 27.2059 L1411.16 27.2059 L1387.1 48.4326 L1412.18 72.576 L1402.45 72.576 L1379.4 50.4176 L1379.4 72.576 L1371.91 72.576 L1371.91 9.54393 Z\" fill=\"#000000\" fill-rule=\"evenodd\" fill-opacity=\"1\" /><path clip-path=\"url(#clip630)\" d=\"M 0 0 M1418.82 9.62495 L1425.3 9.62495 Q1431.38 19.1851 1434.37 28.3401 Q1437.41 37.4952 1437.41 46.5287 Q1437.41 55.6027 1434.37 64.7983 Q1431.38 73.9938 1425.3 83.5134 L1418.82 83.5134 Q1424.21 74.2369 1426.84 65.0818 Q1429.51 55.8863 1429.51 46.5287 Q1429.51 37.1711 1426.84 28.0566 Q1424.21 18.942 1418.82 9.62495 Z\" fill=\"#000000\" fill-rule=\"evenodd\" fill-opacity=\"1\" /><path clip-path=\"url(#clip630)\" d=\"M 0 0 M1489.18 32.4315 Q1483.19 32.4315 1479.7 37.1306 Q1476.22 41.7891 1476.22 49.9314 Q1476.22 58.0738 1479.66 62.7728 Q1483.15 67.4314 1489.18 67.4314 Q1495.14 67.4314 1498.62 62.7323 Q1502.11 58.0333 1502.11 49.9314 Q1502.11 41.8701 1498.62 37.1711 Q1495.14 32.4315 1489.18 32.4315 M1489.18 26.1121 Q1498.91 26.1121 1504.46 32.4315 Q1510 38.7509 1510 49.9314 Q1510 61.0714 1504.46 67.4314 Q1498.91 73.7508 1489.18 73.7508 Q1479.42 73.7508 1473.87 67.4314 Q1468.36 61.0714 1468.36 49.9314 Q1468.36 38.7509 1473.87 32.4315 Q1479.42 26.1121 1489.18 26.1121 Z\" fill=\"#000000\" fill-rule=\"evenodd\" fill-opacity=\"1\" /><path clip-path=\"url(#clip630)\" d=\"M 0 0 M1540.79 9.54393 L1540.79 15.7418 L1533.66 15.7418 Q1529.65 15.7418 1528.07 17.3622 Q1526.53 18.9825 1526.53 23.1955 L1526.53 27.2059 L1538.81 27.2059 L1538.81 32.9987 L1526.53 32.9987 L1526.53 72.576 L1519.04 72.576 L1519.04 32.9987 L1511.91 32.9987 L1511.91 27.2059 L1519.04 27.2059 L1519.04 24.0462 Q1519.04 16.471 1522.56 13.0277 Q1526.09 9.54393 1533.74 9.54393 L1540.79 9.54393 Z\" fill=\"#000000\" fill-rule=\"evenodd\" fill-opacity=\"1\" /><path clip-path=\"url(#clip630)\" d=\"M 0 0 M1575.31 12.096 L1583.49 12.096 L1583.49 72.576 L1575.31 72.576 L1575.31 12.096 Z\" fill=\"#000000\" fill-rule=\"evenodd\" fill-opacity=\"1\" /><path clip-path=\"url(#clip630)\" d=\"M 0 0 M1626.63 35.9153 Q1629.43 30.8922 1633.31 28.5022 Q1637.2 26.1121 1642.47 26.1121 Q1649.56 26.1121 1653.41 31.0947 Q1657.26 36.0368 1657.26 45.1919 L1657.26 72.576 L1649.76 72.576 L1649.76 45.4349 Q1649.76 38.913 1647.45 35.7533 Q1645.14 32.5936 1640.4 32.5936 Q1634.61 32.5936 1631.25 36.4419 Q1627.89 40.2903 1627.89 46.9338 L1627.89 72.576 L1620.39 72.576 L1620.39 45.4349 Q1620.39 38.8725 1618.08 35.7533 Q1615.77 32.5936 1610.95 32.5936 Q1605.24 32.5936 1601.88 36.4824 Q1598.52 40.3308 1598.52 46.9338 L1598.52 72.576 L1591.02 72.576 L1591.02 27.2059 L1598.52 27.2059 L1598.52 34.2544 Q1601.07 30.082 1604.63 28.0971 Q1608.2 26.1121 1613.1 26.1121 Q1618.04 26.1121 1621.49 28.6237 Q1624.97 31.1352 1626.63 35.9153 Z\" fill=\"#000000\" fill-rule=\"evenodd\" fill-opacity=\"1\" /><path clip-path=\"url(#clip630)\" d=\"M 0 0 M1685.69 49.7694 Q1676.66 49.7694 1673.18 51.8354 Q1669.69 53.9013 1669.69 58.8839 Q1669.69 62.8538 1672.28 65.2034 Q1674.92 67.5124 1679.41 67.5124 Q1685.61 67.5124 1689.34 63.1374 Q1693.11 58.7219 1693.11 51.4303 L1693.11 49.7694 L1685.69 49.7694 M1700.56 46.6907 L1700.56 72.576 L1693.11 72.576 L1693.11 65.6895 Q1690.55 69.8214 1686.75 71.8063 Q1682.94 73.7508 1677.43 73.7508 Q1670.46 73.7508 1666.33 69.8619 Q1662.24 65.9325 1662.24 59.3701 Q1662.24 51.7138 1667.34 47.825 Q1672.49 43.9361 1682.65 43.9361 L1693.11 43.9361 L1693.11 43.2069 Q1693.11 38.0623 1689.7 35.2672 Q1686.34 32.4315 1680.22 32.4315 Q1676.34 32.4315 1672.65 33.3632 Q1668.96 34.295 1665.56 36.1584 L1665.56 29.2718 Q1669.65 27.692 1673.5 26.9223 Q1677.35 26.1121 1680.99 26.1121 Q1690.84 26.1121 1695.7 31.2163 Q1700.56 36.3204 1700.56 46.6907 Z\" fill=\"#000000\" fill-rule=\"evenodd\" fill-opacity=\"1\" /><path clip-path=\"url(#clip630)\" d=\"M 0 0 M1738.23 49.3643 Q1738.23 41.2625 1734.87 36.8065 Q1731.55 32.3505 1725.51 32.3505 Q1719.52 32.3505 1716.16 36.8065 Q1712.83 41.2625 1712.83 49.3643 Q1712.83 57.4256 1716.16 61.8816 Q1719.52 66.3376 1725.51 66.3376 Q1731.55 66.3376 1734.87 61.8816 Q1738.23 57.4256 1738.23 49.3643 M1745.69 66.9452 Q1745.69 78.5308 1740.54 84.1616 Q1735.4 89.8329 1724.78 89.8329 Q1720.85 89.8329 1717.37 89.2252 Q1713.89 88.6581 1710.61 87.4428 L1710.61 80.1917 Q1713.89 81.9741 1717.09 82.8248 Q1720.29 83.6755 1723.61 83.6755 Q1730.94 83.6755 1734.59 79.8271 Q1738.23 76.0193 1738.23 68.282 L1738.23 64.5957 Q1735.92 68.6061 1732.32 70.5911 Q1728.71 72.576 1723.69 72.576 Q1715.35 72.576 1710.24 66.2161 Q1705.14 59.8562 1705.14 49.3643 Q1705.14 38.832 1710.24 32.472 Q1715.35 26.1121 1723.69 26.1121 Q1728.71 26.1121 1732.32 28.0971 Q1735.92 30.082 1738.23 34.0924 L1738.23 27.2059 L1745.69 27.2059 L1745.69 66.9452 Z\" fill=\"#000000\" fill-rule=\"evenodd\" fill-opacity=\"1\" /><path clip-path=\"url(#clip630)\" d=\"M 0 0 M1792.31 48.0275 L1792.31 51.6733 L1758.04 51.6733 Q1758.53 59.3701 1762.66 63.421 Q1766.83 67.4314 1774.25 67.4314 Q1778.54 67.4314 1782.55 66.3781 Q1786.6 65.3249 1790.57 63.2184 L1790.57 70.267 Q1786.56 71.9684 1782.35 72.8596 Q1778.13 73.7508 1773.8 73.7508 Q1762.94 73.7508 1756.58 67.4314 Q1750.26 61.1119 1750.26 50.3365 Q1750.26 39.1965 1756.26 32.6746 Q1762.3 26.1121 1772.5 26.1121 Q1781.66 26.1121 1786.97 32.0264 Q1792.31 37.9003 1792.31 48.0275 M1784.86 45.84 Q1784.78 39.7232 1781.42 36.0774 Q1778.09 32.4315 1772.58 32.4315 Q1766.35 32.4315 1762.58 35.9558 Q1758.85 39.4801 1758.28 45.8805 L1784.86 45.84 Z\" fill=\"#000000\" fill-rule=\"evenodd\" fill-opacity=\"1\" /><polyline clip-path=\"url(#clip632)\" style=\"stroke:#009af9; stroke-width:4; stroke-opacity:1; fill:none\" points=\"\n",
       "  267.837,171.018 672.676,683.788 909.491,725.841 1077.51,769.884 1207.84,825.885 1314.33,863.134 1404.36,887.539 1482.35,941.489 1551.15,955.187 1612.68,994.391 \n",
       "  1668.35,1020.49 1719.17,1043.63 1765.92,1045.38 1809.2,1060.97 1849.5,1096.68 1887.19,1120.25 1922.6,1137.15 1955.98,1155.72 1987.56,1165.8 2017.52,1191.49 \n",
       "  2046.02,1186.59 2073.19,1219.58 2099.15,1230.93 2124.01,1258.86 2147.85,1268.1 2170.76,1290.07 2192.8,1291.97 2214.04,1319.52 2234.54,1345.72 2254.34,1342.26 \n",
       "  2273.49,1364.5 2292.03,1386.4 \n",
       "  \"/>\n",
       "<polyline clip-path=\"url(#clip632)\" style=\"stroke:#e26f46; stroke-width:4; stroke-opacity:1; fill:none\" points=\"\n",
       "  267.837,160.256 672.676,562.453 909.491,658.792 1077.51,709.611 1207.84,781.779 1314.33,793.745 1404.36,837.027 1482.35,878.146 1551.15,899.559 1612.68,909.226 \n",
       "  1668.35,918.598 1719.17,936.393 1765.92,975.689 1809.2,1019.08 1849.5,1056.98 1887.19,1071.93 1922.6,1062.47 1955.98,1069.88 1987.56,1083.03 2017.52,1105.56 \n",
       "  2046.02,1103.48 2073.19,1122.88 2099.15,1154.25 2124.01,1165.24 2147.85,1189.73 2170.76,1225.9 2192.8,1239.79 2214.04,1267.98 2234.54,1285.63 2254.34,1309.32 \n",
       "  2273.49,1311.3 2292.03,1334.49 \n",
       "  \"/>\n",
       "<polyline clip-path=\"url(#clip632)\" style=\"stroke:#3da44d; stroke-width:4; stroke-opacity:1; fill:none\" points=\"\n",
       "  267.837,171.024 672.676,689.273 909.491,728.893 1077.51,764.907 1207.84,822.319 1314.33,835.361 1404.36,854.692 1482.35,881.509 1551.15,890.051 1612.68,918.329 \n",
       "  1668.35,933.136 1719.17,950.258 1765.92,946.592 1809.2,935.916 1849.5,946.593 1887.19,937.316 1922.6,947.325 1955.98,930.356 1987.56,940.048 2017.52,942.464 \n",
       "  2046.02,945.567 2073.19,956.118 2099.15,947.702 2124.01,945.531 2147.85,942.377 2170.76,942.599 2192.8,941.738 2214.04,950.752 2234.54,951.242 2254.34,936.266 \n",
       "  2273.49,945.349 2292.03,950.505 \n",
       "  \"/>\n",
       "<path clip-path=\"url(#clip630)\" d=\"\n",
       "M1915.84 408.716 L2281.23 408.716 L2281.23 166.796 L1915.84 166.796  Z\n",
       "  \" fill=\"#ffffff\" fill-rule=\"evenodd\" fill-opacity=\"1\"/>\n",
       "<polyline clip-path=\"url(#clip630)\" style=\"stroke:#000000; stroke-width:4; stroke-opacity:1; fill:none\" points=\"\n",
       "  1915.84,408.716 2281.23,408.716 2281.23,166.796 1915.84,166.796 1915.84,408.716 \n",
       "  \"/>\n",
       "<polyline clip-path=\"url(#clip630)\" style=\"stroke:#009af9; stroke-width:4; stroke-opacity:1; fill:none\" points=\"\n",
       "  1939.68,227.276 2082.72,227.276 \n",
       "  \"/>\n",
       "<path clip-path=\"url(#clip630)\" d=\"M 0 0 M2106.56 209.996 L2135.8 209.996 L2135.8 213.931 L2123.53 213.931 L2123.53 244.556 L2118.83 244.556 L2118.83 213.931 L2106.56 213.931 L2106.56 209.996 Z\" fill=\"#000000\" fill-rule=\"evenodd\" fill-opacity=\"1\" /><path clip-path=\"url(#clip630)\" d=\"M 0 0 M2148.32 222.611 Q2147.6 222.195 2146.75 222.01 Q2145.92 221.801 2144.9 221.801 Q2141.29 221.801 2139.34 224.162 Q2137.42 226.5 2137.42 230.898 L2137.42 244.556 L2133.14 244.556 L2133.14 218.63 L2137.42 218.63 L2137.42 222.658 Q2138.76 220.297 2140.92 219.162 Q2143.07 218.005 2146.15 218.005 Q2146.59 218.005 2147.12 218.074 Q2147.65 218.121 2148.3 218.236 L2148.32 222.611 Z\" fill=\"#000000\" fill-rule=\"evenodd\" fill-opacity=\"1\" /><path clip-path=\"url(#clip630)\" d=\"M 0 0 M2152.35 234.324 L2152.35 218.63 L2156.61 218.63 L2156.61 234.162 Q2156.61 237.843 2158.04 239.695 Q2159.48 241.523 2162.35 241.523 Q2165.8 241.523 2167.79 239.324 Q2169.8 237.125 2169.8 233.329 L2169.8 218.63 L2174.06 218.63 L2174.06 244.556 L2169.8 244.556 L2169.8 240.574 Q2168.25 242.935 2166.19 244.093 Q2164.16 245.227 2161.45 245.227 Q2156.98 245.227 2154.66 242.449 Q2152.35 239.671 2152.35 234.324 M2163.07 218.005 L2163.07 218.005 Z\" fill=\"#000000\" fill-rule=\"evenodd\" fill-opacity=\"1\" /><path clip-path=\"url(#clip630)\" d=\"M 0 0 M2200.71 230.528 L2200.71 232.611 L2181.12 232.611 Q2181.4 237.009 2183.76 239.324 Q2186.15 241.616 2190.38 241.616 Q2192.84 241.616 2195.13 241.014 Q2197.44 240.412 2199.71 239.209 L2199.71 243.236 Q2197.42 244.208 2195.01 244.718 Q2192.6 245.227 2190.13 245.227 Q2183.92 245.227 2180.29 241.616 Q2176.68 238.005 2176.68 231.847 Q2176.68 225.482 2180.1 221.755 Q2183.55 218.005 2189.39 218.005 Q2194.62 218.005 2197.65 221.385 Q2200.71 224.741 2200.71 230.528 M2196.45 229.278 Q2196.4 225.783 2194.48 223.699 Q2192.58 221.616 2189.43 221.616 Q2185.87 221.616 2183.72 223.63 Q2181.59 225.644 2181.26 229.301 L2196.45 229.278 Z\" fill=\"#000000\" fill-rule=\"evenodd\" fill-opacity=\"1\" /><polyline clip-path=\"url(#clip630)\" style=\"stroke:#e26f46; stroke-width:4; stroke-opacity:1; fill:none\" points=\"\n",
       "  1939.68,287.756 2082.72,287.756 \n",
       "  \"/>\n",
       "<path clip-path=\"url(#clip630)\" d=\"M 0 0 M2122.95 288.832 Q2124.46 289.341 2125.87 291.008 Q2127.3 292.675 2128.74 295.591 L2133.48 305.036 L2128.46 305.036 L2124.04 296.17 Q2122.33 292.698 2120.71 291.564 Q2119.11 290.429 2116.33 290.429 L2111.24 290.429 L2111.24 305.036 L2106.56 305.036 L2106.56 270.476 L2117.12 270.476 Q2123.04 270.476 2125.96 272.953 Q2128.88 275.429 2128.88 280.429 Q2128.88 283.693 2127.35 285.846 Q2125.85 287.999 2122.95 288.832 M2111.24 274.318 L2111.24 286.587 L2117.12 286.587 Q2120.5 286.587 2122.21 285.036 Q2123.95 283.462 2123.95 280.429 Q2123.95 277.397 2122.21 275.869 Q2120.5 274.318 2117.12 274.318 L2111.24 274.318 Z\" fill=\"#000000\" fill-rule=\"evenodd\" fill-opacity=\"1\" /><path clip-path=\"url(#clip630)\" d=\"M 0 0 M2158 291.008 L2158 293.091 L2138.42 293.091 Q2138.69 297.489 2141.05 299.804 Q2143.44 302.096 2147.67 302.096 Q2150.13 302.096 2152.42 301.494 Q2154.73 300.892 2157 299.689 L2157 303.716 Q2154.71 304.688 2152.3 305.198 Q2149.9 305.707 2147.42 305.707 Q2141.22 305.707 2137.58 302.096 Q2133.97 298.485 2133.97 292.327 Q2133.97 285.962 2137.4 282.235 Q2140.85 278.485 2146.68 278.485 Q2151.91 278.485 2154.94 281.865 Q2158 285.221 2158 291.008 M2153.74 289.758 Q2153.69 286.263 2151.77 284.179 Q2149.87 282.096 2146.73 282.096 Q2143.16 282.096 2141.01 284.11 Q2138.88 286.124 2138.55 289.781 L2153.74 289.758 Z\" fill=\"#000000\" fill-rule=\"evenodd\" fill-opacity=\"1\" /><path clip-path=\"url(#clip630)\" d=\"M 0 0 M2181.12 280.105 L2181.12 284.087 Q2179.32 283.091 2177.49 282.605 Q2175.68 282.096 2173.83 282.096 Q2169.69 282.096 2167.4 284.735 Q2165.1 287.351 2165.1 292.096 Q2165.1 296.841 2167.4 299.48 Q2169.69 302.096 2173.83 302.096 Q2175.68 302.096 2177.49 301.61 Q2179.32 301.101 2181.12 300.105 L2181.12 304.04 Q2179.34 304.874 2177.42 305.29 Q2175.52 305.707 2173.37 305.707 Q2167.51 305.707 2164.06 302.026 Q2160.61 298.346 2160.61 292.096 Q2160.61 285.753 2164.09 282.119 Q2167.58 278.485 2173.65 278.485 Q2175.61 278.485 2177.49 278.902 Q2179.36 279.295 2181.12 280.105 Z\" fill=\"#000000\" fill-rule=\"evenodd\" fill-opacity=\"1\" /><path clip-path=\"url(#clip630)\" d=\"M 0 0 M2195.64 282.096 Q2192.21 282.096 2190.22 284.781 Q2188.23 287.443 2188.23 292.096 Q2188.23 296.749 2190.2 299.434 Q2192.19 302.096 2195.64 302.096 Q2199.04 302.096 2201.03 299.411 Q2203.02 296.726 2203.02 292.096 Q2203.02 287.49 2201.03 284.804 Q2199.04 282.096 2195.64 282.096 M2195.64 278.485 Q2201.19 278.485 2204.36 282.096 Q2207.54 285.707 2207.54 292.096 Q2207.54 298.462 2204.36 302.096 Q2201.19 305.707 2195.64 305.707 Q2190.06 305.707 2186.89 302.096 Q2183.74 298.462 2183.74 292.096 Q2183.74 285.707 2186.89 282.096 Q2190.06 278.485 2195.64 278.485 Z\" fill=\"#000000\" fill-rule=\"evenodd\" fill-opacity=\"1\" /><path clip-path=\"url(#clip630)\" d=\"M 0 0 M2233.55 289.388 L2233.55 305.036 L2229.29 305.036 L2229.29 289.527 Q2229.29 285.846 2227.86 284.017 Q2226.42 282.189 2223.55 282.189 Q2220.1 282.189 2218.11 284.388 Q2216.12 286.587 2216.12 290.383 L2216.12 305.036 L2211.84 305.036 L2211.84 279.11 L2216.12 279.11 L2216.12 283.138 Q2217.65 280.8 2219.71 279.642 Q2221.79 278.485 2224.5 278.485 Q2228.97 278.485 2231.26 281.263 Q2233.55 284.017 2233.55 289.388 Z\" fill=\"#000000\" fill-rule=\"evenodd\" fill-opacity=\"1\" /><polyline clip-path=\"url(#clip630)\" style=\"stroke:#3da44d; stroke-width:4; stroke-opacity:1; fill:none\" points=\"\n",
       "  1939.68,348.236 2082.72,348.236 \n",
       "  \"/>\n",
       "<path clip-path=\"url(#clip630)\" d=\"M 0 0 M2106.56 330.956 L2111.24 330.956 L2111.24 365.516 L2106.56 365.516 L2106.56 330.956 Z\" fill=\"#000000\" fill-rule=\"evenodd\" fill-opacity=\"1\" /><path clip-path=\"url(#clip630)\" d=\"M 0 0 M2137.26 349.868 L2137.26 365.516 L2133 365.516 L2133 350.007 Q2133 346.326 2131.56 344.497 Q2130.13 342.669 2127.26 342.669 Q2123.81 342.669 2121.82 344.868 Q2119.83 347.067 2119.83 350.863 L2119.83 365.516 L2115.54 365.516 L2115.54 339.59 L2119.83 339.59 L2119.83 343.618 Q2121.35 341.28 2123.42 340.122 Q2125.5 338.965 2128.21 338.965 Q2132.67 338.965 2134.97 341.743 Q2137.26 344.497 2137.26 349.868 Z\" fill=\"#000000\" fill-rule=\"evenodd\" fill-opacity=\"1\" /><path clip-path=\"url(#clip630)\" d=\"M 0 0 M2141.73 339.59 L2145.98 339.59 L2145.98 365.516 L2141.73 365.516 L2141.73 339.59 M2141.73 329.497 L2145.98 329.497 L2145.98 334.891 L2141.73 334.891 L2141.73 329.497 Z\" fill=\"#000000\" fill-rule=\"evenodd\" fill-opacity=\"1\" /><path clip-path=\"url(#clip630)\" d=\"M 0 0 M2154.66 332.229 L2154.66 339.59 L2163.44 339.59 L2163.44 342.9 L2154.66 342.9 L2154.66 356.974 Q2154.66 360.145 2155.52 361.048 Q2156.4 361.951 2159.06 361.951 L2163.44 361.951 L2163.44 365.516 L2159.06 365.516 Q2154.13 365.516 2152.26 363.687 Q2150.38 361.835 2150.38 356.974 L2150.38 342.9 L2147.26 342.9 L2147.26 339.59 L2150.38 339.59 L2150.38 332.229 L2154.66 332.229 Z\" fill=\"#000000\" fill-rule=\"evenodd\" fill-opacity=\"1\" /></svg>\n"
      ]
     },
     "execution_count": 39,
     "metadata": {},
     "output_type": "execute_result"
    }
   ],
   "source": [
    "kbins=convert(Array{Float64}, collect(1:32))\n",
    "true_ps = calc_1dps(apodizer(gttarget[\"true_img\"]), kbins)\n",
    "recon_ps = calc_1dps(apodizer(gttarget[\"recon\"]), kbins)\n",
    "init_ps = calc_1dps(apodizer(gttarget[\"init\"]), kbins)\n",
    "p = plot(log.(kbins), log.(true_ps), label=\"True\")\n",
    "plot!(log.(kbins), log.(recon_ps), label=\"Recon\")\n",
    "plot!(log.(kbins), log.(init_ps), label=\"Init\")\n",
    "plot!(title=\"FullCov Noiso: P(k) of Image\")\n",
    "xlabel!(\"lnk\")\n",
    "ylabel!(\"lnP(k)\")"
   ]
  },
  {
   "cell_type": "code",
   "execution_count": 40,
   "metadata": {},
   "outputs": [
    {
     "data": {
      "text/plain": [
       "1192-element Array{Float64,1}:\n",
       "  -3.144031877784822\n",
       " -10.936546358015779\n",
       "  -7.175948729949612\n",
       "  -6.912069606541453\n",
       "  -5.762511716584831\n",
       "  -6.473896463693209\n",
       "  -7.078632506472145\n",
       "  -6.508813780032913\n",
       "  -6.249305700008489\n",
       "  -6.489125133947129\n",
       "  -7.28006147739092\n",
       "  -6.231527617295995\n",
       "  -6.098724517252059\n",
       "   ⋮\n",
       "  -6.744409380148002\n",
       "  -7.069597157118807\n",
       "  -7.194831270753814\n",
       "  -6.914446623549263\n",
       "  -7.1622296921050195\n",
       "  -7.55984535041072\n",
       "  -7.280098569358903\n",
       "  -7.075231305945022\n",
       "  -6.946044616955598\n",
       "  -7.293234714166373\n",
       "  -2.855862523646302\n",
       "  -6.88024988022421"
      ]
     },
     "execution_count": 40,
     "metadata": {},
     "output_type": "execute_result"
    }
   ],
   "source": [
    "s_true = log.(DHC_compute_wrapper(gttarget[\"true_img\"], filter_hash, norm=false; dhc_args...))\n",
    "s_init = log.(DHC_compute_wrapper(gttarget[\"init\"], filter_hash, norm=false; dhc_args...))\n",
    "s_recon = log.(DHC_compute_wrapper(gttarget[\"recon\"], filter_hash, norm=false; dhc_args...))\n",
    "s_smooth = log.(DHC_compute_wrapper(imfilter(gttarget[\"init\"], Kernel.gaussian(0.8)), filter_hash, norm=false; dhc_args...))\n"
   ]
  },
  {
   "cell_type": "code",
   "execution_count": 41,
   "metadata": {},
   "outputs": [
    {
     "ename": "LoadError",
     "evalue": "UndefVarError: JS1ind not defined",
     "output_type": "error",
     "traceback": [
      "UndefVarError: JS1ind not defined",
      "",
      "Stacktrace:",
      " [1] top-level scope at In[41]:1",
      " [2] include_string(::Function, ::Module, ::String, ::String) at ./loading.jl:1091"
     ]
    }
   ],
   "source": [
    "struesel = s_true[JS1ind]\n",
    "sinitsel = s_init[JS1ind]\n",
    "sreconsel = s_recon[JS1ind]\n",
    "ssmoothsel = s_smooth[JS1ind]\n",
    "clims=(-9.0, -4.0)\n",
    "cg = cgrad([:blue, :white, :red])\n",
    "p = plot(heatmap(struesel, title=\"True\", clims=clims, c=cg),\n",
    "heatmap(sinitsel, title=\"Init\", clims=clims, c=cg),\n",
    "heatmap(ssmoothsel, title=\"SmoothInit\", clims=clims, c=cg),\n",
    "heatmap(sreconsel, title=\"Recon\", clims=clims, c=cg),\n",
    "heatmap(meansel, title=\"SFDTargMean\", clims=clims, c=cg),\n",
    "heatmap(sfdmed, title=\"SFDTargMedian\", clims=clims, c=cg), size=(900, 600))"
   ]
  },
  {
   "cell_type": "code",
   "execution_count": 42,
   "metadata": {},
   "outputs": [
    {
     "ename": "LoadError",
     "evalue": "UndefVarError: sinitsel not defined",
     "output_type": "error",
     "traceback": [
      "UndefVarError: sinitsel not defined",
      "",
      "Stacktrace:",
      " [1] top-level scope at In[42]:3",
      " [2] include_string(::Function, ::Module, ::String, ::String) at ./loading.jl:1091"
     ]
    }
   ],
   "source": [
    "clims=(-1.0, 1.0)\n",
    "cg = cgrad([:blue, :white, :red])\n",
    "p = plot(heatmap((sinitsel .- struesel)./sigsel, title=\"Z Score: Init-True\", clims=clims, c=cg),\n",
    "heatmap((ssmoothsel .- struesel)./sigsel, title=\"Z Score: SmoothInit-True\", clims=clims, c=cg),\n",
    "heatmap((sreconsel .- struesel)./sigsel, title=\"Z Score: Recon-True\", clims=clims, c=cg),\n",
    "heatmap((meansel .- struesel)./sigsel, title=\"Z Score: SFDTargMean-True\", clims=clims, c=cg),\n",
    "heatmap((sreconsel .- meansel)./sigsel, title=\"Z Score: Recon-SFDTargMean\", clims=clims, c=cg),\n",
    "heatmap((sfdmed .- struesel)./sigsel, title=\"Z Score: SFDTargMedian - True\", clims=clims, c=cg), size=(900, 600))"
   ]
  },
  {
   "cell_type": "markdown",
   "metadata": {},
   "source": [
    "### Why are the zscores so high? \n",
    "Figured out: the zscores themselves aren't abnormal -- you were just using the diagonal of the inverse full covariance matrix and that's WRONG. Diagonal of inverse is NOT the variance."
   ]
  },
  {
   "cell_type": "code",
   "execution_count": 43,
   "metadata": {},
   "outputs": [],
   "source": [
    "datdir = \"../../StandardizedExp/Nx64/Data_\"\n",
    "for f in [1, 10, 100, 1000, 10000]\n",
    "    s_true = log.(DHC_compute_wrapper(gttarget[\"true_img\"], filter_hash, norm=false; dhc_args...)[coeff_mask])\n",
    "end"
   ]
  },
  {
   "cell_type": "code",
   "execution_count": 44,
   "metadata": {},
   "outputs": [
    {
     "name": "stdout",
     "output_type": "stream",
     "text": [
      "True271.13355388014503\n",
      "0.8924165728318676\n",
      "Init388.091139523465\n",
      "0.0\n",
      "Recon7.196722678076889\n",
      "1.1711584235470576\n"
     ]
    }
   ],
   "source": [
    "fname = \"../../StandardizedExp/Nx64/noisy_stdtrue/SFDTargSFDCov/reg_apd_noiso/LogCoeff/1000_10_full_triu\"\n",
    "gttarget = load(fname*\".jld2\")\n",
    "filter_hash = gttarget[\"fhash\"]\n",
    "s_targ_mean, s_targ_invcov = gttarget[\"dict\"][\"fs_targ_mean\"], gttarget[\"dict\"][\"fs_invcov\"]\n",
    "dhc_args = Dict(:doS2=>false, :doS20=>true, :apodize=>true, :iso=>false)\n",
    "\n",
    "altrue = apodizer(gttarget[\"true_img\"])\n",
    "alinit = apodizer(gttarget[\"init\"])\n",
    "alrecon = apodizer(gttarget[\"recon\"])\n",
    "\n",
    "coeff_mask = gttarget[\"coeff_mask\"]\n",
    "s_true = log.(DHC_compute_wrapper(gttarget[\"true_img\"], filter_hash, norm=false; dhc_args...)[coeff_mask])\n",
    "s_init = log.(DHC_compute_wrapper(gttarget[\"init\"], filter_hash, norm=false; dhc_args...)[coeff_mask])\n",
    "s_recon = log.(DHC_compute_wrapper(gttarget[\"recon\"], filter_hash, norm=false; dhc_args...)[coeff_mask])\n",
    "ltruecheck = ( 0.5 .* (s_true - s_targ_mean)' * s_targ_invcov * (s_true - s_targ_mean))[1]\n",
    "l2true = 0.5*gttarget[\"dict\"][\"lambda\"]*sum((alinit - altrue).^2)\n",
    "println(\"True\", ltruecheck)\n",
    "println(l2true)\n",
    "\n",
    "l1init = ( 0.5 .* (s_init - s_targ_mean)' * s_targ_invcov * (s_init - s_targ_mean))[1]\n",
    "l2init = 0.5*gttarget[\"dict\"][\"lambda\"]*sum((alinit - alinit).^2)\n",
    "println(\"Init\", l1init)\n",
    "println(l2init)\n",
    "\n",
    "l1recon = ( 0.5 .* (s_recon - s_targ_mean)' * s_targ_invcov * (s_recon - s_targ_mean))[1]\n",
    "l2recon = 0.5*gttarget[\"dict\"][\"lambda\"]*sum((alrecon - alinit).^2)\n",
    "println(\"Recon\", l1recon)\n",
    "println(l2recon)\n"
   ]
  },
  {
   "cell_type": "code",
   "execution_count": 45,
   "metadata": {},
   "outputs": [
    {
     "data": {
      "image/svg+xml": [
       "<?xml version=\"1.0\" encoding=\"utf-8\"?>\n",
       "<svg xmlns=\"http://www.w3.org/2000/svg\" xmlns:xlink=\"http://www.w3.org/1999/xlink\" width=\"600\" height=\"400\" viewBox=\"0 0 2400 1600\">\n",
       "<defs>\n",
       "  <clipPath id=\"clip670\">\n",
       "    <rect x=\"0\" y=\"0\" width=\"2400\" height=\"1600\"/>\n",
       "  </clipPath>\n",
       "</defs>\n",
       "<path clip-path=\"url(#clip670)\" d=\"\n",
       "M0 1600 L2400 1600 L2400 0 L0 0  Z\n",
       "  \" fill=\"#ffffff\" fill-rule=\"evenodd\" fill-opacity=\"1\"/>\n",
       "<defs>\n",
       "  <clipPath id=\"clip671\">\n",
       "    <rect x=\"480\" y=\"0\" width=\"1681\" height=\"1600\"/>\n",
       "  </clipPath>\n",
       "</defs>\n",
       "<path clip-path=\"url(#clip670)\" d=\"\n",
       "M207.112 1423.18 L2352.76 1423.18 L2352.76 123.472 L207.112 123.472  Z\n",
       "  \" fill=\"#ffffff\" fill-rule=\"evenodd\" fill-opacity=\"1\"/>\n",
       "<defs>\n",
       "  <clipPath id=\"clip672\">\n",
       "    <rect x=\"207\" y=\"123\" width=\"2147\" height=\"1301\"/>\n",
       "  </clipPath>\n",
       "</defs>\n",
       "<polyline clip-path=\"url(#clip672)\" style=\"stroke:#000000; stroke-width:2; stroke-opacity:0.1; fill:none\" points=\"\n",
       "  267.837,1423.18 267.837,123.472 \n",
       "  \"/>\n",
       "<polyline clip-path=\"url(#clip672)\" style=\"stroke:#000000; stroke-width:2; stroke-opacity:0.1; fill:none\" points=\"\n",
       "  851.896,1423.18 851.896,123.472 \n",
       "  \"/>\n",
       "<polyline clip-path=\"url(#clip672)\" style=\"stroke:#000000; stroke-width:2; stroke-opacity:0.1; fill:none\" points=\"\n",
       "  1435.95,1423.18 1435.95,123.472 \n",
       "  \"/>\n",
       "<polyline clip-path=\"url(#clip672)\" style=\"stroke:#000000; stroke-width:2; stroke-opacity:0.1; fill:none\" points=\"\n",
       "  2020.01,1423.18 2020.01,123.472 \n",
       "  \"/>\n",
       "<polyline clip-path=\"url(#clip670)\" style=\"stroke:#000000; stroke-width:4; stroke-opacity:1; fill:none\" points=\"\n",
       "  207.112,1423.18 2352.76,1423.18 \n",
       "  \"/>\n",
       "<polyline clip-path=\"url(#clip670)\" style=\"stroke:#000000; stroke-width:4; stroke-opacity:1; fill:none\" points=\"\n",
       "  267.837,1423.18 267.837,1407.58 \n",
       "  \"/>\n",
       "<polyline clip-path=\"url(#clip670)\" style=\"stroke:#000000; stroke-width:4; stroke-opacity:1; fill:none\" points=\"\n",
       "  851.896,1423.18 851.896,1407.58 \n",
       "  \"/>\n",
       "<polyline clip-path=\"url(#clip670)\" style=\"stroke:#000000; stroke-width:4; stroke-opacity:1; fill:none\" points=\"\n",
       "  1435.95,1423.18 1435.95,1407.58 \n",
       "  \"/>\n",
       "<polyline clip-path=\"url(#clip670)\" style=\"stroke:#000000; stroke-width:4; stroke-opacity:1; fill:none\" points=\"\n",
       "  2020.01,1423.18 2020.01,1407.58 \n",
       "  \"/>\n",
       "<path clip-path=\"url(#clip670)\" d=\"M 0 0 M267.837 1452.37 Q264.226 1452.37 262.398 1455.94 Q260.592 1459.48 260.592 1466.61 Q260.592 1473.71 262.398 1477.28 Q264.226 1480.82 267.837 1480.82 Q271.472 1480.82 273.277 1477.28 Q275.106 1473.71 275.106 1466.61 Q275.106 1459.48 273.277 1455.94 Q271.472 1452.37 267.837 1452.37 M267.837 1448.67 Q273.648 1448.67 276.703 1453.27 Q279.782 1457.86 279.782 1466.61 Q279.782 1475.33 276.703 1479.94 Q273.648 1484.52 267.837 1484.52 Q262.027 1484.52 258.949 1479.94 Q255.893 1475.33 255.893 1466.61 Q255.893 1457.86 258.949 1453.27 Q262.027 1448.67 267.837 1448.67 Z\" fill=\"#000000\" fill-rule=\"evenodd\" fill-opacity=\"1\" /><path clip-path=\"url(#clip670)\" d=\"M 0 0 M842.278 1479.92 L849.917 1479.92 L849.917 1453.55 L841.607 1455.22 L841.607 1450.96 L849.871 1449.29 L854.546 1449.29 L854.546 1479.92 L862.185 1479.92 L862.185 1483.85 L842.278 1483.85 L842.278 1479.92 Z\" fill=\"#000000\" fill-rule=\"evenodd\" fill-opacity=\"1\" /><path clip-path=\"url(#clip670)\" d=\"M 0 0 M1430.61 1479.92 L1446.93 1479.92 L1446.93 1483.85 L1424.98 1483.85 L1424.98 1479.92 Q1427.64 1477.16 1432.23 1472.53 Q1436.83 1467.88 1438.01 1466.54 Q1440.26 1464.01 1441.14 1462.28 Q1442.04 1460.52 1442.04 1458.83 Q1442.04 1456.07 1440.1 1454.34 Q1438.18 1452.6 1435.07 1452.6 Q1432.88 1452.6 1430.42 1453.37 Q1427.99 1454.13 1425.21 1455.68 L1425.21 1450.96 Q1428.04 1449.82 1430.49 1449.25 Q1432.95 1448.67 1434.98 1448.67 Q1440.35 1448.67 1443.55 1451.35 Q1446.74 1454.04 1446.74 1458.53 Q1446.74 1460.66 1445.93 1462.58 Q1445.14 1464.48 1443.04 1467.07 Q1442.46 1467.74 1439.36 1470.96 Q1436.26 1474.15 1430.61 1479.92 Z\" fill=\"#000000\" fill-rule=\"evenodd\" fill-opacity=\"1\" /><path clip-path=\"url(#clip670)\" d=\"M 0 0 M2024.26 1465.22 Q2027.62 1465.94 2029.49 1468.2 Q2031.39 1470.47 2031.39 1473.81 Q2031.39 1478.92 2027.87 1481.72 Q2024.35 1484.52 2017.87 1484.52 Q2015.7 1484.52 2013.38 1484.08 Q2011.09 1483.67 2008.64 1482.81 L2008.64 1478.3 Q2010.58 1479.43 2012.9 1480.01 Q2015.21 1480.59 2017.73 1480.59 Q2022.13 1480.59 2024.42 1478.85 Q2026.74 1477.12 2026.74 1473.81 Q2026.74 1470.75 2024.58 1469.04 Q2022.46 1467.3 2018.64 1467.3 L2014.61 1467.3 L2014.61 1463.46 L2018.82 1463.46 Q2022.27 1463.46 2024.1 1462.09 Q2025.93 1460.7 2025.93 1458.11 Q2025.93 1455.45 2024.03 1454.04 Q2022.15 1452.6 2018.64 1452.6 Q2016.71 1452.6 2014.52 1453.02 Q2012.32 1453.44 2009.68 1454.31 L2009.68 1450.15 Q2012.34 1449.41 2014.65 1449.04 Q2016.99 1448.67 2019.05 1448.67 Q2024.38 1448.67 2027.48 1451.1 Q2030.58 1453.5 2030.58 1457.63 Q2030.58 1460.5 2028.94 1462.49 Q2027.29 1464.45 2024.26 1465.22 Z\" fill=\"#000000\" fill-rule=\"evenodd\" fill-opacity=\"1\" /><path clip-path=\"url(#clip670)\" d=\"M 0 0 M1240.34 1518.52 L1246.2 1518.52 L1246.2 1568.04 L1240.34 1568.04 L1240.34 1518.52 Z\" fill=\"#000000\" fill-rule=\"evenodd\" fill-opacity=\"1\" /><path clip-path=\"url(#clip670)\" d=\"M 0 0 M1281.97 1546.53 L1281.97 1568.04 L1276.11 1568.04 L1276.11 1546.72 Q1276.11 1541.66 1274.14 1539.14 Q1272.17 1536.63 1268.22 1536.63 Q1263.48 1536.63 1260.74 1539.65 Q1258 1542.68 1258 1547.9 L1258 1568.04 L1252.12 1568.04 L1252.12 1532.4 L1258 1532.4 L1258 1537.93 Q1260.1 1534.72 1262.94 1533.13 Q1265.8 1531.54 1269.53 1531.54 Q1275.67 1531.54 1278.82 1535.36 Q1281.97 1539.14 1281.97 1546.53 Z\" fill=\"#000000\" fill-rule=\"evenodd\" fill-opacity=\"1\" /><path clip-path=\"url(#clip670)\" d=\"M 0 0 M1287.89 1518.52 L1293.78 1518.52 L1293.78 1547.77 L1311.25 1532.4 L1318.73 1532.4 L1299.83 1549.07 L1319.53 1568.04 L1311.89 1568.04 L1293.78 1550.63 L1293.78 1568.04 L1287.89 1568.04 L1287.89 1518.52 Z\" fill=\"#000000\" fill-rule=\"evenodd\" fill-opacity=\"1\" /><polyline clip-path=\"url(#clip672)\" style=\"stroke:#000000; stroke-width:2; stroke-opacity:0.1; fill:none\" points=\"\n",
       "  207.112,1242.46 2352.76,1242.46 \n",
       "  \"/>\n",
       "<polyline clip-path=\"url(#clip672)\" style=\"stroke:#000000; stroke-width:2; stroke-opacity:0.1; fill:none\" points=\"\n",
       "  207.112,993.336 2352.76,993.336 \n",
       "  \"/>\n",
       "<polyline clip-path=\"url(#clip672)\" style=\"stroke:#000000; stroke-width:2; stroke-opacity:0.1; fill:none\" points=\"\n",
       "  207.112,744.21 2352.76,744.21 \n",
       "  \"/>\n",
       "<polyline clip-path=\"url(#clip672)\" style=\"stroke:#000000; stroke-width:2; stroke-opacity:0.1; fill:none\" points=\"\n",
       "  207.112,495.084 2352.76,495.084 \n",
       "  \"/>\n",
       "<polyline clip-path=\"url(#clip672)\" style=\"stroke:#000000; stroke-width:2; stroke-opacity:0.1; fill:none\" points=\"\n",
       "  207.112,245.958 2352.76,245.958 \n",
       "  \"/>\n",
       "<polyline clip-path=\"url(#clip670)\" style=\"stroke:#000000; stroke-width:4; stroke-opacity:1; fill:none\" points=\"\n",
       "  207.112,1423.18 207.112,123.472 \n",
       "  \"/>\n",
       "<polyline clip-path=\"url(#clip670)\" style=\"stroke:#000000; stroke-width:4; stroke-opacity:1; fill:none\" points=\"\n",
       "  207.112,1242.46 232.859,1242.46 \n",
       "  \"/>\n",
       "<polyline clip-path=\"url(#clip670)\" style=\"stroke:#000000; stroke-width:4; stroke-opacity:1; fill:none\" points=\"\n",
       "  207.112,993.336 232.859,993.336 \n",
       "  \"/>\n",
       "<polyline clip-path=\"url(#clip670)\" style=\"stroke:#000000; stroke-width:4; stroke-opacity:1; fill:none\" points=\"\n",
       "  207.112,744.21 232.859,744.21 \n",
       "  \"/>\n",
       "<polyline clip-path=\"url(#clip670)\" style=\"stroke:#000000; stroke-width:4; stroke-opacity:1; fill:none\" points=\"\n",
       "  207.112,495.084 232.859,495.084 \n",
       "  \"/>\n",
       "<polyline clip-path=\"url(#clip670)\" style=\"stroke:#000000; stroke-width:4; stroke-opacity:1; fill:none\" points=\"\n",
       "  207.112,245.958 232.859,245.958 \n",
       "  \"/>\n",
       "<path clip-path=\"url(#clip670)\" d=\"M 0 0 M114.26 1242.91 L143.936 1242.91 L143.936 1246.85 L114.26 1246.85 L114.26 1242.91 Z\" fill=\"#000000\" fill-rule=\"evenodd\" fill-opacity=\"1\" /><path clip-path=\"url(#clip670)\" d=\"M 0 0 M159.584 1240.6 Q156.436 1240.6 154.584 1242.75 Q152.755 1244.9 152.755 1248.65 Q152.755 1252.38 154.584 1254.56 Q156.436 1256.71 159.584 1256.71 Q162.732 1256.71 164.561 1254.56 Q166.413 1252.38 166.413 1248.65 Q166.413 1244.9 164.561 1242.75 Q162.732 1240.6 159.584 1240.6 M168.866 1225.95 L168.866 1230.2 Q167.107 1229.37 165.302 1228.93 Q163.519 1228.49 161.76 1228.49 Q157.13 1228.49 154.677 1231.62 Q152.246 1234.74 151.899 1241.06 Q153.265 1239.05 155.325 1237.98 Q157.385 1236.89 159.862 1236.89 Q165.07 1236.89 168.079 1240.07 Q171.112 1243.21 171.112 1248.65 Q171.112 1253.98 167.964 1257.2 Q164.815 1260.41 159.584 1260.41 Q153.589 1260.41 150.417 1255.83 Q147.246 1251.22 147.246 1242.5 Q147.246 1234.3 151.135 1229.44 Q155.024 1224.56 161.575 1224.56 Q163.334 1224.56 165.116 1224.9 Q166.922 1225.25 168.866 1225.95 Z\" fill=\"#000000\" fill-rule=\"evenodd\" fill-opacity=\"1\" /><path clip-path=\"url(#clip670)\" d=\"M 0 0 M115.07 993.787 L144.746 993.787 L144.746 997.722 L115.07 997.722 L115.07 993.787 Z\" fill=\"#000000\" fill-rule=\"evenodd\" fill-opacity=\"1\" /><path clip-path=\"url(#clip670)\" d=\"M 0 0 M163.982 991.982 Q167.339 992.699 169.214 994.968 Q171.112 997.236 171.112 1000.57 Q171.112 1005.69 167.593 1008.49 Q164.075 1011.29 157.593 1011.29 Q155.417 1011.29 153.103 1010.85 Q150.811 1010.43 148.357 1009.57 L148.357 1005.06 Q150.302 1006.19 152.616 1006.77 Q154.931 1007.35 157.454 1007.35 Q161.852 1007.35 164.144 1005.62 Q166.459 1003.88 166.459 1000.57 Q166.459 997.514 164.306 995.801 Q162.177 994.065 158.357 994.065 L154.329 994.065 L154.329 990.222 L158.542 990.222 Q161.991 990.222 163.82 988.857 Q165.649 987.468 165.649 984.875 Q165.649 982.213 163.751 980.801 Q161.876 979.366 158.357 979.366 Q156.436 979.366 154.237 979.783 Q152.038 980.199 149.399 981.079 L149.399 976.912 Q152.061 976.171 154.376 975.801 Q156.714 975.431 158.774 975.431 Q164.098 975.431 167.2 977.861 Q170.302 980.269 170.302 984.389 Q170.302 987.259 168.658 989.25 Q167.015 991.218 163.982 991.982 Z\" fill=\"#000000\" fill-rule=\"evenodd\" fill-opacity=\"1\" /><path clip-path=\"url(#clip670)\" d=\"M 0 0 M159.167 730.009 Q155.556 730.009 153.728 733.573 Q151.922 737.115 151.922 744.245 Q151.922 751.351 153.728 754.916 Q155.556 758.457 159.167 758.457 Q162.802 758.457 164.607 754.916 Q166.436 751.351 166.436 744.245 Q166.436 737.115 164.607 733.573 Q162.802 730.009 159.167 730.009 M159.167 726.305 Q164.977 726.305 168.033 730.911 Q171.112 735.495 171.112 744.245 Q171.112 752.971 168.033 757.578 Q164.977 762.161 159.167 762.161 Q153.357 762.161 150.278 757.578 Q147.223 752.971 147.223 744.245 Q147.223 735.495 150.278 730.911 Q153.357 726.305 159.167 726.305 Z\" fill=\"#000000\" fill-rule=\"evenodd\" fill-opacity=\"1\" /><path clip-path=\"url(#clip670)\" d=\"M 0 0 M163.982 493.73 Q167.339 494.448 169.214 496.716 Q171.112 498.985 171.112 502.318 Q171.112 507.434 167.593 510.234 Q164.075 513.035 157.593 513.035 Q155.417 513.035 153.103 512.596 Q150.811 512.179 148.357 511.322 L148.357 506.809 Q150.302 507.943 152.616 508.522 Q154.931 509.1 157.454 509.1 Q161.852 509.1 164.144 507.364 Q166.459 505.628 166.459 502.318 Q166.459 499.262 164.306 497.549 Q162.177 495.813 158.357 495.813 L154.329 495.813 L154.329 491.971 L158.542 491.971 Q161.991 491.971 163.82 490.605 Q165.649 489.216 165.649 486.623 Q165.649 483.961 163.751 482.549 Q161.876 481.114 158.357 481.114 Q156.436 481.114 154.237 481.531 Q152.038 481.948 149.399 482.827 L149.399 478.661 Q152.061 477.92 154.376 477.549 Q156.714 477.179 158.774 477.179 Q164.098 477.179 167.2 479.61 Q170.302 482.017 170.302 486.137 Q170.302 489.008 168.658 490.998 Q167.015 492.966 163.982 493.73 Z\" fill=\"#000000\" fill-rule=\"evenodd\" fill-opacity=\"1\" /><path clip-path=\"url(#clip670)\" d=\"M 0 0 M159.584 244.095 Q156.436 244.095 154.584 246.248 Q152.755 248.4 152.755 252.15 Q152.755 255.877 154.584 258.053 Q156.436 260.206 159.584 260.206 Q162.732 260.206 164.561 258.053 Q166.413 255.877 166.413 252.15 Q166.413 248.4 164.561 246.248 Q162.732 244.095 159.584 244.095 M168.866 229.442 L168.866 233.701 Q167.107 232.868 165.302 232.428 Q163.519 231.988 161.76 231.988 Q157.13 231.988 154.677 235.113 Q152.246 238.238 151.899 244.558 Q153.265 242.544 155.325 241.479 Q157.385 240.391 159.862 240.391 Q165.07 240.391 168.079 243.562 Q171.112 246.711 171.112 252.15 Q171.112 257.474 167.964 260.692 Q164.815 263.91 159.584 263.91 Q153.589 263.91 150.417 259.326 Q147.246 254.72 147.246 245.993 Q147.246 237.799 151.135 232.938 Q155.024 228.053 161.575 228.053 Q163.334 228.053 165.116 228.4 Q166.922 228.748 168.866 229.442 Z\" fill=\"#000000\" fill-rule=\"evenodd\" fill-opacity=\"1\" /><path clip-path=\"url(#clip670)\" d=\"M 0 0 M14.479 851.481 L14.479 845.624 L64.0042 845.624 L64.0042 851.481 L14.479 851.481 Z\" fill=\"#000000\" fill-rule=\"evenodd\" fill-opacity=\"1\" /><path clip-path=\"url(#clip670)\" d=\"M 0 0 M42.4881 809.849 L64.0042 809.849 L64.0042 815.706 L42.679 815.706 Q37.6183 815.706 35.1038 817.679 Q32.5894 819.652 32.5894 823.599 Q32.5894 828.342 35.6131 831.079 Q38.6368 833.816 43.8567 833.816 L64.0042 833.816 L64.0042 839.704 L28.3562 839.704 L28.3562 833.816 L33.8944 833.816 Q30.6797 831.715 29.0883 828.883 Q27.4968 826.018 27.4968 822.294 Q27.4968 816.151 31.3163 813 Q35.1038 809.849 42.4881 809.849 Z\" fill=\"#000000\" fill-rule=\"evenodd\" fill-opacity=\"1\" /><path clip-path=\"url(#clip670)\" d=\"M 0 0 M21.7677 797.022 L39.6235 797.022 L39.6235 788.938 Q39.6235 784.45 37.3 781.999 Q34.9765 779.548 30.6797 779.548 Q26.4147 779.548 24.0912 781.999 Q21.7677 784.45 21.7677 788.938 L21.7677 797.022 M16.4842 803.452 L16.4842 788.938 Q16.4842 780.949 20.1126 776.875 Q23.7092 772.769 30.6797 772.769 Q37.7138 772.769 41.3104 776.875 Q44.907 780.949 44.907 788.938 L44.907 797.022 L64.0042 797.022 L64.0042 803.452 L16.4842 803.452 Z\" fill=\"#000000\" fill-rule=\"evenodd\" fill-opacity=\"1\" /><path clip-path=\"url(#clip670)\" d=\"M 0 0 M14.5426 752.558 Q21.8632 756.823 29.0246 758.892 Q36.186 760.961 43.5384 760.961 Q50.8908 760.961 58.1159 758.892 Q65.3091 756.791 72.5979 752.558 L72.5979 757.65 Q65.1182 762.425 57.8931 764.812 Q50.668 767.167 43.5384 767.167 Q36.4406 767.167 29.2474 764.812 Q22.0542 762.457 14.5426 757.65 L14.5426 752.558 Z\" fill=\"#000000\" fill-rule=\"evenodd\" fill-opacity=\"1\" /><path clip-path=\"url(#clip670)\" d=\"M 0 0 M14.479 746.638 L14.479 740.749 L43.7294 740.749 L28.3562 723.276 L28.3562 715.796 L45.0344 734.702 L64.0042 715 L64.0042 722.639 L46.5939 740.749 L64.0042 740.749 L64.0042 746.638 L14.479 746.638 Z\" fill=\"#000000\" fill-rule=\"evenodd\" fill-opacity=\"1\" /><path clip-path=\"url(#clip670)\" d=\"M 0 0 M14.5426 709.78 L14.5426 704.688 Q22.0542 699.913 29.2474 697.558 Q36.4406 695.171 43.5384 695.171 Q50.668 695.171 57.8931 697.558 Q65.1182 699.913 72.5979 704.688 L72.5979 709.78 Q65.3091 705.547 58.1159 703.478 Q50.8908 701.378 43.5384 701.378 Q36.186 701.378 29.0246 703.478 Q21.8632 705.547 14.5426 709.78 Z\" fill=\"#000000\" fill-rule=\"evenodd\" fill-opacity=\"1\" /><path clip-path=\"url(#clip670)\" d=\"M 0 0 M767.555 12.096 L802.312 12.096 L802.312 18.9825 L775.738 18.9825 L775.738 36.8065 L799.719 36.8065 L799.719 43.6931 L775.738 43.6931 L775.738 72.576 L767.555 72.576 L767.555 12.096 Z\" fill=\"#000000\" fill-rule=\"evenodd\" fill-opacity=\"1\" /><path clip-path=\"url(#clip670)\" d=\"M 0 0 M804.824 54.671 L804.824 27.2059 L812.277 27.2059 L812.277 54.3874 Q812.277 60.8284 814.789 64.0691 Q817.3 67.2693 822.323 67.2693 Q828.359 67.2693 831.843 63.421 Q835.367 59.5726 835.367 52.9291 L835.367 27.2059 L842.821 27.2059 L842.821 72.576 L835.367 72.576 L835.367 65.6084 Q832.653 69.7404 829.048 71.7658 Q825.483 73.7508 820.744 73.7508 Q812.925 73.7508 808.874 68.8897 Q804.824 64.0286 804.824 54.671 M823.579 26.1121 L823.579 26.1121 Z\" fill=\"#000000\" fill-rule=\"evenodd\" fill-opacity=\"1\" /><path clip-path=\"url(#clip670)\" d=\"M 0 0 M850.639 9.54393 L858.093 9.54393 L858.093 72.576 L850.639 72.576 L850.639 9.54393 Z\" fill=\"#000000\" fill-rule=\"evenodd\" fill-opacity=\"1\" /><path clip-path=\"url(#clip670)\" d=\"M 0 0 M865.911 9.54393 L873.365 9.54393 L873.365 72.576 L865.911 72.576 L865.911 9.54393 Z\" fill=\"#000000\" fill-rule=\"evenodd\" fill-opacity=\"1\" /><path clip-path=\"url(#clip670)\" d=\"M 0 0 M926.796 16.7545 L926.796 25.383 Q922.664 21.5346 917.965 19.6307 Q913.307 17.7268 908.041 17.7268 Q897.67 17.7268 892.161 24.0867 Q886.652 30.4061 886.652 42.3968 Q886.652 54.3469 892.161 60.7069 Q897.67 67.0263 908.041 67.0263 Q913.307 67.0263 917.965 65.1223 Q922.664 63.2184 926.796 59.3701 L926.796 67.9175 Q922.502 70.8341 917.682 72.2924 Q912.902 73.7508 907.554 73.7508 Q893.822 73.7508 885.923 65.3654 Q878.023 56.9395 878.023 42.3968 Q878.023 27.8135 885.923 19.4281 Q893.822 11.0023 907.554 11.0023 Q912.983 11.0023 917.763 12.4606 Q922.583 13.8784 926.796 16.7545 Z\" fill=\"#000000\" fill-rule=\"evenodd\" fill-opacity=\"1\" /><path clip-path=\"url(#clip670)\" d=\"M 0 0 M952.195 32.4315 Q946.2 32.4315 942.716 37.1306 Q939.233 41.7891 939.233 49.9314 Q939.233 58.0738 942.676 62.7728 Q946.16 67.4314 952.195 67.4314 Q958.15 67.4314 961.634 62.7323 Q965.118 58.0333 965.118 49.9314 Q965.118 41.8701 961.634 37.1711 Q958.15 32.4315 952.195 32.4315 M952.195 26.1121 Q961.918 26.1121 967.467 32.4315 Q973.017 38.7509 973.017 49.9314 Q973.017 61.0714 967.467 67.4314 Q961.918 73.7508 952.195 73.7508 Q942.433 73.7508 936.883 67.4314 Q931.374 61.0714 931.374 49.9314 Q931.374 38.7509 936.883 32.4315 Q942.433 26.1121 952.195 26.1121 Z\" fill=\"#000000\" fill-rule=\"evenodd\" fill-opacity=\"1\" /><path clip-path=\"url(#clip670)\" d=\"M 0 0 M975.488 27.2059 L983.387 27.2059 L997.566 65.2844 L1011.74 27.2059 L1019.64 27.2059 L1002.63 72.576 L992.502 72.576 L975.488 27.2059 Z\" fill=\"#000000\" fill-rule=\"evenodd\" fill-opacity=\"1\" /><path clip-path=\"url(#clip670)\" d=\"M 0 0 M1054.16 12.096 L1065.18 12.096 L1091.99 62.6918 L1091.99 12.096 L1099.93 12.096 L1099.93 72.576 L1088.91 72.576 L1062.1 21.9802 L1062.1 72.576 L1054.16 72.576 L1054.16 12.096 Z\" fill=\"#000000\" fill-rule=\"evenodd\" fill-opacity=\"1\" /><path clip-path=\"url(#clip670)\" d=\"M 0 0 M1125.33 32.4315 Q1119.34 32.4315 1115.85 37.1306 Q1112.37 41.7891 1112.37 49.9314 Q1112.37 58.0738 1115.81 62.7728 Q1119.3 67.4314 1125.33 67.4314 Q1131.29 67.4314 1134.77 62.7323 Q1138.25 58.0333 1138.25 49.9314 Q1138.25 41.8701 1134.77 37.1711 Q1131.29 32.4315 1125.33 32.4315 M1125.33 26.1121 Q1135.05 26.1121 1140.6 32.4315 Q1146.15 38.7509 1146.15 49.9314 Q1146.15 61.0714 1140.6 67.4314 Q1135.05 73.7508 1125.33 73.7508 Q1115.57 73.7508 1110.02 67.4314 Q1104.51 61.0714 1104.51 49.9314 Q1104.51 38.7509 1110.02 32.4315 Q1115.57 26.1121 1125.33 26.1121 Z\" fill=\"#000000\" fill-rule=\"evenodd\" fill-opacity=\"1\" /><path clip-path=\"url(#clip670)\" d=\"M 0 0 M1153.97 27.2059 L1161.42 27.2059 L1161.42 72.576 L1153.97 72.576 L1153.97 27.2059 M1153.97 9.54393 L1161.42 9.54393 L1161.42 18.9825 L1153.97 18.9825 L1153.97 9.54393 Z\" fill=\"#000000\" fill-rule=\"evenodd\" fill-opacity=\"1\" /><path clip-path=\"url(#clip670)\" d=\"M 0 0 M1198.17 28.5427 L1198.17 35.5912 Q1195.01 33.9709 1191.6 33.1607 Q1188.2 32.3505 1184.56 32.3505 Q1179.01 32.3505 1176.21 34.0519 Q1173.46 35.7533 1173.46 39.156 Q1173.46 41.7486 1175.44 43.2475 Q1177.43 44.7058 1183.42 46.0426 L1185.97 46.6097 Q1193.91 48.3111 1197.23 51.4303 Q1200.6 54.509 1200.6 60.0587 Q1200.6 66.3781 1195.57 70.0644 Q1190.59 73.7508 1181.84 73.7508 Q1178.2 73.7508 1174.23 73.0216 Q1170.3 72.3329 1165.92 70.9151 L1165.92 63.2184 Q1170.05 65.3654 1174.06 66.4591 Q1178.07 67.5124 1182 67.5124 Q1187.27 67.5124 1190.11 65.73 Q1192.94 63.9071 1192.94 60.6258 Q1192.94 57.5877 1190.87 55.9673 Q1188.85 54.3469 1181.92 52.8481 L1179.33 52.2405 Q1172.4 50.7821 1169.32 47.7845 Q1166.25 44.7463 1166.25 39.4801 Q1166.25 33.0797 1170.78 29.5959 Q1175.32 26.1121 1183.66 26.1121 Q1187.8 26.1121 1191.44 26.7198 Q1195.09 27.3274 1198.17 28.5427 Z\" fill=\"#000000\" fill-rule=\"evenodd\" fill-opacity=\"1\" /><path clip-path=\"url(#clip670)\" d=\"M 0 0 M1226 32.4315 Q1220 32.4315 1216.52 37.1306 Q1213.03 41.7891 1213.03 49.9314 Q1213.03 58.0738 1216.48 62.7728 Q1219.96 67.4314 1226 67.4314 Q1231.95 67.4314 1235.43 62.7323 Q1238.92 58.0333 1238.92 49.9314 Q1238.92 41.8701 1235.43 37.1711 Q1231.95 32.4315 1226 32.4315 M1226 26.1121 Q1235.72 26.1121 1241.27 32.4315 Q1246.82 38.7509 1246.82 49.9314 Q1246.82 61.0714 1241.27 67.4314 Q1235.72 73.7508 1226 73.7508 Q1216.23 73.7508 1210.68 67.4314 Q1205.17 61.0714 1205.17 49.9314 Q1205.17 38.7509 1210.68 32.4315 Q1216.23 26.1121 1226 26.1121 Z\" fill=\"#000000\" fill-rule=\"evenodd\" fill-opacity=\"1\" /><path clip-path=\"url(#clip670)\" d=\"M 0 0 M1256.54 62.2867 L1265.09 62.2867 L1265.09 72.576 L1256.54 72.576 L1256.54 62.2867 M1256.54 29.6769 L1265.09 29.6769 L1265.09 39.9662 L1256.54 39.9662 L1256.54 29.6769 Z\" fill=\"#000000\" fill-rule=\"evenodd\" fill-opacity=\"1\" /><path clip-path=\"url(#clip670)\" d=\"M 0 0 M1307.78 18.8205 L1307.78 41.5461 L1318.07 41.5461 Q1323.78 41.5461 1326.9 38.5889 Q1330.02 35.6318 1330.02 30.163 Q1330.02 24.7348 1326.9 21.7777 Q1323.78 18.8205 1318.07 18.8205 L1307.78 18.8205 M1299.6 12.096 L1318.07 12.096 Q1328.24 12.096 1333.43 16.714 Q1338.65 21.2916 1338.65 30.163 Q1338.65 39.1155 1333.43 43.6931 Q1328.24 48.2706 1318.07 48.2706 L1307.78 48.2706 L1307.78 72.576 L1299.6 72.576 L1299.6 12.096 Z\" fill=\"#000000\" fill-rule=\"evenodd\" fill-opacity=\"1\" /><path clip-path=\"url(#clip670)\" d=\"M 0 0 M1364.37 9.62495 Q1358.95 18.942 1356.31 28.0566 Q1353.68 37.1711 1353.68 46.5287 Q1353.68 55.8863 1356.31 65.0818 Q1358.99 74.2369 1364.37 83.5134 L1357.89 83.5134 Q1351.82 73.9938 1348.78 64.7983 Q1345.78 55.6027 1345.78 46.5287 Q1345.78 37.4952 1348.78 28.3401 Q1351.78 19.1851 1357.89 9.62495 L1364.37 9.62495 Z\" fill=\"#000000\" fill-rule=\"evenodd\" fill-opacity=\"1\" /><path clip-path=\"url(#clip670)\" d=\"M 0 0 M1371.91 9.54393 L1379.4 9.54393 L1379.4 46.7717 L1401.64 27.2059 L1411.16 27.2059 L1387.1 48.4326 L1412.18 72.576 L1402.45 72.576 L1379.4 50.4176 L1379.4 72.576 L1371.91 72.576 L1371.91 9.54393 Z\" fill=\"#000000\" fill-rule=\"evenodd\" fill-opacity=\"1\" /><path clip-path=\"url(#clip670)\" d=\"M 0 0 M1418.82 9.62495 L1425.3 9.62495 Q1431.38 19.1851 1434.37 28.3401 Q1437.41 37.4952 1437.41 46.5287 Q1437.41 55.6027 1434.37 64.7983 Q1431.38 73.9938 1425.3 83.5134 L1418.82 83.5134 Q1424.21 74.2369 1426.84 65.0818 Q1429.51 55.8863 1429.51 46.5287 Q1429.51 37.1711 1426.84 28.0566 Q1424.21 18.942 1418.82 9.62495 Z\" fill=\"#000000\" fill-rule=\"evenodd\" fill-opacity=\"1\" /><path clip-path=\"url(#clip670)\" d=\"M 0 0 M1489.18 32.4315 Q1483.19 32.4315 1479.7 37.1306 Q1476.22 41.7891 1476.22 49.9314 Q1476.22 58.0738 1479.66 62.7728 Q1483.15 67.4314 1489.18 67.4314 Q1495.14 67.4314 1498.62 62.7323 Q1502.11 58.0333 1502.11 49.9314 Q1502.11 41.8701 1498.62 37.1711 Q1495.14 32.4315 1489.18 32.4315 M1489.18 26.1121 Q1498.91 26.1121 1504.46 32.4315 Q1510 38.7509 1510 49.9314 Q1510 61.0714 1504.46 67.4314 Q1498.91 73.7508 1489.18 73.7508 Q1479.42 73.7508 1473.87 67.4314 Q1468.36 61.0714 1468.36 49.9314 Q1468.36 38.7509 1473.87 32.4315 Q1479.42 26.1121 1489.18 26.1121 Z\" fill=\"#000000\" fill-rule=\"evenodd\" fill-opacity=\"1\" /><path clip-path=\"url(#clip670)\" d=\"M 0 0 M1540.79 9.54393 L1540.79 15.7418 L1533.66 15.7418 Q1529.65 15.7418 1528.07 17.3622 Q1526.53 18.9825 1526.53 23.1955 L1526.53 27.2059 L1538.81 27.2059 L1538.81 32.9987 L1526.53 32.9987 L1526.53 72.576 L1519.04 72.576 L1519.04 32.9987 L1511.91 32.9987 L1511.91 27.2059 L1519.04 27.2059 L1519.04 24.0462 Q1519.04 16.471 1522.56 13.0277 Q1526.09 9.54393 1533.74 9.54393 L1540.79 9.54393 Z\" fill=\"#000000\" fill-rule=\"evenodd\" fill-opacity=\"1\" /><path clip-path=\"url(#clip670)\" d=\"M 0 0 M1575.31 12.096 L1583.49 12.096 L1583.49 72.576 L1575.31 72.576 L1575.31 12.096 Z\" fill=\"#000000\" fill-rule=\"evenodd\" fill-opacity=\"1\" /><path clip-path=\"url(#clip670)\" d=\"M 0 0 M1626.63 35.9153 Q1629.43 30.8922 1633.31 28.5022 Q1637.2 26.1121 1642.47 26.1121 Q1649.56 26.1121 1653.41 31.0947 Q1657.26 36.0368 1657.26 45.1919 L1657.26 72.576 L1649.76 72.576 L1649.76 45.4349 Q1649.76 38.913 1647.45 35.7533 Q1645.14 32.5936 1640.4 32.5936 Q1634.61 32.5936 1631.25 36.4419 Q1627.89 40.2903 1627.89 46.9338 L1627.89 72.576 L1620.39 72.576 L1620.39 45.4349 Q1620.39 38.8725 1618.08 35.7533 Q1615.77 32.5936 1610.95 32.5936 Q1605.24 32.5936 1601.88 36.4824 Q1598.52 40.3308 1598.52 46.9338 L1598.52 72.576 L1591.02 72.576 L1591.02 27.2059 L1598.52 27.2059 L1598.52 34.2544 Q1601.07 30.082 1604.63 28.0971 Q1608.2 26.1121 1613.1 26.1121 Q1618.04 26.1121 1621.49 28.6237 Q1624.97 31.1352 1626.63 35.9153 Z\" fill=\"#000000\" fill-rule=\"evenodd\" fill-opacity=\"1\" /><path clip-path=\"url(#clip670)\" d=\"M 0 0 M1685.69 49.7694 Q1676.66 49.7694 1673.18 51.8354 Q1669.69 53.9013 1669.69 58.8839 Q1669.69 62.8538 1672.28 65.2034 Q1674.92 67.5124 1679.41 67.5124 Q1685.61 67.5124 1689.34 63.1374 Q1693.11 58.7219 1693.11 51.4303 L1693.11 49.7694 L1685.69 49.7694 M1700.56 46.6907 L1700.56 72.576 L1693.11 72.576 L1693.11 65.6895 Q1690.55 69.8214 1686.75 71.8063 Q1682.94 73.7508 1677.43 73.7508 Q1670.46 73.7508 1666.33 69.8619 Q1662.24 65.9325 1662.24 59.3701 Q1662.24 51.7138 1667.34 47.825 Q1672.49 43.9361 1682.65 43.9361 L1693.11 43.9361 L1693.11 43.2069 Q1693.11 38.0623 1689.7 35.2672 Q1686.34 32.4315 1680.22 32.4315 Q1676.34 32.4315 1672.65 33.3632 Q1668.96 34.295 1665.56 36.1584 L1665.56 29.2718 Q1669.65 27.692 1673.5 26.9223 Q1677.35 26.1121 1680.99 26.1121 Q1690.84 26.1121 1695.7 31.2163 Q1700.56 36.3204 1700.56 46.6907 Z\" fill=\"#000000\" fill-rule=\"evenodd\" fill-opacity=\"1\" /><path clip-path=\"url(#clip670)\" d=\"M 0 0 M1738.23 49.3643 Q1738.23 41.2625 1734.87 36.8065 Q1731.55 32.3505 1725.51 32.3505 Q1719.52 32.3505 1716.16 36.8065 Q1712.83 41.2625 1712.83 49.3643 Q1712.83 57.4256 1716.16 61.8816 Q1719.52 66.3376 1725.51 66.3376 Q1731.55 66.3376 1734.87 61.8816 Q1738.23 57.4256 1738.23 49.3643 M1745.69 66.9452 Q1745.69 78.5308 1740.54 84.1616 Q1735.4 89.8329 1724.78 89.8329 Q1720.85 89.8329 1717.37 89.2252 Q1713.89 88.6581 1710.61 87.4428 L1710.61 80.1917 Q1713.89 81.9741 1717.09 82.8248 Q1720.29 83.6755 1723.61 83.6755 Q1730.94 83.6755 1734.59 79.8271 Q1738.23 76.0193 1738.23 68.282 L1738.23 64.5957 Q1735.92 68.6061 1732.32 70.5911 Q1728.71 72.576 1723.69 72.576 Q1715.35 72.576 1710.24 66.2161 Q1705.14 59.8562 1705.14 49.3643 Q1705.14 38.832 1710.24 32.472 Q1715.35 26.1121 1723.69 26.1121 Q1728.71 26.1121 1732.32 28.0971 Q1735.92 30.082 1738.23 34.0924 L1738.23 27.2059 L1745.69 27.2059 L1745.69 66.9452 Z\" fill=\"#000000\" fill-rule=\"evenodd\" fill-opacity=\"1\" /><path clip-path=\"url(#clip670)\" d=\"M 0 0 M1792.31 48.0275 L1792.31 51.6733 L1758.04 51.6733 Q1758.53 59.3701 1762.66 63.421 Q1766.83 67.4314 1774.25 67.4314 Q1778.54 67.4314 1782.55 66.3781 Q1786.6 65.3249 1790.57 63.2184 L1790.57 70.267 Q1786.56 71.9684 1782.35 72.8596 Q1778.13 73.7508 1773.8 73.7508 Q1762.94 73.7508 1756.58 67.4314 Q1750.26 61.1119 1750.26 50.3365 Q1750.26 39.1965 1756.26 32.6746 Q1762.3 26.1121 1772.5 26.1121 Q1781.66 26.1121 1786.97 32.0264 Q1792.31 37.9003 1792.31 48.0275 M1784.86 45.84 Q1784.78 39.7232 1781.42 36.0774 Q1778.09 32.4315 1772.58 32.4315 Q1766.35 32.4315 1762.58 35.9558 Q1758.85 39.4801 1758.28 45.8805 L1784.86 45.84 Z\" fill=\"#000000\" fill-rule=\"evenodd\" fill-opacity=\"1\" /><polyline clip-path=\"url(#clip672)\" style=\"stroke:#009af9; stroke-width:4; stroke-opacity:1; fill:none\" points=\"\n",
       "  267.837,171.104 672.676,584.53 909.491,645.01 1077.51,679.208 1207.84,761.34 1314.33,773.67 1404.36,837.321 1482.35,892.854 1551.15,893.658 1612.68,950.566 \n",
       "  1668.35,960.232 1719.17,987.198 1765.92,1008.21 1809.2,1029.11 1849.5,1039.32 1887.19,1087.26 1922.6,1088.6 1955.98,1127.67 1987.56,1152.31 2017.52,1163.18 \n",
       "  2046.02,1209.77 2073.19,1208.28 2099.15,1232.93 2124.01,1247.57 2147.85,1258.55 2170.76,1276.89 2192.8,1311.18 2214.04,1330.29 2234.54,1344.47 2254.34,1373.52 \n",
       "  2273.49,1386.08 2292.03,1386.4 \n",
       "  \"/>\n",
       "<polyline clip-path=\"url(#clip672)\" style=\"stroke:#e26f46; stroke-width:4; stroke-opacity:1; fill:none\" points=\"\n",
       "  267.837,160.256 672.676,621.952 909.491,691.903 1077.51,785.66 1207.84,848.856 1314.33,847.664 1404.36,940.061 1482.35,955.173 1551.15,969.541 1612.68,976.109 \n",
       "  1668.35,989.72 1719.17,1037.45 1765.92,1066.01 1809.2,1104.1 1849.5,1124.21 1887.19,1147.03 1922.6,1160.82 1955.98,1154.07 1987.56,1177.37 2017.52,1179.5 \n",
       "  2046.02,1213.95 2073.19,1237.85 2099.15,1266.72 2124.01,1273.87 2147.85,1311.03 2170.76,1321.96 2192.8,1345.73 2214.04,1352.37 2234.54,1370.06 2254.34,1381.04 \n",
       "  2273.49,1372.9 2292.03,1373.9 \n",
       "  \"/>\n",
       "<polyline clip-path=\"url(#clip672)\" style=\"stroke:#3da44d; stroke-width:4; stroke-opacity:1; fill:none\" points=\"\n",
       "  267.837,169.694 672.676,583.989 909.491,635.77 1077.51,668.035 1207.84,750.479 1314.33,757.248 1404.36,812.044 1482.35,838.679 1551.15,817.896 1612.68,855.938 \n",
       "  1668.35,879.881 1719.17,871.974 1765.92,885.642 1809.2,882.243 1849.5,879.952 1887.19,878.16 1922.6,884.445 1955.98,893.782 1987.56,876.373 2017.52,875.896 \n",
       "  2046.02,880.421 2073.19,900.268 2099.15,923.857 2124.01,891.148 2147.85,894.7 2170.76,881.747 2192.8,878 2214.04,884.113 2234.54,877.778 2254.34,879.434 \n",
       "  2273.49,885.853 2292.03,873.256 \n",
       "  \"/>\n",
       "<path clip-path=\"url(#clip670)\" d=\"\n",
       "M1915.84 408.716 L2281.23 408.716 L2281.23 166.796 L1915.84 166.796  Z\n",
       "  \" fill=\"#ffffff\" fill-rule=\"evenodd\" fill-opacity=\"1\"/>\n",
       "<polyline clip-path=\"url(#clip670)\" style=\"stroke:#000000; stroke-width:4; stroke-opacity:1; fill:none\" points=\"\n",
       "  1915.84,408.716 2281.23,408.716 2281.23,166.796 1915.84,166.796 1915.84,408.716 \n",
       "  \"/>\n",
       "<polyline clip-path=\"url(#clip670)\" style=\"stroke:#009af9; stroke-width:4; stroke-opacity:1; fill:none\" points=\"\n",
       "  1939.68,227.276 2082.72,227.276 \n",
       "  \"/>\n",
       "<path clip-path=\"url(#clip670)\" d=\"M 0 0 M2106.56 209.996 L2135.8 209.996 L2135.8 213.931 L2123.53 213.931 L2123.53 244.556 L2118.83 244.556 L2118.83 213.931 L2106.56 213.931 L2106.56 209.996 Z\" fill=\"#000000\" fill-rule=\"evenodd\" fill-opacity=\"1\" /><path clip-path=\"url(#clip670)\" d=\"M 0 0 M2148.32 222.611 Q2147.6 222.195 2146.75 222.01 Q2145.92 221.801 2144.9 221.801 Q2141.29 221.801 2139.34 224.162 Q2137.42 226.5 2137.42 230.898 L2137.42 244.556 L2133.14 244.556 L2133.14 218.63 L2137.42 218.63 L2137.42 222.658 Q2138.76 220.297 2140.92 219.162 Q2143.07 218.005 2146.15 218.005 Q2146.59 218.005 2147.12 218.074 Q2147.65 218.121 2148.3 218.236 L2148.32 222.611 Z\" fill=\"#000000\" fill-rule=\"evenodd\" fill-opacity=\"1\" /><path clip-path=\"url(#clip670)\" d=\"M 0 0 M2152.35 234.324 L2152.35 218.63 L2156.61 218.63 L2156.61 234.162 Q2156.61 237.843 2158.04 239.695 Q2159.48 241.523 2162.35 241.523 Q2165.8 241.523 2167.79 239.324 Q2169.8 237.125 2169.8 233.329 L2169.8 218.63 L2174.06 218.63 L2174.06 244.556 L2169.8 244.556 L2169.8 240.574 Q2168.25 242.935 2166.19 244.093 Q2164.16 245.227 2161.45 245.227 Q2156.98 245.227 2154.66 242.449 Q2152.35 239.671 2152.35 234.324 M2163.07 218.005 L2163.07 218.005 Z\" fill=\"#000000\" fill-rule=\"evenodd\" fill-opacity=\"1\" /><path clip-path=\"url(#clip670)\" d=\"M 0 0 M2200.71 230.528 L2200.71 232.611 L2181.12 232.611 Q2181.4 237.009 2183.76 239.324 Q2186.15 241.616 2190.38 241.616 Q2192.84 241.616 2195.13 241.014 Q2197.44 240.412 2199.71 239.209 L2199.71 243.236 Q2197.42 244.208 2195.01 244.718 Q2192.6 245.227 2190.13 245.227 Q2183.92 245.227 2180.29 241.616 Q2176.68 238.005 2176.68 231.847 Q2176.68 225.482 2180.1 221.755 Q2183.55 218.005 2189.39 218.005 Q2194.62 218.005 2197.65 221.385 Q2200.71 224.741 2200.71 230.528 M2196.45 229.278 Q2196.4 225.783 2194.48 223.699 Q2192.58 221.616 2189.43 221.616 Q2185.87 221.616 2183.72 223.63 Q2181.59 225.644 2181.26 229.301 L2196.45 229.278 Z\" fill=\"#000000\" fill-rule=\"evenodd\" fill-opacity=\"1\" /><polyline clip-path=\"url(#clip670)\" style=\"stroke:#e26f46; stroke-width:4; stroke-opacity:1; fill:none\" points=\"\n",
       "  1939.68,287.756 2082.72,287.756 \n",
       "  \"/>\n",
       "<path clip-path=\"url(#clip670)\" d=\"M 0 0 M2122.95 288.832 Q2124.46 289.341 2125.87 291.008 Q2127.3 292.675 2128.74 295.591 L2133.48 305.036 L2128.46 305.036 L2124.04 296.17 Q2122.33 292.698 2120.71 291.564 Q2119.11 290.429 2116.33 290.429 L2111.24 290.429 L2111.24 305.036 L2106.56 305.036 L2106.56 270.476 L2117.12 270.476 Q2123.04 270.476 2125.96 272.953 Q2128.88 275.429 2128.88 280.429 Q2128.88 283.693 2127.35 285.846 Q2125.85 287.999 2122.95 288.832 M2111.24 274.318 L2111.24 286.587 L2117.12 286.587 Q2120.5 286.587 2122.21 285.036 Q2123.95 283.462 2123.95 280.429 Q2123.95 277.397 2122.21 275.869 Q2120.5 274.318 2117.12 274.318 L2111.24 274.318 Z\" fill=\"#000000\" fill-rule=\"evenodd\" fill-opacity=\"1\" /><path clip-path=\"url(#clip670)\" d=\"M 0 0 M2158 291.008 L2158 293.091 L2138.42 293.091 Q2138.69 297.489 2141.05 299.804 Q2143.44 302.096 2147.67 302.096 Q2150.13 302.096 2152.42 301.494 Q2154.73 300.892 2157 299.689 L2157 303.716 Q2154.71 304.688 2152.3 305.198 Q2149.9 305.707 2147.42 305.707 Q2141.22 305.707 2137.58 302.096 Q2133.97 298.485 2133.97 292.327 Q2133.97 285.962 2137.4 282.235 Q2140.85 278.485 2146.68 278.485 Q2151.91 278.485 2154.94 281.865 Q2158 285.221 2158 291.008 M2153.74 289.758 Q2153.69 286.263 2151.77 284.179 Q2149.87 282.096 2146.73 282.096 Q2143.16 282.096 2141.01 284.11 Q2138.88 286.124 2138.55 289.781 L2153.74 289.758 Z\" fill=\"#000000\" fill-rule=\"evenodd\" fill-opacity=\"1\" /><path clip-path=\"url(#clip670)\" d=\"M 0 0 M2181.12 280.105 L2181.12 284.087 Q2179.32 283.091 2177.49 282.605 Q2175.68 282.096 2173.83 282.096 Q2169.69 282.096 2167.4 284.735 Q2165.1 287.351 2165.1 292.096 Q2165.1 296.841 2167.4 299.48 Q2169.69 302.096 2173.83 302.096 Q2175.68 302.096 2177.49 301.61 Q2179.32 301.101 2181.12 300.105 L2181.12 304.04 Q2179.34 304.874 2177.42 305.29 Q2175.52 305.707 2173.37 305.707 Q2167.51 305.707 2164.06 302.026 Q2160.61 298.346 2160.61 292.096 Q2160.61 285.753 2164.09 282.119 Q2167.58 278.485 2173.65 278.485 Q2175.61 278.485 2177.49 278.902 Q2179.36 279.295 2181.12 280.105 Z\" fill=\"#000000\" fill-rule=\"evenodd\" fill-opacity=\"1\" /><path clip-path=\"url(#clip670)\" d=\"M 0 0 M2195.64 282.096 Q2192.21 282.096 2190.22 284.781 Q2188.23 287.443 2188.23 292.096 Q2188.23 296.749 2190.2 299.434 Q2192.19 302.096 2195.64 302.096 Q2199.04 302.096 2201.03 299.411 Q2203.02 296.726 2203.02 292.096 Q2203.02 287.49 2201.03 284.804 Q2199.04 282.096 2195.64 282.096 M2195.64 278.485 Q2201.19 278.485 2204.36 282.096 Q2207.54 285.707 2207.54 292.096 Q2207.54 298.462 2204.36 302.096 Q2201.19 305.707 2195.64 305.707 Q2190.06 305.707 2186.89 302.096 Q2183.74 298.462 2183.74 292.096 Q2183.74 285.707 2186.89 282.096 Q2190.06 278.485 2195.64 278.485 Z\" fill=\"#000000\" fill-rule=\"evenodd\" fill-opacity=\"1\" /><path clip-path=\"url(#clip670)\" d=\"M 0 0 M2233.55 289.388 L2233.55 305.036 L2229.29 305.036 L2229.29 289.527 Q2229.29 285.846 2227.86 284.017 Q2226.42 282.189 2223.55 282.189 Q2220.1 282.189 2218.11 284.388 Q2216.12 286.587 2216.12 290.383 L2216.12 305.036 L2211.84 305.036 L2211.84 279.11 L2216.12 279.11 L2216.12 283.138 Q2217.65 280.8 2219.71 279.642 Q2221.79 278.485 2224.5 278.485 Q2228.97 278.485 2231.26 281.263 Q2233.55 284.017 2233.55 289.388 Z\" fill=\"#000000\" fill-rule=\"evenodd\" fill-opacity=\"1\" /><polyline clip-path=\"url(#clip670)\" style=\"stroke:#3da44d; stroke-width:4; stroke-opacity:1; fill:none\" points=\"\n",
       "  1939.68,348.236 2082.72,348.236 \n",
       "  \"/>\n",
       "<path clip-path=\"url(#clip670)\" d=\"M 0 0 M2106.56 330.956 L2111.24 330.956 L2111.24 365.516 L2106.56 365.516 L2106.56 330.956 Z\" fill=\"#000000\" fill-rule=\"evenodd\" fill-opacity=\"1\" /><path clip-path=\"url(#clip670)\" d=\"M 0 0 M2137.26 349.868 L2137.26 365.516 L2133 365.516 L2133 350.007 Q2133 346.326 2131.56 344.497 Q2130.13 342.669 2127.26 342.669 Q2123.81 342.669 2121.82 344.868 Q2119.83 347.067 2119.83 350.863 L2119.83 365.516 L2115.54 365.516 L2115.54 339.59 L2119.83 339.59 L2119.83 343.618 Q2121.35 341.28 2123.42 340.122 Q2125.5 338.965 2128.21 338.965 Q2132.67 338.965 2134.97 341.743 Q2137.26 344.497 2137.26 349.868 Z\" fill=\"#000000\" fill-rule=\"evenodd\" fill-opacity=\"1\" /><path clip-path=\"url(#clip670)\" d=\"M 0 0 M2141.73 339.59 L2145.98 339.59 L2145.98 365.516 L2141.73 365.516 L2141.73 339.59 M2141.73 329.497 L2145.98 329.497 L2145.98 334.891 L2141.73 334.891 L2141.73 329.497 Z\" fill=\"#000000\" fill-rule=\"evenodd\" fill-opacity=\"1\" /><path clip-path=\"url(#clip670)\" d=\"M 0 0 M2154.66 332.229 L2154.66 339.59 L2163.44 339.59 L2163.44 342.9 L2154.66 342.9 L2154.66 356.974 Q2154.66 360.145 2155.52 361.048 Q2156.4 361.951 2159.06 361.951 L2163.44 361.951 L2163.44 365.516 L2159.06 365.516 Q2154.13 365.516 2152.26 363.687 Q2150.38 361.835 2150.38 356.974 L2150.38 342.9 L2147.26 342.9 L2147.26 339.59 L2150.38 339.59 L2150.38 332.229 L2154.66 332.229 Z\" fill=\"#000000\" fill-rule=\"evenodd\" fill-opacity=\"1\" /></svg>\n"
      ]
     },
     "execution_count": 45,
     "metadata": {},
     "output_type": "execute_result"
    }
   ],
   "source": [
    "true_ps = calc_1dps(apodizer(gttarget[\"true_img\"]), kbins)\n",
    "recon_ps = calc_1dps(apodizer(gttarget[\"recon\"]), kbins)\n",
    "init_ps = calc_1dps(apodizer(gttarget[\"init\"]), kbins)\n",
    "p = plot(log.(kbins), log.(true_ps), label=\"True\")\n",
    "plot!(log.(kbins), log.(recon_ps), label=\"Recon\")\n",
    "plot!(log.(kbins), log.(init_ps), label=\"Init\")\n",
    "plot!(title=\"FullCov Noiso: P(k) of Image\")\n",
    "xlabel!(\"lnk\")\n",
    "ylabel!(\"lnP(k)\")"
   ]
  },
  {
   "cell_type": "code",
   "execution_count": null,
   "metadata": {},
   "outputs": [],
   "source": []
  },
  {
   "cell_type": "markdown",
   "metadata": {},
   "source": [
    "### Log Img's Coeffs"
   ]
  },
  {
   "cell_type": "code",
   "execution_count": 46,
   "metadata": {},
   "outputs": [
    {
     "data": {
      "image/svg+xml": [
       "<?xml version=\"1.0\" encoding=\"utf-8\"?>\n",
       "<svg xmlns=\"http://www.w3.org/2000/svg\" xmlns:xlink=\"http://www.w3.org/1999/xlink\" width=\"600\" height=\"400\" viewBox=\"0 0 2400 1600\">\n",
       "<defs>\n",
       "  <clipPath id=\"clip710\">\n",
       "    <rect x=\"0\" y=\"0\" width=\"2400\" height=\"1600\"/>\n",
       "  </clipPath>\n",
       "</defs>\n",
       "<path clip-path=\"url(#clip710)\" d=\"\n",
       "M0 1600 L2400 1600 L2400 0 L0 0  Z\n",
       "  \" fill=\"#ffffff\" fill-rule=\"evenodd\" fill-opacity=\"1\"/>\n",
       "<defs>\n",
       "  <clipPath id=\"clip711\">\n",
       "    <rect x=\"480\" y=\"0\" width=\"1681\" height=\"1600\"/>\n",
       "  </clipPath>\n",
       "</defs>\n",
       "<path clip-path=\"url(#clip710)\" d=\"\n",
       "M136.76 1486.45 L2112.76 1486.45 L2112.76 123.472 L136.76 123.472  Z\n",
       "  \" fill=\"#ffffff\" fill-rule=\"evenodd\" fill-opacity=\"1\"/>\n",
       "<defs>\n",
       "  <clipPath id=\"clip712\">\n",
       "    <rect x=\"136\" y=\"123\" width=\"1977\" height=\"1364\"/>\n",
       "  </clipPath>\n",
       "</defs>\n",
       "<polyline clip-path=\"url(#clip712)\" style=\"stroke:#000000; stroke-width:2; stroke-opacity:0.1; fill:none\" points=\"\n",
       "  398.289,1486.45 398.289,123.472 \n",
       "  \"/>\n",
       "<polyline clip-path=\"url(#clip712)\" style=\"stroke:#000000; stroke-width:2; stroke-opacity:0.1; fill:none\" points=\"\n",
       "  688.877,1486.45 688.877,123.472 \n",
       "  \"/>\n",
       "<polyline clip-path=\"url(#clip712)\" style=\"stroke:#000000; stroke-width:2; stroke-opacity:0.1; fill:none\" points=\"\n",
       "  979.464,1486.45 979.464,123.472 \n",
       "  \"/>\n",
       "<polyline clip-path=\"url(#clip712)\" style=\"stroke:#000000; stroke-width:2; stroke-opacity:0.1; fill:none\" points=\"\n",
       "  1270.05,1486.45 1270.05,123.472 \n",
       "  \"/>\n",
       "<polyline clip-path=\"url(#clip712)\" style=\"stroke:#000000; stroke-width:2; stroke-opacity:0.1; fill:none\" points=\"\n",
       "  1560.64,1486.45 1560.64,123.472 \n",
       "  \"/>\n",
       "<polyline clip-path=\"url(#clip712)\" style=\"stroke:#000000; stroke-width:2; stroke-opacity:0.1; fill:none\" points=\"\n",
       "  1851.23,1486.45 1851.23,123.472 \n",
       "  \"/>\n",
       "<polyline clip-path=\"url(#clip710)\" style=\"stroke:#000000; stroke-width:4; stroke-opacity:1; fill:none\" points=\"\n",
       "  136.76,1486.45 2112.76,1486.45 \n",
       "  \"/>\n",
       "<polyline clip-path=\"url(#clip710)\" style=\"stroke:#000000; stroke-width:4; stroke-opacity:1; fill:none\" points=\"\n",
       "  398.289,1486.45 398.289,1470.09 \n",
       "  \"/>\n",
       "<polyline clip-path=\"url(#clip710)\" style=\"stroke:#000000; stroke-width:4; stroke-opacity:1; fill:none\" points=\"\n",
       "  688.877,1486.45 688.877,1470.09 \n",
       "  \"/>\n",
       "<polyline clip-path=\"url(#clip710)\" style=\"stroke:#000000; stroke-width:4; stroke-opacity:1; fill:none\" points=\"\n",
       "  979.464,1486.45 979.464,1470.09 \n",
       "  \"/>\n",
       "<polyline clip-path=\"url(#clip710)\" style=\"stroke:#000000; stroke-width:4; stroke-opacity:1; fill:none\" points=\"\n",
       "  1270.05,1486.45 1270.05,1470.09 \n",
       "  \"/>\n",
       "<polyline clip-path=\"url(#clip710)\" style=\"stroke:#000000; stroke-width:4; stroke-opacity:1; fill:none\" points=\"\n",
       "  1560.64,1486.45 1560.64,1470.09 \n",
       "  \"/>\n",
       "<polyline clip-path=\"url(#clip710)\" style=\"stroke:#000000; stroke-width:4; stroke-opacity:1; fill:none\" points=\"\n",
       "  1851.23,1486.45 1851.23,1470.09 \n",
       "  \"/>\n",
       "<path clip-path=\"url(#clip710)\" d=\"M 0 0 M388.567 1512.56 L406.923 1512.56 L406.923 1516.5 L392.849 1516.5 L392.849 1524.97 Q393.868 1524.62 394.886 1524.46 Q395.905 1524.27 396.923 1524.27 Q402.71 1524.27 406.09 1527.44 Q409.47 1530.62 409.47 1536.03 Q409.47 1541.61 405.997 1544.71 Q402.525 1547.79 396.206 1547.79 Q394.03 1547.79 391.761 1547.42 Q389.516 1547.05 387.109 1546.31 L387.109 1541.61 Q389.192 1542.74 391.414 1543.3 Q393.636 1543.86 396.113 1543.86 Q400.118 1543.86 402.456 1541.75 Q404.794 1539.64 404.794 1536.03 Q404.794 1532.42 402.456 1530.31 Q400.118 1528.21 396.113 1528.21 Q394.238 1528.21 392.363 1528.62 Q390.511 1529.04 388.567 1529.92 L388.567 1512.56 Z\" fill=\"#000000\" fill-rule=\"evenodd\" fill-opacity=\"1\" /><path clip-path=\"url(#clip710)\" d=\"M 0 0 M665.752 1543.18 L673.391 1543.18 L673.391 1516.82 L665.081 1518.49 L665.081 1514.23 L673.344 1512.56 L678.02 1512.56 L678.02 1543.18 L685.659 1543.18 L685.659 1547.12 L665.752 1547.12 L665.752 1543.18 Z\" fill=\"#000000\" fill-rule=\"evenodd\" fill-opacity=\"1\" /><path clip-path=\"url(#clip710)\" d=\"M 0 0 M700.729 1515.64 Q697.117 1515.64 695.289 1519.2 Q693.483 1522.75 693.483 1529.87 Q693.483 1536.98 695.289 1540.55 Q697.117 1544.09 700.729 1544.09 Q704.363 1544.09 706.168 1540.55 Q707.997 1536.98 707.997 1529.87 Q707.997 1522.75 706.168 1519.2 Q704.363 1515.64 700.729 1515.64 M700.729 1511.93 Q706.539 1511.93 709.594 1516.54 Q712.673 1521.12 712.673 1529.87 Q712.673 1538.6 709.594 1543.21 Q706.539 1547.79 700.729 1547.79 Q694.918 1547.79 691.84 1543.21 Q688.784 1538.6 688.784 1529.87 Q688.784 1521.12 691.84 1516.54 Q694.918 1511.93 700.729 1511.93 Z\" fill=\"#000000\" fill-rule=\"evenodd\" fill-opacity=\"1\" /><path clip-path=\"url(#clip710)\" d=\"M 0 0 M956.837 1543.18 L964.476 1543.18 L964.476 1516.82 L956.166 1518.49 L956.166 1514.23 L964.43 1512.56 L969.106 1512.56 L969.106 1543.18 L976.744 1543.18 L976.744 1547.12 L956.837 1547.12 L956.837 1543.18 Z\" fill=\"#000000\" fill-rule=\"evenodd\" fill-opacity=\"1\" /><path clip-path=\"url(#clip710)\" d=\"M 0 0 M981.86 1512.56 L1000.22 1512.56 L1000.22 1516.5 L986.143 1516.5 L986.143 1524.97 Q987.161 1524.62 988.18 1524.46 Q989.198 1524.27 990.217 1524.27 Q996.004 1524.27 999.383 1527.44 Q1002.76 1530.62 1002.76 1536.03 Q1002.76 1541.61 999.291 1544.71 Q995.818 1547.79 989.499 1547.79 Q987.323 1547.79 985.055 1547.42 Q982.809 1547.05 980.402 1546.31 L980.402 1541.61 Q982.485 1542.74 984.707 1543.3 Q986.93 1543.86 989.406 1543.86 Q993.411 1543.86 995.749 1541.75 Q998.087 1539.64 998.087 1536.03 Q998.087 1532.42 995.749 1530.31 Q993.411 1528.21 989.406 1528.21 Q987.531 1528.21 985.656 1528.62 Q983.805 1529.04 981.86 1529.92 L981.86 1512.56 Z\" fill=\"#000000\" fill-rule=\"evenodd\" fill-opacity=\"1\" /><path clip-path=\"url(#clip710)\" d=\"M 0 0 M1251.2 1543.18 L1267.52 1543.18 L1267.52 1547.12 L1245.57 1547.12 L1245.57 1543.18 Q1248.23 1540.43 1252.82 1535.8 Q1257.42 1531.15 1258.61 1529.81 Q1260.85 1527.28 1261.73 1525.55 Q1262.63 1523.79 1262.63 1522.1 Q1262.63 1519.34 1260.69 1517.61 Q1258.77 1515.87 1255.67 1515.87 Q1253.47 1515.87 1251.01 1516.63 Q1248.58 1517.4 1245.8 1518.95 L1245.8 1514.23 Q1248.63 1513.09 1251.08 1512.51 Q1253.54 1511.93 1255.57 1511.93 Q1260.94 1511.93 1264.14 1514.62 Q1267.33 1517.31 1267.33 1521.8 Q1267.33 1523.93 1266.52 1525.85 Q1265.73 1527.74 1263.63 1530.34 Q1263.05 1531.01 1259.95 1534.23 Q1256.85 1537.42 1251.2 1543.18 Z\" fill=\"#000000\" fill-rule=\"evenodd\" fill-opacity=\"1\" /><path clip-path=\"url(#clip710)\" d=\"M 0 0 M1282.59 1515.64 Q1278.98 1515.64 1277.15 1519.2 Q1275.34 1522.75 1275.34 1529.87 Q1275.34 1536.98 1277.15 1540.55 Q1278.98 1544.09 1282.59 1544.09 Q1286.22 1544.09 1288.03 1540.55 Q1289.86 1536.98 1289.86 1529.87 Q1289.86 1522.75 1288.03 1519.2 Q1286.22 1515.64 1282.59 1515.64 M1282.59 1511.93 Q1288.4 1511.93 1291.45 1516.54 Q1294.53 1521.12 1294.53 1529.87 Q1294.53 1538.6 1291.45 1543.21 Q1288.4 1547.79 1282.59 1547.79 Q1276.78 1547.79 1273.7 1543.21 Q1270.64 1538.6 1270.64 1529.87 Q1270.64 1521.12 1273.7 1516.54 Q1276.78 1511.93 1282.59 1511.93 Z\" fill=\"#000000\" fill-rule=\"evenodd\" fill-opacity=\"1\" /><path clip-path=\"url(#clip710)\" d=\"M 0 0 M1542.28 1543.18 L1558.6 1543.18 L1558.6 1547.12 L1536.66 1547.12 L1536.66 1543.18 Q1539.32 1540.43 1543.9 1535.8 Q1548.51 1531.15 1549.69 1529.81 Q1551.94 1527.28 1552.82 1525.55 Q1553.72 1523.79 1553.72 1522.1 Q1553.72 1519.34 1551.77 1517.61 Q1549.85 1515.87 1546.75 1515.87 Q1544.55 1515.87 1542.1 1516.63 Q1539.67 1517.4 1536.89 1518.95 L1536.89 1514.23 Q1539.71 1513.09 1542.17 1512.51 Q1544.62 1511.93 1546.66 1511.93 Q1552.03 1511.93 1555.22 1514.62 Q1558.42 1517.31 1558.42 1521.8 Q1558.42 1523.93 1557.61 1525.85 Q1556.82 1527.74 1554.71 1530.34 Q1554.13 1531.01 1551.03 1534.23 Q1547.93 1537.42 1542.28 1543.18 Z\" fill=\"#000000\" fill-rule=\"evenodd\" fill-opacity=\"1\" /><path clip-path=\"url(#clip710)\" d=\"M 0 0 M1563.72 1512.56 L1582.07 1512.56 L1582.07 1516.5 L1568 1516.5 L1568 1524.97 Q1569.02 1524.62 1570.04 1524.46 Q1571.06 1524.27 1572.07 1524.27 Q1577.86 1524.27 1581.24 1527.44 Q1584.62 1530.62 1584.62 1536.03 Q1584.62 1541.61 1581.15 1544.71 Q1577.68 1547.79 1571.36 1547.79 Q1569.18 1547.79 1566.91 1547.42 Q1564.67 1547.05 1562.26 1546.31 L1562.26 1541.61 Q1564.34 1542.74 1566.57 1543.3 Q1568.79 1543.86 1571.26 1543.86 Q1575.27 1543.86 1577.61 1541.75 Q1579.94 1539.64 1579.94 1536.03 Q1579.94 1532.42 1577.61 1530.31 Q1575.27 1528.21 1571.26 1528.21 Q1569.39 1528.21 1567.51 1528.62 Q1565.66 1529.04 1563.72 1529.92 L1563.72 1512.56 Z\" fill=\"#000000\" fill-rule=\"evenodd\" fill-opacity=\"1\" /><path clip-path=\"url(#clip710)\" d=\"M 0 0 M1841.97 1528.49 Q1845.32 1529.2 1847.2 1531.47 Q1849.1 1533.74 1849.1 1537.07 Q1849.1 1542.19 1845.58 1544.99 Q1842.06 1547.79 1835.58 1547.79 Q1833.4 1547.79 1831.09 1547.35 Q1828.8 1546.93 1826.34 1546.08 L1826.34 1541.56 Q1828.29 1542.7 1830.6 1543.28 Q1832.92 1543.86 1835.44 1543.86 Q1839.84 1543.86 1842.13 1542.12 Q1844.44 1540.38 1844.44 1537.07 Q1844.44 1534.02 1842.29 1532.31 Q1840.16 1530.57 1836.34 1530.57 L1832.32 1530.57 L1832.32 1526.73 L1836.53 1526.73 Q1839.98 1526.73 1841.81 1525.36 Q1843.63 1523.97 1843.63 1521.38 Q1843.63 1518.72 1841.74 1517.31 Q1839.86 1515.87 1836.34 1515.87 Q1834.42 1515.87 1832.22 1516.29 Q1830.02 1516.7 1827.38 1517.58 L1827.38 1513.42 Q1830.05 1512.68 1832.36 1512.31 Q1834.7 1511.93 1836.76 1511.93 Q1842.08 1511.93 1845.19 1514.37 Q1848.29 1516.77 1848.29 1520.89 Q1848.29 1523.76 1846.64 1525.75 Q1845 1527.72 1841.97 1528.49 Z\" fill=\"#000000\" fill-rule=\"evenodd\" fill-opacity=\"1\" /><path clip-path=\"url(#clip710)\" d=\"M 0 0 M1864.17 1515.64 Q1860.56 1515.64 1858.73 1519.2 Q1856.92 1522.75 1856.92 1529.87 Q1856.92 1536.98 1858.73 1540.55 Q1860.56 1544.09 1864.17 1544.09 Q1867.8 1544.09 1869.61 1540.55 Q1871.44 1536.98 1871.44 1529.87 Q1871.44 1522.75 1869.61 1519.2 Q1867.8 1515.64 1864.17 1515.64 M1864.17 1511.93 Q1869.98 1511.93 1873.03 1516.54 Q1876.11 1521.12 1876.11 1529.87 Q1876.11 1538.6 1873.03 1543.21 Q1869.98 1547.79 1864.17 1547.79 Q1858.36 1547.79 1855.28 1543.21 Q1852.22 1538.6 1852.22 1529.87 Q1852.22 1521.12 1855.28 1516.54 Q1858.36 1511.93 1864.17 1511.93 Z\" fill=\"#000000\" fill-rule=\"evenodd\" fill-opacity=\"1\" /><polyline clip-path=\"url(#clip712)\" style=\"stroke:#000000; stroke-width:2; stroke-opacity:0.1; fill:none\" points=\"\n",
       "  136.76,1306.05 2112.76,1306.05 \n",
       "  \"/>\n",
       "<polyline clip-path=\"url(#clip712)\" style=\"stroke:#000000; stroke-width:2; stroke-opacity:0.1; fill:none\" points=\"\n",
       "  136.76,1105.62 2112.76,1105.62 \n",
       "  \"/>\n",
       "<polyline clip-path=\"url(#clip712)\" style=\"stroke:#000000; stroke-width:2; stroke-opacity:0.1; fill:none\" points=\"\n",
       "  136.76,905.179 2112.76,905.179 \n",
       "  \"/>\n",
       "<polyline clip-path=\"url(#clip712)\" style=\"stroke:#000000; stroke-width:2; stroke-opacity:0.1; fill:none\" points=\"\n",
       "  136.76,704.741 2112.76,704.741 \n",
       "  \"/>\n",
       "<polyline clip-path=\"url(#clip712)\" style=\"stroke:#000000; stroke-width:2; stroke-opacity:0.1; fill:none\" points=\"\n",
       "  136.76,504.304 2112.76,504.304 \n",
       "  \"/>\n",
       "<polyline clip-path=\"url(#clip712)\" style=\"stroke:#000000; stroke-width:2; stroke-opacity:0.1; fill:none\" points=\"\n",
       "  136.76,303.866 2112.76,303.866 \n",
       "  \"/>\n",
       "<polyline clip-path=\"url(#clip710)\" style=\"stroke:#000000; stroke-width:4; stroke-opacity:1; fill:none\" points=\"\n",
       "  136.76,1486.45 136.76,123.472 \n",
       "  \"/>\n",
       "<polyline clip-path=\"url(#clip710)\" style=\"stroke:#000000; stroke-width:4; stroke-opacity:1; fill:none\" points=\"\n",
       "  136.76,1306.05 160.472,1306.05 \n",
       "  \"/>\n",
       "<polyline clip-path=\"url(#clip710)\" style=\"stroke:#000000; stroke-width:4; stroke-opacity:1; fill:none\" points=\"\n",
       "  136.76,1105.62 160.472,1105.62 \n",
       "  \"/>\n",
       "<polyline clip-path=\"url(#clip710)\" style=\"stroke:#000000; stroke-width:4; stroke-opacity:1; fill:none\" points=\"\n",
       "  136.76,905.179 160.472,905.179 \n",
       "  \"/>\n",
       "<polyline clip-path=\"url(#clip710)\" style=\"stroke:#000000; stroke-width:4; stroke-opacity:1; fill:none\" points=\"\n",
       "  136.76,704.741 160.472,704.741 \n",
       "  \"/>\n",
       "<polyline clip-path=\"url(#clip710)\" style=\"stroke:#000000; stroke-width:4; stroke-opacity:1; fill:none\" points=\"\n",
       "  136.76,504.304 160.472,504.304 \n",
       "  \"/>\n",
       "<polyline clip-path=\"url(#clip710)\" style=\"stroke:#000000; stroke-width:4; stroke-opacity:1; fill:none\" points=\"\n",
       "  136.76,303.866 160.472,303.866 \n",
       "  \"/>\n",
       "<path clip-path=\"url(#clip710)\" d=\"M 0 0 M79.8577 1288.77 L98.2141 1288.77 L98.2141 1292.71 L84.1401 1292.71 L84.1401 1301.18 Q85.1586 1300.83 86.1771 1300.67 Q87.1956 1300.49 88.2141 1300.49 Q94.0012 1300.49 97.3808 1303.66 Q100.76 1306.83 100.76 1312.25 Q100.76 1317.82 97.2882 1320.93 Q93.816 1324.01 87.4966 1324.01 Q85.3206 1324.01 83.0521 1323.63 Q80.8068 1323.26 78.3994 1322.52 L78.3994 1317.82 Q80.4827 1318.96 82.7049 1319.51 Q84.9271 1320.07 87.404 1320.07 Q91.4086 1320.07 93.7465 1317.96 Q96.0845 1315.86 96.0845 1312.25 Q96.0845 1308.64 93.7465 1306.53 Q91.4086 1304.42 87.404 1304.42 Q85.529 1304.42 83.654 1304.84 Q81.8021 1305.26 79.8577 1306.14 L79.8577 1288.77 Z\" fill=\"#000000\" fill-rule=\"evenodd\" fill-opacity=\"1\" /><path clip-path=\"url(#clip710)\" d=\"M 0 0 M53.8393 1118.96 L61.4782 1118.96 L61.4782 1092.6 L53.168 1094.26 L53.168 1090 L61.4319 1088.34 L66.1078 1088.34 L66.1078 1118.96 L73.7466 1118.96 L73.7466 1122.9 L53.8393 1122.9 L53.8393 1118.96 Z\" fill=\"#000000\" fill-rule=\"evenodd\" fill-opacity=\"1\" /><path clip-path=\"url(#clip710)\" d=\"M 0 0 M88.816 1091.42 Q85.2049 1091.42 83.3762 1094.98 Q81.5707 1098.52 81.5707 1105.65 Q81.5707 1112.76 83.3762 1116.32 Q85.2049 1119.86 88.816 1119.86 Q92.4502 1119.86 94.2558 1116.32 Q96.0845 1112.76 96.0845 1105.65 Q96.0845 1098.52 94.2558 1094.98 Q92.4502 1091.42 88.816 1091.42 M88.816 1087.71 Q94.6262 1087.71 97.6817 1092.32 Q100.76 1096.9 100.76 1105.65 Q100.76 1114.38 97.6817 1118.98 Q94.6262 1123.57 88.816 1123.57 Q83.0058 1123.57 79.9272 1118.98 Q76.8716 1114.38 76.8716 1105.65 Q76.8716 1096.9 79.9272 1092.32 Q83.0058 1087.71 88.816 1087.71 Z\" fill=\"#000000\" fill-rule=\"evenodd\" fill-opacity=\"1\" /><path clip-path=\"url(#clip710)\" d=\"M 0 0 M54.8347 918.524 L62.4735 918.524 L62.4735 892.158 L54.1634 893.825 L54.1634 889.565 L62.4272 887.899 L67.1032 887.899 L67.1032 918.524 L74.742 918.524 L74.742 922.459 L54.8347 922.459 L54.8347 918.524 Z\" fill=\"#000000\" fill-rule=\"evenodd\" fill-opacity=\"1\" /><path clip-path=\"url(#clip710)\" d=\"M 0 0 M79.8577 887.899 L98.2141 887.899 L98.2141 891.834 L84.1401 891.834 L84.1401 900.306 Q85.1586 899.959 86.1771 899.797 Q87.1956 899.612 88.2141 899.612 Q94.0012 899.612 97.3808 902.783 Q100.76 905.954 100.76 911.371 Q100.76 916.95 97.2882 920.051 Q93.816 923.13 87.4966 923.13 Q85.3206 923.13 83.0521 922.76 Q80.8068 922.389 78.3994 921.649 L78.3994 916.95 Q80.4827 918.084 82.7049 918.639 Q84.9271 919.195 87.404 919.195 Q91.4086 919.195 93.7465 917.088 Q96.0845 914.982 96.0845 911.371 Q96.0845 907.76 93.7465 905.653 Q91.4086 903.547 87.404 903.547 Q85.529 903.547 83.654 903.964 Q81.8021 904.38 79.8577 905.26 L79.8577 887.899 Z\" fill=\"#000000\" fill-rule=\"evenodd\" fill-opacity=\"1\" /><path clip-path=\"url(#clip710)\" d=\"M 0 0 M57.4273 718.086 L73.7466 718.086 L73.7466 722.021 L51.8023 722.021 L51.8023 718.086 Q54.4643 715.331 59.0476 710.702 Q63.6541 706.049 64.8346 704.706 Q67.08 702.183 67.9596 700.447 Q68.8624 698.688 68.8624 696.998 Q68.8624 694.244 66.918 692.507 Q64.9967 690.771 61.8948 690.771 Q59.6958 690.771 57.2421 691.535 Q54.8115 692.299 52.0338 693.85 L52.0338 689.128 Q54.8578 687.994 57.3115 687.415 Q59.7652 686.836 61.8023 686.836 Q67.1726 686.836 70.367 689.521 Q73.5614 692.207 73.5614 696.697 Q73.5614 698.827 72.7513 700.748 Q71.9642 702.646 69.8578 705.239 Q69.2791 705.91 66.1772 709.128 Q63.0754 712.322 57.4273 718.086 Z\" fill=\"#000000\" fill-rule=\"evenodd\" fill-opacity=\"1\" /><path clip-path=\"url(#clip710)\" d=\"M 0 0 M88.816 690.54 Q85.2049 690.54 83.3762 694.105 Q81.5707 697.646 81.5707 704.776 Q81.5707 711.882 83.3762 715.447 Q85.2049 718.989 88.816 718.989 Q92.4502 718.989 94.2558 715.447 Q96.0845 711.882 96.0845 704.776 Q96.0845 697.646 94.2558 694.105 Q92.4502 690.54 88.816 690.54 M88.816 686.836 Q94.6262 686.836 97.6817 691.443 Q100.76 696.026 100.76 704.776 Q100.76 713.503 97.6817 718.109 Q94.6262 722.692 88.816 722.692 Q83.0058 722.692 79.9272 718.109 Q76.8716 713.503 76.8716 704.776 Q76.8716 696.026 79.9272 691.443 Q83.0058 686.836 88.816 686.836 Z\" fill=\"#000000\" fill-rule=\"evenodd\" fill-opacity=\"1\" /><path clip-path=\"url(#clip710)\" d=\"M 0 0 M58.4226 517.648 L74.742 517.648 L74.742 521.584 L52.7977 521.584 L52.7977 517.648 Q55.4597 514.894 60.043 510.264 Q64.6495 505.611 65.83 504.269 Q68.0754 501.746 68.955 500.01 Q69.8578 498.25 69.8578 496.561 Q69.8578 493.806 67.9133 492.07 Q65.992 490.334 62.8902 490.334 Q60.6911 490.334 58.2375 491.098 Q55.8069 491.862 53.0292 493.412 L53.0292 488.69 Q55.8532 487.556 58.3069 486.977 Q60.7606 486.399 62.7976 486.399 Q68.168 486.399 71.3624 489.084 Q74.5568 491.769 74.5568 496.26 Q74.5568 498.389 73.7466 500.311 Q72.9596 502.209 70.8531 504.801 Q70.2744 505.473 67.1726 508.69 Q64.0708 511.885 58.4226 517.648 Z\" fill=\"#000000\" fill-rule=\"evenodd\" fill-opacity=\"1\" /><path clip-path=\"url(#clip710)\" d=\"M 0 0 M79.8577 487.024 L98.2141 487.024 L98.2141 490.959 L84.1401 490.959 L84.1401 499.431 Q85.1586 499.084 86.1771 498.922 Q87.1956 498.736 88.2141 498.736 Q94.0012 498.736 97.3808 501.908 Q100.76 505.079 100.76 510.496 Q100.76 516.074 97.2882 519.176 Q93.816 522.255 87.4966 522.255 Q85.3206 522.255 83.0521 521.885 Q80.8068 521.514 78.3994 520.773 L78.3994 516.074 Q80.4827 517.209 82.7049 517.764 Q84.9271 518.32 87.404 518.32 Q91.4086 518.32 93.7465 516.213 Q96.0845 514.107 96.0845 510.496 Q96.0845 506.885 93.7465 504.778 Q91.4086 502.672 87.404 502.672 Q85.529 502.672 83.654 503.088 Q81.8021 503.505 79.8577 504.385 L79.8577 487.024 Z\" fill=\"#000000\" fill-rule=\"evenodd\" fill-opacity=\"1\" /><path clip-path=\"url(#clip710)\" d=\"M 0 0 M66.617 302.512 Q69.9735 303.229 71.8485 305.498 Q73.7466 307.766 73.7466 311.1 Q73.7466 316.215 70.2281 319.016 Q66.7096 321.817 60.2282 321.817 Q58.0523 321.817 55.7375 321.377 Q53.4458 320.961 50.9921 320.104 L50.9921 315.59 Q52.9366 316.725 55.2514 317.303 Q57.5662 317.882 60.0893 317.882 Q64.4874 317.882 66.7791 316.146 Q69.0939 314.41 69.0939 311.1 Q69.0939 308.044 66.9411 306.331 Q64.8115 304.595 60.9921 304.595 L56.9643 304.595 L56.9643 300.753 L61.1773 300.753 Q64.6263 300.753 66.455 299.387 Q68.2837 297.998 68.2837 295.405 Q68.2837 292.743 66.3856 291.331 Q64.5106 289.896 60.9921 289.896 Q59.0708 289.896 56.8717 290.313 Q54.6727 290.729 52.0338 291.609 L52.0338 287.442 Q54.6958 286.702 57.0106 286.331 Q59.3486 285.961 61.4087 285.961 Q66.7328 285.961 69.8346 288.392 Q72.9365 290.799 72.9365 294.919 Q72.9365 297.79 71.2929 299.78 Q69.6494 301.748 66.617 302.512 Z\" fill=\"#000000\" fill-rule=\"evenodd\" fill-opacity=\"1\" /><path clip-path=\"url(#clip710)\" d=\"M 0 0 M88.816 289.665 Q85.2049 289.665 83.3762 293.229 Q81.5707 296.771 81.5707 303.901 Q81.5707 311.007 83.3762 314.572 Q85.2049 318.114 88.816 318.114 Q92.4502 318.114 94.2558 314.572 Q96.0845 311.007 96.0845 303.901 Q96.0845 296.771 94.2558 293.229 Q92.4502 289.665 88.816 289.665 M88.816 285.961 Q94.6262 285.961 97.6817 290.567 Q100.76 295.151 100.76 303.901 Q100.76 312.628 97.6817 317.234 Q94.6262 321.817 88.816 321.817 Q83.0058 321.817 79.9272 317.234 Q76.8716 312.628 76.8716 303.901 Q76.8716 295.151 79.9272 290.567 Q83.0058 285.961 88.816 285.961 Z\" fill=\"#000000\" fill-rule=\"evenodd\" fill-opacity=\"1\" /><path clip-path=\"url(#clip710)\" d=\"M 0 0 M311.499 12.096 L319.681 12.096 L319.681 72.576 L311.499 72.576 L311.499 12.096 Z\" fill=\"#000000\" fill-rule=\"evenodd\" fill-opacity=\"1\" /><path clip-path=\"url(#clip710)\" d=\"M 0 0 M362.824 35.9153 Q365.619 30.8922 369.508 28.5022 Q373.396 26.1121 378.663 26.1121 Q385.752 26.1121 389.6 31.0947 Q393.448 36.0368 393.448 45.1919 L393.448 72.576 L385.954 72.576 L385.954 45.4349 Q385.954 38.913 383.645 35.7533 Q381.336 32.5936 376.597 32.5936 Q370.804 32.5936 367.442 36.4419 Q364.079 40.2903 364.079 46.9338 L364.079 72.576 L356.585 72.576 L356.585 45.4349 Q356.585 38.8725 354.276 35.7533 Q351.967 32.5936 347.147 32.5936 Q341.435 32.5936 338.073 36.4824 Q334.71 40.3308 334.71 46.9338 L334.71 72.576 L327.216 72.576 L327.216 27.2059 L334.71 27.2059 L334.71 34.2544 Q337.262 30.082 340.827 28.0971 Q344.392 26.1121 349.294 26.1121 Q354.236 26.1121 357.679 28.6237 Q361.163 31.1352 362.824 35.9153 Z\" fill=\"#000000\" fill-rule=\"evenodd\" fill-opacity=\"1\" /><path clip-path=\"url(#clip710)\" d=\"M 0 0 M430.109 65.6895 L443.477 65.6895 L443.477 19.5497 L428.934 22.4663 L428.934 15.0127 L443.396 12.096 L451.579 12.096 L451.579 65.6895 L464.947 65.6895 L464.947 72.576 L430.109 72.576 L430.109 65.6895 Z\" fill=\"#000000\" fill-rule=\"evenodd\" fill-opacity=\"1\" /><path clip-path=\"url(#clip710)\" d=\"M 0 0 M491.318 17.4837 Q484.999 17.4837 481.799 23.7221 Q478.639 29.92 478.639 42.3968 Q478.639 54.833 481.799 61.0714 Q484.999 67.2693 491.318 67.2693 Q497.678 67.2693 500.838 61.0714 Q504.038 54.833 504.038 42.3968 Q504.038 29.92 500.838 23.7221 Q497.678 17.4837 491.318 17.4837 M491.318 11.0023 Q501.486 11.0023 506.833 19.0636 Q512.221 27.0843 512.221 42.3968 Q512.221 57.6687 506.833 65.73 Q501.486 73.7508 491.318 73.7508 Q481.15 73.7508 475.763 65.73 Q470.416 57.6687 470.416 42.3968 Q470.416 27.0843 475.763 19.0636 Q481.15 11.0023 491.318 11.0023 Z\" fill=\"#000000\" fill-rule=\"evenodd\" fill-opacity=\"1\" /><path clip-path=\"url(#clip710)\" d=\"M 0 0 M538.592 17.4837 Q532.273 17.4837 529.073 23.7221 Q525.913 29.92 525.913 42.3968 Q525.913 54.833 529.073 61.0714 Q532.273 67.2693 538.592 67.2693 Q544.952 67.2693 548.112 61.0714 Q551.312 54.833 551.312 42.3968 Q551.312 29.92 548.112 23.7221 Q544.952 17.4837 538.592 17.4837 M538.592 11.0023 Q548.76 11.0023 554.107 19.0636 Q559.495 27.0843 559.495 42.3968 Q559.495 57.6687 554.107 65.73 Q548.76 73.7508 538.592 73.7508 Q528.425 73.7508 523.037 65.73 Q517.69 57.6687 517.69 42.3968 Q517.69 27.0843 523.037 19.0636 Q528.425 11.0023 538.592 11.0023 Z\" fill=\"#000000\" fill-rule=\"evenodd\" fill-opacity=\"1\" /><path clip-path=\"url(#clip710)\" d=\"M 0 0 M585.866 17.4837 Q579.547 17.4837 576.347 23.7221 Q573.187 29.92 573.187 42.3968 Q573.187 54.833 576.347 61.0714 Q579.547 67.2693 585.866 67.2693 Q592.226 67.2693 595.386 61.0714 Q598.586 54.833 598.586 42.3968 Q598.586 29.92 595.386 23.7221 Q592.226 17.4837 585.866 17.4837 M585.866 11.0023 Q596.034 11.0023 601.381 19.0636 Q606.769 27.0843 606.769 42.3968 Q606.769 57.6687 601.381 65.73 Q596.034 73.7508 585.866 73.7508 Q575.699 73.7508 570.311 65.73 Q564.964 57.6687 564.964 42.3968 Q564.964 27.0843 570.311 19.0636 Q575.699 11.0023 585.866 11.0023 Z\" fill=\"#000000\" fill-rule=\"evenodd\" fill-opacity=\"1\" /><path clip-path=\"url(#clip710)\" d=\"M 0 0 M616.491 62.2867 L625.039 62.2867 L625.039 72.576 L616.491 72.576 L616.491 62.2867 M616.491 29.6769 L625.039 29.6769 L625.039 39.9662 L616.491 39.9662 L616.491 29.6769 Z\" fill=\"#000000\" fill-rule=\"evenodd\" fill-opacity=\"1\" /><path clip-path=\"url(#clip710)\" d=\"M 0 0 M659.552 12.096 L667.735 12.096 L667.735 65.6895 L697.185 65.6895 L697.185 72.576 L659.552 72.576 L659.552 12.096 Z\" fill=\"#000000\" fill-rule=\"evenodd\" fill-opacity=\"1\" /><path clip-path=\"url(#clip710)\" d=\"M 0 0 M742.717 45.1919 L742.717 72.576 L735.264 72.576 L735.264 45.4349 Q735.264 38.994 732.752 35.7938 Q730.241 32.5936 725.217 32.5936 Q719.182 32.5936 715.698 36.4419 Q712.214 40.2903 712.214 46.9338 L712.214 72.576 L704.72 72.576 L704.72 27.2059 L712.214 27.2059 L712.214 34.2544 Q714.888 30.163 718.493 28.1376 Q722.139 26.1121 726.878 26.1121 Q734.697 26.1121 738.707 30.9732 Q742.717 35.7938 742.717 45.1919 Z\" fill=\"#000000\" fill-rule=\"evenodd\" fill-opacity=\"1\" /><path clip-path=\"url(#clip710)\" d=\"M 0 0 M797.445 20.1573 L786.346 50.2555 L808.585 50.2555 L797.445 20.1573 M792.827 12.096 L802.104 12.096 L825.153 72.576 L816.646 72.576 L811.137 57.061 L783.875 57.061 L778.365 72.576 L769.737 72.576 L792.827 12.096 Z\" fill=\"#000000\" fill-rule=\"evenodd\" fill-opacity=\"1\" /><path clip-path=\"url(#clip710)\" d=\"M 0 0 M865.541 49.9314 Q865.541 41.7081 862.138 37.0496 Q858.776 32.3505 852.861 32.3505 Q846.947 32.3505 843.544 37.0496 Q840.182 41.7081 840.182 49.9314 Q840.182 58.1548 843.544 62.8538 Q846.947 67.5124 852.861 67.5124 Q858.776 67.5124 862.138 62.8538 Q865.541 58.1548 865.541 49.9314 M840.182 34.0924 Q842.532 30.0415 846.096 28.0971 Q849.702 26.1121 854.684 26.1121 Q862.948 26.1121 868.093 32.6746 Q873.278 39.2371 873.278 49.9314 Q873.278 60.6258 868.093 67.1883 Q862.948 73.7508 854.684 73.7508 Q849.702 73.7508 846.096 71.8063 Q842.532 69.8214 840.182 65.7705 L840.182 72.576 L832.688 72.576 L832.688 9.54393 L840.182 9.54393 L840.182 34.0924 Z\" fill=\"#000000\" fill-rule=\"evenodd\" fill-opacity=\"1\" /><path clip-path=\"url(#clip710)\" d=\"M 0 0 M910.02 28.5427 L910.02 35.5912 Q906.86 33.9709 903.457 33.1607 Q900.054 32.3505 896.409 32.3505 Q890.859 32.3505 888.064 34.0519 Q885.309 35.7533 885.309 39.156 Q885.309 41.7486 887.294 43.2475 Q889.279 44.7058 895.274 46.0426 L897.826 46.6097 Q905.766 48.3111 909.088 51.4303 Q912.45 54.509 912.45 60.0587 Q912.45 66.3781 907.427 70.0644 Q902.445 73.7508 893.695 73.7508 Q890.049 73.7508 886.079 73.0216 Q882.149 72.3329 877.775 70.9151 L877.775 63.2184 Q881.906 65.3654 885.917 66.4591 Q889.927 67.5124 893.857 67.5124 Q899.123 67.5124 901.958 65.73 Q904.794 63.9071 904.794 60.6258 Q904.794 57.5877 902.728 55.9673 Q900.703 54.3469 893.776 52.8481 L891.183 52.2405 Q884.256 50.7821 881.177 47.7845 Q878.099 44.7463 878.099 39.4801 Q878.099 33.0797 882.636 29.5959 Q887.173 26.1121 895.517 26.1121 Q899.649 26.1121 903.295 26.7198 Q906.941 27.3274 910.02 28.5427 Z\" fill=\"#000000\" fill-rule=\"evenodd\" fill-opacity=\"1\" /><path clip-path=\"url(#clip710)\" d=\"M 0 0 M943.48 12.096 L990.997 12.096 L990.997 18.3344 L952.757 65.6895 L991.929 65.6895 L991.929 72.576 L942.548 72.576 L942.548 66.3376 L980.789 18.9825 L943.48 18.9825 L943.48 12.096 Z\" fill=\"#000000\" fill-rule=\"evenodd\" fill-opacity=\"1\" /><path clip-path=\"url(#clip710)\" d=\"M 0 0 M994.522 46.5287 L1016.36 46.5287 L1016.36 53.1722 L994.522 53.1722 L994.522 46.5287 Z\" fill=\"#000000\" fill-rule=\"evenodd\" fill-opacity=\"1\" /><path clip-path=\"url(#clip710)\" d=\"M 0 0 M1060.75 14.0809 L1060.75 22.0612 Q1056.1 19.8332 1051.96 18.7395 Q1047.83 17.6457 1043.98 17.6457 Q1037.3 17.6457 1033.65 20.2383 Q1030.05 22.8309 1030.05 27.611 Q1030.05 31.6214 1032.44 33.6873 Q1034.87 35.7128 1041.59 36.9686 L1046.54 37.9813 Q1055.69 39.7232 1060.02 44.1387 Q1064.4 48.5136 1064.4 55.8863 Q1064.4 64.6767 1058.49 69.2137 Q1052.61 73.7508 1041.23 73.7508 Q1036.93 73.7508 1032.07 72.7785 Q1027.25 71.8063 1022.07 69.9024 L1022.07 61.4765 Q1027.05 64.2716 1031.83 65.6895 Q1036.61 67.1073 1041.23 67.1073 Q1048.24 67.1073 1052.04 64.3527 Q1055.85 61.598 1055.85 56.4939 Q1055.85 52.0379 1053.1 49.5264 Q1050.38 47.0148 1044.15 45.759 L1039.16 44.7868 Q1030.01 42.9639 1025.92 39.075 Q1021.82 35.1862 1021.82 28.2591 Q1021.82 20.2383 1027.46 15.6203 Q1033.13 11.0023 1043.05 11.0023 Q1047.3 11.0023 1051.72 11.7719 Q1056.14 12.5416 1060.75 14.0809 Z\" fill=\"#000000\" fill-rule=\"evenodd\" fill-opacity=\"1\" /><path clip-path=\"url(#clip710)\" d=\"M 0 0 M1104.87 28.9478 L1104.87 35.9153 Q1101.71 34.1734 1098.51 33.3227 Q1095.35 32.4315 1092.11 32.4315 Q1084.86 32.4315 1080.85 37.0496 Q1076.84 41.6271 1076.84 49.9314 Q1076.84 58.2358 1080.85 62.8538 Q1084.86 67.4314 1092.11 67.4314 Q1095.35 67.4314 1098.51 66.5807 Q1101.71 65.6895 1104.87 63.9476 L1104.87 70.8341 Q1101.75 72.2924 1098.39 73.0216 Q1095.07 73.7508 1091.3 73.7508 Q1081.05 73.7508 1075.01 67.3098 Q1068.98 60.8689 1068.98 49.9314 Q1068.98 38.832 1075.05 32.472 Q1081.17 26.1121 1091.78 26.1121 Q1095.23 26.1121 1098.51 26.8413 Q1101.79 27.5299 1104.87 28.9478 Z\" fill=\"#000000\" fill-rule=\"evenodd\" fill-opacity=\"1\" /><path clip-path=\"url(#clip710)\" d=\"M 0 0 M1130.27 32.4315 Q1124.27 32.4315 1120.79 37.1306 Q1117.3 41.7891 1117.3 49.9314 Q1117.3 58.0738 1120.75 62.7728 Q1124.23 67.4314 1130.27 67.4314 Q1136.22 67.4314 1139.71 62.7323 Q1143.19 58.0333 1143.19 49.9314 Q1143.19 41.8701 1139.71 37.1711 Q1136.22 32.4315 1130.27 32.4315 M1130.27 26.1121 Q1139.99 26.1121 1145.54 32.4315 Q1151.09 38.7509 1151.09 49.9314 Q1151.09 61.0714 1145.54 67.4314 Q1139.99 73.7508 1130.27 73.7508 Q1120.5 73.7508 1114.95 67.4314 Q1109.45 61.0714 1109.45 49.9314 Q1109.45 38.7509 1114.95 32.4315 Q1120.5 26.1121 1130.27 26.1121 Z\" fill=\"#000000\" fill-rule=\"evenodd\" fill-opacity=\"1\" /><path clip-path=\"url(#clip710)\" d=\"M 0 0 M1185.2 34.1734 Q1183.94 33.4443 1182.44 33.1202 Q1180.98 32.7556 1179.2 32.7556 Q1172.88 32.7556 1169.48 36.8875 Q1166.12 40.9789 1166.12 48.6757 L1166.12 72.576 L1158.62 72.576 L1158.62 27.2059 L1166.12 27.2059 L1166.12 34.2544 Q1168.47 30.1225 1172.23 28.1376 Q1176 26.1121 1181.39 26.1121 Q1182.16 26.1121 1183.09 26.2337 Q1184.02 26.3147 1185.16 26.5172 L1185.2 34.1734 Z\" fill=\"#000000\" fill-rule=\"evenodd\" fill-opacity=\"1\" /><path clip-path=\"url(#clip710)\" d=\"M 0 0 M1230 48.0275 L1230 51.6733 L1195.73 51.6733 Q1196.22 59.3701 1200.35 63.421 Q1204.52 67.4314 1211.93 67.4314 Q1216.23 67.4314 1220.24 66.3781 Q1224.29 65.3249 1228.26 63.2184 L1228.26 70.267 Q1224.25 71.9684 1220.04 72.8596 Q1215.82 73.7508 1211.49 73.7508 Q1200.63 73.7508 1194.27 67.4314 Q1187.95 61.1119 1187.95 50.3365 Q1187.95 39.1965 1193.95 32.6746 Q1199.98 26.1121 1210.19 26.1121 Q1219.35 26.1121 1224.65 32.0264 Q1230 37.9003 1230 48.0275 M1222.55 45.84 Q1222.47 39.7232 1219.1 36.0774 Q1215.78 32.4315 1210.27 32.4315 Q1204.03 32.4315 1200.27 35.9558 Q1196.54 39.4801 1195.97 45.8805 L1222.55 45.84 Z\" fill=\"#000000\" fill-rule=\"evenodd\" fill-opacity=\"1\" /><path clip-path=\"url(#clip710)\" d=\"M 0 0 M1296.76 49.9314 Q1296.76 41.7081 1293.36 37.0496 Q1289.99 32.3505 1284.08 32.3505 Q1278.17 32.3505 1274.76 37.0496 Q1271.4 41.7081 1271.4 49.9314 Q1271.4 58.1548 1274.76 62.8538 Q1278.17 67.5124 1284.08 67.5124 Q1289.99 67.5124 1293.36 62.8538 Q1296.76 58.1548 1296.76 49.9314 M1271.4 34.0924 Q1273.75 30.0415 1277.32 28.0971 Q1280.92 26.1121 1285.9 26.1121 Q1294.17 26.1121 1299.31 32.6746 Q1304.5 39.2371 1304.5 49.9314 Q1304.5 60.6258 1299.31 67.1883 Q1294.17 73.7508 1285.9 73.7508 Q1280.92 73.7508 1277.32 71.8063 Q1273.75 69.8214 1271.4 65.7705 L1271.4 72.576 L1263.91 72.576 L1263.91 9.54393 L1271.4 9.54393 L1271.4 34.0924 Z\" fill=\"#000000\" fill-rule=\"evenodd\" fill-opacity=\"1\" /><path clip-path=\"url(#clip710)\" d=\"M 0 0 M1325.56 12.096 L1332.45 12.096 L1311.38 80.2727 L1304.5 80.2727 L1325.56 12.096 Z\" fill=\"#000000\" fill-rule=\"evenodd\" fill-opacity=\"1\" /><path clip-path=\"url(#clip710)\" d=\"M 0 0 M1335.93 27.2059 L1343.39 27.2059 L1352.7 62.6108 L1361.98 27.2059 L1370.77 27.2059 L1380.09 62.6108 L1389.36 27.2059 L1396.82 27.2059 L1384.95 72.576 L1376.16 72.576 L1366.39 35.3887 L1356.59 72.576 L1347.8 72.576 L1335.93 27.2059 Z\" fill=\"#000000\" fill-rule=\"evenodd\" fill-opacity=\"1\" /><path clip-path=\"url(#clip710)\" d=\"M 0 0 M1422.95 12.096 L1474.11 12.096 L1474.11 18.9825 L1452.64 18.9825 L1452.64 72.576 L1444.41 72.576 L1444.41 18.9825 L1422.95 18.9825 L1422.95 12.096 Z\" fill=\"#000000\" fill-rule=\"evenodd\" fill-opacity=\"1\" /><path clip-path=\"url(#clip710)\" d=\"M 0 0 M1496.02 34.1734 Q1494.77 33.4443 1493.27 33.1202 Q1491.81 32.7556 1490.03 32.7556 Q1483.71 32.7556 1480.31 36.8875 Q1476.94 40.9789 1476.94 48.6757 L1476.94 72.576 L1469.45 72.576 L1469.45 27.2059 L1476.94 27.2059 L1476.94 34.2544 Q1479.29 30.1225 1483.06 28.1376 Q1486.83 26.1121 1492.22 26.1121 Q1492.99 26.1121 1493.92 26.2337 Q1494.85 26.3147 1495.98 26.5172 L1496.02 34.1734 Z\" fill=\"#000000\" fill-rule=\"evenodd\" fill-opacity=\"1\" /><path clip-path=\"url(#clip710)\" d=\"M 0 0 M1503.07 54.671 L1503.07 27.2059 L1510.53 27.2059 L1510.53 54.3874 Q1510.53 60.8284 1513.04 64.0691 Q1515.55 67.2693 1520.57 67.2693 Q1526.61 67.2693 1530.09 63.421 Q1533.62 59.5726 1533.62 52.9291 L1533.62 27.2059 L1541.07 27.2059 L1541.07 72.576 L1533.62 72.576 L1533.62 65.6084 Q1530.9 69.7404 1527.3 71.7658 Q1523.73 73.7508 1518.99 73.7508 Q1511.17 73.7508 1507.12 68.8897 Q1503.07 64.0286 1503.07 54.671 M1521.83 26.1121 L1521.83 26.1121 Z\" fill=\"#000000\" fill-rule=\"evenodd\" fill-opacity=\"1\" /><path clip-path=\"url(#clip710)\" d=\"M 0 0 M1587.7 48.0275 L1587.7 51.6733 L1553.42 51.6733 Q1553.91 59.3701 1558.04 63.421 Q1562.22 67.4314 1569.63 67.4314 Q1573.92 67.4314 1577.93 66.3781 Q1581.98 65.3249 1585.95 63.2184 L1585.95 70.267 Q1581.94 71.9684 1577.73 72.8596 Q1573.52 73.7508 1569.18 73.7508 Q1558.33 73.7508 1551.97 67.4314 Q1545.65 61.1119 1545.65 50.3365 Q1545.65 39.1965 1551.64 32.6746 Q1557.68 26.1121 1567.89 26.1121 Q1577.04 26.1121 1582.35 32.0264 Q1587.7 37.9003 1587.7 48.0275 M1580.24 45.84 Q1580.16 39.7232 1576.8 36.0774 Q1573.48 32.4315 1567.97 32.4315 Q1561.73 32.4315 1557.96 35.9558 Q1554.24 39.4801 1553.67 45.8805 L1580.24 45.84 Z\" fill=\"#000000\" fill-rule=\"evenodd\" fill-opacity=\"1\" /><path clip-path=\"url(#clip710)\" d=\"M 0 0 M1634.24 40.0472 Q1630.55 43.3285 1628.81 46.6097 Q1627.11 49.8504 1627.11 53.4152 Q1627.11 59.3295 1631.4 63.2589 Q1635.7 67.1883 1642.18 67.1883 Q1646.03 67.1883 1649.39 65.9325 Q1652.75 64.6362 1655.71 62.0436 L1634.24 40.0472 M1639.95 35.5102 L1660.53 56.5749 Q1662.92 52.9696 1664.26 48.8782 Q1665.59 44.7463 1665.84 40.1283 L1673.37 40.1283 Q1672.89 45.4755 1670.78 50.7011 Q1668.67 55.9268 1664.91 61.0309 L1676.21 72.576 L1666 72.576 L1660.21 66.6212 Q1655.99 70.2265 1651.38 72.0089 Q1646.76 73.7508 1641.45 73.7508 Q1631.69 73.7508 1625.49 68.201 Q1619.29 62.6108 1619.29 53.9013 Q1619.29 48.7162 1622.01 44.1792 Q1624.72 39.6016 1630.15 35.5912 Q1628.2 33.0392 1627.19 30.5276 Q1626.18 27.9755 1626.18 25.545 Q1626.18 18.9825 1630.68 15.0127 Q1635.17 11.0023 1642.63 11.0023 Q1645.99 11.0023 1649.31 11.7314 Q1652.67 12.4606 1656.12 13.9189 L1656.12 21.2916 Q1652.59 19.3876 1649.39 18.4154 Q1646.19 17.4027 1643.44 17.4027 Q1639.18 17.4027 1636.51 19.6712 Q1633.88 21.8992 1633.88 25.464 Q1633.88 27.5299 1635.05 29.6364 Q1636.27 31.7024 1639.95 35.5102 Z\" fill=\"#000000\" fill-rule=\"evenodd\" fill-opacity=\"1\" /><path clip-path=\"url(#clip710)\" d=\"M 0 0 M1702.34 12.096 L1753.5 12.096 L1753.5 18.9825 L1732.03 18.9825 L1732.03 72.576 L1723.81 72.576 L1723.81 18.9825 L1702.34 18.9825 L1702.34 12.096 Z\" fill=\"#000000\" fill-rule=\"evenodd\" fill-opacity=\"1\" /><path clip-path=\"url(#clip710)\" d=\"M 0 0 M1768.2 49.7694 Q1759.17 49.7694 1755.69 51.8354 Q1752.2 53.9013 1752.2 58.8839 Q1752.2 62.8538 1754.8 65.2034 Q1757.43 67.5124 1761.92 67.5124 Q1768.12 67.5124 1771.85 63.1374 Q1775.62 58.7219 1775.62 51.4303 L1775.62 49.7694 L1768.2 49.7694 M1783.07 46.6907 L1783.07 72.576 L1775.62 72.576 L1775.62 65.6895 Q1773.06 69.8214 1769.26 71.8063 Q1765.45 73.7508 1759.94 73.7508 Q1752.97 73.7508 1748.84 69.8619 Q1744.75 65.9325 1744.75 59.3701 Q1744.75 51.7138 1749.85 47.825 Q1755 43.9361 1765.17 43.9361 L1775.62 43.9361 L1775.62 43.2069 Q1775.62 38.0623 1772.21 35.2672 Q1768.85 32.4315 1762.74 32.4315 Q1758.85 32.4315 1755.16 33.3632 Q1751.47 34.295 1748.07 36.1584 L1748.07 29.2718 Q1752.16 27.692 1756.01 26.9223 Q1759.86 26.1121 1763.5 26.1121 Q1773.35 26.1121 1778.21 31.2163 Q1783.07 36.3204 1783.07 46.6907 Z\" fill=\"#000000\" fill-rule=\"evenodd\" fill-opacity=\"1\" /><path clip-path=\"url(#clip710)\" d=\"M 0 0 M1817.18 34.1734 Q1815.92 33.4443 1814.42 33.1202 Q1812.97 32.7556 1811.18 32.7556 Q1804.86 32.7556 1801.46 36.8875 Q1798.1 40.9789 1798.1 48.6757 L1798.1 72.576 L1790.61 72.576 L1790.61 27.2059 L1798.1 27.2059 L1798.1 34.2544 Q1800.45 30.1225 1804.22 28.1376 Q1807.98 26.1121 1813.37 26.1121 Q1814.14 26.1121 1815.07 26.2337 Q1816 26.3147 1817.14 26.5172 L1817.18 34.1734 Z\" fill=\"#000000\" fill-rule=\"evenodd\" fill-opacity=\"1\" /><path clip-path=\"url(#clip710)\" d=\"M 0 0 M1853.39 49.3643 Q1853.39 41.2625 1850.03 36.8065 Q1846.71 32.3505 1840.67 32.3505 Q1834.68 32.3505 1831.32 36.8065 Q1828 41.2625 1828 49.3643 Q1828 57.4256 1831.32 61.8816 Q1834.68 66.3376 1840.67 66.3376 Q1846.71 66.3376 1850.03 61.8816 Q1853.39 57.4256 1853.39 49.3643 M1860.85 66.9452 Q1860.85 78.5308 1855.7 84.1616 Q1850.56 89.8329 1839.95 89.8329 Q1836.02 89.8329 1832.53 89.2252 Q1829.05 88.6581 1825.77 87.4428 L1825.77 80.1917 Q1829.05 81.9741 1832.25 82.8248 Q1835.45 83.6755 1838.77 83.6755 Q1846.1 83.6755 1849.75 79.8271 Q1853.39 76.0193 1853.39 68.282 L1853.39 64.5957 Q1851.09 68.6061 1847.48 70.5911 Q1843.87 72.576 1838.85 72.576 Q1830.51 72.576 1825.4 66.2161 Q1820.3 59.8562 1820.3 49.3643 Q1820.3 38.832 1825.4 32.472 Q1830.51 26.1121 1838.85 26.1121 Q1843.87 26.1121 1847.48 28.0971 Q1851.09 30.082 1853.39 34.0924 L1853.39 27.2059 L1860.85 27.2059 L1860.85 66.9452 Z\" fill=\"#000000\" fill-rule=\"evenodd\" fill-opacity=\"1\" /><path clip-path=\"url(#clip710)\" d=\"M 0 0 M1907.47 48.0275 L1907.47 51.6733 L1873.2 51.6733 Q1873.69 59.3701 1877.82 63.421 Q1881.99 67.4314 1889.41 67.4314 Q1893.7 67.4314 1897.71 66.3781 Q1901.76 65.3249 1905.73 63.2184 L1905.73 70.267 Q1901.72 71.9684 1897.51 72.8596 Q1893.3 73.7508 1888.96 73.7508 Q1878.1 73.7508 1871.74 67.4314 Q1865.43 61.1119 1865.43 50.3365 Q1865.43 39.1965 1871.42 32.6746 Q1877.46 26.1121 1887.66 26.1121 Q1896.82 26.1121 1902.13 32.0264 Q1907.47 37.9003 1907.47 48.0275 M1900.02 45.84 Q1899.94 39.7232 1896.58 36.0774 Q1893.26 32.4315 1887.75 32.4315 Q1881.51 32.4315 1877.74 35.9558 Q1874.01 39.4801 1873.45 45.8805 L1900.02 45.84 Z\" fill=\"#000000\" fill-rule=\"evenodd\" fill-opacity=\"1\" /><path clip-path=\"url(#clip710)\" d=\"M 0 0 M1922.66 14.324 L1922.66 27.2059 L1938.02 27.2059 L1938.02 32.9987 L1922.66 32.9987 L1922.66 57.6282 Q1922.66 63.1779 1924.16 64.7578 Q1925.7 66.3376 1930.36 66.3376 L1938.02 66.3376 L1938.02 72.576 L1930.36 72.576 Q1921.73 72.576 1918.45 69.3758 Q1915.17 66.1351 1915.17 57.6282 L1915.17 32.9987 L1909.7 32.9987 L1909.7 27.2059 L1915.17 27.2059 L1915.17 14.324 L1922.66 14.324 Z\" fill=\"#000000\" fill-rule=\"evenodd\" fill-opacity=\"1\" /><g clip-path=\"url(#clip712)\">\n",
       "<image width=\"1976\" height=\"1363\" xlink:href=\"data:image/png;base64,\n",
       "iVBORw0KGgoAAAANSUhEUgAAB7gAAAVTCAYAAABXs/eiAAAgAElEQVR4nOzbP4tmdxnH4d2dZ2cy\n",
       "u7Mzu7JBwRAkmiJpYmGZRrCyshGxEysJKHa+DSurYKGFWPoOrAWDCkFFEIUYI+yfrJtMdnZ3dqys\n",
       "FTS/24/nul7B9+FwDg98uC9//dZ3Li4BAAAAAAAAkPW9L/x2esISV6YHAAAAAAAAAMC/Q+AGAAAA\n",
       "AAAAIEHgBgAAAAAAACBB4AYAAAAAAAAgQeAGAAAAAAAAIEHgBgAAAAAAACBB4AYAAAAAAAAgQeAG\n",
       "AAAAAAAAIEHgBgAAAAAAACBB4AYAAAAAAAAgQeAGAAAAAAAAIEHgBgAAAAAAACBB4AYAAAAAAAAg\n",
       "QeAGAAAAAAAAIEHgBgAAAAAAACBB4AYAAAAAAAAgQeAGAAAAAAAAIEHgBgAAAAAAACBB4AYAAAAA\n",
       "AAAgQeAGAAAAAAAAIEHgBgAAAAAAACBB4AYAAAAAAAAgQeAGAAAAAAAAIEHgBgAAAAAAACBB4AYA\n",
       "AAAAAAAgQeAGAAAAAAAAIEHgBgAAAAAAACBB4AYAAAAAAAAgQeAGAAAAAAAAIEHgBgAAAAAAACBB\n",
       "4AYAAAAAAAAgQeAGAAAAAAAAIEHgBgAAAAAAACBB4AYAAAAAAAAgQeAGAAAAAAAAIEHgBgAAAAAA\n",
       "ACBB4AYAAAAAAAAgQeAGAAAAAAAAIEHgBgAAAAAAACBB4AYAAAAAAAAgYTc9AAAAAAAAAODj8pP7\n",
       "P5iesMTLv//W9IQlXHADAAAAAAAAkCBwAwAAAAAAAJAgcAMAAAAAAACQIHADAAAAAAAAkCBwAwAA\n",
       "AAAAAJAgcAMAAAAAAACQIHADAAAAAAAAkCBwAwAAAAAAAJAgcAMAAAAAAACQIHADAAAAAAAAkCBw\n",
       "AwAAAAAAAJAgcAMAAAAAAACQIHADAAAAAAAAkCBwAwAAAAAAAJAgcAMAAAAAAACQIHADAAAAAAAA\n",
       "kCBwAwAAAAAAAJAgcAMAAAAAAACQIHADAAAAAAAAkCBwAwAAAAAAAJAgcAMAAAAAAACQIHADAAAA\n",
       "AAAAkCBwAwAAAAAAAJAgcAMAAAAAAACQIHADAAAAAAAAkCBwAwAAAAAAAJAgcAMAAAAAAACQIHAD\n",
       "AAAAAAAAkCBwAwAAAAAAAJAgcAMAAAAAAACQIHADAAAAAAAAkCBwAwAAAAAAAJAgcAMAAAAAAACQ\n",
       "IHADAAAAAAAAkCBwAwAAAAAAAJAgcAMAAAAAAACQIHADAAAAAAAAkCBwAwAAAAAAAJAgcAMAAAAA\n",
       "AACQsJseAAAAAAAAAKz3o5/+bHrCEle+9sb0hCW++srb0xOWcMENAAAAAAAAQILADQAAAAAAAECC\n",
       "wA0AAAAAAABAgsANAAAAAAAAQILADQAAAAAAAECCwA0AAAAAAABAgsANAAAAAAAAQILADQAAAAAA\n",
       "AECCwA0AAAAAAABAgsANAAAAAAAAQILADQAAAAAAAECCwA0AAAAAAABAgsANAAAAAAAAQILADQAA\n",
       "AAAAAECCwA0AAAAAAABAgsANAAAAAAAAQILADQAAAAAAAECCwA0AAAAAAABAgsANAAAAAAAAQILA\n",
       "DQAAAAAAAECCwA0AAAAAAABAgsANAAAAAAAAQILADQAAAAAAAECCwA0AAAAAAABAgsANAAAAAAAA\n",
       "QILADQAAAAAAAECCwA0AAAAAAABAgsANAAAAAAAAQILADQAAAAAAAECCwA0AAAAAAABAgsANAAAA\n",
       "AAAAQILADQAAAAAAAECCwA0AAAAAAABAgsANAAAAAAAAQILADQAAAAAAAECCwA0AAAAAAABAgsAN\n",
       "AAAAAAAAQILADQAAAAAAAECCwA0AAAAAAABAwm56AAAAAAAAAPwvee3W0+kJS/z4u1+anrDEgyfn\n",
       "0xOWOH303PSEJVxwAwAAAAAAAJAgcAMAAAAAAACQIHADAAAAAAAAkCBwAwAAAAAAAJAgcAMAAAAA\n",
       "AACQIHADAAAAAAAAkCBwAwAAAAAAAJAgcAMAAAAAAACQIHADAAAAAAAAkCBwAwAAAAAAAJAgcAMA\n",
       "AAAAAACQIHADAAAAAAAAkCBwAwAAAAAAAJAgcAMAAAAAAACQIHADAAAAAAAAkCBwAwAAAAAAAJAg\n",
       "cAMAAAAAAACQIHADAAAAAAAAkCBwAwAAAAAAAJAgcAMAAAAAAACQIHADAAAAAAAAkCBwAwAAAAAA\n",
       "AJAgcAMAAAAAAACQIHADAAAAAAAAkCBwAwAAAAAAAJAgcAMAAAAAAACQIHADAAAAAAAAkCBwAwAA\n",
       "AAAAAJAgcAMAAAAAAACQIHADAAAAAAAAkCBwAwAAAAAAAJAgcAMAAAAAAACQIHADAAAAAAAAkCBw\n",
       "AwAAAAAAAJAgcAMAAAAAAACQIHADAAAAAAAAkCBwAwAAAAAAAJAgcAMAAAAAAACQIHADAAAAAAAA\n",
       "kLCbHgAAAAAAAEDD688/mp6wxPXd+fSEJQ72tvE7b+7vTU9YYm8jz9MFNwAAAAAAAAAJAjcAAAAA\n",
       "AAAACQI3AAAAAAAAAAkCNwAAAAAAAAAJAjcAAAAAAAAACQI3AAAAAAAAAAkCNwAAAAAAAAAJAjcA\n",
       "AAAAAAAACQI3AAAAAAAAAAkCNwAAAAAAAAAJAjcAAAAAAAAACQI3AAAAAAAAAAkCNwAAAAAAAAAJ\n",
       "AjcAAAAAAAAACQI3AAAAAAAAAAkCNwAAAAAAAAAJAjcAAAAAAAAACQI3AAAAAAAAAAkCNwAAAAAA\n",
       "AAAJAjcAAAAAAAAACQI3AAAAAAAAAAkCNwAAAAAAAAAJAjcAAAAAAAAACQI3AAAAAAAAAAkCNwAA\n",
       "AAAAAAAJAjcAAAAAAAAACQI3AAAAAAAAAAkCNwAAAAAAAAAJAjcAAAAAAAAACQI3AAAAAAAAAAkC\n",
       "NwAAAAAAAAAJAjcAAAAAAAAACQI3AAAAAAAAAAkCNwAAAAAAAAAJAjcAAAAAAAAACQI3AAAAAAAA\n",
       "AAkCNwAAAAAAAAAJAjcAAAAAAAAACQI3AAAAAAAAAAm76QEAAAAAAAB133j5vekJSzw535uesMTu\n",
       "yvn0hCWu759NT1ji+TvH0xOWOLp2Oj1hCRfcAAAAAAAAACQI3AAAAAAAAAAkCNwAAAAAAAAAJAjc\n",
       "AAAAAAAAACQI3AAAAAAAAAAkCNwAAAAAAAAAJAjcAAAAAAAAACQI3AAAAAAAAAAkCNwAAAAAAAAA\n",
       "JAjcAAAAAAAAACQI3AAAAAAAAAAkCNwAAAAAAAAAJAjcAAAAAAAAACQI3AAAAAAAAAAkCNwAAAAA\n",
       "AAAAJAjcAAAAAAAAACQI3AAAAAAAAAAkCNwAAAAAAAAAJAjcAAAAAAAAACQI3AAAAAAAAAAkCNwA\n",
       "AAAAAAAAJAjcAAAAAAAAACQI3AAAAAAAAAAkCNwAAAAAAAAAJAjcAAAAAAAAACQI3AAAAAAAAAAk\n",
       "CNwAAAAAAAAAJAjcAAAAAAAAACQI3AAAAAAAAAAkCNwAAAAAAAAAJAjcAAAAAAAAACQI3AAAAAAA\n",
       "AAAkCNwAAAAAAAAAJAjcAAAAAAAAACQI3AAAAAAAAAAkCNwAAAAAAAAAJAjcAAAAAAAAACQI3AAA\n",
       "AAAAAAAkCNwAAAAAAAAAJOymBwAAAAAAAP+/3vzFH6cnLPGrb27jpvAvD25OT1jiw6fXpics8Zt3\n",
       "PjU9YYm7Z9ML1jg/35uesMQ2vrYAAAAAAAAA5AncAAAAAAAAACQI3AAAAAAAAAAkCNwAAAAAAAAA\n",
       "JAjcAAAAAAAAACQI3AAAAAAAAAAkCNwAAAAAAAAAJAjcAAAAAAAAACQI3AAAAAAAAAAkCNwAAAAA\n",
       "AAAAJAjcAAAAAAAAACQI3AAAAAAAAAAkCNwAAAAAAAAAJAjcAAAAAAAAACQI3AAAAAAAAAAkCNwA\n",
       "AAAAAAAAJAjcAAAAAAAAACQI3AAAAAAAAAAkCNwAAAAAAAAAJAjcAAAAAAAAACQI3AAAAAAAAAAk\n",
       "CNwAAAAAAAAAJAjcAAAAAAAAACQI3AAAAAAAAAAkCNwAAAAAAAAAJAjcAAAAAAAAACQI3AAAAAAA\n",
       "AAAkCNwAAAAAAAAAJAjcAAAAAAAAACQI3AAAAAAAAAAkCNwAAAAAAAAAJAjcAAAAAAAAACQI3AAA\n",
       "AAAAAAAkCNwAAAAAAAAAJAjcAAAAAAAAACQI3AAAAAAAAAAkCNwAAAAAAAAAJAjcAAAAAAAAACQI\n",
       "3AAAAAAAAAAk7KYHAAAAAADAFn326GJ6whJvfvmF6QlL3D54ND1hibfuHU9PWOJwt43382T/2fSE\n",
       "JX75/uPpCUu8d/8T0xOWcMENAAAAAAAAQILADQAAAAAAAECCwA0AAAAAAABAgsANAAAAAAAAQILA\n",
       "DQAAAAAAAECCwA0AAAAAAABAgsANAAAAAAAAQILADQAAAAAAAECCwA0AAAAAAABAgsANAAAAAAAA\n",
       "QILADQAAAAAAAECCwA0AAAAAAABAgsANAAAAAAAAQILADQAAAAAAAECCwA0AAAAAAABAgsANAAAA\n",
       "AAAAQILADQAAAAAAAECCwA0AAAAAAABAgsANAAAAAAAAQILADQAAAAAAAECCwA0AAAAAAABAgsAN\n",
       "AAAAAAAAQILADQAAAAAAAECCwA0AAAAAAABAgsANAAAAAAAAQILADQAAAAAAAECCwA0AAAAAAABA\n",
       "gsANAAAAAAAAQILADQAAAAAAAECCwA0AAAAAAABAgsANAAAAAAAAQILADQAAAAAAAECCwA0AAAAA\n",
       "AABAgsANAAAAAAAAQILADQAAAAAAAECCwA0AAAAAAABAgsANAAAAAAAAQILADQAAAAAAAECCwA0A\n",
       "AAAAAABAwm56AAAAAAAA/NPnblxMT1hm7/I2fuvR7un0hCVu7D+enrDEKyen0xOWuDw9gP+qFw+v\n",
       "TU9Y4vhwG++nC24AAAAAAAAAEgRuAAAAAAAAABIEbgAAAAAAAAASBG4AAAAAAAAAEgRuAAAAAAAA\n",
       "ABIEbgAAAAAAAAASBG4AAAAAAAAAEgRuAAAAAAAAABIEbgAAAAAAAAASBG4AAAAAAAAAEgRuAAAA\n",
       "AAAAABIEbgAAAAAAAAASBG4AAAAAAAAAEgRuAAAAAAAAABIEbgAAAAAAAAASBG4AAAAAAAAAEgRu\n",
       "AAAAAAAAABIEbgAAAAAAAAASBG4AAAAAAAAAEgRuAAAAAAAAABIEbgAAAAAAAAASBG4AAAAAAAAA\n",
       "EgRuAAAAAAAAABIEbgAAAAAAAAASBG4AAAAAAAAAEgRuAAAAAAAAABIEbgAAAAAAAAASBG4AAAAA\n",
       "AAAAEgRuAAAAAAAAABIEbgAAAAAAAAASBG4AAAAAAAAAEgRuAAAAAAAAABIEbgAAAAAAAAASBG4A\n",
       "AAAAAAAAEgRuAAAAAAAAABIEbgAAAAAAAAASBG4AAAAAAAAAEgRuAAAAAAAAABIEbgAAAAAAAAAS\n",
       "dtMDAAAAAAD419549c/TE5Y4fXIwPWGZh4+38VtfvHl3esISzy62cVN4tH82PWGJi+kBi1zbyPP8\n",
       "3d9fmp6wxMmNh9MTltjG1xYAAAAAAACAPIEbAAAAAAAAgASBGwAAAAAAAIAEgRsAAAAAAACABIEb\n",
       "AAAAAAAAgASBGwAAAAAAAIAEgRsAAAAAAACABIEbAAAAAAAAgASBGwAAAAAAAIAEgRsAAAAAAACA\n",
       "BIEbAAAAAAAAgASBGwAAAAAAAIAEgRsAAAAAAACABIEbAAAAAAAAgASBGwAAAAAAAIAEgRsAAAAA\n",
       "AACABIEbAAAAAAAAgASBGwAAAAAAAIAEgRsAAAAAAACABIEbAAAAAAAAgASBGwAAAAAAAIAEgRsA\n",
       "AAAAAACABIEbAAAAAAAAgASBGwAAAAAAAIAEgRsAAAAAAACABIEbAAAAAAAAgASBGwAAAAAAAIAE\n",
       "gRsAAAAAAACABIEbAAAAAAAAgASBGwAAAAAAAIAEgRsAAAAAAACABIEbAAAAAAAAgASBGwAAAAAA\n",
       "AIAEgRsAAAAAAACABIEbAAAAAAAAgASBGwAAAAAAAIAEgRsAAAAAAACABIEbAAAAAAAAgASBGwAA\n",
       "AAAAAICE3fQAAAAAAID/xA9//tb0hCV+/e2b0xOW+NPdk+kJy9w925+esMQfHhxPT1ji9U+/Mz1h\n",
       "ib99eDQ9YYkPnmzj/fzro4PpCUu8ezq9YI2zs208TxfcAAAAAAAAACQI3AAAAAAAAAAkCNwAAAAA\n",
       "AAAAJAjcAAAAAAAAACQI3AAAAAAAAAAkCNwAAAAAAAAAJAjcAAAAAAAAACQI3AAAAAAAAAAkCNwA\n",
       "AAAAAAAAJAjcAAAAAAAAACQI3AAAAAAAAAAkCNwAAAAAAAAAJAjcAAAAAAAAACQI3AAAAAAAAAAk\n",
       "CNwAAAAAAAAAJAjcAAAAAAAAACQI3AAAAAAAAAAkCNwAAAAAAAAAJAjcAAAAAAAAACQI3AAAAAAA\n",
       "AAAkCNwAAAAAAAAAJAjcAAAAAAAAACQI3AAAAAAAAAAkCNwAAAAAAAAAJAjcAAAAAAAAACQI3AAA\n",
       "AAAAAAAkCNwAAAAAAAAAJAjcAAAAAAAAACQI3AAAAAAAAAAkCNwAAAAAAAAAJAjcAAAAAAAAACQI\n",
       "3AAAAAAAAAAkCNwAAAAAAAAAJAjcAAAAAAAAACQI3AAAAAAAAAAkCNwAAAAAAAAAJAjcAAAAAAAA\n",
       "ACQI3AAAAAAAAAAkCNwAAAAAAAAAJOymBwAAAAAAH4+Xji6mJyzx/a+8Nj1hic/fvjM9YYm33z+c\n",
       "nrDMtd023tHbB0+nJyxx//T69IQl7p0dTE9Y5PL0gCVOrm7j/bzzeBs3v/ceHk9PWGIbTxMAAAAA\n",
       "AACAPIEbAAAAAAAAgASBGwAAAAAAAIAEgRsAAAAAAACABIEbAAAAAAAAgASBGwAAAAAAAIAEgRsA\n",
       "AAAAAACABIEbAAAAAAAAgASBGwAAAAAAAIAEgRsAAAAAAACABIEbAAAAAAAAgASBGwAAAAAAAIAE\n",
       "gRsAAAAAAACABIEbAAAAAAAAgASBGwAAAAAAAIAEgRsAAAAAAACABIEbAAAAAAAAgASBGwAAAAAA\n",
       "AIAEgRsAAAAAAACABIEbAAAAAAAAgASBGwAAAAAAAIAEgRsAAAAAAACABIEbAAAAAAAAgASBGwAA\n",
       "AAAAAIAEgRsAAAAAAACABIEbAAAAAAAAgASBGwAAAAAAAIAEgRsAAAAAAACABIEbAAAAAAAAgASB\n",
       "GwAAAAAAAIAEgRsAAAAAAACABIEbAAAAAAAAgASBGwAAAAAAAIAEgRsAAAAAAACABIEbAAAAAAAA\n",
       "gASBGwAAAAAAAIAEgRsAAAAAAACABIEbAAAAAAAAgASBGwAAAAAAAIAEgRsAAAAAAACAhN30AAAA\n",
       "AABY7Yuf/Gh6whKPn23jvuX2c4+mJyxx9cr59IQlXj3ZxvO8dOnSpXc/2p+esMRnjj6YnrDEwe7p\n",
       "9IQljq8+mZ6wxMHeNr65Vy5fTE9Y4oXDW9MTljg6PJ2esMQ2/uECAAAAAAAAkCdwAwAAAAAAAJAg\n",
       "cAMAAAAAAACQIHADAAAAAAAAkCBwAwAAAAAAAJAgcAMAAAAAAACQIHADAAAAAAAAkCBwAwAAAAAA\n",
       "AJAgcAMAAAAAAACQIHADAAAAAAAAkCBwAwAAAAAAAJAgcAMAAAAAAACQIHADAAAAAAAAkCBwAwAA\n",
       "AAAAAJAgcAMAAAAAAACQIHADAAAAAAAAkCBwAwAAAAAAAJAgcAMAAAAAAACQIHADAAAAAAAAkCBw\n",
       "AwAAAAAAAJAgcAMAAAAAAACQIHADAAAAAAAAkCBwAwAAAAAAAJAgcAMAAAAAAACQIHADAAAAAAAA\n",
       "kCBwAwAAAAAAAJAgcAMAAAAAAACQIHADAAAAAAAAkCBwAwAAAAAAAJAgcAMAAAAAAACQIHADAAAA\n",
       "AAAAkCBwAwAAAAAAAJAgcAMAAAAAAACQIHADAAAAAAAA8A/27SVHsvws4/CJe2RkVnVll21K2A0I\n",
       "I3kA8tCGGQNGIDNmxogJEhuAjSAxZAVMERJb8ABLlrBkIdRWu5vu6uqqyoyMKwMWgITM9/Xr//Os\n",
       "4A2dOJeMX54IAjcAAAAAAAAAEQRuAAAAAAAAACII3AAAAAAAAABEELgBAAAAAAAAiCBwAwAAAAAA\n",
       "ABBh2T0AAAAAgK+Pv/mDn3dPKLE/rrsnlDicF90TStzv3ndPKLFcnLsnlPhu94BCH92N8RP9t56/\n",
       "6Z7Ar9B6ceqeUGI+u3RPKLFZHbsnlPjm5y+6J5R48fyr7gklvMENAAAAAAAAQASBGwAAAAAAAIAI\n",
       "AjcAAAAAAAAAEQRuAAAAAAAAACII3AAAAAAAAABEELgBAAAAAAAAiCBwAwAAAAAAABBB4AYAAAAA\n",
       "AAAggsANAAAAAAAAQASBGwAAAAAAAIAIAjcAAAAAAAAAEQRuAAAAAAAAACII3AAAAAAAAABEELgB\n",
       "AAAAAAAAiCBwAwAAAAAAABBB4AYAAAAAAAAggsANAAAAAAAAQASBGwAAAAAAAIAIAjcAAAAAAAAA\n",
       "EQRuAAAAAAAAACII3AAAAAAAAABEELgBAAAAAAAAiCBwAwAAAAAAABBB4AYAAAAAAAAggsANAAAA\n",
       "AAAAQASBGwAAAAAAAIAIAjcAAAAAAAAAEQRuAAAAAAAAACII3AAAAAAAAABEELgBAAAAAAAAiCBw\n",
       "AwAAAAAAABBB4AYAAAAAAAAggsANAAAAAAAAQASBGwAAAAAAAIAIAjcAAAAAAAAAEQRuAAAAAAAA\n",
       "ACII3AAAAAAAAABEELgBAAAAAAAAiCBwAwAAAAAAABBh2T0AAAAAIME//OK3uieU+Pcf/bR7QonX\n",
       "D7fdE0p8vt91Tyjx9rDpnlDid19+1j2hxONx3T2hzCeDXIuezmOkiI/uv+ieUGJ/WnVPKPHl/qZ7\n",
       "QonN4tQ9ocTHD7PuCSWensZ4JvIGNwAAAAAAAAARBG4AAAAAAAAAIgjcAAAAAAAAAEQQuAEAAAAA\n",
       "AACIIHADAAAAAAAAEEHgBgAAAAAAACCCwA0AAAAAAABABIEbAAAAAAAAgAgCNwAAAAAAAAARBG4A\n",
       "AAAAAAAAIgjcAAAAAAAAAEQQuAEAAAAAAACIIHADAAAAAAAAEEHgBgAAAAAAACCCwA0AAAAAAABA\n",
       "BIEbAAAAAAAAgAgCNwAAAAAAAAARBG4AAAAAAAAAIgjcAAAAAAAAAEQQuAEAAAAAAACIIHADAAAA\n",
       "AAAAEEHgBgAAAAAAACCCwA0AAAAAAABABIEbAAAAAAAAgAgCNwAAAAAAAAARBG4AAAAAAAAAIgjc\n",
       "AAAAAAAAAEQQuAEAAAAAAACIIHADAAAAAAAAEEHgBgAAAAAAACCCwA0AAAAAAABABIEbAAAAAAAA\n",
       "gAgCNwAAAAAAAAARBG4AAAAAAAAAIgjcAAAAAAAAAEQQuAEAAAAAAACIIHADAAAAAAAAEEHgBgAA\n",
       "AAAAACCCwA0AAAAAAABAhGX3AAAAACDbn337bfeEEv/8Rz/unlDi1bNN94QSx8uie0KJy3XWPaHE\n",
       "+TrGezxPx1X3hBKHQc7PaZqm+ezaPaHEaZBz9HAaI7k8DnItmqYxzs/zIM8K+/MYx/Nhv+2eUGKM\n",
       "uwoAAAAAAAAA8QRuAAAAAAAAACII3AAAAAAAAABEELgBAAAAAAAAiCBwAwAAAAAAABBB4AYAAAAA\n",
       "AAAggsANAAAAAAAAQASBGwAAAAAAAIAIAjcAAAAAAAAAEQRuAAAAAAAAACII3AAAAAAAAABEELgB\n",
       "AAAAAAAAiCBwAwAAAAAAABBB4AYAAAAAAAAggsANAAAAAAAAQASBGwAAAAAAAIAIAjcAAAAAAAAA\n",
       "EQRuAAAAAAAAACII3AAAAAAAAABEELgBAAAAAAAAiCBwAwAAAAAAABBB4AYAAAAAAAAggsANAAAA\n",
       "AAAAQASBGwAAAAAAAIAIAjcAAAAAAAAAEQRuAAAAAAAAACII3AAAAAAAAABEELgBAAAAAAAAiCBw\n",
       "AwAAAAAAABBB4AYAAAAAAAAggsANAAAAAAAAQASBGwAAAAAAAIAIAjcAAAAAAAAAEQRuAAAAAAAA\n",
       "ACII3AAAAAAAAABEELgBAAAAAAAAiCBwAwAAAAAAABBB4AYAAAAAAAAggsANAAAAAAAAQIRl9wAA\n",
       "AAD4dfSXv/dJ94Qys1n3ghqr+bl7QonlYozPuZhfuieUuFsduieUuFkeuyeUWC9P3RNKjHI8p2ma\n",
       "zpcxbqIvNo/dE0qsB/nu7ga5t2yXY7wjuhzkGfdb2zGut7vtvntCiTHOTgAAAAAAAADiCdwAAAAA\n",
       "AAAARBC4AQAAAAAAAIggcAMAAAAAAAAQQeAGAAAAAAAAIILADQAAAAAAAEAEgRsAAAAAAACACAI3\n",
       "AAAAAAAAABEEbgAAAAAAAAAiCNwAAAAAAAAARBC4AQAAAAAAAIggcAMAAAAAAAAQQeAGAAAAAAAA\n",
       "IILADQAAAAAAAEAEgRsAAAAAAACACAI3AAAAAAAAABEEbgAAAAAAAAAiCNwAAAAAAAAARBC4AQAA\n",
       "AAAAAIggcAMAAAAAAAAQQeAGAAAAAAAAIILADQAAAAAAAEAEgRsAAAAAAACACAI3AAAAAAAAABEE\n",
       "bgAAAAAAAAAiCNwAAAAAAAAARBC4AQAAAAAAAIggcAMAAAAAAAAQQeAGAAAAAAAAIILADQAAAAAA\n",
       "AEAEgRsAAAAAAACACAI3AAAAAAAAABEEbgAAAAAAAAAiCNwAAAAAAAAARBC4AQAAAAAAAIggcAMA\n",
       "AAAAAAAQQeAGAAAAAAAAIILADQAAAAAAAEAEgRsAAAAAAACACMvuAQAAAIzl7374b90TSlwu4/xP\n",
       "+f6w7p5QYrt56p5QYjG/dE8o8Y1BztHjeYyf/+62j90TSqxWx+4JJT44PnRPKHOzHOOYfvjsq+4J\n",
       "JZaLc/eEEs9PY9xbRnkmWi1P3RNK3G9edU8osduNcQ8d40keAAAAAAAAgHgCNwAAAAAAAAARBG4A\n",
       "AAAAAAAAIgjcAAAAAAAAAEQQuAEAAAAAAACIIHADAAAAAAAAEEHgBgAAAAAAACCCwA0AAAAAAABA\n",
       "BIEbAAAAAAAAgAgCNwAAAAAAAAARBG4AAHCBeBQAACAASURBVAAAAAAAIgjcAAAAAAAAAEQQuAEA\n",
       "AAAAAACIIHADAAAAAAAAEEHgBgAAAAAAACCCwA0AAAAAAABABIEbAAAAAAAAgAgCNwAAAAAAAAAR\n",
       "BG4AAAAAAAAAIgjcAAAAAAAAAEQQuAEAAAAAAACIIHADAAAAAAAAEEHgBgAAAAAAACCCwA0AAAAA\n",
       "AABABIEbAAAAAAAAgAgCNwAAAAAAAAARBG4AAAAAAAAAIgjcAAAAAAAAAEQQuAEAAAAAAACIIHAD\n",
       "AAAAAAAAEEHgBgAAAAAAACCCwA0AAAAAAABABIEbAAAAAAAAgAgCNwAAAAAAAAARBG4AAAAAAAAA\n",
       "IgjcAAAAAAAAAEQQuAEAAAAAAACIIHADAAAAAAAAEEHgBgAAAAAAACDCsnsAAAAA/+Mfv/hB94QS\n",
       "P/vRj7snlPj8zYvuCWXePW27J5RY7m+6J5T4jRevuyeUeDiM8b19/TjG9/bLx133hBK/881fdk8o\n",
       "8XDYdE8o89nDbfeEEvvTGCniN++/6J5Q4v0g99B3h3X3hBK71bF7QonXT7PuCSXO5zGut97gBgAA\n",
       "AAAAACCCwA0AAAAAAABABIEbAAAAAAAAgAgCNwAAAAAAAAARBG4AAAAAAAAAIgjcAAAAAAAAAEQQ\n",
       "uAEAAAAAAACIIHADAAAAAAAAEEHgBgAAAAAAACCCwA0AAAAAAABABIEbAAAAAAAAgAgCNwAAAAAA\n",
       "AAARBG4AAAAAAAAAIgjcAAAAAAAAAEQQuAEAAAAAAACIIHADAAAAAAAAEEHgBgAAAAAAACCCwA0A\n",
       "AAAAAABABIEbAAAAAAAAgAgCNwAAAAAAAAARBG4AAAAAAAAAIgjcAAAAAAAAAEQQuAEAAAAAAACI\n",
       "IHADAAAAAAAAEEHgBgAAAAAAACCCwA0AAAAAAABABIEbAAAAAAAAgAgCNwAAAAAAAAARBG4AAAAA\n",
       "AAAAIgjcAAAAAAAAAEQQuAEAAAAAAACIIHADAAAAAAAAEEHgBgAAAAAAACCCwA0AAAAAAABABIEb\n",
       "AAAAAAAAgAgCNwAAAAAAAAARBG4AAAAAAAAAIgjcAAAAAAAAAEQQuAEAAAAAAACIsOweAAAA8L/5\n",
       "02+/7Z5Q4l//8J+6J5S4v911Tyjx/mnTPaHM20E+63J+6Z5Q4vkgx/PxuOqeUOLxNMbPf9dp1j2h\n",
       "xH6Q8/PpPMb3dpqm6XQd4x20x9MY19z9YYxz9HhedE8ocRjkc54vY1yHPt1fuyeUePvurntCiTG+\n",
       "tQAAAAAAAADEE7gBAAAAAAAAiCBwAwAAAAAAABBB4AYAAAAAAAAggsANAAAAAAAAQASBGwAAAAAA\n",
       "AIAIAjcAAAAAAAAAEQRuAAAAAAAAACII3AAAAAAAAABEELgBAAAAAAAAiCBwAwAAAAAAABBB4AYA\n",
       "AAAAAAAggsANAAAAAAAAQASBGwAAAAAAAIAIAjcAAAAAAAAAEQRuAAAAAAAAACII3AAAAAAAAABE\n",
       "ELgBAAAAAAAAiCBwAwAAAAAAABBB4AYAAAAAAAAggsANAAAAAAAAQASBGwAAAAAAAIAIAjcAAAAA\n",
       "AAAAEQRuAAAAAAAAACII3AAAAAAAAABEELgBAAAAAAAAiCBwAwAAAAAAABBB4AYAAAAAAAAggsAN\n",
       "AAAAAAAAQASBGwAAAAAAAIAIAjcAAAAAAAAAEQRuAAAAAAAAACII3AAAAAAAAABEELgBAAAAAAAA\n",
       "iCBwAwAAAAAAABBB4AYAAAAAAAAggsANAAAAAAAAQASBGwAAAAAAAIAIAjcAAAAAAAAAEZbdAwAA\n",
       "gP+7v/rex90TSly7BxTZrZ+6J5TYrI7dE0rcrA7dE8rMZ2OcpavFqXtCieXi3D2hxHY5xrXog82s\n",
       "e0KJ3SDX3PUg99DdIJ9zmqbpdBnjHbQX28fuCSXWg9xbRnnOXcwv3RNKjPKM++rmvntCie1m3z2h\n",
       "xBh3TwAAAAAAAADiCdwAAAAAAAAARBC4AQAAAAAAAIggcAMAAAAAAAAQQeAGAAAAAAAAIILADQAA\n",
       "AAAAAEAEgRsAAAAAAACACAI3AAAAAAAAABEEbgAAAAAAAAAiCNwAAAAAAAAARBC4AQAAAAAAAIgg\n",
       "cAMAAAAAAAAQQeAGAAAAAAAAIILADQAAAAAAAEAEgRsAAAAAAACACAI3AAAAAAAAABEEbgAAAAAA\n",
       "AAAiCNwAAAAAAAAARBC4AQAAAAAAAIggcAMAAAAAAAAQQeAGAAAAAAAAIILADQAAAAAAAEAEgRsA\n",
       "AAAAAACACAI3AAAAAAAAABEEbgAAAAAAAAAiCNwAAAAAAAAARBC4AQAAAAAAAIggcAMAAAAAAAAQ\n",
       "QeAGAAAAAAAAIILADQAAAAAAAEAEgRsAAAAAAACACAI3AAAAAAAAABEEbgAAAAAAAAAiCNwAAAAA\n",
       "AAAARBC4AQAAAAAAAIggcAMAAAAAAAAQQeAGAAAAAAAAIILADQAAAAAAAEAEgRsAAAAAAACACMvu\n",
       "AQAA8P/hb3/wk+4JJa7dA4ocDuvuCSXubh+6J5SYzS7dE0o8241xPKdpmjbHVfeEEtv1oXtCidXq\n",
       "2D2hxLPjY/eEEsvFuXtCiec3Y1xzb7b77gklng1yX5mmaZoP8lx0f/e2e0KJ1fLUPaHE3WXRPaHE\n",
       "+TLGO6Lr5RjPfi/WY/yCcrMb4xl3jLMTAAAAAAAAgHgCNwAAAAAAAAARBG4AAAAAAAAAIgjcAAAA\n",
       "AAAAAEQQuAEAAAAAAACIIHADAAAAAAAAEEHgBgAAAAAAACCCwA0AAAAAAABABIEbAAAAAAAAgAgC\n",
       "NwAAAAAAAAARBG4AAAAAAAAAIgjcAAAAAAAAAEQQuAEAAAAAAACIIHADAAAAAAAAEEHgBgAAAAAA\n",
       "ACCCwA0AAAAAAABABIEbAAAAAAAAgAgCNwAAAAAAAAARBG4AAAAAAAAAIgjcAAAAAAAAAEQQuAEA\n",
       "AAAAAACIIHADAAAAAAAAEEHgBgAAAAAAACCCwA0AAAAAAABABIEbAAAAAAAAgAgCNwAAAAAAAAAR\n",
       "BG4AAAAAAAAAIgjcAAAAAAAAAEQQuAEAAAAAAACIIHADAAAAAAAAEEHgBgAAAAAAACCCwA0AAAAA\n",
       "AABABIEbAAAAAAAAgAgCNwAAAAAAAAARBG4AAAAAAAAAIgjcAAAAAAAAAEQQuAEAAAAAAACIIHAD\n",
       "AAAAAAAAEEHgBgAAAAAAACDCsnsAAAC1/v7nt90TSvznX1y7J5R4/fZ594QSX+233RNKLN+NcTy/\n",
       "8/Kz7gkl3ry/655Q5v1h0z2hxNN50T2hxG9/+F/dE0p8Osg19/P9TfeEEtcvP+yeUOL7rz7unlDi\n",
       "4zdjHM9pmqZPHnbdE0ps39x3TyjxvW982j2hxC/evOieUOJwGePZ7zrGzyfTL/ez7gklHh/GePbz\n",
       "BjcAAAAAAAAAEQRuAAAAAAAAACII3AAAAAAAAABEELgBAAAAAAAAiCBwAwAAAAAAABBB4AYAAAAA\n",
       "AAAggsANAAAAAAAAQASBGwAAAAAAAIAIAjcAAAAAAAAAEQRuAAAAAAAAACII3AAAAAAAAABEELgB\n",
       "AAAAAAAAiCBwAwAAAAAAABBB4AYAAAAAAAAggsANAAAAAAAAQASBGwAAAAAAAIAIAjcAAAAAAAAA\n",
       "EQRuAAAAAAAAACII3AAAAAAAAABEELgBAAAAAAAAiCBwAwAAAAAAABBB4AYAAAAAAAAggsANAAAA\n",
       "AAAAQASBGwAAAAAAAIAIAjcAAAAAAAAAEQRuAAAAAAAAACII3AAAAAAAAABEELgBAAAAAAAAiCBw\n",
       "AwAAAAAAABBB4AYAAAAAAAAggsANAAAAAAAAQASBGwAAAAAAAIAIAjcAAAAAAAAAEQRuAAAAAAAA\n",
       "ACII3AAAAAAAAABEELgBAAAAAAAAiCBwAwAAAAAAABBB4AYAAAAAAAAggsANAAAAAAAAQASBGwAA\n",
       "AAAAAIAIy+4BAABfF3/y6qF7Qol/+ePX3RNKfPRi2z2hxMNh3T2hxMNxjM95tz50Tyjx+LTpnlDi\n",
       "/WGMzzlN0/Tl0xjX3O3i1D2hxOG06p5Q4nqddU+oMcjnvF0euyeUOJ79nPvrZj2/dE8o8Ww1xnPu\n",
       "dO0eUGO7HOOZ6PFpjGvudnHunlDis/0Y19v3jzfdE0p4gxsAAAAAAACACAI3AAAAAAAAABEEbgAA\n",
       "AAAAAAAiCNwAAAAAAAAARBC4AQAAAAAAAIggcAMAAAAAAAAQQeAGAAAAAAAAIILADQAAAAAAAEAE\n",
       "gRsAAAAAAACACAI3AAAAAAAAABEEbgAAAAAAAAAiCNwAAAAAAAAARBC4AQAAAAAAAIggcAMAAAAA\n",
       "AAAQQeAGAAAAAAAAIILADQAAAAAAAEAEgRsAAAAAAACACAI3AAAAAAAAABEEbgAAAAAAAAAiCNwA\n",
       "AAAAAAAARBC4AQAAAAAAAIggcAMAAAAAAAAQQeAGAAAAAAAAIILADQAAAAAAAEAEgRsAAAAAAACA\n",
       "CAI3AAAAAAAAABEEbgAAAAAAAAAiCNwAAAAAAAAARBC4AQAAAAAAAIggcAMAAAAAAAAQQeAGAAAA\n",
       "AAAAIILADQAAAAAAAEAEgRsAAAAAAACACAI3AAAAAAAAABEEbgAAAAAAAAAiCNwAAAAAAAAARBC4\n",
       "AQAAAAAAAIggcAMAAAAAAAAQQeAGAAAAAAAAIMKyewAA8PX359/5qntCic3i1D2hxG517J5QYj67\n",
       "dk8osVqcuyeUGOV7u1s/dU8oMZ+PcX5uB/neTtM0fdA9oMhqPsY1dz67dE/gV2iUZ9xRnomuY9xC\n",
       "p9k0yAedpmk9yHd3lHP0eB4juVyus+4JJW6XYzzPj/L7yYfrMd75XQxyPMc4mgAAAAAAAADEE7gB\n",
       "AAAAAAAAiCBwAwAAAAAAABBB4AYAAAAAAAAggsANAAAAAAAAQASBGwAAAAAAAIAIAjcAAAAAAAAA\n",
       "EQRuAAAAAAAAACII3AAAAAAAAABEELgBAAAAAAAAiCBwAwAAAAAAABBB4AYAAAAAAAAggsANAAAA\n",
       "AAAAQASBGwAAAAAAAIAIAjcAAAAAAAAAEQRuAAAAAAAAACII3AAAAAAAAABEELgBAAAAAAAAiCBw\n",
       "AwAAAAAAABBB4AYAAAAAAAAggsANAAAAAAAAQASBGwAAAAAAAIAIAjcAAAAAAAAAEQRuAAAAAAAA\n",
       "ACII3AAAAAAAAABEELgBAAAAAAAAiCBwAwAAAAAAABBB4AYAAAAAAAAggsANAAAAAAAAQASBGwAA\n",
       "AAAAAIAIAjcAAAAAAAAAEQRuAAAAAAAAACII3AAAAAAAAABEELgBAAAAAAAAiCBwAwAAAAAAABBB\n",
       "4AYAAAAAAAAggsANAAAAAAAAQASBGwAAAAAAAIAIAjcAAAAAAAAAEZbdAwAg1V///n90Tyhzvc66\n",
       "J5S4DPI577b77gkltuun7gk1xvjaTrvTGMfzdpDzcz6/dE8o8Ww7zv+Ub5eH7gklVstz94QSm9UY\n",
       "x/P+5n33hBKbxaZ7Qoln28fuCSV2gzwr3J/G+dl6Mchz0cvbd90TSqyXx+4JJUb5/WQ+G+P8nM+v\n",
       "3RNKvNy87J5Q4vZujGfccf7aBgAAAAAAACCawA0AAAAAAABABIEbAAAAAAAAgAgCNwAAAAAAAAAR\n",
       "BG4AAAAAAAAAIgjcAAAAAAAAAEQQuAEAAAAAAACIIHADAAAAAAAAEEHgBgAAAAAAACCCwA0AAAAA\n",
       "AABABIEbAAAAAAAAgAgCNwAAAAAAAAARBG4AAAAAAAAAIgjcAAAAAAAAAET47/btZkfSugzj8FtV\n",
       "b1V19XRPzwwjhEGiBJAEQoSFWzUxMcboQbj1SFx4AhyEh+DKlXFlwobEhRAUGIQZpqdn+rtduHdh\n",
       "yP/J7XNdR3B33nq/6tclcAMAAAAAAAAQQeAGAAAAAAAAIILADQAAAAAAAEAEgRsAAAAAAACACAI3\n",
       "AAAAAAAAABEEbgAAAAAAAAAiCNwAAAAAAAAARBC4AQAAAAAAAIggcAMAAAAAAAAQQeAGAAAAAAAA\n",
       "IILADQAAAAAAAEAEgRsAAAAAAACACAI3AAAAAAAAABEEbgAAAAAAAAAiCNwAAAAAAAAARBC4AQAA\n",
       "AAAAAIggcAMAAAAAAAAQQeAGAAAAAAAAIILADQAAAAAAAEAEgRsAAAAAAACACAI3AAAAAAAAABEE\n",
       "bgAAAAAAAAAiCNwAAAAAAAAARBC4AQAAAAAAAIggcAMAAAAAAAAQYa4eAMD/nw8+vl09YYg//uSw\n",
       "esIwJxfr6glDfPj4oHrCEG8fnVRPGOKF3bPqCUN8+rTHtejiusf/5n7+fFM9YYgfv/x59YQh/v7k\n",
       "TvWEYRaLm+oJQ3zxfFs9YYjb66vqCUPc255VTxjik5P96glDvH74tHrCECdf9fg6d3++rJ4wzJen\n",
       "e9UThji97PG9wu3tafWEIZ6c9fjcfvRNj/ftt46OqycM8dfHPe4tf/7bD6onDNHjWyIAAAAAAAAA\n",
       "4gncAAAAAAAAAEQQuAEAAAAAAACIIHADAAAAAAAAEEHgBgAAAAAAACCCwA0AAAAAAABABIEbAAAA\n",
       "AAAAgAgCNwAAAAAAAAARBG4AAAAAAAAAIgjcAAAAAAAAAEQQuAEAAAAAAACIIHADAAAAAAAAEEHg\n",
       "BgAAAAAAACCCwA0AAAAAAABABIEbAAAAAAAAgAgCNwAAAAAAAAARBG4AAAAAAAAAIgjcAAAAAAAA\n",
       "AEQQuAEAAAAAAACIIHADAAAAAAAAEEHgBgAAAAAAACCCwA0AAAAAAABABIEbAAAAAAAAgAgCNwAA\n",
       "AAAAAAARBG4AAAAAAAAAIgjcAAAAAAAAAEQQuAEAAAAAAACIIHADAAAAAAAAEEHgBgAAAAAAACCC\n",
       "wA0AAAAAAABABIEbAAAAAAAAgAgCNwAAAAAAAAARBG4AAAAAAAAAIgjcAAAAAAAAAEQQuAEAAAAA\n",
       "AACIIHADAAAAAAAAEEHgBgAAAAAAACCCwA0AAAAAAABABIEbAAAAAAAAgAhz9QCATn75ynH1hCF+\n",
       "985N9YQhfv3a4+oJw3x9clA9YYj3711XTxhif31ePWGIB3ceVU8YYtfkeH5zul89YYg3m3xu7x8+\n",
       "qZ4wxHLR45lomqbp0emuesIQL+6eVU8Y4uXbPZ5zHx4fVU8YosuVqMs1992XPqueMMQXT3qcn9M0\n",
       "Tc8ve3xFv1z0eN++vdfjWeHqelE9YYjvHayqJwyxaPK0cDD3OJ7vPvi0esIQfsENAAAAAAAAQASB\n",
       "GwAAAAAAAIAIAjcAAAAAAAAAEQRuAAAAAAAAACII3AAAAAAAAABEELgBAAAAAAAAiCBwAwAAAAAA\n",
       "ABBB4AYAAAAAAAAggsANAAAAAAAAQASBGwAAAAAAAIAIAjcAAAAAAAAAEQRuAAAAAAAAACII3AAA\n",
       "AAAAAABEELgBAAAAAAAAiCBwAwAAAAAAABBB4AYAAAAAAAAggsANAAAAAAAAQASBGwAAAAAAAIAI\n",
       "AjcAAAAAAAAAEQRuAAAAAAAAACII3AAAAAAAAABEELgBAAAAAAAAiCBwAwAAAAAAABBB4AYAAAAA\n",
       "AAAggsANAAAAAAAAQASBGwAAAAAAAIAIAjcAAAAAAAAAEQRuAAAAAAAAACII3AAAAAAAAABEELgB\n",
       "AAAAAAAAiCBwAwAAAAAAABBB4AYAAAAAAAAggsANAAAAAAAAQASBGwAAAAAAAIAIAjcAAAAAAAAA\n",
       "EQRuAAAAAAAAACII3AAAAAAAAABEELgBAAAAAAAAiCBwAwAAAAAAABBhrh4AME3T9Js3P6uewLfo\n",
       "H8921ROGmFdX1ROG2TT5W28vTqsnDLGZL6snDDGvevyd2ybH83DT4/zscjy73EPXTa5D0zRNh5uz\n",
       "6glDdHkmWje5FnW55t66uqieMMRBk+vQcnFdPWGIbaN76MG6xzl6tO3xPL9YVC8YY73scS260+Rz\n",
       "2+V4vrTX4wTdrM+rJwzhF9wAAAAAAAAARBC4AQAAAAAAAIggcAMAAAAAAAAQQeAGAAAAAAAAIILA\n",
       "DQAAAAAAAEAEgRsAAAAAAACACAI3AAAAAAAAABEEbgAAAAAAAAAiCNwAAAAAAAAARBC4AQAAAAAA\n",
       "AIggcAMAAAAAAAAQQeAGAAAAAAAAIILADQAAAAAAAEAEgRsAAAAAAACACAI3AAAAAAAAABEEbgAA\n",
       "AAAAAAAiCNwAAAAAAAAARBC4AQAAAAAAAIggcAMAAAAAAAAQQeAGAAAAAAAAIILADQAAAAAAAEAE\n",
       "gRsAAAAAAACACAI3AAAAAAAAABEEbgAAAAAAAAAiCNwAAAAAAAAARBC4AQAAAAAAAIggcAMAAAAA\n",
       "AAAQQeAGAAAAAAAAIILADQAAAAAAAEAEgRsAAAAAAACACAI3AAAAAAAAABEEbgAAAAAAAAAiCNwA\n",
       "AAAAAAAARBC4AQAAAAAAAIggcAMAAAAAAAAQQeAGAAAAAAAAIILADQAAAAAAAEAEgRsAAAAAAACA\n",
       "CAI3AAAAAAAAABHm6gHAf/fbtz+unjDEdn1RPWGIy6tV9YQh3r37dfWEIZbL6+oJw3Q5R3eLm+oJ\n",
       "Q2zmHsezyzm625xVTxhitbyqnjDEbnNePWGIeb6snjDE/rbH8ZymaZpXPa652yb30NWqxzV3f93j\n",
       "Hnp22ePrv8O959UThujyjLtp8qwwTdM0X/S45h7umpyjix7n6LrJOTo3eSbq8ox7q8cjUZv3bb/g\n",
       "BgAAAAAAACCCwA0AAAAAAABABIEbAAAAAAAAgAgCNwAAAAAAAAARBG4AAAAAAAAAIgjcAAAAAAAA\n",
       "AEQQuAEAAAAAAACIIHADAAAAAAAAEEHgBgAAAAAAACCCwA0AAAAAAABABIEbAAAAAAAAgAgCNwAA\n",
       "AAAAAAARBG4AAAAAAAAAIgjcAAAAAAAAAEQQuAEAAAAAAACIIHADAAAAAAAAEEHgBgAAAAAAACCC\n",
       "wA0AAAAAAABABIEbAAAAAAAAgAgCNwAAAAAAAAARBG4AAAAAAAAAIgjcAAAAAAAAAEQQuAEAAAAA\n",
       "AACIIHADAAAAAAAAEEHgBgAAAAAAACCCwA0AAAAAAABABIEbAAAAAAAAgAgCNwAAAAAAAAARBG4A\n",
       "AAAAAAAAIgjcAAAAAAAAAEQQuAEAAAAAAACIIHADAAAAAAAAEEHgBgAAAAAAACCCwA0AAAAAAABA\n",
       "BIEbAAAAAAAAgAgCNwAAAAAAAAARBG4AAAAAAAAAIgjcAAAAAAAAAEQQuAEAAAAAAACIMFcPgP/V\n",
       "Bx9dVE8Y4g8/vV89YYjl4qZ6whDHF+vqCUM82D+pnjDEnz5+rXrCMMeXq+oJQ9zf9ri3nF/3+B/H\n",
       "d+79q3rCEA+fHVRPGOKkyT10vbyunjDEdw+/qZ4wxCfHR9UThjm76vGscHWzqJ4wxKsHT6snDPHh\n",
       "ozvVE4b49KTH+fnGYY/j+eqtHu/bTy97PPtN0zQ9Pt9UTxjinyc93lsenvX47L66f1o9YYgPH+9X\n",
       "Txji/Xs9nv3+8uisesIQP//8QfWEIXp8uwkAAAAAAABAPIEbAAAAAAAAgAgCNwAAAAAAAAARBG4A\n",
       "AAAAAAAAIgjcAAAAAAAAAEQQuAEAAAAAAACIIHADAAAAAAAAEEHgBgAAAAAAACCCwA0AAAAAAABA\n",
       "BIEbAAAAAAAAgAgCNwAAAAAAAAARBG4AAAAAAAAAIgjcAAAAAAAAAEQQuAEAAAAAAACIIHADAAAA\n",
       "AAAAEEHgBgAAAAAAACCCwA0AAAAAAABABIEbAAAAAAAAgAgCNwAAAAAAAAARBG4AAAAAAAAAIgjc\n",
       "AAAAAAAAAEQQuAEAAAAAAACIIHADAAAAAAAAEEHgBgAAAAAAACCCwA0AAAAAAABABIEbAAAAAAAA\n",
       "gAgCNwAAAAAAAAARBG4AAAAAAAAAIgjcAAAAAAAAAEQQuAEAAAAAAACIIHADAAAAAAAAEEHgBgAA\n",
       "AAAAACCCwA0AAAAAAABABIEbAAAAAAAAgAgCNwAAAAAAAAARBG4AAAAAAAAAIgjcAAAAAAAAAEQQ\n",
       "uAEAAAAAAACIIHADAAAAAAAAEGGuHsC370cvXFRPGOJn339ePWGI37/3TfWEIZ6c7VVPGGK1uKme\n",
       "MMRnz25VTxjivRe/qJ4wzJcnh9UThji7WlVPGOLyusf/OB7u9XhWOG/yue1is7yqnjDE/uasesIQ\n",
       "95tch6Zpmr5u8jy/WV5XTxji7u6kesIQr1/2+Fpsb7lfPWGIF/Z63FteOjiunjDExfFR9YRhHp33\n",
       "uBa9edjj3vLW3a+qJwzx8NlB9YQh3jjscW+5vllUTxhib9Hj+5OjJs/yPb7dBAAAAAAAACCewA0A\n",
       "AAAAAABABIEbAAAAAAAAgAgCNwAAAAAAAAARBG4AAAAAAAAAIgjcAAAAAAAAAEQQuAEAAAAAAACI\n",
       "IHADAAAAAAAAEEHgBgAAAAAAACCCwA0AAAAAAABABIEbAAAAAAAAgAgCNwAAAAAAAAARBG4AAAAA\n",
       "AAAAIgjcAAAAAAAAAEQQuAEAAAAAAACIIHADAAAAAAAAEEHgBgAAAAAAACCCwA0AAAAAAABABIEb\n",
       "AAAAAAAAgAgCNwAAAAAAAAARBG4AAAAAAAAAIgjcAAAAAAAAAEQQuAEAAAAAAACIIHADAAAAAAAA\n",
       "EEHgBgAAAAAAACCCwA0AAAAAAABABIEbAAAAAAAAgAgCNwAAAAAAAAARBG4AAAAAAAAAIgjcAAAA\n",
       "AAAAAEQQuAEAAAAAAACIIHADAAAAAAAAEEHgBgAAAAAAACCCwA0AAAAAAABABIEbAAAAAAAAgAgC\n",
       "NwAAAAAAAAARBG4AAAAAAAAAIgjcAAAAAAAAAEQQuAEAAAAAAACIMFcPGOkXD55WTxhitbipnjDE\n",
       "r75zUD1hiOubJ9UThtisrqonDHG0Pa2eMMRNj8vQtGxyvZ2madqsLqsnDLFt8nd2MTe5t2znHp/b\n",
       "2zdn1ROG2JsvqicMsW7yud2texzPaZqme9UDBpmXPe4tXe6h8/K6esIQ9/d63ENvNbmHrppch/Ya\n",
       "vZu9sutxjh6sz6sn8C3q0iDubXucOunPiwAAA9RJREFUn/OixzPRg92t6glDbJu8h/oFNwAAAAAA\n",
       "AAARBG4AAAAAAAAAIgjcAAAAAAAAAEQQuAEAAAAAAACIIHADAAAAAAAAEEHgBgAAAAAAACCCwA0A\n",
       "AAAAAABABIEbAAAAAAAAgAgCNwAAAAAAAAARBG4AAAAAAAAAIgjcAAAAAAAAAEQQuAEAAAAAAACI\n",
       "IHADAAAAAAAAEEHgBgAAAAAAACCCwA0AAAAAAABABIEbAAAAAAAAgAgCNwAAAAAAAAARBG4AAAAA\n",
       "AAAAIgjcAAAAAAAAAEQQuAEAAAAAAACIIHADAAAAAAAAEEHgBgAAAAAAACCCwA0AAAAAAABABIEb\n",
       "AAAAAAAAgAgCNwAAAAAAAAARBG4AAAAAAAAAIgjcAAAAAAAAAEQQuAEAAAAAAACIIHADAAAAAAAA\n",
       "EEHgBgAAAAAAACCCwA0AAAAAAABABIEbAAAAAAAAgAgCNwAAAAAAAAARBG4AAAAAAAAAIgjcAAAA\n",
       "AAAAAEQQuAEAAAAAAACIIHADAAAAAAAAEEHgBgAAAAAAACCCwA0AAAAAAABAhPm9u5fVG4a5vTmr\n",
       "njDEanFTPWGIH947r54wxKJ6wCC7dY/juZ17HNG9+aJ6whDLJtfbaZqmzeqqesIQm1WP56J52eN4\n",
       "rucex/PW9rR6whDrJteh3abHM9Gmyfm5bfJMNE197i1zk2tRl+O5a3KOnl+tqicMsb/ucTy7vIf2\n",
       "+PbkP55e9jhHv9fkHD27mqsnDHF90+MsPdr0eN++bnLV3e9xek6rJu8sfsENAAAAAAAAQASBGwAA\n",
       "AAAAAIAIAjcAAAAAAAAAEQRuAAAAAAAAACII3AAAAAAAAABEELgBAAAAAAAAiCBwAwAAAAAAABBB\n",
       "4AYAAAAAAAAggsANAAAAAAAAQASBGwAAAAAAAIAIAjcAAAAAAAAAEQRuAAAAAAAAACII3AAAAAAA\n",
       "AABEELgBAAAAAAAAiCBwAwAAAAAAABBB4AYAAAAAAAAggsANAAAAAAAAQASBGwAAAAAAAIAIAjcA\n",
       "AAAAAAAAEQRuAAAAAAAAACII3AAAAAAAAABEELgBAAAAAAAAiCBwAwAAAAAAABBB4AYAAAAAAAAg\n",
       "gsANAAAAAAAAQASBGwAAAAAAAIAIAjcAAAAAAAAAEQRuAAAAAAAAACII3AAAAAAAAABEELgBAAAA\n",
       "AAAAiCBwAwAAAAAAABBB4AYAAAAAAAAggsANAAAAAAAAQASBGwAAAAAAAIAIAjcAAAAAAAAAEQRu\n",
       "AAAAAAAAACII3AAAAAAAAABEELgBAAAAAAAAiCBwAwAAAAAAABDh32oZFFCXMPyuAAAAAElFTkSu\n",
       "QmCC\n",
       "\" transform=\"translate(137, 123)\"/>\n",
       "</g>\n",
       "<defs>\n",
       "  <clipPath id=\"clip713\">\n",
       "    <rect x=\"2160\" y=\"123\" width=\"73\" height=\"1364\"/>\n",
       "  </clipPath>\n",
       "</defs>\n",
       "<g clip-path=\"url(#clip713)\">\n",
       "<image width=\"72\" height=\"1363\" xlink:href=\"data:image/png;base64,\n",
       "iVBORw0KGgoAAAANSUhEUgAAAEgAAAVTCAYAAABuxG64AAALz0lEQVR4nO3dwY3sRhAFQY5Q/lsh\n",
       "L6XfLQtUeSQPERYsEg+zbJI7+/v3/H0f/tdfb/8AXydQECgIFAQKc+6/b/8Mn2ZBQaAgUBAozL1/\n",
       "3v4ZPs2CgkBBoCBQcCUdLCgIFAQKAgWBwly/xVYWFAQKAgWBwtzjQ3pjQUGgIFAQKLiSDhYUBAoC\n",
       "BYGCQMFvsWBBQaAgUBAouB8ULCgIFAQKAoV5XEmvLCgIFAQKAgWBgvtBwYKCQEGgIFCYx/2glQUF\n",
       "gYJAQaAwz/nn7Z/h0ywoCBQECgIFgYKnGsGCgkBBoCBQcD8oWFAQKAgUBAo+pIMFBYGCQEGgIFBw\n",
       "PyhYUBAoCBQECvNz1FhZUBAoCBQECvMcX/q/saAgUBAoCBQECo4awYKCQEGgIFBw1AgWFAQKAgWB\n",
       "gveDggUFgYJAQaAgUJifo8bKgoJAQaAgUPASZ7CgIFAQKAgUXEkHCwoCBYGCQEGg4NFzsKAgUBAo\n",
       "CBQcNYIFBYGCQEGg4Eo6WFAQKAgUBAoCBUeNYEFBoCBQECjMc87bP8OnWVAQKAgUBAqupIMFBYGC\n",
       "QEGgIFDwVCNYUBAoCBQECj6kgwUFgYJAQaAwPzftVxYUBAoCBYGCQMFRI1hQECgIFAQK3g8KFhQE\n",
       "CgIFgYL7QcGCgkBBoCBQcLsjWFAQKAgUBAoCBfeDggUFgYJAQaDgQzpYUBAoCBQECv6oN1hQECgI\n",
       "FAQKAgVHjWBBQaAgUBAo+JAOFhQECgIFgYIP6WBBQaAgUBAoCBT8FgsWFAQKAgWBwjzXh/TGgoJA\n",
       "QaAgUHAlHSwoCBQECgIFgYLfYsGCgkBBoCBQ8CEdLCgIFAQKAoV5zn37Z/g0CwoCBYGCQEGg4KgR\n",
       "LCgIFAQKAgVHjWBBQaAgUBAouJIOFhQECgIFgYJAwVEjWFAQKAgUBArzOGmsLCgIFAQKAoV5rivp\n",
       "jQUFgYJAQaAgUHDUCBYUBAoCBYGCD+lgQUGgIFAQKIzveNtZUBAoCBQECgIFR41gQUGgIFAQKPiQ\n",
       "DhYUBAoCBYHCPOf39s/waRYUBAoCBYGCQGHu9VtsY0FBoCBQECi4HxQsKAgUBAoCBfeDggUFgYJA\n",
       "QaAgUJh7NNqoEwQKAgWBgqNGsKAgUBAoCBTm8WR1ZUFBoCBQECgIFOY6aqwsKAgUBAoChXnctF+p\n",
       "EwQKAgWBgivpYEFBoCBQECgIFDzVCBYUBAoCBYGClziDOkGgIFAQKHiJM1hQECgIFAQKbtoHCwoC\n",
       "BYGCQEGgMPdqtFEnCBQECgIF94OCBQWBgkBBoOB+ULCgIFAQKAgUBArzuB+0UicIFAQKAgVHjWBB\n",
       "QaAgUBAo+JAOFhQECgIFgYJAwR/1BgsKAgWBgkDBH/UGdYJAQaAgUPDv1IMFBYGCQEGgIFDwVCNY\n",
       "UBAoCBQECr70P6gTBAoCBYGC+0HBgoJAQaAgUBAouB8ULCgIFAQKAgVHjWBBQaAgUBAoeIkzqBME\n",
       "CgIFgYJAwVEjWFAQKAgUBApu2gcLCgIFgYJAwZV0sKAgUBAoCBQECv51TbCgIFAQKAgU/BPIoE4Q\n",
       "KAgUBAruBwULCgIFgYJAQaDg0XOwoCBQECgIFBw1ggUFgYJAQaAwx4f0yoKCQEGgIFAQKPir56BO\n",
       "ECgIFAQK7gcFCwoCBYGCQMGHdLCgIFAQKAgUBAreDwoWFAQKAgWBgqNGsKAgUBAoCBR8SAcLCgIF\n",
       "gYJAQaDgqymCOkGgIFAQKMxx035lQUGgIFAQKLgfFCwoCBQECgIFgYLfYsGCgkBBoCBQ8CEdLCgI\n",
       "FAQKAgXfHxQsKAgUBAoCBVfSwYKCQEGgIFAQKPgtFiwoCBQECgIFb9oHdYJAQaAgUPCmfbCgIFAQ\n",
       "KAgUBAruBwULCgIFgYJAwYd0sKAgUBAoCBS8xBksKAgUBAoCBYGCo0awoCBQECgIFOY+PqQ3FhQE\n",
       "CgIFgYL7QcGCgkBBoCBQECi4HxQsKAgUBAoCBUeNYEFBoCBQECi4kg4WFAQKAgWBgkDBUSNYUBAo\n",
       "CBQECo4awYKCQEGgIFDwIR0sKAgUBAoCBYHCHH+KsLKgIFAQKAgUHDWCBQWBgkBBoODJarCgIFAQ\n",
       "KAgUBApz79s/wrdZUBAoCBQECo4awYKCQEGgIFDwJW/BgoJAQaAgUBAoOGoECwoCBYGCQMH7QcGC\n",
       "gkBBoCBQ8KZ9sKAgUBAoCBQECt4PChYUBAoCBYGCm/bBgoJAQaAgUHDTPlhQECgIFAQKAgVPNYIF\n",
       "BYGCQEGg4H5QsKAgUBAoCBQ8WQ0WFAQKAgWBgkDB/aBgQUGgIFAQKHj0HCwoCBQECgKFOW//BB9n\n",
       "QUGgIFAQKAgUHDWCBQWBgkBBoOD9oGBBQaAgUBAouB8ULCgIFAQKAgW3O4IFBYGCQEGgIFBw1AgW\n",
       "FAQKAgWBgqNGsKAgUBAoCBQ8WQ0WFAQKAgWBgkBhfDPFzoKCQEGgIFBw1AgWFAQKAgWBgierwYKC\n",
       "QEGgIFAQKHj0HCwoCBQECgIFR41gQUGgIFAQKLiSDhYUBAoCBYGCQGGOF4RWFhQECgIFgYL7QcGC\n",
       "gkBBoCBQcD8oWFAQKAgUBAoCBUeNYEFBoCBQECj4f/PBgoJAQaAgUPDv1IMFBYGCQEGgIFDwflCw\n",
       "oCBQECgIFHzJW7CgIFAQKAgUfMlbsKAgUBAoCBQECh49BwsKAgWBgkDBS5zBgoJAQaAgUPD3YsGC\n",
       "gkBBoCBQECg4agQLCgIFgYJAwUucwYKCQEGgIFDwEmewoCBQECgIFAQKjhrBgoJAQaAgUPASZ7Cg\n",
       "IFAQKAgUfH9QsKAgUBAoCBQECu4HBQsKAgWBgkDBo+dgQUGgIFAQKLiSDhYUBAoCBYGCQMFRI1hQ\n",
       "ECgIFAQKjhrBgoJAQaAgUPAhHSwoCBQECgIFgYL7QcGCgkBBoCBQcNQIFhQECgIFgYIr6WBBQaAg\n",
       "UBAouJIOFhQECgIFgYJAwfcHBQsKAgWBgkDBf2YJFhQECgIFgYL7QcGCgkBBoCBQECjMffwa21hQ\n",
       "ECgIFAQKjhrBgoJAQaAgUPBkNVhQECgIFAQKAgWPnoMFBYGCQEGg4H5QsKAgUBAoCBQ8WQ0WFAQK\n",
       "AgWBgkDBUSNYUBAoCBQECr4/KFhQECgIFAQKc7wgtLKgIFAQKAgUBAreDwoWFAQKAgWBwlxHjZUF\n",
       "BYGCQEGg4Eo6WFAQKAgUBAoCBU81ggUFgYJAQaDg/aBgQUGgIFAQKMzx92IrCwoCBYGCQEGg4H5Q\n",
       "sKAgUBAoCBR8NUWwoCBQECgIFLwfFCwoCBQECgIFgYKnGsGCgkBBoCBQcD8oWFAQKAgUBApzHneE\n",
       "NhYUBAoCBYGCQMH9oGBBQaAgUBAo+JAOFhQECgIFgYKb9sGCgkBBoCBQECh4qhEsKAgUBAoChTk/\n",
       "R42NBQWBgkBBoOBKOlhQECgIFAQKAoW5foutLCgIFAQKAgVHjWBBQaAgUBAozPn5kN5YUBAoCBQE\n",
       "CgIFR41gQUGgIFAQKLhpHywoCBQECgIFV9LBgoJAQaAgUPAhHSwoCBQECgIFgYJHz8GCgkBBoCBQ\n",
       "mPv8eftn+DQLCgIFgYJAwf2gYEFBoCBQECgIFLwfFCwoCBQECgKFOdf9oI0FBYGCQEGg4Eo6WFAQ\n",
       "KAgUBAoChTkePa8sKAgUBAoCBUeNYEFBoCBQECi4kg4WFAQKAgWBgkBh7nXU2FhQECgIFAQK7gcF\n",
       "CwoCBYGCQMFLnMGCgkBBoCBQECg4agQLCgIFgYJAYa6jxsqCgkBBoCBQcCUdLCgIFAQKAgWBwhzv\n",
       "B60sKAgUBAoCBd8nHSwoCBQECgIFb9oHCwoCBYGCQEGg4KlGsKAgUBAoCBQcNYIFBYGCQEGg4EM6\n",
       "WFAQKAgUBAoCBY+egwUFgYJAQaDgqBEsKAgUBAoChXk8WV1ZUBAoCBQECgIFR41gQUGgIFAQKHiJ\n",
       "M1hQECgIFAQK87iSXllQECgIFAQKAgXvBwULCgIFgYJAwaPnYEFBoCBQECi4HxQsKAgUBAoCBYHC\n",
       "3Oe+/TN8mgUFgYJAQaDgflCwoCBQECgIFOZxJb2yoCBQECgIFP4DWuvttSbbCdYAAAAASUVORK5C\n",
       "YII=\n",
       "\" transform=\"translate(2161, 123)\"/>\n",
       "</g>\n",
       "<path clip-path=\"url(#clip710)\" d=\"M 0 0 M2268.76 1411.5 L2298.43 1411.5 L2298.43 1415.43 L2268.76 1415.43 L2268.76 1411.5 Z\" fill=\"#000000\" fill-rule=\"evenodd\" fill-opacity=\"1\" /><path clip-path=\"url(#clip710)\" d=\"M 0 0 M2303.55 1393.76 L2321.9 1393.76 L2321.9 1397.7 L2307.83 1397.7 L2307.83 1406.17 Q2308.85 1405.82 2309.87 1405.66 Q2310.89 1405.48 2311.9 1405.48 Q2317.69 1405.48 2321.07 1408.65 Q2324.45 1411.82 2324.45 1417.24 Q2324.45 1422.82 2320.98 1425.92 Q2317.51 1429 2311.19 1429 Q2309.01 1429 2306.74 1428.63 Q2304.5 1428.26 2302.09 1427.51 L2302.09 1422.82 Q2304.17 1423.95 2306.39 1424.51 Q2308.62 1425.06 2311.09 1425.06 Q2315.1 1425.06 2317.44 1422.95 Q2319.77 1420.85 2319.77 1417.24 Q2319.77 1413.63 2317.44 1411.52 Q2315.1 1409.41 2311.09 1409.41 Q2309.22 1409.41 2307.34 1409.83 Q2305.49 1410.25 2303.55 1411.13 L2303.55 1393.76 Z\" fill=\"#000000\" fill-rule=\"evenodd\" fill-opacity=\"1\" /><path clip-path=\"url(#clip710)\" d=\"M 0 0 M2329.52 1422.44 L2334.4 1422.44 L2334.4 1428.32 L2329.52 1428.32 L2329.52 1422.44 Z\" fill=\"#000000\" fill-rule=\"evenodd\" fill-opacity=\"1\" /><path clip-path=\"url(#clip710)\" d=\"M 0 0 M2349.47 1396.84 Q2345.86 1396.84 2344.03 1400.41 Q2342.23 1403.95 2342.23 1411.08 Q2342.23 1418.19 2344.03 1421.75 Q2345.86 1425.29 2349.47 1425.29 Q2353.11 1425.29 2354.91 1421.75 Q2356.74 1418.19 2356.74 1411.08 Q2356.74 1403.95 2354.91 1400.41 Q2353.11 1396.84 2349.47 1396.84 M2349.47 1393.14 Q2355.28 1393.14 2358.34 1397.75 Q2361.42 1402.33 2361.42 1411.08 Q2361.42 1419.81 2358.34 1424.41 Q2355.28 1429 2349.47 1429 Q2343.66 1429 2340.58 1424.41 Q2337.53 1419.81 2337.53 1411.08 Q2337.53 1402.33 2340.58 1397.75 Q2343.66 1393.14 2349.47 1393.14 Z\" fill=\"#000000\" fill-rule=\"evenodd\" fill-opacity=\"1\" /><path clip-path=\"url(#clip710)\" d=\"M 0 0 M2268.76 1272.57 L2298.43 1272.57 L2298.43 1276.51 L2268.76 1276.51 L2268.76 1272.57 Z\" fill=\"#000000\" fill-rule=\"evenodd\" fill-opacity=\"1\" /><path clip-path=\"url(#clip710)\" d=\"M 0 0 M2307.53 1285.47 L2323.85 1285.47 L2323.85 1289.4 L2301.9 1289.4 L2301.9 1285.47 Q2304.57 1282.71 2309.15 1278.08 Q2313.76 1273.43 2314.94 1272.09 Q2317.18 1269.57 2318.06 1267.83 Q2318.96 1266.07 2318.96 1264.38 Q2318.96 1261.63 2317.02 1259.89 Q2315.1 1258.15 2312 1258.15 Q2309.8 1258.15 2307.34 1258.92 Q2304.91 1259.68 2302.14 1261.23 L2302.14 1256.51 Q2304.96 1255.38 2307.41 1254.8 Q2309.87 1254.22 2311.9 1254.22 Q2317.27 1254.22 2320.47 1256.9 Q2323.66 1259.59 2323.66 1264.08 Q2323.66 1266.21 2322.85 1268.13 Q2322.07 1270.03 2319.96 1272.62 Q2319.38 1273.29 2316.28 1276.51 Q2313.18 1279.7 2307.53 1285.47 Z\" fill=\"#000000\" fill-rule=\"evenodd\" fill-opacity=\"1\" /><path clip-path=\"url(#clip710)\" d=\"M 0 0 M2328.92 1283.52 L2333.8 1283.52 L2333.8 1289.4 L2328.92 1289.4 L2328.92 1283.52 Z\" fill=\"#000000\" fill-rule=\"evenodd\" fill-opacity=\"1\" /><path clip-path=\"url(#clip710)\" d=\"M 0 0 M2338.92 1254.84 L2357.27 1254.84 L2357.27 1258.78 L2343.2 1258.78 L2343.2 1267.25 Q2344.22 1266.9 2345.24 1266.74 Q2346.26 1266.56 2347.27 1266.56 Q2353.06 1266.56 2356.44 1269.73 Q2359.82 1272.9 2359.82 1278.32 Q2359.82 1283.89 2356.35 1287 Q2352.88 1290.07 2346.56 1290.07 Q2344.38 1290.07 2342.11 1289.7 Q2339.87 1289.33 2337.46 1288.59 L2337.46 1283.89 Q2339.54 1285.03 2341.76 1285.58 Q2343.99 1286.14 2346.46 1286.14 Q2350.47 1286.14 2352.81 1284.03 Q2355.14 1281.93 2355.14 1278.32 Q2355.14 1274.7 2352.81 1272.6 Q2350.47 1270.49 2346.46 1270.49 Q2344.59 1270.49 2342.71 1270.91 Q2340.86 1271.32 2338.92 1272.2 L2338.92 1254.84 Z\" fill=\"#000000\" fill-rule=\"evenodd\" fill-opacity=\"1\" /><path clip-path=\"url(#clip710)\" d=\"M 0 0 M2280.7 1119 Q2277.09 1119 2275.26 1122.56 Q2273.45 1126.11 2273.45 1133.24 Q2273.45 1140.34 2275.26 1143.91 Q2277.09 1147.45 2280.7 1147.45 Q2284.33 1147.45 2286.14 1143.91 Q2287.97 1140.34 2287.97 1133.24 Q2287.97 1126.11 2286.14 1122.56 Q2284.33 1119 2280.7 1119 M2280.7 1115.3 Q2286.51 1115.3 2289.57 1119.9 Q2292.64 1124.49 2292.64 1133.24 Q2292.64 1141.96 2289.57 1146.57 Q2286.51 1151.15 2280.7 1151.15 Q2274.89 1151.15 2271.81 1146.57 Q2268.76 1141.96 2268.76 1133.24 Q2268.76 1124.49 2271.81 1119.9 Q2274.89 1115.3 2280.7 1115.3 Z\" fill=\"#000000\" fill-rule=\"evenodd\" fill-opacity=\"1\" /><path clip-path=\"url(#clip710)\" d=\"M 0 0 M2274.38 1007.62 L2290.7 1007.62 L2290.7 1011.56 L2268.76 1011.56 L2268.76 1007.62 Q2271.42 1004.87 2276 1000.24 Q2280.61 995.587 2281.79 994.245 Q2284.03 991.722 2284.91 989.986 Q2285.82 988.226 2285.82 986.537 Q2285.82 983.782 2283.87 982.046 Q2281.95 980.31 2278.85 980.31 Q2276.65 980.31 2274.2 981.074 Q2271.77 981.838 2268.99 983.388 L2268.99 978.666 Q2271.81 977.532 2274.27 976.953 Q2276.72 976.375 2278.76 976.375 Q2284.13 976.375 2287.32 979.06 Q2290.52 981.745 2290.52 986.236 Q2290.52 988.365 2289.7 990.287 Q2288.92 992.185 2286.81 994.777 Q2286.23 995.449 2283.13 998.666 Q2280.03 1001.86 2274.38 1007.62 Z\" fill=\"#000000\" fill-rule=\"evenodd\" fill-opacity=\"1\" /><path clip-path=\"url(#clip710)\" d=\"M 0 0 M2295.77 1005.68 L2300.65 1005.68 L2300.65 1011.56 L2295.77 1011.56 L2295.77 1005.68 Z\" fill=\"#000000\" fill-rule=\"evenodd\" fill-opacity=\"1\" /><path clip-path=\"url(#clip710)\" d=\"M 0 0 M2305.77 977 L2324.13 977 L2324.13 980.935 L2310.05 980.935 L2310.05 989.407 Q2311.07 989.06 2312.09 988.898 Q2313.11 988.713 2314.13 988.713 Q2319.91 988.713 2323.29 991.884 Q2326.67 995.055 2326.67 1000.47 Q2326.67 1006.05 2323.2 1009.15 Q2319.73 1012.23 2313.41 1012.23 Q2311.23 1012.23 2308.96 1011.86 Q2306.72 1011.49 2304.31 1010.75 L2304.31 1006.05 Q2306.39 1007.18 2308.62 1007.74 Q2310.84 1008.3 2313.32 1008.3 Q2317.32 1008.3 2319.66 1006.19 Q2322 1004.08 2322 1000.47 Q2322 996.861 2319.66 994.754 Q2317.32 992.648 2313.32 992.648 Q2311.44 992.648 2309.57 993.064 Q2307.71 993.481 2305.77 994.361 L2305.77 977 Z\" fill=\"#000000\" fill-rule=\"evenodd\" fill-opacity=\"1\" /><path clip-path=\"url(#clip710)\" d=\"M 0 0 M2270.21 838.078 L2288.57 838.078 L2288.57 842.013 L2274.5 842.013 L2274.5 850.485 Q2275.52 850.138 2276.53 849.976 Q2277.55 849.791 2278.57 849.791 Q2284.36 849.791 2287.74 852.962 Q2291.12 856.133 2291.12 861.55 Q2291.12 867.129 2287.64 870.231 Q2284.17 873.309 2277.85 873.309 Q2275.68 873.309 2273.41 872.939 Q2271.16 872.569 2268.76 871.828 L2268.76 867.129 Q2270.84 868.263 2273.06 868.819 Q2275.28 869.374 2277.76 869.374 Q2281.77 869.374 2284.1 867.268 Q2286.44 865.161 2286.44 861.55 Q2286.44 857.939 2284.1 855.832 Q2281.77 853.726 2277.76 853.726 Q2275.89 853.726 2274.01 854.143 Q2272.16 854.559 2270.21 855.439 L2270.21 838.078 Z\" fill=\"#000000\" fill-rule=\"evenodd\" fill-opacity=\"1\" /><path clip-path=\"url(#clip710)\" d=\"M 0 0 M2296.19 866.758 L2301.07 866.758 L2301.07 872.638 L2296.19 872.638 L2296.19 866.758 Z\" fill=\"#000000\" fill-rule=\"evenodd\" fill-opacity=\"1\" /><path clip-path=\"url(#clip710)\" d=\"M 0 0 M2316.14 841.157 Q2312.53 841.157 2310.7 844.721 Q2308.89 848.263 2308.89 855.393 Q2308.89 862.499 2310.7 866.064 Q2312.53 869.606 2316.14 869.606 Q2319.77 869.606 2321.58 866.064 Q2323.41 862.499 2323.41 855.393 Q2323.41 848.263 2321.58 844.721 Q2319.77 841.157 2316.14 841.157 M2316.14 837.453 Q2321.95 837.453 2325.01 842.059 Q2328.08 846.643 2328.08 855.393 Q2328.08 864.119 2325.01 868.726 Q2321.95 873.309 2316.14 873.309 Q2310.33 873.309 2307.25 868.726 Q2304.2 864.119 2304.2 855.393 Q2304.2 846.643 2307.25 842.059 Q2310.33 837.453 2316.14 837.453 Z\" fill=\"#000000\" fill-rule=\"evenodd\" fill-opacity=\"1\" /><path clip-path=\"url(#clip710)\" d=\"M 0 0 M2268.76 699.156 L2290.98 699.156 L2290.98 701.147 L2278.43 733.716 L2273.55 733.716 L2285.35 703.091 L2268.76 703.091 L2268.76 699.156 Z\" fill=\"#000000\" fill-rule=\"evenodd\" fill-opacity=\"1\" /><path clip-path=\"url(#clip710)\" d=\"M 0 0 M2296.05 727.837 L2300.93 727.837 L2300.93 733.716 L2296.05 733.716 L2296.05 727.837 Z\" fill=\"#000000\" fill-rule=\"evenodd\" fill-opacity=\"1\" /><path clip-path=\"url(#clip710)\" d=\"M 0 0 M2306.05 699.156 L2324.4 699.156 L2324.4 703.091 L2310.33 703.091 L2310.33 711.564 Q2311.35 711.216 2312.37 711.054 Q2313.39 710.869 2314.4 710.869 Q2320.19 710.869 2323.57 714.04 Q2326.95 717.212 2326.95 722.628 Q2326.95 728.207 2323.48 731.309 Q2320.01 734.388 2313.69 734.388 Q2311.51 734.388 2309.24 734.017 Q2307 733.647 2304.59 732.906 L2304.59 728.207 Q2306.67 729.341 2308.89 729.897 Q2311.12 730.452 2313.59 730.452 Q2317.6 730.452 2319.94 728.346 Q2322.27 726.239 2322.27 722.628 Q2322.27 719.017 2319.94 716.911 Q2317.6 714.804 2313.59 714.804 Q2311.72 714.804 2309.84 715.221 Q2307.99 715.638 2306.05 716.517 L2306.05 699.156 Z\" fill=\"#000000\" fill-rule=\"evenodd\" fill-opacity=\"1\" /><path clip-path=\"url(#clip710)\" d=\"M 0 0 M2269.43 590.859 L2277.07 590.859 L2277.07 564.494 L2268.76 566.161 L2268.76 561.901 L2277.02 560.235 L2281.7 560.235 L2281.7 590.859 L2289.33 590.859 L2289.33 594.795 L2269.43 594.795 L2269.43 590.859 Z\" fill=\"#000000\" fill-rule=\"evenodd\" fill-opacity=\"1\" /><path clip-path=\"url(#clip710)\" d=\"M 0 0 M2304.4 563.313 Q2300.79 563.313 2298.96 566.878 Q2297.16 570.42 2297.16 577.549 Q2297.16 584.656 2298.96 588.221 Q2300.79 591.762 2304.4 591.762 Q2308.04 591.762 2309.84 588.221 Q2311.67 584.656 2311.67 577.549 Q2311.67 570.42 2309.84 566.878 Q2308.04 563.313 2304.4 563.313 M2304.4 559.61 Q2310.21 559.61 2313.27 564.216 Q2316.35 568.799 2316.35 577.549 Q2316.35 586.276 2313.27 590.883 Q2310.21 595.466 2304.4 595.466 Q2298.59 595.466 2295.52 590.883 Q2292.46 586.276 2292.46 577.549 Q2292.46 568.799 2295.52 564.216 Q2298.59 559.61 2304.4 559.61 Z\" fill=\"#000000\" fill-rule=\"evenodd\" fill-opacity=\"1\" /><path clip-path=\"url(#clip710)\" d=\"M 0 0 M2321.42 588.915 L2326.3 588.915 L2326.3 594.795 L2321.42 594.795 L2321.42 588.915 Z\" fill=\"#000000\" fill-rule=\"evenodd\" fill-opacity=\"1\" /><path clip-path=\"url(#clip710)\" d=\"M 0 0 M2341.37 563.313 Q2337.76 563.313 2335.93 566.878 Q2334.13 570.42 2334.13 577.549 Q2334.13 584.656 2335.93 588.221 Q2337.76 591.762 2341.37 591.762 Q2345.01 591.762 2346.81 588.221 Q2348.64 584.656 2348.64 577.549 Q2348.64 570.42 2346.81 566.878 Q2345.01 563.313 2341.37 563.313 M2341.37 559.61 Q2347.18 559.61 2350.24 564.216 Q2353.32 568.799 2353.32 577.549 Q2353.32 586.276 2350.24 590.883 Q2347.18 595.466 2341.37 595.466 Q2335.56 595.466 2332.48 590.883 Q2329.43 586.276 2329.43 577.549 Q2329.43 568.799 2332.48 564.216 Q2335.56 559.61 2341.37 559.61 Z\" fill=\"#000000\" fill-rule=\"evenodd\" fill-opacity=\"1\" /><path clip-path=\"url(#clip710)\" d=\"M 0 0 M2269.43 451.938 L2277.07 451.938 L2277.07 425.572 L2268.76 427.239 L2268.76 422.98 L2277.02 421.313 L2281.7 421.313 L2281.7 451.938 L2289.33 451.938 L2289.33 455.873 L2269.43 455.873 L2269.43 451.938 Z\" fill=\"#000000\" fill-rule=\"evenodd\" fill-opacity=\"1\" /><path clip-path=\"url(#clip710)\" d=\"M 0 0 M2298.43 451.938 L2314.75 451.938 L2314.75 455.873 L2292.81 455.873 L2292.81 451.938 Q2295.47 449.183 2300.05 444.554 Q2304.66 439.901 2305.84 438.558 Q2308.08 436.035 2308.96 434.299 Q2309.87 432.54 2309.87 430.85 Q2309.87 428.095 2307.92 426.359 Q2306 424.623 2302.9 424.623 Q2300.7 424.623 2298.25 425.387 Q2295.82 426.151 2293.04 427.702 L2293.04 422.98 Q2295.86 421.845 2298.32 421.267 Q2300.77 420.688 2302.81 420.688 Q2308.18 420.688 2311.37 423.373 Q2314.57 426.058 2314.57 430.549 Q2314.57 432.679 2313.76 434.6 Q2312.97 436.498 2310.86 439.091 Q2310.28 439.762 2307.18 442.98 Q2304.08 446.174 2298.43 451.938 Z\" fill=\"#000000\" fill-rule=\"evenodd\" fill-opacity=\"1\" /><path clip-path=\"url(#clip710)\" d=\"M 0 0 M2319.82 449.993 L2324.7 449.993 L2324.7 455.873 L2319.82 455.873 L2319.82 449.993 Z\" fill=\"#000000\" fill-rule=\"evenodd\" fill-opacity=\"1\" /><path clip-path=\"url(#clip710)\" d=\"M 0 0 M2329.82 421.313 L2348.18 421.313 L2348.18 425.248 L2334.1 425.248 L2334.1 433.72 Q2335.12 433.373 2336.14 433.211 Q2337.16 433.026 2338.18 433.026 Q2343.96 433.026 2347.34 436.197 Q2350.72 439.368 2350.72 444.785 Q2350.72 450.364 2347.25 453.466 Q2343.78 456.544 2337.46 456.544 Q2335.28 456.544 2333.01 456.174 Q2330.77 455.804 2328.36 455.063 L2328.36 450.364 Q2330.45 451.498 2332.67 452.054 Q2334.89 452.609 2337.37 452.609 Q2341.37 452.609 2343.71 450.503 Q2346.05 448.396 2346.05 444.785 Q2346.05 441.174 2343.71 439.068 Q2341.37 436.961 2337.37 436.961 Q2335.49 436.961 2333.62 437.378 Q2331.76 437.794 2329.82 438.674 L2329.82 421.313 Z\" fill=\"#000000\" fill-rule=\"evenodd\" fill-opacity=\"1\" /><path clip-path=\"url(#clip710)\" d=\"M 0 0 M2269.43 313.016 L2277.07 313.016 L2277.07 286.651 L2268.76 288.317 L2268.76 284.058 L2277.02 282.391 L2281.7 282.391 L2281.7 313.016 L2289.33 313.016 L2289.33 316.951 L2269.43 316.951 L2269.43 313.016 Z\" fill=\"#000000\" fill-rule=\"evenodd\" fill-opacity=\"1\" /><path clip-path=\"url(#clip710)\" d=\"M 0 0 M2294.45 282.391 L2312.81 282.391 L2312.81 286.327 L2298.73 286.327 L2298.73 294.799 Q2299.75 294.451 2300.77 294.289 Q2301.79 294.104 2302.81 294.104 Q2308.59 294.104 2311.97 297.276 Q2315.35 300.447 2315.35 305.863 Q2315.35 311.442 2311.88 314.544 Q2308.41 317.623 2302.09 317.623 Q2299.91 317.623 2297.64 317.252 Q2295.4 316.882 2292.99 316.141 L2292.99 311.442 Q2295.08 312.576 2297.3 313.132 Q2299.52 313.687 2302 313.687 Q2306 313.687 2308.34 311.581 Q2310.68 309.475 2310.68 305.863 Q2310.68 302.252 2308.34 300.146 Q2306 298.039 2302 298.039 Q2300.12 298.039 2298.25 298.456 Q2296.39 298.873 2294.45 299.752 L2294.45 282.391 Z\" fill=\"#000000\" fill-rule=\"evenodd\" fill-opacity=\"1\" /><path clip-path=\"url(#clip710)\" d=\"M 0 0 M2320.42 311.072 L2325.31 311.072 L2325.31 316.951 L2320.42 316.951 L2320.42 311.072 Z\" fill=\"#000000\" fill-rule=\"evenodd\" fill-opacity=\"1\" /><path clip-path=\"url(#clip710)\" d=\"M 0 0 M2340.38 285.47 Q2336.76 285.47 2334.94 289.035 Q2333.13 292.576 2333.13 299.706 Q2333.13 306.813 2334.94 310.377 Q2336.76 313.919 2340.38 313.919 Q2344.01 313.919 2345.82 310.377 Q2347.64 306.813 2347.64 299.706 Q2347.64 292.576 2345.82 289.035 Q2344.01 285.47 2340.38 285.47 M2340.38 281.766 Q2346.19 281.766 2349.24 286.373 Q2352.32 290.956 2352.32 299.706 Q2352.32 308.433 2349.24 313.039 Q2346.19 317.623 2340.38 317.623 Q2334.57 317.623 2331.49 313.039 Q2328.43 308.433 2328.43 299.706 Q2328.43 290.956 2331.49 286.373 Q2334.57 281.766 2340.38 281.766 Z\" fill=\"#000000\" fill-rule=\"evenodd\" fill-opacity=\"1\" /><path clip-path=\"url(#clip710)\" d=\"M 0 0 M2269.43 174.095 L2277.07 174.095 L2277.07 147.729 L2268.76 149.396 L2268.76 145.136 L2277.02 143.47 L2281.7 143.47 L2281.7 174.095 L2289.33 174.095 L2289.33 178.03 L2269.43 178.03 L2269.43 174.095 Z\" fill=\"#000000\" fill-rule=\"evenodd\" fill-opacity=\"1\" /><path clip-path=\"url(#clip710)\" d=\"M 0 0 M2293.22 143.47 L2315.45 143.47 L2315.45 145.46 L2302.9 178.03 L2298.02 178.03 L2309.82 147.405 L2293.22 147.405 L2293.22 143.47 Z\" fill=\"#000000\" fill-rule=\"evenodd\" fill-opacity=\"1\" /><path clip-path=\"url(#clip710)\" d=\"M 0 0 M2320.51 172.15 L2325.4 172.15 L2325.4 178.03 L2320.51 178.03 L2320.51 172.15 Z\" fill=\"#000000\" fill-rule=\"evenodd\" fill-opacity=\"1\" /><path clip-path=\"url(#clip710)\" d=\"M 0 0 M2330.51 143.47 L2348.87 143.47 L2348.87 147.405 L2334.8 147.405 L2334.8 155.877 Q2335.82 155.53 2336.83 155.368 Q2337.85 155.183 2338.87 155.183 Q2344.66 155.183 2348.04 158.354 Q2351.42 161.525 2351.42 166.942 Q2351.42 172.52 2347.95 175.622 Q2344.47 178.701 2338.15 178.701 Q2335.98 178.701 2333.71 178.331 Q2331.46 177.96 2329.06 177.22 L2329.06 172.52 Q2331.14 173.655 2333.36 174.21 Q2335.58 174.766 2338.06 174.766 Q2342.07 174.766 2344.4 172.659 Q2346.74 170.553 2346.74 166.942 Q2346.74 163.331 2344.4 161.224 Q2342.07 159.118 2338.06 159.118 Q2336.19 159.118 2334.31 159.534 Q2332.46 159.951 2330.51 160.831 L2330.51 143.47 Z\" fill=\"#000000\" fill-rule=\"evenodd\" fill-opacity=\"1\" /><polyline clip-path=\"url(#clip710)\" style=\"stroke:#000000; stroke-width:4; stroke-opacity:1; fill:none\" points=\"\n",
       "  2232.76,1486.45 2232.76,1414.67 2256.76,1414.67 2232.76,1414.67 2232.76,1275.75 2256.76,1275.75 2232.76,1275.75 2232.76,1136.83 2256.76,1136.83 2232.76,1136.83 \n",
       "  2232.76,997.908 2256.76,997.908 2232.76,997.908 2232.76,858.987 2256.76,858.987 2232.76,858.987 2232.76,720.065 2256.76,720.065 2232.76,720.065 2232.76,581.143 \n",
       "  2256.76,581.143 2232.76,581.143 2232.76,442.222 2256.76,442.222 2232.76,442.222 2232.76,303.3 2256.76,303.3 2232.76,303.3 2232.76,164.379 2256.76,164.379 \n",
       "  2232.76,164.379 2232.76,123.472 \n",
       "  \"/>\n",
       "</svg>\n"
      ]
     },
     "execution_count": 46,
     "metadata": {},
     "output_type": "execute_result"
    }
   ],
   "source": [
    "fname = \"../../StandardizedExp/Nx64/noisy_stdtrue/SFDTargSFDCov/log_apd_noiso/1000_fullcov_triu\"\n",
    "\n",
    "gttarget = load(fname*\".jld2\")\n",
    "s_targ_mean, s_targ_invcov = gttarget[\"dict\"][\"s_targ_mean\"], gttarget[\"dict\"][\"s_invcov\"]\n",
    "dhc_args = Dict(:doS2=>false,  :doS20=>true, :apodize=>true, :iso=>false)\n",
    "\n",
    "altrue = apodizer(log.(gttarget[\"true_img\"]))\n",
    "alinit = apodizer(log.(gttarget[\"init\"]))\n",
    "alrecon = apodizer(log.(gttarget[\"recon\"]))\n",
    "\n",
    "coeff_mask = gttarget[\"coeff_mask\"]\n",
    "s_true = DHC_compute_wrapper(log.(gttarget[\"true_img\"]), filter_hash, norm=false; dhc_args...)[coeff_mask]\n",
    "s_init = DHC_compute_wrapper(log.(gttarget[\"init\"]), filter_hash, norm=false; dhc_args...)[coeff_mask]\n",
    "s_recon = DHC_compute_wrapper(log.(gttarget[\"recon\"]), filter_hash, norm=false; dhc_args...)[coeff_mask]\n",
    "ltruecheck = ( 0.5 .* (s_true - s_targ_mean)' * s_targ_invcov * (s_true - s_targ_mean))[1]\n",
    "l2true = 0.5*gttarget[\"dict\"][\"lambda\"]*sum((alinit - altrue).^2)\n",
    "#446, 84503\n",
    "\n",
    "l1init = ( 0.5 .* (s_init - s_targ_mean)' * s_targ_invcov * (s_init - s_targ_mean))[1]\n",
    "l2init = 0.5*gttarget[\"dict\"][\"lambda\"]*sum((alinit - alinit).^2)\n",
    "#6e9, 0\n",
    "\n",
    "l1recon = ( 0.5 .* (s_recon - s_targ_mean)' * s_targ_invcov * (s_recon - s_targ_mean))[1]\n",
    "l2recon = 0.5*gttarget[\"dict\"][\"lambda\"]*sum((alrecon - alinit).^2)\n",
    "#2.5e3, 6e4\n",
    "\n",
    "ztrue_recon = (s_recon - s_true) .* diag(s_targ_invcov)\n",
    "ztrue_target = (s_true - s_targ_mean) .* diag(s_targ_invcov)\n",
    "zinit_target = (s_init - s_targ_mean) .* diag(s_targ_invcov)\n",
    "\n",
    "scatter(log.(abs.(zinit_target)), log.(abs.(ztrue_recon)))\n",
    "xlabel!(\"ln Abs Z score: Coeffs Target-Init\")\n",
    "ylabel!(\"ln Abs Z score: Coeffs Recon-True\")\n",
    "\n",
    "zscoremat = zeros(34, 34)\n",
    "zscoremat[reshape(gttarget[\"coeff_mask\"][3+34:end], (34, 34))] .= log.(abs.(ztrue_target))\n",
    "heatmap(zscoremat, title=\"Im 1000: Ln Abs Z-Score b/w True & Target\")\n"
   ]
  },
  {
   "cell_type": "markdown",
   "metadata": {},
   "source": [
    "**Tuesday, 4/13**\n",
    "1. Reg case: Init is more informative for the higher coeffs. Median >> mean\n",
    "2. Log coeff: Init is also more informative for the higher coeffs here. Median~ mean here.\n",
    "Z score:\n",
    "3. IN ALL CASES, the full covariance inv's diagonal is inconsistent (orders of magnitude off from the true inverse variance). *Fixed. See \"Why are z scores so high\"?*\n",
    "4. Unless there are repeated samples, this must be numerical range issues: ~100 of the 595 eigenvalues are <1e-6.\n",
    "5. Code bug in SVD reconstruction.\n",
    "6. Point out some of the weird images -- do we want to include these?\n",
    "\n",
    "**Wednesday, 4/14**\n",
    "1. Smooth is more informative of the higher coefficients than the init. It's definitely safer to use smooth_init in the coefficient based loss, since sometimes the higher coefficients are also affected by init (eg: Example where Log Coeffs do NOT work well).\n",
    "2. The L=4-5 higher values is encoded in all true, init and smooth but lost in the mean. The benefit might be to be able to remember that.\n",
    "3. What does smoothing do? Decreases variations between power at different scales but retains the original patterns."
   ]
  },
  {
   "cell_type": "code",
   "execution_count": 47,
   "metadata": {},
   "outputs": [
    {
     "data": {
      "text/plain": [
       "Dict{String,Any} with 18 entries:\n",
       "  \"theta_value\"   => [0.0, 0.392699, 0.785398, 1.1781, 1.5708, 1.9635, 2.35619,…\n",
       "  \"j_value\"       => [1.0, 2.0, 3.0, 4.0]\n",
       "  \"psi_ind_L\"     => Int32[1, 1, 1, 1, 1, 1, 1, 1, 1, 1  …  1, 1, 1, 1, 1, 1, 1…\n",
       "  \"S2_iso_mat\"    => …\n",
       "  \"Omega_index\"   => 34\n",
       "  \"num_coeff\"     => 1192\n",
       "  \"psi_index\"     => Int32[1 5 … 25 29; 2 6 … 26 30; 3 7 … 27 31; 4 8 … 28 32]\n",
       "  \"J_L\"           => Int32[0 0; 1 0; … ; 4 0; 4 1]\n",
       "  \"phi_index\"     => 33\n",
       "  \"wd\"            => [1.0, 1.0, 1.0, 2.0]\n",
       "  \"num_iso_coeff\" => 156\n",
       "  \"pc\"            => 1\n",
       "  \"fs_center_r\"   => [16.0, 8.0, 4.0, 2.0]\n",
       "  \"filt_value\"    => [[0.0218325, 0.0540773, 0.0284208, 0.0284208, 0.0540773, 0…\n",
       "  \"wd_cutoff\"     => 1\n",
       "  \"npix\"          => 64\n",
       "  \"S1_iso_mat\"    => …\n",
       "  \"filt_index\"    => Array{CartesianIndex{2},1}[[CartesianIndex(2, 9), Cartesia…"
      ]
     },
     "execution_count": 47,
     "metadata": {},
     "output_type": "execute_result"
    }
   ],
   "source": [
    "gttarget[\"fhash\"]"
   ]
  },
  {
   "cell_type": "code",
   "execution_count": 48,
   "metadata": {},
   "outputs": [
    {
     "data": {
      "text/plain": [
       "Dict{String,Any} with 19 entries:\n",
       "  \"filt_index\"    => Array{CartesianIndex{2},1}[[CartesianIndex(5, 8), Cartesia…\n",
       "  \"psi_ind_L\"     => Int32[1, 1, 1, 1, 1, 1, 1, 1, 1, 1  …  1, 1, 1, 1, 1, 1, 1…\n",
       "  \"S2_iso_mat\"    => …\n",
       "  \"Omega_index\"   => 34\n",
       "  \"num_coeff\"     => 1192\n",
       "  \"psi_index\"     => Int32[1 5 … 25 29; 2 6 … 26 30; 3 7 … 27 31; 4 8 … 28 32]\n",
       "  \"phi_index\"     => 33\n",
       "  \"wd\"            => [2.0, 2.0, 2.0, 2.0]\n",
       "  \"t\"             => 1\n",
       "  \"wd_cutoff\"     => 1\n",
       "  \"npix\"          => 64\n",
       "  \"S1_iso_mat\"    => …\n",
       "  \"theta_value\"   => [0.0, 0.392699, 0.785398, 1.1781, 1.5708, 1.9635, 2.35619,…\n",
       "  \"J_L\"           => Int32[0 0; 1 0; … ; 4 0; 4 1]\n",
       "  \"num_iso_coeff\" => 156\n",
       "  \"fs_center_r\"   => [16.0, 8.0, 4.0, 2.0]\n",
       "  \"filt_value\"    => [[0.0089185, 0.0531124, 0.048333, 0.048333, 0.0531124, 0.0…\n",
       "  \"p\"             => 2\n",
       "  \"j_value\"       => [1.0, 2.0, 3.0, 4.0]"
      ]
     },
     "execution_count": 48,
     "metadata": {},
     "output_type": "execute_result"
    }
   ],
   "source": [
    "#Checking all 10 images to be safe\n",
    "filt_hash = fink_filter_hash(1, 8, nx=64, Omega=true)"
   ]
  },
  {
   "cell_type": "code",
   "execution_count": 49,
   "metadata": {},
   "outputs": [
    {
     "data": {
      "text/plain": [
       "1000"
      ]
     },
     "execution_count": 49,
     "metadata": {},
     "output_type": "execute_result"
    }
   ],
   "source": [
    "num=1000"
   ]
  },
  {
   "cell_type": "code",
   "execution_count": 50,
   "metadata": {},
   "outputs": [
    {
     "data": {
      "text/plain": [
       "1192-element Array{Float64,1}:\n",
       "  -3.3914351141821504\n",
       " -10.545637944462566\n",
       "  -7.177589052552278\n",
       "  -6.288217340234273\n",
       "  -5.718956693796892\n",
       "  -6.325748428009598\n",
       "  -7.120339088143373\n",
       "  -6.228371477032441\n",
       "  -5.667503368231648\n",
       "  -5.492811677905582\n",
       "  -7.144445691292695\n",
       "  -6.226019227006753\n",
       "  -5.59654229008543\n",
       "   ⋮\n",
       "  -7.01748543065207\n",
       "  -6.872020546596044\n",
       "  -7.441599373005976\n",
       "  -7.082120328329247\n",
       "  -6.9248609878454985\n",
       "  -6.565128613416963\n",
       "  -7.421059420364751\n",
       "  -7.054811345671479\n",
       "  -6.8790996266308095\n",
       "  -6.728958888413241\n",
       "  -3.2068545944145415\n",
       "  -6.929627884689603"
      ]
     },
     "execution_count": 50,
     "metadata": {},
     "output_type": "execute_result"
    }
   ],
   "source": [
    "fname = \"../../StandardizedExp/Nx64/noisy_stdtrue/SFDTargSFDCov/reg_apd_noiso/LogCoeff/1000_0-01_full_triu\"\n",
    "gttarget = load(fname*\".jld2\")\n",
    "filter_hash = gttarget[\"fhash\"]\n",
    "s_targ_mean, s_targ_invcov = gttarget[\"dict\"][\"fs_targ_mean\"], gttarget[\"dict\"][\"fs_invcov\"]\n",
    "dhc_args = Dict(:doS2=>false, :doS20=>true, :apodize=>true, :iso=>false)\n",
    "\n",
    "altrue = apodizer(gttarget[\"true_img\"])\n",
    "alinit = apodizer(gttarget[\"init\"])\n",
    "alrecon = apodizer(gttarget[\"recon\"])\n",
    "\n",
    "coeff_mask = gttarget[\"coeff_mask\"]\n",
    "s_truebot = log.(DHC_compute_wrapper(gttarget[\"true_img\"], filter_hash, norm=false; dhc_args...))\n",
    "s_initbot = log.(DHC_compute_wrapper(gttarget[\"init\"], filter_hash, norm=false; dhc_args...))\n",
    "s_smoothbot = log.(DHC_compute_wrapper(imfilter(gttarget[\"init\"], Kernel.gaussian(0.8)), filter_hash, norm=false; dhc_args...))\n",
    "s_reconbot = log.(DHC_compute_wrapper(gttarget[\"recon\"], filter_hash, norm=false; dhc_args...))"
   ]
  },
  {
   "cell_type": "code",
   "execution_count": 51,
   "metadata": {},
   "outputs": [
    {
     "ename": "LoadError",
     "evalue": "UndefVarError: JS1ind not defined",
     "output_type": "error",
     "traceback": [
      "UndefVarError: JS1ind not defined",
      "",
      "Stacktrace:",
      " [1] top-level scope at In[51]:1",
      " [2] include_string(::Function, ::Module, ::String, ::String) at ./loading.jl:1091"
     ]
    }
   ],
   "source": [
    "strueselbot = s_truebot[JS1ind]\n",
    "sinitselbot = s_initbot[JS1ind]\n",
    "ssmoothselbot = s_smoothbot[JS1ind]\n",
    "clims=(-9.0, -4.0)\n",
    "cg = cgrad([:blue, :white, :red])\n",
    "p = plot(heatmap(strueselbot, title=\"True\", clims=clims, c=cg),\n",
    "heatmap(sinitselbot, title=\"Init\", clims=clims, c=cg),\n",
    "heatmap(ssmoothselbot, title=\"SmoothInit\", clims=clims, c=cg))"
   ]
  },
  {
   "cell_type": "code",
   "execution_count": 52,
   "metadata": {},
   "outputs": [
    {
     "name": "stdout",
     "output_type": "stream",
     "text": [
      "../../StandardizedExp/Nx64/Data_100\n"
     ]
    },
    {
     "ename": "LoadError",
     "evalue": "UndefVarError: JS1ind not defined",
     "output_type": "error",
     "traceback": [
      "UndefVarError: JS1ind not defined",
      "",
      "Stacktrace:",
      " [1] top-level scope at In[52]:12",
      " [2] include_string(::Function, ::Module, ::String, ::String) at ./loading.jl:1091"
     ]
    }
   ],
   "source": [
    "fname = \"../../StandardizedExp/Nx64/Data_\" * string(100)\n",
    "println(fname)\n",
    "dat = load(fname*\".jld2\")\n",
    "dhc_args = Dict(:doS2=>false, :doS20=>true, :apodize=>true, :iso=>false)\n",
    "\n",
    "coeff_mask = gttarget[\"coeff_mask\"]\n",
    "ds_true = log.(DHC_compute_wrapper(dat[\"true_img\"], gttarget[\"fhash\"], norm=false; dhc_args...))\n",
    "ds_init = log.(DHC_compute_wrapper(dat[\"init\"], gttarget[\"fhash\"], norm=false; dhc_args...))\n",
    "ds_smooth = log.(DHC_compute_wrapper(imfilter(dat[\"init\"], Kernel.gaussian(0.8)), gttarget[\"fhash\"], norm=false; dhc_args...))\n",
    "\n",
    "\n",
    "struesel = ds_true[JS1ind]\n",
    "sinitsel = ds_init[JS1ind]\n",
    "ssmoothsel = ds_smooth[JS1ind]\n",
    "clims=(-9.0, -4.0)\n",
    "cg = cgrad([:blue, :white, :red])\n",
    "zlims = (-1.0, 1.0)\n",
    "p = plot(heatmap(struesel, title=\"True\", clims=clims, c=cg),\n",
    "heatmap(sinitsel, title=\"Init\", clims=clims, c=cg),\n",
    "heatmap(ssmoothsel, title=\"SmoothInit\", clims=clims, c=cg))"
   ]
  },
  {
   "cell_type": "markdown",
   "metadata": {},
   "source": [
    "## Getting Optimization with Only S1 right"
   ]
  },
  {
   "cell_type": "markdown",
   "metadata": {},
   "source": [
    "### LogCoeff"
   ]
  },
  {
   "cell_type": "code",
   "execution_count": 53,
   "metadata": {},
   "outputs": [
    {
     "name": "stdout",
     "output_type": "stream",
     "text": [
      "True18.71574511946675\n",
      "0.008924165728318676\n",
      "Init110.44358396146511\n",
      "0.0\n",
      "Recon0.2717108833346694\n",
      "0.09097524200849058\n"
     ]
    }
   ],
   "source": [
    "fname = \"../../StandardizedExp/Nx64/noisy_stdtrue/S1only/SFDTargSFDCov/reg_apd_noiso/LogCoeff/1000_full_eps10\"\n",
    "gttarget = load(fname*\".jld2\")\n",
    "filter_hash = gttarget[\"fhash\"]\n",
    "s_targ_mean, s_targ_invcov = gttarget[\"dict\"][\"fs_targ_mean\"], gttarget[\"dict\"][\"fs_invcov\"]\n",
    "dhc_args = Dict(:doS2=>false, :doS20=>true, :apodize=>true, :iso=>false)\n",
    "\n",
    "altrue = apodizer(gttarget[\"true_img\"])\n",
    "alinit = apodizer(gttarget[\"init\"])\n",
    "alrecon = apodizer(gttarget[\"recon\"])\n",
    "\n",
    "coeff_mask = gttarget[\"coeff_mask\"]\n",
    "s_true = log.(DHC_compute_wrapper(gttarget[\"true_img\"], filter_hash, norm=false; dhc_args...)[coeff_mask])\n",
    "s_init = log.(DHC_compute_wrapper(gttarget[\"init\"], filter_hash, norm=false; dhc_args...)[coeff_mask])\n",
    "s_recon = log.(DHC_compute_wrapper(gttarget[\"recon\"], filter_hash, norm=false; dhc_args...)[coeff_mask])\n",
    "ltruecheck = ( 0.5 .* (s_true - s_targ_mean)' * s_targ_invcov * (s_true - s_targ_mean))[1]\n",
    "l2true = 0.5*gttarget[\"dict\"][\"lambda\"]*sum((alinit - altrue).^2)\n",
    "println(\"True\", ltruecheck)\n",
    "println(l2true)\n",
    "\n",
    "l1init = ( 0.5 .* (s_init - s_targ_mean)' * s_targ_invcov * (s_init - s_targ_mean))[1]\n",
    "l2init = 0.5*gttarget[\"dict\"][\"lambda\"]*sum((alinit - alinit).^2)\n",
    "println(\"Init\", l1init)\n",
    "println(l2init)\n",
    "\n",
    "l1recon = ( 0.5 .* (s_recon - s_targ_mean)' * s_targ_invcov * (s_recon - s_targ_mean))[1]\n",
    "l2recon = 0.5*gttarget[\"dict\"][\"lambda\"]*sum((alrecon - alinit).^2)\n",
    "println(\"Recon\", l1recon)\n",
    "println(l2recon)\n"
   ]
  },
  {
   "cell_type": "code",
   "execution_count": 54,
   "metadata": {},
   "outputs": [
    {
     "data": {
      "image/svg+xml": [
       "<?xml version=\"1.0\" encoding=\"utf-8\"?>\n",
       "<svg xmlns=\"http://www.w3.org/2000/svg\" xmlns:xlink=\"http://www.w3.org/1999/xlink\" width=\"600\" height=\"400\" viewBox=\"0 0 2400 1600\">\n",
       "<defs>\n",
       "  <clipPath id=\"clip750\">\n",
       "    <rect x=\"0\" y=\"0\" width=\"2400\" height=\"1600\"/>\n",
       "  </clipPath>\n",
       "</defs>\n",
       "<path clip-path=\"url(#clip750)\" d=\"\n",
       "M0 1600 L2400 1600 L2400 0 L0 0  Z\n",
       "  \" fill=\"#ffffff\" fill-rule=\"evenodd\" fill-opacity=\"1\"/>\n",
       "<defs>\n",
       "  <clipPath id=\"clip751\">\n",
       "    <rect x=\"480\" y=\"0\" width=\"1681\" height=\"1600\"/>\n",
       "  </clipPath>\n",
       "</defs>\n",
       "<path clip-path=\"url(#clip750)\" d=\"\n",
       "M207.112 1423.18 L2352.76 1423.18 L2352.76 123.472 L207.112 123.472  Z\n",
       "  \" fill=\"#ffffff\" fill-rule=\"evenodd\" fill-opacity=\"1\"/>\n",
       "<defs>\n",
       "  <clipPath id=\"clip752\">\n",
       "    <rect x=\"207\" y=\"123\" width=\"2147\" height=\"1301\"/>\n",
       "  </clipPath>\n",
       "</defs>\n",
       "<polyline clip-path=\"url(#clip752)\" style=\"stroke:#000000; stroke-width:2; stroke-opacity:0.1; fill:none\" points=\"\n",
       "  267.837,1423.18 267.837,123.472 \n",
       "  \"/>\n",
       "<polyline clip-path=\"url(#clip752)\" style=\"stroke:#000000; stroke-width:2; stroke-opacity:0.1; fill:none\" points=\"\n",
       "  851.896,1423.18 851.896,123.472 \n",
       "  \"/>\n",
       "<polyline clip-path=\"url(#clip752)\" style=\"stroke:#000000; stroke-width:2; stroke-opacity:0.1; fill:none\" points=\"\n",
       "  1435.95,1423.18 1435.95,123.472 \n",
       "  \"/>\n",
       "<polyline clip-path=\"url(#clip752)\" style=\"stroke:#000000; stroke-width:2; stroke-opacity:0.1; fill:none\" points=\"\n",
       "  2020.01,1423.18 2020.01,123.472 \n",
       "  \"/>\n",
       "<polyline clip-path=\"url(#clip750)\" style=\"stroke:#000000; stroke-width:4; stroke-opacity:1; fill:none\" points=\"\n",
       "  207.112,1423.18 2352.76,1423.18 \n",
       "  \"/>\n",
       "<polyline clip-path=\"url(#clip750)\" style=\"stroke:#000000; stroke-width:4; stroke-opacity:1; fill:none\" points=\"\n",
       "  267.837,1423.18 267.837,1407.58 \n",
       "  \"/>\n",
       "<polyline clip-path=\"url(#clip750)\" style=\"stroke:#000000; stroke-width:4; stroke-opacity:1; fill:none\" points=\"\n",
       "  851.896,1423.18 851.896,1407.58 \n",
       "  \"/>\n",
       "<polyline clip-path=\"url(#clip750)\" style=\"stroke:#000000; stroke-width:4; stroke-opacity:1; fill:none\" points=\"\n",
       "  1435.95,1423.18 1435.95,1407.58 \n",
       "  \"/>\n",
       "<polyline clip-path=\"url(#clip750)\" style=\"stroke:#000000; stroke-width:4; stroke-opacity:1; fill:none\" points=\"\n",
       "  2020.01,1423.18 2020.01,1407.58 \n",
       "  \"/>\n",
       "<path clip-path=\"url(#clip750)\" d=\"M 0 0 M267.837 1452.37 Q264.226 1452.37 262.398 1455.94 Q260.592 1459.48 260.592 1466.61 Q260.592 1473.71 262.398 1477.28 Q264.226 1480.82 267.837 1480.82 Q271.472 1480.82 273.277 1477.28 Q275.106 1473.71 275.106 1466.61 Q275.106 1459.48 273.277 1455.94 Q271.472 1452.37 267.837 1452.37 M267.837 1448.67 Q273.648 1448.67 276.703 1453.27 Q279.782 1457.86 279.782 1466.61 Q279.782 1475.33 276.703 1479.94 Q273.648 1484.52 267.837 1484.52 Q262.027 1484.52 258.949 1479.94 Q255.893 1475.33 255.893 1466.61 Q255.893 1457.86 258.949 1453.27 Q262.027 1448.67 267.837 1448.67 Z\" fill=\"#000000\" fill-rule=\"evenodd\" fill-opacity=\"1\" /><path clip-path=\"url(#clip750)\" d=\"M 0 0 M842.278 1479.92 L849.917 1479.92 L849.917 1453.55 L841.607 1455.22 L841.607 1450.96 L849.871 1449.29 L854.546 1449.29 L854.546 1479.92 L862.185 1479.92 L862.185 1483.85 L842.278 1483.85 L842.278 1479.92 Z\" fill=\"#000000\" fill-rule=\"evenodd\" fill-opacity=\"1\" /><path clip-path=\"url(#clip750)\" d=\"M 0 0 M1430.61 1479.92 L1446.93 1479.92 L1446.93 1483.85 L1424.98 1483.85 L1424.98 1479.92 Q1427.64 1477.16 1432.23 1472.53 Q1436.83 1467.88 1438.01 1466.54 Q1440.26 1464.01 1441.14 1462.28 Q1442.04 1460.52 1442.04 1458.83 Q1442.04 1456.07 1440.1 1454.34 Q1438.18 1452.6 1435.07 1452.6 Q1432.88 1452.6 1430.42 1453.37 Q1427.99 1454.13 1425.21 1455.68 L1425.21 1450.96 Q1428.04 1449.82 1430.49 1449.25 Q1432.95 1448.67 1434.98 1448.67 Q1440.35 1448.67 1443.55 1451.35 Q1446.74 1454.04 1446.74 1458.53 Q1446.74 1460.66 1445.93 1462.58 Q1445.14 1464.48 1443.04 1467.07 Q1442.46 1467.74 1439.36 1470.96 Q1436.26 1474.15 1430.61 1479.92 Z\" fill=\"#000000\" fill-rule=\"evenodd\" fill-opacity=\"1\" /><path clip-path=\"url(#clip750)\" d=\"M 0 0 M2024.26 1465.22 Q2027.62 1465.94 2029.49 1468.2 Q2031.39 1470.47 2031.39 1473.81 Q2031.39 1478.92 2027.87 1481.72 Q2024.35 1484.52 2017.87 1484.52 Q2015.7 1484.52 2013.38 1484.08 Q2011.09 1483.67 2008.64 1482.81 L2008.64 1478.3 Q2010.58 1479.43 2012.9 1480.01 Q2015.21 1480.59 2017.73 1480.59 Q2022.13 1480.59 2024.42 1478.85 Q2026.74 1477.12 2026.74 1473.81 Q2026.74 1470.75 2024.58 1469.04 Q2022.46 1467.3 2018.64 1467.3 L2014.61 1467.3 L2014.61 1463.46 L2018.82 1463.46 Q2022.27 1463.46 2024.1 1462.09 Q2025.93 1460.7 2025.93 1458.11 Q2025.93 1455.45 2024.03 1454.04 Q2022.15 1452.6 2018.64 1452.6 Q2016.71 1452.6 2014.52 1453.02 Q2012.32 1453.44 2009.68 1454.31 L2009.68 1450.15 Q2012.34 1449.41 2014.65 1449.04 Q2016.99 1448.67 2019.05 1448.67 Q2024.38 1448.67 2027.48 1451.1 Q2030.58 1453.5 2030.58 1457.63 Q2030.58 1460.5 2028.94 1462.49 Q2027.29 1464.45 2024.26 1465.22 Z\" fill=\"#000000\" fill-rule=\"evenodd\" fill-opacity=\"1\" /><path clip-path=\"url(#clip750)\" d=\"M 0 0 M1240.34 1518.52 L1246.2 1518.52 L1246.2 1568.04 L1240.34 1568.04 L1240.34 1518.52 Z\" fill=\"#000000\" fill-rule=\"evenodd\" fill-opacity=\"1\" /><path clip-path=\"url(#clip750)\" d=\"M 0 0 M1281.97 1546.53 L1281.97 1568.04 L1276.11 1568.04 L1276.11 1546.72 Q1276.11 1541.66 1274.14 1539.14 Q1272.17 1536.63 1268.22 1536.63 Q1263.48 1536.63 1260.74 1539.65 Q1258 1542.68 1258 1547.9 L1258 1568.04 L1252.12 1568.04 L1252.12 1532.4 L1258 1532.4 L1258 1537.93 Q1260.1 1534.72 1262.94 1533.13 Q1265.8 1531.54 1269.53 1531.54 Q1275.67 1531.54 1278.82 1535.36 Q1281.97 1539.14 1281.97 1546.53 Z\" fill=\"#000000\" fill-rule=\"evenodd\" fill-opacity=\"1\" /><path clip-path=\"url(#clip750)\" d=\"M 0 0 M1287.89 1518.52 L1293.78 1518.52 L1293.78 1547.77 L1311.25 1532.4 L1318.73 1532.4 L1299.83 1549.07 L1319.53 1568.04 L1311.89 1568.04 L1293.78 1550.63 L1293.78 1568.04 L1287.89 1568.04 L1287.89 1518.52 Z\" fill=\"#000000\" fill-rule=\"evenodd\" fill-opacity=\"1\" /><polyline clip-path=\"url(#clip752)\" style=\"stroke:#000000; stroke-width:2; stroke-opacity:0.1; fill:none\" points=\"\n",
       "  207.112,1253.11 2352.76,1253.11 \n",
       "  \"/>\n",
       "<polyline clip-path=\"url(#clip752)\" style=\"stroke:#000000; stroke-width:2; stroke-opacity:0.1; fill:none\" points=\"\n",
       "  207.112,1022.4 2352.76,1022.4 \n",
       "  \"/>\n",
       "<polyline clip-path=\"url(#clip752)\" style=\"stroke:#000000; stroke-width:2; stroke-opacity:0.1; fill:none\" points=\"\n",
       "  207.112,791.698 2352.76,791.698 \n",
       "  \"/>\n",
       "<polyline clip-path=\"url(#clip752)\" style=\"stroke:#000000; stroke-width:2; stroke-opacity:0.1; fill:none\" points=\"\n",
       "  207.112,560.995 2352.76,560.995 \n",
       "  \"/>\n",
       "<polyline clip-path=\"url(#clip752)\" style=\"stroke:#000000; stroke-width:2; stroke-opacity:0.1; fill:none\" points=\"\n",
       "  207.112,330.292 2352.76,330.292 \n",
       "  \"/>\n",
       "<polyline clip-path=\"url(#clip750)\" style=\"stroke:#000000; stroke-width:4; stroke-opacity:1; fill:none\" points=\"\n",
       "  207.112,1423.18 207.112,123.472 \n",
       "  \"/>\n",
       "<polyline clip-path=\"url(#clip750)\" style=\"stroke:#000000; stroke-width:4; stroke-opacity:1; fill:none\" points=\"\n",
       "  207.112,1253.11 232.859,1253.11 \n",
       "  \"/>\n",
       "<polyline clip-path=\"url(#clip750)\" style=\"stroke:#000000; stroke-width:4; stroke-opacity:1; fill:none\" points=\"\n",
       "  207.112,1022.4 232.859,1022.4 \n",
       "  \"/>\n",
       "<polyline clip-path=\"url(#clip750)\" style=\"stroke:#000000; stroke-width:4; stroke-opacity:1; fill:none\" points=\"\n",
       "  207.112,791.698 232.859,791.698 \n",
       "  \"/>\n",
       "<polyline clip-path=\"url(#clip750)\" style=\"stroke:#000000; stroke-width:4; stroke-opacity:1; fill:none\" points=\"\n",
       "  207.112,560.995 232.859,560.995 \n",
       "  \"/>\n",
       "<polyline clip-path=\"url(#clip750)\" style=\"stroke:#000000; stroke-width:4; stroke-opacity:1; fill:none\" points=\"\n",
       "  207.112,330.292 232.859,330.292 \n",
       "  \"/>\n",
       "<path clip-path=\"url(#clip750)\" d=\"M 0 0 M114.26 1253.56 L143.936 1253.56 L143.936 1257.49 L114.26 1257.49 L114.26 1253.56 Z\" fill=\"#000000\" fill-rule=\"evenodd\" fill-opacity=\"1\" /><path clip-path=\"url(#clip750)\" d=\"M 0 0 M159.584 1251.24 Q156.436 1251.24 154.584 1253.39 Q152.755 1255.55 152.755 1259.3 Q152.755 1263.02 154.584 1265.2 Q156.436 1267.35 159.584 1267.35 Q162.732 1267.35 164.561 1265.2 Q166.413 1263.02 166.413 1259.3 Q166.413 1255.55 164.561 1253.39 Q162.732 1251.24 159.584 1251.24 M168.866 1236.59 L168.866 1240.85 Q167.107 1240.01 165.302 1239.58 Q163.519 1239.14 161.76 1239.14 Q157.13 1239.14 154.677 1242.26 Q152.246 1245.39 151.899 1251.7 Q153.265 1249.69 155.325 1248.63 Q157.385 1247.54 159.862 1247.54 Q165.07 1247.54 168.079 1250.71 Q171.112 1253.86 171.112 1259.3 Q171.112 1264.62 167.964 1267.84 Q164.815 1271.06 159.584 1271.06 Q153.589 1271.06 150.417 1266.47 Q147.246 1261.87 147.246 1253.14 Q147.246 1244.95 151.135 1240.08 Q155.024 1235.2 161.575 1235.2 Q163.334 1235.2 165.116 1235.55 Q166.922 1235.89 168.866 1236.59 Z\" fill=\"#000000\" fill-rule=\"evenodd\" fill-opacity=\"1\" /><path clip-path=\"url(#clip750)\" d=\"M 0 0 M115.07 1022.85 L144.746 1022.85 L144.746 1026.79 L115.07 1026.79 L115.07 1022.85 Z\" fill=\"#000000\" fill-rule=\"evenodd\" fill-opacity=\"1\" /><path clip-path=\"url(#clip750)\" d=\"M 0 0 M163.982 1021.05 Q167.339 1021.77 169.214 1024.03 Q171.112 1026.3 171.112 1029.64 Q171.112 1034.75 167.593 1037.55 Q164.075 1040.35 157.593 1040.35 Q155.417 1040.35 153.103 1039.91 Q150.811 1039.5 148.357 1038.64 L148.357 1034.13 Q150.302 1035.26 152.616 1035.84 Q154.931 1036.42 157.454 1036.42 Q161.852 1036.42 164.144 1034.68 Q166.459 1032.95 166.459 1029.64 Q166.459 1026.58 164.306 1024.87 Q162.177 1023.13 158.357 1023.13 L154.329 1023.13 L154.329 1019.29 L158.542 1019.29 Q161.991 1019.29 163.82 1017.92 Q165.649 1016.53 165.649 1013.94 Q165.649 1011.28 163.751 1009.87 Q161.876 1008.43 158.357 1008.43 Q156.436 1008.43 154.237 1008.85 Q152.038 1009.27 149.399 1010.14 L149.399 1005.98 Q152.061 1005.24 154.376 1004.87 Q156.714 1004.5 158.774 1004.5 Q164.098 1004.5 167.2 1006.93 Q170.302 1009.33 170.302 1013.46 Q170.302 1016.33 168.658 1018.32 Q167.015 1020.28 163.982 1021.05 Z\" fill=\"#000000\" fill-rule=\"evenodd\" fill-opacity=\"1\" /><path clip-path=\"url(#clip750)\" d=\"M 0 0 M159.167 777.497 Q155.556 777.497 153.728 781.062 Q151.922 784.604 151.922 791.733 Q151.922 798.84 153.728 802.404 Q155.556 805.946 159.167 805.946 Q162.802 805.946 164.607 802.404 Q166.436 798.84 166.436 791.733 Q166.436 784.604 164.607 781.062 Q162.802 777.497 159.167 777.497 M159.167 773.793 Q164.977 773.793 168.033 778.4 Q171.112 782.983 171.112 791.733 Q171.112 800.46 168.033 805.066 Q164.977 809.65 159.167 809.65 Q153.357 809.65 150.278 805.066 Q147.223 800.46 147.223 791.733 Q147.223 782.983 150.278 778.4 Q153.357 773.793 159.167 773.793 Z\" fill=\"#000000\" fill-rule=\"evenodd\" fill-opacity=\"1\" /><path clip-path=\"url(#clip750)\" d=\"M 0 0 M163.982 559.641 Q167.339 560.358 169.214 562.627 Q171.112 564.895 171.112 568.229 Q171.112 573.344 167.593 576.145 Q164.075 578.946 157.593 578.946 Q155.417 578.946 153.103 578.506 Q150.811 578.09 148.357 577.233 L148.357 572.719 Q150.302 573.854 152.616 574.432 Q154.931 575.011 157.454 575.011 Q161.852 575.011 164.144 573.275 Q166.459 571.539 166.459 568.229 Q166.459 565.173 164.306 563.46 Q162.177 561.724 158.357 561.724 L154.329 561.724 L154.329 557.882 L158.542 557.882 Q161.991 557.882 163.82 556.516 Q165.649 555.127 165.649 552.534 Q165.649 549.872 163.751 548.46 Q161.876 547.025 158.357 547.025 Q156.436 547.025 154.237 547.442 Q152.038 547.858 149.399 548.738 L149.399 544.571 Q152.061 543.831 154.376 543.46 Q156.714 543.09 158.774 543.09 Q164.098 543.09 167.2 545.521 Q170.302 547.928 170.302 552.048 Q170.302 554.919 168.658 556.909 Q167.015 558.877 163.982 559.641 Z\" fill=\"#000000\" fill-rule=\"evenodd\" fill-opacity=\"1\" /><path clip-path=\"url(#clip750)\" d=\"M 0 0 M159.584 328.428 Q156.436 328.428 154.584 330.581 Q152.755 332.734 152.755 336.484 Q152.755 340.211 154.584 342.386 Q156.436 344.539 159.584 344.539 Q162.732 344.539 164.561 342.386 Q166.413 340.211 166.413 336.484 Q166.413 332.734 164.561 330.581 Q162.732 328.428 159.584 328.428 M168.866 313.775 L168.866 318.035 Q167.107 317.201 165.302 316.762 Q163.519 316.322 161.76 316.322 Q157.13 316.322 154.677 319.447 Q152.246 322.572 151.899 328.891 Q153.265 326.877 155.325 325.812 Q157.385 324.724 159.862 324.724 Q165.07 324.724 168.079 327.896 Q171.112 331.044 171.112 336.484 Q171.112 341.808 167.964 345.025 Q164.815 348.243 159.584 348.243 Q153.589 348.243 150.417 343.66 Q147.246 339.053 147.246 330.326 Q147.246 322.132 151.135 317.271 Q155.024 312.387 161.575 312.387 Q163.334 312.387 165.116 312.734 Q166.922 313.081 168.866 313.775 Z\" fill=\"#000000\" fill-rule=\"evenodd\" fill-opacity=\"1\" /><path clip-path=\"url(#clip750)\" d=\"M 0 0 M14.479 851.481 L14.479 845.624 L64.0042 845.624 L64.0042 851.481 L14.479 851.481 Z\" fill=\"#000000\" fill-rule=\"evenodd\" fill-opacity=\"1\" /><path clip-path=\"url(#clip750)\" d=\"M 0 0 M42.4881 809.849 L64.0042 809.849 L64.0042 815.706 L42.679 815.706 Q37.6183 815.706 35.1038 817.679 Q32.5894 819.652 32.5894 823.599 Q32.5894 828.342 35.6131 831.079 Q38.6368 833.816 43.8567 833.816 L64.0042 833.816 L64.0042 839.704 L28.3562 839.704 L28.3562 833.816 L33.8944 833.816 Q30.6797 831.715 29.0883 828.883 Q27.4968 826.018 27.4968 822.294 Q27.4968 816.151 31.3163 813 Q35.1038 809.849 42.4881 809.849 Z\" fill=\"#000000\" fill-rule=\"evenodd\" fill-opacity=\"1\" /><path clip-path=\"url(#clip750)\" d=\"M 0 0 M21.7677 797.022 L39.6235 797.022 L39.6235 788.938 Q39.6235 784.45 37.3 781.999 Q34.9765 779.548 30.6797 779.548 Q26.4147 779.548 24.0912 781.999 Q21.7677 784.45 21.7677 788.938 L21.7677 797.022 M16.4842 803.452 L16.4842 788.938 Q16.4842 780.949 20.1126 776.875 Q23.7092 772.769 30.6797 772.769 Q37.7138 772.769 41.3104 776.875 Q44.907 780.949 44.907 788.938 L44.907 797.022 L64.0042 797.022 L64.0042 803.452 L16.4842 803.452 Z\" fill=\"#000000\" fill-rule=\"evenodd\" fill-opacity=\"1\" /><path clip-path=\"url(#clip750)\" d=\"M 0 0 M14.5426 752.558 Q21.8632 756.823 29.0246 758.892 Q36.186 760.961 43.5384 760.961 Q50.8908 760.961 58.1159 758.892 Q65.3091 756.791 72.5979 752.558 L72.5979 757.65 Q65.1182 762.425 57.8931 764.812 Q50.668 767.167 43.5384 767.167 Q36.4406 767.167 29.2474 764.812 Q22.0542 762.457 14.5426 757.65 L14.5426 752.558 Z\" fill=\"#000000\" fill-rule=\"evenodd\" fill-opacity=\"1\" /><path clip-path=\"url(#clip750)\" d=\"M 0 0 M14.479 746.638 L14.479 740.749 L43.7294 740.749 L28.3562 723.276 L28.3562 715.796 L45.0344 734.702 L64.0042 715 L64.0042 722.639 L46.5939 740.749 L64.0042 740.749 L64.0042 746.638 L14.479 746.638 Z\" fill=\"#000000\" fill-rule=\"evenodd\" fill-opacity=\"1\" /><path clip-path=\"url(#clip750)\" d=\"M 0 0 M14.5426 709.78 L14.5426 704.688 Q22.0542 699.913 29.2474 697.558 Q36.4406 695.171 43.5384 695.171 Q50.668 695.171 57.8931 697.558 Q65.1182 699.913 72.5979 704.688 L72.5979 709.78 Q65.3091 705.547 58.1159 703.478 Q50.8908 701.378 43.5384 701.378 Q36.186 701.378 29.0246 703.478 Q21.8632 705.547 14.5426 709.78 Z\" fill=\"#000000\" fill-rule=\"evenodd\" fill-opacity=\"1\" /><path clip-path=\"url(#clip750)\" d=\"M 0 0 M767.555 12.096 L802.312 12.096 L802.312 18.9825 L775.738 18.9825 L775.738 36.8065 L799.719 36.8065 L799.719 43.6931 L775.738 43.6931 L775.738 72.576 L767.555 72.576 L767.555 12.096 Z\" fill=\"#000000\" fill-rule=\"evenodd\" fill-opacity=\"1\" /><path clip-path=\"url(#clip750)\" d=\"M 0 0 M804.824 54.671 L804.824 27.2059 L812.277 27.2059 L812.277 54.3874 Q812.277 60.8284 814.789 64.0691 Q817.3 67.2693 822.323 67.2693 Q828.359 67.2693 831.843 63.421 Q835.367 59.5726 835.367 52.9291 L835.367 27.2059 L842.821 27.2059 L842.821 72.576 L835.367 72.576 L835.367 65.6084 Q832.653 69.7404 829.048 71.7658 Q825.483 73.7508 820.744 73.7508 Q812.925 73.7508 808.874 68.8897 Q804.824 64.0286 804.824 54.671 M823.579 26.1121 L823.579 26.1121 Z\" fill=\"#000000\" fill-rule=\"evenodd\" fill-opacity=\"1\" /><path clip-path=\"url(#clip750)\" d=\"M 0 0 M850.639 9.54393 L858.093 9.54393 L858.093 72.576 L850.639 72.576 L850.639 9.54393 Z\" fill=\"#000000\" fill-rule=\"evenodd\" fill-opacity=\"1\" /><path clip-path=\"url(#clip750)\" d=\"M 0 0 M865.911 9.54393 L873.365 9.54393 L873.365 72.576 L865.911 72.576 L865.911 9.54393 Z\" fill=\"#000000\" fill-rule=\"evenodd\" fill-opacity=\"1\" /><path clip-path=\"url(#clip750)\" d=\"M 0 0 M926.796 16.7545 L926.796 25.383 Q922.664 21.5346 917.965 19.6307 Q913.307 17.7268 908.041 17.7268 Q897.67 17.7268 892.161 24.0867 Q886.652 30.4061 886.652 42.3968 Q886.652 54.3469 892.161 60.7069 Q897.67 67.0263 908.041 67.0263 Q913.307 67.0263 917.965 65.1223 Q922.664 63.2184 926.796 59.3701 L926.796 67.9175 Q922.502 70.8341 917.682 72.2924 Q912.902 73.7508 907.554 73.7508 Q893.822 73.7508 885.923 65.3654 Q878.023 56.9395 878.023 42.3968 Q878.023 27.8135 885.923 19.4281 Q893.822 11.0023 907.554 11.0023 Q912.983 11.0023 917.763 12.4606 Q922.583 13.8784 926.796 16.7545 Z\" fill=\"#000000\" fill-rule=\"evenodd\" fill-opacity=\"1\" /><path clip-path=\"url(#clip750)\" d=\"M 0 0 M952.195 32.4315 Q946.2 32.4315 942.716 37.1306 Q939.233 41.7891 939.233 49.9314 Q939.233 58.0738 942.676 62.7728 Q946.16 67.4314 952.195 67.4314 Q958.15 67.4314 961.634 62.7323 Q965.118 58.0333 965.118 49.9314 Q965.118 41.8701 961.634 37.1711 Q958.15 32.4315 952.195 32.4315 M952.195 26.1121 Q961.918 26.1121 967.467 32.4315 Q973.017 38.7509 973.017 49.9314 Q973.017 61.0714 967.467 67.4314 Q961.918 73.7508 952.195 73.7508 Q942.433 73.7508 936.883 67.4314 Q931.374 61.0714 931.374 49.9314 Q931.374 38.7509 936.883 32.4315 Q942.433 26.1121 952.195 26.1121 Z\" fill=\"#000000\" fill-rule=\"evenodd\" fill-opacity=\"1\" /><path clip-path=\"url(#clip750)\" d=\"M 0 0 M975.488 27.2059 L983.387 27.2059 L997.566 65.2844 L1011.74 27.2059 L1019.64 27.2059 L1002.63 72.576 L992.502 72.576 L975.488 27.2059 Z\" fill=\"#000000\" fill-rule=\"evenodd\" fill-opacity=\"1\" /><path clip-path=\"url(#clip750)\" d=\"M 0 0 M1054.16 12.096 L1065.18 12.096 L1091.99 62.6918 L1091.99 12.096 L1099.93 12.096 L1099.93 72.576 L1088.91 72.576 L1062.1 21.9802 L1062.1 72.576 L1054.16 72.576 L1054.16 12.096 Z\" fill=\"#000000\" fill-rule=\"evenodd\" fill-opacity=\"1\" /><path clip-path=\"url(#clip750)\" d=\"M 0 0 M1125.33 32.4315 Q1119.34 32.4315 1115.85 37.1306 Q1112.37 41.7891 1112.37 49.9314 Q1112.37 58.0738 1115.81 62.7728 Q1119.3 67.4314 1125.33 67.4314 Q1131.29 67.4314 1134.77 62.7323 Q1138.25 58.0333 1138.25 49.9314 Q1138.25 41.8701 1134.77 37.1711 Q1131.29 32.4315 1125.33 32.4315 M1125.33 26.1121 Q1135.05 26.1121 1140.6 32.4315 Q1146.15 38.7509 1146.15 49.9314 Q1146.15 61.0714 1140.6 67.4314 Q1135.05 73.7508 1125.33 73.7508 Q1115.57 73.7508 1110.02 67.4314 Q1104.51 61.0714 1104.51 49.9314 Q1104.51 38.7509 1110.02 32.4315 Q1115.57 26.1121 1125.33 26.1121 Z\" fill=\"#000000\" fill-rule=\"evenodd\" fill-opacity=\"1\" /><path clip-path=\"url(#clip750)\" d=\"M 0 0 M1153.97 27.2059 L1161.42 27.2059 L1161.42 72.576 L1153.97 72.576 L1153.97 27.2059 M1153.97 9.54393 L1161.42 9.54393 L1161.42 18.9825 L1153.97 18.9825 L1153.97 9.54393 Z\" fill=\"#000000\" fill-rule=\"evenodd\" fill-opacity=\"1\" /><path clip-path=\"url(#clip750)\" d=\"M 0 0 M1198.17 28.5427 L1198.17 35.5912 Q1195.01 33.9709 1191.6 33.1607 Q1188.2 32.3505 1184.56 32.3505 Q1179.01 32.3505 1176.21 34.0519 Q1173.46 35.7533 1173.46 39.156 Q1173.46 41.7486 1175.44 43.2475 Q1177.43 44.7058 1183.42 46.0426 L1185.97 46.6097 Q1193.91 48.3111 1197.23 51.4303 Q1200.6 54.509 1200.6 60.0587 Q1200.6 66.3781 1195.57 70.0644 Q1190.59 73.7508 1181.84 73.7508 Q1178.2 73.7508 1174.23 73.0216 Q1170.3 72.3329 1165.92 70.9151 L1165.92 63.2184 Q1170.05 65.3654 1174.06 66.4591 Q1178.07 67.5124 1182 67.5124 Q1187.27 67.5124 1190.11 65.73 Q1192.94 63.9071 1192.94 60.6258 Q1192.94 57.5877 1190.87 55.9673 Q1188.85 54.3469 1181.92 52.8481 L1179.33 52.2405 Q1172.4 50.7821 1169.32 47.7845 Q1166.25 44.7463 1166.25 39.4801 Q1166.25 33.0797 1170.78 29.5959 Q1175.32 26.1121 1183.66 26.1121 Q1187.8 26.1121 1191.44 26.7198 Q1195.09 27.3274 1198.17 28.5427 Z\" fill=\"#000000\" fill-rule=\"evenodd\" fill-opacity=\"1\" /><path clip-path=\"url(#clip750)\" d=\"M 0 0 M1226 32.4315 Q1220 32.4315 1216.52 37.1306 Q1213.03 41.7891 1213.03 49.9314 Q1213.03 58.0738 1216.48 62.7728 Q1219.96 67.4314 1226 67.4314 Q1231.95 67.4314 1235.43 62.7323 Q1238.92 58.0333 1238.92 49.9314 Q1238.92 41.8701 1235.43 37.1711 Q1231.95 32.4315 1226 32.4315 M1226 26.1121 Q1235.72 26.1121 1241.27 32.4315 Q1246.82 38.7509 1246.82 49.9314 Q1246.82 61.0714 1241.27 67.4314 Q1235.72 73.7508 1226 73.7508 Q1216.23 73.7508 1210.68 67.4314 Q1205.17 61.0714 1205.17 49.9314 Q1205.17 38.7509 1210.68 32.4315 Q1216.23 26.1121 1226 26.1121 Z\" fill=\"#000000\" fill-rule=\"evenodd\" fill-opacity=\"1\" /><path clip-path=\"url(#clip750)\" d=\"M 0 0 M1256.54 62.2867 L1265.09 62.2867 L1265.09 72.576 L1256.54 72.576 L1256.54 62.2867 M1256.54 29.6769 L1265.09 29.6769 L1265.09 39.9662 L1256.54 39.9662 L1256.54 29.6769 Z\" fill=\"#000000\" fill-rule=\"evenodd\" fill-opacity=\"1\" /><path clip-path=\"url(#clip750)\" d=\"M 0 0 M1307.78 18.8205 L1307.78 41.5461 L1318.07 41.5461 Q1323.78 41.5461 1326.9 38.5889 Q1330.02 35.6318 1330.02 30.163 Q1330.02 24.7348 1326.9 21.7777 Q1323.78 18.8205 1318.07 18.8205 L1307.78 18.8205 M1299.6 12.096 L1318.07 12.096 Q1328.24 12.096 1333.43 16.714 Q1338.65 21.2916 1338.65 30.163 Q1338.65 39.1155 1333.43 43.6931 Q1328.24 48.2706 1318.07 48.2706 L1307.78 48.2706 L1307.78 72.576 L1299.6 72.576 L1299.6 12.096 Z\" fill=\"#000000\" fill-rule=\"evenodd\" fill-opacity=\"1\" /><path clip-path=\"url(#clip750)\" d=\"M 0 0 M1364.37 9.62495 Q1358.95 18.942 1356.31 28.0566 Q1353.68 37.1711 1353.68 46.5287 Q1353.68 55.8863 1356.31 65.0818 Q1358.99 74.2369 1364.37 83.5134 L1357.89 83.5134 Q1351.82 73.9938 1348.78 64.7983 Q1345.78 55.6027 1345.78 46.5287 Q1345.78 37.4952 1348.78 28.3401 Q1351.78 19.1851 1357.89 9.62495 L1364.37 9.62495 Z\" fill=\"#000000\" fill-rule=\"evenodd\" fill-opacity=\"1\" /><path clip-path=\"url(#clip750)\" d=\"M 0 0 M1371.91 9.54393 L1379.4 9.54393 L1379.4 46.7717 L1401.64 27.2059 L1411.16 27.2059 L1387.1 48.4326 L1412.18 72.576 L1402.45 72.576 L1379.4 50.4176 L1379.4 72.576 L1371.91 72.576 L1371.91 9.54393 Z\" fill=\"#000000\" fill-rule=\"evenodd\" fill-opacity=\"1\" /><path clip-path=\"url(#clip750)\" d=\"M 0 0 M1418.82 9.62495 L1425.3 9.62495 Q1431.38 19.1851 1434.37 28.3401 Q1437.41 37.4952 1437.41 46.5287 Q1437.41 55.6027 1434.37 64.7983 Q1431.38 73.9938 1425.3 83.5134 L1418.82 83.5134 Q1424.21 74.2369 1426.84 65.0818 Q1429.51 55.8863 1429.51 46.5287 Q1429.51 37.1711 1426.84 28.0566 Q1424.21 18.942 1418.82 9.62495 Z\" fill=\"#000000\" fill-rule=\"evenodd\" fill-opacity=\"1\" /><path clip-path=\"url(#clip750)\" d=\"M 0 0 M1489.18 32.4315 Q1483.19 32.4315 1479.7 37.1306 Q1476.22 41.7891 1476.22 49.9314 Q1476.22 58.0738 1479.66 62.7728 Q1483.15 67.4314 1489.18 67.4314 Q1495.14 67.4314 1498.62 62.7323 Q1502.11 58.0333 1502.11 49.9314 Q1502.11 41.8701 1498.62 37.1711 Q1495.14 32.4315 1489.18 32.4315 M1489.18 26.1121 Q1498.91 26.1121 1504.46 32.4315 Q1510 38.7509 1510 49.9314 Q1510 61.0714 1504.46 67.4314 Q1498.91 73.7508 1489.18 73.7508 Q1479.42 73.7508 1473.87 67.4314 Q1468.36 61.0714 1468.36 49.9314 Q1468.36 38.7509 1473.87 32.4315 Q1479.42 26.1121 1489.18 26.1121 Z\" fill=\"#000000\" fill-rule=\"evenodd\" fill-opacity=\"1\" /><path clip-path=\"url(#clip750)\" d=\"M 0 0 M1540.79 9.54393 L1540.79 15.7418 L1533.66 15.7418 Q1529.65 15.7418 1528.07 17.3622 Q1526.53 18.9825 1526.53 23.1955 L1526.53 27.2059 L1538.81 27.2059 L1538.81 32.9987 L1526.53 32.9987 L1526.53 72.576 L1519.04 72.576 L1519.04 32.9987 L1511.91 32.9987 L1511.91 27.2059 L1519.04 27.2059 L1519.04 24.0462 Q1519.04 16.471 1522.56 13.0277 Q1526.09 9.54393 1533.74 9.54393 L1540.79 9.54393 Z\" fill=\"#000000\" fill-rule=\"evenodd\" fill-opacity=\"1\" /><path clip-path=\"url(#clip750)\" d=\"M 0 0 M1575.31 12.096 L1583.49 12.096 L1583.49 72.576 L1575.31 72.576 L1575.31 12.096 Z\" fill=\"#000000\" fill-rule=\"evenodd\" fill-opacity=\"1\" /><path clip-path=\"url(#clip750)\" d=\"M 0 0 M1626.63 35.9153 Q1629.43 30.8922 1633.31 28.5022 Q1637.2 26.1121 1642.47 26.1121 Q1649.56 26.1121 1653.41 31.0947 Q1657.26 36.0368 1657.26 45.1919 L1657.26 72.576 L1649.76 72.576 L1649.76 45.4349 Q1649.76 38.913 1647.45 35.7533 Q1645.14 32.5936 1640.4 32.5936 Q1634.61 32.5936 1631.25 36.4419 Q1627.89 40.2903 1627.89 46.9338 L1627.89 72.576 L1620.39 72.576 L1620.39 45.4349 Q1620.39 38.8725 1618.08 35.7533 Q1615.77 32.5936 1610.95 32.5936 Q1605.24 32.5936 1601.88 36.4824 Q1598.52 40.3308 1598.52 46.9338 L1598.52 72.576 L1591.02 72.576 L1591.02 27.2059 L1598.52 27.2059 L1598.52 34.2544 Q1601.07 30.082 1604.63 28.0971 Q1608.2 26.1121 1613.1 26.1121 Q1618.04 26.1121 1621.49 28.6237 Q1624.97 31.1352 1626.63 35.9153 Z\" fill=\"#000000\" fill-rule=\"evenodd\" fill-opacity=\"1\" /><path clip-path=\"url(#clip750)\" d=\"M 0 0 M1685.69 49.7694 Q1676.66 49.7694 1673.18 51.8354 Q1669.69 53.9013 1669.69 58.8839 Q1669.69 62.8538 1672.28 65.2034 Q1674.92 67.5124 1679.41 67.5124 Q1685.61 67.5124 1689.34 63.1374 Q1693.11 58.7219 1693.11 51.4303 L1693.11 49.7694 L1685.69 49.7694 M1700.56 46.6907 L1700.56 72.576 L1693.11 72.576 L1693.11 65.6895 Q1690.55 69.8214 1686.75 71.8063 Q1682.94 73.7508 1677.43 73.7508 Q1670.46 73.7508 1666.33 69.8619 Q1662.24 65.9325 1662.24 59.3701 Q1662.24 51.7138 1667.34 47.825 Q1672.49 43.9361 1682.65 43.9361 L1693.11 43.9361 L1693.11 43.2069 Q1693.11 38.0623 1689.7 35.2672 Q1686.34 32.4315 1680.22 32.4315 Q1676.34 32.4315 1672.65 33.3632 Q1668.96 34.295 1665.56 36.1584 L1665.56 29.2718 Q1669.65 27.692 1673.5 26.9223 Q1677.35 26.1121 1680.99 26.1121 Q1690.84 26.1121 1695.7 31.2163 Q1700.56 36.3204 1700.56 46.6907 Z\" fill=\"#000000\" fill-rule=\"evenodd\" fill-opacity=\"1\" /><path clip-path=\"url(#clip750)\" d=\"M 0 0 M1738.23 49.3643 Q1738.23 41.2625 1734.87 36.8065 Q1731.55 32.3505 1725.51 32.3505 Q1719.52 32.3505 1716.16 36.8065 Q1712.83 41.2625 1712.83 49.3643 Q1712.83 57.4256 1716.16 61.8816 Q1719.52 66.3376 1725.51 66.3376 Q1731.55 66.3376 1734.87 61.8816 Q1738.23 57.4256 1738.23 49.3643 M1745.69 66.9452 Q1745.69 78.5308 1740.54 84.1616 Q1735.4 89.8329 1724.78 89.8329 Q1720.85 89.8329 1717.37 89.2252 Q1713.89 88.6581 1710.61 87.4428 L1710.61 80.1917 Q1713.89 81.9741 1717.09 82.8248 Q1720.29 83.6755 1723.61 83.6755 Q1730.94 83.6755 1734.59 79.8271 Q1738.23 76.0193 1738.23 68.282 L1738.23 64.5957 Q1735.92 68.6061 1732.32 70.5911 Q1728.71 72.576 1723.69 72.576 Q1715.35 72.576 1710.24 66.2161 Q1705.14 59.8562 1705.14 49.3643 Q1705.14 38.832 1710.24 32.472 Q1715.35 26.1121 1723.69 26.1121 Q1728.71 26.1121 1732.32 28.0971 Q1735.92 30.082 1738.23 34.0924 L1738.23 27.2059 L1745.69 27.2059 L1745.69 66.9452 Z\" fill=\"#000000\" fill-rule=\"evenodd\" fill-opacity=\"1\" /><path clip-path=\"url(#clip750)\" d=\"M 0 0 M1792.31 48.0275 L1792.31 51.6733 L1758.04 51.6733 Q1758.53 59.3701 1762.66 63.421 Q1766.83 67.4314 1774.25 67.4314 Q1778.54 67.4314 1782.55 66.3781 Q1786.6 65.3249 1790.57 63.2184 L1790.57 70.267 Q1786.56 71.9684 1782.35 72.8596 Q1778.13 73.7508 1773.8 73.7508 Q1762.94 73.7508 1756.58 67.4314 Q1750.26 61.1119 1750.26 50.3365 Q1750.26 39.1965 1756.26 32.6746 Q1762.3 26.1121 1772.5 26.1121 Q1781.66 26.1121 1786.97 32.0264 Q1792.31 37.9003 1792.31 48.0275 M1784.86 45.84 Q1784.78 39.7232 1781.42 36.0774 Q1778.09 32.4315 1772.58 32.4315 Q1766.35 32.4315 1762.58 35.9558 Q1758.85 39.4801 1758.28 45.8805 L1784.86 45.84 Z\" fill=\"#000000\" fill-rule=\"evenodd\" fill-opacity=\"1\" /><polyline clip-path=\"url(#clip752)\" style=\"stroke:#009af9; stroke-width:4; stroke-opacity:1; fill:none\" points=\"\n",
       "  267.837,260.973 672.676,643.826 909.491,699.834 1077.51,731.503 1207.84,807.562 1314.33,818.98 1404.36,877.924 1482.35,929.351 1551.15,930.095 1612.68,982.795 \n",
       "  1668.35,991.746 1719.17,1016.72 1765.92,1036.18 1809.2,1055.53 1849.5,1064.98 1887.19,1109.38 1922.6,1110.63 1955.98,1146.81 1987.56,1169.62 2017.52,1179.69 \n",
       "  2046.02,1222.83 2073.19,1221.45 2099.15,1244.28 2124.01,1257.84 2147.85,1268 2170.76,1284.99 2192.8,1316.75 2214.04,1334.44 2234.54,1347.57 2254.34,1374.47 \n",
       "  2273.49,1386.11 2292.03,1386.4 \n",
       "  \"/>\n",
       "<polyline clip-path=\"url(#clip752)\" style=\"stroke:#e26f46; stroke-width:4; stroke-opacity:1; fill:none\" points=\"\n",
       "  267.837,160.256 672.676,570.971 909.491,656.392 1077.51,726.008 1207.84,817.268 1314.33,824.276 1404.36,873.619 1482.35,908.799 1551.15,895.132 1612.68,961.889 \n",
       "  1668.35,992.99 1719.17,1007.98 1765.92,1030.22 1809.2,1040.61 1849.5,1044.43 1887.19,1056.61 1922.6,1081.48 1955.98,1104.3 1987.56,1128.23 2017.52,1148.35 \n",
       "  2046.02,1180.59 2073.19,1230 2099.15,1270.31 2124.01,1265.49 2147.85,1281.08 2170.76,1275.01 2192.8,1284.45 2214.04,1295.22 2234.54,1295.03 2254.34,1301.33 \n",
       "  2273.49,1308.71 2292.03,1298.4 \n",
       "  \"/>\n",
       "<polyline clip-path=\"url(#clip752)\" style=\"stroke:#3da44d; stroke-width:4; stroke-opacity:1; fill:none\" points=\"\n",
       "  267.837,259.667 672.676,643.326 909.491,691.277 1077.51,721.156 1207.84,797.504 1314.33,803.772 1404.36,854.516 1482.35,879.182 1551.15,859.935 1612.68,895.164 \n",
       "  1668.35,917.337 1719.17,910.014 1765.92,922.672 1809.2,919.524 1849.5,917.402 1887.19,915.743 1922.6,921.564 1955.98,930.21 1987.56,914.088 2017.52,913.647 \n",
       "  2046.02,917.836 2073.19,936.216 2099.15,958.061 2124.01,927.771 2147.85,931.06 2170.76,919.065 2192.8,915.595 2214.04,921.256 2234.54,915.39 2254.34,916.922 \n",
       "  2273.49,922.868 2292.03,911.202 \n",
       "  \"/>\n",
       "<path clip-path=\"url(#clip750)\" d=\"\n",
       "M1915.84 408.716 L2281.23 408.716 L2281.23 166.796 L1915.84 166.796  Z\n",
       "  \" fill=\"#ffffff\" fill-rule=\"evenodd\" fill-opacity=\"1\"/>\n",
       "<polyline clip-path=\"url(#clip750)\" style=\"stroke:#000000; stroke-width:4; stroke-opacity:1; fill:none\" points=\"\n",
       "  1915.84,408.716 2281.23,408.716 2281.23,166.796 1915.84,166.796 1915.84,408.716 \n",
       "  \"/>\n",
       "<polyline clip-path=\"url(#clip750)\" style=\"stroke:#009af9; stroke-width:4; stroke-opacity:1; fill:none\" points=\"\n",
       "  1939.68,227.276 2082.72,227.276 \n",
       "  \"/>\n",
       "<path clip-path=\"url(#clip750)\" d=\"M 0 0 M2106.56 209.996 L2135.8 209.996 L2135.8 213.931 L2123.53 213.931 L2123.53 244.556 L2118.83 244.556 L2118.83 213.931 L2106.56 213.931 L2106.56 209.996 Z\" fill=\"#000000\" fill-rule=\"evenodd\" fill-opacity=\"1\" /><path clip-path=\"url(#clip750)\" d=\"M 0 0 M2148.32 222.611 Q2147.6 222.195 2146.75 222.01 Q2145.92 221.801 2144.9 221.801 Q2141.29 221.801 2139.34 224.162 Q2137.42 226.5 2137.42 230.898 L2137.42 244.556 L2133.14 244.556 L2133.14 218.63 L2137.42 218.63 L2137.42 222.658 Q2138.76 220.297 2140.92 219.162 Q2143.07 218.005 2146.15 218.005 Q2146.59 218.005 2147.12 218.074 Q2147.65 218.121 2148.3 218.236 L2148.32 222.611 Z\" fill=\"#000000\" fill-rule=\"evenodd\" fill-opacity=\"1\" /><path clip-path=\"url(#clip750)\" d=\"M 0 0 M2152.35 234.324 L2152.35 218.63 L2156.61 218.63 L2156.61 234.162 Q2156.61 237.843 2158.04 239.695 Q2159.48 241.523 2162.35 241.523 Q2165.8 241.523 2167.79 239.324 Q2169.8 237.125 2169.8 233.329 L2169.8 218.63 L2174.06 218.63 L2174.06 244.556 L2169.8 244.556 L2169.8 240.574 Q2168.25 242.935 2166.19 244.093 Q2164.16 245.227 2161.45 245.227 Q2156.98 245.227 2154.66 242.449 Q2152.35 239.671 2152.35 234.324 M2163.07 218.005 L2163.07 218.005 Z\" fill=\"#000000\" fill-rule=\"evenodd\" fill-opacity=\"1\" /><path clip-path=\"url(#clip750)\" d=\"M 0 0 M2200.71 230.528 L2200.71 232.611 L2181.12 232.611 Q2181.4 237.009 2183.76 239.324 Q2186.15 241.616 2190.38 241.616 Q2192.84 241.616 2195.13 241.014 Q2197.44 240.412 2199.71 239.209 L2199.71 243.236 Q2197.42 244.208 2195.01 244.718 Q2192.6 245.227 2190.13 245.227 Q2183.92 245.227 2180.29 241.616 Q2176.68 238.005 2176.68 231.847 Q2176.68 225.482 2180.1 221.755 Q2183.55 218.005 2189.39 218.005 Q2194.62 218.005 2197.65 221.385 Q2200.71 224.741 2200.71 230.528 M2196.45 229.278 Q2196.4 225.783 2194.48 223.699 Q2192.58 221.616 2189.43 221.616 Q2185.87 221.616 2183.72 223.63 Q2181.59 225.644 2181.26 229.301 L2196.45 229.278 Z\" fill=\"#000000\" fill-rule=\"evenodd\" fill-opacity=\"1\" /><polyline clip-path=\"url(#clip750)\" style=\"stroke:#e26f46; stroke-width:4; stroke-opacity:1; fill:none\" points=\"\n",
       "  1939.68,287.756 2082.72,287.756 \n",
       "  \"/>\n",
       "<path clip-path=\"url(#clip750)\" d=\"M 0 0 M2122.95 288.832 Q2124.46 289.341 2125.87 291.008 Q2127.3 292.675 2128.74 295.591 L2133.48 305.036 L2128.46 305.036 L2124.04 296.17 Q2122.33 292.698 2120.71 291.564 Q2119.11 290.429 2116.33 290.429 L2111.24 290.429 L2111.24 305.036 L2106.56 305.036 L2106.56 270.476 L2117.12 270.476 Q2123.04 270.476 2125.96 272.953 Q2128.88 275.429 2128.88 280.429 Q2128.88 283.693 2127.35 285.846 Q2125.85 287.999 2122.95 288.832 M2111.24 274.318 L2111.24 286.587 L2117.12 286.587 Q2120.5 286.587 2122.21 285.036 Q2123.95 283.462 2123.95 280.429 Q2123.95 277.397 2122.21 275.869 Q2120.5 274.318 2117.12 274.318 L2111.24 274.318 Z\" fill=\"#000000\" fill-rule=\"evenodd\" fill-opacity=\"1\" /><path clip-path=\"url(#clip750)\" d=\"M 0 0 M2158 291.008 L2158 293.091 L2138.42 293.091 Q2138.69 297.489 2141.05 299.804 Q2143.44 302.096 2147.67 302.096 Q2150.13 302.096 2152.42 301.494 Q2154.73 300.892 2157 299.689 L2157 303.716 Q2154.71 304.688 2152.3 305.198 Q2149.9 305.707 2147.42 305.707 Q2141.22 305.707 2137.58 302.096 Q2133.97 298.485 2133.97 292.327 Q2133.97 285.962 2137.4 282.235 Q2140.85 278.485 2146.68 278.485 Q2151.91 278.485 2154.94 281.865 Q2158 285.221 2158 291.008 M2153.74 289.758 Q2153.69 286.263 2151.77 284.179 Q2149.87 282.096 2146.73 282.096 Q2143.16 282.096 2141.01 284.11 Q2138.88 286.124 2138.55 289.781 L2153.74 289.758 Z\" fill=\"#000000\" fill-rule=\"evenodd\" fill-opacity=\"1\" /><path clip-path=\"url(#clip750)\" d=\"M 0 0 M2181.12 280.105 L2181.12 284.087 Q2179.32 283.091 2177.49 282.605 Q2175.68 282.096 2173.83 282.096 Q2169.69 282.096 2167.4 284.735 Q2165.1 287.351 2165.1 292.096 Q2165.1 296.841 2167.4 299.48 Q2169.69 302.096 2173.83 302.096 Q2175.68 302.096 2177.49 301.61 Q2179.32 301.101 2181.12 300.105 L2181.12 304.04 Q2179.34 304.874 2177.42 305.29 Q2175.52 305.707 2173.37 305.707 Q2167.51 305.707 2164.06 302.026 Q2160.61 298.346 2160.61 292.096 Q2160.61 285.753 2164.09 282.119 Q2167.58 278.485 2173.65 278.485 Q2175.61 278.485 2177.49 278.902 Q2179.36 279.295 2181.12 280.105 Z\" fill=\"#000000\" fill-rule=\"evenodd\" fill-opacity=\"1\" /><path clip-path=\"url(#clip750)\" d=\"M 0 0 M2195.64 282.096 Q2192.21 282.096 2190.22 284.781 Q2188.23 287.443 2188.23 292.096 Q2188.23 296.749 2190.2 299.434 Q2192.19 302.096 2195.64 302.096 Q2199.04 302.096 2201.03 299.411 Q2203.02 296.726 2203.02 292.096 Q2203.02 287.49 2201.03 284.804 Q2199.04 282.096 2195.64 282.096 M2195.64 278.485 Q2201.19 278.485 2204.36 282.096 Q2207.54 285.707 2207.54 292.096 Q2207.54 298.462 2204.36 302.096 Q2201.19 305.707 2195.64 305.707 Q2190.06 305.707 2186.89 302.096 Q2183.74 298.462 2183.74 292.096 Q2183.74 285.707 2186.89 282.096 Q2190.06 278.485 2195.64 278.485 Z\" fill=\"#000000\" fill-rule=\"evenodd\" fill-opacity=\"1\" /><path clip-path=\"url(#clip750)\" d=\"M 0 0 M2233.55 289.388 L2233.55 305.036 L2229.29 305.036 L2229.29 289.527 Q2229.29 285.846 2227.86 284.017 Q2226.42 282.189 2223.55 282.189 Q2220.1 282.189 2218.11 284.388 Q2216.12 286.587 2216.12 290.383 L2216.12 305.036 L2211.84 305.036 L2211.84 279.11 L2216.12 279.11 L2216.12 283.138 Q2217.65 280.8 2219.71 279.642 Q2221.79 278.485 2224.5 278.485 Q2228.97 278.485 2231.26 281.263 Q2233.55 284.017 2233.55 289.388 Z\" fill=\"#000000\" fill-rule=\"evenodd\" fill-opacity=\"1\" /><polyline clip-path=\"url(#clip750)\" style=\"stroke:#3da44d; stroke-width:4; stroke-opacity:1; fill:none\" points=\"\n",
       "  1939.68,348.236 2082.72,348.236 \n",
       "  \"/>\n",
       "<path clip-path=\"url(#clip750)\" d=\"M 0 0 M2106.56 330.956 L2111.24 330.956 L2111.24 365.516 L2106.56 365.516 L2106.56 330.956 Z\" fill=\"#000000\" fill-rule=\"evenodd\" fill-opacity=\"1\" /><path clip-path=\"url(#clip750)\" d=\"M 0 0 M2137.26 349.868 L2137.26 365.516 L2133 365.516 L2133 350.007 Q2133 346.326 2131.56 344.497 Q2130.13 342.669 2127.26 342.669 Q2123.81 342.669 2121.82 344.868 Q2119.83 347.067 2119.83 350.863 L2119.83 365.516 L2115.54 365.516 L2115.54 339.59 L2119.83 339.59 L2119.83 343.618 Q2121.35 341.28 2123.42 340.122 Q2125.5 338.965 2128.21 338.965 Q2132.67 338.965 2134.97 341.743 Q2137.26 344.497 2137.26 349.868 Z\" fill=\"#000000\" fill-rule=\"evenodd\" fill-opacity=\"1\" /><path clip-path=\"url(#clip750)\" d=\"M 0 0 M2141.73 339.59 L2145.98 339.59 L2145.98 365.516 L2141.73 365.516 L2141.73 339.59 M2141.73 329.497 L2145.98 329.497 L2145.98 334.891 L2141.73 334.891 L2141.73 329.497 Z\" fill=\"#000000\" fill-rule=\"evenodd\" fill-opacity=\"1\" /><path clip-path=\"url(#clip750)\" d=\"M 0 0 M2154.66 332.229 L2154.66 339.59 L2163.44 339.59 L2163.44 342.9 L2154.66 342.9 L2154.66 356.974 Q2154.66 360.145 2155.52 361.048 Q2156.4 361.951 2159.06 361.951 L2163.44 361.951 L2163.44 365.516 L2159.06 365.516 Q2154.13 365.516 2152.26 363.687 Q2150.38 361.835 2150.38 356.974 L2150.38 342.9 L2147.26 342.9 L2147.26 339.59 L2150.38 339.59 L2150.38 332.229 L2154.66 332.229 Z\" fill=\"#000000\" fill-rule=\"evenodd\" fill-opacity=\"1\" /></svg>\n"
      ]
     },
     "execution_count": 54,
     "metadata": {},
     "output_type": "execute_result"
    }
   ],
   "source": [
    "kbins=convert(Array{Float64}, collect(1:32))\n",
    "true_ps = calc_1dps(apodizer(gttarget[\"true_img\"]), kbins)\n",
    "recon_ps = calc_1dps(apodizer(gttarget[\"recon\"]), kbins)\n",
    "init_ps = calc_1dps(apodizer(gttarget[\"init\"]), kbins)\n",
    "p = plot(log.(kbins), log.(true_ps), label=\"True\")\n",
    "plot!(log.(kbins), log.(recon_ps), label=\"Recon\")\n",
    "plot!(log.(kbins), log.(init_ps), label=\"Init\")\n",
    "plot!(title=\"FullCov Noiso: P(k) of Image\")\n",
    "xlabel!(\"lnk\")\n",
    "ylabel!(\"lnP(k)\")"
   ]
  },
  {
   "cell_type": "code",
   "execution_count": 55,
   "metadata": {},
   "outputs": [
    {
     "name": "stdout",
     "output_type": "stream",
     "text": [
      "True23.149541232333995\n",
      "0.006638043450570209\n",
      "Init107.73101221318592\n",
      "0.0\n",
      "Recon0.22512806853093342\n",
      "0.02018479900845506\n"
     ]
    }
   ],
   "source": [
    "fname = \"../../StandardizedExp/Nx64/noisy_stdtrue/S1only/SFDTargSFDCov/reg_apd_noiso/LogCoeff/100_full_eps10\"\n",
    "gttarget = load(fname*\".jld2\")\n",
    "filter_hash = gttarget[\"fhash\"]\n",
    "s_targ_mean, s_targ_invcov = gttarget[\"dict\"][\"fs_targ_mean\"], gttarget[\"dict\"][\"fs_invcov\"]\n",
    "dhc_args = Dict(:doS2=>false, :doS20=>true, :apodize=>true, :iso=>false)\n",
    "\n",
    "altrue = apodizer(gttarget[\"true_img\"])\n",
    "alinit = apodizer(gttarget[\"init\"])\n",
    "alrecon = apodizer(gttarget[\"recon\"])\n",
    "\n",
    "coeff_mask = gttarget[\"coeff_mask\"]\n",
    "s_true = log.(DHC_compute_wrapper(gttarget[\"true_img\"], filter_hash, norm=false; dhc_args...)[coeff_mask])\n",
    "s_init = log.(DHC_compute_wrapper(gttarget[\"init\"], filter_hash, norm=false; dhc_args...)[coeff_mask])\n",
    "s_recon = log.(DHC_compute_wrapper(gttarget[\"recon\"], filter_hash, norm=false; dhc_args...)[coeff_mask])\n",
    "ltruecheck = ( 0.5 .* (s_true - s_targ_mean)' * s_targ_invcov * (s_true - s_targ_mean))[1]\n",
    "l2true = 0.5*gttarget[\"dict\"][\"lambda\"]*sum((alinit - altrue).^2)\n",
    "println(\"True\", ltruecheck)\n",
    "println(l2true)\n",
    "\n",
    "l1init = ( 0.5 .* (s_init - s_targ_mean)' * s_targ_invcov * (s_init - s_targ_mean))[1]\n",
    "l2init = 0.5*gttarget[\"dict\"][\"lambda\"]*sum((alinit - alinit).^2)\n",
    "println(\"Init\", l1init)\n",
    "println(l2init)\n",
    "\n",
    "l1recon = ( 0.5 .* (s_recon - s_targ_mean)' * s_targ_invcov * (s_recon - s_targ_mean))[1]\n",
    "l2recon = 0.5*gttarget[\"dict\"][\"lambda\"]*sum((alrecon - alinit).^2)\n",
    "println(\"Recon\", l1recon)\n",
    "println(l2recon)\n"
   ]
  },
  {
   "cell_type": "code",
   "execution_count": 56,
   "metadata": {},
   "outputs": [
    {
     "data": {
      "image/svg+xml": [
       "<?xml version=\"1.0\" encoding=\"utf-8\"?>\n",
       "<svg xmlns=\"http://www.w3.org/2000/svg\" xmlns:xlink=\"http://www.w3.org/1999/xlink\" width=\"600\" height=\"400\" viewBox=\"0 0 2400 1600\">\n",
       "<defs>\n",
       "  <clipPath id=\"clip790\">\n",
       "    <rect x=\"0\" y=\"0\" width=\"2400\" height=\"1600\"/>\n",
       "  </clipPath>\n",
       "</defs>\n",
       "<path clip-path=\"url(#clip790)\" d=\"\n",
       "M0 1600 L2400 1600 L2400 0 L0 0  Z\n",
       "  \" fill=\"#ffffff\" fill-rule=\"evenodd\" fill-opacity=\"1\"/>\n",
       "<defs>\n",
       "  <clipPath id=\"clip791\">\n",
       "    <rect x=\"480\" y=\"0\" width=\"1681\" height=\"1600\"/>\n",
       "  </clipPath>\n",
       "</defs>\n",
       "<path clip-path=\"url(#clip790)\" d=\"\n",
       "M242.922 1423.18 L2352.76 1423.18 L2352.76 123.472 L242.922 123.472  Z\n",
       "  \" fill=\"#ffffff\" fill-rule=\"evenodd\" fill-opacity=\"1\"/>\n",
       "<defs>\n",
       "  <clipPath id=\"clip792\">\n",
       "    <rect x=\"242\" y=\"123\" width=\"2111\" height=\"1301\"/>\n",
       "  </clipPath>\n",
       "</defs>\n",
       "<polyline clip-path=\"url(#clip792)\" style=\"stroke:#000000; stroke-width:2; stroke-opacity:0.1; fill:none\" points=\"\n",
       "  302.634,1423.18 302.634,123.472 \n",
       "  \"/>\n",
       "<polyline clip-path=\"url(#clip792)\" style=\"stroke:#000000; stroke-width:2; stroke-opacity:0.1; fill:none\" points=\"\n",
       "  876.945,1423.18 876.945,123.472 \n",
       "  \"/>\n",
       "<polyline clip-path=\"url(#clip792)\" style=\"stroke:#000000; stroke-width:2; stroke-opacity:0.1; fill:none\" points=\"\n",
       "  1451.26,1423.18 1451.26,123.472 \n",
       "  \"/>\n",
       "<polyline clip-path=\"url(#clip792)\" style=\"stroke:#000000; stroke-width:2; stroke-opacity:0.1; fill:none\" points=\"\n",
       "  2025.57,1423.18 2025.57,123.472 \n",
       "  \"/>\n",
       "<polyline clip-path=\"url(#clip790)\" style=\"stroke:#000000; stroke-width:4; stroke-opacity:1; fill:none\" points=\"\n",
       "  242.922,1423.18 2352.76,1423.18 \n",
       "  \"/>\n",
       "<polyline clip-path=\"url(#clip790)\" style=\"stroke:#000000; stroke-width:4; stroke-opacity:1; fill:none\" points=\"\n",
       "  302.634,1423.18 302.634,1407.58 \n",
       "  \"/>\n",
       "<polyline clip-path=\"url(#clip790)\" style=\"stroke:#000000; stroke-width:4; stroke-opacity:1; fill:none\" points=\"\n",
       "  876.945,1423.18 876.945,1407.58 \n",
       "  \"/>\n",
       "<polyline clip-path=\"url(#clip790)\" style=\"stroke:#000000; stroke-width:4; stroke-opacity:1; fill:none\" points=\"\n",
       "  1451.26,1423.18 1451.26,1407.58 \n",
       "  \"/>\n",
       "<polyline clip-path=\"url(#clip790)\" style=\"stroke:#000000; stroke-width:4; stroke-opacity:1; fill:none\" points=\"\n",
       "  2025.57,1423.18 2025.57,1407.58 \n",
       "  \"/>\n",
       "<path clip-path=\"url(#clip790)\" d=\"M 0 0 M302.634 1452.37 Q299.023 1452.37 297.194 1455.94 Q295.389 1459.48 295.389 1466.61 Q295.389 1473.71 297.194 1477.28 Q299.023 1480.82 302.634 1480.82 Q306.268 1480.82 308.074 1477.28 Q309.902 1473.71 309.902 1466.61 Q309.902 1459.48 308.074 1455.94 Q306.268 1452.37 302.634 1452.37 M302.634 1448.67 Q308.444 1448.67 311.5 1453.27 Q314.578 1457.86 314.578 1466.61 Q314.578 1475.33 311.5 1479.94 Q308.444 1484.52 302.634 1484.52 Q296.824 1484.52 293.745 1479.94 Q290.69 1475.33 290.69 1466.61 Q290.69 1457.86 293.745 1453.27 Q296.824 1448.67 302.634 1448.67 Z\" fill=\"#000000\" fill-rule=\"evenodd\" fill-opacity=\"1\" /><path clip-path=\"url(#clip790)\" d=\"M 0 0 M867.327 1479.92 L874.966 1479.92 L874.966 1453.55 L866.656 1455.22 L866.656 1450.96 L874.919 1449.29 L879.595 1449.29 L879.595 1479.92 L887.234 1479.92 L887.234 1483.85 L867.327 1483.85 L867.327 1479.92 Z\" fill=\"#000000\" fill-rule=\"evenodd\" fill-opacity=\"1\" /><path clip-path=\"url(#clip790)\" d=\"M 0 0 M1445.91 1479.92 L1462.23 1479.92 L1462.23 1483.85 L1440.28 1483.85 L1440.28 1479.92 Q1442.95 1477.16 1447.53 1472.53 Q1452.14 1467.88 1453.32 1466.54 Q1455.56 1464.01 1456.44 1462.28 Q1457.34 1460.52 1457.34 1458.83 Q1457.34 1456.07 1455.4 1454.34 Q1453.48 1452.6 1450.38 1452.6 Q1448.18 1452.6 1445.72 1453.37 Q1443.29 1454.13 1440.51 1455.68 L1440.51 1450.96 Q1443.34 1449.82 1445.79 1449.25 Q1448.25 1448.67 1450.28 1448.67 Q1455.65 1448.67 1458.85 1451.35 Q1462.04 1454.04 1462.04 1458.53 Q1462.04 1460.66 1461.23 1462.58 Q1460.45 1464.48 1458.34 1467.07 Q1457.76 1467.74 1454.66 1470.96 Q1451.56 1474.15 1445.91 1479.92 Z\" fill=\"#000000\" fill-rule=\"evenodd\" fill-opacity=\"1\" /><path clip-path=\"url(#clip790)\" d=\"M 0 0 M2029.81 1465.22 Q2033.17 1465.94 2035.05 1468.2 Q2036.94 1470.47 2036.94 1473.81 Q2036.94 1478.92 2033.43 1481.72 Q2029.91 1484.52 2023.43 1484.52 Q2021.25 1484.52 2018.93 1484.08 Q2016.64 1483.67 2014.19 1482.81 L2014.19 1478.3 Q2016.13 1479.43 2018.45 1480.01 Q2020.76 1480.59 2023.29 1480.59 Q2027.68 1480.59 2029.98 1478.85 Q2032.29 1477.12 2032.29 1473.81 Q2032.29 1470.75 2030.14 1469.04 Q2028.01 1467.3 2024.19 1467.3 L2020.16 1467.3 L2020.16 1463.46 L2024.37 1463.46 Q2027.82 1463.46 2029.65 1462.09 Q2031.48 1460.7 2031.48 1458.11 Q2031.48 1455.45 2029.58 1454.04 Q2027.71 1452.6 2024.19 1452.6 Q2022.27 1452.6 2020.07 1453.02 Q2017.87 1453.44 2015.23 1454.31 L2015.23 1450.15 Q2017.89 1449.41 2020.21 1449.04 Q2022.55 1448.67 2024.61 1448.67 Q2029.93 1448.67 2033.03 1451.1 Q2036.13 1453.5 2036.13 1457.63 Q2036.13 1460.5 2034.49 1462.49 Q2032.85 1464.45 2029.81 1465.22 Z\" fill=\"#000000\" fill-rule=\"evenodd\" fill-opacity=\"1\" /><path clip-path=\"url(#clip790)\" d=\"M 0 0 M1258.24 1518.52 L1264.1 1518.52 L1264.1 1568.04 L1258.24 1568.04 L1258.24 1518.52 Z\" fill=\"#000000\" fill-rule=\"evenodd\" fill-opacity=\"1\" /><path clip-path=\"url(#clip790)\" d=\"M 0 0 M1299.88 1546.53 L1299.88 1568.04 L1294.02 1568.04 L1294.02 1546.72 Q1294.02 1541.66 1292.05 1539.14 Q1290.07 1536.63 1286.13 1536.63 Q1281.38 1536.63 1278.65 1539.65 Q1275.91 1542.68 1275.91 1547.9 L1275.91 1568.04 L1270.02 1568.04 L1270.02 1532.4 L1275.91 1532.4 L1275.91 1537.93 Q1278.01 1534.72 1280.84 1533.13 Q1283.71 1531.54 1287.43 1531.54 Q1293.57 1531.54 1296.72 1535.36 Q1299.88 1539.14 1299.88 1546.53 Z\" fill=\"#000000\" fill-rule=\"evenodd\" fill-opacity=\"1\" /><path clip-path=\"url(#clip790)\" d=\"M 0 0 M1305.8 1518.52 L1311.68 1518.52 L1311.68 1547.77 L1329.16 1532.4 L1336.64 1532.4 L1317.73 1549.07 L1337.43 1568.04 L1329.79 1568.04 L1311.68 1550.63 L1311.68 1568.04 L1305.8 1568.04 L1305.8 1518.52 Z\" fill=\"#000000\" fill-rule=\"evenodd\" fill-opacity=\"1\" /><polyline clip-path=\"url(#clip792)\" style=\"stroke:#000000; stroke-width:2; stroke-opacity:0.1; fill:none\" points=\"\n",
       "  242.922,1359.09 2352.76,1359.09 \n",
       "  \"/>\n",
       "<polyline clip-path=\"url(#clip792)\" style=\"stroke:#000000; stroke-width:2; stroke-opacity:0.1; fill:none\" points=\"\n",
       "  242.922,1172.78 2352.76,1172.78 \n",
       "  \"/>\n",
       "<polyline clip-path=\"url(#clip792)\" style=\"stroke:#000000; stroke-width:2; stroke-opacity:0.1; fill:none\" points=\"\n",
       "  242.922,986.466 2352.76,986.466 \n",
       "  \"/>\n",
       "<polyline clip-path=\"url(#clip792)\" style=\"stroke:#000000; stroke-width:2; stroke-opacity:0.1; fill:none\" points=\"\n",
       "  242.922,800.153 2352.76,800.153 \n",
       "  \"/>\n",
       "<polyline clip-path=\"url(#clip792)\" style=\"stroke:#000000; stroke-width:2; stroke-opacity:0.1; fill:none\" points=\"\n",
       "  242.922,613.841 2352.76,613.841 \n",
       "  \"/>\n",
       "<polyline clip-path=\"url(#clip792)\" style=\"stroke:#000000; stroke-width:2; stroke-opacity:0.1; fill:none\" points=\"\n",
       "  242.922,427.528 2352.76,427.528 \n",
       "  \"/>\n",
       "<polyline clip-path=\"url(#clip792)\" style=\"stroke:#000000; stroke-width:2; stroke-opacity:0.1; fill:none\" points=\"\n",
       "  242.922,241.215 2352.76,241.215 \n",
       "  \"/>\n",
       "<polyline clip-path=\"url(#clip790)\" style=\"stroke:#000000; stroke-width:4; stroke-opacity:1; fill:none\" points=\"\n",
       "  242.922,1423.18 242.922,123.472 \n",
       "  \"/>\n",
       "<polyline clip-path=\"url(#clip790)\" style=\"stroke:#000000; stroke-width:4; stroke-opacity:1; fill:none\" points=\"\n",
       "  242.922,1359.09 268.24,1359.09 \n",
       "  \"/>\n",
       "<polyline clip-path=\"url(#clip790)\" style=\"stroke:#000000; stroke-width:4; stroke-opacity:1; fill:none\" points=\"\n",
       "  242.922,1172.78 268.24,1172.78 \n",
       "  \"/>\n",
       "<polyline clip-path=\"url(#clip790)\" style=\"stroke:#000000; stroke-width:4; stroke-opacity:1; fill:none\" points=\"\n",
       "  242.922,986.466 268.24,986.466 \n",
       "  \"/>\n",
       "<polyline clip-path=\"url(#clip790)\" style=\"stroke:#000000; stroke-width:4; stroke-opacity:1; fill:none\" points=\"\n",
       "  242.922,800.153 268.24,800.153 \n",
       "  \"/>\n",
       "<polyline clip-path=\"url(#clip790)\" style=\"stroke:#000000; stroke-width:4; stroke-opacity:1; fill:none\" points=\"\n",
       "  242.922,613.841 268.24,613.841 \n",
       "  \"/>\n",
       "<polyline clip-path=\"url(#clip790)\" style=\"stroke:#000000; stroke-width:4; stroke-opacity:1; fill:none\" points=\"\n",
       "  242.922,427.528 268.24,427.528 \n",
       "  \"/>\n",
       "<polyline clip-path=\"url(#clip790)\" style=\"stroke:#000000; stroke-width:4; stroke-opacity:1; fill:none\" points=\"\n",
       "  242.922,241.215 268.24,241.215 \n",
       "  \"/>\n",
       "<path clip-path=\"url(#clip790)\" d=\"M 0 0 M115.163 1359.54 L144.839 1359.54 L144.839 1363.48 L115.163 1363.48 L115.163 1359.54 Z\" fill=\"#000000\" fill-rule=\"evenodd\" fill-opacity=\"1\" /><path clip-path=\"url(#clip790)\" d=\"M 0 0 M148.728 1341.81 L170.95 1341.81 L170.95 1343.8 L158.403 1376.37 L153.519 1376.37 L165.325 1345.75 L148.728 1345.75 L148.728 1341.81 Z\" fill=\"#000000\" fill-rule=\"evenodd\" fill-opacity=\"1\" /><path clip-path=\"url(#clip790)\" d=\"M 0 0 M176.019 1370.49 L180.903 1370.49 L180.903 1376.37 L176.019 1376.37 L176.019 1370.49 Z\" fill=\"#000000\" fill-rule=\"evenodd\" fill-opacity=\"1\" /><path clip-path=\"url(#clip790)\" d=\"M 0 0 M186.019 1341.81 L204.375 1341.81 L204.375 1345.75 L190.301 1345.75 L190.301 1354.22 Q191.32 1353.87 192.338 1353.71 Q193.357 1353.52 194.375 1353.52 Q200.162 1353.52 203.542 1356.7 Q206.922 1359.87 206.922 1365.28 Q206.922 1370.86 203.449 1373.96 Q199.977 1377.04 193.658 1377.04 Q191.482 1377.04 189.213 1376.67 Q186.968 1376.3 184.561 1375.56 L184.561 1370.86 Q186.644 1372 188.866 1372.55 Q191.088 1373.11 193.565 1373.11 Q197.57 1373.11 199.908 1371 Q202.246 1368.89 202.246 1365.28 Q202.246 1361.67 199.908 1359.57 Q197.57 1357.46 193.565 1357.46 Q191.69 1357.46 189.815 1357.88 Q187.963 1358.29 186.019 1359.17 L186.019 1341.81 Z\" fill=\"#000000\" fill-rule=\"evenodd\" fill-opacity=\"1\" /><path clip-path=\"url(#clip790)\" d=\"M 0 0 M114.26 1173.23 L143.936 1173.23 L143.936 1177.17 L114.26 1177.17 L114.26 1173.23 Z\" fill=\"#000000\" fill-rule=\"evenodd\" fill-opacity=\"1\" /><path clip-path=\"url(#clip790)\" d=\"M 0 0 M149.052 1155.5 L167.408 1155.5 L167.408 1159.43 L153.334 1159.43 L153.334 1167.91 Q154.353 1167.56 155.371 1167.4 Q156.39 1167.21 157.408 1167.21 Q163.195 1167.21 166.575 1170.38 Q169.954 1173.55 169.954 1178.97 Q169.954 1184.55 166.482 1187.65 Q163.01 1190.73 156.69 1190.73 Q154.515 1190.73 152.246 1190.36 Q150.001 1189.99 147.593 1189.25 L147.593 1184.55 Q149.677 1185.68 151.899 1186.24 Q154.121 1186.79 156.598 1186.79 Q160.603 1186.79 162.94 1184.69 Q165.278 1182.58 165.278 1178.97 Q165.278 1175.36 162.94 1173.25 Q160.603 1171.15 156.598 1171.15 Q154.723 1171.15 152.848 1171.56 Q150.996 1171.98 149.052 1172.86 L149.052 1155.5 Z\" fill=\"#000000\" fill-rule=\"evenodd\" fill-opacity=\"1\" /><path clip-path=\"url(#clip790)\" d=\"M 0 0 M175.024 1184.18 L179.908 1184.18 L179.908 1190.06 L175.024 1190.06 L175.024 1184.18 Z\" fill=\"#000000\" fill-rule=\"evenodd\" fill-opacity=\"1\" /><path clip-path=\"url(#clip790)\" d=\"M 0 0 M194.977 1158.58 Q191.366 1158.58 189.538 1162.14 Q187.732 1165.68 187.732 1172.81 Q187.732 1179.92 189.538 1183.48 Q191.366 1187.03 194.977 1187.03 Q198.612 1187.03 200.417 1183.48 Q202.246 1179.92 202.246 1172.81 Q202.246 1165.68 200.417 1162.14 Q198.612 1158.58 194.977 1158.58 M194.977 1154.87 Q200.787 1154.87 203.843 1159.48 Q206.922 1164.06 206.922 1172.81 Q206.922 1181.54 203.843 1186.15 Q200.787 1190.73 194.977 1190.73 Q189.167 1190.73 186.088 1186.15 Q183.033 1181.54 183.033 1172.81 Q183.033 1164.06 186.088 1159.48 Q189.167 1154.87 194.977 1154.87 Z\" fill=\"#000000\" fill-rule=\"evenodd\" fill-opacity=\"1\" /><path clip-path=\"url(#clip790)\" d=\"M 0 0 M115.857 986.917 L145.533 986.917 L145.533 990.853 L115.857 990.853 L115.857 986.917 Z\" fill=\"#000000\" fill-rule=\"evenodd\" fill-opacity=\"1\" /><path clip-path=\"url(#clip790)\" d=\"M 0 0 M154.63 999.811 L170.95 999.811 L170.95 1003.75 L149.005 1003.75 L149.005 999.811 Q151.667 997.056 156.251 992.427 Q160.857 987.774 162.038 986.431 Q164.283 983.908 165.163 982.172 Q166.065 980.413 166.065 978.723 Q166.065 975.968 164.121 974.232 Q162.2 972.496 159.098 972.496 Q156.899 972.496 154.445 973.26 Q152.015 974.024 149.237 975.575 L149.237 970.853 Q152.061 969.718 154.515 969.14 Q156.968 968.561 159.005 968.561 Q164.376 968.561 167.57 971.246 Q170.764 973.931 170.764 978.422 Q170.764 980.552 169.954 982.473 Q169.167 984.371 167.061 986.964 Q166.482 987.635 163.38 990.853 Q160.278 994.047 154.63 999.811 Z\" fill=\"#000000\" fill-rule=\"evenodd\" fill-opacity=\"1\" /><path clip-path=\"url(#clip790)\" d=\"M 0 0 M176.019 997.866 L180.903 997.866 L180.903 1003.75 L176.019 1003.75 L176.019 997.866 Z\" fill=\"#000000\" fill-rule=\"evenodd\" fill-opacity=\"1\" /><path clip-path=\"url(#clip790)\" d=\"M 0 0 M186.019 969.186 L204.375 969.186 L204.375 973.121 L190.301 973.121 L190.301 981.593 Q191.32 981.246 192.338 981.084 Q193.357 980.899 194.375 980.899 Q200.162 980.899 203.542 984.07 Q206.922 987.241 206.922 992.658 Q206.922 998.237 203.449 1001.34 Q199.977 1004.42 193.658 1004.42 Q191.482 1004.42 189.213 1004.05 Q186.968 1003.68 184.561 1002.94 L184.561 998.237 Q186.644 999.371 188.866 999.927 Q191.088 1000.48 193.565 1000.48 Q197.57 1000.48 199.908 998.376 Q202.246 996.269 202.246 992.658 Q202.246 989.047 199.908 986.941 Q197.57 984.834 193.565 984.834 Q191.69 984.834 189.815 985.251 Q187.963 985.667 186.019 986.547 L186.019 969.186 Z\" fill=\"#000000\" fill-rule=\"evenodd\" fill-opacity=\"1\" /><path clip-path=\"url(#clip790)\" d=\"M 0 0 M158.01 785.952 Q154.399 785.952 152.57 789.517 Q150.765 793.058 150.765 800.188 Q150.765 807.294 152.57 810.859 Q154.399 814.401 158.01 814.401 Q161.644 814.401 163.45 810.859 Q165.278 807.294 165.278 800.188 Q165.278 793.058 163.45 789.517 Q161.644 785.952 158.01 785.952 M158.01 782.248 Q163.82 782.248 166.876 786.855 Q169.954 791.438 169.954 800.188 Q169.954 808.915 166.876 813.521 Q163.82 818.105 158.01 818.105 Q152.2 818.105 149.121 813.521 Q146.066 808.915 146.066 800.188 Q146.066 791.438 149.121 786.855 Q152.2 782.248 158.01 782.248 Z\" fill=\"#000000\" fill-rule=\"evenodd\" fill-opacity=\"1\" /><path clip-path=\"url(#clip790)\" d=\"M 0 0 M175.024 811.554 L179.908 811.554 L179.908 817.433 L175.024 817.433 L175.024 811.554 Z\" fill=\"#000000\" fill-rule=\"evenodd\" fill-opacity=\"1\" /><path clip-path=\"url(#clip790)\" d=\"M 0 0 M194.977 785.952 Q191.366 785.952 189.538 789.517 Q187.732 793.058 187.732 800.188 Q187.732 807.294 189.538 810.859 Q191.366 814.401 194.977 814.401 Q198.612 814.401 200.417 810.859 Q202.246 807.294 202.246 800.188 Q202.246 793.058 200.417 789.517 Q198.612 785.952 194.977 785.952 M194.977 782.248 Q200.787 782.248 203.843 786.855 Q206.922 791.438 206.922 800.188 Q206.922 808.915 203.843 813.521 Q200.787 818.105 194.977 818.105 Q189.167 818.105 186.088 813.521 Q183.033 808.915 183.033 800.188 Q183.033 791.438 186.088 786.855 Q189.167 782.248 194.977 782.248 Z\" fill=\"#000000\" fill-rule=\"evenodd\" fill-opacity=\"1\" /><path clip-path=\"url(#clip790)\" d=\"M 0 0 M154.63 627.186 L170.95 627.186 L170.95 631.121 L149.005 631.121 L149.005 627.186 Q151.667 624.431 156.251 619.801 Q160.857 615.149 162.038 613.806 Q164.283 611.283 165.163 609.547 Q166.065 607.787 166.065 606.098 Q166.065 603.343 164.121 601.607 Q162.2 599.871 159.098 599.871 Q156.899 599.871 154.445 600.635 Q152.015 601.399 149.237 602.95 L149.237 598.227 Q152.061 597.093 154.515 596.514 Q156.968 595.936 159.005 595.936 Q164.376 595.936 167.57 598.621 Q170.764 601.306 170.764 605.797 Q170.764 607.926 169.954 609.848 Q169.167 611.746 167.061 614.338 Q166.482 615.01 163.38 618.227 Q160.278 621.422 154.63 627.186 Z\" fill=\"#000000\" fill-rule=\"evenodd\" fill-opacity=\"1\" /><path clip-path=\"url(#clip790)\" d=\"M 0 0 M176.019 625.241 L180.903 625.241 L180.903 631.121 L176.019 631.121 L176.019 625.241 Z\" fill=\"#000000\" fill-rule=\"evenodd\" fill-opacity=\"1\" /><path clip-path=\"url(#clip790)\" d=\"M 0 0 M186.019 596.561 L204.375 596.561 L204.375 600.496 L190.301 600.496 L190.301 608.968 Q191.32 608.621 192.338 608.459 Q193.357 608.274 194.375 608.274 Q200.162 608.274 203.542 611.445 Q206.922 614.616 206.922 620.033 Q206.922 625.611 203.449 628.713 Q199.977 631.792 193.658 631.792 Q191.482 631.792 189.213 631.422 Q186.968 631.051 184.561 630.31 L184.561 625.611 Q186.644 626.746 188.866 627.301 Q191.088 627.857 193.565 627.857 Q197.57 627.857 199.908 625.75 Q202.246 623.644 202.246 620.033 Q202.246 616.422 199.908 614.315 Q197.57 612.209 193.565 612.209 Q191.69 612.209 189.815 612.625 Q187.963 613.042 186.019 613.922 L186.019 596.561 Z\" fill=\"#000000\" fill-rule=\"evenodd\" fill-opacity=\"1\" /><path clip-path=\"url(#clip790)\" d=\"M 0 0 M149.052 410.248 L167.408 410.248 L167.408 414.183 L153.334 414.183 L153.334 422.655 Q154.353 422.308 155.371 422.146 Q156.39 421.961 157.408 421.961 Q163.195 421.961 166.575 425.132 Q169.954 428.303 169.954 433.72 Q169.954 439.299 166.482 442.401 Q163.01 445.479 156.69 445.479 Q154.515 445.479 152.246 445.109 Q150.001 444.739 147.593 443.998 L147.593 439.299 Q149.677 440.433 151.899 440.989 Q154.121 441.544 156.598 441.544 Q160.603 441.544 162.94 439.438 Q165.278 437.331 165.278 433.72 Q165.278 430.109 162.94 428.003 Q160.603 425.896 156.598 425.896 Q154.723 425.896 152.848 426.313 Q150.996 426.729 149.052 427.609 L149.052 410.248 Z\" fill=\"#000000\" fill-rule=\"evenodd\" fill-opacity=\"1\" /><path clip-path=\"url(#clip790)\" d=\"M 0 0 M175.024 438.928 L179.908 438.928 L179.908 444.808 L175.024 444.808 L175.024 438.928 Z\" fill=\"#000000\" fill-rule=\"evenodd\" fill-opacity=\"1\" /><path clip-path=\"url(#clip790)\" d=\"M 0 0 M194.977 413.327 Q191.366 413.327 189.538 416.891 Q187.732 420.433 187.732 427.563 Q187.732 434.669 189.538 438.234 Q191.366 441.776 194.977 441.776 Q198.612 441.776 200.417 438.234 Q202.246 434.669 202.246 427.563 Q202.246 420.433 200.417 416.891 Q198.612 413.327 194.977 413.327 M194.977 409.623 Q200.787 409.623 203.843 414.229 Q206.922 418.813 206.922 427.563 Q206.922 436.29 203.843 440.896 Q200.787 445.479 194.977 445.479 Q189.167 445.479 186.088 440.896 Q183.033 436.29 183.033 427.563 Q183.033 418.813 186.088 414.229 Q189.167 409.623 194.977 409.623 Z\" fill=\"#000000\" fill-rule=\"evenodd\" fill-opacity=\"1\" /><path clip-path=\"url(#clip790)\" d=\"M 0 0 M148.728 223.935 L170.95 223.935 L170.95 225.926 L158.403 258.495 L153.519 258.495 L165.325 227.871 L148.728 227.871 L148.728 223.935 Z\" fill=\"#000000\" fill-rule=\"evenodd\" fill-opacity=\"1\" /><path clip-path=\"url(#clip790)\" d=\"M 0 0 M176.019 252.616 L180.903 252.616 L180.903 258.495 L176.019 258.495 L176.019 252.616 Z\" fill=\"#000000\" fill-rule=\"evenodd\" fill-opacity=\"1\" /><path clip-path=\"url(#clip790)\" d=\"M 0 0 M186.019 223.935 L204.375 223.935 L204.375 227.871 L190.301 227.871 L190.301 236.343 Q191.32 235.995 192.338 235.833 Q193.357 235.648 194.375 235.648 Q200.162 235.648 203.542 238.82 Q206.922 241.991 206.922 247.407 Q206.922 252.986 203.449 256.088 Q199.977 259.167 193.658 259.167 Q191.482 259.167 189.213 258.796 Q186.968 258.426 184.561 257.685 L184.561 252.986 Q186.644 254.12 188.866 254.676 Q191.088 255.231 193.565 255.231 Q197.57 255.231 199.908 253.125 Q202.246 251.019 202.246 247.407 Q202.246 243.796 199.908 241.69 Q197.57 239.583 193.565 239.583 Q191.69 239.583 189.815 240 Q187.963 240.417 186.019 241.296 L186.019 223.935 Z\" fill=\"#000000\" fill-rule=\"evenodd\" fill-opacity=\"1\" /><path clip-path=\"url(#clip790)\" d=\"M 0 0 M14.479 851.481 L14.479 845.624 L64.0042 845.624 L64.0042 851.481 L14.479 851.481 Z\" fill=\"#000000\" fill-rule=\"evenodd\" fill-opacity=\"1\" /><path clip-path=\"url(#clip790)\" d=\"M 0 0 M42.4881 809.849 L64.0042 809.849 L64.0042 815.706 L42.679 815.706 Q37.6183 815.706 35.1038 817.679 Q32.5894 819.652 32.5894 823.599 Q32.5894 828.342 35.6131 831.079 Q38.6368 833.816 43.8567 833.816 L64.0042 833.816 L64.0042 839.704 L28.3562 839.704 L28.3562 833.816 L33.8944 833.816 Q30.6797 831.715 29.0883 828.883 Q27.4968 826.018 27.4968 822.294 Q27.4968 816.151 31.3163 813 Q35.1038 809.849 42.4881 809.849 Z\" fill=\"#000000\" fill-rule=\"evenodd\" fill-opacity=\"1\" /><path clip-path=\"url(#clip790)\" d=\"M 0 0 M21.7677 797.022 L39.6235 797.022 L39.6235 788.938 Q39.6235 784.45 37.3 781.999 Q34.9765 779.548 30.6797 779.548 Q26.4147 779.548 24.0912 781.999 Q21.7677 784.45 21.7677 788.938 L21.7677 797.022 M16.4842 803.452 L16.4842 788.938 Q16.4842 780.949 20.1126 776.875 Q23.7092 772.769 30.6797 772.769 Q37.7138 772.769 41.3104 776.875 Q44.907 780.949 44.907 788.938 L44.907 797.022 L64.0042 797.022 L64.0042 803.452 L16.4842 803.452 Z\" fill=\"#000000\" fill-rule=\"evenodd\" fill-opacity=\"1\" /><path clip-path=\"url(#clip790)\" d=\"M 0 0 M14.5426 752.558 Q21.8632 756.823 29.0246 758.892 Q36.186 760.961 43.5384 760.961 Q50.8908 760.961 58.1159 758.892 Q65.3091 756.791 72.5979 752.558 L72.5979 757.65 Q65.1182 762.425 57.8931 764.812 Q50.668 767.167 43.5384 767.167 Q36.4406 767.167 29.2474 764.812 Q22.0542 762.457 14.5426 757.65 L14.5426 752.558 Z\" fill=\"#000000\" fill-rule=\"evenodd\" fill-opacity=\"1\" /><path clip-path=\"url(#clip790)\" d=\"M 0 0 M14.479 746.638 L14.479 740.749 L43.7294 740.749 L28.3562 723.276 L28.3562 715.796 L45.0344 734.702 L64.0042 715 L64.0042 722.639 L46.5939 740.749 L64.0042 740.749 L64.0042 746.638 L14.479 746.638 Z\" fill=\"#000000\" fill-rule=\"evenodd\" fill-opacity=\"1\" /><path clip-path=\"url(#clip790)\" d=\"M 0 0 M14.5426 709.78 L14.5426 704.688 Q22.0542 699.913 29.2474 697.558 Q36.4406 695.171 43.5384 695.171 Q50.668 695.171 57.8931 697.558 Q65.1182 699.913 72.5979 704.688 L72.5979 709.78 Q65.3091 705.547 58.1159 703.478 Q50.8908 701.378 43.5384 701.378 Q36.186 701.378 29.0246 703.478 Q21.8632 705.547 14.5426 709.78 Z\" fill=\"#000000\" fill-rule=\"evenodd\" fill-opacity=\"1\" /><path clip-path=\"url(#clip790)\" d=\"M 0 0 M785.46 12.096 L820.217 12.096 L820.217 18.9825 L793.643 18.9825 L793.643 36.8065 L817.624 36.8065 L817.624 43.6931 L793.643 43.6931 L793.643 72.576 L785.46 72.576 L785.46 12.096 Z\" fill=\"#000000\" fill-rule=\"evenodd\" fill-opacity=\"1\" /><path clip-path=\"url(#clip790)\" d=\"M 0 0 M822.729 54.671 L822.729 27.2059 L830.182 27.2059 L830.182 54.3874 Q830.182 60.8284 832.694 64.0691 Q835.205 67.2693 840.228 67.2693 Q846.264 67.2693 849.748 63.421 Q853.272 59.5726 853.272 52.9291 L853.272 27.2059 L860.726 27.2059 L860.726 72.576 L853.272 72.576 L853.272 65.6084 Q850.558 69.7404 846.953 71.7658 Q843.388 73.7508 838.649 73.7508 Q830.83 73.7508 826.779 68.8897 Q822.729 64.0286 822.729 54.671 M841.484 26.1121 L841.484 26.1121 Z\" fill=\"#000000\" fill-rule=\"evenodd\" fill-opacity=\"1\" /><path clip-path=\"url(#clip790)\" d=\"M 0 0 M868.544 9.54393 L875.998 9.54393 L875.998 72.576 L868.544 72.576 L868.544 9.54393 Z\" fill=\"#000000\" fill-rule=\"evenodd\" fill-opacity=\"1\" /><path clip-path=\"url(#clip790)\" d=\"M 0 0 M883.816 9.54393 L891.27 9.54393 L891.27 72.576 L883.816 72.576 L883.816 9.54393 Z\" fill=\"#000000\" fill-rule=\"evenodd\" fill-opacity=\"1\" /><path clip-path=\"url(#clip790)\" d=\"M 0 0 M944.701 16.7545 L944.701 25.383 Q940.569 21.5346 935.87 19.6307 Q931.212 17.7268 925.946 17.7268 Q915.575 17.7268 910.066 24.0867 Q904.557 30.4061 904.557 42.3968 Q904.557 54.3469 910.066 60.7069 Q915.575 67.0263 925.946 67.0263 Q931.212 67.0263 935.87 65.1223 Q940.569 63.2184 944.701 59.3701 L944.701 67.9175 Q940.407 70.8341 935.587 72.2924 Q930.807 73.7508 925.459 73.7508 Q911.727 73.7508 903.828 65.3654 Q895.928 56.9395 895.928 42.3968 Q895.928 27.8135 903.828 19.4281 Q911.727 11.0023 925.459 11.0023 Q930.888 11.0023 935.668 12.4606 Q940.488 13.8784 944.701 16.7545 Z\" fill=\"#000000\" fill-rule=\"evenodd\" fill-opacity=\"1\" /><path clip-path=\"url(#clip790)\" d=\"M 0 0 M970.1 32.4315 Q964.105 32.4315 960.621 37.1306 Q957.138 41.7891 957.138 49.9314 Q957.138 58.0738 960.581 62.7728 Q964.065 67.4314 970.1 67.4314 Q976.055 67.4314 979.539 62.7323 Q983.023 58.0333 983.023 49.9314 Q983.023 41.8701 979.539 37.1711 Q976.055 32.4315 970.1 32.4315 M970.1 26.1121 Q979.823 26.1121 985.372 32.4315 Q990.922 38.7509 990.922 49.9314 Q990.922 61.0714 985.372 67.4314 Q979.823 73.7508 970.1 73.7508 Q960.338 73.7508 954.788 67.4314 Q949.279 61.0714 949.279 49.9314 Q949.279 38.7509 954.788 32.4315 Q960.338 26.1121 970.1 26.1121 Z\" fill=\"#000000\" fill-rule=\"evenodd\" fill-opacity=\"1\" /><path clip-path=\"url(#clip790)\" d=\"M 0 0 M993.393 27.2059 L1001.29 27.2059 L1015.47 65.2844 L1029.65 27.2059 L1037.55 27.2059 L1020.53 72.576 L1010.41 72.576 L993.393 27.2059 Z\" fill=\"#000000\" fill-rule=\"evenodd\" fill-opacity=\"1\" /><path clip-path=\"url(#clip790)\" d=\"M 0 0 M1072.06 12.096 L1083.08 12.096 L1109.9 62.6918 L1109.9 12.096 L1117.84 12.096 L1117.84 72.576 L1106.82 72.576 L1080 21.9802 L1080 72.576 L1072.06 72.576 L1072.06 12.096 Z\" fill=\"#000000\" fill-rule=\"evenodd\" fill-opacity=\"1\" /><path clip-path=\"url(#clip790)\" d=\"M 0 0 M1143.24 32.4315 Q1137.24 32.4315 1133.76 37.1306 Q1130.27 41.7891 1130.27 49.9314 Q1130.27 58.0738 1133.72 62.7728 Q1137.2 67.4314 1143.24 67.4314 Q1149.19 67.4314 1152.67 62.7323 Q1156.16 58.0333 1156.16 49.9314 Q1156.16 41.8701 1152.67 37.1711 Q1149.19 32.4315 1143.24 32.4315 M1143.24 26.1121 Q1152.96 26.1121 1158.51 32.4315 Q1164.06 38.7509 1164.06 49.9314 Q1164.06 61.0714 1158.51 67.4314 Q1152.96 73.7508 1143.24 73.7508 Q1133.47 73.7508 1127.92 67.4314 Q1122.41 61.0714 1122.41 49.9314 Q1122.41 38.7509 1127.92 32.4315 Q1133.47 26.1121 1143.24 26.1121 Z\" fill=\"#000000\" fill-rule=\"evenodd\" fill-opacity=\"1\" /><path clip-path=\"url(#clip790)\" d=\"M 0 0 M1171.88 27.2059 L1179.33 27.2059 L1179.33 72.576 L1171.88 72.576 L1171.88 27.2059 M1171.88 9.54393 L1179.33 9.54393 L1179.33 18.9825 L1171.88 18.9825 L1171.88 9.54393 Z\" fill=\"#000000\" fill-rule=\"evenodd\" fill-opacity=\"1\" /><path clip-path=\"url(#clip790)\" d=\"M 0 0 M1216.07 28.5427 L1216.07 35.5912 Q1212.91 33.9709 1209.51 33.1607 Q1206.11 32.3505 1202.46 32.3505 Q1196.91 32.3505 1194.12 34.0519 Q1191.36 35.7533 1191.36 39.156 Q1191.36 41.7486 1193.35 43.2475 Q1195.33 44.7058 1201.33 46.0426 L1203.88 46.6097 Q1211.82 48.3111 1215.14 51.4303 Q1218.5 54.509 1218.5 60.0587 Q1218.5 66.3781 1213.48 70.0644 Q1208.5 73.7508 1199.75 73.7508 Q1196.1 73.7508 1192.13 73.0216 Q1188.2 72.3329 1183.83 70.9151 L1183.83 63.2184 Q1187.96 65.3654 1191.97 66.4591 Q1195.98 67.5124 1199.91 67.5124 Q1205.17 67.5124 1208.01 65.73 Q1210.85 63.9071 1210.85 60.6258 Q1210.85 57.5877 1208.78 55.9673 Q1206.75 54.3469 1199.83 52.8481 L1197.23 52.2405 Q1190.31 50.7821 1187.23 47.7845 Q1184.15 44.7463 1184.15 39.4801 Q1184.15 33.0797 1188.69 29.5959 Q1193.22 26.1121 1201.57 26.1121 Q1205.7 26.1121 1209.35 26.7198 Q1212.99 27.3274 1216.07 28.5427 Z\" fill=\"#000000\" fill-rule=\"evenodd\" fill-opacity=\"1\" /><path clip-path=\"url(#clip790)\" d=\"M 0 0 M1243.9 32.4315 Q1237.91 32.4315 1234.42 37.1306 Q1230.94 41.7891 1230.94 49.9314 Q1230.94 58.0738 1234.38 62.7728 Q1237.87 67.4314 1243.9 67.4314 Q1249.86 67.4314 1253.34 62.7323 Q1256.82 58.0333 1256.82 49.9314 Q1256.82 41.8701 1253.34 37.1711 Q1249.86 32.4315 1243.9 32.4315 M1243.9 26.1121 Q1253.62 26.1121 1259.17 32.4315 Q1264.72 38.7509 1264.72 49.9314 Q1264.72 61.0714 1259.17 67.4314 Q1253.62 73.7508 1243.9 73.7508 Q1234.14 73.7508 1228.59 67.4314 Q1223.08 61.0714 1223.08 49.9314 Q1223.08 38.7509 1228.59 32.4315 Q1234.14 26.1121 1243.9 26.1121 Z\" fill=\"#000000\" fill-rule=\"evenodd\" fill-opacity=\"1\" /><path clip-path=\"url(#clip790)\" d=\"M 0 0 M1274.44 62.2867 L1282.99 62.2867 L1282.99 72.576 L1274.44 72.576 L1274.44 62.2867 M1274.44 29.6769 L1282.99 29.6769 L1282.99 39.9662 L1274.44 39.9662 L1274.44 29.6769 Z\" fill=\"#000000\" fill-rule=\"evenodd\" fill-opacity=\"1\" /><path clip-path=\"url(#clip790)\" d=\"M 0 0 M1325.69 18.8205 L1325.69 41.5461 L1335.98 41.5461 Q1341.69 41.5461 1344.81 38.5889 Q1347.93 35.6318 1347.93 30.163 Q1347.93 24.7348 1344.81 21.7777 Q1341.69 18.8205 1335.98 18.8205 L1325.69 18.8205 M1317.51 12.096 L1335.98 12.096 Q1346.15 12.096 1351.33 16.714 Q1356.56 21.2916 1356.56 30.163 Q1356.56 39.1155 1351.33 43.6931 Q1346.15 48.2706 1335.98 48.2706 L1325.69 48.2706 L1325.69 72.576 L1317.51 72.576 L1317.51 12.096 Z\" fill=\"#000000\" fill-rule=\"evenodd\" fill-opacity=\"1\" /><path clip-path=\"url(#clip790)\" d=\"M 0 0 M1382.28 9.62495 Q1376.85 18.942 1374.22 28.0566 Q1371.59 37.1711 1371.59 46.5287 Q1371.59 55.8863 1374.22 65.0818 Q1376.89 74.2369 1382.28 83.5134 L1375.8 83.5134 Q1369.72 73.9938 1366.68 64.7983 Q1363.69 55.6027 1363.69 46.5287 Q1363.69 37.4952 1366.68 28.3401 Q1369.68 19.1851 1375.8 9.62495 L1382.28 9.62495 Z\" fill=\"#000000\" fill-rule=\"evenodd\" fill-opacity=\"1\" /><path clip-path=\"url(#clip790)\" d=\"M 0 0 M1389.81 9.54393 L1397.31 9.54393 L1397.31 46.7717 L1419.55 27.2059 L1429.07 27.2059 L1405.01 48.4326 L1430.08 72.576 L1420.36 72.576 L1397.31 50.4176 L1397.31 72.576 L1389.81 72.576 L1389.81 9.54393 Z\" fill=\"#000000\" fill-rule=\"evenodd\" fill-opacity=\"1\" /><path clip-path=\"url(#clip790)\" d=\"M 0 0 M1436.72 9.62495 L1443.21 9.62495 Q1449.28 19.1851 1452.28 28.3401 Q1455.32 37.4952 1455.32 46.5287 Q1455.32 55.6027 1452.28 64.7983 Q1449.28 73.9938 1443.21 83.5134 L1436.72 83.5134 Q1442.11 74.2369 1444.74 65.0818 Q1447.42 55.8863 1447.42 46.5287 Q1447.42 37.1711 1444.74 28.0566 Q1442.11 18.942 1436.72 9.62495 Z\" fill=\"#000000\" fill-rule=\"evenodd\" fill-opacity=\"1\" /><path clip-path=\"url(#clip790)\" d=\"M 0 0 M1507.09 32.4315 Q1501.09 32.4315 1497.61 37.1306 Q1494.13 41.7891 1494.13 49.9314 Q1494.13 58.0738 1497.57 62.7728 Q1501.05 67.4314 1507.09 67.4314 Q1513.04 67.4314 1516.53 62.7323 Q1520.01 58.0333 1520.01 49.9314 Q1520.01 41.8701 1516.53 37.1711 Q1513.04 32.4315 1507.09 32.4315 M1507.09 26.1121 Q1516.81 26.1121 1522.36 32.4315 Q1527.91 38.7509 1527.91 49.9314 Q1527.91 61.0714 1522.36 67.4314 Q1516.81 73.7508 1507.09 73.7508 Q1497.33 73.7508 1491.78 67.4314 Q1486.27 61.0714 1486.27 49.9314 Q1486.27 38.7509 1491.78 32.4315 Q1497.33 26.1121 1507.09 26.1121 Z\" fill=\"#000000\" fill-rule=\"evenodd\" fill-opacity=\"1\" /><path clip-path=\"url(#clip790)\" d=\"M 0 0 M1558.7 9.54393 L1558.7 15.7418 L1551.57 15.7418 Q1547.56 15.7418 1545.98 17.3622 Q1544.44 18.9825 1544.44 23.1955 L1544.44 27.2059 L1556.71 27.2059 L1556.71 32.9987 L1544.44 32.9987 L1544.44 72.576 L1536.94 72.576 L1536.94 32.9987 L1529.81 32.9987 L1529.81 27.2059 L1536.94 27.2059 L1536.94 24.0462 Q1536.94 16.471 1540.47 13.0277 Q1543.99 9.54393 1551.65 9.54393 L1558.7 9.54393 Z\" fill=\"#000000\" fill-rule=\"evenodd\" fill-opacity=\"1\" /><path clip-path=\"url(#clip790)\" d=\"M 0 0 M1593.21 12.096 L1601.39 12.096 L1601.39 72.576 L1593.21 72.576 L1593.21 12.096 Z\" fill=\"#000000\" fill-rule=\"evenodd\" fill-opacity=\"1\" /><path clip-path=\"url(#clip790)\" d=\"M 0 0 M1644.54 35.9153 Q1647.33 30.8922 1651.22 28.5022 Q1655.11 26.1121 1660.37 26.1121 Q1667.46 26.1121 1671.31 31.0947 Q1675.16 36.0368 1675.16 45.1919 L1675.16 72.576 L1667.67 72.576 L1667.67 45.4349 Q1667.67 38.913 1665.36 35.7533 Q1663.05 32.5936 1658.31 32.5936 Q1652.52 32.5936 1649.15 36.4419 Q1645.79 40.2903 1645.79 46.9338 L1645.79 72.576 L1638.3 72.576 L1638.3 45.4349 Q1638.3 38.8725 1635.99 35.7533 Q1633.68 32.5936 1628.86 32.5936 Q1623.15 32.5936 1619.78 36.4824 Q1616.42 40.3308 1616.42 46.9338 L1616.42 72.576 L1608.93 72.576 L1608.93 27.2059 L1616.42 27.2059 L1616.42 34.2544 Q1618.97 30.082 1622.54 28.0971 Q1626.1 26.1121 1631.01 26.1121 Q1635.95 26.1121 1639.39 28.6237 Q1642.87 31.1352 1644.54 35.9153 Z\" fill=\"#000000\" fill-rule=\"evenodd\" fill-opacity=\"1\" /><path clip-path=\"url(#clip790)\" d=\"M 0 0 M1703.6 49.7694 Q1694.56 49.7694 1691.08 51.8354 Q1687.6 53.9013 1687.6 58.8839 Q1687.6 62.8538 1690.19 65.2034 Q1692.82 67.5124 1697.32 67.5124 Q1703.52 67.5124 1707.24 63.1374 Q1711.01 58.7219 1711.01 51.4303 L1711.01 49.7694 L1703.6 49.7694 M1718.46 46.6907 L1718.46 72.576 L1711.01 72.576 L1711.01 65.6895 Q1708.46 69.8214 1704.65 71.8063 Q1700.84 73.7508 1695.33 73.7508 Q1688.37 73.7508 1684.23 69.8619 Q1680.14 65.9325 1680.14 59.3701 Q1680.14 51.7138 1685.25 47.825 Q1690.39 43.9361 1700.56 43.9361 L1711.01 43.9361 L1711.01 43.2069 Q1711.01 38.0623 1707.61 35.2672 Q1704.25 32.4315 1698.13 32.4315 Q1694.24 32.4315 1690.55 33.3632 Q1686.87 34.295 1683.46 36.1584 L1683.46 29.2718 Q1687.56 27.692 1691.4 26.9223 Q1695.25 26.1121 1698.9 26.1121 Q1708.74 26.1121 1713.6 31.2163 Q1718.46 36.3204 1718.46 46.6907 Z\" fill=\"#000000\" fill-rule=\"evenodd\" fill-opacity=\"1\" /><path clip-path=\"url(#clip790)\" d=\"M 0 0 M1756.14 49.3643 Q1756.14 41.2625 1752.78 36.8065 Q1749.45 32.3505 1743.42 32.3505 Q1737.42 32.3505 1734.06 36.8065 Q1730.74 41.2625 1730.74 49.3643 Q1730.74 57.4256 1734.06 61.8816 Q1737.42 66.3376 1743.42 66.3376 Q1749.45 66.3376 1752.78 61.8816 Q1756.14 57.4256 1756.14 49.3643 M1763.59 66.9452 Q1763.59 78.5308 1758.45 84.1616 Q1753.3 89.8329 1742.69 89.8329 Q1738.76 89.8329 1735.28 89.2252 Q1731.79 88.6581 1728.51 87.4428 L1728.51 80.1917 Q1731.79 81.9741 1734.99 82.8248 Q1738.19 83.6755 1741.51 83.6755 Q1748.85 83.6755 1752.49 79.8271 Q1756.14 76.0193 1756.14 68.282 L1756.14 64.5957 Q1753.83 68.6061 1750.22 70.5911 Q1746.62 72.576 1741.6 72.576 Q1733.25 72.576 1728.15 66.2161 Q1723.04 59.8562 1723.04 49.3643 Q1723.04 38.832 1728.15 32.472 Q1733.25 26.1121 1741.6 26.1121 Q1746.62 26.1121 1750.22 28.0971 Q1753.83 30.082 1756.14 34.0924 L1756.14 27.2059 L1763.59 27.2059 L1763.59 66.9452 Z\" fill=\"#000000\" fill-rule=\"evenodd\" fill-opacity=\"1\" /><path clip-path=\"url(#clip790)\" d=\"M 0 0 M1810.22 48.0275 L1810.22 51.6733 L1775.95 51.6733 Q1776.43 59.3701 1780.56 63.421 Q1784.74 67.4314 1792.15 67.4314 Q1796.44 67.4314 1800.45 66.3781 Q1804.51 65.3249 1808.48 63.2184 L1808.48 70.267 Q1804.47 71.9684 1800.25 72.8596 Q1796.04 73.7508 1791.7 73.7508 Q1780.85 73.7508 1774.49 67.4314 Q1768.17 61.1119 1768.17 50.3365 Q1768.17 39.1965 1774.16 32.6746 Q1780.2 26.1121 1790.41 26.1121 Q1799.56 26.1121 1804.87 32.0264 Q1810.22 37.9003 1810.22 48.0275 M1802.76 45.84 Q1802.68 39.7232 1799.32 36.0774 Q1796 32.4315 1790.49 32.4315 Q1784.25 32.4315 1780.48 35.9558 Q1776.76 39.4801 1776.19 45.8805 L1802.76 45.84 Z\" fill=\"#000000\" fill-rule=\"evenodd\" fill-opacity=\"1\" /><polyline clip-path=\"url(#clip792)\" style=\"stroke:#009af9; stroke-width:4; stroke-opacity:1; fill:none\" points=\"\n",
       "  302.634,183.882 700.716,691.225 933.579,732.832 1098.8,776.409 1226.95,831.817 1331.66,868.672 1420.19,892.818 1496.88,946.198 1564.52,959.751 1625.03,998.54 \n",
       "  1679.77,1024.37 1729.74,1047.25 1775.71,1048.99 1818.27,1064.42 1857.9,1099.75 1894.96,1123.07 1929.78,1139.79 1962.61,1158.16 1993.66,1168.13 2023.12,1193.55 \n",
       "  2051.14,1188.71 2077.85,1221.34 2103.38,1232.58 2127.82,1260.21 2151.27,1269.36 2173.79,1291.09 2195.47,1292.97 2216.36,1320.23 2236.51,1346.15 2255.98,1342.73 \n",
       "  2274.81,1364.73 2293.04,1386.4 \n",
       "  \"/>\n",
       "<polyline clip-path=\"url(#clip792)\" style=\"stroke:#e26f46; stroke-width:4; stroke-opacity:1; fill:none\" points=\"\n",
       "  302.634,160.256 700.716,610.04 933.579,636.696 1098.8,695.839 1226.95,809.253 1331.66,812.431 1420.19,843.564 1496.88,862.33 1564.52,878.86 1625.03,930.125 \n",
       "  1679.77,970.372 1729.74,1006.22 1775.71,1014.58 1818.27,1005.3 1857.9,1024.1 1894.96,1022.27 1929.78,1043.7 1962.61,1059.89 1993.66,1089.56 2023.12,1122.48 \n",
       "  2051.14,1154.82 2077.85,1203.2 2103.38,1209.79 2127.82,1222.17 2151.27,1234.7 2173.79,1251.2 2195.47,1258.72 2216.36,1275.14 2236.51,1277.13 2255.98,1268.66 \n",
       "  2274.81,1281.63 2293.04,1287.99 \n",
       "  \"/>\n",
       "<polyline clip-path=\"url(#clip792)\" style=\"stroke:#3da44d; stroke-width:4; stroke-opacity:1; fill:none\" points=\"\n",
       "  302.634,183.888 700.716,696.652 933.579,735.852 1098.8,771.485 1226.95,828.29 1331.66,841.193 1420.19,860.319 1496.88,886.853 1564.52,895.305 1625.03,923.283 \n",
       "  1679.77,937.934 1729.74,954.874 1775.71,951.247 1818.27,940.684 1857.9,951.248 1894.96,942.069 1929.78,951.972 1962.61,935.183 1993.66,944.772 2023.12,947.163 \n",
       "  2051.14,950.232 2077.85,960.672 2103.38,952.345 2127.82,950.197 2151.27,947.077 2173.79,947.296 2195.47,946.445 2216.36,955.363 2236.51,955.847 2255.98,941.03 \n",
       "  2274.81,950.017 2293.04,955.118 \n",
       "  \"/>\n",
       "<path clip-path=\"url(#clip790)\" d=\"\n",
       "M1921.01 408.716 L2282.43 408.716 L2282.43 166.796 L1921.01 166.796  Z\n",
       "  \" fill=\"#ffffff\" fill-rule=\"evenodd\" fill-opacity=\"1\"/>\n",
       "<polyline clip-path=\"url(#clip790)\" style=\"stroke:#000000; stroke-width:4; stroke-opacity:1; fill:none\" points=\"\n",
       "  1921.01,408.716 2282.43,408.716 2282.43,166.796 1921.01,166.796 1921.01,408.716 \n",
       "  \"/>\n",
       "<polyline clip-path=\"url(#clip790)\" style=\"stroke:#009af9; stroke-width:4; stroke-opacity:1; fill:none\" points=\"\n",
       "  1944.45,227.276 2085.11,227.276 \n",
       "  \"/>\n",
       "<path clip-path=\"url(#clip790)\" d=\"M 0 0 M2108.55 209.996 L2137.79 209.996 L2137.79 213.931 L2125.52 213.931 L2125.52 244.556 L2120.82 244.556 L2120.82 213.931 L2108.55 213.931 L2108.55 209.996 Z\" fill=\"#000000\" fill-rule=\"evenodd\" fill-opacity=\"1\" /><path clip-path=\"url(#clip790)\" d=\"M 0 0 M2150.31 222.611 Q2149.59 222.195 2148.74 222.01 Q2147.9 221.801 2146.89 221.801 Q2143.27 221.801 2141.33 224.162 Q2139.41 226.5 2139.41 230.898 L2139.41 244.556 L2135.13 244.556 L2135.13 218.63 L2139.41 218.63 L2139.41 222.658 Q2140.75 220.297 2142.9 219.162 Q2145.06 218.005 2148.14 218.005 Q2148.58 218.005 2149.11 218.074 Q2149.64 218.121 2150.29 218.236 L2150.31 222.611 Z\" fill=\"#000000\" fill-rule=\"evenodd\" fill-opacity=\"1\" /><path clip-path=\"url(#clip790)\" d=\"M 0 0 M2154.34 234.324 L2154.34 218.63 L2158.6 218.63 L2158.6 234.162 Q2158.6 237.843 2160.03 239.695 Q2161.47 241.523 2164.34 241.523 Q2167.79 241.523 2169.78 239.324 Q2171.79 237.125 2171.79 233.329 L2171.79 218.63 L2176.05 218.63 L2176.05 244.556 L2171.79 244.556 L2171.79 240.574 Q2170.24 242.935 2168.18 244.093 Q2166.15 245.227 2163.44 245.227 Q2158.97 245.227 2156.65 242.449 Q2154.34 239.671 2154.34 234.324 M2165.06 218.005 L2165.06 218.005 Z\" fill=\"#000000\" fill-rule=\"evenodd\" fill-opacity=\"1\" /><path clip-path=\"url(#clip790)\" d=\"M 0 0 M2202.7 230.528 L2202.7 232.611 L2183.11 232.611 Q2183.39 237.009 2185.75 239.324 Q2188.14 241.616 2192.37 241.616 Q2194.83 241.616 2197.12 241.014 Q2199.43 240.412 2201.7 239.209 L2201.7 243.236 Q2199.41 244.208 2197 244.718 Q2194.59 245.227 2192.12 245.227 Q2185.91 245.227 2182.28 241.616 Q2178.67 238.005 2178.67 231.847 Q2178.67 225.482 2182.09 221.755 Q2185.54 218.005 2191.38 218.005 Q2196.61 218.005 2199.64 221.385 Q2202.7 224.741 2202.7 230.528 M2198.44 229.278 Q2198.39 225.783 2196.47 223.699 Q2194.57 221.616 2191.42 221.616 Q2187.86 221.616 2185.71 223.63 Q2183.58 225.644 2183.25 229.301 L2198.44 229.278 Z\" fill=\"#000000\" fill-rule=\"evenodd\" fill-opacity=\"1\" /><polyline clip-path=\"url(#clip790)\" style=\"stroke:#e26f46; stroke-width:4; stroke-opacity:1; fill:none\" points=\"\n",
       "  1944.45,287.756 2085.11,287.756 \n",
       "  \"/>\n",
       "<path clip-path=\"url(#clip790)\" d=\"M 0 0 M2124.94 288.832 Q2126.45 289.341 2127.86 291.008 Q2129.29 292.675 2130.73 295.591 L2135.47 305.036 L2130.45 305.036 L2126.03 296.17 Q2124.32 292.698 2122.7 291.564 Q2121.1 290.429 2118.32 290.429 L2113.23 290.429 L2113.23 305.036 L2108.55 305.036 L2108.55 270.476 L2119.11 270.476 Q2125.03 270.476 2127.95 272.953 Q2130.87 275.429 2130.87 280.429 Q2130.87 283.693 2129.34 285.846 Q2127.84 287.999 2124.94 288.832 M2113.23 274.318 L2113.23 286.587 L2119.11 286.587 Q2122.49 286.587 2124.2 285.036 Q2125.94 283.462 2125.94 280.429 Q2125.94 277.397 2124.2 275.869 Q2122.49 274.318 2119.11 274.318 L2113.23 274.318 Z\" fill=\"#000000\" fill-rule=\"evenodd\" fill-opacity=\"1\" /><path clip-path=\"url(#clip790)\" d=\"M 0 0 M2159.99 291.008 L2159.99 293.091 L2140.4 293.091 Q2140.68 297.489 2143.04 299.804 Q2145.43 302.096 2149.66 302.096 Q2152.12 302.096 2154.41 301.494 Q2156.72 300.892 2158.99 299.689 L2158.99 303.716 Q2156.7 304.688 2154.29 305.198 Q2151.89 305.707 2149.41 305.707 Q2143.21 305.707 2139.57 302.096 Q2135.96 298.485 2135.96 292.327 Q2135.96 285.962 2139.39 282.235 Q2142.84 278.485 2148.67 278.485 Q2153.9 278.485 2156.93 281.865 Q2159.99 285.221 2159.99 291.008 M2155.73 289.758 Q2155.68 286.263 2153.76 284.179 Q2151.86 282.096 2148.71 282.096 Q2145.15 282.096 2143 284.11 Q2140.87 286.124 2140.54 289.781 L2155.73 289.758 Z\" fill=\"#000000\" fill-rule=\"evenodd\" fill-opacity=\"1\" /><path clip-path=\"url(#clip790)\" d=\"M 0 0 M2183.11 280.105 L2183.11 284.087 Q2181.31 283.091 2179.48 282.605 Q2177.67 282.096 2175.82 282.096 Q2171.68 282.096 2169.39 284.735 Q2167.09 287.351 2167.09 292.096 Q2167.09 296.841 2169.39 299.48 Q2171.68 302.096 2175.82 302.096 Q2177.67 302.096 2179.48 301.61 Q2181.31 301.101 2183.11 300.105 L2183.11 304.04 Q2181.33 304.874 2179.41 305.29 Q2177.51 305.707 2175.36 305.707 Q2169.5 305.707 2166.05 302.026 Q2162.6 298.346 2162.6 292.096 Q2162.6 285.753 2166.08 282.119 Q2169.57 278.485 2175.64 278.485 Q2177.6 278.485 2179.48 278.902 Q2181.35 279.295 2183.11 280.105 Z\" fill=\"#000000\" fill-rule=\"evenodd\" fill-opacity=\"1\" /><path clip-path=\"url(#clip790)\" d=\"M 0 0 M2197.63 282.096 Q2194.2 282.096 2192.21 284.781 Q2190.22 287.443 2190.22 292.096 Q2190.22 296.749 2192.19 299.434 Q2194.18 302.096 2197.63 302.096 Q2201.03 302.096 2203.02 299.411 Q2205.01 296.726 2205.01 292.096 Q2205.01 287.49 2203.02 284.804 Q2201.03 282.096 2197.63 282.096 M2197.63 278.485 Q2203.18 278.485 2206.35 282.096 Q2209.52 285.707 2209.52 292.096 Q2209.52 298.462 2206.35 302.096 Q2203.18 305.707 2197.63 305.707 Q2192.05 305.707 2188.88 302.096 Q2185.73 298.462 2185.73 292.096 Q2185.73 285.707 2188.88 282.096 Q2192.05 278.485 2197.63 278.485 Z\" fill=\"#000000\" fill-rule=\"evenodd\" fill-opacity=\"1\" /><path clip-path=\"url(#clip790)\" d=\"M 0 0 M2235.54 289.388 L2235.54 305.036 L2231.28 305.036 L2231.28 289.527 Q2231.28 285.846 2229.85 284.017 Q2228.41 282.189 2225.54 282.189 Q2222.09 282.189 2220.1 284.388 Q2218.11 286.587 2218.11 290.383 L2218.11 305.036 L2213.83 305.036 L2213.83 279.11 L2218.11 279.11 L2218.11 283.138 Q2219.64 280.8 2221.7 279.642 Q2223.78 278.485 2226.49 278.485 Q2230.96 278.485 2233.25 281.263 Q2235.54 284.017 2235.54 289.388 Z\" fill=\"#000000\" fill-rule=\"evenodd\" fill-opacity=\"1\" /><polyline clip-path=\"url(#clip790)\" style=\"stroke:#3da44d; stroke-width:4; stroke-opacity:1; fill:none\" points=\"\n",
       "  1944.45,348.236 2085.11,348.236 \n",
       "  \"/>\n",
       "<path clip-path=\"url(#clip790)\" d=\"M 0 0 M2108.55 330.956 L2113.23 330.956 L2113.23 365.516 L2108.55 365.516 L2108.55 330.956 Z\" fill=\"#000000\" fill-rule=\"evenodd\" fill-opacity=\"1\" /><path clip-path=\"url(#clip790)\" d=\"M 0 0 M2139.25 349.868 L2139.25 365.516 L2134.99 365.516 L2134.99 350.007 Q2134.99 346.326 2133.55 344.497 Q2132.12 342.669 2129.25 342.669 Q2125.8 342.669 2123.81 344.868 Q2121.82 347.067 2121.82 350.863 L2121.82 365.516 L2117.53 365.516 L2117.53 339.59 L2121.82 339.59 L2121.82 343.618 Q2123.34 341.28 2125.4 340.122 Q2127.49 338.965 2130.2 338.965 Q2134.66 338.965 2136.96 341.743 Q2139.25 344.497 2139.25 349.868 Z\" fill=\"#000000\" fill-rule=\"evenodd\" fill-opacity=\"1\" /><path clip-path=\"url(#clip790)\" d=\"M 0 0 M2143.71 339.59 L2147.97 339.59 L2147.97 365.516 L2143.71 365.516 L2143.71 339.59 M2143.71 329.497 L2147.97 329.497 L2147.97 334.891 L2143.71 334.891 L2143.71 329.497 Z\" fill=\"#000000\" fill-rule=\"evenodd\" fill-opacity=\"1\" /><path clip-path=\"url(#clip790)\" d=\"M 0 0 M2156.65 332.229 L2156.65 339.59 L2165.43 339.59 L2165.43 342.9 L2156.65 342.9 L2156.65 356.974 Q2156.65 360.145 2157.51 361.048 Q2158.39 361.951 2161.05 361.951 L2165.43 361.951 L2165.43 365.516 L2161.05 365.516 Q2156.12 365.516 2154.25 363.687 Q2152.37 361.835 2152.37 356.974 L2152.37 342.9 L2149.25 342.9 L2149.25 339.59 L2152.37 339.59 L2152.37 332.229 L2156.65 332.229 Z\" fill=\"#000000\" fill-rule=\"evenodd\" fill-opacity=\"1\" /></svg>\n"
      ]
     },
     "execution_count": 56,
     "metadata": {},
     "output_type": "execute_result"
    }
   ],
   "source": [
    "kbins=convert(Array{Float64}, collect(1:32))\n",
    "true_ps = calc_1dps(apodizer(gttarget[\"true_img\"]), kbins)\n",
    "recon_ps = calc_1dps(apodizer(gttarget[\"recon\"]), kbins)\n",
    "init_ps = calc_1dps(apodizer(gttarget[\"init\"]), kbins)\n",
    "p = plot(log.(kbins), log.(true_ps), label=\"True\")\n",
    "plot!(log.(kbins), log.(recon_ps), label=\"Recon\")\n",
    "plot!(log.(kbins), log.(init_ps), label=\"Init\")\n",
    "plot!(title=\"FullCov Noiso: P(k) of Image\")\n",
    "xlabel!(\"lnk\")\n",
    "ylabel!(\"lnP(k)\")"
   ]
  },
  {
   "cell_type": "code",
   "execution_count": null,
   "metadata": {},
   "outputs": [],
   "source": []
  }
 ],
 "metadata": {
  "kernelspec": {
   "display_name": "Julia 1.5.3",
   "language": "julia",
   "name": "julia-1.5"
  },
  "language_info": {
   "file_extension": ".jl",
   "mimetype": "application/julia",
   "name": "julia",
   "version": "1.5.3"
  }
 },
 "nbformat": 4,
 "nbformat_minor": 2
}
