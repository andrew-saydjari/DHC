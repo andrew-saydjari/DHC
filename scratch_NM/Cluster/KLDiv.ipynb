{
 "cells": [
  {
   "cell_type": "code",
   "execution_count": 1,
   "metadata": {},
   "outputs": [],
   "source": [
    "using Pkg"
   ]
  },
  {
   "cell_type": "code",
   "execution_count": 2,
   "metadata": {},
   "outputs": [
    {
     "name": "stderr",
     "output_type": "stream",
     "text": [
      "\u001b[32m\u001b[1m   Updating\u001b[22m\u001b[39m registry at `~/.julia/registries/General`\n",
      "######################################################################### 100.0%           71.4%\n",
      "\u001b[32m\u001b[1m  Resolving\u001b[22m\u001b[39m package versions...\n",
      "\u001b[32m\u001b[1mUpdating\u001b[22m\u001b[39m `~/.julia/environments/v1.5/Project.toml`\n",
      " \u001b[90m [8ba89e20] \u001b[39m\u001b[92m+ Distributed\u001b[39m\n",
      "\u001b[32m\u001b[1mNo Changes\u001b[22m\u001b[39m to `~/.julia/environments/v1.5/Manifest.toml`\n"
     ]
    }
   ],
   "source": [
    "Pkg.add(\"Distributed\")"
   ]
  },
  {
   "cell_type": "code",
   "execution_count": null,
   "metadata": {},
   "outputs": [],
   "source": [
    "using Statistics\n",
    "using Plots\n",
    "using FFTW\n",
    "using Statistics\n",
    "using Optim\n",
    "using Images, FileIO, ImageIO\n",
    "using Printf\n",
    "using Revise\n",
    "using Profile\n",
    "using LinearAlgebra\n",
    "using JLD2\n",
    "using Random\n",
    "using Distributions\n",
    "using FITSIO\n",
    "using SparseArrays"
   ]
  },
  {
   "cell_type": "code",
   "execution_count": null,
   "metadata": {},
   "outputs": [],
   "source": [
    "push!(LOAD_PATH, pwd()*\"/../../main\")\n",
    "using DHC_2DUtils\n",
    "push!(LOAD_PATH, pwd()*\"/../../scratch_NM\")\n",
    "using Deriv_Utils_New\n",
    "using Data_Utils\n",
    "using Visualization\n",
    "using ReconFuncs"
   ]
  },
  {
   "cell_type": "code",
   "execution_count": null,
   "metadata": {},
   "outputs": [],
   "source": [
    "function kldiv_from_samples(samps, qGaussian)\n",
    "    #size(samps) = (Nsamp, Ndim)\n",
    "    #qGaussian is a function which acts on each row of samps\n",
    "    #MC estimate of KLP||Q: cant do this naively\n",
    "    Nsamps = size(samps)[1]\n",
    "    logqeval = zeros(Nsamps)\n",
    "    for s=1:Nsamps\n",
    "        logqeval[s] = qGaussian(s)\n",
    "    end\n",
    "    logpeval = fill(-log.(Nsamps), Nsamps)\n",
    "    kld = sum(peval .- qeval)./Nsamps\n",
    "    return kld\n",
    "end"
   ]
  },
  {
   "cell_type": "code",
   "execution_count": null,
   "metadata": {},
   "outputs": [],
   "source": [
    "function Gaussian_expr(meantarg, invcov)\n",
    "    function Gwrapper(x)\n",
    "        return -0.5.* (x- meantarg)' * invcov * (x- meantarg)\n",
    "    end\n",
    "    return Gwrapper\n",
    "end\n",
    "\n"
   ]
  },
  {
   "cell_type": "code",
   "execution_count": null,
   "metadata": {},
   "outputs": [],
   "source": [
    "#=function expr(b)\n",
    "    function wrapper(a)\n",
    "        return a+b\n",
    "    end\n",
    "    return wrapper\n",
    "end\n",
    "func = expr(3)\n",
    "func(2)=#"
   ]
  },
  {
   "cell_type": "markdown",
   "metadata": {},
   "source": [
    "### S20, Iso, SFDTarg, SFDCov, Diagonal"
   ]
  },
  {
   "cell_type": "code",
   "execution_count": null,
   "metadata": {},
   "outputs": [],
   "source": [
    "Nx=64\n",
    "im = readsfd(Nx)\n",
    "true_img = im[:, :, 1]\n",
    "\n",
    "noise = rand(Normal(0.0, std(true_img)), Nx, Nx)\n",
    "init = true_img + noise\n",
    "#heatmap(init)\n",
    "#heatmap(true_img)\n",
    "\n",
    "filter_hash = fink_filter_hash(1, 8, nx=Nx, pc=1, wd=1, Omega=true)\n",
    "(S1iso, Nf) = size(filter_hash[\"S1_iso_mat\"])\n",
    "(S2iso, Nfsq) = size(filter_hash[\"S2_iso_mat\"])\n",
    "dhc_args = Dict(:doS2=>false, :doS12=>false, :doS20=>true, :apodize=>true, :iso=>true) #Iso #CHANGE: Change sig for the sfd data since the noise model is super high and the tiny values make sense\n",
    "if dhc_args[:iso]\n",
    "    coeff_mask = falses(2+S1iso+S2iso)\n",
    "    coeff_mask[S1iso+3:end] .= true\n",
    "else #Not iso\n",
    "    coeff_mask = falses(2+Nf+Nf^2)\n",
    "    coeff_mask[Nf+3:end] .= true\n",
    "end\n",
    "\n",
    "white_noise_args = Dict(:loc=>0.0, :sig=>std(true_img), :Nsam=>1000, :norm=>false, :smooth=>false, :smoothval=>0.8) #Iso #only if you're using noise based covar\n",
    "optim_settings = Dict([(\"iterations\", 1000), (\"norm\", false), (\"minmethod\", ConjugateGradient())])\n",
    "recon_settings = Dict([(\"target_type\", \"sfd_dbn\"), (\"covar_type\", \"sfd_dbn\"), (\"log\", true), (\"GaussianLoss\", true), (\"Invcov_matrix\", \"Diagonal+Eps\"),\n",
    "  (\"optim_settings\", optim_settings), (\"lambda\", 0.00456), (\"white_noise_args\", white_noise_args)]) #Add constraints\n",
    "regs_true = DHC_compute_wrapper(log.(true_img), filter_hash; norm=false, dhc_args...)[coeff_mask]\n",
    "s2mean, s2icov = meancov_generator(true_img, filter_hash, dhc_args, coeff_mask, recon_settings, safety=nothing)\n"
   ]
  },
  {
   "cell_type": "code",
   "execution_count": 10,
   "metadata": {},
   "outputs": [
    {
     "data": {
      "text/plain": [
       "5"
      ]
     },
     "execution_count": 10,
     "metadata": {},
     "output_type": "execute_result"
    }
   ],
   "source": [
    "qg = Gaussian_expr(s2mean, s2icov)"
   ]
  },
  {
   "cell_type": "code",
   "execution_count": null,
   "metadata": {},
   "outputs": [],
   "source": [
    "Nx=64\n",
    "im = readsfd(Nx)\n",
    "true_img = im[:, :, 1]\n",
    "\n",
    "noise = rand(Normal(0.0, std(true_img)), Nx, Nx)\n",
    "init = true_img + noise\n",
    "#heatmap(init)\n",
    "#heatmap(true_img)\n",
    "\n",
    "filter_hash = fink_filter_hash(1, 8, nx=Nx, pc=1, wd=1, Omega=true)\n",
    "(S1iso, Nf) = size(filter_hash[\"S1_iso_mat\"])\n",
    "(S2iso, Nfsq) = size(filter_hash[\"S2_iso_mat\"])\n",
    "dhc_args = Dict(:doS2=>false, :doS12=>false, :doS20=>true, :apodize=>true, :iso=>true) #Iso #CHANGE: Change sig for the sfd data since the noise model is super high and the tiny values make sense\n",
    "if dhc_args[:iso]\n",
    "    coeff_mask = falses(2+S1iso+S2iso)\n",
    "    coeff_mask[S1iso+3:end] .= true\n",
    "else #Not iso\n",
    "    coeff_mask = falses(2+Nf+Nf^2)\n",
    "    coeff_mask[Nf+3:end] .= true\n",
    "end\n",
    "\n",
    "white_noise_args = Dict(:loc=>0.0, :sig=>std(true_img), :Nsam=>1000, :norm=>false, :smooth=>false, :smoothval=>0.8) #Iso #only if you're using noise based covar\n",
    "optim_settings = Dict([(\"iterations\", 1000), (\"norm\", false), (\"minmethod\", ConjugateGradient())])\n",
    "recon_settings = Dict([(\"target_type\", \"sfd_dbn\"), (\"covar_type\", \"sfd_dbn\"), (\"log\", true), (\"GaussianLoss\", true), (\"Invcov_matrix\", \"Full+Eps\"),\n",
    "  (\"optim_settings\", optim_settings), (\"lambda\", 0.00456), (\"white_noise_args\", white_noise_args)]) #Add constraints\n",
    "regs_true = DHC_compute_wrapper(log.(true_img), filter_hash; norm=false, dhc_args...)[coeff_mask]\n",
    "s2mean, s2icov = meancov_generator(true_img, filter_hash, dhc_args, coeff_mask, recon_settings, safety=nothing)\n"
   ]
  }
 ],
 "metadata": {
  "kernelspec": {
   "display_name": "Julia 1.5.1",
   "language": "julia",
   "name": "julia-1.5"
  },
  "language_info": {
   "file_extension": ".jl",
   "mimetype": "application/julia",
   "name": "julia",
   "version": "1.5.1"
  }
 },
 "nbformat": 4,
 "nbformat_minor": 2
}
