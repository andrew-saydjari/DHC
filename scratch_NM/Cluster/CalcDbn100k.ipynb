{
 "cells": [
  {
   "cell_type": "code",
   "execution_count": null,
   "metadata": {},
   "outputs": [],
   "source": [
    "using Statistics\n",
    "using Plots\n",
    "using FFTW\n",
    "using Statistics\n",
    "using Optim\n",
    "using Images, FileIO, ImageIO\n",
    "using Printf\n",
    "using Revise\n",
    "using Profile\n",
    "using LinearAlgebra\n",
    "using JLD2\n",
    "using Random\n",
    "using Distributions\n",
    "using FITSIO\n",
    "using SparseArrays"
   ]
  },
  {
   "cell_type": "code",
   "execution_count": null,
   "metadata": {},
   "outputs": [],
   "source": [
    "push!(LOAD_PATH, pwd()*\"/../../main\")\n",
    "using DHC_2DUtils\n",
    "push!(LOAD_PATH, pwd()*\"/../../scratch_NM\")\n",
    "using Deriv_Utils_New\n",
    "using Data_Utils\n",
    "using Visualization\n",
    "using ReconFuncs"
   ]
  },
  {
   "cell_type": "code",
   "execution_count": null,
   "metadata": {},
   "outputs": [],
   "source": [
    "#log, apd, not-iso\n",
    "direc = \"../StandardizedExp/Nx64/noisy_stdtrue/\" #Change\n",
    "datfile = direc * \"Data_\" * string(1) * \".jld2\" #Replace w SLURM array\n",
    "loaddf = load(datfile)\n",
    "true_img = loaddf[\"true_img\"]\n",
    "init = loaddf[\"init\"]\n",
    "\n",
    "fname_save = direc * \"SFDTargSFDCov/log_apd_noiso/test_1\"\n",
    "Nx=size(true_img)[1]\n",
    "filter_hash = fink_filter_hash(1, 8, nx=Nx, pc=1, wd=1, Omega=true)\n",
    "(S1iso, Nf) = size(filter_hash[\"S1_iso_mat\"])\n",
    "(S2iso, Nfsq) = size(filter_hash[\"S2_iso_mat\"])\n",
    "dhc_args = Dict(:doS2=>false, :doS12=>false, :doS20=>true, :apodize=>true, :iso=>false) #Iso #CHANGE: Change sig for the sfd data since the noise model is super high and the tiny values make sense\n",
    "if dhc_args[:iso]\n",
    "    coeff_mask = falses(2+S1iso+S2iso)\n",
    "    coeff_mask[S1iso+3:end] .= true\n",
    "else #Not iso\n",
    "    coeff_mask = falses(2+Nf+Nf^2)\n",
    "    coeff_mask[Nf+3:end] .= true\n",
    "end\n",
    "\n",
    "white_noise_args = Dict(:loc=>0.0, :sig=>std(true_img), :Nsam=>1000, :norm=>false, :smooth=>false, :smoothval=>0.8) #Iso #only if you're using noise based covar\n",
    "optim_settings = Dict([(\"iterations\", 1000), (\"norm\", false), (\"minmethod\", ConjugateGradient())])\n",
    "recon_settings = Dict([(\"target_type\", \"sfd_dbn\"), (\"covar_type\", \"sfd_dbn\"), (\"log\", true), (\"GaussianLoss\", true), (\"Invcov_matrix\", \"Diagonal+Eps\"),\n",
    "  (\"optim_settings\", optim_settings), (\"white_noise_args\", white_noise_args)]) #Add constraints\n",
    "\n",
    "recon_settings[\"datafile\"] = datfile \n",
    "if recon_settings[\"log\"] & dhc_args[:apodize]\n",
    "    lval = std(apodizer(log.(true_img)))\n",
    "elseif !recon_settings[\"log\"] & dhc_args[:apodize]\n",
    "    lval = std(apodizer(true_img))\n",
    "elseif recon_settings[\"log\"] & !dhc_args[:apodize]\n",
    "    lval = std(log.(true_img))\n",
    "else\n",
    "    lval = std(true_img)\n",
    "end\n",
    "\n",
    "recon_settings[\"lambda\"] = lval\n",
    "regs_true = DHC_compute_wrapper(log.(true_img), filter_hash; norm=false, dhc_args...)[coeff_mask]\n",
    "s2mean, s2icov = meancov_generator(true_img, filter_hash, dhc_args, coeff_mask, recon_settings, safety=nothing)\n",
    "#Check\n",
    "#s2mean - s_true\n",
    "\n",
    "recon_settings[\"s_targ_mean\"] = s2mean\n",
    "recon_settings[\"s_invcov\"] = s2icov\n",
    "recon_settings[\"safemode\"] = false\n",
    "recon_settings[\"fname_save\"] = fname_save * \".jld2\"\n",
    "recon_settings[\"optim_settings\"] = optim_settings\n",
    "resobj, recon_img = reconstruction_wrapper(true_img, init, filter_hash, dhc_args, coeff_mask, recon_settings)\n",
    "\n",
    "p= plot([t.value for t in Optim.trace(resobj)])\n",
    "plot!(title=\"Loss: S20 | Targ = S(SFD) | Cov = SFD Covariance\", xlabel = \"No. Iterations\", ylabel = \"Loss\")\n",
    "savefig(p, fname_save * \"_trace.png\")\n",
    "\n",
    "Visualization.plot_diffscales([apodizer(true_img), apodizer(init), apodizer(recon_img), apodizer(recon_img) - apodizer(true_img)], [\"GT\", \"Init\", \"Reconstruction\", \"Residual\"], fname=fname_save*\".png\")\n",
    "Visualization.plot_synth_QA(apodizer(true_img), apodizer(init), apodizer(recon_img), fname=fname_save*\"_6p.png\")\n",
    "\n",
    "println(\"Mean Abs Res: Init-True = \", mean(abs.(init - true_img)), \" Recon-True = \", mean(abs.(recon_img - true_img)))\n",
    "println(\"Mean Abs Frac Res\", mean(abs.((init - true_img)./true_img)), \" Recon-True=\", mean(abs.((recon_img - true_img)./true_img)))\n"
   ]
  },
  {
   "cell_type": "code",
   "execution_count": 16,
   "metadata": {},
   "outputs": [
    {
     "ename": "LoadError",
     "evalue": "\u001b[91mUndefVarError: apodize not defined\u001b[39m",
     "output_type": "error",
     "traceback": [
      "\u001b[91mUndefVarError: apodize not defined\u001b[39m",
      "",
      "Stacktrace:",
      " [1] top-level scope at In[16]:1",
      " [2] include_string(::Function, ::Module, ::String, ::String) at ./loading.jl:1091"
     ]
    }
   ],
   "source": []
  },
  {
   "cell_type": "code",
   "execution_count": null,
   "metadata": {},
   "outputs": [],
   "source": []
  }
 ],
 "metadata": {
  "kernelspec": {
   "display_name": "Julia 1.5.1",
   "language": "julia",
   "name": "julia-1.5"
  },
  "language_info": {
   "file_extension": ".jl",
   "mimetype": "application/julia",
   "name": "julia",
   "version": "1.5.1"
  }
 },
 "nbformat": 4,
 "nbformat_minor": 2
}
